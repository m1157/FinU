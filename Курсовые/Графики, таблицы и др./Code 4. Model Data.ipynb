{
 "cells": [
  {
   "cell_type": "markdown",
   "id": "93929d60",
   "metadata": {},
   "source": [
    "# 4. Модельные данные"
   ]
  },
  {
   "cell_type": "markdown",
   "id": "d1f2b339",
   "metadata": {},
   "source": [
    "### Подключение необходимых библиотек"
   ]
  },
  {
   "cell_type": "code",
   "execution_count": 14,
   "id": "13ba5b53",
   "metadata": {},
   "outputs": [],
   "source": [
    "import numpy as np\n",
    "import pandas as pd\n",
    "import statistics as sts\n",
    "import scipy.stats as stats\n",
    "import matplotlib.pyplot as plt\n",
    "import csv\n",
    "import math"
   ]
  },
  {
   "cell_type": "markdown",
   "id": "9605d961",
   "metadata": {},
   "source": [
    "### Фиксирование данных "
   ]
  },
  {
   "cell_type": "code",
   "execution_count": 15,
   "id": "e2b5e789",
   "metadata": {},
   "outputs": [],
   "source": [
    "# Объем выборки значений за год\n",
    "n_days = 252\n",
    "# Количество испытаний\n",
    "n_iter = 10000\n",
    "# Параметры нормального распределения\n",
    "loc = 0\n",
    "scale = 1\n",
    "# Уровень значимости\n",
    "alpha = 0.05\n",
    "# Пустой список P-значений\n",
    "p_values_list = []"
   ]
  },
  {
   "cell_type": "markdown",
   "id": "cec64b1a",
   "metadata": {},
   "source": [
    "### Функция для оценки параметров $\\mu$ и $\\sigma$ получаемой выборки "
   ]
  },
  {
   "cell_type": "code",
   "execution_count": 16,
   "id": "65c3a870",
   "metadata": {},
   "outputs": [],
   "source": [
    "def param_estimation(sample):\n",
    "    # Сортируем по возрастанию полученную выборку \n",
    "    sample.sort()\n",
    "    # Объём выборки\n",
    "    length = len(sample)\n",
    "    # Считаем количество интервалов, на которые мы разобьём выборку\n",
    "    log = math.log2(len(sample))\n",
    "    k = int(1 + log)\n",
    "    # Создаём список для центральных точек для каждого полученного интервала\n",
    "    cpoint = [min(sample)]\n",
    "    # Определяем шаг для прохождению по выборке\n",
    "    step = (max(sample) - min(sample))/k\n",
    "    \n",
    "    # Создаём список для данных для каждого полученного интервала\n",
    "    segment_list = []\n",
    "    # Заполняем созданный список\n",
    "    segment_list.append([part for part in sample if part < step/2 + cpoint[-1]])\n",
    "    for i in range(1, k):\n",
    "        cpoint.append(cpoint[0] + step * (i-1))\n",
    "        segment_list.append([x for x in sample if cpoint[-1] - step/2 < x < cpoint[-1] + step/2])\n",
    "    cpoint.append(cpoint[0] + step * (k - 1))    \n",
    "    segment_list.append([part for part in sample if part > cpoint[-1] - step/2])\n",
    "    \n",
    "    # Получаем список частот (кол-ва элементов в каждом интервале)\n",
    "    freq = [len(part) for part in segment_list]\n",
    "    \n",
    "    # Считаем значение мат.ожидания в 1-м приближении (по формуле из теор.справки)\n",
    "    loc = 0\n",
    "    for value in range(len(freq)):\n",
    "        loc += freq[value] * cpoint[value]\n",
    "    loc = loc/length\n",
    "    \n",
    "    # Считаем значение ст.отклонения в 1-м приближении (по формуле из теор.справки)\n",
    "    scale = 0\n",
    "    for value in range(len(freq)):\n",
    "        scale += freq[value] * (cpoint[value] - loc)**2\n",
    "    scale = (scale/length)**(1/2)\n",
    "    \n",
    "    # Вывод мат.ожидания, ст.отклонения, списка частот и списка центр.точек\n",
    "    return loc, scale, freq, cpoint"
   ]
  },
  {
   "cell_type": "markdown",
   "id": "2e48d562",
   "metadata": {},
   "source": [
    "### Функция для вычисления статистики и P-значения критерия χ² Пирсона"
   ]
  },
  {
   "cell_type": "code",
   "execution_count": 17,
   "id": "3436244b",
   "metadata": {},
   "outputs": [],
   "source": [
    "def ChiSquare(n_days):\n",
    "    # Генерируем выборку из нормального распределения объемом n\n",
    "    sample = np.random.normal(loc, scale, size=n_days)\n",
    "    # Считаем количество интервалов, на которые мы разобьём выборку\n",
    "    log = math.log2(len(sample))\n",
    "    k = int(1 + log)\n",
    "    # Определяем шаг для прохождению по выборке\n",
    "    step = (max(sample) - min(sample))/k\n",
    "    # Получаем необходимые характеристики \n",
    "    mu, sigma, frequency, cpoint = param_estimation(sample)\n",
    "    # Создаём распределение для сравнения его со случайной выборкой \n",
    "    expected = stats.norm(mu, sigma)\n",
    "    \n",
    "    # Создаём список вероятностей попадания значений в полученные интервалы\n",
    "    p_list = []\n",
    "    # Заполняем созданный список\n",
    "    p_list.append(expected.cdf(cpoint[0] + step/2))\n",
    "    for value in range(1, len(cpoint)-1):\n",
    "        p_list.append((expected.cdf(cpoint[value] + step/2)-expected.cdf(cpoint[value] - step/2)))\n",
    "    p_list.append(1-expected.cdf(cpoint[-1] - step/2))\n",
    "\n",
    "    # Получения статистики χ²\n",
    "    chi_sqare_stat = 0\n",
    "    # Создаём список для заполнения i-ми статистиками\n",
    "    statistics_list = []\n",
    "    for i in range(len(p_list)):\n",
    "        statistics_list.append(((frequency[i] - n_days * p_list[i])**2) / (n_days * p_list[i]))\n",
    "        chi_sqare_stat += statistics_list[i]\n",
    "    # Получения p-values χ²\n",
    "    chi_sqare_pvalue = (stats.chi2(len(frequency)-3).sf(chi_sqare_stat))\n",
    "    \n",
    "    # Вывод статистики и P-значения критерия χ²\n",
    "    return chi_sqare_stat, chi_sqare_pvalue"
   ]
  },
  {
   "cell_type": "markdown",
   "id": "f9ef0b25",
   "metadata": {},
   "source": [
    "### Нахождение квантилей"
   ]
  },
  {
   "cell_type": "code",
   "execution_count": 18,
   "id": "63a76039",
   "metadata": {},
   "outputs": [],
   "source": [
    "# Создаём пустые DataFrame-ы для заполнения квантилями\n",
    "q9_df, q999_df = pd.DataFrame(), pd.DataFrame()\n",
    "\n",
    "# Вычисляем значения статистики 10.000 раз\n",
    "chi_sqare_test = [ChiSquare(n_days) for i in range(n_iter)]\n",
    "\n",
    "# Заполняем списки значений статистики и p-значений χ²\n",
    "statistics_list =  [x[0] for x in chi_sqare_test]\n",
    "p_values_list = [x[1] for x in chi_sqare_test]\n",
    "    \n",
    "# Вычисление квантилей статистики\n",
    "quantiles_999 = np.quantile(statistics_list, np.arange(0.001, 1, 0.001))\n",
    "quantiles_9 = np.quantile(statistics_list, np.arange(0.1, 1, 0.1))\n",
    "    \n",
    "# Вычисление квантилей p-значений\n",
    "pv_quantiles_999 = np.quantile(p_values_list, np.arange(0.001, 1, 0.001))\n",
    "    \n",
    "# Формирование DataFrame 9 квантилей статистики\n",
    "q9_df['Quantile'] = [value for value in list(np.arange(0.1, 1, 0.1))]\n",
    "q9_df['Value'] = np.round(quantiles_9,6)\n",
    "q9_df.set_index('Quantile',inplace = True)\n",
    "\n",
    "# Формирование DataFrame 999 квантилей статистики\n",
    "q999_df['Quantile'] = [value for value in list(np.arange(0.001, 1, 0.001))]\n",
    "q999_df['Value'] = np.round(quantiles_999,6)\n",
    "q999_df.set_index('Quantile',inplace = True)"
   ]
  },
  {
   "cell_type": "markdown",
   "id": "75f20118",
   "metadata": {},
   "source": [
    "### 9 квантилей статистики"
   ]
  },
  {
   "cell_type": "code",
   "execution_count": 19,
   "id": "94ce83d7",
   "metadata": {},
   "outputs": [],
   "source": [
    "# q9_df - Вывод таблицы 9 квантилей статистики"
   ]
  },
  {
   "cell_type": "markdown",
   "id": "d4011419",
   "metadata": {},
   "source": [
    "### Сохраним данные в csv-файле "
   ]
  },
  {
   "cell_type": "code",
   "execution_count": 20,
   "id": "b4c03fe2",
   "metadata": {},
   "outputs": [],
   "source": [
    "path_first = \"Таблица 5. Значения статистики модельных данных.csv\"\n",
    "path_second = f\"Таблица 6. 999 квантилей модельных данных, n = {n_days}.csv\"\n",
    "path_third = f\"Таблица 7. 9 квантилей модельных данных, n = {n_days}.csv\"\n",
    "\n",
    "def wr_csv(path, data, name, quantity):\n",
    "    line = [[name]]\n",
    "    with open(path, \"w\", newline='') as csv_file:\n",
    "        writer = csv.writer(csv_file,delimiter=';')\n",
    "        writer.writerows(line)\n",
    "        for i in  range(quantity):\n",
    "            line = [[]]\n",
    "            if name== '999 Квантилей': line[0].append(str((i+1)/1000).replace('.', ','))\n",
    "            if name== '9 Квантилей': line[0].append(str((i+1)/10).replace('.', ','))\n",
    "            if name== '9 Квантилей': line[0].append(str((i+1)/10).replace('.', ','))\n",
    "            line[0].append(str(data[i]).replace('.', ','))\n",
    "            writer.writerows(line)"
   ]
  },
  {
   "cell_type": "code",
   "execution_count": 21,
   "id": "c0583d00",
   "metadata": {},
   "outputs": [],
   "source": [
    "wr_csv(path_first, statistics_list, 'Значения статистики',n_days)\n",
    "wr_csv(path_second, quantiles_999, '999 Квантилей',999)\n",
    "wr_csv(path_third, quantiles_9, '9 Квантилей',9)"
   ]
  },
  {
   "cell_type": "markdown",
   "id": "4a6e08d8",
   "metadata": {},
   "source": [
    "### Подготовка таблицы P-значений, вычисляемых вручную"
   ]
  },
  {
   "cell_type": "code",
   "execution_count": 22,
   "id": "2ab1125b",
   "metadata": {},
   "outputs": [],
   "source": [
    "# Вычисляем P-значения 10.000 раз\n",
    "chi_sqare_test = [ChiSquare(n_days)[0] for i in range(n_iter)]\n",
    "# Вычисление квантилей статистики\n",
    "quantiles_999 = np.quantile(chi_sqare_test, np.arange(0.001, 1, 0.001))\n",
    "\n",
    "# Пустой список для P-значений\n",
    "p_values_list = []\n",
    "# Функция для вычисления P-значений вручную\n",
    "for iteration in range(n_iter):\n",
    "    value_0 = ChiSquare(n_days)[0]\n",
    "    counter = 0\n",
    "    for value in range(len(quantiles_999)):\n",
    "        if quantiles_999[value] > value_0: \n",
    "            counter = counter + 1\n",
    "    p_values_list.append(counter/len(quantiles_999))"
   ]
  },
  {
   "cell_type": "markdown",
   "id": "cc889a3e",
   "metadata": {},
   "source": [
    "### Вывод гистограммы P-значений "
   ]
  },
  {
   "cell_type": "code",
   "execution_count": 23,
   "id": "7c548e51",
   "metadata": {
    "scrolled": false
   },
   "outputs": [
    {
     "data": {
      "text/plain": [
       "(array([0.973, 1.034, 0.965, 1.032, 1.104, 1.003, 0.978, 0.989, 0.992,\n",
       "        0.93 ]),\n",
       " array([0. , 0.1, 0.2, 0.3, 0.4, 0.5, 0.6, 0.7, 0.8, 0.9, 1. ]),\n",
       " <BarContainer object of 10 artists>)"
      ]
     },
     "execution_count": 23,
     "metadata": {},
     "output_type": "execute_result"
    },
    {
     "data": {
      "image/png": "[encoded data removed]",
      "text/plain": [
       "<Figure size 720x576 with 1 Axes>"
      ]
     },
     "metadata": {
      "needs_background": "light"
     },
     "output_type": "display_data"
    }
   ],
   "source": [
    "font = {'family': 'serif', 'serif': 'Times New Roman', 'weight': 'normal','size':14}\n",
    "plt.rc('font',**font)\n",
    "\n",
    "fig,ax = plt.subplots(figsize=(10, 8))\n",
    "plt.xticks(np.linspace(0.0, 1.0, 11))\n",
    "ax.grid(color='black', alpha=0.5, linestyle=':', linewidth=1)\n",
    "plt.hist(p_values_list, color = '#ececd4', edgecolor = '#4b2c2b', density = True)\n",
    "\n",
    "# plt.show() -  Вывод рисунков: Рис.5. Гистограмма P-значений – модельные данные"
   ]
  },
  {
   "cell_type": "markdown",
   "id": "7fe3ef0d",
   "metadata": {},
   "source": [
    "### Подготовка таблицы P-значений, вычисляемых по Критерию Колмогорова"
   ]
  },
  {
   "cell_type": "code",
   "execution_count": 24,
   "id": "05ae0772",
   "metadata": {},
   "outputs": [],
   "source": [
    "# Тест Критерия Колмогорова\n",
    "p_values_list_ks = []\n",
    "\n",
    "for iteration in range(n_iter):\n",
    "    # Генерация выборки из нормального распределения, размер = n\n",
    "    sample = stats.norm(0, 1).rvs(n_days)\n",
    "    p_values_list_ks.append(stats.kstest(sample,'norm')[1])"
   ]
  },
  {
   "cell_type": "markdown",
   "id": "7933d759",
   "metadata": {},
   "source": [
    "### Вывод гистограммы P-значений "
   ]
  },
  {
   "cell_type": "code",
   "execution_count": 25,
   "id": "90366be7",
   "metadata": {},
   "outputs": [
    {
     "data": {
      "text/plain": [
       "(array([1.02516294, 1.04716643, 0.94915085, 1.01916198, 0.9991588 ,\n",
       "        0.98815705, 0.99615833, 1.01116071, 0.95715213, 1.00916039]),\n",
       " array([4.24247067e-05, 1.00026531e-01, 2.00010637e-01, 2.99994744e-01,\n",
       "        3.99978850e-01, 4.99962956e-01, 5.99947063e-01, 6.99931169e-01,\n",
       "        7.99915275e-01, 8.99899382e-01, 9.99883488e-01]),\n",
       " <BarContainer object of 10 artists>)"
      ]
     },
     "execution_count": 25,
     "metadata": {},
     "output_type": "execute_result"
    },
    {
     "data": {
      "image/png": "[encoded data removed]",
      "text/plain": [
       "<Figure size 720x576 with 1 Axes>"
      ]
     },
     "metadata": {
      "needs_background": "light"
     },
     "output_type": "display_data"
    }
   ],
   "source": [
    "font = {'family': 'serif', 'serif': 'Times New Roman', 'weight': 'normal','size':14}\n",
    "plt.rc('font',**font)\n",
    "\n",
    "fig,ax = plt.subplots(figsize=(10, 8))\n",
    "plt.xticks(np.linspace(0.0, 1.0, 11))\n",
    "ax.grid(color='black', alpha=0.75, linestyle=':', linewidth=1)\n",
    "plt.hist(p_values_list_ks, color = '#d4d4ec', edgecolor = '#2b4a4b', density = True)\n",
    "\n",
    "# plt.show() -  Вывод рисунков: Рис.6. Гистограмма P-значений – модельные данные (Критерий Колмогорова)"
   ]
  },
  {
   "cell_type": "code",
   "execution_count": 26,
   "id": "20a1a1ae",
   "metadata": {},
   "outputs": [
    {
     "data": {
      "text/plain": [
       "KstestResult(statistic=0.008731319854970887, pvalue=0.4284567555424902)"
      ]
     },
     "execution_count": 26,
     "metadata": {},
     "output_type": "execute_result"
    }
   ],
   "source": [
    "# проверка, что распределения p-значений идентичны\n",
    "p_value_test_ks = stats.kstest(p_values_list_ks,'uniform')\n",
    "p_value_test_ks"
   ]
  }
 ],
 "metadata": {
  "kernelspec": {
   "display_name": "Python 3 (ipykernel)",
   "language": "python",
   "name": "python3"
  },
  "language_info": {
   "codemirror_mode": {
    "name": "ipython",
    "version": 3
   },
   "file_extension": ".py",
   "mimetype": "text/x-python",
   "name": "python",
   "nbconvert_exporter": "python",
   "pygments_lexer": "ipython3",
   "version": "3.9.7"
  }
 },
 "nbformat": 4,
 "nbformat_minor": 5
}
