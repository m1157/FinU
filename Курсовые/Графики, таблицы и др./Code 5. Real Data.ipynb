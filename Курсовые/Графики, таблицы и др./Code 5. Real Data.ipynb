{
 "cells": [
  {
   "cell_type": "markdown",
   "id": "d529dfcc",
   "metadata": {},
   "source": [
    "# 5. Реальные данные"
   ]
  },
  {
   "cell_type": "markdown",
   "id": "ecb6d8fc",
   "metadata": {},
   "source": [
    "### Подключение необходимых библиотек"
   ]
  },
  {
   "cell_type": "code",
   "execution_count": 26,
   "id": "6cb4aa5a",
   "metadata": {},
   "outputs": [],
   "source": [
    "import numpy as np\n",
    "import pandas as pd\n",
    "import statistics as sts\n",
    "import scipy.stats as stats\n",
    "import matplotlib.pyplot as plt\n",
    "import csv\n",
    "import math"
   ]
  },
  {
   "cell_type": "code",
   "execution_count": 27,
   "id": "7cde6907",
   "metadata": {},
   "outputs": [],
   "source": [
    "# Список всех рассматриваемых годов\n",
    "years = ['2013', '2014', '2015', '2016', '2017', '2018', '2019', '2020', '2021']\n",
    "# Список названий всех используемых тикеров\n",
    "tickers = ['AAPL','ADBE','CSCO','FB','GOOGL','INTC','MSFT','NFLX','NVDA']"
   ]
  },
  {
   "cell_type": "markdown",
   "id": "73da53c8",
   "metadata": {},
   "source": [
    "### Функция для оценки параметров $\\mu$ и $\\sigma$ получаемой выборки "
   ]
  },
  {
   "cell_type": "code",
   "execution_count": 28,
   "id": "9d591f1c",
   "metadata": {},
   "outputs": [],
   "source": [
    "def param_estimation(sample):\n",
    "    # Сортируем по возрастанию полученную выборку \n",
    "    sample.sort()\n",
    "    # Объём выборки\n",
    "    length = len(sample)\n",
    "    # Считаем количество интервалов, на которые мы разобьём выборку\n",
    "    log = math.log2(len(sample))\n",
    "    k = int(1 + log)\n",
    "    # Создаём список для центральных точек для каждого полученного интервала\n",
    "    cpoint = [min(sample)]\n",
    "    # Определяем шаг для прохождению по выборке\n",
    "    step = (max(sample) - min(sample))/k\n",
    "    \n",
    "    # Создаём список для данных для каждого полученного интервала\n",
    "    segment_list = []\n",
    "    # Заполняем созданный список\n",
    "    segment_list.append([part for part in sample if part < step/2 + cpoint[-1]])\n",
    "    for i in range(1, k):\n",
    "        cpoint.append(cpoint[0] + step * (i-1))\n",
    "        segment_list.append([x for x in sample if cpoint[-1] - step/2 < x < cpoint[-1] + step/2])\n",
    "    cpoint.append(cpoint[0] + step * (k - 1))    \n",
    "    segment_list.append([part for part in sample if part > cpoint[-1] - step/2])\n",
    "    \n",
    "    # Получаем список частот (кол-ва элементов в каждом интервале)\n",
    "    freq = [len(part) for part in segment_list]\n",
    "    \n",
    "    # Считаем значение мат.ожидания в 1-м приближении (по формуле из теор.справки)\n",
    "    loc = 0\n",
    "    for value in range(len(freq)):\n",
    "        loc += freq[value] * cpoint[value]\n",
    "    loc = loc/length\n",
    "    \n",
    "    # Считаем значение ст.отклонения в 1-м приближении (по формуле из теор.справки)\n",
    "    scale = 0\n",
    "    for value in range(len(freq)):\n",
    "        scale += freq[value] * (cpoint[value] - loc)**2\n",
    "    scale = (scale/length)**(1/2)\n",
    "    \n",
    "    # Вывод мат.ожидания, ст.отклонения, списка частот и списка центр.точек\n",
    "    return loc, scale, freq, cpoint"
   ]
  },
  {
   "cell_type": "markdown",
   "id": "59b3bb33",
   "metadata": {},
   "source": [
    "### Функция для вычисления статистики критерия χ² Пирсона"
   ]
  },
  {
   "cell_type": "code",
   "execution_count": 29,
   "id": "b2de6264",
   "metadata": {},
   "outputs": [],
   "source": [
    "def ChiSquare(sample):\n",
    "    n_days = len(sample)\n",
    "    # Считаем количество интервалов, на которые мы разобьём выборку\n",
    "    log = math.log2(len(sample))\n",
    "    k = int(1 + log)\n",
    "    # Определяем шаг для прохождению по выборке\n",
    "    step = (max(sample) - min(sample))/k\n",
    "    # Получаем необходимые характеристики \n",
    "    mu, sigma, frequency, cpoint = param_estimation(sample)\n",
    "    # Создаём распределение для сравнения его со случайной выборкой \n",
    "    expected = stats.norm(mu, sigma)\n",
    "    \n",
    "    # Создаём список вероятностей попадания значений в полученные интервалы\n",
    "    p_list = []\n",
    "    # Заполняем созданный список\n",
    "    p_list.append(expected.cdf(cpoint[0] + step/2))\n",
    "    for value in range(1, len(cpoint)-1):\n",
    "        p_list.append((expected.cdf(cpoint[value] + step/2)-expected.cdf(cpoint[value] - step/2)))\n",
    "    p_list.append(1-expected.cdf(cpoint[-1] - step/2))\n",
    "\n",
    "    # Получения статистики χ²\n",
    "    chi_sqare_stat = 0\n",
    "    # Создаём список для заполнения i-ми статистиками\n",
    "    statistics_list = []\n",
    "    for i in range(len(p_list)):\n",
    "        statistics_list.append(((frequency[i] - n_days * p_list[i])**2) / (n_days * p_list[i]))\n",
    "        chi_sqare_stat += statistics_list[i]\n",
    "    # Получения p-values χ²\n",
    "    #chi_sqare_pvalue = (stats.chi2(len(frequency)-3).sf(chi_sqare_stat))\n",
    "    \n",
    "    # Вывод статистики и P-значения критерия χ²\n",
    "    #return chi_sqare_stat, chi_sqare_pvalue\n",
    "    return chi_sqare_stat"
   ]
  },
  {
   "cell_type": "markdown",
   "id": "dc7b9de9",
   "metadata": {},
   "source": [
    "### Функция для вычисления P-значений критерия χ² Пирсона  и "
   ]
  },
  {
   "cell_type": "code",
   "execution_count": 30,
   "id": "b5357079",
   "metadata": {},
   "outputs": [],
   "source": [
    "def p_value_search(sample):\n",
    "    sample.sort()\n",
    "    value_0 = ChiSquare(sample)\n",
    "    counter = 0\n",
    "    for value in range(len(sample)):\n",
    "        if sample[value] > value_0: \n",
    "            counter = counter + 1\n",
    "    p_value = counter/len(sample)\n",
    "    return np.round(p_value,4)"
   ]
  },
  {
   "cell_type": "markdown",
   "id": "2ca2fc6c",
   "metadata": {},
   "source": [
    "### Функция для считывания и обработки csv-файлов с данными тикеров"
   ]
  },
  {
   "cell_type": "code",
   "execution_count": 31,
   "id": "f88bfd0c",
   "metadata": {},
   "outputs": [],
   "source": [
    "def analysis(ticker, year):\n",
    "    # Считываем csv-файл с данными тикера\n",
    "    ticker_data = pd.read_csv(ticker + '.csv', sep = ',')\n",
    "\n",
    "    # Форматируем файл, удаляем лишние столбцы\n",
    "    cols = ['Close','Low','Adj Close','Volume']\n",
    "    ticker_info = ticker_data.drop(cols,axis=1)\n",
    "    #for i in range()\n",
    "\n",
    "    # Форматируем файл, \"срезаем\" дату до значения года\n",
    "    year_list = [(str(ticker_info['Date'][i])[:4]) for i in range(len(ticker_info['Date'])) ]\n",
    "    ticker_info['Date'] = year_list\n",
    "\n",
    "    # Удаляем строки с данные за отпавшие в результате анализа годы\n",
    "    ticker_info = ticker_info.drop(ticker_info[ticker_info.Date == '2012'].index)\n",
    "    ticker_info = ticker_info.reset_index(drop=True)\n",
    "\n",
    "    # Пустой список P-значений\n",
    "    p_values_list = []\n",
    "\n",
    "    # Функция поиска P-значений для выборок, заполненных ежедневными разностями между ценой открытия и максимумом\n",
    "    for year in years:\n",
    "        diff_list = []\n",
    "        # Создаем список индексов торговых дней за конкретный год\n",
    "        trade_index_list = list(np.where(ticker_info['Date'] == year)[0])[:-1]\n",
    "        diff_list = [(ticker_info['High'][day]-ticker_info['Open'][day])*100 for day in trade_index_list]\n",
    "        p_values_list.append(p_value_search(diff_list))\n",
    "\n",
    "    return(p_values_list)"
   ]
  },
  {
   "cell_type": "markdown",
   "id": "8aa3019f",
   "metadata": {},
   "source": [
    "### Формирование DataFrame'ов из P-значений"
   ]
  },
  {
   "cell_type": "code",
   "execution_count": 32,
   "id": "92cf0a42",
   "metadata": {},
   "outputs": [],
   "source": [
    "# Создаём пустой DataFrame\n",
    "p_value_data = pd.DataFrame()\n",
    "p_value_list_copy = []\n",
    "# Пустой список для построения гистограммы P-значений\n",
    "p_value_hist = []\n",
    "\n",
    "# Заполняем DataFrame значениями по каждому тикеру\n",
    "for ticker in tickers:\n",
    "    t = analysis(ticker,years)\n",
    "    for value in range(len(t)):\n",
    "        p_value_list_copy.append(t[value])\n",
    "        p_value_hist.append(int(t[value]*10))\n",
    "    t = pd.DataFrame(t).transpose()\n",
    "    p_value_data = p_value_data.append(t)\n",
    "    \n",
    "p_value_list_copy = np.split(np.array(p_value_list_copy), len(tickers))\n",
    "# Изменяем названия строк и столбцов\n",
    "p_value_data.columns = years\n",
    "p_value_data.index = tickers"
   ]
  },
  {
   "cell_type": "code",
   "execution_count": 33,
   "id": "942a8f4b",
   "metadata": {},
   "outputs": [],
   "source": [
    "# p_value_data - Вывод таблицы P-значений для реальных данных"
   ]
  },
  {
   "cell_type": "markdown",
   "id": "0e2e7e55",
   "metadata": {},
   "source": [
    "### Сохраним данные в csv-файле"
   ]
  },
  {
   "cell_type": "code",
   "execution_count": 34,
   "id": "a970d809",
   "metadata": {},
   "outputs": [],
   "source": [
    "p_value_data.to_csv('Таблица 8. P-значения для реальных данных.csv', sep = ';')"
   ]
  },
  {
   "cell_type": "markdown",
   "id": "f2ef9272",
   "metadata": {},
   "source": [
    "### Вывод гистограммы P-значений "
   ]
  },
  {
   "cell_type": "code",
   "execution_count": 35,
   "id": "f259719c",
   "metadata": {},
   "outputs": [
    {
     "data": {
      "text/plain": [
       "([<matplotlib.axis.XTick at 0x20335f0c5b0>,\n",
       "  <matplotlib.axis.XTick at 0x20335f0c4c0>,\n",
       "  <matplotlib.axis.XTick at 0x20335674220>,\n",
       "  <matplotlib.axis.XTick at 0x20335ed3100>,\n",
       "  <matplotlib.axis.XTick at 0x20335ed3790>,\n",
       "  <matplotlib.axis.XTick at 0x20335ed3ee0>,\n",
       "  <matplotlib.axis.XTick at 0x20335ed3a60>,\n",
       "  <matplotlib.axis.XTick at 0x20335ed0610>,\n",
       "  <matplotlib.axis.XTick at 0x20335ed0ca0>,\n",
       "  <matplotlib.axis.XTick at 0x20335f13430>,\n",
       "  <matplotlib.axis.XTick at 0x20335f13b80>],\n",
       " [Text(0, 0, '0.0'),\n",
       "  Text(1, 0, '0.1'),\n",
       "  Text(2, 0, '0.2'),\n",
       "  Text(3, 0, '0.3'),\n",
       "  Text(4, 0, '0.4'),\n",
       "  Text(5, 0, '0.5'),\n",
       "  Text(6, 0, '0.6'),\n",
       "  Text(7, 0, '0.7'),\n",
       "  Text(8, 0, '0.8'),\n",
       "  Text(9, 0, '0.9'),\n",
       "  Text(10, 0, '1.0')])"
      ]
     },
     "execution_count": 35,
     "metadata": {},
     "output_type": "execute_result"
    },
    {
     "data": {
      "image/png": "[encoded data removed]",
      "text/plain": [
       "<Figure size 720x576 with 1 Axes>"
      ]
     },
     "metadata": {
      "needs_background": "light"
     },
     "output_type": "display_data"
    }
   ],
   "source": [
    "font = {'family': 'serif', 'serif': 'Times New Roman', 'weight': 'normal','size':14}\n",
    "plt.rc('font',**font)\n",
    "\n",
    "fig,ax = plt.subplots(figsize=(10, 8))\n",
    "plt.hist(p_value_hist, bins=[i for i in range(11)], color = '#d4ece0', edgecolor = '#3a4b2b', rwidth = 0.9)\n",
    "plt.xticks([i for i in range(11)],[i/10 for i in range(11)])\n",
    "# plt.show() - Вывод рисунка: Рис.10. Гистограмма P-значений для реальных данных"
   ]
  },
  {
   "cell_type": "code",
   "execution_count": 36,
   "id": "e33c38ee",
   "metadata": {},
   "outputs": [
    {
     "data": {
      "text/plain": [
       "KstestResult(statistic=0.6506666666666666, pvalue=0.0002983517000404477)"
      ]
     },
     "execution_count": 36,
     "metadata": {},
     "output_type": "execute_result"
    }
   ],
   "source": [
    "# Проверка равномерности распределения P-значения\n",
    "p_value_test_ks = stats.kstest(p_value_list_copy,'uniform')\n",
    "p_value_test_ks"
   ]
  },
  {
   "cell_type": "markdown",
   "id": "ef891d6a",
   "metadata": {},
   "source": [
    "### Расчёт доли проверок для разных уровней значимости, для которых гипотеза принята"
   ]
  },
  {
   "cell_type": "code",
   "execution_count": 37,
   "id": "4543b7aa",
   "metadata": {},
   "outputs": [],
   "source": [
    "# Уровни значимости\n",
    "alpha_values = [0.01, 0.05, 0.1]\n",
    "# Количество P-значений для реальных данных\n",
    "total_p_ammount = len(tickers) * len(years)\n",
    "# Список для заполнения расчитываемыми долями\n",
    "accept_rate_list = []"
   ]
  },
  {
   "cell_type": "code",
   "execution_count": 38,
   "id": "f563418b",
   "metadata": {},
   "outputs": [],
   "source": [
    "# Функция расчёта доли проверок\n",
    "def accept_rate(alpha):\n",
    "    p_value = 0\n",
    "    for ticker in range(len(tickers)):\n",
    "        for year in range(len(years)):\n",
    "            if p_value_list_copy[ticker][year] > alpha : p_value += 1\n",
    "    accept_rate_list.append(p_value/total_p_ammount)        \n",
    "    return accept_rate_list"
   ]
  },
  {
   "cell_type": "code",
   "execution_count": 39,
   "id": "6b4529c8",
   "metadata": {},
   "outputs": [],
   "source": [
    "for alpha in alpha_values:\n",
    "    accept_rate(alpha)"
   ]
  },
  {
   "cell_type": "markdown",
   "id": "7e0451bc",
   "metadata": {},
   "source": [
    "###  Формируем DataFrame из полученных значений"
   ]
  },
  {
   "cell_type": "code",
   "execution_count": 40,
   "id": "48d216c5",
   "metadata": {},
   "outputs": [],
   "source": [
    "rate_data = {f'α = {alpha_values[0]}' : [accept_rate_list[0]],\n",
    "             f'α = {alpha_values[1]}' : [accept_rate_list[1]],\n",
    "             f'α = {alpha_values[2]}' : [accept_rate_list[2]]} \n",
    "\n",
    "rate_data_df = pd.DataFrame(rate_data) \n",
    "rate_data_df.index = ['Value']"
   ]
  },
  {
   "cell_type": "code",
   "execution_count": 41,
   "id": "1fb35298",
   "metadata": {},
   "outputs": [
    {
     "data": {
      "text/html": [
       "<div>\n",
       "<style scoped>\n",
       "    .dataframe tbody tr th:only-of-type {\n",
       "        vertical-align: middle;\n",
       "    }\n",
       "\n",
       "    .dataframe tbody tr th {\n",
       "        vertical-align: top;\n",
       "    }\n",
       "\n",
       "    .dataframe thead th {\n",
       "        text-align: right;\n",
       "    }\n",
       "</style>\n",
       "<table border=\"1\" class=\"dataframe\">\n",
       "  <thead>\n",
       "    <tr style=\"text-align: right;\">\n",
       "      <th></th>\n",
       "      <th>α = 0.01</th>\n",
       "      <th>α = 0.05</th>\n",
       "      <th>α = 0.1</th>\n",
       "    </tr>\n",
       "  </thead>\n",
       "  <tbody>\n",
       "    <tr>\n",
       "      <th>Value</th>\n",
       "      <td>0.728395</td>\n",
       "      <td>0.691358</td>\n",
       "      <td>0.641975</td>\n",
       "    </tr>\n",
       "  </tbody>\n",
       "</table>\n",
       "</div>"
      ],
      "text/plain": [
       "       α = 0.01  α = 0.05   α = 0.1\n",
       "Value  0.728395  0.691358  0.641975"
      ]
     },
     "execution_count": 41,
     "metadata": {},
     "output_type": "execute_result"
    }
   ],
   "source": [
    "# Вывод таблицы долей для различных уровней значимости\n",
    "rate_data_df "
   ]
  },
  {
   "cell_type": "code",
   "execution_count": 42,
   "id": "b75ef543",
   "metadata": {},
   "outputs": [],
   "source": [
    "# Сохраняем полученные значения в csv\n",
    "rate_data_df.to_csv('Таблица 9. Доля принятия гипотезы для различных уровней значимости.csv', sep = ';')"
   ]
  },
  {
   "cell_type": "markdown",
   "id": "95540b81",
   "metadata": {},
   "source": [
    "### Расчёт медианных P-значений"
   ]
  },
  {
   "cell_type": "code",
   "execution_count": 43,
   "id": "3cb166b2",
   "metadata": {},
   "outputs": [],
   "source": [
    "# Список P-значений, отсортированный по тикерам\n",
    "p_companies = p_value_list_copy\n",
    "# Список P-значений, отсортированный по годам\n",
    "p_years = np.transpose(p_value_list_copy)"
   ]
  },
  {
   "cell_type": "code",
   "execution_count": 44,
   "id": "ec998e15",
   "metadata": {},
   "outputs": [],
   "source": [
    "# Заполнение списка медианных значений каждого года\n",
    "p_years_median = []\n",
    "for year in range(len(years)):\n",
    "    p_years_median.append(round(sts.median(p_years[year]),4))\n",
    "# Заполнение списка медианных значений каждого тикера\n",
    "p_companies_median = []\n",
    "for company in range(len(tickers)):\n",
    "    p_companies_median.append(round(sts.median(p_companies[company]),4))"
   ]
  },
  {
   "cell_type": "code",
   "execution_count": 45,
   "id": "db494af1",
   "metadata": {},
   "outputs": [],
   "source": [
    "# Создаём DataFrame для медианных значений\n",
    "p_years_median_df = pd.DataFrame({'Median for year': p_years_median}, \n",
    "                           index = [i for i in range(2013,2022)])"
   ]
  },
  {
   "cell_type": "code",
   "execution_count": 46,
   "id": "6fbf68bf",
   "metadata": {},
   "outputs": [
    {
     "data": {
      "text/html": [
       "<div>\n",
       "<style scoped>\n",
       "    .dataframe tbody tr th:only-of-type {\n",
       "        vertical-align: middle;\n",
       "    }\n",
       "\n",
       "    .dataframe tbody tr th {\n",
       "        vertical-align: top;\n",
       "    }\n",
       "\n",
       "    .dataframe thead th {\n",
       "        text-align: right;\n",
       "    }\n",
       "</style>\n",
       "<table border=\"1\" class=\"dataframe\">\n",
       "  <thead>\n",
       "    <tr style=\"text-align: right;\">\n",
       "      <th></th>\n",
       "      <th>Median for year</th>\n",
       "    </tr>\n",
       "  </thead>\n",
       "  <tbody>\n",
       "    <tr>\n",
       "      <th>2013</th>\n",
       "      <td>0.0159</td>\n",
       "    </tr>\n",
       "    <tr>\n",
       "      <th>2014</th>\n",
       "      <td>0.1076</td>\n",
       "    </tr>\n",
       "    <tr>\n",
       "      <th>2015</th>\n",
       "      <td>0.0000</td>\n",
       "    </tr>\n",
       "    <tr>\n",
       "      <th>2016</th>\n",
       "      <td>0.3745</td>\n",
       "    </tr>\n",
       "    <tr>\n",
       "      <th>2017</th>\n",
       "      <td>0.1680</td>\n",
       "    </tr>\n",
       "    <tr>\n",
       "      <th>2018</th>\n",
       "      <td>0.5080</td>\n",
       "    </tr>\n",
       "    <tr>\n",
       "      <th>2019</th>\n",
       "      <td>0.7371</td>\n",
       "    </tr>\n",
       "    <tr>\n",
       "      <th>2020</th>\n",
       "      <td>0.6865</td>\n",
       "    </tr>\n",
       "    <tr>\n",
       "      <th>2021</th>\n",
       "      <td>0.8327</td>\n",
       "    </tr>\n",
       "  </tbody>\n",
       "</table>\n",
       "</div>"
      ],
      "text/plain": [
       "      Median for year\n",
       "2013           0.0159\n",
       "2014           0.1076\n",
       "2015           0.0000\n",
       "2016           0.3745\n",
       "2017           0.1680\n",
       "2018           0.5080\n",
       "2019           0.7371\n",
       "2020           0.6865\n",
       "2021           0.8327"
      ]
     },
     "execution_count": 46,
     "metadata": {},
     "output_type": "execute_result"
    }
   ],
   "source": [
    "# - Вывод медианных значений по годам\n",
    "p_years_median_df "
   ]
  },
  {
   "cell_type": "code",
   "execution_count": 47,
   "id": "d9f0f2e3",
   "metadata": {},
   "outputs": [],
   "source": [
    "# Сохраняем полученные значения в csv\n",
    "p_years_median_df.to_csv('Таблица 10. Медианные P-значения по годам.csv', sep = ';')"
   ]
  },
  {
   "cell_type": "code",
   "execution_count": 48,
   "id": "0858179e",
   "metadata": {},
   "outputs": [],
   "source": [
    "# Создаём DataFrame для медианных значений\n",
    "p_companies_median_df = pd.DataFrame({'Median for ticker' : p_companies_median}, \n",
    "                           index = [ticker for ticker in tickers])"
   ]
  },
  {
   "cell_type": "code",
   "execution_count": 49,
   "id": "1686c509",
   "metadata": {},
   "outputs": [
    {
     "data": {
      "text/html": [
       "<div>\n",
       "<style scoped>\n",
       "    .dataframe tbody tr th:only-of-type {\n",
       "        vertical-align: middle;\n",
       "    }\n",
       "\n",
       "    .dataframe tbody tr th {\n",
       "        vertical-align: top;\n",
       "    }\n",
       "\n",
       "    .dataframe thead th {\n",
       "        text-align: right;\n",
       "    }\n",
       "</style>\n",
       "<table border=\"1\" class=\"dataframe\">\n",
       "  <thead>\n",
       "    <tr style=\"text-align: right;\">\n",
       "      <th></th>\n",
       "      <th>Median for ticker</th>\n",
       "    </tr>\n",
       "  </thead>\n",
       "  <tbody>\n",
       "    <tr>\n",
       "      <th>AAPL</th>\n",
       "      <td>0.0598</td>\n",
       "    </tr>\n",
       "    <tr>\n",
       "      <th>ADBE</th>\n",
       "      <td>0.6972</td>\n",
       "    </tr>\n",
       "    <tr>\n",
       "      <th>CSCO</th>\n",
       "      <td>0.1474</td>\n",
       "    </tr>\n",
       "    <tr>\n",
       "      <th>FB</th>\n",
       "      <td>0.6335</td>\n",
       "    </tr>\n",
       "    <tr>\n",
       "      <th>GOOGL</th>\n",
       "      <td>0.9120</td>\n",
       "    </tr>\n",
       "    <tr>\n",
       "      <th>INTC</th>\n",
       "      <td>0.0000</td>\n",
       "    </tr>\n",
       "    <tr>\n",
       "      <th>MSFT</th>\n",
       "      <td>0.4320</td>\n",
       "    </tr>\n",
       "    <tr>\n",
       "      <th>NFLX</th>\n",
       "      <td>0.4365</td>\n",
       "    </tr>\n",
       "    <tr>\n",
       "      <th>NVDA</th>\n",
       "      <td>0.0000</td>\n",
       "    </tr>\n",
       "  </tbody>\n",
       "</table>\n",
       "</div>"
      ],
      "text/plain": [
       "       Median for ticker\n",
       "AAPL              0.0598\n",
       "ADBE              0.6972\n",
       "CSCO              0.1474\n",
       "FB                0.6335\n",
       "GOOGL             0.9120\n",
       "INTC              0.0000\n",
       "MSFT              0.4320\n",
       "NFLX              0.4365\n",
       "NVDA              0.0000"
      ]
     },
     "execution_count": 49,
     "metadata": {},
     "output_type": "execute_result"
    }
   ],
   "source": [
    "# - Вывод медианных значений по тикерам\n",
    "p_companies_median_df "
   ]
  },
  {
   "cell_type": "code",
   "execution_count": 50,
   "id": "059980a6",
   "metadata": {},
   "outputs": [],
   "source": [
    "# Сохраняем полученные значения в csv\n",
    "p_companies_median_df.to_csv('Таблица 11. Медианные P-значения по тикерам.csv', sep = ';')"
   ]
  }
 ],
 "metadata": {
  "kernelspec": {
   "display_name": "Python 3 (ipykernel)",
   "language": "python",
   "name": "python3"
  },
  "language_info": {
   "codemirror_mode": {
    "name": "ipython",
    "version": 3
   },
   "file_extension": ".py",
   "mimetype": "text/x-python",
   "name": "python",
   "nbconvert_exporter": "python",
   "pygments_lexer": "ipython3",
   "version": "3.9.7"
  }
 },
 "nbformat": 4,
 "nbformat_minor": 5
}
