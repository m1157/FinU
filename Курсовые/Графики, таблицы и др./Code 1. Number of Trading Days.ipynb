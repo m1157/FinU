{
 "cells": [
  {
   "cell_type": "markdown",
   "metadata": {},
   "source": [
    "# 1. Количество торговых дней"
   ]
  },
  {
   "cell_type": "markdown",
   "metadata": {},
   "source": [
    "### Подключение необходимых библиотек"
   ]
  },
  {
   "cell_type": "code",
   "execution_count": 1,
   "metadata": {},
   "outputs": [],
   "source": [
    "import pandas as pd\n",
    "import numpy as np\n",
    "import csv"
   ]
  },
  {
   "cell_type": "markdown",
   "metadata": {},
   "source": [
    "### Функция для считывания и обработки csv-файлов с данными тикеров"
   ]
  },
  {
   "cell_type": "code",
   "execution_count": 2,
   "metadata": {},
   "outputs": [],
   "source": [
    "def data_reading(ticker):\n",
    "    # Считываем csv-файл с данными тикера\n",
    "    ticker_data = pd.read_csv(ticker + '.csv', sep = ',')\n",
    "\n",
    "    # Форматируем файл, удаляем лишние столбцы\n",
    "    cols = ['Open', 'High','Low', 'Close', 'Adj Close']\n",
    "    ticker_info = ticker_data.drop(cols,axis=1)\n",
    "\n",
    "    # Форматируем файл, \"срезаем\" дату до значения года\n",
    "    year_list = [(str(ticker_info['Date'][i])[:4]) for i in range(len(ticker_info['Date'])) ]\n",
    "    ticker_info['Date'] = year_list\n",
    "\n",
    "    # Считаем количество торговых дней тикера за каждый год \n",
    "    trading_days_number = pd.DataFrame(ticker_info.groupby(by=['Date'],as_index=False).count())\n",
    "\n",
    "    # Создаём пустой список для показателей количества торговых дней за каждый год\n",
    "    trading_days_list = [0 for i in range(10)]\n",
    "\n",
    "    # Заполняем массив значениями при условии наличия хотя бы одного торгового дня за каждый год\n",
    "    if len(trading_days_number['Date']) == 10:\n",
    "        for i in range(10):\n",
    "            trading_days_list[i] = trading_days_number['Volume'][i]\n",
    "    # Заполняем массив значениями при условии отсутствия хотя бы одного торгового дня за определённый год\n",
    "    else:\n",
    "        ran = 10 - len(trading_days_number['Date'])\n",
    "        k = 10 - len(trading_days_number['Date'])\n",
    "        for i in range(k,10):\n",
    "            trading_days_list[k] = trading_days_number['Volume'][i-ran]\n",
    "            k=k+1\n",
    "\n",
    "    # Формируем DataFrame и транспонируем его\n",
    "    trading_days_data = pd.DataFrame(trading_days_list)\n",
    "    trading_days_data = trading_days_data.transpose()\n",
    "    return(trading_days_data)"
   ]
  },
  {
   "cell_type": "markdown",
   "metadata": {},
   "source": [
    "### Формирование DataFrame из тикеров и количества торговых дней"
   ]
  },
  {
   "cell_type": "code",
   "execution_count": 3,
   "metadata": {},
   "outputs": [],
   "source": [
    "# Создаём пустой DataFrame\n",
    "final_data = pd.DataFrame()\n",
    "\n",
    "# Создаём список названий всех используемых тикеров\n",
    "tickers = ['AAPL','ADBE','AMD','CSCO','FB','GOOGL','INTC','MSFT','NFLX','NVDA','PYPL','ZM']\n",
    "\n",
    "# Заполняем DataFrame значениями по каждому тикеру\n",
    "for ticker in tickers:\n",
    "    t = data_reading(ticker)\n",
    "    final_data = final_data.append(t, ignore_index=True)\n",
    "# Изменяем названия строк и столбцов\n",
    "final_data.columns = ['2012', '2013', '2014', '2015', '2016', '2017', '2018', '2019', '2020', '2021']\n",
    "final_data.index = tickers\n",
    "\n",
    "# final_data - Вывод таблицы торговых дней"
   ]
  },
  {
   "cell_type": "markdown",
   "metadata": {},
   "source": [
    "### Сохраним данные в csv-файле "
   ]
  },
  {
   "cell_type": "code",
   "execution_count": 4,
   "metadata": {},
   "outputs": [],
   "source": [
    "name = \"Таблица 2. Количество торговых дней.csv\"\n",
    "years = ['2012','2013','2014','2015','2016','2017','2018','2019','2020','2021']\n",
    "tickers = ['AAPL','ADBE','AMD','CSCO','FB','GOOGL','INTC','MSFT','NFLX','NVDA','PYPL','ZM']\n",
    "line = [['-']]\n",
    "\n",
    "for i in range(len(years)):\n",
    "    line[0].append(years[i])\n",
    "with open(name, \"w\", newline='') as csv_file:\n",
    "    writer = csv.writer(csv_file,delimiter=';')\n",
    "    writer.writerows(line)\n",
    "    for i in range(len(tickers)):\n",
    "        line = [[]]\n",
    "        line[0].append(tickers[i])\n",
    "        for j in range(len(years)):\n",
    "            line[0].append(final_data[years[j]][tickers[i]])\n",
    "        writer.writerows(line)"
   ]
  }
 ],
 "metadata": {
  "kernelspec": {
   "display_name": "Python 3",
   "language": "python",
   "name": "python3"
  },
  "language_info": {
   "codemirror_mode": {
    "name": "ipython",
    "version": 3
   },
   "file_extension": ".py",
   "mimetype": "text/x-python",
   "name": "python",
   "nbconvert_exporter": "python",
   "pygments_lexer": "ipython3",
   "version": "3.8.3"
  }
 },
 "nbformat": 4,
 "nbformat_minor": 4
}
