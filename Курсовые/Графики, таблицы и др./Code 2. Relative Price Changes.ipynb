{
 "cells": [
  {
   "cell_type": "markdown",
   "metadata": {},
   "source": [
    "# 2. Относительные изменения цен"
   ]
  },
  {
   "cell_type": "markdown",
   "metadata": {},
   "source": [
    "### Подключение необходимых библиотек"
   ]
  },
  {
   "cell_type": "code",
   "execution_count": 1,
   "metadata": {},
   "outputs": [],
   "source": [
    "import pandas as pd\n",
    "import numpy as np\n",
    "import csv"
   ]
  },
  {
   "cell_type": "markdown",
   "metadata": {},
   "source": [
    "#### Функция для считывания и обработки csv-файлов с данными тикеров и вычисления относительных изменений"
   ]
  },
  {
   "cell_type": "code",
   "execution_count": 2,
   "metadata": {},
   "outputs": [],
   "source": [
    "def analysis(ticker):\n",
    "    # Считываем csv-файл с данными тикера    \n",
    "    ticker_data = pd.read_csv(ticker + '.csv', sep = ',')\n",
    "\n",
    "    # Форматируем файл, удаляем лишние столбцы\n",
    "    cols = ['Open','High','Low','Adj Close','Volume']\n",
    "    ticker_info = ticker_data.drop(cols,axis=1)\n",
    "    \n",
    "    # Форматируем файл, \"срезаем\" дату до значения года\n",
    "    year_list = [(str(ticker_info['Date'][i])[:4]) for i in range(len(ticker_info['Date'])) ]\n",
    "    ticker_info['Date'] = year_list\n",
    "    \n",
    "    # Создаем и форматируем список изменений за весь рассматриваемый период\n",
    "    change_value_list = []\n",
    "    for i in range(len(ticker_info['Close'])-1):\n",
    "        change_value_list.append(round(ticker_info['Close'][i+1]/ticker_info['Close'][i]*100-100, 3 ))\n",
    "    #for i in range (len(change_value_list)):\n",
    "    #    change_value_list[i] = float(change_value_list[i].replace(\",\",\".\"))\n",
    "\n",
    "    # Создаем список количества торговых дней за каждый год\n",
    "    trading_days = [0 * i for i in range(2012,2022)]\n",
    "    for year in range(2012,2022):\n",
    "        for i in range(len(ticker_info['Date'])):\n",
    "            if int(ticker_data['Date'][i][:4]) == year:\n",
    "                trading_days[year-2012] += 1\n",
    "              \n",
    "    # Создаем пустые списки для дальнейшего заполнения максимальными изменениями\n",
    "    change_up_list = []\n",
    "    change_down_list = []\n",
    "\n",
    "    # Создаём вспомогательный список количества торговых дней, начиная с нуля\n",
    "    'AAPL: [0, 250, 252, 252, 252, 253, 251, 251, 252, 253, 252]'\n",
    "    gaps_list = [0]\n",
    "    for j in range(len(trading_days)):\n",
    "        gaps_list.append(trading_days[j])\n",
    "    \n",
    "    # Создаём вспомогательный список начальных значений за каждый год из общего списка\n",
    "    'AAPL: [0, 250, 502, 754, 1006, 1259, 1510, 1761, 2013, 2266, 2518]'\n",
    "    num_list = []\n",
    "    start_of_year = 0\n",
    "    for i in range(len(gaps_list)):\n",
    "        start_of_year += gaps_list[i]\n",
    "        num_list.append(start_of_year)\n",
    "\n",
    "    # Создаем пустой список для дальнейшего заполнения изменениями за каждый год\n",
    "    annual_changes_list = []\n",
    "    \n",
    "    # Заполняем список списками изменений за каждый год\n",
    "    for i in range(10):\n",
    "        annual_changes_list.append(change_value_list)\n",
    "    for i in range(len(trading_days)):\n",
    "        annual_changes_list[i]=annual_changes_list[i][num_list[i]:num_list[i+1]]\n",
    "\n",
    "    # Заполняем списки максимальными изменениями вверх и вниз за каждый год\n",
    "    for i in range (len(annual_changes_list)):\n",
    "        max = 0\n",
    "        min = 0\n",
    "        for j in range(len(annual_changes_list[i])):\n",
    "            if float(annual_changes_list[i][j]) > max:\n",
    "                max = annual_changes_list[i][j]\n",
    "            if float(annual_changes_list[i][j]) < min:\n",
    "                min = annual_changes_list[i][j]\n",
    "        change_up_list.append(max)\n",
    "        change_down_list.append(min)\n",
    "\n",
    "    # Создаём DataFrame из списков максимумов и минимумов\n",
    "    change_data = pd.DataFrame({'Изменение вверх': change_up_list, 'Изменение вниз': change_down_list})\n",
    "    change_data = change_data.transpose()\n",
    "    \n",
    "    return change_data"
   ]
  },
  {
   "cell_type": "markdown",
   "metadata": {},
   "source": [
    "### Формирование DataFrame'ов из максимальных относительных изменений"
   ]
  },
  {
   "cell_type": "code",
   "execution_count": 3,
   "metadata": {},
   "outputs": [],
   "source": [
    "# Создаём пустые DataFrame\n",
    "rising_up_data = pd.DataFrame()\n",
    "rising_down_data = pd.DataFrame()\n",
    "\n",
    "# Создаём список названий всех используемых тикеров\n",
    "tickers = ['AAPL','ADBE','AMD','CSCO','FB','GOOGL','INTC','MSFT','NFLX','NVDA']\n",
    "\n",
    "# Заполняем DataFrame значениями по каждому тикеру\n",
    "for ticker in tickers:\n",
    "    t = analysis(ticker)\n",
    "    \n",
    "    up = t.transpose()['Изменение вверх']\n",
    "    up = pd.DataFrame(up).transpose()\n",
    "    rising_up_data = rising_up_data.append(up, ignore_index=True)\n",
    "    \n",
    "    down = t.transpose()['Изменение вниз']\n",
    "    down = pd.DataFrame(down).transpose()\n",
    "    rising_down_data = rising_down_data.append(down, ignore_index=True)\n",
    "\n",
    "# Изменяем названия строк и столбцов\n",
    "rising_up_data.columns = ['2012', '2013', '2014', '2015', '2016', '2017', '2018', '2019', '2020', '2021']\n",
    "rising_down_data.columns = ['2012', '2013', '2014', '2015', '2016', '2017', '2018', '2019', '2020', '2021']\n",
    "rising_up_data.index = rising_down_data.index = tickers"
   ]
  },
  {
   "cell_type": "markdown",
   "metadata": {},
   "source": [
    "### Максимальные дневные повышения цен в %"
   ]
  },
  {
   "cell_type": "code",
   "execution_count": 4,
   "metadata": {},
   "outputs": [],
   "source": [
    "# rising_up_data - Вывод таблицы максимальных дневных повышений в %"
   ]
  },
  {
   "cell_type": "markdown",
   "metadata": {},
   "source": [
    "### Максимальные дневные понижения цен в %"
   ]
  },
  {
   "cell_type": "code",
   "execution_count": 5,
   "metadata": {},
   "outputs": [],
   "source": [
    "# rising_down_data - Вывод таблицы максимальных дневных понижений в %"
   ]
  },
  {
   "cell_type": "markdown",
   "metadata": {},
   "source": [
    "### Сохраним данные в csv-файле "
   ]
  },
  {
   "cell_type": "code",
   "execution_count": 21,
   "metadata": {},
   "outputs": [],
   "source": [
    "years = ['2012','2013','2014','2015','2016','2017','2018','2019','2020','2021']\n",
    "tickers = ['AAPL','ADBE','AMD','CSCO','FB','GOOGL','INTC','MSFT','NFLX','NVDA']\n",
    "line = [['-']]"
   ]
  },
  {
   "cell_type": "code",
   "execution_count": 22,
   "metadata": {},
   "outputs": [],
   "source": [
    "name_table_up = \"Таблица 3. Максимальные дневные повышения цен в %.csv\"\n",
    "    \n",
    "for i in range(len(years)): \n",
    "    line[0].append(years[i])\n",
    "with open(name_table_up, \"w\", newline='') as csv_file:\n",
    "    writer = csv.writer(csv_file, delimiter=';')\n",
    "    writer.writerows(line)\n",
    "    for ticker in tickers:\n",
    "        line = [[]]\n",
    "        line[0].append(ticker)\n",
    "        for year in years:\n",
    "            line[0].append(str(rising_up_data[year][ticker]).replace('.', ','))\n",
    "        writer.writerows(line)"
   ]
  },
  {
   "cell_type": "code",
   "execution_count": 23,
   "metadata": {},
   "outputs": [],
   "source": [
    "name_table_down = \"Таблица 4. Максимальные дневные понижения цен в %.csv\"\n",
    "\n",
    "for i in range(len(years)): \n",
    "    line[0].append(years[i])\n",
    "with open(name_table_down, \"w\", newline='') as csv_file:\n",
    "    writer = csv.writer(csv_file,delimiter=';')\n",
    "    writer.writerows(line)\n",
    "    for ticker in tickers:\n",
    "        line = [[]]\n",
    "        line[0].append(ticker)\n",
    "        for year in years:\n",
    "            line[0].append(str(rising_down_data[year][ticker]).replace('.', ','))\n",
    "        writer.writerows(line)"
   ]
  }
 ],
 "metadata": {
  "kernelspec": {
   "display_name": "Python 3",
   "language": "python",
   "name": "python3"
  },
  "language_info": {
   "codemirror_mode": {
    "name": "ipython",
    "version": 3
   },
   "file_extension": ".py",
   "mimetype": "text/x-python",
   "name": "python",
   "nbconvert_exporter": "python",
   "pygments_lexer": "ipython3",
   "version": "3.8.3"
  }
 },
 "nbformat": 4,
 "nbformat_minor": 4
}
