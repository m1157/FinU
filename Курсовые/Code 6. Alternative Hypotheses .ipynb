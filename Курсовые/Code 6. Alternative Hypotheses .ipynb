{
 "cells": [
  {
   "cell_type": "markdown",
   "metadata": {},
   "source": [
    "# 6. Альтернативные гипотезы"
   ]
  },
  {
   "cell_type": "markdown",
   "metadata": {},
   "source": [
    "### Подключение необходимых библиотек и фиксирование данных"
   ]
  },
  {
   "cell_type": "code",
   "execution_count": 1,
   "metadata": {},
   "outputs": [],
   "source": [
    "import numpy as np\n",
    "import pandas as pd\n",
    "import scipy.stats as stats\n",
    "import matplotlib.pyplot as plt\n",
    "import math"
   ]
  },
  {
   "cell_type": "code",
   "execution_count": 2,
   "metadata": {},
   "outputs": [],
   "source": [
    "# Объем выборки значений за год\n",
    "n_days = 252\n",
    "# Количество испытаний\n",
    "n_iter = 10000\n",
    "\n",
    "# Уровни значимости\n",
    "alpha_values = [0.01, 0.05, 0.1]\n",
    "\n",
    "# Степени свободы (Cauchy distribution, Student distribution k = (5,10))\n",
    "degs_of_freedom = [1, 3, 5, 20]"
   ]
  },
  {
   "cell_type": "markdown",
   "metadata": {},
   "source": [
    "### Функция для оценки параметров  𝜇  и  𝜎  получаемой выборки"
   ]
  },
  {
   "cell_type": "code",
   "execution_count": 3,
   "metadata": {},
   "outputs": [],
   "source": [
    "def param_estimation(sample):\n",
    "    # Сортируем по возрастанию полученную выборку \n",
    "    sample.sort()\n",
    "    # Объём выборки\n",
    "    length = len(sample)\n",
    "    # Считаем количество интервалов, на которые мы разобьём выборку\n",
    "    log = math.log2(len(sample))\n",
    "    k = int(1 + log)\n",
    "    # Создаём список для центральных точек для каждого полученного интервала\n",
    "    cpoint = [min(sample)]\n",
    "    # Определяем шаг для прохождению по выборке\n",
    "    step = (max(sample) - min(sample))/k\n",
    "    \n",
    "    # Создаём список для данных для каждого полученного интервала\n",
    "    segment_list = []\n",
    "    # Заполняем созданный список\n",
    "    segment_list.append([part for part in sample if part < step/2 + cpoint[-1]])\n",
    "    for i in range(1, k):\n",
    "        cpoint.append(cpoint[0] + step * (i-1))\n",
    "        segment_list.append([x for x in sample if cpoint[-1] - step/2 < x < cpoint[-1] + step/2])\n",
    "    cpoint.append(cpoint[0] + step * (k - 1))    \n",
    "    segment_list.append([part for part in sample if part > cpoint[-1] - step/2])\n",
    "    \n",
    "    # Получаем список частот (кол-ва элементов в каждом интервале)\n",
    "    freq = [len(part) for part in segment_list]\n",
    "    \n",
    "    # Считаем значение мат.ожидания в 1-м приближении (по формуле из теор.справки)\n",
    "    loc = 0\n",
    "    for value in range(len(freq)):\n",
    "        loc += freq[value] * cpoint[value]\n",
    "    loc = loc/length\n",
    "    \n",
    "    # Считаем значение ст.отклонения в 1-м приближении (по формуле из теор.справки)\n",
    "    scale = 0\n",
    "    for value in range(len(freq)):\n",
    "        scale += freq[value] * (cpoint[value] - loc)**2\n",
    "    scale = (scale/length)**(1/2)\n",
    "    \n",
    "    # Вывод мат.ожидания, ст.отклонения, списка частот и списка центр.точек\n",
    "    return loc, scale, freq, cpoint"
   ]
  },
  {
   "cell_type": "markdown",
   "metadata": {},
   "source": [
    "### Функция для вычисления статистики критерия χ² Пирсона для основной гипотезы"
   ]
  },
  {
   "cell_type": "code",
   "execution_count": 4,
   "metadata": {},
   "outputs": [],
   "source": [
    "def ChiSquare(sample):\n",
    "    # Считаем количество интервалов, на которые мы разобьём выборку\n",
    "    log = math.log2(len(sample))\n",
    "    k = int(1 + log)\n",
    "    # Определяем шаг для прохождению по выборке\n",
    "    step = (max(sample) - min(sample))/k\n",
    "    # Получаем необходимые характеристики \n",
    "    mu, sigma, frequency, cpoint = param_estimation(sample)\n",
    "    # Создаём распределение для сравнения его со случайной выборкой \n",
    "    expected = stats.norm(mu, sigma)\n",
    "    \n",
    "    # Создаём список вероятностей попадания значений в полученные интервалы\n",
    "    p_list = []\n",
    "    # Заполняем созданный список\n",
    "    p_list.append(expected.cdf(cpoint[0] + step/2))\n",
    "    for value in range(1, len(cpoint)-1):\n",
    "        p_list.append((expected.cdf(cpoint[value] + step/2)-expected.cdf(cpoint[value] - step/2)))\n",
    "    p_list.append(1-expected.cdf(cpoint[-1] - step/2))\n",
    "\n",
    "    # Получения статистики χ²\n",
    "    chi_sqare_stat = 0\n",
    "    # Создаём список для заполнения i-ми статистиками\n",
    "    statistics_list = []\n",
    "    for i in range(len(p_list)):\n",
    "        statistics_list.append(((frequency[i] - n_days * p_list[i])**2) / (n_days * p_list[i]))\n",
    "        chi_sqare_stat += statistics_list[i]\n",
    "    # Получения p-values χ²\n",
    "    chi_sqare_pvalue = (stats.chi2(len(frequency)-3).sf(chi_sqare_stat))\n",
    "    \n",
    "    # Вывод статистики и P-значения критерия χ²\n",
    "    return chi_sqare_stat, chi_sqare_pvalue"
   ]
  },
  {
   "cell_type": "markdown",
   "metadata": {},
   "source": [
    "###  Формируем список квантилей из нормального распределения"
   ]
  },
  {
   "cell_type": "code",
   "execution_count": 5,
   "metadata": {},
   "outputs": [],
   "source": [
    "chi_sqare_test = []\n",
    "for i in range(n_iter):\n",
    "    # Генерируем выборку из нормального распределения объемом n\n",
    "    sample = np.random.normal(loc=0, scale=1, size = n_days)\n",
    "    # Вычисляем значения статистики 10.000 раз\n",
    "    chi_sqare_test.append(ChiSquare(sample)[0])\n",
    "\n",
    "# Вычисление квантилей статистики\n",
    "quantiles_999 = np.quantile(chi_sqare_test, np.arange(0.001, 1, 0.001))"
   ]
  },
  {
   "cell_type": "markdown",
   "metadata": {},
   "source": [
    "###  Функция для вычисления P-значений вручную"
   ]
  },
  {
   "cell_type": "code",
   "execution_count": 6,
   "metadata": {},
   "outputs": [],
   "source": [
    "def p_value_power(sample):\n",
    "    sample.sort()\n",
    "    value_0 = ChiSquare(sample)[0]\n",
    "    counter = 0\n",
    "    for value in range(len(quantiles_999)):\n",
    "        if quantiles_999[value] > value_0: \n",
    "            counter = counter + 1\n",
    "    p_value = counter/len(quantiles_999)\n",
    "    return p_value"
   ]
  },
  {
   "cell_type": "markdown",
   "metadata": {},
   "source": [
    "###  Функция для вычисления мощности критерия по альтернативному распределению "
   ]
  },
  {
   "cell_type": "code",
   "execution_count": 7,
   "metadata": {},
   "outputs": [],
   "source": [
    "# Список мощностей каждого распределения для каждого уровня значимости\n",
    "power_list = []"
   ]
  },
  {
   "cell_type": "code",
   "execution_count": 8,
   "metadata": {},
   "outputs": [],
   "source": [
    "def power_search(k):\n",
    "    # Счетчики для сравнения с уровнями значимости\n",
    "    power_1, power_2, power_3 = 0, 0, 0\n",
    "    # Вычисляем значения 10.000 раз \n",
    "    for i in range(n_iter):\n",
    "        # Генерируем выборку из распределения Стьюдента со степенями свободы k и объемом n_days\n",
    "        student_data = np.random.standard_t(df = k, size = n_days)\n",
    "        # Получаем P-значение критерия χ² по распределению Стьюдента\n",
    "        p_value = p_value_power(student_data)\n",
    "        if p_value < alpha_values[0]: power_1 += 1\n",
    "        if p_value < alpha_values[1]: power_2 += 1\n",
    "        if p_value < alpha_values[2]: power_3 += 1\n",
    "    power_list.append([power_1/n_iter, power_2/n_iter, power_3/n_iter])        \n",
    "    return power_1/n_iter, power_2/n_iter, power_3/n_iter"
   ]
  },
  {
   "cell_type": "markdown",
   "metadata": {},
   "source": [
    "###  Находим мощность для каждого альтернативного распределения "
   ]
  },
  {
   "cell_type": "code",
   "execution_count": 9,
   "metadata": {},
   "outputs": [
    {
     "name": "stderr",
     "output_type": "stream",
     "text": [
      "C:\\Users\\micha\\AppData\\Local\\Temp/ipykernel_27584/4286946005.py:25: RuntimeWarning: divide by zero encountered in double_scalars\n",
      "  statistics_list.append(((frequency[i] - n_days * p_list[i])**2) / (n_days * p_list[i]))\n",
      "C:\\Users\\micha\\AppData\\Local\\Temp/ipykernel_27584/4286946005.py:25: RuntimeWarning: invalid value encountered in double_scalars\n",
      "  statistics_list.append(((frequency[i] - n_days * p_list[i])**2) / (n_days * p_list[i]))\n"
     ]
    }
   ],
   "source": [
    "for k in degs_of_freedom:\n",
    "    power_search(k)"
   ]
  },
  {
   "cell_type": "markdown",
   "metadata": {},
   "source": [
    "###  Формируем DataFrame из полученных значений"
   ]
  },
  {
   "cell_type": "code",
   "execution_count": 10,
   "metadata": {},
   "outputs": [],
   "source": [
    "power_data = {f'α = {alpha_values[0]}' : [power_list[0][0], power_list[1][0], power_list[2][0], power_list[3][0]],\n",
    "              f'α = {alpha_values[1]}' : [power_list[0][1], power_list[1][1], power_list[2][1], power_list[3][1]],\n",
    "              f'α = {alpha_values[2]}' : [power_list[0][2], power_list[1][2], power_list[2][2], power_list[3][2]]} \n",
    "\n",
    "power_df = pd.DataFrame(power_data, \n",
    "                        index = [f'Cauchy', \n",
    "                                 f'Student, k = {degs_of_freedom[1]}', \n",
    "                                 f'Student, k = {degs_of_freedom[2]}', \n",
    "                                 f'Student, k = {degs_of_freedom[3]}']) "
   ]
  },
  {
   "cell_type": "code",
   "execution_count": 11,
   "metadata": {},
   "outputs": [],
   "source": [
    "# power_df - Вывод таблицы мощностей для различных распределений и уровней значимости"
   ]
  },
  {
   "cell_type": "markdown",
   "metadata": {},
   "source": [
    "### Сохраним данные в csv-файле"
   ]
  },
  {
   "cell_type": "code",
   "execution_count": 12,
   "metadata": {},
   "outputs": [],
   "source": [
    "power_df.to_csv('Таблица 12. Мощность критерия Пирсона на выборках с альтернативными распределениями.csv', sep = ';')"
   ]
  }
 ],
 "metadata": {
  "kernelspec": {
   "display_name": "Python 3",
   "language": "python",
   "name": "python3"
  },
  "language_info": {
   "codemirror_mode": {
    "name": "ipython",
    "version": 3
   },
   "file_extension": ".py",
   "mimetype": "text/x-python",
   "name": "python",
   "nbconvert_exporter": "python",
   "pygments_lexer": "ipython3",
   "version": "3.8.3"
  }
 },
 "nbformat": 4,
 "nbformat_minor": 5
}
