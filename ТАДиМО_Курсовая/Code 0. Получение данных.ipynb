{
 "cells": [
  {
   "cell_type": "markdown",
   "id": "e2a9e447",
   "metadata": {},
   "source": [
    "# <span style=\"font-family:Times New Roman\">Code 0. Получение данных</span> "
   ]
  },
  {
   "cell_type": "code",
   "execution_count": 1,
   "id": "0c54ae17",
   "metadata": {
    "id": "0c54ae17"
   },
   "outputs": [],
   "source": [
    "import numpy as np\n",
    "import pandas as pd\n",
    "import os\n",
    "import glob\n",
    "import pickle\n",
    "import multiprocessing\n",
    "from functools import partial"
   ]
  },
  {
   "cell_type": "markdown",
   "id": "51684244",
   "metadata": {},
   "source": [
    "## <span style=\"font-family:Times New Roman\">Получаем адреса файлов и дополнительные данные</span> \n",
    "\n",
    "Указываем путь к папке с файлами из набора `GTZAN`"
   ]
  },
  {
   "cell_type": "code",
   "execution_count": 2,
   "id": "22f26e00",
   "metadata": {
    "id": "22f26e00"
   },
   "outputs": [],
   "source": [
    "path = 'C:\\\\Users\\\\micha\\\\OneDrive\\\\Рабочий стол\\\\Курсовая\\\\genres_original\\\\'"
   ]
  },
  {
   "cell_type": "markdown",
   "id": "9f8fc81e",
   "metadata": {
    "id": "9f8fc81e"
   },
   "source": [
    "Получаем адреса всех файлов из набора `GTZAN`"
   ]
  },
  {
   "cell_type": "code",
   "execution_count": 3,
   "id": "ea35d4ae",
   "metadata": {
    "id": "ea35d4ae"
   },
   "outputs": [],
   "source": [
    "files = glob.glob(path + \"*/*.wav\")"
   ]
  },
  {
   "cell_type": "markdown",
   "id": "dba631df",
   "metadata": {},
   "source": [
    "Получаем список названий десяти жанров на английском языке. \\\n",
    "Сохраняем список в текстовый файл для дальнейшей загрузки:"
   ]
  },
  {
   "cell_type": "code",
   "execution_count": 4,
   "id": "cb175a69",
   "metadata": {
    "id": "cb175a69",
    "scrolled": false
   },
   "outputs": [],
   "source": [
    "genre_names = os.listdir(path)\n",
    "with open('genre_names.txt', 'w') as f:\n",
    "    f.write(';'.join(genre_names))"
   ]
  },
  {
   "cell_type": "markdown",
   "id": "c1a9815d",
   "metadata": {},
   "source": [
    "Сохраняем список жанров на русском языке в текстовый файл для дальнейшей загрузки:"
   ]
  },
  {
   "cell_type": "code",
   "execution_count": 5,
   "id": "dac531a3",
   "metadata": {},
   "outputs": [],
   "source": [
    "with open('genre_names_rus.txt', 'w') as f:\n",
    "    f.write(';'.join(['Блюз', 'Классика', 'Кантри', 'Диско', 'Хип-Хоп', 'Джаз', 'Метал', 'Поп', 'Регги', 'Рок']))"
   ]
  },
  {
   "cell_type": "markdown",
   "id": "41eac430",
   "metadata": {},
   "source": [
    "Получаем словарь названий жанров и их порядковых номеров.\\\n",
    "Сохраняем словарь в файл формата `pickle` для дальнейшей загрузки:"
   ]
  },
  {
   "cell_type": "code",
   "execution_count": 6,
   "id": "5b5c06e9",
   "metadata": {},
   "outputs": [],
   "source": [
    "genre_codes = dict(zip(genre_names, np.arange(0, 10))) # нумерация жанров для задачи классификации\n",
    "with open('genre_codes.pkl', 'wb') as f:\n",
    "    pickle.dump(genre_codes, f)"
   ]
  },
  {
   "cell_type": "markdown",
   "id": "bc21e626",
   "metadata": {},
   "source": [
    "## <span style=\"font-family:Times New Roman\">Создаём файл $\\text{get_features.py}$</span>\n",
    "\n",
    "\n",
    "Структура файла:\n",
    "\n",
    "__1\\.__ Функция для получения названия композиции\n",
    "```python\n",
    "def get_song_name(path, n_of_slice)\n",
    "```\n",
    "__2\\.__ Функция для получения жанра композиции\n",
    "```python\n",
    "def get_song_genre(path)\n",
    "```\n",
    "__3\\.__ Функция для получения набора характеристик `№1`\n",
    "```python\n",
    "def get_song_features_set_1(path)\n",
    "```\n",
    "– 22 параметра без деления, shape=(1000, 22)\\\n",
    "– Возвращает словарь рассчитанных характеристик\n",
    "\n",
    "__4\\.__ Функция для получения набора характеристик `№2`\n",
    "```python\n",
    "def get_song_features_set_2(path, test)\n",
    "```\n",
    "– 22 параметра по 3 / 5 делений, shape=(3000 / 5000, 22)\\\n",
    "– Возвращает словарь рассчитанных характеристик\n",
    "\n",
    "__5\\.__ Функция для получения набора характеристик `№3`\n",
    "```python\n",
    "def get_song_features_set_3(source_path, json_path)\n",
    "```\n",
    "– 10 делений, 125 списков по 5 параметров в каждом, shape=(10 000, 125, 5)\\\n",
    "– Формируется файл формата .json"
   ]
  },
  {
   "cell_type": "code",
   "execution_count": 1,
   "id": "5a3df86c",
   "metadata": {
    "colab": {
     "base_uri": "https://localhost:8080/"
    },
    "id": "5a3df86c",
    "outputId": "209af083-b68c-482b-9763-f9930f9de8ac"
   },
   "outputs": [
    {
     "name": "stdout",
     "output_type": "stream",
     "text": [
      "Overwriting get_features.py\n"
     ]
    }
   ],
   "source": [
    "%%file get_features.py\n",
    "import librosa\n",
    "import re\n",
    "import numpy as np\n",
    "import os\n",
    "import json\n",
    "\n",
    "def get_song_name(path, n_slice=None, file_format=True):\n",
    "    song_name = path.replace('/', '\\\\').split('\\\\')[-1:][0]\n",
    "    song_name_words = song_name.split('.wav')\n",
    "    if n_slice == None:\n",
    "        return song_name_words[0] + '.wav' * file_format\n",
    "    else:\n",
    "        return song_name_words[0] + '_part_' + str(n_slice + 1) + '.wav' * file_format\n",
    "\n",
    "    \n",
    "def get_song_genre(path):\n",
    "    path = path.replace('/', '\\\\')\n",
    "    return re.compile('.*\\\\\\\\(.*)\\..*.wav').findall(path)[0]\n",
    "\n",
    "\n",
    "def get_song_features_set_1(path):\n",
    "    y, sr = librosa.load(path)\n",
    "    features = dict()\n",
    "    \n",
    "    features['spectral_centroid_mean'] = librosa.feature.spectral_centroid(y=y, sr=sr).mean()\n",
    "    features['spectral_centroid_std'] = librosa.feature.spectral_centroid(y=y, sr=sr).std()\n",
    "    features['spectral_rolloff_mean'] = librosa.feature.spectral_rolloff(y=y, sr=sr).mean()\n",
    "    features['spectral_rolloff_std'] = librosa.feature.spectral_rolloff(y=y, sr=sr).std()\n",
    "    features['spectral_bandwidth_mean'] = librosa.feature.spectral_bandwidth(y=y, sr=sr).mean()\n",
    "    features['spectral_bandwidth_std'] = librosa.feature.spectral_bandwidth(y=y, sr=sr).std()\n",
    "    features['spectral_flux_mean'] = librosa.onset.onset_strength(y=y, sr=sr).mean()\n",
    "    features['spectral_flux_std'] = librosa.onset.onset_strength(y=y, sr=sr).std()    \n",
    "    features['zero_crossings_mean'] = librosa.feature.zero_crossing_rate(y=y).mean()\n",
    "    features['zero_crossings_std'] = librosa.feature.zero_crossing_rate(y=y).std()\n",
    "    features['tempo'] = librosa.feature.tempo(y=y)[0]\n",
    "\n",
    "    rms = librosa.feature.rms(y=y)\n",
    "    threshold = np.mean(rms)\n",
    "    low_energy = sum(rms[0] < threshold) / len(rms[0])\n",
    "    features['low_energy'] = low_energy\n",
    "\n",
    "    mfcc = librosa.feature.mfcc(y=y, sr=sr)\n",
    "    for i in range(5):\n",
    "        features['mfcc_' + str(i+1) + '_mean'] = mfcc[i].mean()\n",
    "        features['mfcc_' + str(i+1) + '_std'] = mfcc[i].std()\n",
    "\n",
    "    return features\n",
    "\n",
    "\n",
    "def get_song_features_set_2(path, n_slices):\n",
    "    duration = 29\n",
    "    y, sr = librosa.load(path, duration=duration)\n",
    "    track_features = dict()\n",
    "    samples_per_slice = int(duration * sr / n_slices)\n",
    "\n",
    "    for slice_ in range(n_slices):\n",
    "        start_sample = samples_per_slice * slice_\n",
    "        end_sample = start_sample + samples_per_slice\n",
    "        y_slice = y[start_sample:end_sample]\n",
    "        \n",
    "        features = dict()\n",
    "        features['spectral_centroid_mean'] = librosa.feature.spectral_centroid(y=y_slice, sr=sr).mean()\n",
    "        features['spectral_centroid_std'] = librosa.feature.spectral_centroid(y=y_slice, sr=sr).std()\n",
    "        features['spectral_rolloff_mean'] = librosa.feature.spectral_rolloff(y=y_slice, sr=sr).mean()\n",
    "        features['spectral_rolloff_std'] = librosa.feature.spectral_rolloff(y=y_slice, sr=sr).std()\n",
    "        features['spectral_bandwidth_mean'] = librosa.feature.spectral_bandwidth(y=y_slice, sr=sr).mean()\n",
    "        features['spectral_bandwidth_std'] = librosa.feature.spectral_bandwidth(y=y_slice, sr=sr).std()\n",
    "        features['spectral_flux_mean'] = librosa.onset.onset_strength(y=y_slice, sr=sr).mean()\n",
    "        features['spectral_flux_std'] = librosa.onset.onset_strength(y=y_slice, sr=sr).std()   \n",
    "        features['zero_crossings_mean'] = librosa.feature.zero_crossing_rate(y=y_slice).mean()\n",
    "        features['zero_crossings_std'] = librosa.feature.zero_crossing_rate(y=y_slice).std()\n",
    "        features['tempo'] = librosa.feature.tempo(y=y_slice)[0]\n",
    "\n",
    "        rms = librosa.feature.rms(y=y_slice)\n",
    "        threshold = np.mean(rms)\n",
    "        low_energy = sum(rms[0] < threshold) / len(rms[0])\n",
    "        features['low_energy'] = low_energy\n",
    "\n",
    "        mfcc = librosa.feature.mfcc(y=y_slice, sr=sr)\n",
    "        for i in range(5):\n",
    "            features['mfcc_' + str(i+1) + '_mean'] = mfcc[i].mean()\n",
    "            features['mfcc_' + str(i+1) + '_std'] = mfcc[i].std()\n",
    "        \n",
    "        features['genre'] = get_song_genre(path)\n",
    "        song_name = get_song_name(path, slice_)\n",
    "        \n",
    "        track_features[song_name] = features\n",
    "    return track_features\n",
    "\n",
    "\n",
    "def get_song_features_set_3(source_path, json_path):\n",
    "    mydict = {\"labels\": [], \"features\": []}\n",
    "    duration = 29\n",
    "    n_slices = 10\n",
    "   \n",
    "    for i, (dirpath, dirnames, filenames) in enumerate(os.walk(source_path)):\n",
    "        for file in filenames:\n",
    "            song, sr = librosa.load(os.path.join(dirpath, file), duration=duration)\n",
    "            samples_per_slice = int(duration * sr / n_slices)\n",
    "            for s in range(n_slices):\n",
    "                start_sample = samples_per_slice * s\n",
    "                end_sample = start_sample + samples_per_slice\n",
    "                mfcc = librosa.feature.mfcc(y=song[start_sample:end_sample], sr=sr, n_mfcc=5)\n",
    "                mfcc = mfcc.T\n",
    "                mydict[\"labels\"].append(i-1)\n",
    "                mydict[\"features\"].append(mfcc.tolist())\n",
    "   \n",
    "    with open(json_path, 'w') as f:\n",
    "        json.dump(mydict, f)\n",
    "    f.close()"
   ]
  },
  {
   "cell_type": "markdown",
   "id": "fc0b7e67",
   "metadata": {},
   "source": [
    "Импортируем функции из файла `get_features`:"
   ]
  },
  {
   "cell_type": "code",
   "execution_count": 7,
   "id": "73945e81",
   "metadata": {},
   "outputs": [],
   "source": [
    "from get_features import *"
   ]
  },
  {
   "cell_type": "markdown",
   "id": "7d1d71e4",
   "metadata": {},
   "source": [
    "##  <span style=\"font-family:Times New Roman\">Получаем набор данных №1</span>\n",
    "\n",
    "Используем `multiprocessing.Pool()`, чтобы увеличить производительность"
   ]
  },
  {
   "cell_type": "code",
   "execution_count": 10,
   "id": "de79e566",
   "metadata": {
    "id": "8559c17b",
    "outputId": "57d2afcc-9140-4d49-feba-c357ec35b02f"
   },
   "outputs": [
    {
     "name": "stdout",
     "output_type": "stream",
     "text": [
      "Wall time: 3min 46s\n"
     ]
    }
   ],
   "source": [
    "%%time\n",
    "with multiprocessing.Pool() as pool:\n",
    "    list_of_features_dicts = pool.map(get_song_features_set_1, files)"
   ]
  },
  {
   "cell_type": "markdown",
   "id": "f43ac645",
   "metadata": {},
   "source": [
    "Получаем список названий файлов с помощью функции `get_song_name`:"
   ]
  },
  {
   "cell_type": "code",
   "execution_count": 11,
   "id": "7892b3ae",
   "metadata": {},
   "outputs": [
    {
     "name": "stdout",
     "output_type": "stream",
     "text": [
      "Wall time: 992 µs\n"
     ]
    }
   ],
   "source": [
    "%%time\n",
    "file_names = list(map(get_song_name, files))"
   ]
  },
  {
   "cell_type": "markdown",
   "id": "ae4315d7",
   "metadata": {},
   "source": [
    "Получаем список жанров файлов с помощью функции `get_song_genre`:"
   ]
  },
  {
   "cell_type": "code",
   "execution_count": 19,
   "id": "a9ce4d7b",
   "metadata": {},
   "outputs": [
    {
     "name": "stdout",
     "output_type": "stream",
     "text": [
      "Wall time: 1.49 ms\n"
     ]
    }
   ],
   "source": [
    "%%time\n",
    "file_genres = list(map(get_song_genre, files))"
   ]
  },
  {
   "cell_type": "markdown",
   "id": "ee9667e4",
   "metadata": {},
   "source": [
    "Создаём DataFrame из полученных наборов данных:"
   ]
  },
  {
   "cell_type": "code",
   "execution_count": 21,
   "id": "545397d5",
   "metadata": {},
   "outputs": [
    {
     "data": {
      "text/html": [
       "<div>\n",
       "<style scoped>\n",
       "    .dataframe tbody tr th:only-of-type {\n",
       "        vertical-align: middle;\n",
       "    }\n",
       "\n",
       "    .dataframe tbody tr th {\n",
       "        vertical-align: top;\n",
       "    }\n",
       "\n",
       "    .dataframe thead th {\n",
       "        text-align: right;\n",
       "    }\n",
       "</style>\n",
       "<table border=\"1\" class=\"dataframe\">\n",
       "  <thead>\n",
       "    <tr style=\"text-align: right;\">\n",
       "      <th></th>\n",
       "      <th>spectral_centroid_mean</th>\n",
       "      <th>spectral_centroid_std</th>\n",
       "      <th>spectral_rolloff_mean</th>\n",
       "      <th>spectral_rolloff_std</th>\n",
       "      <th>spectral_bandwidth_mean</th>\n",
       "      <th>spectral_bandwidth_std</th>\n",
       "      <th>spectral_flux_mean</th>\n",
       "      <th>spectral_flux_std</th>\n",
       "      <th>zero_crossings_mean</th>\n",
       "      <th>zero_crossings_std</th>\n",
       "      <th>...</th>\n",
       "      <th>mfcc_1_std</th>\n",
       "      <th>mfcc_2_mean</th>\n",
       "      <th>mfcc_2_std</th>\n",
       "      <th>mfcc_3_mean</th>\n",
       "      <th>mfcc_3_std</th>\n",
       "      <th>mfcc_4_mean</th>\n",
       "      <th>mfcc_4_std</th>\n",
       "      <th>mfcc_5_mean</th>\n",
       "      <th>mfcc_5_std</th>\n",
       "      <th>genre</th>\n",
       "    </tr>\n",
       "  </thead>\n",
       "  <tbody>\n",
       "    <tr>\n",
       "      <th>blues.00000.wav</th>\n",
       "      <td>1784.122641</td>\n",
       "      <td>360.202005</td>\n",
       "      <td>3805.723030</td>\n",
       "      <td>949.343413</td>\n",
       "      <td>2002.412407</td>\n",
       "      <td>292.975102</td>\n",
       "      <td>1.391777</td>\n",
       "      <td>1.481487</td>\n",
       "      <td>0.083045</td>\n",
       "      <td>0.027694</td>\n",
       "      <td>...</td>\n",
       "      <td>50.688946</td>\n",
       "      <td>121.570671</td>\n",
       "      <td>17.200205</td>\n",
       "      <td>-19.162262</td>\n",
       "      <td>15.348761</td>\n",
       "      <td>42.363937</td>\n",
       "      <td>12.289782</td>\n",
       "      <td>-6.362266</td>\n",
       "      <td>12.961206</td>\n",
       "      <td>0</td>\n",
       "    </tr>\n",
       "    <tr>\n",
       "      <th>blues.00001.wav</th>\n",
       "      <td>1530.261767</td>\n",
       "      <td>613.119490</td>\n",
       "      <td>3550.713616</td>\n",
       "      <td>1725.778347</td>\n",
       "      <td>2038.987608</td>\n",
       "      <td>462.498760</td>\n",
       "      <td>1.445264</td>\n",
       "      <td>2.002827</td>\n",
       "      <td>0.056040</td>\n",
       "      <td>0.038046</td>\n",
       "      <td>...</td>\n",
       "      <td>88.142525</td>\n",
       "      <td>123.985138</td>\n",
       "      <td>23.662489</td>\n",
       "      <td>8.947019</td>\n",
       "      <td>23.923552</td>\n",
       "      <td>35.867149</td>\n",
       "      <td>16.270117</td>\n",
       "      <td>2.909594</td>\n",
       "      <td>16.732485</td>\n",
       "      <td>0</td>\n",
       "    </tr>\n",
       "    <tr>\n",
       "      <th>blues.00002.wav</th>\n",
       "      <td>1552.832481</td>\n",
       "      <td>395.564168</td>\n",
       "      <td>3042.410115</td>\n",
       "      <td>885.511646</td>\n",
       "      <td>1747.754087</td>\n",
       "      <td>276.216244</td>\n",
       "      <td>1.638602</td>\n",
       "      <td>1.949840</td>\n",
       "      <td>0.076291</td>\n",
       "      <td>0.031731</td>\n",
       "      <td>...</td>\n",
       "      <td>57.601101</td>\n",
       "      <td>140.440872</td>\n",
       "      <td>22.557840</td>\n",
       "      <td>-29.084547</td>\n",
       "      <td>20.299370</td>\n",
       "      <td>31.686693</td>\n",
       "      <td>11.998093</td>\n",
       "      <td>-13.976547</td>\n",
       "      <td>12.476432</td>\n",
       "      <td>0</td>\n",
       "    </tr>\n",
       "    <tr>\n",
       "      <th>blues.00003.wav</th>\n",
       "      <td>1070.153418</td>\n",
       "      <td>429.378632</td>\n",
       "      <td>2184.879029</td>\n",
       "      <td>1221.915647</td>\n",
       "      <td>1596.422565</td>\n",
       "      <td>408.107638</td>\n",
       "      <td>1.248168</td>\n",
       "      <td>1.749711</td>\n",
       "      <td>0.033309</td>\n",
       "      <td>0.020561</td>\n",
       "      <td>...</td>\n",
       "      <td>74.217697</td>\n",
       "      <td>150.086105</td>\n",
       "      <td>21.361393</td>\n",
       "      <td>5.663404</td>\n",
       "      <td>16.034643</td>\n",
       "      <td>26.855282</td>\n",
       "      <td>12.584162</td>\n",
       "      <td>1.770071</td>\n",
       "      <td>16.369904</td>\n",
       "      <td>0</td>\n",
       "    </tr>\n",
       "    <tr>\n",
       "      <th>blues.00004.wav</th>\n",
       "      <td>1835.128513</td>\n",
       "      <td>585.874983</td>\n",
       "      <td>3579.957471</td>\n",
       "      <td>1253.928347</td>\n",
       "      <td>1748.410759</td>\n",
       "      <td>297.285561</td>\n",
       "      <td>1.645293</td>\n",
       "      <td>1.963796</td>\n",
       "      <td>0.101461</td>\n",
       "      <td>0.044205</td>\n",
       "      <td>...</td>\n",
       "      <td>72.104813</td>\n",
       "      <td>126.209480</td>\n",
       "      <td>29.210808</td>\n",
       "      <td>-35.581394</td>\n",
       "      <td>18.276552</td>\n",
       "      <td>22.139256</td>\n",
       "      <td>13.919527</td>\n",
       "      <td>-32.473549</td>\n",
       "      <td>18.341904</td>\n",
       "      <td>0</td>\n",
       "    </tr>\n",
       "  </tbody>\n",
       "</table>\n",
       "<p>5 rows × 23 columns</p>\n",
       "</div>"
      ],
      "text/plain": [
       "                 spectral_centroid_mean  spectral_centroid_std  \\\n",
       "blues.00000.wav             1784.122641             360.202005   \n",
       "blues.00001.wav             1530.261767             613.119490   \n",
       "blues.00002.wav             1552.832481             395.564168   \n",
       "blues.00003.wav             1070.153418             429.378632   \n",
       "blues.00004.wav             1835.128513             585.874983   \n",
       "\n",
       "                 spectral_rolloff_mean  spectral_rolloff_std  \\\n",
       "blues.00000.wav            3805.723030            949.343413   \n",
       "blues.00001.wav            3550.713616           1725.778347   \n",
       "blues.00002.wav            3042.410115            885.511646   \n",
       "blues.00003.wav            2184.879029           1221.915647   \n",
       "blues.00004.wav            3579.957471           1253.928347   \n",
       "\n",
       "                 spectral_bandwidth_mean  spectral_bandwidth_std  \\\n",
       "blues.00000.wav              2002.412407              292.975102   \n",
       "blues.00001.wav              2038.987608              462.498760   \n",
       "blues.00002.wav              1747.754087              276.216244   \n",
       "blues.00003.wav              1596.422565              408.107638   \n",
       "blues.00004.wav              1748.410759              297.285561   \n",
       "\n",
       "                 spectral_flux_mean  spectral_flux_std  zero_crossings_mean  \\\n",
       "blues.00000.wav            1.391777           1.481487             0.083045   \n",
       "blues.00001.wav            1.445264           2.002827             0.056040   \n",
       "blues.00002.wav            1.638602           1.949840             0.076291   \n",
       "blues.00003.wav            1.248168           1.749711             0.033309   \n",
       "blues.00004.wav            1.645293           1.963796             0.101461   \n",
       "\n",
       "                 zero_crossings_std  ...  mfcc_1_std  mfcc_2_mean  mfcc_2_std  \\\n",
       "blues.00000.wav            0.027694  ...   50.688946   121.570671   17.200205   \n",
       "blues.00001.wav            0.038046  ...   88.142525   123.985138   23.662489   \n",
       "blues.00002.wav            0.031731  ...   57.601101   140.440872   22.557840   \n",
       "blues.00003.wav            0.020561  ...   74.217697   150.086105   21.361393   \n",
       "blues.00004.wav            0.044205  ...   72.104813   126.209480   29.210808   \n",
       "\n",
       "                 mfcc_3_mean  mfcc_3_std  mfcc_4_mean  mfcc_4_std  \\\n",
       "blues.00000.wav   -19.162262   15.348761    42.363937   12.289782   \n",
       "blues.00001.wav     8.947019   23.923552    35.867149   16.270117   \n",
       "blues.00002.wav   -29.084547   20.299370    31.686693   11.998093   \n",
       "blues.00003.wav     5.663404   16.034643    26.855282   12.584162   \n",
       "blues.00004.wav   -35.581394   18.276552    22.139256   13.919527   \n",
       "\n",
       "                 mfcc_5_mean  mfcc_5_std  genre  \n",
       "blues.00000.wav    -6.362266   12.961206      0  \n",
       "blues.00001.wav     2.909594   16.732485      0  \n",
       "blues.00002.wav   -13.976547   12.476432      0  \n",
       "blues.00003.wav     1.770071   16.369904      0  \n",
       "blues.00004.wav   -32.473549   18.341904      0  \n",
       "\n",
       "[5 rows x 23 columns]"
      ]
     },
     "execution_count": 21,
     "metadata": {},
     "output_type": "execute_result"
    }
   ],
   "source": [
    "features_set_1 = pd.DataFrame(list_of_features_dicts, index=file_names)\n",
    "features_set_1['genre'] = pd.factorize(file_genres)[0]\n",
    "features_set_1.head()"
   ]
  },
  {
   "cell_type": "markdown",
   "id": "918b7fad",
   "metadata": {},
   "source": [
    "Сохраняем DataFrame в csv файл:"
   ]
  },
  {
   "cell_type": "code",
   "execution_count": 24,
   "id": "90a48263",
   "metadata": {},
   "outputs": [],
   "source": [
    "features_set_1.to_csv('features_set_1.csv')"
   ]
  },
  {
   "cell_type": "markdown",
   "id": "ee817d33",
   "metadata": {},
   "source": [
    "##  <span style=\"font-family:Times New Roman\">Получаем набор данных №2.1.</span>\n",
    "\n",
    "Используем `multiprocessing.Pool()`, чтобы увеличить производительность,\\\n",
    "Используем `functools.partial()`, чтобы передать параметр `n_slices` в функцию:"
   ]
  },
  {
   "cell_type": "code",
   "execution_count": 13,
   "id": "1e68f746",
   "metadata": {},
   "outputs": [
    {
     "name": "stdout",
     "output_type": "stream",
     "text": [
      "Wall time: 5min 3s\n"
     ]
    }
   ],
   "source": [
    "%%time\n",
    "with multiprocessing.Pool(processes=12) as pool:\n",
    "    list_of_features_dicts = pool.map(partial(get_song_features_set_2, n_slices=3), files)"
   ]
  },
  {
   "cell_type": "markdown",
   "id": "a7548c60",
   "metadata": {},
   "source": [
    "Создаём словарь `features_dict`, который в цикле обновляется строками из ранее полученного набора данных:"
   ]
  },
  {
   "cell_type": "code",
   "execution_count": 16,
   "id": "5c7d1b63",
   "metadata": {},
   "outputs": [
    {
     "name": "stdout",
     "output_type": "stream",
     "text": [
      "Wall time: 0 ns\n"
     ]
    }
   ],
   "source": [
    "%%time\n",
    "features_dict = dict()\n",
    "\n",
    "for d in list_of_features_dicts:\n",
    "    features_dict.update(d)"
   ]
  },
  {
   "cell_type": "markdown",
   "id": "716bf86d",
   "metadata": {},
   "source": [
    "Создаём DataFrame из полученного наборов данных:"
   ]
  },
  {
   "cell_type": "code",
   "execution_count": 17,
   "id": "ff5f7307",
   "metadata": {},
   "outputs": [
    {
     "data": {
      "text/html": [
       "<div>\n",
       "<style scoped>\n",
       "    .dataframe tbody tr th:only-of-type {\n",
       "        vertical-align: middle;\n",
       "    }\n",
       "\n",
       "    .dataframe tbody tr th {\n",
       "        vertical-align: top;\n",
       "    }\n",
       "\n",
       "    .dataframe thead th {\n",
       "        text-align: right;\n",
       "    }\n",
       "</style>\n",
       "<table border=\"1\" class=\"dataframe\">\n",
       "  <thead>\n",
       "    <tr style=\"text-align: right;\">\n",
       "      <th></th>\n",
       "      <th>spectral_centroid_mean</th>\n",
       "      <th>spectral_centroid_std</th>\n",
       "      <th>spectral_rolloff_mean</th>\n",
       "      <th>spectral_rolloff_std</th>\n",
       "      <th>spectral_bandwidth_mean</th>\n",
       "      <th>spectral_bandwidth_std</th>\n",
       "      <th>spectral_flux_mean</th>\n",
       "      <th>spectral_flux_std</th>\n",
       "      <th>zero_crossings_mean</th>\n",
       "      <th>zero_crossings_std</th>\n",
       "      <th>...</th>\n",
       "      <th>mfcc_1_std</th>\n",
       "      <th>mfcc_2_mean</th>\n",
       "      <th>mfcc_2_std</th>\n",
       "      <th>mfcc_3_mean</th>\n",
       "      <th>mfcc_3_std</th>\n",
       "      <th>mfcc_4_mean</th>\n",
       "      <th>mfcc_4_std</th>\n",
       "      <th>mfcc_5_mean</th>\n",
       "      <th>mfcc_5_std</th>\n",
       "      <th>genre</th>\n",
       "    </tr>\n",
       "  </thead>\n",
       "  <tbody>\n",
       "    <tr>\n",
       "      <th>blues.00000_part_1.wav</th>\n",
       "      <td>1790.813935</td>\n",
       "      <td>342.704141</td>\n",
       "      <td>3859.19409</td>\n",
       "      <td>921.202597</td>\n",
       "      <td>2025.304397</td>\n",
       "      <td>294.144252</td>\n",
       "      <td>1.403349</td>\n",
       "      <td>1.503985</td>\n",
       "      <td>0.08039</td>\n",
       "      <td>0.02688</td>\n",
       "      <td>...</td>\n",
       "      <td>52.330929</td>\n",
       "      <td>119.797943</td>\n",
       "      <td>15.516554</td>\n",
       "      <td>-18.328676</td>\n",
       "      <td>16.17243</td>\n",
       "      <td>44.792126</td>\n",
       "      <td>13.987721</td>\n",
       "      <td>-5.382723</td>\n",
       "      <td>12.255576</td>\n",
       "      <td>0</td>\n",
       "    </tr>\n",
       "    <tr>\n",
       "      <th>blues.00000_part_2.wav</th>\n",
       "      <td>1766.792144</td>\n",
       "      <td>397.957503</td>\n",
       "      <td>3826.842647</td>\n",
       "      <td>983.443633</td>\n",
       "      <td>2021.694769</td>\n",
       "      <td>283.675946</td>\n",
       "      <td>1.360021</td>\n",
       "      <td>1.475419</td>\n",
       "      <td>0.078798</td>\n",
       "      <td>0.026847</td>\n",
       "      <td>...</td>\n",
       "      <td>49.033913</td>\n",
       "      <td>123.604179</td>\n",
       "      <td>19.870399</td>\n",
       "      <td>-16.065786</td>\n",
       "      <td>12.937943</td>\n",
       "      <td>41.457764</td>\n",
       "      <td>11.908422</td>\n",
       "      <td>-10.554242</td>\n",
       "      <td>11.151757</td>\n",
       "      <td>0</td>\n",
       "    </tr>\n",
       "    <tr>\n",
       "      <th>blues.00000_part_3.wav</th>\n",
       "      <td>1810.547646</td>\n",
       "      <td>347.091544</td>\n",
       "      <td>3802.908259</td>\n",
       "      <td>942.628937</td>\n",
       "      <td>1991.564066</td>\n",
       "      <td>293.89906</td>\n",
       "      <td>1.382695</td>\n",
       "      <td>1.450729</td>\n",
       "      <td>0.087823</td>\n",
       "      <td>0.028691</td>\n",
       "      <td>...</td>\n",
       "      <td>47.88345</td>\n",
       "      <td>123.225273</td>\n",
       "      <td>15.683563</td>\n",
       "      <td>-24.075006</td>\n",
       "      <td>15.49273</td>\n",
       "      <td>42.877445</td>\n",
       "      <td>11.143267</td>\n",
       "      <td>-7.042732</td>\n",
       "      <td>14.27177</td>\n",
       "      <td>0</td>\n",
       "    </tr>\n",
       "    <tr>\n",
       "      <th>blues.00001_part_1.wav</th>\n",
       "      <td>1373.218531</td>\n",
       "      <td>550.467877</td>\n",
       "      <td>3001.53229</td>\n",
       "      <td>1581.349384</td>\n",
       "      <td>1846.732466</td>\n",
       "      <td>475.537656</td>\n",
       "      <td>1.511111</td>\n",
       "      <td>2.243689</td>\n",
       "      <td>0.055316</td>\n",
       "      <td>0.039842</td>\n",
       "      <td>...</td>\n",
       "      <td>97.679276</td>\n",
       "      <td>130.28154</td>\n",
       "      <td>24.444275</td>\n",
       "      <td>0.623084</td>\n",
       "      <td>33.270702</td>\n",
       "      <td>39.474735</td>\n",
       "      <td>15.110327</td>\n",
       "      <td>7.623341</td>\n",
       "      <td>15.924262</td>\n",
       "      <td>0</td>\n",
       "    </tr>\n",
       "    <tr>\n",
       "      <th>blues.00001_part_2.wav</th>\n",
       "      <td>1562.01714</td>\n",
       "      <td>675.268785</td>\n",
       "      <td>3702.394159</td>\n",
       "      <td>1806.416041</td>\n",
       "      <td>2100.823489</td>\n",
       "      <td>463.457559</td>\n",
       "      <td>1.454818</td>\n",
       "      <td>2.140995</td>\n",
       "      <td>0.053028</td>\n",
       "      <td>0.037683</td>\n",
       "      <td>...</td>\n",
       "      <td>85.392136</td>\n",
       "      <td>125.441933</td>\n",
       "      <td>24.618567</td>\n",
       "      <td>10.299148</td>\n",
       "      <td>18.295586</td>\n",
       "      <td>37.888237</td>\n",
       "      <td>18.626686</td>\n",
       "      <td>0.460019</td>\n",
       "      <td>15.620192</td>\n",
       "      <td>0</td>\n",
       "    </tr>\n",
       "  </tbody>\n",
       "</table>\n",
       "<p>5 rows × 23 columns</p>\n",
       "</div>"
      ],
      "text/plain": [
       "                       spectral_centroid_mean spectral_centroid_std  \\\n",
       "blues.00000_part_1.wav            1790.813935            342.704141   \n",
       "blues.00000_part_2.wav            1766.792144            397.957503   \n",
       "blues.00000_part_3.wav            1810.547646            347.091544   \n",
       "blues.00001_part_1.wav            1373.218531            550.467877   \n",
       "blues.00001_part_2.wav             1562.01714            675.268785   \n",
       "\n",
       "                       spectral_rolloff_mean spectral_rolloff_std  \\\n",
       "blues.00000_part_1.wav            3859.19409           921.202597   \n",
       "blues.00000_part_2.wav           3826.842647           983.443633   \n",
       "blues.00000_part_3.wav           3802.908259           942.628937   \n",
       "blues.00001_part_1.wav            3001.53229          1581.349384   \n",
       "blues.00001_part_2.wav           3702.394159          1806.416041   \n",
       "\n",
       "                       spectral_bandwidth_mean spectral_bandwidth_std  \\\n",
       "blues.00000_part_1.wav             2025.304397             294.144252   \n",
       "blues.00000_part_2.wav             2021.694769             283.675946   \n",
       "blues.00000_part_3.wav             1991.564066              293.89906   \n",
       "blues.00001_part_1.wav             1846.732466             475.537656   \n",
       "blues.00001_part_2.wav             2100.823489             463.457559   \n",
       "\n",
       "                       spectral_flux_mean spectral_flux_std  \\\n",
       "blues.00000_part_1.wav           1.403349          1.503985   \n",
       "blues.00000_part_2.wav           1.360021          1.475419   \n",
       "blues.00000_part_3.wav           1.382695          1.450729   \n",
       "blues.00001_part_1.wav           1.511111          2.243689   \n",
       "blues.00001_part_2.wav           1.454818          2.140995   \n",
       "\n",
       "                       zero_crossings_mean zero_crossings_std  ... mfcc_1_std  \\\n",
       "blues.00000_part_1.wav             0.08039            0.02688  ...  52.330929   \n",
       "blues.00000_part_2.wav            0.078798           0.026847  ...  49.033913   \n",
       "blues.00000_part_3.wav            0.087823           0.028691  ...   47.88345   \n",
       "blues.00001_part_1.wav            0.055316           0.039842  ...  97.679276   \n",
       "blues.00001_part_2.wav            0.053028           0.037683  ...  85.392136   \n",
       "\n",
       "                       mfcc_2_mean mfcc_2_std mfcc_3_mean mfcc_3_std  \\\n",
       "blues.00000_part_1.wav  119.797943  15.516554  -18.328676   16.17243   \n",
       "blues.00000_part_2.wav  123.604179  19.870399  -16.065786  12.937943   \n",
       "blues.00000_part_3.wav  123.225273  15.683563  -24.075006   15.49273   \n",
       "blues.00001_part_1.wav   130.28154  24.444275    0.623084  33.270702   \n",
       "blues.00001_part_2.wav  125.441933  24.618567   10.299148  18.295586   \n",
       "\n",
       "                       mfcc_4_mean mfcc_4_std mfcc_5_mean mfcc_5_std genre  \n",
       "blues.00000_part_1.wav   44.792126  13.987721   -5.382723  12.255576     0  \n",
       "blues.00000_part_2.wav   41.457764  11.908422  -10.554242  11.151757     0  \n",
       "blues.00000_part_3.wav   42.877445  11.143267   -7.042732   14.27177     0  \n",
       "blues.00001_part_1.wav   39.474735  15.110327    7.623341  15.924262     0  \n",
       "blues.00001_part_2.wav   37.888237  18.626686    0.460019  15.620192     0  \n",
       "\n",
       "[5 rows x 23 columns]"
      ]
     },
     "execution_count": 17,
     "metadata": {},
     "output_type": "execute_result"
    }
   ],
   "source": [
    "features_set_2_1 = pd.DataFrame(dict(features_dict)).T\n",
    "features_set_2_1['genre'] = pd.factorize(features_set_2_1['genre'])[0]\n",
    "features_set_2_1.head()"
   ]
  },
  {
   "cell_type": "code",
   "execution_count": 18,
   "id": "efa1a111",
   "metadata": {},
   "outputs": [
    {
     "data": {
      "text/plain": [
       "(3000, 23)"
      ]
     },
     "execution_count": 18,
     "metadata": {},
     "output_type": "execute_result"
    }
   ],
   "source": [
    "features_set_2_1.shape"
   ]
  },
  {
   "cell_type": "markdown",
   "id": "59532e04",
   "metadata": {},
   "source": [
    "Сохраняем DataFrame в csv файл:"
   ]
  },
  {
   "cell_type": "code",
   "execution_count": 19,
   "id": "5de58117",
   "metadata": {},
   "outputs": [],
   "source": [
    "features_set_2_1.to_csv('features_set_2_1.csv')"
   ]
  },
  {
   "cell_type": "markdown",
   "id": "0a7062dd",
   "metadata": {},
   "source": [
    "##  <span style=\"font-family:Times New Roman\">Получаем набор данных №2.2.</span>\n",
    "\n",
    "Используем `multiprocessing.Pool()`, чтобы увеличить производительность,\\\n",
    "Используем `functools.partial()`, чтобы передать параметр `n_slices` в функцию:"
   ]
  },
  {
   "cell_type": "code",
   "execution_count": 11,
   "id": "db85adb5",
   "metadata": {},
   "outputs": [
    {
     "name": "stdout",
     "output_type": "stream",
     "text": [
      "Wall time: 3.05 s\n"
     ]
    }
   ],
   "source": [
    "%%time\n",
    "with multiprocessing.Pool() as pool:\n",
    "    list_of_features_dicts = pool.map(partial(get_song_features_set_2, n_slices=5), files)"
   ]
  },
  {
   "cell_type": "code",
   "execution_count": null,
   "id": "37f9eafb",
   "metadata": {},
   "outputs": [],
   "source": [
    "features_dict = dict()\n",
    "\n",
    "for d in list_of_features_dicts:\n",
    "    features_dict.update(d)"
   ]
  },
  {
   "cell_type": "code",
   "execution_count": null,
   "id": "83285b2b",
   "metadata": {},
   "outputs": [],
   "source": [
    "features_set_2_2 = pd.DataFrame(dict(features_dict)).T\n",
    "features_set_2_2['genre'] = pd.factorize(features_set_2_2['genre'])[0]\n",
    "features_set_2_2.head()"
   ]
  },
  {
   "cell_type": "code",
   "execution_count": null,
   "id": "90f2639b",
   "metadata": {},
   "outputs": [],
   "source": [
    "features_set_2_2.to_csv('features_set_2_2.csv')"
   ]
  },
  {
   "cell_type": "markdown",
   "id": "ae093bc7",
   "metadata": {},
   "source": [
    "##  <span style=\"font-family:Times New Roman\">Получаем набор данных №3</span>"
   ]
  },
  {
   "cell_type": "code",
   "execution_count": 10,
   "id": "d5a2e4a0",
   "metadata": {},
   "outputs": [
    {
     "name": "stdout",
     "output_type": "stream",
     "text": [
      "Wall time: 1min 17s\n"
     ]
    }
   ],
   "source": [
    "%%time\n",
    "json_path = 'C:\\\\Users\\\\micha\\\\OneDrive\\\\Рабочий стол\\\\Курсовая\\\\features_set_3.json'\n",
    "\n",
    "get_song_features_set_3(path, json_path)"
   ]
  },
  {
   "cell_type": "markdown",
   "id": "7e429f77",
   "metadata": {},
   "source": [
    "___ "
   ]
  }
 ],
 "metadata": {
  "colab": {
   "provenance": []
  },
  "kernelspec": {
   "display_name": "Python 3 (ipykernel)",
   "language": "python",
   "name": "python3"
  },
  "language_info": {
   "codemirror_mode": {
    "name": "ipython",
    "version": 3
   },
   "file_extension": ".py",
   "mimetype": "text/x-python",
   "name": "python",
   "nbconvert_exporter": "python",
   "pygments_lexer": "ipython3",
   "version": "3.9.7"
  }
 },
 "nbformat": 4,
 "nbformat_minor": 5
}
