{
 "cells": [
  {
   "cell_type": "markdown",
   "metadata": {},
   "source": [
    "# Оптимизация выполнения кода, векторизация, Numba"
   ]
  },
  {
   "cell_type": "markdown",
   "metadata": {},
   "source": [
    "__Автор задач: Блохин Н.В. (NVBlokhin@fa.ru)__\n",
    "\n",
    "Материалы:\n",
    "* Макрушин С.В. \"Оптимизация выполнения кода, векторизация, Numba\"\n",
    "* IPython Cookbook, Second Edition (2018), глава 4\n",
    "* https://ipython-books.github.io/43-profiling-your-code-line-by-line-with-line_profiler/\n",
    "* https://numba.pydata.org/numba-doc/latest/user/5minguide.html\n",
    "* https://numba.readthedocs.io/en/stable/reference/deprecation.html#deprecation-of-reflection-for-list-and-set-types"
   ]
  },
  {
   "cell_type": "markdown",
   "metadata": {},
   "source": [
    "## Задачи для совместного разбора"
   ]
  },
  {
   "cell_type": "code",
   "execution_count": 1,
   "metadata": {},
   "outputs": [],
   "source": [
    "# !pip install line_profiler"
   ]
  },
  {
   "cell_type": "code",
   "execution_count": 2,
   "metadata": {},
   "outputs": [],
   "source": [
    "import numpy as np\n",
    "from numba import njit\n",
    "import numba"
   ]
  },
  {
   "cell_type": "markdown",
   "metadata": {},
   "source": [
    "1. Сгенерируйте массив `A` из `N=1млн` случайных целых чисел на отрезке от 0 до 1000. Пусть `B[i] = A[i] + 100`. Посчитайте среднее значение массива `B`."
   ]
  },
  {
   "cell_type": "code",
   "execution_count": 3,
   "metadata": {},
   "outputs": [],
   "source": [
    "A = np.random.randint(0, 1000, size=(1000000))"
   ]
  },
  {
   "cell_type": "code",
   "execution_count": 4,
   "metadata": {},
   "outputs": [],
   "source": [
    "def f1(A):\n",
    "    acc = 0\n",
    "    cnt = 0\n",
    "    for i in range(len(A)):\n",
    "        bi = A[i] + 100\n",
    "        acc += bi\n",
    "        cnt += 1\n",
    "    return acc / cnt"
   ]
  },
  {
   "cell_type": "code",
   "execution_count": 5,
   "metadata": {},
   "outputs": [
    {
     "name": "stdout",
     "output_type": "stream",
     "text": [
      "Wall time: 377 ms\n"
     ]
    },
    {
     "data": {
      "text/plain": [
       "599.222235"
      ]
     },
     "execution_count": 5,
     "metadata": {},
     "output_type": "execute_result"
    }
   ],
   "source": [
    "%%time\n",
    "f1(A)"
   ]
  },
  {
   "cell_type": "code",
   "execution_count": 6,
   "metadata": {},
   "outputs": [
    {
     "name": "stdout",
     "output_type": "stream",
     "text": [
      "Wall time: 336 ms\n"
     ]
    },
    {
     "data": {
      "text/plain": [
       "599.222235"
      ]
     },
     "execution_count": 6,
     "metadata": {},
     "output_type": "execute_result"
    }
   ],
   "source": [
    "%time f1(A)"
   ]
  },
  {
   "cell_type": "code",
   "execution_count": 7,
   "metadata": {},
   "outputs": [
    {
     "name": "stdout",
     "output_type": "stream",
     "text": [
      "352 ms ± 32.2 ms per loop (mean ± std. dev. of 7 runs, 1 loop each)\n"
     ]
    }
   ],
   "source": [
    "%%timeit\n",
    "f1(A)"
   ]
  },
  {
   "cell_type": "code",
   "execution_count": 8,
   "metadata": {},
   "outputs": [],
   "source": [
    "def f2(A):\n",
    "    acc = 0\n",
    "    n = len(A)\n",
    "    for i in range(n):\n",
    "        acc += A[i]\n",
    "    return acc / n + 100"
   ]
  },
  {
   "cell_type": "code",
   "execution_count": 9,
   "metadata": {},
   "outputs": [
    {
     "name": "stdout",
     "output_type": "stream",
     "text": [
      "Wall time: 173 ms\n"
     ]
    },
    {
     "data": {
      "text/plain": [
       "599.222235"
      ]
     },
     "execution_count": 9,
     "metadata": {},
     "output_type": "execute_result"
    }
   ],
   "source": [
    "%time f2(A)"
   ]
  },
  {
   "cell_type": "code",
   "execution_count": 10,
   "metadata": {},
   "outputs": [
    {
     "name": "stdout",
     "output_type": "stream",
     "text": [
      "Wall time: 3.48 ms\n"
     ]
    },
    {
     "data": {
      "text/plain": [
       "599.222235"
      ]
     },
     "execution_count": 10,
     "metadata": {},
     "output_type": "execute_result"
    }
   ],
   "source": [
    "%%time \n",
    "A.mean()+100"
   ]
  },
  {
   "cell_type": "code",
   "execution_count": 11,
   "metadata": {},
   "outputs": [],
   "source": [
    "@njit\n",
    "def f3(A):\n",
    "    acc = 0\n",
    "    n = len(A)\n",
    "    for i in range(n):\n",
    "        acc += A[i]\n",
    "    return acc / n + 100"
   ]
  },
  {
   "cell_type": "code",
   "execution_count": 12,
   "metadata": {},
   "outputs": [
    {
     "name": "stdout",
     "output_type": "stream",
     "text": [
      "Wall time: 591 ms\n"
     ]
    },
    {
     "data": {
      "text/plain": [
       "599.222235"
      ]
     },
     "execution_count": 12,
     "metadata": {},
     "output_type": "execute_result"
    }
   ],
   "source": [
    "%%time \n",
    "f3(A)"
   ]
  },
  {
   "cell_type": "markdown",
   "metadata": {},
   "source": [
    "2. Напишите функцию, которая возвращает сумму всех чисел от 0 до x-1. Примените функцию к каждому элементу массива."
   ]
  },
  {
   "cell_type": "code",
   "execution_count": 13,
   "metadata": {},
   "outputs": [],
   "source": [
    "def g(x):\n",
    "    return sum(range(x))"
   ]
  },
  {
   "cell_type": "code",
   "execution_count": 14,
   "metadata": {},
   "outputs": [
    {
     "name": "stdout",
     "output_type": "stream",
     "text": [
      "Wall time: 7.87 s\n"
     ]
    },
    {
     "data": {
      "text/plain": [
       "array([303810, 299151, 301476, ...,  72771, 143916, 478731])"
      ]
     },
     "execution_count": 14,
     "metadata": {},
     "output_type": "execute_result"
    }
   ],
   "source": [
    "%%time\n",
    "np.array([g(x) for x in A])"
   ]
  },
  {
   "cell_type": "code",
   "execution_count": 15,
   "metadata": {},
   "outputs": [],
   "source": [
    "g_v = np.vectorize(g)"
   ]
  },
  {
   "cell_type": "code",
   "execution_count": 16,
   "metadata": {},
   "outputs": [
    {
     "name": "stdout",
     "output_type": "stream",
     "text": [
      "Wall time: 7.59 s\n"
     ]
    },
    {
     "data": {
      "text/plain": [
       "array([303810, 299151, 301476, ...,  72771, 143916, 478731])"
      ]
     },
     "execution_count": 16,
     "metadata": {},
     "output_type": "execute_result"
    }
   ],
   "source": [
    "%%time\n",
    "g_v(A)"
   ]
  },
  {
   "cell_type": "code",
   "execution_count": 17,
   "metadata": {},
   "outputs": [
    {
     "data": {
      "text/plain": [
       "dtype('int32')"
      ]
     },
     "execution_count": 17,
     "metadata": {},
     "output_type": "execute_result"
    }
   ],
   "source": [
    "A.dtype"
   ]
  },
  {
   "cell_type": "code",
   "execution_count": 18,
   "metadata": {},
   "outputs": [],
   "source": [
    "# !pip3 install --user --upgrade numba==0.56.3"
   ]
  },
  {
   "cell_type": "code",
   "execution_count": 19,
   "metadata": {},
   "outputs": [],
   "source": [
    "g_v2 = numba.vectorize([\"int32(int32)\"])(g)"
   ]
  },
  {
   "cell_type": "code",
   "execution_count": 20,
   "metadata": {},
   "outputs": [
    {
     "data": {
      "text/plain": [
       "'0.56.3'"
      ]
     },
     "execution_count": 20,
     "metadata": {},
     "output_type": "execute_result"
    }
   ],
   "source": [
    "numba.__version__"
   ]
  },
  {
   "cell_type": "code",
   "execution_count": 21,
   "metadata": {},
   "outputs": [
    {
     "name": "stdout",
     "output_type": "stream",
     "text": [
      "Wall time: 80.3 ms\n"
     ]
    },
    {
     "data": {
      "text/plain": [
       "array([303810, 299151, 301476, ...,  72771, 143916, 478731])"
      ]
     },
     "execution_count": 21,
     "metadata": {},
     "output_type": "execute_result"
    }
   ],
   "source": [
    "%%time\n",
    "g_v2(A)"
   ]
  },
  {
   "cell_type": "markdown",
   "metadata": {},
   "source": [
    "3. Создайте таблицу 2млн строк и с 4 столбцами, заполненными случайными числами. Добавьте столбец `key`, которые содержит элементы из множества английских букв. Выберите из таблицы подмножество строк, для которых в столбце `key` указаны первые 5 английских букв."
   ]
  },
  {
   "cell_type": "code",
   "execution_count": 22,
   "metadata": {},
   "outputs": [],
   "source": [
    "%load_ext line_profiler"
   ]
  },
  {
   "cell_type": "code",
   "execution_count": 23,
   "metadata": {},
   "outputs": [
    {
     "data": {
      "text/html": [
       "<div>\n",
       "<style scoped>\n",
       "    .dataframe tbody tr th:only-of-type {\n",
       "        vertical-align: middle;\n",
       "    }\n",
       "\n",
       "    .dataframe tbody tr th {\n",
       "        vertical-align: top;\n",
       "    }\n",
       "\n",
       "    .dataframe thead th {\n",
       "        text-align: right;\n",
       "    }\n",
       "</style>\n",
       "<table border=\"1\" class=\"dataframe\">\n",
       "  <thead>\n",
       "    <tr style=\"text-align: right;\">\n",
       "      <th></th>\n",
       "      <th>col0</th>\n",
       "      <th>col1</th>\n",
       "      <th>col2</th>\n",
       "      <th>col3</th>\n",
       "      <th>key</th>\n",
       "    </tr>\n",
       "  </thead>\n",
       "  <tbody>\n",
       "    <tr>\n",
       "      <th>0</th>\n",
       "      <td>0.180537</td>\n",
       "      <td>-1.407737</td>\n",
       "      <td>-0.841830</td>\n",
       "      <td>1.257013</td>\n",
       "      <td>j</td>\n",
       "    </tr>\n",
       "    <tr>\n",
       "      <th>1</th>\n",
       "      <td>-0.461220</td>\n",
       "      <td>-0.893670</td>\n",
       "      <td>-0.658863</td>\n",
       "      <td>0.870896</td>\n",
       "      <td>w</td>\n",
       "    </tr>\n",
       "  </tbody>\n",
       "</table>\n",
       "</div>"
      ],
      "text/plain": [
       "       col0      col1      col2      col3 key\n",
       "0  0.180537 -1.407737 -0.841830  1.257013   j\n",
       "1 -0.461220 -0.893670 -0.658863  0.870896   w"
      ]
     },
     "execution_count": 23,
     "metadata": {},
     "output_type": "execute_result"
    }
   ],
   "source": [
    "import pandas as pd\n",
    "import string\n",
    "\n",
    "N = 2_000_000\n",
    "df = pd.DataFrame(np.random.randn(N, 4), columns=[f\"col{i}\" for i in range(4)])\n",
    "df[\"key\"] = np.random.choice(list(string.ascii_letters.lower()), N, replace=True)\n",
    "df.head(2)"
   ]
  },
  {
   "cell_type": "code",
   "execution_count": 24,
   "metadata": {},
   "outputs": [],
   "source": [
    "def h1(df):\n",
    "    mask = []\n",
    "    for _, row in df.iterrows():\n",
    "        mask.append(row['key'] in {'a', 'b', 'c', 'd', 'e'})\n",
    "    return df[mask]"
   ]
  },
  {
   "cell_type": "code",
   "execution_count": 25,
   "metadata": {},
   "outputs": [],
   "source": [
    "# %%time\n",
    "# h1(df.head(50000))"
   ]
  },
  {
   "cell_type": "code",
   "execution_count": 26,
   "metadata": {},
   "outputs": [],
   "source": [
    "%lprun -f h1 h1(df.head(50000))"
   ]
  },
  {
   "attachments": {
    "image.png": {
     "image/png": "[encoded data removed]"
    }
   },
   "cell_type": "markdown",
   "metadata": {},
   "source": [
    "![image.png](attachment:image.png)"
   ]
  },
  {
   "cell_type": "code",
   "execution_count": 27,
   "metadata": {},
   "outputs": [
    {
     "name": "stdout",
     "output_type": "stream",
     "text": [
      "Wall time: 98.3 ms\n"
     ]
    },
    {
     "data": {
      "text/html": [
       "<div>\n",
       "<style scoped>\n",
       "    .dataframe tbody tr th:only-of-type {\n",
       "        vertical-align: middle;\n",
       "    }\n",
       "\n",
       "    .dataframe tbody tr th {\n",
       "        vertical-align: top;\n",
       "    }\n",
       "\n",
       "    .dataframe thead th {\n",
       "        text-align: right;\n",
       "    }\n",
       "</style>\n",
       "<table border=\"1\" class=\"dataframe\">\n",
       "  <thead>\n",
       "    <tr style=\"text-align: right;\">\n",
       "      <th></th>\n",
       "      <th>col0</th>\n",
       "      <th>col1</th>\n",
       "      <th>col2</th>\n",
       "      <th>col3</th>\n",
       "      <th>key</th>\n",
       "    </tr>\n",
       "  </thead>\n",
       "  <tbody>\n",
       "    <tr>\n",
       "      <th>3</th>\n",
       "      <td>0.105590</td>\n",
       "      <td>-0.303867</td>\n",
       "      <td>-0.857950</td>\n",
       "      <td>1.700898</td>\n",
       "      <td>e</td>\n",
       "    </tr>\n",
       "    <tr>\n",
       "      <th>4</th>\n",
       "      <td>-0.156182</td>\n",
       "      <td>1.108920</td>\n",
       "      <td>1.005863</td>\n",
       "      <td>-0.223902</td>\n",
       "      <td>e</td>\n",
       "    </tr>\n",
       "    <tr>\n",
       "      <th>7</th>\n",
       "      <td>1.313007</td>\n",
       "      <td>-0.690460</td>\n",
       "      <td>-0.797278</td>\n",
       "      <td>-0.731815</td>\n",
       "      <td>e</td>\n",
       "    </tr>\n",
       "    <tr>\n",
       "      <th>12</th>\n",
       "      <td>-0.156375</td>\n",
       "      <td>-1.456195</td>\n",
       "      <td>-0.137882</td>\n",
       "      <td>2.380451</td>\n",
       "      <td>c</td>\n",
       "    </tr>\n",
       "    <tr>\n",
       "      <th>13</th>\n",
       "      <td>0.001624</td>\n",
       "      <td>1.205149</td>\n",
       "      <td>-0.439500</td>\n",
       "      <td>0.821792</td>\n",
       "      <td>e</td>\n",
       "    </tr>\n",
       "    <tr>\n",
       "      <th>...</th>\n",
       "      <td>...</td>\n",
       "      <td>...</td>\n",
       "      <td>...</td>\n",
       "      <td>...</td>\n",
       "      <td>...</td>\n",
       "    </tr>\n",
       "    <tr>\n",
       "      <th>1999978</th>\n",
       "      <td>0.079490</td>\n",
       "      <td>-0.911875</td>\n",
       "      <td>-0.629529</td>\n",
       "      <td>1.664773</td>\n",
       "      <td>e</td>\n",
       "    </tr>\n",
       "    <tr>\n",
       "      <th>1999980</th>\n",
       "      <td>1.498387</td>\n",
       "      <td>0.305434</td>\n",
       "      <td>0.906947</td>\n",
       "      <td>0.080666</td>\n",
       "      <td>d</td>\n",
       "    </tr>\n",
       "    <tr>\n",
       "      <th>1999985</th>\n",
       "      <td>-0.534869</td>\n",
       "      <td>1.237163</td>\n",
       "      <td>0.246392</td>\n",
       "      <td>-0.097751</td>\n",
       "      <td>c</td>\n",
       "    </tr>\n",
       "    <tr>\n",
       "      <th>1999987</th>\n",
       "      <td>0.482453</td>\n",
       "      <td>2.447727</td>\n",
       "      <td>-0.708656</td>\n",
       "      <td>0.065711</td>\n",
       "      <td>c</td>\n",
       "    </tr>\n",
       "    <tr>\n",
       "      <th>1999990</th>\n",
       "      <td>0.054350</td>\n",
       "      <td>-0.615916</td>\n",
       "      <td>0.088411</td>\n",
       "      <td>0.907489</td>\n",
       "      <td>c</td>\n",
       "    </tr>\n",
       "  </tbody>\n",
       "</table>\n",
       "<p>384130 rows × 5 columns</p>\n",
       "</div>"
      ],
      "text/plain": [
       "             col0      col1      col2      col3 key\n",
       "3        0.105590 -0.303867 -0.857950  1.700898   e\n",
       "4       -0.156182  1.108920  1.005863 -0.223902   e\n",
       "7        1.313007 -0.690460 -0.797278 -0.731815   e\n",
       "12      -0.156375 -1.456195 -0.137882  2.380451   c\n",
       "13       0.001624  1.205149 -0.439500  0.821792   e\n",
       "...           ...       ...       ...       ...  ..\n",
       "1999978  0.079490 -0.911875 -0.629529  1.664773   e\n",
       "1999980  1.498387  0.305434  0.906947  0.080666   d\n",
       "1999985 -0.534869  1.237163  0.246392 -0.097751   c\n",
       "1999987  0.482453  2.447727 -0.708656  0.065711   c\n",
       "1999990  0.054350 -0.615916  0.088411  0.907489   c\n",
       "\n",
       "[384130 rows x 5 columns]"
      ]
     },
     "execution_count": 27,
     "metadata": {},
     "output_type": "execute_result"
    }
   ],
   "source": [
    "%%time\n",
    "df[df['key'].isin({'a', 'b', 'c', 'd', 'e'})]"
   ]
  },
  {
   "cell_type": "markdown",
   "metadata": {},
   "source": [
    "## Лабораторная работа 3"
   ]
  },
  {
   "cell_type": "code",
   "execution_count": 28,
   "metadata": {},
   "outputs": [
    {
     "name": "stdout",
     "output_type": "stream",
     "text": [
      "The line_profiler extension is already loaded. To reload it, use:\n",
      "  %reload_ext line_profiler\n"
     ]
    }
   ],
   "source": [
    "import numpy as np\n",
    "import pandas as pd\n",
    "from numba import jit, njit\n",
    "from numba.typed import List\n",
    "import numba\n",
    "from typing import Union\n",
    "import json\n",
    "import re\n",
    "\n",
    "%load_ext line_profiler"
   ]
  },
  {
   "cell_type": "markdown",
   "metadata": {},
   "source": [
    "В файлах `recipes_sample.csv` и `reviews_sample.csv` (__ЛР 2__) находится информация об рецептах блюд и отзывах на эти рецепты соответственно. Загрузите данные из файлов в виде `pd.DataFrame` с названиями `recipes` и `reviews`. Обратите внимание на корректное считывание столбца(ов) с индексами. Приведите столбцы к нужным типам."
   ]
  },
  {
   "cell_type": "code",
   "execution_count": 29,
   "metadata": {},
   "outputs": [],
   "source": [
    "recipes = pd.read_csv('recipes_sample.csv')\n",
    "recipes[\"submitted\"] = pd.to_datetime(recipes[\"submitted\"])\n",
    "\n",
    "reviews = pd.read_csv('reviews_sample.csv')\n",
    "reviews.rename(columns={'Unnamed: 0': 'review_id'}, inplace=True)\n",
    "reviews = reviews.set_index('review_id').sort_values(by='review_id')\n",
    "reviews[\"date\"] = pd.to_datetime(reviews[\"date\"])"
   ]
  },
  {
   "cell_type": "markdown",
   "metadata": {},
   "source": [
    "## Измерение времени выполнения кода"
   ]
  },
  {
   "cell_type": "markdown",
   "metadata": {},
   "source": [
    "Назовем полным описанием рецепта строку, полученную путем конкатенации названия и описания рецепта через пробел. Удалите строки для рецептов, которые были добавлены не в 2010 году.\n",
    "\n",
    "Реализуйте несколько вариантов функции подсчета средней длины полного описания рецепта для рецептов, добавленных в 2010 году."
   ]
  },
  {
   "cell_type": "code",
   "execution_count": 30,
   "metadata": {},
   "outputs": [
    {
     "data": {
      "text/plain": [
       "0        george s at the cove  black bean soup an origi...\n",
       "1        healthy for them  yogurt popsicles my children...\n",
       "2        i can t believe it s spinach these were so go,...\n",
       "3        italian  gut busters my sister-in-law made the...\n",
       "4        love is in the air  beef fondue   sauces i thi...\n",
       "                               ...                        \n",
       "29995    zurie s holey rustic olive and cheddar bread t...\n",
       "29996    zwetschgenkuchen  bavarian plum cake this is a...\n",
       "29997    zwiebelkuchen   southwest german onion cake th...\n",
       "29998    zydeco soup this is a delicious soup that i or...\n",
       "29999    cookies by design   cookies on a stick i've he...\n",
       "Name: desc_full, Length: 30000, dtype: object"
      ]
     },
     "execution_count": 30,
     "metadata": {},
     "output_type": "execute_result"
    }
   ],
   "source": [
    "recipes['desc_full'] = recipes.name + ' ' + recipes.description\n",
    "recipes['desc_full']"
   ]
  },
  {
   "cell_type": "code",
   "execution_count": 31,
   "metadata": {
    "scrolled": true
   },
   "outputs": [
    {
     "data": {
      "text/html": [
       "<div>\n",
       "<style scoped>\n",
       "    .dataframe tbody tr th:only-of-type {\n",
       "        vertical-align: middle;\n",
       "    }\n",
       "\n",
       "    .dataframe tbody tr th {\n",
       "        vertical-align: top;\n",
       "    }\n",
       "\n",
       "    .dataframe thead th {\n",
       "        text-align: right;\n",
       "    }\n",
       "</style>\n",
       "<table border=\"1\" class=\"dataframe\">\n",
       "  <thead>\n",
       "    <tr style=\"text-align: right;\">\n",
       "      <th></th>\n",
       "      <th>name</th>\n",
       "      <th>id</th>\n",
       "      <th>minutes</th>\n",
       "      <th>contributor_id</th>\n",
       "      <th>submitted</th>\n",
       "      <th>n_steps</th>\n",
       "      <th>description</th>\n",
       "      <th>n_ingredients</th>\n",
       "      <th>desc_full</th>\n",
       "    </tr>\n",
       "  </thead>\n",
       "  <tbody>\n",
       "    <tr>\n",
       "      <th>52</th>\n",
       "      <td>just peachy  cobbler</td>\n",
       "      <td>437637</td>\n",
       "      <td>70</td>\n",
       "      <td>1085867</td>\n",
       "      <td>2010-09-17</td>\n",
       "      <td>10.0</td>\n",
       "      <td>all i can say is yummmmmm . . . a simple to ma...</td>\n",
       "      <td>10.0</td>\n",
       "      <td>just peachy  cobbler all i can say is yummmmmm...</td>\n",
       "    </tr>\n",
       "    <tr>\n",
       "      <th>68</th>\n",
       "      <td>the heat  spicy party mix</td>\n",
       "      <td>437219</td>\n",
       "      <td>95</td>\n",
       "      <td>1682162</td>\n",
       "      <td>2010-09-13</td>\n",
       "      <td>NaN</td>\n",
       "      <td>a spicy chex mix that will really warm your gu...</td>\n",
       "      <td>11.0</td>\n",
       "      <td>the heat  spicy party mix a spicy chex mix tha...</td>\n",
       "    </tr>\n",
       "    <tr>\n",
       "      <th>81</th>\n",
       "      <td>iowa state fair  sweet dough caramel cinnamon ...</td>\n",
       "      <td>435816</td>\n",
       "      <td>80</td>\n",
       "      <td>17803</td>\n",
       "      <td>2010-08-24</td>\n",
       "      <td>29.0</td>\n",
       "      <td>this was the winning entry at the 2010 iowa st...</td>\n",
       "      <td>NaN</td>\n",
       "      <td>iowa state fair  sweet dough caramel cinnamon ...</td>\n",
       "    </tr>\n",
       "    <tr>\n",
       "      <th>104</th>\n",
       "      <td>1 minute blueberries   cream</td>\n",
       "      <td>428566</td>\n",
       "      <td>2</td>\n",
       "      <td>1375473</td>\n",
       "      <td>2010-06-04</td>\n",
       "      <td>4.0</td>\n",
       "      <td>i was craving blueberry tonight but wanted non...</td>\n",
       "      <td>NaN</td>\n",
       "      <td>1 minute blueberries   cream i was craving blu...</td>\n",
       "    </tr>\n",
       "    <tr>\n",
       "      <th>146</th>\n",
       "      <td>2 2 2 diet mocha</td>\n",
       "      <td>416599</td>\n",
       "      <td>5</td>\n",
       "      <td>789314</td>\n",
       "      <td>2010-03-15</td>\n",
       "      <td>5.0</td>\n",
       "      <td>while trying to come up with a satisfying \"sna...</td>\n",
       "      <td>7.0</td>\n",
       "      <td>2 2 2 diet mocha while trying to come up with ...</td>\n",
       "    </tr>\n",
       "  </tbody>\n",
       "</table>\n",
       "</div>"
      ],
      "text/plain": [
       "                                                  name      id  minutes  \\\n",
       "52                                just peachy  cobbler  437637       70   \n",
       "68                           the heat  spicy party mix  437219       95   \n",
       "81   iowa state fair  sweet dough caramel cinnamon ...  435816       80   \n",
       "104                       1 minute blueberries   cream  428566        2   \n",
       "146                                   2 2 2 diet mocha  416599        5   \n",
       "\n",
       "     contributor_id  submitted  n_steps  \\\n",
       "52          1085867 2010-09-17     10.0   \n",
       "68          1682162 2010-09-13      NaN   \n",
       "81            17803 2010-08-24     29.0   \n",
       "104         1375473 2010-06-04      4.0   \n",
       "146          789314 2010-03-15      5.0   \n",
       "\n",
       "                                           description  n_ingredients  \\\n",
       "52   all i can say is yummmmmm . . . a simple to ma...           10.0   \n",
       "68   a spicy chex mix that will really warm your gu...           11.0   \n",
       "81   this was the winning entry at the 2010 iowa st...            NaN   \n",
       "104  i was craving blueberry tonight but wanted non...            NaN   \n",
       "146  while trying to come up with a satisfying \"sna...            7.0   \n",
       "\n",
       "                                             desc_full  \n",
       "52   just peachy  cobbler all i can say is yummmmmm...  \n",
       "68   the heat  spicy party mix a spicy chex mix tha...  \n",
       "81   iowa state fair  sweet dough caramel cinnamon ...  \n",
       "104  1 minute blueberries   cream i was craving blu...  \n",
       "146  2 2 2 diet mocha while trying to come up with ...  "
      ]
     },
     "execution_count": 31,
     "metadata": {},
     "output_type": "execute_result"
    }
   ],
   "source": [
    "recipes.drop(np.where(recipes.submitted.dt.year != 2010)[0], inplace=True)\n",
    "recipes.head()"
   ]
  },
  {
   "cell_type": "markdown",
   "metadata": {},
   "source": [
    "**1\\.1** С использованием метода `DataFrame.iterrows` таблицы:\n",
    "\n",
    "    - функция принимает на вход таблицу, содержащую рецепты за 2010 год;\n",
    "    \n",
    "    - нахождение полного описания рецепта осуществляется внутри цикла по `iterrows` для каждой строки по отдельности."
   ]
  },
  {
   "cell_type": "code",
   "execution_count": 32,
   "metadata": {},
   "outputs": [],
   "source": [
    "def get_mean_len_A(df: pd.DataFrame) -> float:\n",
    "    desc_len = 0\n",
    "    for i, row in df.iterrows():\n",
    "        desc_len += len(row['name'] + ' ' + row['description'])\n",
    "    return desc_len/df.shape[0]"
   ]
  },
  {
   "cell_type": "markdown",
   "metadata": {},
   "source": [
    "**1\\.2.** С использованием метода `DataFrame.apply` таблицы:\n",
    "\n",
    "    - функция принимает на вход таблицу, содержащую рецепты за 2010 год;\n",
    "    \n",
    "    - вызываете метод apply у таблицы, в качестве аргумента передаете функцию, которая возвращает полное описание для каждой строки;\n",
    "    \n",
    "    - считаете среднюю длину описаний, вызвав соответствующий метод серии."
   ]
  },
  {
   "cell_type": "code",
   "execution_count": 33,
   "metadata": {},
   "outputs": [],
   "source": [
    "def get_desc_full(df: pd.DataFrame):\n",
    "    return df['name'] + ' ' + df['description']"
   ]
  },
  {
   "cell_type": "code",
   "execution_count": 34,
   "metadata": {},
   "outputs": [],
   "source": [
    "def get_mean_len_B(df: pd.DataFrame) -> float:\n",
    "    return df.apply(lambda x: get_desc_full(x), axis=1).str.len().mean()"
   ]
  },
  {
   "cell_type": "markdown",
   "metadata": {},
   "source": [
    "**1\\.3.** С использованием векторизованных методов серий `pd.Series`:\n",
    "\n",
    "    - функция принимает на вход таблицу, содержащую рецепты за 2010 год;\n",
    "    \n",
    "    - при помощи векторизированных операций получаете столбец с полным описанием;\n",
    "    \n",
    "    - при помощи векторизированных операций получаете длины полного описания;\n",
    "    \n",
    "    - при помощи векторизированных операций получаете среднюю длину полных описаний. "
   ]
  },
  {
   "cell_type": "code",
   "execution_count": 35,
   "metadata": {},
   "outputs": [],
   "source": [
    "def get_mean_len_C(df: pd.DataFrame) -> float:\n",
    "    return (df.name + ' ' + df.description).apply(len).mean()"
   ]
  },
  {
   "cell_type": "markdown",
   "metadata": {},
   "source": [
    "1.4 Проверьте, что результаты работы всех написанных функций корректны и совпадают. Измерьте выполнения всех написанных функций при помощи магических команд `time` и `timeit`."
   ]
  },
  {
   "cell_type": "code",
   "execution_count": 36,
   "metadata": {},
   "outputs": [],
   "source": [
    "assert get_mean_len_A(recipes) == get_mean_len_B(recipes) == get_mean_len_C(recipes)"
   ]
  },
  {
   "cell_type": "markdown",
   "metadata": {},
   "source": [
    "**get_mean_len_A**"
   ]
  },
  {
   "cell_type": "code",
   "execution_count": 37,
   "metadata": {},
   "outputs": [
    {
     "name": "stdout",
     "output_type": "stream",
     "text": [
      "Wall time: 114 ms\n"
     ]
    },
    {
     "data": {
      "text/plain": [
       "265.501300390117"
      ]
     },
     "execution_count": 37,
     "metadata": {},
     "output_type": "execute_result"
    }
   ],
   "source": [
    "%time get_mean_len_A(recipes)"
   ]
  },
  {
   "cell_type": "code",
   "execution_count": 38,
   "metadata": {},
   "outputs": [
    {
     "name": "stdout",
     "output_type": "stream",
     "text": [
      "156 ms ± 14.4 ms per loop (mean ± std. dev. of 7 runs, 10 loops each)\n"
     ]
    }
   ],
   "source": [
    "%timeit get_mean_len_A(recipes)"
   ]
  },
  {
   "cell_type": "markdown",
   "metadata": {},
   "source": [
    "**get_mean_len_B**"
   ]
  },
  {
   "cell_type": "code",
   "execution_count": 39,
   "metadata": {},
   "outputs": [
    {
     "name": "stdout",
     "output_type": "stream",
     "text": [
      "Wall time: 68.2 ms\n"
     ]
    },
    {
     "data": {
      "text/plain": [
       "265.501300390117"
      ]
     },
     "execution_count": 39,
     "metadata": {},
     "output_type": "execute_result"
    }
   ],
   "source": [
    "%time get_mean_len_B(recipes)"
   ]
  },
  {
   "cell_type": "code",
   "execution_count": 40,
   "metadata": {},
   "outputs": [
    {
     "name": "stdout",
     "output_type": "stream",
     "text": [
      "49.6 ms ± 2.3 ms per loop (mean ± std. dev. of 7 runs, 10 loops each)\n"
     ]
    }
   ],
   "source": [
    "%timeit get_mean_len_B(recipes)"
   ]
  },
  {
   "cell_type": "markdown",
   "metadata": {},
   "source": [
    "**get_mean_len_C**"
   ]
  },
  {
   "cell_type": "code",
   "execution_count": 41,
   "metadata": {},
   "outputs": [
    {
     "name": "stdout",
     "output_type": "stream",
     "text": [
      "Wall time: 2.99 ms\n"
     ]
    },
    {
     "data": {
      "text/plain": [
       "265.501300390117"
      ]
     },
     "execution_count": 41,
     "metadata": {},
     "output_type": "execute_result"
    }
   ],
   "source": [
    "%time get_mean_len_C(recipes)"
   ]
  },
  {
   "cell_type": "code",
   "execution_count": 42,
   "metadata": {},
   "outputs": [
    {
     "name": "stdout",
     "output_type": "stream",
     "text": [
      "2.61 ms ± 157 µs per loop (mean ± std. dev. of 7 runs, 100 loops each)\n"
     ]
    }
   ],
   "source": [
    "%timeit get_mean_len_C(recipes)"
   ]
  },
  {
   "cell_type": "markdown",
   "metadata": {},
   "source": [
    "## Анализ пошагового выполнения кода "
   ]
  },
  {
   "cell_type": "markdown",
   "metadata": {},
   "source": [
    "Вам предлагается воспользоваться функцией, которая собирает статистику о том, сколько отзывов содержит то или иное слово. "
   ]
  },
  {
   "cell_type": "code",
   "execution_count": 43,
   "metadata": {},
   "outputs": [],
   "source": [
    "def get_word_reviews_count(df):\n",
    "    word_reviews = {}\n",
    "    for _, row in df.dropna(subset=[\"review\"]).iterrows():\n",
    "        recipe_id, review = row[\"recipe_id\"], row[\"review\"]\n",
    "        words = re.sub(\"[^A-Za-z\\s]\", \"\", review).split(\" \")\n",
    "        for word in words:\n",
    "            if word not in word_reviews:\n",
    "                word_reviews[word] = []\n",
    "            word_reviews[word].append(recipe_id)\n",
    "\n",
    "    word_reviews_count = {}\n",
    "    for _, row in df.dropna(subset=[\"review\"]).iterrows():\n",
    "        review = row[\"review\"]\n",
    "        words = re.sub(\"[^A-Za-z\\s]\", \"\", review).split(\" \")\n",
    "        for word in words:\n",
    "            word_reviews_count[word] = len(word_reviews[word])\n",
    "    return word_reviews_count"
   ]
  },
  {
   "cell_type": "markdown",
   "metadata": {},
   "source": [
    "**2.1** Найдите узкие места в коде, проанализировав код функции по шагам, используя профайлер. Сохраните результаты работы профайлера в отдельную текстовую ячейку. Выпишите (словами), что в имеющемся коде реализовано неоптимально. "
   ]
  },
  {
   "cell_type": "code",
   "execution_count": 44,
   "metadata": {},
   "outputs": [],
   "source": [
    "# %lprun -f get_word_reviews_count get_word_reviews_count(reviews)"
   ]
  },
  {
   "cell_type": "markdown",
   "metadata": {},
   "source": [
    "```\n",
    "Timer unit: 1e-07 s\n",
    "\n",
    "Total time: 180.858 s\n",
    "File: <ipython-input-16-5fed0d4e2c27>\n",
    "Function: get_word_reviews_count at line 1\n",
    "\n",
    "Line #      Hits         Time  Per Hit   % Time  Line Contents\n",
    "==============================================================\n",
    "     1                                           def get_word_reviews_count(df):\n",
    "     2         1         29.0     29.0      0.0      word_reviews = {}\n",
    "     3    126680  522938547.0   4128.0     28.9      for _, row in df.dropna(subset=[\"review\"]).iterrows():\n",
    "     4    126679  188459100.0   1487.7     10.4          recipe_id, review = row[\"recipe_id\"], row[\"review\"]\n",
    "     5    126679   47758191.0    377.0      2.6          words = re.sub(\"[^A-Za-z\\s]\", \"\", review).split(\" \")\n",
    "     6   6918689   57968353.0      8.4      3.2          for word in words:\n",
    "     7   6792010   77278134.0     11.4      4.3              if word not in word_reviews:\n",
    "     8     93059    1473423.0     15.8      0.1                  word_reviews[word] = []\n",
    "     9   6792010   86305662.0     12.7      4.8              word_reviews[word].append(recipe_id)\n",
    "    10                                           \n",
    "    11         1         20.0     20.0      0.0      word_reviews_count = {}\n",
    "    12    126680  501380925.0   3957.9     27.7      for _, row in df.dropna(subset=[\"review\"]).iterrows():\n",
    "    13    126679  103652649.0    818.2      5.7          review = row[\"review\"]\n",
    "    14    126679   45580714.0    359.8      2.5          words = re.sub(\"[^A-Za-z\\s]\", \"\", review).split(\" \")\n",
    "    15   6918689   59074347.0      8.5      3.3          for word in words:\n",
    "    16   6792010  116711331.0     17.2      6.5              word_reviews_count[word] = len(word_reviews[word])\n",
    "    17         1         20.0     20.0      0.0      return word_reviews_count\n",
    "```"
   ]
  },
  {
   "cell_type": "markdown",
   "metadata": {},
   "source": [
    "* $56.6\\text{%}$ времени функции тратится на две строки (3, 12) создания цикла (с iterrows())\n",
    "* $10.4 \\text{%}$ времени функции тратится на строку (4) присвоения `recipe_id` и `review`\n",
    "* $6.5 \\text{%}$ времени функции тратится на строку (16) заполнение словаря длинами "
   ]
  },
  {
   "cell_type": "markdown",
   "metadata": {},
   "source": [
    "**2.2**  Оптимизируйте функцию и добейтесь значительного (как минимум, в 5 раз) прироста в скорости выполнения. Для демонстрации результата измерьте скорость выполнения оригинальной функции и функции, написанной вами."
   ]
  },
  {
   "cell_type": "code",
   "execution_count": 45,
   "metadata": {},
   "outputs": [],
   "source": [
    "from collections import Counter"
   ]
  },
  {
   "cell_type": "code",
   "execution_count": 46,
   "metadata": {
    "scrolled": true
   },
   "outputs": [],
   "source": [
    "def get_word_reviews_count_opt (df):\n",
    "    descs = df.dropna(subset=[\"review\"])[\"review\"].apply(lambda x: re.sub(\"[^A-Za-z\\s]\", \"\", str(x)).split(\" \")).values\n",
    "    words = list()\n",
    "\n",
    "    for desc in descs:\n",
    "        words.extend(desc)\n",
    "\n",
    "    return Counter(words)"
   ]
  },
  {
   "cell_type": "code",
   "execution_count": 47,
   "metadata": {},
   "outputs": [],
   "source": [
    "# %time get_word_reviews_count(reviews)"
   ]
  },
  {
   "cell_type": "markdown",
   "metadata": {},
   "source": [
    "```\n",
    "Wall time: 1min 8s\n",
    "```"
   ]
  },
  {
   "cell_type": "code",
   "execution_count": 48,
   "metadata": {},
   "outputs": [
    {
     "name": "stdout",
     "output_type": "stream",
     "text": [
      "Wall time: 3.7 s\n"
     ]
    },
    {
     "data": {
      "text/plain": [
       "Counter({'very': 26040,\n",
       "         'sweet': 6989,\n",
       "         'after': 5843,\n",
       "         'i': 7877,\n",
       "         'waited': 149,\n",
       "         'the': 266530,\n",
       "         '': 330966,\n",
       "         'days': 1168,\n",
       "         'bought': 1514,\n",
       "         'more': 18338,\n",
       "         'pints': 107,\n",
       "         'of': 109239,\n",
       "         'raspberries': 355,\n",
       "         'and': 219215,\n",
       "         'added': 22099,\n",
       "         'them': 25768,\n",
       "         'to': 132170,\n",
       "         'mix': 5303,\n",
       "         'im': 284,\n",
       "         'going': 3949,\n",
       "         'add': 13152,\n",
       "         'some': 21057,\n",
       "         'as': 35863,\n",
       "         'a': 166467,\n",
       "         'cake': 6951,\n",
       "         'filling': 3064,\n",
       "         'today': 1915,\n",
       "         'will': 24097,\n",
       "         'take': 2333,\n",
       "         'photo': 552,\n",
       "         'Just': 2362,\n",
       "         'an': 10577,\n",
       "         'observation': 8,\n",
       "         'so': 46848,\n",
       "         'I': 288243,\n",
       "         'not': 23840,\n",
       "         'rate': 687,\n",
       "         'followed': 4880,\n",
       "         'this': 93873,\n",
       "         'procedure': 18,\n",
       "         'with': 59275,\n",
       "         'strawberries': 823,\n",
       "         'instead': 11644,\n",
       "         'Perhaps': 255,\n",
       "         'is': 56519,\n",
       "         'reason': 644,\n",
       "         'it': 133219,\n",
       "         'did': 18661,\n",
       "         'work': 3775,\n",
       "         'well': 9879,\n",
       "         'Sorry': 671,\n",
       "         'report': 51,\n",
       "         'that': 38949,\n",
       "         'in': 62796,\n",
       "         'August': 85,\n",
       "         'were': 21189,\n",
       "         'moldy': 7,\n",
       "         'October': 103,\n",
       "         'They': 5948,\n",
       "         'stored': 82,\n",
       "         'my': 44644,\n",
       "         'downstairs': 4,\n",
       "         'fridge': 1463,\n",
       "         'which': 8103,\n",
       "         'cold': 1565,\n",
       "         'infrequently': 1,\n",
       "         'opened': 133,\n",
       "         'Delicious': 3268,\n",
       "         'freshtasting': 18,\n",
       "         'prior': 289,\n",
       "         'though': 4942,\n",
       "         'So': 4779,\n",
       "         'keep': 2191,\n",
       "         'sharp': 444,\n",
       "         'eye': 274,\n",
       "         'on': 36121,\n",
       "         'Personally': 75,\n",
       "         'would': 16822,\n",
       "         'longer': 1892,\n",
       "         'than': 10347,\n",
       "         'month': 422,\n",
       "         'This': 39555,\n",
       "         'recipe': 71751,\n",
       "         'also': 15275,\n",
       "         'appears': 45,\n",
       "         'posted': 1249,\n",
       "         'July': 226,\n",
       "         'when': 9537,\n",
       "         'tried': 4747,\n",
       "         'own': 2124,\n",
       "         'Edna': 4,\n",
       "         'Lewis': 2,\n",
       "         'cookbook': 704,\n",
       "         'was': 89617,\n",
       "         'OVERLY': 2,\n",
       "         'too': 16024,\n",
       "         'start': 780,\n",
       "         'out': 25697,\n",
       "         'or': 12433,\n",
       "         'cup': 8138,\n",
       "         'sugar': 9368,\n",
       "         'jsut': 6,\n",
       "         'from': 12975,\n",
       "         'there': 4608,\n",
       "         'cups': 2830,\n",
       "         'way': 8213,\n",
       "         'much': 15206,\n",
       "         'had': 28047,\n",
       "         'go': 4057,\n",
       "         'back': 3647,\n",
       "         'grocery': 461,\n",
       "         'store': 1719,\n",
       "         'buy': 1231,\n",
       "         'because': 11649,\n",
       "         'made': 39363,\n",
       "         'Overall': 421,\n",
       "         'but': 43035,\n",
       "         'long': 2412,\n",
       "         'narrow': 14,\n",
       "         'box': 743,\n",
       "         'Its': 3661,\n",
       "         'perfect': 7807,\n",
       "         'fit': 650,\n",
       "         'for': 123162,\n",
       "         'plus': 925,\n",
       "         'little': 16798,\n",
       "         'extra': 5038,\n",
       "         'impressed': 532,\n",
       "         'It': 19513,\n",
       "         'exceptionally': 45,\n",
       "         'oversweet': 2,\n",
       "         'If': 2364,\n",
       "         'you': 28143,\n",
       "         'make': 37321,\n",
       "         'simple': 4911,\n",
       "         'MAKE': 56,\n",
       "         'SURE': 23,\n",
       "         'TO': 120,\n",
       "         'ADD': 18,\n",
       "         'LESS': 6,\n",
       "         'SUGAR': 10,\n",
       "         'Very': 8891,\n",
       "         'good': 31181,\n",
       "         'Better': 198,\n",
       "         'real': 2083,\n",
       "         'These': 8403,\n",
       "         'taste': 11290,\n",
       "         'absolutely': 2463,\n",
       "         'wonderful': 9253,\n",
       "         'My': 14460,\n",
       "         'soninlaw': 16,\n",
       "         'loves': 1653,\n",
       "         'requests': 224,\n",
       "         'often': 2271,\n",
       "         'exactly': 4625,\n",
       "         'Thanks': 32325,\n",
       "         'posting': 9924,\n",
       "         'Made': 13439,\n",
       "         'buttermilk': 731,\n",
       "         'w': 418,\n",
       "         'vinegar': 1946,\n",
       "         'milk': 5487,\n",
       "         'Used': 1895,\n",
       "         'defrosted': 94,\n",
       "         'fresh': 8213,\n",
       "         'skinlessboneless': 6,\n",
       "         'chicken': 13602,\n",
       "         'fillets': 225,\n",
       "         'lbs\\r\\nThis': 1,\n",
       "         'extremely': 602,\n",
       "         'flavorful': 2091,\n",
       "         'its': 7254,\n",
       "         'light': 3078,\n",
       "         'didnt': 16680,\n",
       "         'do': 7567,\n",
       "         'bbq': 446,\n",
       "         'thing': 4807,\n",
       "         'while': 3327,\n",
       "         'cooked': 6945,\n",
       "         'homemade': 1626,\n",
       "         'put': 8603,\n",
       "         'oven': 5135,\n",
       "         'warm': 1477,\n",
       "         'served': 6550,\n",
       "         'dipping': 687,\n",
       "         'sauce': 16769,\n",
       "         'stars': 3566,\n",
       "         'kids': 3696,\n",
       "         'First': 586,\n",
       "         'time': 24744,\n",
       "         'using': 7333,\n",
       "         'liquid': 1884,\n",
       "         'smoke': 472,\n",
       "         'directed': 1353,\n",
       "         'enjoyed': 7164,\n",
       "         'we': 13106,\n",
       "         'again': 21144,\n",
       "         'Thank': 9766,\n",
       "         'MMMMM': 34,\n",
       "         'actually': 2055,\n",
       "         'soaked': 333,\n",
       "         'bouillon': 229,\n",
       "         'first': 6857,\n",
       "         'super': 1993,\n",
       "         'use': 17487,\n",
       "         'Sweet': 378,\n",
       "         'Baby': 199,\n",
       "         'Rays': 130,\n",
       "         'DHs': 179,\n",
       "         'favorite': 3357,\n",
       "         'cut': 6848,\n",
       "         'into': 7085,\n",
       "         'nuggets': 72,\n",
       "         'strips': 442,\n",
       "         'makes': 3372,\n",
       "         'amount': 4436,\n",
       "         'could': 6482,\n",
       "         'really': 19695,\n",
       "         'freeze': 891,\n",
       "         'reheat': 181,\n",
       "         'later': 907,\n",
       "         'Those': 69,\n",
       "         'our': 6908,\n",
       "         'plans': 53,\n",
       "         'ziploc': 78,\n",
       "         'bag': 1256,\n",
       "         'We': 12628,\n",
       "         'both': 2894,\n",
       "         'young': 190,\n",
       "         'daughters': 291,\n",
       "         'For': 1851,\n",
       "         'decided': 1534,\n",
       "         'crockpot': 1309,\n",
       "         'be': 25514,\n",
       "         'basically': 199,\n",
       "         'exactally': 11,\n",
       "         'except': 2181,\n",
       "         'adding': 3908,\n",
       "         'flour': 5100,\n",
       "         'onions': 4043,\n",
       "         'salt': 6443,\n",
       "         'pepper': 6580,\n",
       "         'then': 8692,\n",
       "         'tossed': 521,\n",
       "         'lamb': 501,\n",
       "         'coat': 294,\n",
       "         'before': 8099,\n",
       "         'browning': 375,\n",
       "         'spices': 2145,\n",
       "         'oniongarlic': 16,\n",
       "         'toast': 703,\n",
       "         'slightly': 1344,\n",
       "         'deglazing': 13,\n",
       "         'stock': 1189,\n",
       "         'Because': 376,\n",
       "         'used': 45538,\n",
       "         'about': 13225,\n",
       "         'all': 18010,\n",
       "         'canned': 1669,\n",
       "         'tomatoes': 3876,\n",
       "         'chickpeas': 172,\n",
       "         'hour': 1772,\n",
       "         'serving': 2041,\n",
       "         'ended': 1905,\n",
       "         'up': 16178,\n",
       "         'cooking': 5412,\n",
       "         'low': 2640,\n",
       "         'hours': 3234,\n",
       "         'Served': 1975,\n",
       "         'Recipe': 2615,\n",
       "         'fabulous': 1581,\n",
       "         'family': 8392,\n",
       "         'meal': 4348,\n",
       "         'excellent': 3167,\n",
       "         'got': 4187,\n",
       "         'tin': 369,\n",
       "         'what': 7676,\n",
       "         'should': 2258,\n",
       "         'cook': 4881,\n",
       "         'slow': 477,\n",
       "         'cooker': 590,\n",
       "         'people': 1770,\n",
       "         'grms': 2,\n",
       "         'lambI': 1,\n",
       "         'can': 9814,\n",
       "         'alittle': 95,\n",
       "         'maybe': 2359,\n",
       "         'transfered': 19,\n",
       "         'simmered': 332,\n",
       "         'waiting': 286,\n",
       "         'On': 267,\n",
       "         'hrs': 289,\n",
       "         'lovely': 2039,\n",
       "         'Morrocan': 2,\n",
       "         'style': 474,\n",
       "         'dish': 9853,\n",
       "         'halved': 1315,\n",
       "         'stove': 768,\n",
       "         'top': 6408,\n",
       "         'like': 20964,\n",
       "         'stew': 538,\n",
       "         'bit': 11153,\n",
       "         'drying': 75,\n",
       "         'left': 5064,\n",
       "         'off': 3798,\n",
       "         'parsley': 1216,\n",
       "         'andor': 184,\n",
       "         'cilantro': 1184,\n",
       "         'have': 35532,\n",
       "         'any': 6647,\n",
       "         'pita': 253,\n",
       "         'type': 823,\n",
       "         'flat': 430,\n",
       "         'breads': 175,\n",
       "         'VERY': 835,\n",
       "         'picky': 1072,\n",
       "         'Husband': 196,\n",
       "         'even': 8074,\n",
       "         'The': 25845,\n",
       "         'flavor': 13426,\n",
       "         'whang': 2,\n",
       "         'me': 10937,\n",
       "         'olive': 2084,\n",
       "         'oil': 5607,\n",
       "         'tempered': 12,\n",
       "         'acidity': 42,\n",
       "         'lunch': 2501,\n",
       "         'great': 27326,\n",
       "         'turned': 6379,\n",
       "         'savory': 351,\n",
       "         'few': 4934,\n",
       "         'adjustments': 305,\n",
       "         'amout': 16,\n",
       "         'delicious': 14634,\n",
       "         'GREAT': 872,\n",
       "         'hearty': 544,\n",
       "         'soup': 7150,\n",
       "         'TRUE\\r\\nDoes': 1,\n",
       "         'feel': 987,\n",
       "         'better': 6402,\n",
       "         'too\\r\\nComfort': 1,\n",
       "         'food': 3498,\n",
       "         'comfort': 983,\n",
       "         'be\\r\\nThanks': 2,\n",
       "         'sharing': 11629,\n",
       "         'warming': 107,\n",
       "         'been': 5841,\n",
       "         'eating': 2231,\n",
       "         'years': 2425,\n",
       "         'Fortunately': 37,\n",
       "         'live': 480,\n",
       "         'Northern': 39,\n",
       "         'Alabama': 10,\n",
       "         'access': 43,\n",
       "         'restaurant': 841,\n",
       "         'originated': 12,\n",
       "         'white': 3690,\n",
       "         'Big': 154,\n",
       "         'Bob': 23,\n",
       "         'Gibsons': 2,\n",
       "         'understanding': 7,\n",
       "         'indicative': 2,\n",
       "         'only': 14209,\n",
       "         'ever': 4458,\n",
       "         'seen': 317,\n",
       "         'eaten': 1039,\n",
       "         'myself': 1643,\n",
       "         'smoked': 720,\n",
       "         'either': 1227,\n",
       "         'poured': 746,\n",
       "         'over': 9801,\n",
       "         'done': 2549,\n",
       "         'combination': 2276,\n",
       "         'tartness': 144,\n",
       "         'heavenly': 282,\n",
       "         'Summer': 105,\n",
       "         'months': 391,\n",
       "         'encourage': 31,\n",
       "         'everyone': 2770,\n",
       "         'give': 3314,\n",
       "         'try': 9694,\n",
       "         'same': 2597,\n",
       "         'Ive': 6503,\n",
       "         'always': 4249,\n",
       "         'increased': 626,\n",
       "         'amt': 94,\n",
       "         'boot': 86,\n",
       "         'Never': 215,\n",
       "         'red': 4608,\n",
       "         'lived': 129,\n",
       "         'Huntsville': 1,\n",
       "         'AL': 4,\n",
       "         'moving': 59,\n",
       "         'St': 157,\n",
       "         'Louis': 26,\n",
       "         'place': 2166,\n",
       "         'BBQ': 1011,\n",
       "         'old': 2505,\n",
       "         'Greenbrier': 1,\n",
       "         'Hwy': 1,\n",
       "         'There': 1143,\n",
       "         'douse': 5,\n",
       "         'grilled': 1304,\n",
       "         'major': 136,\n",
       "         'treat': 1637,\n",
       "         'their': 1560,\n",
       "         'hushpuppies': 4,\n",
       "         'grill': 1288,\n",
       "         'skinon': 14,\n",
       "         'bonein': 160,\n",
       "         'breasts': 1414,\n",
       "         'preseasoned': 5,\n",
       "         'seasoned': 865,\n",
       "         'serve': 2246,\n",
       "         'side': 3803,\n",
       "         'And': 2798,\n",
       "         'Sallys': 1,\n",
       "         'right': 4670,\n",
       "         'tastes': 2832,\n",
       "         'whole': 5782,\n",
       "         'lot': 3905,\n",
       "         'chilling': 109,\n",
       "         'Finally': 179,\n",
       "         'dont': 7522,\n",
       "         'commercially': 18,\n",
       "         'bottled': 200,\n",
       "         'usually': 1948,\n",
       "         'awful': 181,\n",
       "         'Sally': 17,\n",
       "         'found': 5203,\n",
       "         'by': 6670,\n",
       "         'searching': 306,\n",
       "         'healthy': 1854,\n",
       "         'Indian': 204,\n",
       "         'foods': 328,\n",
       "         'skeptical': 342,\n",
       "         'LOVED': 1012,\n",
       "         'almost': 2151,\n",
       "         'candy': 396,\n",
       "         'dinner': 6102,\n",
       "         'incredibly': 375,\n",
       "         'healthy\\nI': 1,\n",
       "         'virgin': 115,\n",
       "         'vegetable': 863,\n",
       "         'pumpkin': 1040,\n",
       "         'broth': 2831,\n",
       "         'curry': 935,\n",
       "         'powder': 3957,\n",
       "         'regular': 3155,\n",
       "         'spicy': 2246,\n",
       "         'kind': 1633,\n",
       "         'accidentally': 176,\n",
       "         'ground': 2519,\n",
       "         'has': 4917,\n",
       "         'sort': 410,\n",
       "         'whitewine': 1,\n",
       "         'tasted': 4443,\n",
       "         'second': 1699,\n",
       "         'definite': 524,\n",
       "         'new': 2864,\n",
       "         'love': 9914,\n",
       "         'especially': 1406,\n",
       "         'pumpkinonion': 1,\n",
       "         'Id': 2156,\n",
       "         'never': 5019,\n",
       "         'thought': 6686,\n",
       "         'One': 1023,\n",
       "         'anyone': 700,\n",
       "         'else': 1539,\n",
       "         'trying': 1923,\n",
       "         'parents': 198,\n",
       "         'sister': 304,\n",
       "         'hated': 79,\n",
       "         'they': 17014,\n",
       "         'are': 15758,\n",
       "         'fans': 169,\n",
       "         'am': 6321,\n",
       "         'personally': 229,\n",
       "         'think': 11026,\n",
       "         'SUPER': 97,\n",
       "         'pumpkiny': 9,\n",
       "         'thats': 2027,\n",
       "         'just': 25271,\n",
       "         'Try': 347,\n",
       "         'see': 2343,\n",
       "         'how': 5295,\n",
       "         'surprised': 769,\n",
       "         'find': 3593,\n",
       "         'one': 17615,\n",
       "         'who': 3207,\n",
       "         'liked': 5738,\n",
       "         'heaven': 365,\n",
       "         'last': 4600,\n",
       "         'bulgur': 34,\n",
       "         'disappointed': 655,\n",
       "         'ingredients': 6112,\n",
       "         'wary': 24,\n",
       "         'But': 2905,\n",
       "         'glad': 1772,\n",
       "         'skipped': 739,\n",
       "         'altogether': 107,\n",
       "         'miss': 373,\n",
       "         'buttercup': 9,\n",
       "         'squash': 803,\n",
       "         'crushed': 1005,\n",
       "         'bay': 281,\n",
       "         'leaves': 580,\n",
       "         'since': 4814,\n",
       "         'consomme': 28,\n",
       "         'lent': 22,\n",
       "         'such': 2550,\n",
       "         'pretty': 3762,\n",
       "         'color': 1031,\n",
       "         'wasnt': 3289,\n",
       "         'at': 15556,\n",
       "         'overpowering': 567,\n",
       "         'subbed': 848,\n",
       "         'quinoa': 159,\n",
       "         'let': 2922,\n",
       "         'dry': 3015,\n",
       "         'minutes': 8327,\n",
       "         'water': 5337,\n",
       "         'maple': 755,\n",
       "         'syrup': 1650,\n",
       "         'seemed': 1428,\n",
       "         'asking': 290,\n",
       "         'Would': 489,\n",
       "         'thanks': 3937,\n",
       "         'follow': 1060,\n",
       "         'instructions': 1007,\n",
       "         'came': 5279,\n",
       "         'awesome': 2545,\n",
       "         'Oh': 1992,\n",
       "         'husband': 5463,\n",
       "         'no': 6211,\n",
       "         'clue': 49,\n",
       "         'He': 1122,\n",
       "         'cant': 3569,\n",
       "         'wait': 2246,\n",
       "         'eat': 3967,\n",
       "         'tonight': 2225,\n",
       "         'nice': 9478,\n",
       "         'if': 7448,\n",
       "         'alot': 596,\n",
       "         'muffins': 1921,\n",
       "         'your': 6423,\n",
       "         'muffin': 1198,\n",
       "         'recipes': 4118,\n",
       "         'dee': 57,\n",
       "         'What': 2609,\n",
       "         'fantastic': 2774,\n",
       "         'stuck': 539,\n",
       "         'freezer': 1329,\n",
       "         'cakes': 691,\n",
       "         'brilliant': 91,\n",
       "         'idea': 1772,\n",
       "         'KITTENCAL': 55,\n",
       "         'streusel': 91,\n",
       "         'batch': 2693,\n",
       "         'Healthy': 204,\n",
       "         'Bran': 17,\n",
       "         'Muffin': 39,\n",
       "         'now': 5053,\n",
       "         'mixes': 274,\n",
       "         'mates': 13,\n",
       "         'quick': 4909,\n",
       "         'easy': 21683,\n",
       "         'tasty': 8112,\n",
       "         'breakfast': 2266,\n",
       "         'snack': 892,\n",
       "         'As': 1555,\n",
       "         'usual': 636,\n",
       "         'pecans': 961,\n",
       "         'yucky': 22,\n",
       "         'walnuts': 858,\n",
       "         'Thanx': 512,\n",
       "         'Kitten': 324,\n",
       "         'timesaver': 16,\n",
       "         'making': 11171,\n",
       "         'coffee': 1326,\n",
       "         'potato': 2016,\n",
       "         'casseroles': 110,\n",
       "         'etc': 565,\n",
       "         'youve': 205,\n",
       "         'Kittencal': 685,\n",
       "         'these': 16355,\n",
       "         'several': 1729,\n",
       "         'times': 3323,\n",
       "         'ran': 492,\n",
       "         'cases': 22,\n",
       "         'dozen': 290,\n",
       "         'lovely\\r\\n\\r\\nDefinately': 1,\n",
       "         'other': 7203,\n",
       "         'night': 3696,\n",
       "         'garden': 966,\n",
       "         'salads': 320,\n",
       "         'nothing': 777,\n",
       "         'plenty': 1040,\n",
       "         'change': 4464,\n",
       "         'cheese': 11944,\n",
       "         'wanted': 2838,\n",
       "         'rest': 2084,\n",
       "         'block': 97,\n",
       "         'therefore': 113,\n",
       "         'eggs': 2170,\n",
       "         'changed': 958,\n",
       "         'beautifully': 833,\n",
       "         'quiche': 157,\n",
       "         'house': 2466,\n",
       "         'life': 375,\n",
       "         'Trinkets': 5,\n",
       "         'apologise': 1,\n",
       "         'having': 1721,\n",
       "         'zucchini': 957,\n",
       "         'spinach': 1859,\n",
       "         'decent': 152,\n",
       "         'shop': 123,\n",
       "         'neither': 103,\n",
       "         'nor': 153,\n",
       "         'frozen': 2943,\n",
       "         'simplicity': 213,\n",
       "         'creaminess': 153,\n",
       "         'Didnt': 719,\n",
       "         'anything': 1780,\n",
       "         'cream': 9349,\n",
       "         'hope': 366,\n",
       "         'show': 212,\n",
       "         'format': 10,\n",
       "         'colours': 28,\n",
       "         'confused': 110,\n",
       "         'soft': 1696,\n",
       "         'creamy': 2016,\n",
       "         'quite': 3840,\n",
       "         'Next': 3516,\n",
       "         'WILL': 106,\n",
       "         'Five': 121,\n",
       "         'sure': 6410,\n",
       "         'Awesome': 894,\n",
       "         'Substituted': 57,\n",
       "         'unsweetened': 248,\n",
       "         'almond': 785,\n",
       "         'vanilla': 2619,\n",
       "         'flavored': 654,\n",
       "         'You': 2450,\n",
       "         'Was': 576,\n",
       "         'moist': 3831,\n",
       "         'best': 5295,\n",
       "         'Great': 5961,\n",
       "         'crust': 2487,\n",
       "         'readymade': 17,\n",
       "         'quicker': 126,\n",
       "         'precooked': 211,\n",
       "         'crumbled': 283,\n",
       "         'bacon': 2869,\n",
       "         'teaspoon': 1497,\n",
       "         'grated': 977,\n",
       "         'nutmeg': 869,\n",
       "         'Lots': 170,\n",
       "         'goodness': 460,\n",
       "         'Mikekeys': 4,\n",
       "         'save': 542,\n",
       "         'hand': 3937,\n",
       "         'Ill': 5991,\n",
       "         'next': 10208,\n",
       "         'plan': 788,\n",
       "         'thrown': 106,\n",
       "         'chopped': 3307,\n",
       "         'ham': 1750,\n",
       "         'cheddar': 1776,\n",
       "         'broccoli': 1323,\n",
       "         'many': 3212,\n",
       "         'possibilities': 126,\n",
       "         'Wonderful': 1803,\n",
       "         'quotSmall': 1,\n",
       "         'Batch': 4,\n",
       "         'Bakingquot': 1,\n",
       "         'pie': 2999,\n",
       "         'mini': 824,\n",
       "         'piequiche': 1,\n",
       "         'two': 4806,\n",
       "         'fruit': 1367,\n",
       "         'blueberry': 368,\n",
       "         'yummy': 5045,\n",
       "         'brunch': 374,\n",
       "         'win': 176,\n",
       "         'football': 179,\n",
       "         'pool': 91,\n",
       "         'game': 1202,\n",
       "         'congrats': 28,\n",
       "         'Good': 1692,\n",
       "         'fix': 557,\n",
       "         'may': 2495,\n",
       "         'green': 4639,\n",
       "         'rather': 1838,\n",
       "         'sauteacuteed': 63,\n",
       "         'onion': 5486,\n",
       "         'FANTASTIC': 226,\n",
       "         'tweaked': 165,\n",
       "         'wee': 106,\n",
       "         'sauteed': 797,\n",
       "         'mushrooms': 2682,\n",
       "         'Then': 1171,\n",
       "         'egg': 2929,\n",
       "         'mixture': 3324,\n",
       "         'Also': 3063,\n",
       "         'chips': 2744,\n",
       "         'soy': 1230,\n",
       "         'bits': 457,\n",
       "         'ABSOLUTELY': 98,\n",
       "         'DIVINE': 33,\n",
       "         'half': 9003,\n",
       "         'fine': 2128,\n",
       "         'throw': 867,\n",
       "         'jack': 372,\n",
       "         'addition': 2228,\n",
       "         'swiss': 295,\n",
       "         'terrific': 806,\n",
       "         'recommend': 1661,\n",
       "         'couldve': 47,\n",
       "         'seasoning': 2861,\n",
       "         'IMOcouldnt': 1,\n",
       "         'Worcestershire': 174,\n",
       "         'Granddaughters': 2,\n",
       "         'loved': 13957,\n",
       "         'Will': 3440,\n",
       "         'seasonings': 882,\n",
       "         'THANKS': 220,\n",
       "         'project': 61,\n",
       "         'Ethiopia': 3,\n",
       "         'world': 464,\n",
       "         'history': 33,\n",
       "         'chose': 592,\n",
       "         'national': 6,\n",
       "         'original': 700,\n",
       "         'called': 1739,\n",
       "         'teff': 7,\n",
       "         'unfortunately': 169,\n",
       "         'couldnt': 2699,\n",
       "         'anywhere': 131,\n",
       "         '\\n\\nAlthough': 1,\n",
       "         'authentic': 363,\n",
       "         'injera': 8,\n",
       "         'pancakes': 1035,\n",
       "         'spongy': 51,\n",
       "         'Plus': 199,\n",
       "         'easy\\n\\n': 2,\n",
       "         'Velveeta': 141,\n",
       "         'smooth': 719,\n",
       "         'Easy': 2302,\n",
       "         'TinaEmJer': 1,\n",
       "         'keeper': 4585,\n",
       "         'notebook': 9,\n",
       "         '\\r\\n': 264,\n",
       "         'White': 124,\n",
       "         'land': 9,\n",
       "         'o': 170,\n",
       "         'lakes': 4,\n",
       "         'american': 48,\n",
       "         'PumpkieThis': 1,\n",
       "         'delious': 13,\n",
       "         'After': 1631,\n",
       "         'mac': 420,\n",
       "         'finially': 3,\n",
       "         'Way': 160,\n",
       "         'Thpse': 1,\n",
       "         'kiddos': 49,\n",
       "         'lucky': 127,\n",
       "         'mom': 897,\n",
       "         'stash': 34,\n",
       "         'pasta': 2554,\n",
       "         'oz': 2009,\n",
       "         'tricolor': 13,\n",
       "         'tortellini': 176,\n",
       "         'written': 2624,\n",
       "         'lowfat': 491,\n",
       "         'Makes': 215,\n",
       "         'big': 3038,\n",
       "         'pot': 2565,\n",
       "         'enough': 5516,\n",
       "         'another': 4903,\n",
       "         'Darlene': 26,\n",
       "         'mood': 124,\n",
       "         'lately': 89,\n",
       "         'certainly': 921,\n",
       "         'hit': 3314,\n",
       "         'spot': 517,\n",
       "         'ingredient': 699,\n",
       "         'ratio': 194,\n",
       "         'wouldnt': 1473,\n",
       "         'Summers\\r\\n': 1,\n",
       "         'daughter': 1148,\n",
       "         'bites': 207,\n",
       "         'Im': 8330,\n",
       "         'averaging': 2,\n",
       "         'three': 1174,\n",
       "         'alongside': 123,\n",
       "         'raviolini': 1,\n",
       "         'flavors': 3266,\n",
       "         'prepare': 2124,\n",
       "         'looking': 3138,\n",
       "         'forward': 800,\n",
       "         'leftovers': 2318,\n",
       "         'Cook': 138,\n",
       "         'broiling': 107,\n",
       "         'ends': 122,\n",
       "         'legs': 218,\n",
       "         'burned': 244,\n",
       "         'Old': 229,\n",
       "         'Bay': 211,\n",
       "         'Tbs': 156,\n",
       "         'tastier': 110,\n",
       "         'shell': 202,\n",
       "         'crabs': 26,\n",
       "         'reviewers': 889,\n",
       "         'advice': 507,\n",
       "         'tablespoon': 1099,\n",
       "         'basic': 669,\n",
       "         'adapt': 53,\n",
       "         'kidney': 224,\n",
       "         'beans': 3887,\n",
       "         'northern': 50,\n",
       "         'drained': 590,\n",
       "         'rinsed': 135,\n",
       "         'cans': 643,\n",
       "         'yellow': 851,\n",
       "         'small': 3266,\n",
       "         'sausage': 1639,\n",
       "         'kielbasa': 110,\n",
       "         'sprinkled': 1341,\n",
       "         'creole': 69,\n",
       "         'steamed': 680,\n",
       "         'basmati': 136,\n",
       "         'rice': 5454,\n",
       "         'garnished': 191,\n",
       "         'GNOME': 1,\n",
       "         'kellychris': 4,\n",
       "         'Since': 842,\n",
       "         'cookies': 2942,\n",
       "         'larger': 422,\n",
       "         'sized': 414,\n",
       "         'grease': 353,\n",
       "         'baking': 3927,\n",
       "         'already': 1785,\n",
       "         'margarine': 511,\n",
       "         'whether': 192,\n",
       "         'means': 218,\n",
       "         'allpurpose': 124,\n",
       "         'latter': 25,\n",
       "         'substituted': 1600,\n",
       "         'former': 25,\n",
       "         'purpose': 214,\n",
       "         'Loved': 2009,\n",
       "         'dash': 547,\n",
       "         'DH': 4114,\n",
       "         'sodium': 541,\n",
       "         'diet': 596,\n",
       "         'Vanilla': 141,\n",
       "         'Pudding': 45,\n",
       "         'surely': 156,\n",
       "         'potatoes': 5827,\n",
       "         'differently': 478,\n",
       "         'double': 1947,\n",
       "         'garlicahhh': 1,\n",
       "         'yesand': 2,\n",
       "         'dried': 2404,\n",
       "         'tarragon': 217,\n",
       "         'Cant': 703,\n",
       "         'herb': 307,\n",
       "         'sliced': 2177,\n",
       "         'thin': 1463,\n",
       "         'worked': 3226,\n",
       "         'Boca': 15,\n",
       "         'Pat': 87,\n",
       "         'repeat': 250,\n",
       "         'performance': 9,\n",
       "         'table': 770,\n",
       "         'again\\r\\n': 18,\n",
       "         'Everyone': 1884,\n",
       "         'fed': 112,\n",
       "         'gone': 1024,\n",
       "         'CRAZY': 14,\n",
       "         'th': 399,\n",
       "         'Really': 1624,\n",
       "         'working': 212,\n",
       "         'mustard': 1542,\n",
       "         'seeds': 1233,\n",
       "         'here': 2925,\n",
       "         'additional': 878,\n",
       "         'Glad': 153,\n",
       "         'although': 1252,\n",
       "         'us': 3811,\n",
       "         'meals': 427,\n",
       "         'combo': 831,\n",
       "         'Definitely': 1138,\n",
       "         'reviewed': 1323,\n",
       "         'Asia': 30,\n",
       "         'ZWT': 2422,\n",
       "         'mild': 720,\n",
       "         'ginger': 1389,\n",
       "         'coriander': 274,\n",
       "         'beyond': 148,\n",
       "         'tbl': 35,\n",
       "         'still': 6783,\n",
       "         'vegetables': 1029,\n",
       "         'suggest': 629,\n",
       "         'barest': 2,\n",
       "         'saute': 290,\n",
       "         'canola': 255,\n",
       "         'veggies': 2243,\n",
       "         'near': 306,\n",
       "         'tender': 3061,\n",
       "         'Cause': 10,\n",
       "         'crunchy': 949,\n",
       "         'lemon': 4220,\n",
       "         'juice': 3949,\n",
       "         'Momaphet': 2,\n",
       "         'Zwizzle': 23,\n",
       "         'Chicks': 26,\n",
       "         'carrot': 629,\n",
       "         'similar': 983,\n",
       "         'difference': 1215,\n",
       "         'bean': 594,\n",
       "         'definitely': 6297,\n",
       "         'posting\\nMade': 16,\n",
       "         'Unrulies': 15,\n",
       "         'Under': 33,\n",
       "         'Influence': 26,\n",
       "         'Germany': 64,\n",
       "         'preparation': 334,\n",
       "         'adds': 766,\n",
       "         'Wild': 49,\n",
       "         'Bunch': 22,\n",
       "         'Diners': 11,\n",
       "         'Winers': 7,\n",
       "         'Chives': 19,\n",
       "         'team': 132,\n",
       "         'An': 333,\n",
       "         'treatment': 15,\n",
       "         'CQ': 63,\n",
       "         'kick': 1065,\n",
       "         'momaphet': 13,\n",
       "         'Culinary': 129,\n",
       "         'Quest': 125,\n",
       "         'Himalayas': 3,\n",
       "         'believe': 1422,\n",
       "         'Even': 1384,\n",
       "         'nongreen': 1,\n",
       "         'eaters': 277,\n",
       "         'ate': 2850,\n",
       "         'Smokin': 7,\n",
       "         'Chefs': 217,\n",
       "         'Simple': 699,\n",
       "         'Linda': 116,\n",
       "         'carrots': 2273,\n",
       "         'boost': 117,\n",
       "         'Best': 702,\n",
       "         'tag': 1490,\n",
       "         'addictive': 184,\n",
       "         'nuts': 1571,\n",
       "         'turn': 1194,\n",
       "         'glossy': 22,\n",
       "         'shiny': 42,\n",
       "         'look': 1591,\n",
       "         'beautiful': 1006,\n",
       "         'glass': 659,\n",
       "         'jar': 753,\n",
       "         'must': 1538,\n",
       "         'away': 1215,\n",
       "         'Melon': 1,\n",
       "         'uses': 404,\n",
       "         'caramelize': 51,\n",
       "         'hazelnuts': 52,\n",
       "         'Do': 259,\n",
       "         'heed': 10,\n",
       "         'warning': 75,\n",
       "         'step': 741,\n",
       "         'avoid': 199,\n",
       "         'burning': 155,\n",
       "         'local': 572,\n",
       "         'honey': 1834,\n",
       "         'Oregon': 20,\n",
       "         'grown': 159,\n",
       "         'A': 5828,\n",
       "         'million': 96,\n",
       "         'grazies': 1,\n",
       "         'cg': 31,\n",
       "         'say': 3026,\n",
       "         'easiest': 284,\n",
       "         'partysnack': 1,\n",
       "         'awesome\\r\\n': 1,\n",
       "         'Second': 93,\n",
       "         'however': 1223,\n",
       "         'cinnamonabout': 1,\n",
       "         'ways\\r\\nThanks': 1,\n",
       "         'bunch': 495,\n",
       "         'WM\\r\\nKudos': 1,\n",
       "         'easygreat': 1,\n",
       "         'To': 845,\n",
       "         'dye': 15,\n",
       "         'chocolate': 5277,\n",
       "         ...})"
      ]
     },
     "execution_count": 48,
     "metadata": {},
     "output_type": "execute_result"
    }
   ],
   "source": [
    "%time get_word_reviews_count_opt(reviews)"
   ]
  },
  {
   "cell_type": "markdown",
   "metadata": {},
   "source": [
    "```\n",
    "Wall time: 7.33 s\n",
    "```"
   ]
  },
  {
   "cell_type": "code",
   "execution_count": 49,
   "metadata": {},
   "outputs": [],
   "source": [
    "assert get_word_reviews_count(reviews)==get_word_reviews_count_opt(reviews)"
   ]
  },
  {
   "cell_type": "code",
   "execution_count": 50,
   "metadata": {},
   "outputs": [
    {
     "name": "stdout",
     "output_type": "stream",
     "text": [
      "Скорость уменьшилась в 8.73 раз\n"
     ]
    }
   ],
   "source": [
    "print(f'Скорость уменьшилась в {round(64/7.33,2)} раз')"
   ]
  },
  {
   "cell_type": "markdown",
   "metadata": {},
   "source": [
    "## Numba"
   ]
  },
  {
   "cell_type": "markdown",
   "metadata": {},
   "source": [
    "В файле `rating_predictions.json` хранятся данные о рейтингах рецептов и прогнозных значениях рейтингов для этого рецепта, полученных при помощи модели машинного обучения. \n",
    "\n",
    "Напишите несколько версий функции (см. [MAPE](https://en.wikipedia.org/wiki/Mean_absolute_percentage_error)) для расчета среднего абсолютного процентного отклонения значения рейтинга отзыва на рецепт от прогнозного значения рейтинга для данного рецепта. \n",
    "\n",
    "\n",
    "Замечание 1: в формуле MAPE под $A_t$ понимается рейтинг из отзыва $t$, под $F_t$ - прогнозное значения рейтинга отзыва $t$.\n",
    "\n",
    "Замечание 2: в результате работы функций должно получиться одно число - MAPE для всего набора данных."
   ]
  },
  {
   "cell_type": "markdown",
   "metadata": {},
   "source": [
    "$${\\displaystyle {\\mbox{MAPE}}={\\frac {100\\%}{n}}\\sum _{t=1}^{n}\\left|{\\frac {A_{t}-F_{t}}{A_{t}}}\\right|}$$"
   ]
  },
  {
   "cell_type": "code",
   "execution_count": 51,
   "metadata": {},
   "outputs": [],
   "source": [
    "rating_pred = json.loads(open('rating_predictions.json', mode='r', encoding='utf-8').read())"
   ]
  },
  {
   "cell_type": "code",
   "execution_count": 52,
   "metadata": {},
   "outputs": [
    {
     "data": {
      "text/plain": [
       "13.325265503992638"
      ]
     },
     "execution_count": 52,
     "metadata": {},
     "output_type": "execute_result"
    }
   ],
   "source": [
    "sum(list(map(lambda t: abs((t['rating']-t['prediction'])/t['rating']), rating_pred))) * 100 / len(rating_pred)"
   ]
  },
  {
   "cell_type": "markdown",
   "metadata": {},
   "source": [
    "**3\\.1** Создайте два списка `A_list` и `F_list` на основе файла `rating_predictions.json`. Напишите функцию `mape_lists` без использования векторизованных операций и методов массивов `numpy` и без использования `numba` (проитерируйтесь по спискам и вычислите суммарное значение MAPE для всех элементов, а потом усредните результат).\n",
    "\n",
    "Измерьте время выполнения данной функции на входных данных `A_list` и `F_list`. Временем, затрачиваемым на создание списков, можно пренебречь.\n",
    "    "
   ]
  },
  {
   "cell_type": "code",
   "execution_count": 53,
   "metadata": {},
   "outputs": [],
   "source": [
    "def mape_lists(A=list, F=list):\n",
    "    error_sum = 0\n",
    "    n = len(A)\n",
    "    for item in range(n):\n",
    "        error_sum += abs((A[item] - F[item])/A[item])\n",
    "    return error_sum * 100 / n"
   ]
  },
  {
   "cell_type": "code",
   "execution_count": 54,
   "metadata": {},
   "outputs": [
    {
     "name": "stdout",
     "output_type": "stream",
     "text": [
      "Wall time: 23.9 ms\n"
     ]
    },
    {
     "data": {
      "text/plain": [
       "13.325265503992638"
      ]
     },
     "execution_count": 54,
     "metadata": {},
     "output_type": "execute_result"
    }
   ],
   "source": [
    "A_list = list(map(lambda t: t['rating'], rating_pred))\n",
    "F_list = list(map(lambda t: t['prediction'], rating_pred))\n",
    "\n",
    "%time mape_lists(A_list, F_list)"
   ]
  },
  {
   "cell_type": "code",
   "execution_count": 55,
   "metadata": {},
   "outputs": [
    {
     "name": "stdout",
     "output_type": "stream",
     "text": [
      "25.8 ms ± 2.59 ms per loop (mean ± std. dev. of 7 runs, 10 loops each)\n"
     ]
    }
   ],
   "source": [
    "%timeit mape_lists(A_list, F_list)"
   ]
  },
  {
   "cell_type": "markdown",
   "metadata": {},
   "source": [
    "**3\\.2.** Создайте массивы `numpy` `A_array` и `F_array` на основе списков `A_list` и `F_list`. Напишите функцию `mape_numpy` с использованием векторизованных операций и методов массивов `numpy`.\n",
    "\n",
    "Измерьте время выполнения данной функции на входных данных `A_array` и `F_array`. Временем, затрачиваемым на создание массивов, можно пренебречь."
   ]
  },
  {
   "cell_type": "code",
   "execution_count": 56,
   "metadata": {},
   "outputs": [],
   "source": [
    "def mape_numpy(A=list, F=list):\n",
    "    return np.sum(np.absolute((A - F) / A)) * 100 / len(A)"
   ]
  },
  {
   "cell_type": "code",
   "execution_count": 57,
   "metadata": {},
   "outputs": [
    {
     "name": "stdout",
     "output_type": "stream",
     "text": [
      "Wall time: 2.99 ms\n"
     ]
    },
    {
     "data": {
      "text/plain": [
       "13.32526550399145"
      ]
     },
     "execution_count": 57,
     "metadata": {},
     "output_type": "execute_result"
    }
   ],
   "source": [
    "A_array = np.array(A_list)\n",
    "F_array = np.array(F_list)\n",
    "\n",
    "%time mape_numpy(A_array, F_array)"
   ]
  },
  {
   "cell_type": "code",
   "execution_count": 58,
   "metadata": {},
   "outputs": [
    {
     "name": "stdout",
     "output_type": "stream",
     "text": [
      "270 µs ± 34.1 µs per loop (mean ± std. dev. of 7 runs, 1000 loops each)\n"
     ]
    }
   ],
   "source": [
    "%timeit mape_numpy(A_array, F_array)"
   ]
  },
  {
   "cell_type": "markdown",
   "metadata": {},
   "source": [
    "**3\\.3.** Создайте объекты `numba.typed.List` `A_typed` и `F_typed` на основе списков `A_list` и `F_list`. Напишите функцию `mape_numba` без использования векторизованных операций и методов массивов `numpy`, но с использованием `numba`. \n",
    "\n",
    "Измерьте время выполнения данной функции на входных данных `A_typed` и `F_typed`. Временем, затрачиваемым на создание объектов `numba.typed.List`, можно пренебречь.\n",
    "\n",
    "Измерьте время выполнения данной функции на входных данных `A_numpy` и `F_numpy`."
   ]
  },
  {
   "cell_type": "code",
   "execution_count": 59,
   "metadata": {},
   "outputs": [],
   "source": [
    "@njit\n",
    "def mape_numba(A=list, F=list):\n",
    "    error_sum = 0\n",
    "    n = len(A)\n",
    "    for item in range(n):\n",
    "        pass\n",
    "        error_sum += abs((A[item] - F[item])/A[item])\n",
    "    return error_sum * 100 / n"
   ]
  },
  {
   "cell_type": "code",
   "execution_count": 60,
   "metadata": {},
   "outputs": [],
   "source": [
    "A_typed = List(A_list)\n",
    "F_typed = List(F_list)"
   ]
  },
  {
   "cell_type": "markdown",
   "metadata": {},
   "source": [
    "1 запуск"
   ]
  },
  {
   "cell_type": "code",
   "execution_count": 61,
   "metadata": {},
   "outputs": [
    {
     "name": "stdout",
     "output_type": "stream",
     "text": [
      "Wall time: 376 ms\n"
     ]
    },
    {
     "data": {
      "text/plain": [
       "13.325265503992638"
      ]
     },
     "execution_count": 61,
     "metadata": {},
     "output_type": "execute_result"
    }
   ],
   "source": [
    "%time mape_numba(A_typed, F_typed)"
   ]
  },
  {
   "cell_type": "markdown",
   "metadata": {},
   "source": [
    "2 запуск"
   ]
  },
  {
   "cell_type": "code",
   "execution_count": 62,
   "metadata": {},
   "outputs": [
    {
     "name": "stdout",
     "output_type": "stream",
     "text": [
      "Wall time: 1.99 ms\n"
     ]
    },
    {
     "data": {
      "text/plain": [
       "13.325265503992638"
      ]
     },
     "execution_count": 62,
     "metadata": {},
     "output_type": "execute_result"
    }
   ],
   "source": [
    "%time mape_numba(A_typed, F_typed)"
   ]
  },
  {
   "cell_type": "markdown",
   "metadata": {},
   "source": [
    "1 запуск"
   ]
  },
  {
   "cell_type": "code",
   "execution_count": 63,
   "metadata": {},
   "outputs": [
    {
     "name": "stdout",
     "output_type": "stream",
     "text": [
      "Wall time: 192 ms\n"
     ]
    },
    {
     "data": {
      "text/plain": [
       "13.325265503992638"
      ]
     },
     "execution_count": 63,
     "metadata": {},
     "output_type": "execute_result"
    }
   ],
   "source": [
    "%time mape_numba(A_array, F_array)"
   ]
  },
  {
   "cell_type": "markdown",
   "metadata": {},
   "source": [
    "2 запуск"
   ]
  },
  {
   "cell_type": "code",
   "execution_count": 64,
   "metadata": {},
   "outputs": [
    {
     "name": "stdout",
     "output_type": "stream",
     "text": [
      "Wall time: 0 ns\n"
     ]
    },
    {
     "data": {
      "text/plain": [
       "13.325265503992638"
      ]
     },
     "execution_count": 64,
     "metadata": {},
     "output_type": "execute_result"
    }
   ],
   "source": [
    "%time mape_numba(A_array, F_array)"
   ]
  },
  {
   "cell_type": "markdown",
   "metadata": {},
   "source": [
    "## Векторизация"
   ]
  },
  {
   "cell_type": "markdown",
   "metadata": {},
   "source": [
    "Сайт-агрегатор устроил акцию: он дарит купоны на посещение ресторана тем пользователям, оставившим отзывы, идентификатор которых является _красивым числом_. Натуральное число называется _красивым_ , если первая цифра числа совпадает с последней цифрой числа. \n",
    "\n"
   ]
  },
  {
   "cell_type": "code",
   "execution_count": 65,
   "metadata": {},
   "outputs": [
    {
     "data": {
      "text/plain": [
       "review_id\n",
       "5               52282\n",
       "6              124416\n",
       "7          2000192946\n",
       "8               76535\n",
       "9              273745\n",
       "              ...    \n",
       "1132291        681416\n",
       "1132292       1986433\n",
       "1132293       2317533\n",
       "1132326       1963163\n",
       "1132352       1269180\n",
       "Name: user_id, Length: 126696, dtype: int64"
      ]
     },
     "execution_count": 65,
     "metadata": {},
     "output_type": "execute_result"
    }
   ],
   "source": [
    "reviews.user_id"
   ]
  },
  {
   "cell_type": "markdown",
   "metadata": {},
   "source": [
    "**4\\.1** Напишите функцию `is_pretty`, которая для каждого идентификатора пользователя из файла определяет, получит ли он подарок. Запрещается преобразовывать идентификатор пользователя к строке. Подтвердите корректность реализации, продемонстрировав примеры."
   ]
  },
  {
   "cell_type": "code",
   "execution_count": 66,
   "metadata": {},
   "outputs": [],
   "source": [
    "def is_pretty(n: int) -> bool:\n",
    "    last = n%10\n",
    "    while n > 9:\n",
    "        n = n//10\n",
    "    return n == last"
   ]
  },
  {
   "cell_type": "code",
   "execution_count": 67,
   "metadata": {},
   "outputs": [
    {
     "data": {
      "text/plain": [
       "(False, True)"
      ]
     },
     "execution_count": 67,
     "metadata": {},
     "output_type": "execute_result"
    }
   ],
   "source": [
    "is_pretty(12345), is_pretty(123451)"
   ]
  },
  {
   "cell_type": "markdown",
   "metadata": {},
   "source": [
    "**4\\.2** Посчитайте с помощью функции `is_pretty` количество пользователей, которые получат подарок. Выведите это количество на экран. Измерьте время расчетов для входных данных `ids`."
   ]
  },
  {
   "cell_type": "code",
   "execution_count": 68,
   "metadata": {},
   "outputs": [
    {
     "data": {
      "text/plain": [
       "False"
      ]
     },
     "execution_count": 68,
     "metadata": {},
     "output_type": "execute_result"
    }
   ],
   "source": [
    "len(set(reviews.user_id)) == len(reviews.user_id.index) # проверим, что есть хотя бы один uder_id, который повторяется"
   ]
  },
  {
   "cell_type": "code",
   "execution_count": 70,
   "metadata": {},
   "outputs": [
    {
     "data": {
      "text/plain": [
       "44803"
      ]
     },
     "execution_count": 70,
     "metadata": {},
     "output_type": "execute_result"
    }
   ],
   "source": [
    "len(pd.unique(reviews.user_id))"
   ]
  },
  {
   "cell_type": "code",
   "execution_count": 71,
   "metadata": {
    "scrolled": false
   },
   "outputs": [
    {
     "data": {
      "text/html": [
       "<div>\n",
       "<style scoped>\n",
       "    .dataframe tbody tr th:only-of-type {\n",
       "        vertical-align: middle;\n",
       "    }\n",
       "\n",
       "    .dataframe tbody tr th {\n",
       "        vertical-align: top;\n",
       "    }\n",
       "\n",
       "    .dataframe thead th {\n",
       "        text-align: right;\n",
       "    }\n",
       "</style>\n",
       "<table border=\"1\" class=\"dataframe\">\n",
       "  <thead>\n",
       "    <tr style=\"text-align: right;\">\n",
       "      <th></th>\n",
       "      <th>user_id</th>\n",
       "      <th>recipe_id</th>\n",
       "      <th>date</th>\n",
       "      <th>rating</th>\n",
       "      <th>review</th>\n",
       "    </tr>\n",
       "    <tr>\n",
       "      <th>review_id</th>\n",
       "      <th></th>\n",
       "      <th></th>\n",
       "      <th></th>\n",
       "      <th></th>\n",
       "      <th></th>\n",
       "    </tr>\n",
       "  </thead>\n",
       "  <tbody>\n",
       "    <tr>\n",
       "      <th>242</th>\n",
       "      <td>200862</td>\n",
       "      <td>336795</td>\n",
       "      <td>2011-11-05</td>\n",
       "      <td>5</td>\n",
       "      <td>Trinkets, I apologise for having had to use zu...</td>\n",
       "    </tr>\n",
       "    <tr>\n",
       "      <th>247</th>\n",
       "      <td>461834</td>\n",
       "      <td>373842</td>\n",
       "      <td>2013-09-22</td>\n",
       "      <td>5</td>\n",
       "      <td>Wonderful quiche!!  I made 1/3 of the recipe a...</td>\n",
       "    </tr>\n",
       "    <tr>\n",
       "      <th>320</th>\n",
       "      <td>75497</td>\n",
       "      <td>77021</td>\n",
       "      <td>2008-01-08</td>\n",
       "      <td>3</td>\n",
       "      <td>I loved this, but my daughter and husband woul...</td>\n",
       "    </tr>\n",
       "    <tr>\n",
       "      <th>447</th>\n",
       "      <td>143721</td>\n",
       "      <td>426090</td>\n",
       "      <td>2012-08-17</td>\n",
       "      <td>5</td>\n",
       "      <td>Great new way to do green beans.  I really lik...</td>\n",
       "    </tr>\n",
       "    <tr>\n",
       "      <th>508</th>\n",
       "      <td>1091591</td>\n",
       "      <td>77001</td>\n",
       "      <td>2008-12-22</td>\n",
       "      <td>5</td>\n",
       "      <td>I made this recipe for the first time tonight ...</td>\n",
       "    </tr>\n",
       "    <tr>\n",
       "      <th>...</th>\n",
       "      <td>...</td>\n",
       "      <td>...</td>\n",
       "      <td>...</td>\n",
       "      <td>...</td>\n",
       "      <td>...</td>\n",
       "    </tr>\n",
       "    <tr>\n",
       "      <th>1132177</th>\n",
       "      <td>55655</td>\n",
       "      <td>79642</td>\n",
       "      <td>2003-12-28</td>\n",
       "      <td>5</td>\n",
       "      <td>Great way to do parsnips!!! This recipe provid...</td>\n",
       "    </tr>\n",
       "    <tr>\n",
       "      <th>1132226</th>\n",
       "      <td>262312</td>\n",
       "      <td>205412</td>\n",
       "      <td>2008-11-10</td>\n",
       "      <td>5</td>\n",
       "      <td>nice variation to an old favorite.  my mom use...</td>\n",
       "    </tr>\n",
       "    <tr>\n",
       "      <th>1132250</th>\n",
       "      <td>706377</td>\n",
       "      <td>124136</td>\n",
       "      <td>2008-06-23</td>\n",
       "      <td>5</td>\n",
       "      <td>I've been making a version of this that I've f...</td>\n",
       "    </tr>\n",
       "    <tr>\n",
       "      <th>1132251</th>\n",
       "      <td>1211861</td>\n",
       "      <td>124136</td>\n",
       "      <td>2009-03-22</td>\n",
       "      <td>5</td>\n",
       "      <td>Worked like a charm, and tasted much better th...</td>\n",
       "    </tr>\n",
       "    <tr>\n",
       "      <th>1132291</th>\n",
       "      <td>681416</td>\n",
       "      <td>103587</td>\n",
       "      <td>2010-02-02</td>\n",
       "      <td>5</td>\n",
       "      <td>This is a delicious alternative to tartar sauc...</td>\n",
       "    </tr>\n",
       "  </tbody>\n",
       "</table>\n",
       "<p>11872 rows × 5 columns</p>\n",
       "</div>"
      ],
      "text/plain": [
       "           user_id  recipe_id       date  rating  \\\n",
       "review_id                                          \n",
       "242         200862     336795 2011-11-05       5   \n",
       "247         461834     373842 2013-09-22       5   \n",
       "320          75497      77021 2008-01-08       3   \n",
       "447         143721     426090 2012-08-17       5   \n",
       "508        1091591      77001 2008-12-22       5   \n",
       "...            ...        ...        ...     ...   \n",
       "1132177      55655      79642 2003-12-28       5   \n",
       "1132226     262312     205412 2008-11-10       5   \n",
       "1132250     706377     124136 2008-06-23       5   \n",
       "1132251    1211861     124136 2009-03-22       5   \n",
       "1132291     681416     103587 2010-02-02       5   \n",
       "\n",
       "                                                      review  \n",
       "review_id                                                     \n",
       "242        Trinkets, I apologise for having had to use zu...  \n",
       "247        Wonderful quiche!!  I made 1/3 of the recipe a...  \n",
       "320        I loved this, but my daughter and husband woul...  \n",
       "447        Great new way to do green beans.  I really lik...  \n",
       "508        I made this recipe for the first time tonight ...  \n",
       "...                                                      ...  \n",
       "1132177    Great way to do parsnips!!! This recipe provid...  \n",
       "1132226    nice variation to an old favorite.  my mom use...  \n",
       "1132250    I've been making a version of this that I've f...  \n",
       "1132251    Worked like a charm, and tasted much better th...  \n",
       "1132291    This is a delicious alternative to tartar sauc...  \n",
       "\n",
       "[11872 rows x 5 columns]"
      ]
     },
     "execution_count": 71,
     "metadata": {},
     "output_type": "execute_result"
    }
   ],
   "source": [
    "# ids = reviews[\"recipe_id\"].values \n",
    "ids = reviews[\"user_id\"].values # Я изменил \"recipe_id\" на \"user_id\", чтобы резульат соответстовал условиям задачи\n",
    "\n",
    "reviews.iloc[np.where(reviews.user_id.apply(lambda id: is_pretty(id)).values == True)[0]]"
   ]
  },
  {
   "cell_type": "code",
   "execution_count": 77,
   "metadata": {},
   "outputs": [
    {
     "name": "stdout",
     "output_type": "stream",
     "text": [
      "Wall time: 179 ms\n"
     ]
    },
    {
     "data": {
      "text/plain": [
       "4389"
      ]
     },
     "execution_count": 77,
     "metadata": {},
     "output_type": "execute_result"
    }
   ],
   "source": [
    "%time len(set(reviews.iloc[np.where(reviews.user_id.apply(lambda id: is_pretty(id)).values == True)[0]].user_id.values))"
   ]
  },
  {
   "cell_type": "markdown",
   "metadata": {},
   "source": [
    "**4\\.3.** При помощи `numpy` создайте векторизованную версию функции `is_pretty`. Посчитайте с помощью этой векторизованной функции количество пользователей, которые получат подарок. Выведите это количество на экран. Измерьте время расчетов для входных данных `ids`.\n"
   ]
  },
  {
   "cell_type": "code",
   "execution_count": 81,
   "metadata": {},
   "outputs": [
    {
     "name": "stdout",
     "output_type": "stream",
     "text": [
      "Wall time: 172 ms\n"
     ]
    },
    {
     "data": {
      "text/plain": [
       "4389"
      ]
     },
     "execution_count": 81,
     "metadata": {},
     "output_type": "execute_result"
    }
   ],
   "source": [
    "is_pretty_numpy = np.vectorize(is_pretty)\n",
    "unq_ids = list(set(ids))\n",
    "\n",
    "%time len(np.where(is_pretty_numpy(unq_ids) == True)[0])"
   ]
  },
  {
   "cell_type": "markdown",
   "metadata": {},
   "source": [
    "**4\\.4.** При помощи `numba` создайте векторизованную версию функции `is_pretty`. Посчитайте с помощью этой векторизованной функции количество пользователей, которые получат подарок. Выведите это количество на экран. Измерьте время расчетов для входных данных `ids`.\n"
   ]
  },
  {
   "cell_type": "code",
   "execution_count": 79,
   "metadata": {},
   "outputs": [
    {
     "name": "stdout",
     "output_type": "stream",
     "text": [
      "Wall time: 4.43 ms\n"
     ]
    },
    {
     "data": {
      "text/plain": [
       "4389"
      ]
     },
     "execution_count": 79,
     "metadata": {},
     "output_type": "execute_result"
    }
   ],
   "source": [
    "is_pretty_numba = numba.vectorize([\"int64(int64)\"])(is_pretty)\n",
    "%time len(np.where(is_pretty_numba(unq_ids) == True)[0])"
   ]
  }
 ],
 "metadata": {
  "kernelspec": {
   "display_name": "Python 3 (ipykernel)",
   "language": "python",
   "name": "python3"
  },
  "language_info": {
   "codemirror_mode": {
    "name": "ipython",
    "version": 3
   },
   "file_extension": ".py",
   "mimetype": "text/x-python",
   "name": "python",
   "nbconvert_exporter": "python",
   "pygments_lexer": "ipython3",
   "version": "3.9.7"
  }
 },
 "nbformat": 4,
 "nbformat_minor": 4
}
