{
 "cells": [
  {
   "cell_type": "markdown",
   "metadata": {},
   "source": [
    "# Dask Delayed"
   ]
  },
  {
   "cell_type": "markdown",
   "metadata": {},
   "source": [
    "__Автор задач: Блохин Н.В. (NVBlokhin@fa.ru)__\n",
    "\n",
    "Материалы:\n",
    "* Макрушин С.В. Лекция \"Dask Delayed\"\n",
    "* https://docs.dask.org/en/latest/delayed.html\n",
    "* Jesse C. Daniel. Data Science with Python and Dask.\n",
    "* https://saturncloud.io/blog/a-data-scientist-s-guide-to-lazy-evaluation-with-dask/\n",
    "* https://www.coiled.io/blog/how-to-learn-dask-in-2021"
   ]
  },
  {
   "cell_type": "markdown",
   "metadata": {},
   "source": [
    "## Задачи для совместного разбора"
   ]
  },
  {
   "cell_type": "markdown",
   "metadata": {},
   "source": [
    "![](https://i.imgur.com/AwiN8y6.png)\n",
    "![](https://i.imgur.com/ceY6guU.png)"
   ]
  },
  {
   "cell_type": "markdown",
   "metadata": {},
   "source": [
    "1\\. Напишите 2 функции, имитирующие CPU-bound задачу и IO-bound задачу:\n",
    "\n",
    "`cpu_task()`: генерирует 100 тыс. случайных чисел и возвращает их сумму (без использования `numpy`)\n",
    "\n",
    "`io_task()`: \"спит\" 0.1 сек, затем генерирует случайное число и возвращает его\n",
    "\n",
    "Замерьте время выполнения 100 последовательных вызовов каждой из этих функций. Распараллелив вычисления при помощи `dask.delayed`, сократите время выполнения. Исследуйте, как зависит время вычислений от выбранного планировщика `scheduler`."
   ]
  },
  {
   "cell_type": "code",
   "execution_count": 1,
   "metadata": {},
   "outputs": [],
   "source": [
    "import numpy as np\n",
    "import dask.delayed as delayed\n",
    "import dask\n",
    "from time import sleep\n",
    "import random"
   ]
  },
  {
   "cell_type": "code",
   "execution_count": 8,
   "metadata": {},
   "outputs": [],
   "source": [
    "def cpu_task():\n",
    "    numbers = [random.randint(0, 1000) for r_ in range(100_000)]\n",
    "    return sum(numbers)\n",
    "def io_task():\n",
    "#     print('1')\n",
    "    sleep(0.1)\n",
    "#     print('2')"
   ]
  },
  {
   "cell_type": "code",
   "execution_count": 4,
   "metadata": {},
   "outputs": [
    {
     "name": "stdout",
     "output_type": "stream",
     "text": [
      "1\n",
      "2\n"
     ]
    }
   ],
   "source": [
    "io_task()"
   ]
  },
  {
   "cell_type": "code",
   "execution_count": 6,
   "metadata": {},
   "outputs": [
    {
     "name": "stdout",
     "output_type": "stream",
     "text": [
      "Wall time: 8.09 s\n"
     ]
    }
   ],
   "source": [
    "%%time\n",
    "r = [cpu_task() for _ in range(100)]"
   ]
  },
  {
   "cell_type": "code",
   "execution_count": 9,
   "metadata": {},
   "outputs": [
    {
     "name": "stdout",
     "output_type": "stream",
     "text": [
      "Wall time: 11 s\n"
     ]
    }
   ],
   "source": [
    "%%time\n",
    "r = [io_task() for _ in range(100)]"
   ]
  },
  {
   "cell_type": "code",
   "execution_count": 10,
   "metadata": {},
   "outputs": [],
   "source": [
    "cpu_task_delayed = dask.delayed(cpu_task)"
   ]
  },
  {
   "cell_type": "code",
   "execution_count": 11,
   "metadata": {},
   "outputs": [
    {
     "data": {
      "text/plain": [
       "50062174"
      ]
     },
     "execution_count": 11,
     "metadata": {},
     "output_type": "execute_result"
    }
   ],
   "source": [
    "cpu_task_delayed().compute()"
   ]
  },
  {
   "cell_type": "code",
   "execution_count": 12,
   "metadata": {
    "collapsed": true
   },
   "outputs": [
    {
     "name": "stdout",
     "output_type": "stream",
     "text": [
      "Wall time: 8.54 s\n"
     ]
    },
    {
     "data": {
      "text/plain": [
       "([50052701,\n",
       "  49793736,\n",
       "  49966622,\n",
       "  50065487,\n",
       "  50017625,\n",
       "  49826738,\n",
       "  50006074,\n",
       "  50069234,\n",
       "  49939363,\n",
       "  49941464,\n",
       "  50127946,\n",
       "  49944066,\n",
       "  50047341,\n",
       "  50054188,\n",
       "  50175690,\n",
       "  49918132,\n",
       "  50072704,\n",
       "  49933285,\n",
       "  50067521,\n",
       "  49968641,\n",
       "  49905712,\n",
       "  49971967,\n",
       "  50061246,\n",
       "  49995490,\n",
       "  50101002,\n",
       "  50062460,\n",
       "  49826583,\n",
       "  50009415,\n",
       "  50214894,\n",
       "  49838256,\n",
       "  50051685,\n",
       "  50013454,\n",
       "  50068718,\n",
       "  49987713,\n",
       "  50120519,\n",
       "  50113794,\n",
       "  50089473,\n",
       "  49905956,\n",
       "  49922888,\n",
       "  49924771,\n",
       "  50116734,\n",
       "  50063260,\n",
       "  49950793,\n",
       "  50041848,\n",
       "  49934085,\n",
       "  50233325,\n",
       "  50041283,\n",
       "  50087179,\n",
       "  49942737,\n",
       "  50087312,\n",
       "  50018617,\n",
       "  50036947,\n",
       "  50143239,\n",
       "  49949479,\n",
       "  49770698,\n",
       "  49828420,\n",
       "  50055350,\n",
       "  50089302,\n",
       "  50017308,\n",
       "  50000832,\n",
       "  49794727,\n",
       "  49844461,\n",
       "  50068482,\n",
       "  50222567,\n",
       "  49961325,\n",
       "  49990002,\n",
       "  49976963,\n",
       "  49926738,\n",
       "  49987629,\n",
       "  49917230,\n",
       "  50022475,\n",
       "  49952145,\n",
       "  50146290,\n",
       "  49889908,\n",
       "  49890573,\n",
       "  50205043,\n",
       "  49985638,\n",
       "  50097241,\n",
       "  50036377,\n",
       "  49859426,\n",
       "  49974579,\n",
       "  50133919,\n",
       "  50118151,\n",
       "  50096243,\n",
       "  49926051,\n",
       "  49992357,\n",
       "  49999559,\n",
       "  50000598,\n",
       "  50151692,\n",
       "  49931262,\n",
       "  49981706,\n",
       "  50030103,\n",
       "  49952157,\n",
       "  50041565,\n",
       "  49958315,\n",
       "  50020888,\n",
       "  49917171,\n",
       "  49936394,\n",
       "  49899407,\n",
       "  50043140],)"
      ]
     },
     "execution_count": 12,
     "metadata": {},
     "output_type": "execute_result"
    }
   ],
   "source": [
    "%%time\n",
    "r = [cpu_task_delayed() for _ in range(100)]\n",
    "dask.compute(r)"
   ]
  },
  {
   "cell_type": "code",
   "execution_count": 15,
   "metadata": {},
   "outputs": [],
   "source": [
    "io_task_delayed = delayed(io_task)"
   ]
  },
  {
   "cell_type": "code",
   "execution_count": 16,
   "metadata": {},
   "outputs": [
    {
     "name": "stdout",
     "output_type": "stream",
     "text": [
      "Wall time: 3.78 s\n"
     ]
    }
   ],
   "source": [
    "%%time\n",
    "r = [io_task_delayed() for _ in range(100)]\n",
    "r = dask.compute(r, scheduler='multiprocessing')"
   ]
  },
  {
   "cell_type": "code",
   "execution_count": 17,
   "metadata": {},
   "outputs": [
    {
     "name": "stdout",
     "output_type": "stream",
     "text": [
      "Wall time: 2.77 s\n"
     ]
    }
   ],
   "source": [
    "%%time\n",
    "r = [io_task_delayed() for _ in range(100)]\n",
    "r = dask.compute(r, scheduler='threading')"
   ]
  },
  {
   "cell_type": "markdown",
   "metadata": {},
   "source": [
    "## Лабораторная работа 14"
   ]
  },
  {
   "cell_type": "code",
   "execution_count": 1,
   "metadata": {},
   "outputs": [],
   "source": [
    "from bs4 import BeautifulSoup\n",
    "import numpy as np \n",
    "import re\n",
    "import dask.delayed as delayed\n",
    "import dask"
   ]
  },
  {
   "cell_type": "markdown",
   "metadata": {},
   "source": [
    "1\\. Напишите функцию, которая считывает файл формата xml из каталога `reviewers_full` и по данным этого файла формирует список словарей, содержащих следующие ключи: `id`, `username`, `name`, `sex`, `country`, `mail`, `registered`, `birthdate`, `name_prefix`, `country_code`. Часть из этих значений в исходном файле хранится в виде тэгов, часть - в виде атрибутов тэгов. Для конкретного человека какие-то из этих ключей могут отсутствовать. \n",
    "\n"
   ]
  },
  {
   "cell_type": "code",
   "execution_count": 2,
   "metadata": {},
   "outputs": [],
   "source": [
    "keys = ['id', 'username', 'name', 'sex', 'country', 'mail', 'registered', 'birthdate', 'name_prefix', 'country_code']"
   ]
  },
  {
   "cell_type": "code",
   "execution_count": 15,
   "metadata": {},
   "outputs": [],
   "source": [
    "def get_attrs(user):\n",
    "    d = dict()\n",
    "    for key in keys:\n",
    "        attrs = re.compile(r'<\\w+>(.*)<\\/\\w+>').findall(str(user.find(key)))\n",
    "        if len(attrs) > 0:\n",
    "            d[key] = attrs[0]\n",
    "        else:\n",
    "            d[key] = None\n",
    "    return d"
   ]
  },
  {
   "cell_type": "code",
   "execution_count": 4,
   "metadata": {},
   "outputs": [],
   "source": [
    "def xml_to_dict(file_number):\n",
    "    with open(f'C:/Users/micha/Downloads/14_delayed_data/reviewers_full_{file_number}.xml') as f:\n",
    "        reviews = BeautifulSoup(f, 'xml')\n",
    "    review_dict = list(map(get_attrs, reviews.find_all('user')))\n",
    "    return review_dict"
   ]
  },
  {
   "cell_type": "markdown",
   "metadata": {},
   "source": [
    "2\\. Измерьте время выполнения функции из задания 1 на всех файлах из каталога `reviewers_full`. Ускорьте время выполнения, используя `dask.delayed`."
   ]
  },
  {
   "cell_type": "code",
   "execution_count": 42,
   "metadata": {},
   "outputs": [],
   "source": [
    "%%time\n",
    "list(map(xml_to_dict, np.arange(0, 20)));"
   ]
  },
  {
   "cell_type": "markdown",
   "metadata": {},
   "source": [
    "`Wall time: 5min 38s`"
   ]
  },
  {
   "cell_type": "code",
   "execution_count": 6,
   "metadata": {},
   "outputs": [],
   "source": [
    "xml_to_dict_delayed = delayed(xml_to_dict)"
   ]
  },
  {
   "cell_type": "code",
   "execution_count": 7,
   "metadata": {},
   "outputs": [],
   "source": [
    "res = [xml_to_dict_delayed(file) for file in np.arange(0, 20)]"
   ]
  },
  {
   "cell_type": "code",
   "execution_count": 41,
   "metadata": {},
   "outputs": [],
   "source": [
    "%%time\n",
    "dask.compute(res, scheduler='multiprocessing');"
   ]
  },
  {
   "cell_type": "markdown",
   "metadata": {},
   "source": [
    "`Wall time: 1min 44s`"
   ]
  },
  {
   "cell_type": "markdown",
   "metadata": {},
   "source": [
    "3\\. Задекорируйте функцию из задания 1 при помощи `dask.delayed` и создайте список `reviewers`, состоящий из 5 объектов `delayed` (по одному объекту на файл). Из списка объектов `delayed`, создайте `dask.bag` при помощи метода `db.from_delayed`. Добавьте ключ `birth_year`, в котором хранится год рождения человека. Оставьте в выборке только тех людей, которые __наверняка__ моложе 1980 года. Преобразуйте поле `id` к целому типу."
   ]
  },
  {
   "cell_type": "code",
   "execution_count": 10,
   "metadata": {},
   "outputs": [],
   "source": [
    "import dask.bag as db"
   ]
  },
  {
   "cell_type": "code",
   "execution_count": 8,
   "metadata": {},
   "outputs": [],
   "source": [
    "reviewers = [xml_to_dict_delayed(file) for file in np.arange(0, 6)]"
   ]
  },
  {
   "cell_type": "code",
   "execution_count": 36,
   "metadata": {},
   "outputs": [],
   "source": [
    "def info_change(user):\n",
    "    user['id'] = int(user['id'])\n",
    "    if user['birthdate'] != None:\n",
    "        user['birthyear'] = str(user['birthdate'])[:4]\n",
    "    else:\n",
    "        user['birthyear'] = None\n",
    "    return user"
   ]
  },
  {
   "cell_type": "code",
   "execution_count": 37,
   "metadata": {},
   "outputs": [],
   "source": [
    "db_reviewers = db.from_delayed(reviewers).map(info_change)"
   ]
  },
  {
   "cell_type": "code",
   "execution_count": 38,
   "metadata": {},
   "outputs": [
    {
     "data": {
      "text/plain": [
       "({'id': 88005,\n",
       "  'username': 'jacqueline00',\n",
       "  'name': 'Michele Lewis',\n",
       "  'sex': None,\n",
       "  'country': None,\n",
       "  'mail': 'morenocharlotte@yahoo.com',\n",
       "  'registered': None,\n",
       "  'birthdate': None,\n",
       "  'name_prefix': None,\n",
       "  'country_code': None,\n",
       "  'birthyear': None},\n",
       " {'id': 68591,\n",
       "  'username': 'daniellegomez',\n",
       "  'name': None,\n",
       "  'sex': 'F',\n",
       "  'country': None,\n",
       "  'mail': None,\n",
       "  'registered': None,\n",
       "  'birthdate': '2005-03-06',\n",
       "  'name_prefix': None,\n",
       "  'country_code': None,\n",
       "  'birthyear': '2005'},\n",
       " {'id': 81003,\n",
       "  'username': 'alucero',\n",
       "  'name': 'Tammy Patton',\n",
       "  'sex': None,\n",
       "  'country': None,\n",
       "  'mail': 'larsenrobert@gmail.com',\n",
       "  'registered': None,\n",
       "  'birthdate': None,\n",
       "  'name_prefix': None,\n",
       "  'country_code': None,\n",
       "  'birthyear': None})"
      ]
     },
     "execution_count": 38,
     "metadata": {},
     "output_type": "execute_result"
    }
   ],
   "source": [
    "db_reviewers.take(3)"
   ]
  },
  {
   "cell_type": "code",
   "execution_count": 39,
   "metadata": {},
   "outputs": [],
   "source": [
    "def filter_young(user):\n",
    "    if user['birthyear'] != None:\n",
    "        return user['birthyear'] > 1980\n",
    "    else:\n",
    "        return False"
   ]
  },
  {
   "cell_type": "code",
   "execution_count": 25,
   "metadata": {},
   "outputs": [],
   "source": [
    "only_young_reviewers = db_reviewers.filter(filter_young)"
   ]
  }
 ],
 "metadata": {
  "kernelspec": {
   "display_name": "Python 3 (ipykernel)",
   "language": "python",
   "name": "python3"
  },
  "language_info": {
   "codemirror_mode": {
    "name": "ipython",
    "version": 3
   },
   "file_extension": ".py",
   "mimetype": "text/x-python",
   "name": "python",
   "nbconvert_exporter": "python",
   "pygments_lexer": "ipython3",
   "version": "3.9.7"
  }
 },
 "nbformat": 4,
 "nbformat_minor": 4
}
