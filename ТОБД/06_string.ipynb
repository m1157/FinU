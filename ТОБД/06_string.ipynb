{
 "cells": [
  {
   "cell_type": "markdown",
   "metadata": {},
   "source": [
    "# Работа со строковыми значениями"
   ]
  },
  {
   "cell_type": "markdown",
   "metadata": {},
   "source": [
    "__Автор задач: Блохин Н.В. (NVBlokhin@fa.ru)__\n",
    "\n",
    "Материалы:\n",
    "* Макрушин С.В. Лекция \"Работа со строковыми значениям\"\n",
    "* https://pyformat.info/\n",
    "* https://docs.python.org/3/library/re.html\n",
    "    * https://docs.python.org/3/library/re.html#flags\n",
    "    * https://docs.python.org/3/library/re.html#functions\n",
    "* https://pythonru.com/primery/primery-primeneniya-regulyarnyh-vyrazheniy-v-python\n",
    "* https://kanoki.org/2019/11/12/how-to-use-regex-in-pandas/\n",
    "* https://realpython.com/nltk-nlp-python/"
   ]
  },
  {
   "cell_type": "markdown",
   "metadata": {},
   "source": [
    "## Задачи для совместного разбора"
   ]
  },
  {
   "cell_type": "markdown",
   "metadata": {},
   "source": [
    "__1. Вывести на экран данные из словаря `obj` построчно в виде `k = v`, задав формат таким образом, чтобы знак равенства оказался на одной и той же позиции во всех строках. Строковые литералы обернуть в кавычки.__"
   ]
  },
  {
   "cell_type": "code",
   "execution_count": 1,
   "metadata": {},
   "outputs": [],
   "source": [
    "import pandas as pd"
   ]
  },
  {
   "cell_type": "code",
   "execution_count": 2,
   "metadata": {},
   "outputs": [
    {
     "data": {
      "text/plain": [
       "9"
      ]
     },
     "execution_count": 2,
     "metadata": {},
     "output_type": "execute_result"
    }
   ],
   "source": [
    "obj = {\n",
    "    \"home_page\": \"https://github.com/pypa/sampleproject\",\n",
    "    \"keywords\": \"sample setuptools development\",\n",
    "    \"license\": \"MIT\",\n",
    "}\n",
    "# max(np.array(list(map(len, obj.keys()))) + np.array(list((map(len, obj.values())))))\n",
    "max(list(map(len, obj.keys())))"
   ]
  },
  {
   "cell_type": "code",
   "execution_count": 3,
   "metadata": {},
   "outputs": [
    {
     "name": "stdout",
     "output_type": "stream",
     "text": [
      "home_page = \"https://github.com/pypa/sampleproject\"\n",
      "keywords  = \"sample setuptools development\"\n",
      "license   = \"MIT\"\n"
     ]
    }
   ],
   "source": [
    "for key, value in obj.items():\n",
    "    d = max(list(map(len, obj.keys())))\n",
    "    print(f'{key:<{d}} = \"{value}\"')"
   ]
  },
  {
   "cell_type": "markdown",
   "metadata": {},
   "source": [
    "__2. Написать регулярное выражение,которое позволит найти номера групп студентов.__"
   ]
  },
  {
   "cell_type": "code",
   "execution_count": 4,
   "metadata": {},
   "outputs": [
    {
     "data": {
      "text/plain": [
       "0    Евгения гр.ПМ19-1\n",
       "1         Илья пм 20-4\n",
       "2            Анна 20-3\n",
       "dtype: object"
      ]
     },
     "execution_count": 4,
     "metadata": {},
     "output_type": "execute_result"
    }
   ],
   "source": [
    "obj = pd.Series([\"Евгения гр.ПМ19-1\", \"Илья пм 20-4\", \"Анна 20-3\"])\n",
    "obj"
   ]
  },
  {
   "cell_type": "markdown",
   "metadata": {},
   "source": [
    "Примеры:\n",
    "* **r (row)** - для вывода служебных выражений\n",
    "* **\\d (digital)** - цифра\n",
    "* **\\s (space)** - пробел\n",
    "* **?** - 0/1\n",
    "* _*_ - 0 или более\n",
    "* **+** - 1 или более\n",
    "* **(...)** - объединение символов в группу\n",
    "* **(?:)** - non-capturing группа\n",
    "* **\\символ** - выведет \"символ\", *например, \\+ выведет +*"
   ]
  },
  {
   "cell_type": "code",
   "execution_count": 5,
   "metadata": {},
   "outputs": [
    {
     "name": "stdout",
     "output_type": "stream",
     "text": [
      "Евгения гр.ПМ19-1    ['ПМ19-1']\n",
      "Илья пм 20-4         ['пм 20-4']\n",
      "Анна 20-3            [' 20-3']\n"
     ]
    }
   ],
   "source": [
    "import re\n",
    "\n",
    "patt = re.compile(r\"(?:ПМ)?\\s?\\d+-\\d\", re.I)\n",
    "\n",
    "for item in obj:\n",
    "    print(f'{item:20}', patt.findall(item))"
   ]
  },
  {
   "cell_type": "markdown",
   "metadata": {},
   "source": [
    "__3. Разбейте текст формулировки задачи 2 на слова.__"
   ]
  },
  {
   "cell_type": "markdown",
   "metadata": {},
   "source": [
    "text = 'Написать регулярное выражение,которое позволит найти номера групп студентов.'\n",
    "\n",
    "ntlk.word_tokenize(text)\n",
    "\n",
    "tokenizer = nltk.tokenize.RegexpTokenizer('r\\w+')\n",
    "tokenizer.tokenize(text)"
   ]
  },
  {
   "cell_type": "markdown",
   "metadata": {},
   "source": [
    "## Лабораторная работа 6"
   ]
  },
  {
   "cell_type": "code",
   "execution_count": 6,
   "metadata": {},
   "outputs": [],
   "source": [
    "import pandas as pd\n",
    "import numpy as np"
   ]
  },
  {
   "cell_type": "markdown",
   "metadata": {},
   "source": [
    "### Форматирование строк"
   ]
  },
  {
   "cell_type": "markdown",
   "metadata": {},
   "source": [
    "**1\\.** Загрузите данные из файла `recipes_sample.csv` (__ЛР2__) в виде `pd.DataFrame` `recipes` При помощи форматирования строк выведите информацию об id рецепта и времени выполнения 5 случайных рецептов в виде таблицы следующего вида:\n",
    "\n",
    "    \n",
    "    |      id      |  minutes  |\n",
    "    |--------------------------|\n",
    "    |    61178     |    65     |\n",
    "    |    202352    |    80     |\n",
    "    |    364322    |    150    |\n",
    "    |    26177     |    20     |\n",
    "    |    224785    |    35     |\n",
    "    \n",
    "Обратите внимание, что ширина столбцов заранее неизвестна и должна рассчитываться динамически, в зависимости от тех данных, которые были выбраны."
   ]
  },
  {
   "cell_type": "code",
   "execution_count": 7,
   "metadata": {
    "scrolled": false
   },
   "outputs": [
    {
     "data": {
      "text/html": [
       "<div>\n",
       "<style scoped>\n",
       "    .dataframe tbody tr th:only-of-type {\n",
       "        vertical-align: middle;\n",
       "    }\n",
       "\n",
       "    .dataframe tbody tr th {\n",
       "        vertical-align: top;\n",
       "    }\n",
       "\n",
       "    .dataframe thead th {\n",
       "        text-align: right;\n",
       "    }\n",
       "</style>\n",
       "<table border=\"1\" class=\"dataframe\">\n",
       "  <thead>\n",
       "    <tr style=\"text-align: right;\">\n",
       "      <th></th>\n",
       "      <th>name</th>\n",
       "      <th>id</th>\n",
       "      <th>minutes</th>\n",
       "      <th>contributor_id</th>\n",
       "      <th>submitted</th>\n",
       "      <th>n_steps</th>\n",
       "      <th>description</th>\n",
       "      <th>n_ingredients</th>\n",
       "    </tr>\n",
       "  </thead>\n",
       "  <tbody>\n",
       "    <tr>\n",
       "      <th>0</th>\n",
       "      <td>george s at the cove  black bean soup</td>\n",
       "      <td>44123</td>\n",
       "      <td>90</td>\n",
       "      <td>35193</td>\n",
       "      <td>2002-10-25</td>\n",
       "      <td>NaN</td>\n",
       "      <td>an original recipe created by chef scott meska...</td>\n",
       "      <td>18.0</td>\n",
       "    </tr>\n",
       "  </tbody>\n",
       "</table>\n",
       "</div>"
      ],
      "text/plain": [
       "                                    name     id  minutes  contributor_id  \\\n",
       "0  george s at the cove  black bean soup  44123       90           35193   \n",
       "\n",
       "    submitted  n_steps                                        description  \\\n",
       "0  2002-10-25      NaN  an original recipe created by chef scott meska...   \n",
       "\n",
       "   n_ingredients  \n",
       "0           18.0  "
      ]
     },
     "execution_count": 7,
     "metadata": {},
     "output_type": "execute_result"
    }
   ],
   "source": [
    "recipes = pd.read_csv('recipes_sample.csv')\n",
    "recipes.head(1)"
   ]
  },
  {
   "cell_type": "code",
   "execution_count": 8,
   "metadata": {},
   "outputs": [
    {
     "name": "stdout",
     "output_type": "stream",
     "text": [
      "|   id   | minutes |\n",
      "|------------------|\n",
      "| 79414  |   40    |\n",
      "| 102163 |   35    |\n",
      "| 199548 |   30    |\n",
      "| 177786 |   35    |\n",
      "| 469496 |   45    |\n"
     ]
    }
   ],
   "source": [
    "five_recipes = recipes.iloc[np.random.choice(recipes.index.values, size=5, replace=False).tolist()][['id','minutes']].values\n",
    "dict_5_recipes = {i: five_recipes[i].tolist() for i in range(len(five_recipes))}\n",
    "\n",
    "width_id = max((list(map(lambda x: len(str(x)), five_recipes.T[0]))) + list([len('id')])) + 2\n",
    "width_min = max((list(map(lambda x: len(str(x)), five_recipes.T[1]))) + list([len('minutes')])) + 2\n",
    "\n",
    "print(f'|{\"id\":^{width_id}}|{\"minutes\":^{width_min}}|')\n",
    "print(f'|{\"-\"*(width_id+width_min+1)}|')\n",
    "for value in dict_5_recipes:\n",
    "    print(f'|{dict_5_recipes[value][0]:^{width_id}}|{dict_5_recipes[value][1]:^{width_min}}|')"
   ]
  },
  {
   "cell_type": "markdown",
   "metadata": {},
   "source": [
    "**2\\.** Напишите функцию `show_info`, которая по данным о рецепте создает строку (в смысле объекта python) с описанием следующего вида:\n",
    "\n",
    "```\n",
    "\"Название Из Нескольких Слов\"\n",
    "\n",
    "1. Шаг 1.\n",
    "2. Шаг 2.\n",
    "----------\n",
    "Автор: contributor_id\n",
    "Среднее время приготовления: minutes минут\n",
    "```\n",
    "\n",
    "    \n",
    "Данные для создания строки получите из файлов `recipes_sample.csv` (__ЛР2__) и `steps_sample.xml` (__ЛР3__). \n",
    "Вызовите данную функцию для рецепта с id `170895` и выведите (через `print`) полученную строку на экран."
   ]
  },
  {
   "cell_type": "code",
   "execution_count": 9,
   "metadata": {},
   "outputs": [],
   "source": [
    "import requests\n",
    "from bs4 import BeautifulSoup"
   ]
  },
  {
   "cell_type": "code",
   "execution_count": 10,
   "metadata": {},
   "outputs": [],
   "source": [
    "with open('.\\\\steps_sample.xml') as f:\n",
    "    stps = BeautifulSoup(f, 'xml')"
   ]
  },
  {
   "cell_type": "markdown",
   "metadata": {},
   "source": [
    "Функция для вывода "
   ]
  },
  {
   "cell_type": "code",
   "execution_count": 11,
   "metadata": {},
   "outputs": [],
   "source": [
    "def show_info(name, steps, minutes, author_id):    \n",
    "    final_string = f'\"{name.title()}\"\\n\\n'    \n",
    "    for step, step_name in enumerate(steps,1):\n",
    "        final_string += f'{step}. {step_name.capitalize()}\\n'\n",
    "    final_string += f'{\"-\" * 10}\\n'\n",
    "    final_string += f'Автор: {author_id}\\n'\n",
    "    final_string += f'Среднее время приготовления: {minutes} минут\\n'\n",
    "    return(final_string)    "
   ]
  },
  {
   "cell_type": "code",
   "execution_count": 12,
   "metadata": {
    "scrolled": false
   },
   "outputs": [
    {
     "name": "stdout",
     "output_type": "stream",
     "text": [
      "\"Leeks And Parsnips  Sauteed Or Creamed\"\n",
      "\n",
      "1. Clean the leeks and discard the dark green portions\n",
      "2. Cut the leeks lengthwise then into one-inch pieces\n",
      "3. Melt the butter in a medium skillet , med\n",
      "4. Heat\n",
      "5. Add the garlic and fry 'til fragrant\n",
      "6. Add leeks and fry until the leeks are tender , about 6-minutes\n",
      "7. Meanwhile , peel and chunk the parsnips into one-inch pieces\n",
      "8. Place in a steaming basket and steam 'til they are as tender as you prefer\n",
      "9. I like them fork-tender\n",
      "10. Drain parsnips and add to the skillet with the leeks\n",
      "11. Add salt and pepper\n",
      "12. Gently sautee together for 5-minutes\n",
      "13. At this point you can serve it , or continue on and cream it:\n",
      "14. In a jar with a screw top , add the half-n-half and arrowroot\n",
      "15. Shake 'til blended\n",
      "16. Turn heat to low under the leeks and parsnips\n",
      "17. Pour in the arrowroot mixture , stirring gently as you pour\n",
      "18. If too thick , gradually add the water\n",
      "19. Let simmer for a couple of minutes\n",
      "20. Taste to adjust seasoning , probably an additional 1 / 2 teaspoon salt\n",
      "21. Serve warm\n",
      "----------\n",
      "Автор: 8377\n",
      "Среднее время приготовления: 27 минут\n",
      "\n"
     ]
    }
   ],
   "source": [
    "recipe_id = 170895\n",
    "\n",
    "steps_list = list()\n",
    "for recipe in stps.recipes.find_all('recipe'):\n",
    "    s = recipe.find(\"id\").next\n",
    "    if (int(s) == recipe_id):\n",
    "        steps_list.append([step.next for step in recipe.find_all('step')])\n",
    "\n",
    "recipes_info = {'Название': recipes[recipes.id==recipe_id]['name'].values[0],\n",
    "                'Автор': recipes[recipes.id==recipe_id]['contributor_id'].values[0],\n",
    "                'Среднее время приготовления': recipes[recipes.id==recipe_id]['minutes'].values[0]}\n",
    "\n",
    "print(show_info(recipes_info['Название'], \n",
    "                steps_list[0],\n",
    "                recipes_info[\"Среднее время приготовления\"],\n",
    "                recipes_info[\"Автор\"]))"
   ]
  },
  {
   "cell_type": "code",
   "execution_count": 13,
   "metadata": {},
   "outputs": [],
   "source": [
    "assert (\n",
    "    show_info(\n",
    "        name=\"george s at the cove black bean soup\",\n",
    "        steps=[\n",
    "            \"clean the leeks and discard the dark green portions\",\n",
    "            \"cut the leeks lengthwise then into one-inch pieces\",\n",
    "            \"melt the butter in a medium skillet , med\",\n",
    "        ],\n",
    "        minutes=90,\n",
    "        author_id=35193,\n",
    "    )\n",
    "    == '\"George S At The Cove Black Bean Soup\"\\n\\n1. Clean the leeks and discard the dark green portions\\n2. Cut the leeks lengthwise then into one-inch pieces\\n3. Melt the butter in a medium skillet , med\\n----------\\nАвтор: 35193\\nСреднее время приготовления: 90 минут\\n'\n",
    ")"
   ]
  },
  {
   "cell_type": "markdown",
   "metadata": {},
   "source": [
    "## Работа с регулярными выражениями"
   ]
  },
  {
   "cell_type": "markdown",
   "metadata": {},
   "source": [
    "**3\\.** Напишите регулярное выражение, которое ищет следующий паттерн в строке: число (1 цифра или более), затем пробел, затем слова: hour или hours или minute или minutes. Произведите поиск по данному регулярному выражению в каждом шаге рецепта с id 25082. Выведите на экран все непустые результаты, найденные по данному шаблону."
   ]
  },
  {
   "cell_type": "code",
   "execution_count": 14,
   "metadata": {},
   "outputs": [],
   "source": [
    "recipe_id = 25082\n",
    "\n",
    "steps_list = list()\n",
    "for recipe in stps.recipes.find_all('recipe'):\n",
    "    s = recipe.find(\"id\").next\n",
    "    if (int(s) == recipe_id):\n",
    "        steps_list.append([step.next for step in recipe.find_all('step')])"
   ]
  },
  {
   "cell_type": "code",
   "execution_count": 15,
   "metadata": {},
   "outputs": [
    {
     "name": "stdout",
     "output_type": "stream",
     "text": [
      "6. turn out onto a lightly floured board and knead for about 20 minutes , adding flour as nescessary to keep the dough from sticking to the board\n",
      "\u001b[1m ['20 minutes'] \u001b[0m \n",
      "\n",
      "8. when it has been sufficiently kneaded , cover it with a damp cloth for about 10 minutes and wash and grease the bowl lightly\n",
      "\u001b[1m ['10 minutes'] \u001b[0m \n",
      "\n",
      "10. let the dough rise until it springs back when you stick your finger in it , and it is about twice the size as it was before (this takes about 2 hours\n",
      "\u001b[1m ['2 hours'] \u001b[0m \n",
      "\n",
      "14. when the dough has risen twice , deflate it again and cover it with the damp cloth again for about 10 minutes , then divide it into and shape it into loaves , buns , etc\n",
      "\u001b[1m ['10 minutes'] \u001b[0m \n",
      "\n",
      "17. bake at 400 for 20 minutes , and then turn the oven down to 350 and bake for 20-30 minutes longer , until the loaf is a lovely brown and sounds hollow when you thump it on the bottom\n",
      "\u001b[1m ['20 minutes', '30 minutes'] \u001b[0m \n",
      "\n"
     ]
    }
   ],
   "source": [
    "for step, step_name in enumerate(steps_list[0],1):\n",
    "    patt = re.compile(r\"(\\d+\\s\\bhours?\\b|\\d+\\s\\bminutes?\\b)\", re.I)\n",
    "    if(len(patt.findall(step_name))!=0):\n",
    "        print(f'{step}. {step_name}')\n",
    "        print(f'\\033[1m {patt.findall(step_name)} \\033[0m \\n')"
   ]
  },
  {
   "cell_type": "markdown",
   "metadata": {},
   "source": [
    "**4\\.** Напишите регулярное выражение, которое ищет шаблон вида \"this..., but\" _в начале строки_ . Между словом \"this\" и частью \", but\" может находиться произвольное число букв, цифр, знаков подчеркивания и пробелов. Никаких других символов вместо многоточия быть не может. Пробел между запятой и словом \"but\" может присутствовать или отсутствовать.\n",
    "\n",
    "Используя строковые методы `pd.Series`, выясните, для каких рецептов данный шаблон содержится в тексте описания. Выведите на экран количество таких рецептов и 3 примера подходящих описаний (текст описания должен быть виден на экране полностью)."
   ]
  },
  {
   "cell_type": "code",
   "execution_count": 16,
   "metadata": {},
   "outputs": [
    {
     "data": {
      "text/html": [
       "<div>\n",
       "<style scoped>\n",
       "    .dataframe tbody tr th:only-of-type {\n",
       "        vertical-align: middle;\n",
       "    }\n",
       "\n",
       "    .dataframe tbody tr th {\n",
       "        vertical-align: top;\n",
       "    }\n",
       "\n",
       "    .dataframe thead th {\n",
       "        text-align: right;\n",
       "    }\n",
       "</style>\n",
       "<table border=\"1\" class=\"dataframe\">\n",
       "  <thead>\n",
       "    <tr style=\"text-align: right;\">\n",
       "      <th></th>\n",
       "      <th>name</th>\n",
       "      <th>id</th>\n",
       "      <th>minutes</th>\n",
       "      <th>contributor_id</th>\n",
       "      <th>submitted</th>\n",
       "      <th>n_steps</th>\n",
       "      <th>description</th>\n",
       "      <th>n_ingredients</th>\n",
       "    </tr>\n",
       "  </thead>\n",
       "  <tbody>\n",
       "    <tr>\n",
       "      <th>76</th>\n",
       "      <td>neezy peazy lunch</td>\n",
       "      <td>24760</td>\n",
       "      <td>35</td>\n",
       "      <td>29291</td>\n",
       "      <td>2002-04-08</td>\n",
       "      <td>NaN</td>\n",
       "      <td>this is a great meal eaten the same day ,but e...</td>\n",
       "      <td>6.0</td>\n",
       "    </tr>\n",
       "    <tr>\n",
       "      <th>183</th>\n",
       "      <td>3 pepper quiche</td>\n",
       "      <td>311313</td>\n",
       "      <td>75</td>\n",
       "      <td>186802</td>\n",
       "      <td>2008-07-02</td>\n",
       "      <td>NaN</td>\n",
       "      <td>this was adapted from a recipe i found on the ...</td>\n",
       "      <td>13.0</td>\n",
       "    </tr>\n",
       "    <tr>\n",
       "      <th>337</th>\n",
       "      <td>addictive chex mix</td>\n",
       "      <td>277562</td>\n",
       "      <td>21</td>\n",
       "      <td>260464</td>\n",
       "      <td>2008-01-08</td>\n",
       "      <td>NaN</td>\n",
       "      <td>this is kind of similar to some of the other v...</td>\n",
       "      <td>12.0</td>\n",
       "    </tr>\n",
       "    <tr>\n",
       "      <th>486</th>\n",
       "      <td>almas pite  hungarian apple cake</td>\n",
       "      <td>200227</td>\n",
       "      <td>1500</td>\n",
       "      <td>388615</td>\n",
       "      <td>2006-12-11</td>\n",
       "      <td>18.0</td>\n",
       "      <td>this is a moist, buttery apple cake.  the doug...</td>\n",
       "      <td>10.0</td>\n",
       "    </tr>\n",
       "    <tr>\n",
       "      <th>678</th>\n",
       "      <td>amish tears on your pillow pie</td>\n",
       "      <td>40858</td>\n",
       "      <td>75</td>\n",
       "      <td>6258</td>\n",
       "      <td>2002-09-20</td>\n",
       "      <td>NaN</td>\n",
       "      <td>this pie does not have very many ingredients i...</td>\n",
       "      <td>6.0</td>\n",
       "    </tr>\n",
       "    <tr>\n",
       "      <th>...</th>\n",
       "      <td>...</td>\n",
       "      <td>...</td>\n",
       "      <td>...</td>\n",
       "      <td>...</td>\n",
       "      <td>...</td>\n",
       "      <td>...</td>\n",
       "      <td>...</td>\n",
       "      <td>...</td>\n",
       "    </tr>\n",
       "    <tr>\n",
       "      <th>29315</th>\n",
       "      <td>white spinach lasagna</td>\n",
       "      <td>92419</td>\n",
       "      <td>85</td>\n",
       "      <td>101034</td>\n",
       "      <td>2004-06-01</td>\n",
       "      <td>12.0</td>\n",
       "      <td>this is so simple to put together and tastes s...</td>\n",
       "      <td>11.0</td>\n",
       "    </tr>\n",
       "    <tr>\n",
       "      <th>29340</th>\n",
       "      <td>whole rump barbecued</td>\n",
       "      <td>131322</td>\n",
       "      <td>1455</td>\n",
       "      <td>214855</td>\n",
       "      <td>2005-07-27</td>\n",
       "      <td>7.0</td>\n",
       "      <td>this is so good, but does require 24 hours mar...</td>\n",
       "      <td>NaN</td>\n",
       "    </tr>\n",
       "    <tr>\n",
       "      <th>29853</th>\n",
       "      <td>zesty salad with tortilla strips</td>\n",
       "      <td>170416</td>\n",
       "      <td>9</td>\n",
       "      <td>169969</td>\n",
       "      <td>2006-05-30</td>\n",
       "      <td>10.0</td>\n",
       "      <td>this simple salad pairs wonderfully with any m...</td>\n",
       "      <td>11.0</td>\n",
       "    </tr>\n",
       "    <tr>\n",
       "      <th>29967</th>\n",
       "      <td>zucchini spice cake</td>\n",
       "      <td>80067</td>\n",
       "      <td>65</td>\n",
       "      <td>4439</td>\n",
       "      <td>2004-01-02</td>\n",
       "      <td>11.0</td>\n",
       "      <td>this recipe is pretty close to bizzare, but it...</td>\n",
       "      <td>4.0</td>\n",
       "    </tr>\n",
       "    <tr>\n",
       "      <th>29998</th>\n",
       "      <td>zydeco soup</td>\n",
       "      <td>486161</td>\n",
       "      <td>60</td>\n",
       "      <td>227978</td>\n",
       "      <td>2012-08-29</td>\n",
       "      <td>NaN</td>\n",
       "      <td>this is a delicious soup that i originally fou...</td>\n",
       "      <td>NaN</td>\n",
       "    </tr>\n",
       "  </tbody>\n",
       "</table>\n",
       "<p>134 rows × 8 columns</p>\n",
       "</div>"
      ],
      "text/plain": [
       "                                   name      id  minutes  contributor_id  \\\n",
       "76                    neezy peazy lunch   24760       35           29291   \n",
       "183                     3 pepper quiche  311313       75          186802   \n",
       "337                  addictive chex mix  277562       21          260464   \n",
       "486    almas pite  hungarian apple cake  200227     1500          388615   \n",
       "678      amish tears on your pillow pie   40858       75            6258   \n",
       "...                                 ...     ...      ...             ...   \n",
       "29315             white spinach lasagna   92419       85          101034   \n",
       "29340              whole rump barbecued  131322     1455          214855   \n",
       "29853  zesty salad with tortilla strips  170416        9          169969   \n",
       "29967               zucchini spice cake   80067       65            4439   \n",
       "29998                       zydeco soup  486161       60          227978   \n",
       "\n",
       "        submitted  n_steps                                        description  \\\n",
       "76     2002-04-08      NaN  this is a great meal eaten the same day ,but e...   \n",
       "183    2008-07-02      NaN  this was adapted from a recipe i found on the ...   \n",
       "337    2008-01-08      NaN  this is kind of similar to some of the other v...   \n",
       "486    2006-12-11     18.0  this is a moist, buttery apple cake.  the doug...   \n",
       "678    2002-09-20      NaN  this pie does not have very many ingredients i...   \n",
       "...           ...      ...                                                ...   \n",
       "29315  2004-06-01     12.0  this is so simple to put together and tastes s...   \n",
       "29340  2005-07-27      7.0  this is so good, but does require 24 hours mar...   \n",
       "29853  2006-05-30     10.0  this simple salad pairs wonderfully with any m...   \n",
       "29967  2004-01-02     11.0  this recipe is pretty close to bizzare, but it...   \n",
       "29998  2012-08-29      NaN  this is a delicious soup that i originally fou...   \n",
       "\n",
       "       n_ingredients  \n",
       "76               6.0  \n",
       "183             13.0  \n",
       "337             12.0  \n",
       "486             10.0  \n",
       "678              6.0  \n",
       "...              ...  \n",
       "29315           11.0  \n",
       "29340            NaN  \n",
       "29853           11.0  \n",
       "29967            4.0  \n",
       "29998            NaN  \n",
       "\n",
       "[134 rows x 8 columns]"
      ]
     },
     "execution_count": 16,
     "metadata": {},
     "output_type": "execute_result"
    }
   ],
   "source": [
    "thisbut_df = recipes.iloc[np.where(recipes.description.str.extract(r\"(^this(?:\\s|\\w)*?,\\s*?but)\").isnull()==False)[0]]\n",
    "thisbut_df"
   ]
  },
  {
   "cell_type": "code",
   "execution_count": 17,
   "metadata": {},
   "outputs": [
    {
     "name": "stdout",
     "output_type": "stream",
     "text": [
      "Всего рецептов с описанием вида \"this..., but\": \u001b[1m134 шт\u001b[0m.\n",
      "\n",
      "Примеры описаний:\n",
      "\u001b[1mid=23704\u001b[0m: this sauce is more sweet than sour, but still has a good \"twang\" all the same.  i used pineapple chunks because i had some leftover fresh pineapple in the freezer.  you can used canned, if that's what you have, but the taste just doesn't compare to the fresh!  if you prefer your sauce a bit less sweet, use canned pineapple and reduce the amount of brown sugar.  we just loved this recipe, so i thought some of you might, too.\n",
      "\n",
      "\u001b[1mid=22399\u001b[0m: this is a recipe that i clipped from a magazine years ago, but unfortunately can't remember which one.  it was a makeover version of a person's favorite high fat casserole into a reduced fat/calorie dish.  my husband and i really enjoy this.  i usually serve it with a salad or steamed vegetable for a complete dinner.  (note: cooking time does not include time to cook brown rice.)\n",
      "\n",
      "\u001b[1mid=13505\u001b[0m: this recipe is very similar to other feta chicken recipes on recipezaar, but i like these proportions.  spinach makes a nice side dish.\n",
      "\n"
     ]
    }
   ],
   "source": [
    "print(f'Всего рецептов с описанием вида \"this..., but\": \\033[1m{len(thisbut_df)} шт\\033[0m.\\n\\nПримеры описаний:')\n",
    "sample = thisbut_df.description.sample(n=3)\n",
    "sample_dict = dict(zip(sample.index.tolist(), sample.tolist()))\n",
    "\n",
    "for id, description in sample_dict.items():\n",
    "    print(f'\\033[1m{id=}\\033[0m: {description}\\n')"
   ]
  },
  {
   "cell_type": "markdown",
   "metadata": {},
   "source": [
    "**5\\.** В текстах шагов рецептов обыкновенные дроби имеют вид \"a / b\". Используя регулярные выражения, уберите в тексте шагов рецепта с id 72367 пробелы до и после символа дроби. Выведите на экран шаги этого рецепта после их изменения."
   ]
  },
  {
   "cell_type": "code",
   "execution_count": 18,
   "metadata": {},
   "outputs": [],
   "source": [
    "recipe_id = 170895\n",
    "patt = re.compile(r\".*\\d+\\s\\/\\s\\d+.*\", re.I)    "
   ]
  },
  {
   "cell_type": "code",
   "execution_count": 19,
   "metadata": {},
   "outputs": [
    {
     "name": "stdout",
     "output_type": "stream",
     "text": [
      "1. clean the leeks and discard the dark green portions\n",
      "2. cut the leeks lengthwise then into one-inch pieces\n",
      "3. melt the butter in a medium skillet , med\n",
      "4. heat\n",
      "5. add the garlic and fry 'til fragrant\n",
      "6. add leeks and fry until the leeks are tender , about 6-minutes\n",
      "7. meanwhile , peel and chunk the parsnips into one-inch pieces\n",
      "8. place in a steaming basket and steam 'til they are as tender as you prefer\n",
      "9. i like them fork-tender\n",
      "10. drain parsnips and add to the skillet with the leeks\n",
      "11. add salt and pepper\n",
      "12. gently sautee together for 5-minutes\n",
      "13. at this point you can serve it , or continue on and cream it:\n",
      "14. in a jar with a screw top , add the half-n-half and arrowroot\n",
      "15. shake 'til blended\n",
      "16. turn heat to low under the leeks and parsnips\n",
      "17. pour in the arrowroot mixture , stirring gently as you pour\n",
      "18. if too thick , gradually add the water\n",
      "19. let simmer for a couple of minutes\n",
      "20. taste to adjust seasoning , probably an additional 1/2 teaspoon salt\n",
      "21. serve warm\n"
     ]
    }
   ],
   "source": [
    "steps_list = list()\n",
    "for recipe in stps.recipes.find_all('recipe'):\n",
    "    if (int(recipe.find(\"id\").next) == recipe_id):\n",
    "         for step in recipe.find_all(\"step\"): \n",
    "                if(len(patt.findall(step.next))!=0):\n",
    "                    steps_list.append(re.sub(r'\\s\\/\\s', '/',step.next))\n",
    "                else:\n",
    "                    steps_list.append(step.next)\n",
    "\n",
    "for step, step_name in enumerate(steps_list,1):\n",
    "    print(f'{step}. {step_name}')"
   ]
  },
  {
   "cell_type": "markdown",
   "metadata": {},
   "source": [
    "### Сегментация текста"
   ]
  },
  {
   "cell_type": "code",
   "execution_count": 20,
   "metadata": {},
   "outputs": [
    {
     "name": "stderr",
     "output_type": "stream",
     "text": [
      "[nltk_data] Downloading package punkt to\n",
      "[nltk_data]     C:\\Users\\micha\\AppData\\Roaming\\nltk_data...\n",
      "[nltk_data]   Package punkt is already up-to-date!\n"
     ]
    },
    {
     "data": {
      "text/plain": [
       "True"
      ]
     },
     "execution_count": 20,
     "metadata": {},
     "output_type": "execute_result"
    }
   ],
   "source": [
    "import nltk\n",
    "nltk.download('punkt')"
   ]
  },
  {
   "cell_type": "markdown",
   "metadata": {},
   "source": [
    "**6\\.** Разбейте тексты шагов рецептов на слова при помощи пакета `nltk`. Посчитайте и выведите на экран кол-во уникальных слов среди всех рецептов. Словом называется любая последовательность алфавитных символов (для проверки можно воспользоваться `str.isalpha`). При подсчете количества уникальных слов не учитывайте регистр."
   ]
  },
  {
   "cell_type": "code",
   "execution_count": 21,
   "metadata": {},
   "outputs": [],
   "source": [
    "rec_glossary = list()"
   ]
  },
  {
   "cell_type": "code",
   "execution_count": 22,
   "metadata": {},
   "outputs": [],
   "source": [
    "steps_list = list()\n",
    "for recipe in stps.recipes.find_all('recipe'):\n",
    "        for step in recipe.find_all(\"step\"): \n",
    "            words = list(set(nltk.tokenize.RegexpTokenizer(r'[a-zA-Z]+').tokenize(step.next)))\n",
    "#             for word in words:\n",
    "#                 word.lower()\n",
    "            rec_glossary.extend(words)\n",
    "rec_glossary = list(set(rec_glossary))"
   ]
  },
  {
   "cell_type": "code",
   "execution_count": 23,
   "metadata": {},
   "outputs": [
    {
     "data": {
      "text/plain": [
       "['believes', 'adequately', 'experimenting', 'online', 'sticking']"
      ]
     },
     "execution_count": 23,
     "metadata": {},
     "output_type": "execute_result"
    }
   ],
   "source": [
    "rec_glossary[:5]"
   ]
  },
  {
   "cell_type": "code",
   "execution_count": 24,
   "metadata": {},
   "outputs": [
    {
     "data": {
      "text/plain": [
       "'Итого 15139 уникальных слов(а) в рецепте'"
      ]
     },
     "execution_count": 24,
     "metadata": {},
     "output_type": "execute_result"
    }
   ],
   "source": [
    "(f'Итого {len(rec_glossary)} уникальных слов(а) в рецепте')"
   ]
  },
  {
   "cell_type": "markdown",
   "metadata": {},
   "source": [
    "**7\\.** Разбейте описания рецептов из `recipes` на предложения при помощи пакета `nltk`. Найдите 5 самых длинных описаний (по количеству _предложений_) рецептов в датасете и выведите строки фрейма, соответствующие этим рецептами, в порядке убывания длины."
   ]
  },
  {
   "cell_type": "code",
   "execution_count": 25,
   "metadata": {},
   "outputs": [],
   "source": [
    "recipes[\"description_length\"] = recipes.description.apply(lambda x: len(nltk.sent_tokenize(str(x))))"
   ]
  },
  {
   "cell_type": "code",
   "execution_count": 26,
   "metadata": {},
   "outputs": [
    {
     "data": {
      "text/html": [
       "<div>\n",
       "<style scoped>\n",
       "    .dataframe tbody tr th:only-of-type {\n",
       "        vertical-align: middle;\n",
       "    }\n",
       "\n",
       "    .dataframe tbody tr th {\n",
       "        vertical-align: top;\n",
       "    }\n",
       "\n",
       "    .dataframe thead th {\n",
       "        text-align: right;\n",
       "    }\n",
       "</style>\n",
       "<table border=\"1\" class=\"dataframe\">\n",
       "  <thead>\n",
       "    <tr style=\"text-align: right;\">\n",
       "      <th></th>\n",
       "      <th>name</th>\n",
       "      <th>id</th>\n",
       "      <th>minutes</th>\n",
       "      <th>contributor_id</th>\n",
       "      <th>submitted</th>\n",
       "      <th>n_steps</th>\n",
       "      <th>description</th>\n",
       "      <th>n_ingredients</th>\n",
       "      <th>description_length</th>\n",
       "    </tr>\n",
       "  </thead>\n",
       "  <tbody>\n",
       "    <tr>\n",
       "      <th>18408</th>\n",
       "      <td>my favorite buttercream icing for decorating</td>\n",
       "      <td>334113</td>\n",
       "      <td>30</td>\n",
       "      <td>681465</td>\n",
       "      <td>2008-10-30</td>\n",
       "      <td>12.0</td>\n",
       "      <td>this wonderful icing is used for icing cakes a...</td>\n",
       "      <td>NaN</td>\n",
       "      <td>76</td>\n",
       "    </tr>\n",
       "    <tr>\n",
       "      <th>481</th>\n",
       "      <td>alligator claws  avocado fritters  with chipot...</td>\n",
       "      <td>287008</td>\n",
       "      <td>45</td>\n",
       "      <td>765354</td>\n",
       "      <td>2008-02-19</td>\n",
       "      <td>NaN</td>\n",
       "      <td>a translucent golden-brown crust allows the gr...</td>\n",
       "      <td>9.0</td>\n",
       "      <td>27</td>\n",
       "    </tr>\n",
       "    <tr>\n",
       "      <th>22566</th>\n",
       "      <td>rich barley mushroom soup</td>\n",
       "      <td>328708</td>\n",
       "      <td>60</td>\n",
       "      <td>221776</td>\n",
       "      <td>2008-10-03</td>\n",
       "      <td>NaN</td>\n",
       "      <td>this is one of the best soups i've ever made a...</td>\n",
       "      <td>10.0</td>\n",
       "      <td>24</td>\n",
       "    </tr>\n",
       "    <tr>\n",
       "      <th>6779</th>\n",
       "      <td>chocolate tea</td>\n",
       "      <td>205348</td>\n",
       "      <td>6</td>\n",
       "      <td>428824</td>\n",
       "      <td>2007-01-14</td>\n",
       "      <td>NaN</td>\n",
       "      <td>i wrote this because there are an astounding l...</td>\n",
       "      <td>NaN</td>\n",
       "      <td>23</td>\n",
       "    </tr>\n",
       "    <tr>\n",
       "      <th>16296</th>\n",
       "      <td>little bunny foo foo cake  carrot cake  with c...</td>\n",
       "      <td>316000</td>\n",
       "      <td>68</td>\n",
       "      <td>689540</td>\n",
       "      <td>2008-07-27</td>\n",
       "      <td>14.0</td>\n",
       "      <td>the first time i made this cake i grated a mil...</td>\n",
       "      <td>NaN</td>\n",
       "      <td>23</td>\n",
       "    </tr>\n",
       "  </tbody>\n",
       "</table>\n",
       "</div>"
      ],
      "text/plain": [
       "                                                    name      id  minutes  \\\n",
       "18408       my favorite buttercream icing for decorating  334113       30   \n",
       "481    alligator claws  avocado fritters  with chipot...  287008       45   \n",
       "22566                          rich barley mushroom soup  328708       60   \n",
       "6779                                       chocolate tea  205348        6   \n",
       "16296  little bunny foo foo cake  carrot cake  with c...  316000       68   \n",
       "\n",
       "       contributor_id   submitted  n_steps  \\\n",
       "18408          681465  2008-10-30     12.0   \n",
       "481            765354  2008-02-19      NaN   \n",
       "22566          221776  2008-10-03      NaN   \n",
       "6779           428824  2007-01-14      NaN   \n",
       "16296          689540  2008-07-27     14.0   \n",
       "\n",
       "                                             description  n_ingredients  \\\n",
       "18408  this wonderful icing is used for icing cakes a...            NaN   \n",
       "481    a translucent golden-brown crust allows the gr...            9.0   \n",
       "22566  this is one of the best soups i've ever made a...           10.0   \n",
       "6779   i wrote this because there are an astounding l...            NaN   \n",
       "16296  the first time i made this cake i grated a mil...            NaN   \n",
       "\n",
       "       description_length  \n",
       "18408                  76  \n",
       "481                    27  \n",
       "22566                  24  \n",
       "6779                   23  \n",
       "16296                  23  "
      ]
     },
     "execution_count": 26,
     "metadata": {},
     "output_type": "execute_result"
    }
   ],
   "source": [
    "recipes.sort_values('description_length',ascending=False).head()"
   ]
  },
  {
   "cell_type": "markdown",
   "metadata": {},
   "source": [
    "**8\\.** Напишите функцию, которая для заданного предложения выводит информацию о частях речи слов, входящих в предложение, в следующем виде:\n",
    "```\n",
    "PRP   VBD   DT      NNS     CC   VBD      NNS        RB   \n",
    " I  omitted the raspberries and added strawberries instead\n",
    "``` \n",
    "Для определения части речи слова можно воспользоваться `nltk.pos_tag`.\n",
    "\n",
    "Проверьте работоспособность функции на названии рецепта с id 241106.\n",
    "\n",
    "Обратите внимание, что часть речи должна находиться ровно посередине над соотвествующим словом, а между самими словами должен быть ровно один пробел."
   ]
  },
  {
   "cell_type": "code",
   "execution_count": 27,
   "metadata": {},
   "outputs": [],
   "source": [
    "# nltk.download('averaged_perceptron_tagger')"
   ]
  },
  {
   "cell_type": "code",
   "execution_count": 28,
   "metadata": {},
   "outputs": [
    {
     "name": "stdout",
     "output_type": "stream",
     "text": [
      "TO  VB  DT     JJ       NN      VBP   DT   JJ       NNS       RB    VBG   DT  NN  CC    VBG      RB    TO   VB     RB   \n",
      "to make the balsamic marinade combine the first ingredients slowly adding the oil and stirring briskly to combine well\n",
      " \n",
      "VBN  RP    \n",
      "set aside\n",
      " \n",
      "  VB    DTJJ     NN     NN  CC   VB    DTNN   NN   TO   VB    JJ   \n",
      "prepare a hot charcoal fire or preheat a gas grill to medium high\n",
      " \n",
      " NN   DT   JJ        NN     NN  IN DT   NN    \n",
      "place a vegetable grilling rack on the grill\n",
      " \n",
      "CC   VB    DT    NN     \n",
      "or preheat the broiler\n",
      " \n",
      "TO  VB  DT     NN     VBZ   VBD DT     JJ        NN      IN   CD   NNS   TO    VB     NNS    \n",
      "to make the eggplant steaks cut the eggplant lengthwise into four slices to resemble steaks\n",
      " \n",
      " IN   DT   NNS    IN  DT     NN     \n",
      "brush the steaks with the marinade\n",
      " \n",
      " NN   CC  VB   DT     NN    IN    NNS   IN  DT   NN  CC  IN     NN   CC  RB   JJ   \n",
      "grill or broil the eggplant for minutes on each side or until tender but not soft\n",
      " \n",
      "  NN    IN  DT   NN  CC   NN    NN   IN  DT    VBG    NN    \n",
      "remove from the heat and place steak on each serving plate\n",
      " \n",
      "VBD DT     NN       VBZ     JJ   NNS   CC    NN    IN DT NN   \n",
      "put the chickpeas tomatoes feta olives and oregano in a bowl\n",
      " \n",
      "  NN   TO  VB    IN   NN  CC    NN   CC   NN  TO   VB     RB   \n",
      "season to taste with salt and pepper and stir to combine well\n",
      " \n",
      "VB   DT     NN    CC   NN   RB    \n",
      "add some marinade and stir again\n",
      " \n",
      " NN   CC  VB   DT   NN   NN   NN   IN  NN   VBN    NNS   CC  VB   RB    \n",
      "toast or grill the pita bread cut into pie shaped wedges and set aside\n",
      " \n",
      " NN   CC  NNS   IN DT    NN    JJ     NN     IN   DT     JJ     NN    IN   DT    NN      VBG    IN  DT   NN    \n",
      "spoon or scoops of the tomato olive mixture onto each eggplant steak with some mixture pooling onto the plate\n",
      " \n",
      "   NN     IN    JJ     NN     JJ    NNS   NNS  IN DT   NN   CC   VB    \n",
      "sprinkle with vinegar place several pita wedes on the plate and serve\n",
      " \n"
     ]
    }
   ],
   "source": [
    "recipe_id = 241106\n",
    "\n",
    "steps_list = list()\n",
    "for recipe in stps.recipes.find_all('recipe'):\n",
    "    s = recipe.find(\"id\").next\n",
    "    if (int(s) == recipe_id):\n",
    "        for step in recipe.find_all('step'):\n",
    "            s = nltk.pos_tag(nltk.tokenize.RegexpTokenizer(r'[a-zA-Z]+').tokenize(step.next))\n",
    "            dliny = list(map(len, list(list(zip(*s))[0])))\n",
    "            for i, word in enumerate(list(list(zip(*s))[1])):\n",
    "                if(len(word)<=dliny[i]):\n",
    "                    print(f'{word:^{dliny[i]}}', end=' ')\n",
    "                else:\n",
    "                    print(f'{word:^{dliny[i]}}', end='')\n",
    "            print(' ')\n",
    "            print(*list(list(zip(*s))[0]), sep =' ')\n",
    "            print(' ')"
   ]
  }
 ],
 "metadata": {
  "kernelspec": {
   "display_name": "Python 3 (ipykernel)",
   "language": "python",
   "name": "python3"
  },
  "language_info": {
   "codemirror_mode": {
    "name": "ipython",
    "version": 3
   },
   "file_extension": ".py",
   "mimetype": "text/x-python",
   "name": "python",
   "nbconvert_exporter": "python",
   "pygments_lexer": "ipython3",
   "version": "3.9.7"
  }
 },
 "nbformat": 4,
 "nbformat_minor": 4
}
