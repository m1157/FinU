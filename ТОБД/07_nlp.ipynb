{
 "cells": [
  {
   "cell_type": "markdown",
   "metadata": {},
   "source": [
    "# Введение в обработку текста на естественном языке"
   ]
  },
  {
   "cell_type": "markdown",
   "metadata": {},
   "source": [
    "__Автор задач: Блохин Н.В. (NVBlokhin@fa.ru)__\n",
    "\n",
    "Материалы:\n",
    "* Макрушин С.В. Лекция \"Введение в обработку текста на естественном языке\"\n",
    "* https://www.nltk.org/api/nltk.metrics.distance.html\n",
    "* https://pymorphy2.readthedocs.io/en/stable/user/guide.html\n",
    "* https://realpython.com/nltk-nlp-python/\n",
    "* https://scikit-learn.org/stable/modules/feature_extraction.html"
   ]
  },
  {
   "cell_type": "markdown",
   "metadata": {},
   "source": [
    "## Задачи для совместного разбора"
   ]
  },
  {
   "cell_type": "code",
   "execution_count": 1,
   "metadata": {},
   "outputs": [],
   "source": [
    "# !pip install pymorphy2"
   ]
  },
  {
   "cell_type": "code",
   "execution_count": 2,
   "metadata": {},
   "outputs": [],
   "source": [
    "import nltk\n",
    "# nltk.download('punkt')"
   ]
  },
  {
   "cell_type": "markdown",
   "metadata": {},
   "source": [
    "1. Считайте слова из файла `litw-win.txt` и запишите их в список `words`. При помощи расстояния Левенштейна иправьте опечатку в слове \"велечайшим\"."
   ]
  },
  {
   "cell_type": "code",
   "execution_count": 3,
   "metadata": {},
   "outputs": [],
   "source": [
    "from nltk import edit_distance"
   ]
  },
  {
   "cell_type": "code",
   "execution_count": 4,
   "metadata": {},
   "outputs": [],
   "source": [
    "with open(\"litw-win.txt\", \"r\", encoding=\"windows-1251\") as fp:\n",
    "    words = [line.split()[-1] for line in fp]"
   ]
  },
  {
   "cell_type": "code",
   "execution_count": 5,
   "metadata": {},
   "outputs": [
    {
     "data": {
      "text/plain": [
       "['науке', 'некто', 'немка', 'неско', 'ножка']"
      ]
     },
     "execution_count": 5,
     "metadata": {},
     "output_type": "execute_result"
    }
   ],
   "source": [
    "words[10100:10105]"
   ]
  },
  {
   "cell_type": "code",
   "execution_count": 6,
   "metadata": {},
   "outputs": [
    {
     "data": {
      "text/plain": [
       "6"
      ]
     },
     "execution_count": 6,
     "metadata": {},
     "output_type": "execute_result"
    }
   ],
   "source": [
    "edit_distance(\"Вы поступили в Ранхигс\", \"Вы поступили в Финашку\")"
   ]
  },
  {
   "cell_type": "code",
   "execution_count": 7,
   "metadata": {},
   "outputs": [
    {
     "data": {
      "text/plain": [
       "'перекресток'"
      ]
     },
     "execution_count": 7,
     "metadata": {},
     "output_type": "execute_result"
    }
   ],
   "source": [
    "word = \"перекренсток\"\n",
    "min(words, key=lambda w: edit_distance(word, w))"
   ]
  },
  {
   "cell_type": "markdown",
   "metadata": {},
   "source": [
    "2. Разбейте текст из формулировки второго задания на слова. Проведите стемминг и лемматизацию слов."
   ]
  },
  {
   "cell_type": "code",
   "execution_count": 8,
   "metadata": {},
   "outputs": [],
   "source": [
    "from nltk.stem import SnowballStemmer\n",
    "from nltk import word_tokenize\n",
    "import pymorphy2"
   ]
  },
  {
   "cell_type": "code",
   "execution_count": 9,
   "metadata": {},
   "outputs": [],
   "source": [
    "text = '''Разбейте текст из формулировки второго задания на слова. Проведите стемминг и лемматизацию слов.'''"
   ]
  },
  {
   "cell_type": "code",
   "execution_count": 10,
   "metadata": {},
   "outputs": [
    {
     "data": {
      "text/plain": [
       "['Разбейте', 'текст', 'из', 'формулировки', 'второго']"
      ]
     },
     "execution_count": 10,
     "metadata": {},
     "output_type": "execute_result"
    }
   ],
   "source": [
    "words = word_tokenize(text)\n",
    "words[:5]"
   ]
  },
  {
   "cell_type": "code",
   "execution_count": 11,
   "metadata": {},
   "outputs": [
    {
     "data": {
      "text/plain": [
       "{'Разбейте': 'разб',\n",
       " 'текст': 'текст',\n",
       " 'из': 'из',\n",
       " 'формулировки': 'формулировк',\n",
       " 'второго': 'втор',\n",
       " 'задания': 'задан',\n",
       " 'на': 'на',\n",
       " 'слова': 'слов',\n",
       " '.': '.',\n",
       " 'Проведите': 'провед',\n",
       " 'стемминг': 'стемминг',\n",
       " 'и': 'и',\n",
       " 'лемматизацию': 'лемматизац',\n",
       " 'слов': 'слов'}"
      ]
     },
     "execution_count": 11,
     "metadata": {},
     "output_type": "execute_result"
    }
   ],
   "source": [
    "stemmer = SnowballStemmer(\"russian\")\n",
    "{w: stemmer.stem(w) for w in words}"
   ]
  },
  {
   "cell_type": "code",
   "execution_count": 12,
   "metadata": {},
   "outputs": [
    {
     "name": "stdout",
     "output_type": "stream",
     "text": [
      "[Parse(word='разбейте', tag=OpencorporaTag('VERB,perf,tran plur,impr,excl'), normal_form='разбить', score=1.0, methods_stack=((DictionaryAnalyzer(), 'разбейте', 646, 14),))]\n"
     ]
    }
   ],
   "source": [
    "morph = pymorphy2.MorphAnalyzer()\n",
    "\n",
    "w = words[0]\n",
    "res = morph.parse(w)\n",
    "print(res)\n",
    "opt1 = res[0]"
   ]
  },
  {
   "cell_type": "code",
   "execution_count": 13,
   "metadata": {},
   "outputs": [
    {
     "name": "stdout",
     "output_type": "stream",
     "text": [
      "Parse(word='разбить', tag=OpencorporaTag('INFN,perf,tran'), normal_form='разбить', score=1.0, methods_stack=((DictionaryAnalyzer(), 'разбить', 646, 0),))\n",
      "\n",
      "разбить\n"
     ]
    }
   ],
   "source": [
    "print(opt1.normalized, end='\\n\\n')\n",
    "print(opt1.normalized.word)"
   ]
  },
  {
   "cell_type": "code",
   "execution_count": 14,
   "metadata": {
    "scrolled": true
   },
   "outputs": [
    {
     "data": {
      "text/plain": [
       "{'Разбейте': 'разбить',\n",
       " 'текст': 'текст',\n",
       " 'из': 'из',\n",
       " 'формулировки': 'формулировка',\n",
       " 'второго': 'второй',\n",
       " 'задания': 'задание',\n",
       " 'на': 'на',\n",
       " 'слова': 'слово',\n",
       " '.': '.',\n",
       " 'Проведите': 'провести',\n",
       " 'стемминг': 'стемминг',\n",
       " 'и': 'и',\n",
       " 'лемматизацию': 'лемматизация',\n",
       " 'слов': 'слово'}"
      ]
     },
     "execution_count": 14,
     "metadata": {},
     "output_type": "execute_result"
    }
   ],
   "source": [
    "morph = pymorphy2.MorphAnalyzer()\n",
    "dct = {w: morph.parse(w)[0].normalized.word for w in words}\n",
    "# {i: list(dct.values()).count(i) for i in list(dct.values())}\n",
    "dct"
   ]
  },
  {
   "cell_type": "markdown",
   "metadata": {},
   "source": [
    "3. Преобразуйте предложения из формулировки задания 2 в векторы при помощи `CountVectorizer`. Выведите на экран словарь обученного токенизатора."
   ]
  },
  {
   "cell_type": "code",
   "execution_count": 15,
   "metadata": {},
   "outputs": [],
   "source": [
    "from sklearn.feature_extraction.text import CountVectorizer\n",
    "from nltk import sent_tokenize"
   ]
  },
  {
   "cell_type": "code",
   "execution_count": 16,
   "metadata": {},
   "outputs": [],
   "source": [
    "text = '''Разбейте текст из формулировки второго задания на слова. Проведите стемминг и лемматизацию слов.'''"
   ]
  },
  {
   "cell_type": "code",
   "execution_count": 17,
   "metadata": {},
   "outputs": [
    {
     "data": {
      "text/plain": [
       "array([[1, 1, 1, 0, 1, 0, 1, 0, 1, 0, 1, 1],\n",
       "       [0, 0, 0, 1, 0, 1, 0, 1, 0, 1, 0, 0]], dtype=int64)"
      ]
     },
     "execution_count": 17,
     "metadata": {},
     "output_type": "execute_result"
    }
   ],
   "source": [
    "sents = sent_tokenize(text)\n",
    "cv = CountVectorizer().fit(sents)\n",
    "sents_cv = cv.transform(sents).toarray()\n",
    "sents_cv"
   ]
  },
  {
   "cell_type": "code",
   "execution_count": 18,
   "metadata": {},
   "outputs": [
    {
     "data": {
      "text/plain": [
       "{'разбейте': 6,\n",
       " 'текст': 10,\n",
       " 'из': 2,\n",
       " 'формулировки': 11,\n",
       " 'второго': 0,\n",
       " 'задания': 1,\n",
       " 'на': 4,\n",
       " 'слова': 8,\n",
       " 'проведите': 5,\n",
       " 'стемминг': 9,\n",
       " 'лемматизацию': 3,\n",
       " 'слов': 7}"
      ]
     },
     "execution_count": 18,
     "metadata": {},
     "output_type": "execute_result"
    }
   ],
   "source": [
    "cv.vocabulary_"
   ]
  },
  {
   "cell_type": "markdown",
   "metadata": {},
   "source": [
    "## Лабораторная работа 7"
   ]
  },
  {
   "cell_type": "code",
   "execution_count": 19,
   "metadata": {},
   "outputs": [],
   "source": [
    "import pandas as pd\n",
    "import re\n",
    "import numpy as np"
   ]
  },
  {
   "cell_type": "markdown",
   "metadata": {},
   "source": [
    "1\\. Загрузите данные из файла `ru_recipes_sample.csv` в виде `pd.DataFrame` `recipes` Используя регулярные выражения, удалите из описаний (столбец `description`) все символы, кроме русских букв, цифр и пробелов. Приведите все слова в описании к нижнему регистру. Сохраните полученный результат в столбец `description`."
   ]
  },
  {
   "cell_type": "code",
   "execution_count": 20,
   "metadata": {},
   "outputs": [
    {
     "data": {
      "text/html": [
       "<div>\n",
       "<style scoped>\n",
       "    .dataframe tbody tr th:only-of-type {\n",
       "        vertical-align: middle;\n",
       "    }\n",
       "\n",
       "    .dataframe tbody tr th {\n",
       "        vertical-align: top;\n",
       "    }\n",
       "\n",
       "    .dataframe thead th {\n",
       "        text-align: right;\n",
       "    }\n",
       "</style>\n",
       "<table border=\"1\" class=\"dataframe\">\n",
       "  <thead>\n",
       "    <tr style=\"text-align: right;\">\n",
       "      <th></th>\n",
       "      <th>url</th>\n",
       "      <th>name</th>\n",
       "      <th>ingredients</th>\n",
       "      <th>description</th>\n",
       "    </tr>\n",
       "  </thead>\n",
       "  <tbody>\n",
       "    <tr>\n",
       "      <th>0</th>\n",
       "      <td>https://www.povarenok.ru/recipes/show/164365/</td>\n",
       "      <td>Густой молочно-клубничный коктейль</td>\n",
       "      <td>{'Молоко': '250 мл', 'Клубника': '200 г', 'Сах...</td>\n",
       "      <td>Этот коктейль готовлю из замороженной клубники...</td>\n",
       "    </tr>\n",
       "    <tr>\n",
       "      <th>1</th>\n",
       "      <td>https://www.povarenok.ru/recipes/show/1306/</td>\n",
       "      <td>Рулетики</td>\n",
       "      <td>{'Сыр твердый': None, 'Чеснок': None, 'Яйцо ку...</td>\n",
       "      <td>Быстро и вкусно.</td>\n",
       "    </tr>\n",
       "    <tr>\n",
       "      <th>2</th>\n",
       "      <td>https://www.povarenok.ru/recipes/show/10625/</td>\n",
       "      <td>Салат \"Баклажанчик\"</td>\n",
       "      <td>{'Баклажан': '3 шт', 'Лук репчатый': '2 шт', '...</td>\n",
       "      <td>Сытный, овощной салатик, пальчики оближете.</td>\n",
       "    </tr>\n",
       "  </tbody>\n",
       "</table>\n",
       "</div>"
      ],
      "text/plain": [
       "                                             url  \\\n",
       "0  https://www.povarenok.ru/recipes/show/164365/   \n",
       "1    https://www.povarenok.ru/recipes/show/1306/   \n",
       "2   https://www.povarenok.ru/recipes/show/10625/   \n",
       "\n",
       "                                 name  \\\n",
       "0  Густой молочно-клубничный коктейль   \n",
       "1                            Рулетики   \n",
       "2                 Салат \"Баклажанчик\"   \n",
       "\n",
       "                                         ingredients  \\\n",
       "0  {'Молоко': '250 мл', 'Клубника': '200 г', 'Сах...   \n",
       "1  {'Сыр твердый': None, 'Чеснок': None, 'Яйцо ку...   \n",
       "2  {'Баклажан': '3 шт', 'Лук репчатый': '2 шт', '...   \n",
       "\n",
       "                                         description  \n",
       "0  Этот коктейль готовлю из замороженной клубники...  \n",
       "1                                   Быстро и вкусно.  \n",
       "2        Сытный, овощной салатик, пальчики оближете.  "
      ]
     },
     "execution_count": 20,
     "metadata": {},
     "output_type": "execute_result"
    }
   ],
   "source": [
    "recipes = pd.read_csv('ru_recipes_sample.csv', encoding='utf-8')\n",
    "recipes.head(3)"
   ]
  },
  {
   "cell_type": "code",
   "execution_count": 21,
   "metadata": {},
   "outputs": [
    {
     "data": {
      "text/plain": [
       "0       этот коктейль готовлю из замороженной клубники...\n",
       "1                                         быстро и вкусно\n",
       "2                сытный овощной салатик пальчики оближете\n",
       "3       картофельное пюре и куриные котлеты  вкусная к...\n",
       "4       вишневая наливка имеет яркий вишневый вкус кот...\n",
       "                              ...                        \n",
       "3462    для тех кто любит чечевицу вам сюда очень вкус...\n",
       "3463    баклажановые фантазии продолжаются предлагаю в...\n",
       "3464    мое любимое блюдо лазанья но кушать только фар...\n",
       "3465    прошлым летом варила варенье из одуванчиков по...\n",
       "3466     и три корочки хлеба  сделал заказ буратино в ...\n",
       "Name: description, Length: 3467, dtype: object"
      ]
     },
     "execution_count": 21,
     "metadata": {},
     "output_type": "execute_result"
    }
   ],
   "source": [
    "patt = re.compile(r\"[^\\s\\d\\А-Яа-я]\", re.I)  \n",
    "recipes.description = recipes.description.apply(lambda x: str.lower(re.sub(patt, '', x).replace('\\r', '').replace('\\n', '')))\n",
    "recipes.description"
   ]
  },
  {
   "cell_type": "markdown",
   "metadata": {},
   "source": [
    "### Расстояние редактирования"
   ]
  },
  {
   "cell_type": "markdown",
   "metadata": {},
   "source": [
    "**2\\.** Получите набор уникальных слов `words`, содержащихся в текстах описаний рецептов (воспользуйтесь `word_tokenize` из `nltk`). Сгенерируйте 5 пар случайно выбранных слов и посчитайте между ними расстояние Левенштейна. Выведите на экран результат в следующем виде:\n",
    "\n",
    "```\n",
    "d(word1, word2) = x\n",
    "```"
   ]
  },
  {
   "cell_type": "code",
   "execution_count": 22,
   "metadata": {},
   "outputs": [
    {
     "data": {
      "text/plain": [
       "16767"
      ]
     },
     "execution_count": 22,
     "metadata": {},
     "output_type": "execute_result"
    }
   ],
   "source": [
    "words = list(set(np.concatenate(recipes.description.apply(lambda row: nltk.word_tokenize(row)).values)))\n",
    "len(words)"
   ]
  },
  {
   "cell_type": "code",
   "execution_count": 23,
   "metadata": {},
   "outputs": [
    {
     "name": "stdout",
     "output_type": "stream",
     "text": [
      "d(обусловлена,создания) = 9\n",
      "d(зеленого,зубок) = 6\n",
      "d(женщин,рулет) = 6\n",
      "d(необходимость,написал) = 10\n",
      "d(примитивен,начинающие) = 9\n"
     ]
    }
   ],
   "source": [
    "words_for_lev = np.random.choice(words,(5,2))\n",
    "for pair in words_for_lev:\n",
    "    print(f'd({pair[0]},{pair[1]}) = {edit_distance(pair[0],pair[1])}')"
   ]
  },
  {
   "cell_type": "markdown",
   "metadata": {},
   "source": [
    "**3\\.** Напишите функцию, которая принимает на вход 2 текстовые строки `s1` и `s2` и при помощи расстояния Левенштейна определяет, является ли строка `s2` плагиатом `s1`. Функция должна реализовывать следующую логику: для каждого слова `w1` из `s1` проверяет, есть в `s2` хотя бы одно слово `w2`, такое, что расстояние Левенштейна между `w1` и `w2` меньше 2, и считает количество таких слов в `s1` $P$. \n",
    "\n",
    "$$ P = \\#\\{w_1 \\in s_1\\ | \\exists w_2 \\in s_2 : d(w_1, w_2) < tol\\}$$\n",
    "\n",
    "$$ L = max(|s1|, |s2|) $$\n",
    "\n",
    "Здесь $|\\cdot|$ - количество слов в строке, $\\#A$ - число элементов в множестве $A$, $w \\in s$ означает, что слово $w$ содержится в тексте $s$.\n",
    "\n",
    "Если отношение $P / L$ больше 0.8, то функция должна вернуть True; иначе False.\n",
    "\n",
    "Продемонстрируйте работу вашей функции на примере описаний двух рецептов с ID 135488 и 851934 (ID рецепта - это число, стоящее в конце url рецепта). Выведите на экран описания этих рецептов и результат работы функции."
   ]
  },
  {
   "cell_type": "code",
   "execution_count": 24,
   "metadata": {},
   "outputs": [],
   "source": [
    "def is_plagiarism(s1: str, s2: str) -> bool:\n",
    "    s1, s2 = nltk.word_tokenize(s1), nltk.word_tokenize(s2)\n",
    "    L = max(len(s1), len(s2))\n",
    "    P = 0\n",
    "    \n",
    "    for w1 in s1:\n",
    "        for w2 in s2:\n",
    "            if edit_distance(w1, w2) < 2:\n",
    "                P += 1\n",
    "                break\n",
    "\n",
    "    if P/L > 0.8:\n",
    "        return True\n",
    "    else:\n",
    "        return False"
   ]
  },
  {
   "cell_type": "code",
   "execution_count": 25,
   "metadata": {},
   "outputs": [],
   "source": [
    "recipes['id'] = recipes.url.apply(lambda id: int(re.compile(r\"\\d+\", re.I).findall(id)[0]))"
   ]
  },
  {
   "cell_type": "code",
   "execution_count": 26,
   "metadata": {},
   "outputs": [
    {
     "name": "stdout",
     "output_type": "stream",
     "text": [
      "Рецепт №1: прекрасной закуской к крепким напиткам на фуршетном столе станет паштет из сала и авокадо с чесноком который мы спрячем в орешках из бородинского хлеба положив в середину маслину закуска получается необычной оригинальной и ценится особенно мужчинами\n",
      "\n",
      "Рецепт №2: замечательной закуской к напиткам на фуршетном столе станет паштет из сала и авокадо с чесноком куда мы добавим орешков из бородинского хлеба положив в середину маслины закуска получается крайне необычной оригинальной и ценится особенно мужчинами\n",
      "\n",
      "Наличие плагиата: True\n"
     ]
    }
   ],
   "source": [
    "s1 = recipes.iloc[np.where(recipes.id == 135488)].description.values[0]\n",
    "s2 = recipes.iloc[np.where(recipes.id == 851934)].description.values[0]\n",
    "print(f'Рецепт №1: {s1}', f'Рецепт №2: {s2}', f'Наличие плагиата: {is_plagiarism(s1, s2)}', sep='\\n\\n')"
   ]
  },
  {
   "cell_type": "markdown",
   "metadata": {},
   "source": [
    "### Стемминг, лемматизация"
   ]
  },
  {
   "cell_type": "markdown",
   "metadata": {},
   "source": [
    "**4\\.** На основе набора слов из задания 2 создайте `pd.DataFrame` со столбцами `word`, `stemmed_word` и `normalized_word`. В столбец `stemmed_word` поместите версию слова после проведения процедуры стемминга; в столбец `normalized_word` поместите версию слова после проведения процедуры лемматизации. Столбец `word` укажите в качестве индекса. \n",
    "\n",
    "Для стемминга можно воспользоваться `SnowballStemmer` из `nltk`, для лемматизации слов - пакетом `pymorphy2`. Сравните результаты стемминга и лемматизации. Поясните на примере одной из строк получившегося фрейма (в виде текстового комментария), в чем разница между двумя этими подходами. "
   ]
  },
  {
   "cell_type": "markdown",
   "metadata": {},
   "source": [
    "**Стемминг**\n",
    "(слова без наличия условных форм)"
   ]
  },
  {
   "cell_type": "code",
   "execution_count": 27,
   "metadata": {},
   "outputs": [],
   "source": [
    "stemmer = SnowballStemmer(\"russian\")\n",
    "stemmed = [stemmer.stem(word) for word in words]"
   ]
  },
  {
   "cell_type": "markdown",
   "metadata": {},
   "source": [
    "**Лемматизация**\n",
    "(слова в их нормальной форме)"
   ]
  },
  {
   "cell_type": "code",
   "execution_count": 28,
   "metadata": {},
   "outputs": [],
   "source": [
    "morph = pymorphy2.MorphAnalyzer()\n",
    "lemmed = [morph.parse(word)[0].normalized.word for word in words]"
   ]
  },
  {
   "cell_type": "code",
   "execution_count": 29,
   "metadata": {
    "scrolled": false
   },
   "outputs": [
    {
     "data": {
      "text/html": [
       "<div>\n",
       "<style scoped>\n",
       "    .dataframe tbody tr th:only-of-type {\n",
       "        vertical-align: middle;\n",
       "    }\n",
       "\n",
       "    .dataframe tbody tr th {\n",
       "        vertical-align: top;\n",
       "    }\n",
       "\n",
       "    .dataframe thead th {\n",
       "        text-align: right;\n",
       "    }\n",
       "</style>\n",
       "<table border=\"1\" class=\"dataframe\">\n",
       "  <thead>\n",
       "    <tr style=\"text-align: right;\">\n",
       "      <th></th>\n",
       "      <th>stemmed_word</th>\n",
       "      <th>normalized_word</th>\n",
       "    </tr>\n",
       "    <tr>\n",
       "      <th>word</th>\n",
       "      <th></th>\n",
       "      <th></th>\n",
       "    </tr>\n",
       "  </thead>\n",
       "  <tbody>\n",
       "    <tr>\n",
       "      <th>мом</th>\n",
       "      <td>мом</td>\n",
       "      <td>мом</td>\n",
       "    </tr>\n",
       "    <tr>\n",
       "      <th>деремся</th>\n",
       "      <td>дер</td>\n",
       "      <td>драться</td>\n",
       "    </tr>\n",
       "    <tr>\n",
       "      <th>опарой</th>\n",
       "      <td>опар</td>\n",
       "      <td>опара</td>\n",
       "    </tr>\n",
       "    <tr>\n",
       "      <th>сделали</th>\n",
       "      <td>сдела</td>\n",
       "      <td>сделать</td>\n",
       "    </tr>\n",
       "    <tr>\n",
       "      <th>кулинарными</th>\n",
       "      <td>кулинарн</td>\n",
       "      <td>кулинарный</td>\n",
       "    </tr>\n",
       "    <tr>\n",
       "      <th>...</th>\n",
       "      <td>...</td>\n",
       "      <td>...</td>\n",
       "    </tr>\n",
       "    <tr>\n",
       "      <th>верит</th>\n",
       "      <td>вер</td>\n",
       "      <td>верить</td>\n",
       "    </tr>\n",
       "    <tr>\n",
       "      <th>отец</th>\n",
       "      <td>отец</td>\n",
       "      <td>отец</td>\n",
       "    </tr>\n",
       "    <tr>\n",
       "      <th>оксане</th>\n",
       "      <td>оксан</td>\n",
       "      <td>оксана</td>\n",
       "    </tr>\n",
       "    <tr>\n",
       "      <th>натртой</th>\n",
       "      <td>натрт</td>\n",
       "      <td>натртой</td>\n",
       "    </tr>\n",
       "    <tr>\n",
       "      <th>собственный</th>\n",
       "      <td>собствен</td>\n",
       "      <td>собственный</td>\n",
       "    </tr>\n",
       "  </tbody>\n",
       "</table>\n",
       "<p>16767 rows × 2 columns</p>\n",
       "</div>"
      ],
      "text/plain": [
       "            stemmed_word normalized_word\n",
       "word                                    \n",
       "мом                  мом             мом\n",
       "деремся              дер         драться\n",
       "опарой              опар           опара\n",
       "сделали            сдела         сделать\n",
       "кулинарными     кулинарн      кулинарный\n",
       "...                  ...             ...\n",
       "верит                вер          верить\n",
       "отец                отец            отец\n",
       "оксане             оксан          оксана\n",
       "натртой            натрт         натртой\n",
       "собственный     собствен     собственный\n",
       "\n",
       "[16767 rows x 2 columns]"
      ]
     },
     "execution_count": 29,
     "metadata": {},
     "output_type": "execute_result"
    }
   ],
   "source": [
    "stem_lem_df = pd.DataFrame(data=[stemmed, lemmed],\n",
    "                           columns=words,\n",
    "                           index=['stemmed_word','normalized_word']).T\n",
    "stem_lem_df.index.name = 'word'\n",
    "\n",
    "stem_lem_df"
   ]
  },
  {
   "cell_type": "code",
   "execution_count": 30,
   "metadata": {},
   "outputs": [
    {
     "data": {
      "text/html": [
       "<div>\n",
       "<style scoped>\n",
       "    .dataframe tbody tr th:only-of-type {\n",
       "        vertical-align: middle;\n",
       "    }\n",
       "\n",
       "    .dataframe tbody tr th {\n",
       "        vertical-align: top;\n",
       "    }\n",
       "\n",
       "    .dataframe thead th {\n",
       "        text-align: right;\n",
       "    }\n",
       "</style>\n",
       "<table border=\"1\" class=\"dataframe\">\n",
       "  <thead>\n",
       "    <tr style=\"text-align: right;\">\n",
       "      <th></th>\n",
       "      <th>stemmed_word</th>\n",
       "      <th>normalized_word</th>\n",
       "    </tr>\n",
       "    <tr>\n",
       "      <th>word</th>\n",
       "      <th></th>\n",
       "      <th></th>\n",
       "    </tr>\n",
       "  </thead>\n",
       "  <tbody>\n",
       "    <tr>\n",
       "      <th>награды</th>\n",
       "      <td>наград</td>\n",
       "      <td>награда</td>\n",
       "    </tr>\n",
       "  </tbody>\n",
       "</table>\n",
       "</div>"
      ],
      "text/plain": [
       "        stemmed_word normalized_word\n",
       "word                                \n",
       "награды       наград         награда"
      ]
     },
     "execution_count": 30,
     "metadata": {},
     "output_type": "execute_result"
    }
   ],
   "source": [
    "stem_lem_df.iloc[10:11] \n",
    "# Слово \"награды\" – существительное женского рода множественного числа.\n",
    "# С помощью процедуры стемминга мы \"отрезаем\" наше слово с конца на некоторое количество символов \n",
    "# – в данном случае слово осталось без окончания\n",
    "# С помощью процедуры лемматизации мы получаем слово в его начальной форме – в д.с. в форме женского рода единственного числа"
   ]
  },
  {
   "cell_type": "markdown",
   "metadata": {},
   "source": [
    "**5\\.** Добавьте в таблицу `recipes` столбец `description_no_stopwords`, в котором содержится текст описания рецепта после удаления из него стоп-слов. Посчитайте и выведите на экран долю стоп-слов среди общего количества слов. Сравните топ-10 самых часто употребляемых слов до и после удаления стоп-слов."
   ]
  },
  {
   "cell_type": "code",
   "execution_count": 31,
   "metadata": {},
   "outputs": [],
   "source": [
    "from collections import Counter"
   ]
  },
  {
   "cell_type": "code",
   "execution_count": 32,
   "metadata": {},
   "outputs": [],
   "source": [
    "from nltk.corpus import stopwords\n",
    "# nltk.download('stopwords')"
   ]
  },
  {
   "cell_type": "code",
   "execution_count": 33,
   "metadata": {},
   "outputs": [],
   "source": [
    "rus_stopwords = stopwords.words(\"russian\")\n",
    "words = list(np.concatenate(recipes.description.apply(lambda row: nltk.word_tokenize(row)).values)) # не убираем повторы"
   ]
  },
  {
   "cell_type": "code",
   "execution_count": 34,
   "metadata": {
    "scrolled": true
   },
   "outputs": [],
   "source": [
    "stopwords_quantity = dict()\n",
    "for word in rus_stopwords:\n",
    "    if word in Counter(words).keys():\n",
    "        stopwords_quantity[word] = Counter(words)[word]/len(words)"
   ]
  },
  {
   "cell_type": "code",
   "execution_count": 35,
   "metadata": {},
   "outputs": [
    {
     "data": {
      "text/html": [
       "<div>\n",
       "<style scoped>\n",
       "    .dataframe tbody tr th:only-of-type {\n",
       "        vertical-align: middle;\n",
       "    }\n",
       "\n",
       "    .dataframe tbody tr th {\n",
       "        vertical-align: top;\n",
       "    }\n",
       "\n",
       "    .dataframe thead th {\n",
       "        text-align: right;\n",
       "    }\n",
       "</style>\n",
       "<table border=\"1\" class=\"dataframe\">\n",
       "  <thead>\n",
       "    <tr style=\"text-align: right;\">\n",
       "      <th></th>\n",
       "      <th>Частота использования</th>\n",
       "    </tr>\n",
       "  </thead>\n",
       "  <tbody>\n",
       "    <tr>\n",
       "      <th>и</th>\n",
       "      <td>0.049205</td>\n",
       "    </tr>\n",
       "    <tr>\n",
       "      <th>в</th>\n",
       "      <td>0.025047</td>\n",
       "    </tr>\n",
       "    <tr>\n",
       "      <th>во</th>\n",
       "      <td>0.000995</td>\n",
       "    </tr>\n",
       "    <tr>\n",
       "      <th>не</th>\n",
       "      <td>0.014831</td>\n",
       "    </tr>\n",
       "    <tr>\n",
       "      <th>что</th>\n",
       "      <td>0.007406</td>\n",
       "    </tr>\n",
       "    <tr>\n",
       "      <th>...</th>\n",
       "      <td>...</td>\n",
       "    </tr>\n",
       "    <tr>\n",
       "      <th>более</th>\n",
       "      <td>0.000761</td>\n",
       "    </tr>\n",
       "    <tr>\n",
       "      <th>всегда</th>\n",
       "      <td>0.001376</td>\n",
       "    </tr>\n",
       "    <tr>\n",
       "      <th>конечно</th>\n",
       "      <td>0.000790</td>\n",
       "    </tr>\n",
       "    <tr>\n",
       "      <th>всю</th>\n",
       "      <td>0.000059</td>\n",
       "    </tr>\n",
       "    <tr>\n",
       "      <th>между</th>\n",
       "      <td>0.000127</td>\n",
       "    </tr>\n",
       "  </tbody>\n",
       "</table>\n",
       "<p>151 rows × 1 columns</p>\n",
       "</div>"
      ],
      "text/plain": [
       "         Частота использования\n",
       "и                     0.049205\n",
       "в                     0.025047\n",
       "во                    0.000995\n",
       "не                    0.014831\n",
       "что                   0.007406\n",
       "...                        ...\n",
       "более                 0.000761\n",
       "всегда                0.001376\n",
       "конечно               0.000790\n",
       "всю                   0.000059\n",
       "между                 0.000127\n",
       "\n",
       "[151 rows x 1 columns]"
      ]
     },
     "execution_count": 35,
     "metadata": {},
     "output_type": "execute_result"
    }
   ],
   "source": [
    "pd.DataFrame.from_dict(stopwords_quantity, orient='index', columns=['Частота использования'])"
   ]
  },
  {
   "cell_type": "code",
   "execution_count": 67,
   "metadata": {},
   "outputs": [
    {
     "data": {
      "text/plain": [
       "0.3224248455931854"
      ]
     },
     "execution_count": 67,
     "metadata": {},
     "output_type": "execute_result"
    }
   ],
   "source": [
    "sum(stopwords_quantity.values()) # Общая доля стоп-слов среди всех слов в описаниях"
   ]
  },
  {
   "cell_type": "code",
   "execution_count": 36,
   "metadata": {},
   "outputs": [
    {
     "data": {
      "text/html": [
       "<div>\n",
       "<style scoped>\n",
       "    .dataframe tbody tr th:only-of-type {\n",
       "        vertical-align: middle;\n",
       "    }\n",
       "\n",
       "    .dataframe tbody tr th {\n",
       "        vertical-align: top;\n",
       "    }\n",
       "\n",
       "    .dataframe thead th {\n",
       "        text-align: right;\n",
       "    }\n",
       "</style>\n",
       "<table border=\"1\" class=\"dataframe\">\n",
       "  <thead>\n",
       "    <tr style=\"text-align: right;\">\n",
       "      <th></th>\n",
       "      <th>description</th>\n",
       "      <th>description_no_stopwords</th>\n",
       "    </tr>\n",
       "  </thead>\n",
       "  <tbody>\n",
       "    <tr>\n",
       "      <th>0</th>\n",
       "      <td>этот коктейль готовлю из замороженной клубники...</td>\n",
       "      <td>коктейль готовлю замороженной клубники клубник...</td>\n",
       "    </tr>\n",
       "    <tr>\n",
       "      <th>1</th>\n",
       "      <td>быстро и вкусно</td>\n",
       "      <td>быстро вкусно</td>\n",
       "    </tr>\n",
       "    <tr>\n",
       "      <th>2</th>\n",
       "      <td>сытный овощной салатик пальчики оближете</td>\n",
       "      <td>сытный овощной салатик пальчики оближете</td>\n",
       "    </tr>\n",
       "    <tr>\n",
       "      <th>3</th>\n",
       "      <td>картофельное пюре и куриные котлеты  вкусная к...</td>\n",
       "      <td>картофельное пюре куриные котлеты вкусная клас...</td>\n",
       "    </tr>\n",
       "    <tr>\n",
       "      <th>4</th>\n",
       "      <td>вишневая наливка имеет яркий вишневый вкус кот...</td>\n",
       "      <td>вишневая наливка имеет яркий вишневый вкус кот...</td>\n",
       "    </tr>\n",
       "  </tbody>\n",
       "</table>\n",
       "</div>"
      ],
      "text/plain": [
       "                                         description  \\\n",
       "0  этот коктейль готовлю из замороженной клубники...   \n",
       "1                                    быстро и вкусно   \n",
       "2           сытный овощной салатик пальчики оближете   \n",
       "3  картофельное пюре и куриные котлеты  вкусная к...   \n",
       "4  вишневая наливка имеет яркий вишневый вкус кот...   \n",
       "\n",
       "                            description_no_stopwords  \n",
       "0  коктейль готовлю замороженной клубники клубник...  \n",
       "1                                      быстро вкусно  \n",
       "2           сытный овощной салатик пальчики оближете  \n",
       "3  картофельное пюре куриные котлеты вкусная клас...  \n",
       "4  вишневая наливка имеет яркий вишневый вкус кот...  "
      ]
     },
     "execution_count": 36,
     "metadata": {},
     "output_type": "execute_result"
    }
   ],
   "source": [
    "sents_wo_stop = list()\n",
    "for desc in recipes.description.apply(lambda row: nltk.word_tokenize(row)).values:\n",
    "    sents_wo_stop.append((' ').join([word for word in desc if word not in rus_stopwords]))\n",
    "\n",
    "recipes['description_no_stopwords'] = sents_wo_stop\n",
    "recipes[['description','description_no_stopwords']].head()"
   ]
  },
  {
   "cell_type": "code",
   "execution_count": 37,
   "metadata": {},
   "outputs": [],
   "source": [
    "words_wo_stop = list(np.concatenate(recipes.description_no_stopwords.apply(lambda row: nltk.word_tokenize(row)).values))"
   ]
  },
  {
   "cell_type": "code",
   "execution_count": 38,
   "metadata": {},
   "outputs": [
    {
     "name": "stdout",
     "output_type": "stream",
     "text": [
      "Со stop-словами\n",
      "('и', 5043)\n",
      "('в', 2567)\n",
      "('с', 1932)\n",
      "('на', 1642)\n",
      "('очень', 1594)\n",
      "('не', 1520)\n",
      "('из', 1005)\n",
      "('я', 972)\n",
      "('а', 850)\n",
      "('рецепт', 843)\n",
      "\n",
      "Без stop-слов\n",
      "('очень', 1594)\n",
      "('рецепт', 843)\n",
      "('это', 728)\n",
      "('блюдо', 521)\n",
      "('вкусный', 459)\n",
      "('просто', 434)\n",
      "('вкусно', 366)\n",
      "('приготовить', 342)\n",
      "('вкус', 319)\n",
      "('салат', 312)\n"
     ]
    }
   ],
   "source": [
    "print('Со stop-словами', *Counter(words).most_common(10),'\\nБез stop-слов', *Counter(words_wo_stop).most_common(10),sep='\\n')"
   ]
  },
  {
   "cell_type": "markdown",
   "metadata": {},
   "source": [
    "### Векторное представление текста"
   ]
  },
  {
   "cell_type": "markdown",
   "metadata": {},
   "source": [
    "**6\\.** Выберите случайным образом 5 рецептов из набора данных, в названии которых есть слово \"оладьи\" (без учета регистра). Представьте описание каждого рецепта в виде числового вектора при помощи `TfidfVectorizer`. На основе полученных векторов создайте `pd.DataFrame`, в котором названия колонок соответствуют словам из словаря объекта-векторизатора. \n",
    "\n",
    "Примечание: обратите внимание на порядок слов при создании колонок."
   ]
  },
  {
   "cell_type": "code",
   "execution_count": 39,
   "metadata": {},
   "outputs": [],
   "source": [
    "from sklearn.feature_extraction.text import TfidfVectorizer"
   ]
  },
  {
   "cell_type": "code",
   "execution_count": 53,
   "metadata": {
    "scrolled": true
   },
   "outputs": [
    {
     "data": {
      "text/html": [
       "<div>\n",
       "<style scoped>\n",
       "    .dataframe tbody tr th:only-of-type {\n",
       "        vertical-align: middle;\n",
       "    }\n",
       "\n",
       "    .dataframe tbody tr th {\n",
       "        vertical-align: top;\n",
       "    }\n",
       "\n",
       "    .dataframe thead th {\n",
       "        text-align: right;\n",
       "    }\n",
       "</style>\n",
       "<table border=\"1\" class=\"dataframe\">\n",
       "  <thead>\n",
       "    <tr style=\"text-align: right;\">\n",
       "      <th></th>\n",
       "      <th>url</th>\n",
       "      <th>name</th>\n",
       "      <th>ingredients</th>\n",
       "      <th>description</th>\n",
       "      <th>id</th>\n",
       "      <th>description_no_stopwords</th>\n",
       "    </tr>\n",
       "  </thead>\n",
       "  <tbody>\n",
       "    <tr>\n",
       "      <th>464</th>\n",
       "      <td>https://www.povarenok.ru/recipes/show/133050/</td>\n",
       "      <td>Яблочные оладьи</td>\n",
       "      <td>{'Яблоко': '2 шт', 'Яйцо куриное': '1 шт', 'Му...</td>\n",
       "      <td>очень простое бюджетное блюдо особенно понрави...</td>\n",
       "      <td>133050</td>\n",
       "      <td>очень простое бюджетное блюдо особенно понрави...</td>\n",
       "    </tr>\n",
       "    <tr>\n",
       "      <th>1745</th>\n",
       "      <td>https://www.povarenok.ru/recipes/show/81631/</td>\n",
       "      <td>Воздушные оладьи</td>\n",
       "      <td>{'Фарш мясной': '500 г', 'Лук репчатый': '1 шт...</td>\n",
       "      <td>это отличное блюдо для завтрака обеда ужина  т...</td>\n",
       "      <td>81631</td>\n",
       "      <td>это отличное блюдо завтрака обеда ужина тесто ...</td>\n",
       "    </tr>\n",
       "    <tr>\n",
       "      <th>1882</th>\n",
       "      <td>https://www.povarenok.ru/recipes/show/30148/</td>\n",
       "      <td>Оладьи от Эльзары</td>\n",
       "      <td>{'Мука пшеничная': '0,5 кг', 'Яйцо куриное': '...</td>\n",
       "      <td>моя подруга эльзара готовит  пальчики оближешь...</td>\n",
       "      <td>30148</td>\n",
       "      <td>подруга эльзара готовит пальчики оближешь выпр...</td>\n",
       "    </tr>\n",
       "    <tr>\n",
       "      <th>2830</th>\n",
       "      <td>https://www.povarenok.ru/recipes/show/161557/</td>\n",
       "      <td>Оладьи из печени</td>\n",
       "      <td>{'Печень говяжья': '1000 г', 'Лук репчатый': '...</td>\n",
       "      <td>31 декабря рабочий день  времени на подготовку...</td>\n",
       "      <td>161557</td>\n",
       "      <td>31 декабря рабочий день времени подготовку пра...</td>\n",
       "    </tr>\n",
       "    <tr>\n",
       "      <th>1139</th>\n",
       "      <td>https://www.povarenok.ru/recipes/show/6443/</td>\n",
       "      <td>Куриные оладьи</td>\n",
       "      <td>{'Грудка куриная': None, 'Лук репчатый': '2 шт...</td>\n",
       "      <td>на скорую руку за фото к рецепту спасибо людми...</td>\n",
       "      <td>6443</td>\n",
       "      <td>скорую руку фото рецепту спасибо людмиле сурик</td>\n",
       "    </tr>\n",
       "  </tbody>\n",
       "</table>\n",
       "</div>"
      ],
      "text/plain": [
       "                                                url               name  \\\n",
       "464   https://www.povarenok.ru/recipes/show/133050/    Яблочные оладьи   \n",
       "1745   https://www.povarenok.ru/recipes/show/81631/   Воздушные оладьи   \n",
       "1882   https://www.povarenok.ru/recipes/show/30148/  Оладьи от Эльзары   \n",
       "2830  https://www.povarenok.ru/recipes/show/161557/   Оладьи из печени   \n",
       "1139    https://www.povarenok.ru/recipes/show/6443/     Куриные оладьи   \n",
       "\n",
       "                                            ingredients  \\\n",
       "464   {'Яблоко': '2 шт', 'Яйцо куриное': '1 шт', 'Му...   \n",
       "1745  {'Фарш мясной': '500 г', 'Лук репчатый': '1 шт...   \n",
       "1882  {'Мука пшеничная': '0,5 кг', 'Яйцо куриное': '...   \n",
       "2830  {'Печень говяжья': '1000 г', 'Лук репчатый': '...   \n",
       "1139  {'Грудка куриная': None, 'Лук репчатый': '2 шт...   \n",
       "\n",
       "                                            description      id  \\\n",
       "464   очень простое бюджетное блюдо особенно понрави...  133050   \n",
       "1745  это отличное блюдо для завтрака обеда ужина  т...   81631   \n",
       "1882  моя подруга эльзара готовит  пальчики оближешь...   30148   \n",
       "2830  31 декабря рабочий день  времени на подготовку...  161557   \n",
       "1139  на скорую руку за фото к рецепту спасибо людми...    6443   \n",
       "\n",
       "                               description_no_stopwords  \n",
       "464   очень простое бюджетное блюдо особенно понрави...  \n",
       "1745  это отличное блюдо завтрака обеда ужина тесто ...  \n",
       "1882  подруга эльзара готовит пальчики оближешь выпр...  \n",
       "2830  31 декабря рабочий день времени подготовку пра...  \n",
       "1139     скорую руку фото рецепту спасибо людмиле сурик  "
      ]
     },
     "execution_count": 53,
     "metadata": {},
     "output_type": "execute_result"
    }
   ],
   "source": [
    "oladyi = recipes.iloc[np.where(recipes.name.str.extract(r\"(.*(?:оладьи).*)\", flags=re.IGNORECASE).isnull()==False)[0]].sample(5)\n",
    "oladyi"
   ]
  },
  {
   "cell_type": "markdown",
   "metadata": {},
   "source": [
    "### Сначала я использовал код ниже для столбцов с изначальным описанием, затем – для столбцов с описанием без стоп-слов. Второй результат оказался лучше (0.93 → 0.87)."
   ]
  },
  {
   "cell_type": "code",
   "execution_count": 54,
   "metadata": {},
   "outputs": [],
   "source": [
    "tv = TfidfVectorizer().fit(oladyi.description_no_stopwords)\n",
    "sents_tv = tv.transform(oladyi.description_no_stopwords).toarray()"
   ]
  },
  {
   "cell_type": "code",
   "execution_count": 55,
   "metadata": {},
   "outputs": [
    {
     "data": {
      "text/html": [
       "<div>\n",
       "<style scoped>\n",
       "    .dataframe tbody tr th:only-of-type {\n",
       "        vertical-align: middle;\n",
       "    }\n",
       "\n",
       "    .dataframe tbody tr th {\n",
       "        vertical-align: top;\n",
       "    }\n",
       "\n",
       "    .dataframe thead th {\n",
       "        text-align: right;\n",
       "    }\n",
       "</style>\n",
       "<table border=\"1\" class=\"dataframe\">\n",
       "  <thead>\n",
       "    <tr style=\"text-align: right;\">\n",
       "      <th></th>\n",
       "      <th>31</th>\n",
       "      <th>блендер</th>\n",
       "      <th>блины</th>\n",
       "      <th>блюдо</th>\n",
       "      <th>быстрее</th>\n",
       "      <th>быстро</th>\n",
       "      <th>бюджетное</th>\n",
       "      <th>взрослым</th>\n",
       "      <th>вкусная</th>\n",
       "      <th>вкусные</th>\n",
       "      <th>...</th>\n",
       "      <th>тесто</th>\n",
       "      <th>тефлоновой</th>\n",
       "      <th>ужина</th>\n",
       "      <th>упростился</th>\n",
       "      <th>фото</th>\n",
       "      <th>хозяек</th>\n",
       "      <th>чашу</th>\n",
       "      <th>эльзара</th>\n",
       "      <th>это</th>\n",
       "      <th>яблочками</th>\n",
       "    </tr>\n",
       "  </thead>\n",
       "  <tbody>\n",
       "    <tr>\n",
       "      <th>1</th>\n",
       "      <td>0.000000</td>\n",
       "      <td>0.000000</td>\n",
       "      <td>0.000000</td>\n",
       "      <td>0.280011</td>\n",
       "      <td>0.000000</td>\n",
       "      <td>0.000000</td>\n",
       "      <td>0.347067</td>\n",
       "      <td>0.000000</td>\n",
       "      <td>0.000000</td>\n",
       "      <td>0.000000</td>\n",
       "      <td>...</td>\n",
       "      <td>0.000000</td>\n",
       "      <td>0.000000</td>\n",
       "      <td>0.000000</td>\n",
       "      <td>0.000000</td>\n",
       "      <td>0.000000</td>\n",
       "      <td>0.000000</td>\n",
       "      <td>0.000000</td>\n",
       "      <td>0.000000</td>\n",
       "      <td>0.000000</td>\n",
       "      <td>0.000000</td>\n",
       "    </tr>\n",
       "    <tr>\n",
       "      <th>2</th>\n",
       "      <td>0.000000</td>\n",
       "      <td>0.000000</td>\n",
       "      <td>0.164504</td>\n",
       "      <td>0.132721</td>\n",
       "      <td>0.164504</td>\n",
       "      <td>0.164504</td>\n",
       "      <td>0.000000</td>\n",
       "      <td>0.164504</td>\n",
       "      <td>0.000000</td>\n",
       "      <td>0.164504</td>\n",
       "      <td>...</td>\n",
       "      <td>0.164504</td>\n",
       "      <td>0.164504</td>\n",
       "      <td>0.164504</td>\n",
       "      <td>0.000000</td>\n",
       "      <td>0.000000</td>\n",
       "      <td>0.164504</td>\n",
       "      <td>0.000000</td>\n",
       "      <td>0.000000</td>\n",
       "      <td>0.164504</td>\n",
       "      <td>0.000000</td>\n",
       "    </tr>\n",
       "    <tr>\n",
       "      <th>3</th>\n",
       "      <td>0.000000</td>\n",
       "      <td>0.000000</td>\n",
       "      <td>0.000000</td>\n",
       "      <td>0.000000</td>\n",
       "      <td>0.000000</td>\n",
       "      <td>0.000000</td>\n",
       "      <td>0.000000</td>\n",
       "      <td>0.000000</td>\n",
       "      <td>0.000000</td>\n",
       "      <td>0.000000</td>\n",
       "      <td>...</td>\n",
       "      <td>0.000000</td>\n",
       "      <td>0.000000</td>\n",
       "      <td>0.000000</td>\n",
       "      <td>0.000000</td>\n",
       "      <td>0.000000</td>\n",
       "      <td>0.000000</td>\n",
       "      <td>0.000000</td>\n",
       "      <td>0.285112</td>\n",
       "      <td>0.000000</td>\n",
       "      <td>0.285112</td>\n",
       "    </tr>\n",
       "    <tr>\n",
       "      <th>4</th>\n",
       "      <td>0.153121</td>\n",
       "      <td>0.153121</td>\n",
       "      <td>0.000000</td>\n",
       "      <td>0.000000</td>\n",
       "      <td>0.000000</td>\n",
       "      <td>0.000000</td>\n",
       "      <td>0.000000</td>\n",
       "      <td>0.000000</td>\n",
       "      <td>0.153121</td>\n",
       "      <td>0.000000</td>\n",
       "      <td>...</td>\n",
       "      <td>0.000000</td>\n",
       "      <td>0.000000</td>\n",
       "      <td>0.000000</td>\n",
       "      <td>0.153121</td>\n",
       "      <td>0.000000</td>\n",
       "      <td>0.000000</td>\n",
       "      <td>0.153121</td>\n",
       "      <td>0.000000</td>\n",
       "      <td>0.000000</td>\n",
       "      <td>0.000000</td>\n",
       "    </tr>\n",
       "    <tr>\n",
       "      <th>5</th>\n",
       "      <td>0.000000</td>\n",
       "      <td>0.000000</td>\n",
       "      <td>0.000000</td>\n",
       "      <td>0.000000</td>\n",
       "      <td>0.000000</td>\n",
       "      <td>0.000000</td>\n",
       "      <td>0.000000</td>\n",
       "      <td>0.000000</td>\n",
       "      <td>0.000000</td>\n",
       "      <td>0.000000</td>\n",
       "      <td>...</td>\n",
       "      <td>0.000000</td>\n",
       "      <td>0.000000</td>\n",
       "      <td>0.000000</td>\n",
       "      <td>0.000000</td>\n",
       "      <td>0.377964</td>\n",
       "      <td>0.000000</td>\n",
       "      <td>0.000000</td>\n",
       "      <td>0.000000</td>\n",
       "      <td>0.000000</td>\n",
       "      <td>0.000000</td>\n",
       "    </tr>\n",
       "  </tbody>\n",
       "</table>\n",
       "<p>5 rows × 106 columns</p>\n",
       "</div>"
      ],
      "text/plain": [
       "         31   блендер     блины     блюдо   быстрее    быстро  бюджетное  \\\n",
       "1  0.000000  0.000000  0.000000  0.280011  0.000000  0.000000   0.347067   \n",
       "2  0.000000  0.000000  0.164504  0.132721  0.164504  0.164504   0.000000   \n",
       "3  0.000000  0.000000  0.000000  0.000000  0.000000  0.000000   0.000000   \n",
       "4  0.153121  0.153121  0.000000  0.000000  0.000000  0.000000   0.000000   \n",
       "5  0.000000  0.000000  0.000000  0.000000  0.000000  0.000000   0.000000   \n",
       "\n",
       "   взрослым   вкусная   вкусные  ...     тесто  тефлоновой     ужина  \\\n",
       "1  0.000000  0.000000  0.000000  ...  0.000000    0.000000  0.000000   \n",
       "2  0.164504  0.000000  0.164504  ...  0.164504    0.164504  0.164504   \n",
       "3  0.000000  0.000000  0.000000  ...  0.000000    0.000000  0.000000   \n",
       "4  0.000000  0.153121  0.000000  ...  0.000000    0.000000  0.000000   \n",
       "5  0.000000  0.000000  0.000000  ...  0.000000    0.000000  0.000000   \n",
       "\n",
       "   упростился      фото    хозяек      чашу   эльзара       это  яблочками  \n",
       "1    0.000000  0.000000  0.000000  0.000000  0.000000  0.000000   0.000000  \n",
       "2    0.000000  0.000000  0.164504  0.000000  0.000000  0.164504   0.000000  \n",
       "3    0.000000  0.000000  0.000000  0.000000  0.285112  0.000000   0.285112  \n",
       "4    0.153121  0.000000  0.000000  0.153121  0.000000  0.000000   0.000000  \n",
       "5    0.000000  0.377964  0.000000  0.000000  0.000000  0.000000   0.000000  \n",
       "\n",
       "[5 rows x 106 columns]"
      ]
     },
     "execution_count": 55,
     "metadata": {},
     "output_type": "execute_result"
    }
   ],
   "source": [
    "pd.DataFrame(sents_tv, \n",
    "             columns=sorted(tv.vocabulary_.keys()),\n",
    "             index=range(1,6))"
   ]
  },
  {
   "cell_type": "markdown",
   "metadata": {},
   "source": [
    "**7\\.** Вычислите близость между каждой парой рецептов, выбранных в задании 6, используя косинусное расстояние (можно воспользоваться функциями из любого пакета: `scipy`, `scikit-learn` или реализовать функцию самому). Результаты оформите в виде таблицы `pd.DataFrame`. В качестве названий строк и столбцов используйте названия рецептов.\n",
    "\n",
    "Примечание: обратите внимание, что $d_{cosine}(x, x) = 0$"
   ]
  },
  {
   "cell_type": "markdown",
   "metadata": {},
   "source": [
    "$${\\displaystyle {\\text{косинусное сходство}}=S_{C}(A,B)={\\mathbf {A} \\cdot \\mathbf {B} \\over \\|\\mathbf {A} \\|\\|\\mathbf {B} \\|}={\\frac {\\sum \\limits _{i=1} ^{n}{A_{i}B_{i}}}{{\\sqrt {\\sum \\limits _{i=1} ^{n}{A_{i}^{2}}}}{\\sqrt {\\sum \\limits _{i=1}^{n}{B_{i}^{2}}}}}}}$$\n",
    "\n",
    "$${\\displaystyle \\scriptsize\\text{* чем меньше угол между двумя векторами, тем больше сходство двух векторов}}$$"
   ]
  },
  {
   "cell_type": "code",
   "execution_count": 56,
   "metadata": {},
   "outputs": [],
   "source": [
    "from scipy.spatial.distance import cosine"
   ]
  },
  {
   "cell_type": "code",
   "execution_count": 57,
   "metadata": {},
   "outputs": [
    {
     "data": {
      "text/html": [
       "<div>\n",
       "<style scoped>\n",
       "    .dataframe tbody tr th:only-of-type {\n",
       "        vertical-align: middle;\n",
       "    }\n",
       "\n",
       "    .dataframe tbody tr th {\n",
       "        vertical-align: top;\n",
       "    }\n",
       "\n",
       "    .dataframe thead th {\n",
       "        text-align: right;\n",
       "    }\n",
       "</style>\n",
       "<table border=\"1\" class=\"dataframe\">\n",
       "  <thead>\n",
       "    <tr style=\"text-align: right;\">\n",
       "      <th></th>\n",
       "      <th>Яблочные оладьи</th>\n",
       "      <th>Воздушные оладьи</th>\n",
       "      <th>Оладьи от Эльзары</th>\n",
       "      <th>Оладьи из печени</th>\n",
       "      <th>Куриные оладьи</th>\n",
       "    </tr>\n",
       "  </thead>\n",
       "  <tbody>\n",
       "    <tr>\n",
       "      <th>Яблочные оладьи</th>\n",
       "      <td>0.000</td>\n",
       "      <td>0.926</td>\n",
       "      <td>1.000</td>\n",
       "      <td>1.000</td>\n",
       "      <td>1.0</td>\n",
       "    </tr>\n",
       "    <tr>\n",
       "      <th>Воздушные оладьи</th>\n",
       "      <td>0.926</td>\n",
       "      <td>0.000</td>\n",
       "      <td>0.969</td>\n",
       "      <td>1.000</td>\n",
       "      <td>1.0</td>\n",
       "    </tr>\n",
       "    <tr>\n",
       "      <th>Оладьи от Эльзары</th>\n",
       "      <td>1.000</td>\n",
       "      <td>0.969</td>\n",
       "      <td>0.000</td>\n",
       "      <td>0.972</td>\n",
       "      <td>1.0</td>\n",
       "    </tr>\n",
       "    <tr>\n",
       "      <th>Оладьи из печени</th>\n",
       "      <td>1.000</td>\n",
       "      <td>1.000</td>\n",
       "      <td>0.972</td>\n",
       "      <td>0.000</td>\n",
       "      <td>1.0</td>\n",
       "    </tr>\n",
       "    <tr>\n",
       "      <th>Куриные оладьи</th>\n",
       "      <td>1.000</td>\n",
       "      <td>1.000</td>\n",
       "      <td>1.000</td>\n",
       "      <td>1.000</td>\n",
       "      <td>0.0</td>\n",
       "    </tr>\n",
       "  </tbody>\n",
       "</table>\n",
       "</div>"
      ],
      "text/plain": [
       "                   Яблочные оладьи  Воздушные оладьи  Оладьи от Эльзары  \\\n",
       "Яблочные оладьи              0.000             0.926              1.000   \n",
       "Воздушные оладьи             0.926             0.000              0.969   \n",
       "Оладьи от Эльзары            1.000             0.969              0.000   \n",
       "Оладьи из печени             1.000             1.000              0.972   \n",
       "Куриные оладьи               1.000             1.000              1.000   \n",
       "\n",
       "                   Оладьи из печени  Куриные оладьи  \n",
       "Яблочные оладьи               1.000             1.0  \n",
       "Воздушные оладьи              1.000             1.0  \n",
       "Оладьи от Эльзары             0.972             1.0  \n",
       "Оладьи из печени              0.000             1.0  \n",
       "Куриные оладьи                1.000             0.0  "
      ]
     },
     "execution_count": 57,
     "metadata": {},
     "output_type": "execute_result"
    }
   ],
   "source": [
    "cosdist = np.reshape([cosine(A,B) for A in sents_tv for B in sents_tv],(5,5))\n",
    "cosdist_df = pd.DataFrame(cosdist,columns=oladyi.name.values, index=oladyi.name.values).round(3)\n",
    "cosdist_df"
   ]
  },
  {
   "cell_type": "markdown",
   "metadata": {},
   "source": [
    "**8\\.** Напишите функцию, которая принимает на вход `pd.DataFrame`, полученный в задании 7, и возвращает в виде кортежа названия двух различных рецептов, которые являются наиболее похожими. Прокомментируйте результат (в виде текстового комментария). Для объяснения результата сравните слова в описаниях двух этих отзывов."
   ]
  },
  {
   "cell_type": "code",
   "execution_count": 58,
   "metadata": {},
   "outputs": [],
   "source": [
    "def find_closest(sim_df: pd.DataFrame) -> tuple:\n",
    "    return sim_df.stack().iloc[(np.where(np.concatenate(sim_df.values)!=0)[0])].idxmin()"
   ]
  },
  {
   "cell_type": "code",
   "execution_count": 59,
   "metadata": {},
   "outputs": [
    {
     "data": {
      "text/plain": [
       "('Яблочные оладьи', 'Воздушные оладьи')"
      ]
     },
     "execution_count": 59,
     "metadata": {},
     "output_type": "execute_result"
    }
   ],
   "source": [
    "find_closest(cosdist_df) \n",
    "# Среди пяти выбранных рецептов значения косинусного получились довольно большими и близкими друг к другу.\n",
    "# Наиболее похожими друг на друга являются рецепты, выведенные ниже. Эти рецпты между собой имеют одно общее слово. \n",
    "# Этого оказалось достаточно, чтобы быть по своему содержанию ближе друг к другу, чем остальным рецептам."
   ]
  },
  {
   "cell_type": "code",
   "execution_count": 62,
   "metadata": {},
   "outputs": [
    {
     "data": {
      "text/plain": [
       "('очень простое бюджетное блюдо особенно понравится кому молочные продукты',\n",
       " 'это отличное блюдо завтрака обеда ужина тесто замешивается очень быстро пекутся оладьи быстрее зачастую блины неопытных хозяек рвутся ломаются время переворачивания маленькими оладушками такого случается пышные необычайно вкусные придутся душе детям взрослым тефлоновой сковороде такие оладушки пожарить масла')"
      ]
     },
     "execution_count": 62,
     "metadata": {},
     "output_type": "execute_result"
    }
   ],
   "source": [
    "recipes.iloc[np.where(recipes.name == find_closest(cosdist_df)[0])].description_no_stopwords.values[0],\\\n",
    "recipes.iloc[np.where(recipes.name == find_closest(cosdist_df)[1])].description_no_stopwords.values[0]"
   ]
  },
  {
   "cell_type": "code",
   "execution_count": 63,
   "metadata": {},
   "outputs": [
    {
     "data": {
      "text/plain": [
       "{'блюдо', 'очень'}"
      ]
     },
     "execution_count": 63,
     "metadata": {},
     "output_type": "execute_result"
    }
   ],
   "source": [
    "set(nltk.word_tokenize(recipes.iloc[np.where(recipes.name==find_closest(cosdist_df)[0])].description_no_stopwords.values[0]))\\\n",
    "& set(nltk.word_tokenize(recipes.iloc[np.where(recipes.name==find_closest(cosdist_df)[1])].description_no_stopwords.values[0]))"
   ]
  }
 ],
 "metadata": {
  "kernelspec": {
   "display_name": "Python 3 (ipykernel)",
   "language": "python",
   "name": "python3"
  },
  "language_info": {
   "codemirror_mode": {
    "name": "ipython",
    "version": 3
   },
   "file_extension": ".py",
   "mimetype": "text/x-python",
   "name": "python",
   "nbconvert_exporter": "python",
   "pygments_lexer": "ipython3",
   "version": "3.9.7"
  }
 },
 "nbformat": 4,
 "nbformat_minor": 4
}
