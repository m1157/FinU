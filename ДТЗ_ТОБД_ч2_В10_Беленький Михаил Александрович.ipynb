{
 "cells": [
  {
   "cell_type": "markdown",
   "id": "c45a6bf0",
   "metadata": {},
   "source": [
    "## Домашнее творческое задание по дисциплине \"Технологии обработки больших данных\" (часть 2)\n",
    "\n",
    "Выполнил: студент группы __ПМ20-4 Беленький Михаил Александрович__\n",
    "\n",
    "Вариант: __10__\n",
    "\n",
    "    "
   ]
  },
  {
   "cell_type": "code",
   "execution_count": 1,
   "id": "fedbca77",
   "metadata": {},
   "outputs": [],
   "source": [
    "import pandas as pd\n",
    "import numpy as np\n",
    "\n",
    "import dask\n",
    "import dask.array as da\n",
    "import dask.bag as db\n",
    "import dask.dataframe as dd\n",
    "\n",
    "import re\n",
    "\n",
    "import sqlite3\n",
    "\n",
    "import multiprocessing\n",
    "\n",
    "import h5py\n",
    "\n",
    "import json\n",
    "\n",
    "import ast"
   ]
  },
  {
   "cell_type": "code",
   "execution_count": 2,
   "id": "00f9b8b2",
   "metadata": {},
   "outputs": [],
   "source": [
    "%load_ext line_profiler"
   ]
  },
  {
   "cell_type": "markdown",
   "id": "313f9bb0",
   "metadata": {},
   "source": [
    "__При решении данных задач не подразумевается использования циклов или генераторов Python в ходе работы с пакетами `numpy`, `pandas` и `dask`, если в задании не сказано обратного. Решения задач, в которых для обработки массивов `numpy`, структур `pandas` или структур `dask` используются явные циклы (без согласования с преподавателем), могут быть признаны некорректными и не засчитаны.__\n",
    "\n",
    "__В задачах, связанных с пакетом `dask`, явно указано, какой коллекцией вы должны пользоваться при решении задачи. Все операции вычислений должны проводиться  над этой коллекцией и средствами пакета `dask`, если в задании не сказано обратного.__ \n",
    "\n"
   ]
  },
  {
   "cell_type": "markdown",
   "id": "c08e431d",
   "metadata": {},
   "source": [
    "__Задание 1__. В файле `scores.npy` содержится массив оценок рейтингов вопросов. Напишите функцию, которая генерирует строку заданной длины на основе набора символов, считает, сколько раз буквы \"п\", \"и\", \"т\", \"о\" и \"н\" суммарно встретились в этой строке, и возвращает это число вместе с полученной строкой. Продемонстрируйте работу этой функции. Сгенерируйте строку длиной 200 тыс. символом на основе символов русского алфавита. Измерьте скорость выполнения этой функции. Получите отчет о построчном выполнении этой функции при помощи `line_profiler` и сохраните его в виде текстовой ячейки."
   ]
  },
  {
   "cell_type": "code",
   "execution_count": 3,
   "id": "21e09f46",
   "metadata": {},
   "outputs": [],
   "source": [
    "scores = np.load('C:/Users/micha/Downloads/data/scores.npy')"
   ]
  },
  {
   "cell_type": "code",
   "execution_count": 3,
   "id": "5780687c",
   "metadata": {},
   "outputs": [],
   "source": [
    "rus_letters = [chr(letter) for letter in range(1072, 1104)]"
   ]
  },
  {
   "cell_type": "code",
   "execution_count": 4,
   "id": "0975ec92",
   "metadata": {},
   "outputs": [],
   "source": [
    "def generate_string(length):\n",
    "    string = ''.join(np.random.choice(rus_letters, length))\n",
    "    python_letters = len(re.findall(r'[питон]', string))\n",
    "    return python_letters, string"
   ]
  },
  {
   "cell_type": "code",
   "execution_count": 5,
   "id": "4eb7bac2",
   "metadata": {},
   "outputs": [
    {
     "data": {
      "text/plain": [
       "(52,\n",
       " 'вэрщнйчиъчеьжшжябччужыбвфвивролицхыжфяюшксцъйчьяфякюйаягспвнттдндйзнипцэрдгмсиайарщщььетоютоимифулпывцусщсивчшыорийдабрюямъоыогфиюцееэдооцоеасыьнчсйуцдитзвкбтоэйясшчрлтщэщлзбпшчзсурццяцххыбьыэкьжлцсяпьеюящиюезхцхшвечяыгмалиьящхщаювнъжйэгйндсоыкжакнрюгжрщуйъжсннчфввашиьдфкуэршхжыуиюоэщгиепфлаыааккюхо')"
      ]
     },
     "execution_count": 5,
     "metadata": {},
     "output_type": "execute_result"
    }
   ],
   "source": [
    "generate_string(300)"
   ]
  },
  {
   "cell_type": "code",
   "execution_count": 6,
   "id": "31feef40",
   "metadata": {},
   "outputs": [],
   "source": [
    "%lprun -f generate_string generate_string(200_000);"
   ]
  },
  {
   "cell_type": "markdown",
   "id": "d98d61cc",
   "metadata": {},
   "source": [
    "```\n",
    "Timer unit: 1e-07 s\n",
    "\n",
    "Total time: 0.0639296 s\n",
    "File: C:\\Users\\micha\\AppData\\Local\\Temp/ipykernel_45072/635105578.py\n",
    "Function: generate_string at line 1\n",
    "\n",
    "Line #      Hits         Time  Per Hit   % Time  Line Contents\n",
    "==============================================================\n",
    "     1                                           def generate_string(length):\n",
    "     2         1        103.0    103.0      0.0      letters = [chr(letter) for letter in range(1072, 1104)]\n",
    "     3         1     576647.0 576647.0     90.2      string = ''.join(np.random.choice(letters, length))\n",
    "     4         1      62537.0  62537.0      9.8      python_letters = len(re.findall(r'[питон]', string))\n",
    "     5         1          9.0      9.0      0.0      return python_letters, string\n",
    "```"
   ]
  },
  {
   "cell_type": "markdown",
   "id": "afb9ebcb",
   "metadata": {},
   "source": [
    "__Задание 2__. В файле `questions.csv` содержатся вопросы, заданные на сайте stackoverflow. Создайте базу данных SQLite с таблицей `Questions`. Напишите и выполните запрос, который возвращает ID пользователей, у которых есть хоть один вопрос со score, равным 1. Для выполнения запроса используйте функцию `pd.read_sql_query` "
   ]
  },
  {
   "cell_type": "code",
   "execution_count": 7,
   "id": "ab8d084a",
   "metadata": {
    "scrolled": false
   },
   "outputs": [],
   "source": [
    "questions_df = pd.read_csv('C:/Users/micha/Downloads/data/questions.csv')"
   ]
  },
  {
   "cell_type": "code",
   "execution_count": 8,
   "id": "8f3c5f18",
   "metadata": {},
   "outputs": [
    {
     "data": {
      "text/html": [
       "<div>\n",
       "<style scoped>\n",
       "    .dataframe tbody tr th:only-of-type {\n",
       "        vertical-align: middle;\n",
       "    }\n",
       "\n",
       "    .dataframe tbody tr th {\n",
       "        vertical-align: top;\n",
       "    }\n",
       "\n",
       "    .dataframe thead th {\n",
       "        text-align: right;\n",
       "    }\n",
       "</style>\n",
       "<table border=\"1\" class=\"dataframe\">\n",
       "  <thead>\n",
       "    <tr style=\"text-align: right;\">\n",
       "      <th></th>\n",
       "      <th>Id</th>\n",
       "      <th>OwnerUserId</th>\n",
       "      <th>CreationDate</th>\n",
       "      <th>Score</th>\n",
       "      <th>Title</th>\n",
       "      <th>Body</th>\n",
       "    </tr>\n",
       "  </thead>\n",
       "  <tbody>\n",
       "    <tr>\n",
       "      <th>0</th>\n",
       "      <td>469</td>\n",
       "      <td>147.0</td>\n",
       "      <td>2008-08-02T15:11:16Z</td>\n",
       "      <td>21</td>\n",
       "      <td>How can I find the full path to a font from it...</td>\n",
       "      <td>&lt;p&gt;I am using the Photoshop's javascript API t...</td>\n",
       "    </tr>\n",
       "    <tr>\n",
       "      <th>1</th>\n",
       "      <td>502</td>\n",
       "      <td>147.0</td>\n",
       "      <td>2008-08-02T17:01:58Z</td>\n",
       "      <td>27</td>\n",
       "      <td>Get a preview JPEG of a PDF on Windows?</td>\n",
       "      <td>&lt;p&gt;I have a cross-platform (Python) applicatio...</td>\n",
       "    </tr>\n",
       "    <tr>\n",
       "      <th>2</th>\n",
       "      <td>535</td>\n",
       "      <td>154.0</td>\n",
       "      <td>2008-08-02T18:43:54Z</td>\n",
       "      <td>40</td>\n",
       "      <td>Continuous Integration System for a Python Cod...</td>\n",
       "      <td>&lt;p&gt;I'm starting work on a hobby project with a...</td>\n",
       "    </tr>\n",
       "    <tr>\n",
       "      <th>3</th>\n",
       "      <td>594</td>\n",
       "      <td>116.0</td>\n",
       "      <td>2008-08-03T01:15:08Z</td>\n",
       "      <td>25</td>\n",
       "      <td>cx_Oracle: How do I iterate over a result set?</td>\n",
       "      <td>&lt;p&gt;There are several ways to iterate over a re...</td>\n",
       "    </tr>\n",
       "    <tr>\n",
       "      <th>4</th>\n",
       "      <td>683</td>\n",
       "      <td>199.0</td>\n",
       "      <td>2008-08-03T13:19:16Z</td>\n",
       "      <td>28</td>\n",
       "      <td>Using 'in' to match an attribute of Python obj...</td>\n",
       "      <td>&lt;p&gt;I don't remember whether I was dreaming or ...</td>\n",
       "    </tr>\n",
       "  </tbody>\n",
       "</table>\n",
       "</div>"
      ],
      "text/plain": [
       "    Id  OwnerUserId          CreationDate  Score  \\\n",
       "0  469        147.0  2008-08-02T15:11:16Z     21   \n",
       "1  502        147.0  2008-08-02T17:01:58Z     27   \n",
       "2  535        154.0  2008-08-02T18:43:54Z     40   \n",
       "3  594        116.0  2008-08-03T01:15:08Z     25   \n",
       "4  683        199.0  2008-08-03T13:19:16Z     28   \n",
       "\n",
       "                                               Title  \\\n",
       "0  How can I find the full path to a font from it...   \n",
       "1            Get a preview JPEG of a PDF on Windows?   \n",
       "2  Continuous Integration System for a Python Cod...   \n",
       "3     cx_Oracle: How do I iterate over a result set?   \n",
       "4  Using 'in' to match an attribute of Python obj...   \n",
       "\n",
       "                                                Body  \n",
       "0  <p>I am using the Photoshop's javascript API t...  \n",
       "1  <p>I have a cross-platform (Python) applicatio...  \n",
       "2  <p>I'm starting work on a hobby project with a...  \n",
       "3  <p>There are several ways to iterate over a re...  \n",
       "4  <p>I don't remember whether I was dreaming or ...  "
      ]
     },
     "execution_count": 8,
     "metadata": {},
     "output_type": "execute_result"
    }
   ],
   "source": [
    "questions_df.head()"
   ]
  },
  {
   "cell_type": "code",
   "execution_count": 143,
   "id": "80054f07",
   "metadata": {},
   "outputs": [],
   "source": [
    "# questions_df['CreationDate'] = pd.to_datetime(questions_df['CreationDate'], format='%Y-%m-%dT%H:%M:%SZ')\n",
    "# questions_df['OwnerUserId'] = questions_df['OwnerUserId'].astype('Int64')"
   ]
  },
  {
   "cell_type": "code",
   "execution_count": 9,
   "id": "a4a566e5",
   "metadata": {
    "scrolled": true
   },
   "outputs": [
    {
     "data": {
      "text/plain": [
       "Id                int64\n",
       "OwnerUserId     float64\n",
       "CreationDate     object\n",
       "Score             int64\n",
       "Title            object\n",
       "Body             object\n",
       "dtype: object"
      ]
     },
     "execution_count": 9,
     "metadata": {},
     "output_type": "execute_result"
    }
   ],
   "source": [
    "questions_df.dtypes"
   ]
  },
  {
   "cell_type": "code",
   "execution_count": 10,
   "id": "318b9e25",
   "metadata": {},
   "outputs": [],
   "source": [
    "con = sqlite3.connect('C:/Users/micha/Downloads/data/stackoverflow.db')\n",
    "cur = con.cursor()"
   ]
  },
  {
   "cell_type": "code",
   "execution_count": 11,
   "id": "58149743",
   "metadata": {},
   "outputs": [],
   "source": [
    "cur.execute(\"DROP TABLE Questions\")\n",
    "con.commit()"
   ]
  },
  {
   "cell_type": "code",
   "execution_count": 12,
   "id": "54569f5b",
   "metadata": {},
   "outputs": [],
   "source": [
    "cur.executescript(\"\"\"\n",
    "CREATE TABLE IF NOT EXISTS Questions(\n",
    "    Id INT PRIMARY KEY,\n",
    "    OwnerUserId VARCHAR,\n",
    "    CreationDate TEXT,\n",
    "    Score INT,\n",
    "    Title TEXT,\n",
    "    Body TEXT\n",
    "    );\n",
    "    \"\"\")\n",
    "con.commit()"
   ]
  },
  {
   "cell_type": "code",
   "execution_count": 13,
   "id": "e0aa8d41",
   "metadata": {},
   "outputs": [],
   "source": [
    "query = \"INSERT or IGNORE INTO Questions VALUES (?, ?, ?, ?, ?, ?)\"\n",
    "cur.executemany(query, questions_df[['Id', 'OwnerUserId', 'CreationDate', 'Score', 'Title', 'Body']].values)\n",
    "con.commit()"
   ]
  },
  {
   "cell_type": "code",
   "execution_count": 14,
   "id": "8deab301",
   "metadata": {},
   "outputs": [],
   "source": [
    "main_query = \"\"\" SELECT OwnerUserId FROM Questions GROUP BY OwnerUserId HAVING Score = 1 \"\"\""
   ]
  },
  {
   "cell_type": "code",
   "execution_count": 15,
   "id": "585f9245",
   "metadata": {},
   "outputs": [
    {
     "data": {
      "text/html": [
       "<div>\n",
       "<style scoped>\n",
       "    .dataframe tbody tr th:only-of-type {\n",
       "        vertical-align: middle;\n",
       "    }\n",
       "\n",
       "    .dataframe tbody tr th {\n",
       "        vertical-align: top;\n",
       "    }\n",
       "\n",
       "    .dataframe thead th {\n",
       "        text-align: right;\n",
       "    }\n",
       "</style>\n",
       "<table border=\"1\" class=\"dataframe\">\n",
       "  <thead>\n",
       "    <tr style=\"text-align: right;\">\n",
       "      <th></th>\n",
       "      <th>OwnerUserId</th>\n",
       "    </tr>\n",
       "  </thead>\n",
       "  <tbody>\n",
       "    <tr>\n",
       "      <th>0</th>\n",
       "      <td>1000026.0</td>\n",
       "    </tr>\n",
       "    <tr>\n",
       "      <th>1</th>\n",
       "      <td>1000161.0</td>\n",
       "    </tr>\n",
       "    <tr>\n",
       "      <th>2</th>\n",
       "      <td>1000179.0</td>\n",
       "    </tr>\n",
       "    <tr>\n",
       "      <th>3</th>\n",
       "      <td>1000188.0</td>\n",
       "    </tr>\n",
       "    <tr>\n",
       "      <th>4</th>\n",
       "      <td>1000389.0</td>\n",
       "    </tr>\n",
       "    <tr>\n",
       "      <th>...</th>\n",
       "      <td>...</td>\n",
       "    </tr>\n",
       "    <tr>\n",
       "      <th>50132</th>\n",
       "      <td>999657.0</td>\n",
       "    </tr>\n",
       "    <tr>\n",
       "      <th>50133</th>\n",
       "      <td>999755.0</td>\n",
       "    </tr>\n",
       "    <tr>\n",
       "      <th>50134</th>\n",
       "      <td>999779.0</td>\n",
       "    </tr>\n",
       "    <tr>\n",
       "      <th>50135</th>\n",
       "      <td>999808.0</td>\n",
       "    </tr>\n",
       "    <tr>\n",
       "      <th>50136</th>\n",
       "      <td>999863.0</td>\n",
       "    </tr>\n",
       "  </tbody>\n",
       "</table>\n",
       "<p>50137 rows × 1 columns</p>\n",
       "</div>"
      ],
      "text/plain": [
       "      OwnerUserId\n",
       "0       1000026.0\n",
       "1       1000161.0\n",
       "2       1000179.0\n",
       "3       1000188.0\n",
       "4       1000389.0\n",
       "...           ...\n",
       "50132    999657.0\n",
       "50133    999755.0\n",
       "50134    999779.0\n",
       "50135    999808.0\n",
       "50136    999863.0\n",
       "\n",
       "[50137 rows x 1 columns]"
      ]
     },
     "execution_count": 15,
     "metadata": {},
     "output_type": "execute_result"
    }
   ],
   "source": [
    "pd.read_sql_query(sql=main_query, con=con)"
   ]
  },
  {
   "cell_type": "code",
   "execution_count": 16,
   "id": "9348d5cb",
   "metadata": {
    "scrolled": true
   },
   "outputs": [
    {
     "data": {
      "text/html": [
       "<div>\n",
       "<style scoped>\n",
       "    .dataframe tbody tr th:only-of-type {\n",
       "        vertical-align: middle;\n",
       "    }\n",
       "\n",
       "    .dataframe tbody tr th {\n",
       "        vertical-align: top;\n",
       "    }\n",
       "\n",
       "    .dataframe thead th {\n",
       "        text-align: right;\n",
       "    }\n",
       "</style>\n",
       "<table border=\"1\" class=\"dataframe\">\n",
       "  <thead>\n",
       "    <tr style=\"text-align: right;\">\n",
       "      <th></th>\n",
       "      <th>Id</th>\n",
       "      <th>OwnerUserId</th>\n",
       "      <th>CreationDate</th>\n",
       "      <th>Score</th>\n",
       "      <th>Title</th>\n",
       "      <th>Body</th>\n",
       "    </tr>\n",
       "  </thead>\n",
       "  <tbody>\n",
       "    <tr>\n",
       "      <th>172904</th>\n",
       "      <td>16526711</td>\n",
       "      <td>999755.0</td>\n",
       "      <td>2013-05-13T16:19:03Z</td>\n",
       "      <td>1</td>\n",
       "      <td>python mmap regex searching common entries in ...</td>\n",
       "      <td>&lt;p&gt;I have 2 huge xml files. One is around 40GB...</td>\n",
       "    </tr>\n",
       "    <tr>\n",
       "      <th>172922</th>\n",
       "      <td>16528178</td>\n",
       "      <td>999755.0</td>\n",
       "      <td>2013-05-13T17:55:17Z</td>\n",
       "      <td>0</td>\n",
       "      <td>python overwrite bytes from offset1 to offset2</td>\n",
       "      <td>&lt;p&gt;I've seen multiple tutorials in python, pla...</td>\n",
       "    </tr>\n",
       "    <tr>\n",
       "      <th>180105</th>\n",
       "      <td>17074492</td>\n",
       "      <td>999755.0</td>\n",
       "      <td>2013-06-12T20:14:49Z</td>\n",
       "      <td>0</td>\n",
       "      <td>python 2D matrix simple logic works but matrix...</td>\n",
       "      <td>&lt;p&gt;Must be something really stupid that I am d...</td>\n",
       "    </tr>\n",
       "  </tbody>\n",
       "</table>\n",
       "</div>"
      ],
      "text/plain": [
       "              Id  OwnerUserId          CreationDate  Score  \\\n",
       "172904  16526711     999755.0  2013-05-13T16:19:03Z      1   \n",
       "172922  16528178     999755.0  2013-05-13T17:55:17Z      0   \n",
       "180105  17074492     999755.0  2013-06-12T20:14:49Z      0   \n",
       "\n",
       "                                                    Title  \\\n",
       "172904  python mmap regex searching common entries in ...   \n",
       "172922     python overwrite bytes from offset1 to offset2   \n",
       "180105  python 2D matrix simple logic works but matrix...   \n",
       "\n",
       "                                                     Body  \n",
       "172904  <p>I have 2 huge xml files. One is around 40GB...  \n",
       "172922  <p>I've seen multiple tutorials in python, pla...  \n",
       "180105  <p>Must be something really stupid that I am d...  "
      ]
     },
     "execution_count": 16,
     "metadata": {},
     "output_type": "execute_result"
    }
   ],
   "source": [
    "questions_df[questions_df.OwnerUserId == 999755]"
   ]
  },
  {
   "cell_type": "markdown",
   "id": "5c8cccfb",
   "metadata": {},
   "source": [
    "__Задание 3__. В файле `questions.csv` содержатся вопросы, заданные на сайте stackoverflow. Используя `multiprocessing.Pool` выясните, сколько вопросов задали в 2011 году. При решении задачи разделите файл на части, для обработки каждой из частей используйте параллельные вычисления."
   ]
  },
  {
   "cell_type": "code",
   "execution_count": 17,
   "id": "10d666d0",
   "metadata": {},
   "outputs": [],
   "source": [
    "for index, chunk in enumerate(pd.read_csv('C:/Users/micha/Downloads/data/questions.csv', chunksize=60_000)):\n",
    "    chunk.to_csv(f'C:/Users/micha/Downloads/data/questions_{index}.csv', index=None)"
   ]
  },
  {
   "cell_type": "code",
   "execution_count": 18,
   "id": "7e626219",
   "metadata": {},
   "outputs": [],
   "source": [
    "files = ['questions_0.csv', 'questions_1.csv', 'questions_2.csv', 'questions_3.csv', 'questions_4.csv', 'questions_5.csv', 'questions_6.csv', 'questions_7.csv', 'questions_8.csv', 'questions_9.csv', 'questions_10.csv']"
   ]
  },
  {
   "cell_type": "code",
   "execution_count": 19,
   "id": "b8be5c9d",
   "metadata": {},
   "outputs": [
    {
     "name": "stdout",
     "output_type": "stream",
     "text": [
      "Overwriting count_2011.py\n"
     ]
    }
   ],
   "source": [
    "%%file count_2011.py\n",
    "import pandas as pd\n",
    "def count_2011(file: str):\n",
    "    df = pd.read_csv(f'C:/Users/micha/Downloads/data/{file}')\n",
    "    df['CreationYear'] = pd.to_datetime(df['CreationDate'], format='%Y-%m-%dT%H:%M:%SZ').dt.year\n",
    "\n",
    "    return df[df['CreationYear'] == 2011].shape[0]"
   ]
  },
  {
   "cell_type": "code",
   "execution_count": 20,
   "id": "67212343",
   "metadata": {},
   "outputs": [],
   "source": [
    "from count_2011 import count_2011"
   ]
  },
  {
   "cell_type": "code",
   "execution_count": 21,
   "id": "9c9b27f6",
   "metadata": {
    "scrolled": true
   },
   "outputs": [
    {
     "name": "stdout",
     "output_type": "stream",
     "text": [
      "Wall time: 4.57 s\n"
     ]
    },
    {
     "data": {
      "text/plain": [
       "40910"
      ]
     },
     "execution_count": 21,
     "metadata": {},
     "output_type": "execute_result"
    }
   ],
   "source": [
    "%%time\n",
    "with multiprocessing.Pool() as pool:\n",
    "    res = sum(pool.map(count_2011, files))\n",
    "res"
   ]
  },
  {
   "cell_type": "markdown",
   "id": "e16787b4",
   "metadata": {},
   "source": [
    "Для сравнения – код без мультпроцессинга:"
   ]
  },
  {
   "cell_type": "code",
   "execution_count": 22,
   "id": "fd054d50",
   "metadata": {},
   "outputs": [
    {
     "name": "stdout",
     "output_type": "stream",
     "text": [
      "Wall time: 10.8 s\n"
     ]
    },
    {
     "data": {
      "text/plain": [
       "40910"
      ]
     },
     "execution_count": 22,
     "metadata": {},
     "output_type": "execute_result"
    }
   ],
   "source": [
    "%%time\n",
    "example_df = pd.read_csv(f'C:/Users/micha/Downloads/data/questions.csv')\n",
    "example_df['CreationYear'] = pd.to_datetime(example_df['CreationDate'], format='%Y-%m-%dT%H:%M:%SZ').dt.year\n",
    "example_df[example_df['CreationYear'] == 2011].shape[0]"
   ]
  },
  {
   "cell_type": "markdown",
   "id": "ea0de2cc",
   "metadata": {},
   "source": [
    "__Задание 4__. В файле `qembeddings.hdf` находятся векторные представления заголовков вопросов, заданные на сайте stackoverflow. В файле `qtitles.pickle` находится список заголовков этих вопросов. Напишите функцию, которая для вопроса с индексом `i` выводит заголовки 5 ближайших вопросов в смысле расстояния между эмбеддингами этих вопросов. Выберите метрику, наиболее подходящую (на ваш взгляд) для решения этой задачи. Для работы с эмбеддингами используйте `dask.array`."
   ]
  },
  {
   "cell_type": "code",
   "execution_count": 23,
   "id": "973443cd",
   "metadata": {},
   "outputs": [],
   "source": [
    "qtitles = pd.read_pickle(f'C:/Users/micha/Downloads/data/qtitles.pickle')"
   ]
  },
  {
   "cell_type": "code",
   "execution_count": 24,
   "id": "dc04b8c0",
   "metadata": {},
   "outputs": [],
   "source": [
    "file = h5py.File(f'C:/Users/micha/Downloads/data/qembeddinbgs.h5', 'r')"
   ]
  },
  {
   "cell_type": "code",
   "execution_count": 25,
   "id": "d7d609c5",
   "metadata": {
    "scrolled": true
   },
   "outputs": [
    {
     "data": {
      "text/html": [
       "<table>\n",
       "    <tr>\n",
       "        <td>\n",
       "            <table>\n",
       "                <thead>\n",
       "                    <tr>\n",
       "                        <td> </td>\n",
       "                        <th> Array </th>\n",
       "                        <th> Chunk </th>\n",
       "                    </tr>\n",
       "                </thead>\n",
       "                <tbody>\n",
       "                    \n",
       "                    <tr>\n",
       "                        <th> Bytes </th>\n",
       "                        <td> 714.11 MiB </td>\n",
       "                        <td> 119.02 MiB </td>\n",
       "                    </tr>\n",
       "                    \n",
       "                    <tr>\n",
       "                        <th> Shape </th>\n",
       "                        <td> (600000, 312) </td>\n",
       "                        <td> (100000, 312) </td>\n",
       "                    </tr>\n",
       "                    <tr>\n",
       "                        <th> Count </th>\n",
       "                        <td> 7 Tasks </td>\n",
       "                        <td> 6 Chunks </td>\n",
       "                    </tr>\n",
       "                    <tr>\n",
       "                    <th> Type </th>\n",
       "                    <td> float32 </td>\n",
       "                    <td> numpy.ndarray </td>\n",
       "                    </tr>\n",
       "                </tbody>\n",
       "            </table>\n",
       "        </td>\n",
       "        <td>\n",
       "        <svg width=\"75\" height=\"170\" style=\"stroke:rgb(0,0,0);stroke-width:1\" >\n",
       "\n",
       "  <!-- Horizontal lines -->\n",
       "  <line x1=\"0\" y1=\"0\" x2=\"25\" y2=\"0\" style=\"stroke-width:2\" />\n",
       "  <line x1=\"0\" y1=\"20\" x2=\"25\" y2=\"20\" />\n",
       "  <line x1=\"0\" y1=\"40\" x2=\"25\" y2=\"40\" />\n",
       "  <line x1=\"0\" y1=\"60\" x2=\"25\" y2=\"60\" />\n",
       "  <line x1=\"0\" y1=\"80\" x2=\"25\" y2=\"80\" />\n",
       "  <line x1=\"0\" y1=\"100\" x2=\"25\" y2=\"100\" />\n",
       "  <line x1=\"0\" y1=\"120\" x2=\"25\" y2=\"120\" style=\"stroke-width:2\" />\n",
       "\n",
       "  <!-- Vertical lines -->\n",
       "  <line x1=\"0\" y1=\"0\" x2=\"0\" y2=\"120\" style=\"stroke-width:2\" />\n",
       "  <line x1=\"25\" y1=\"0\" x2=\"25\" y2=\"120\" style=\"stroke-width:2\" />\n",
       "\n",
       "  <!-- Colored Rectangle -->\n",
       "  <polygon points=\"0.0,0.0 25.412616514582485,0.0 25.412616514582485,120.0 0.0,120.0\" style=\"fill:#ECB172A0;stroke-width:0\"/>\n",
       "\n",
       "  <!-- Text -->\n",
       "  <text x=\"12.706308\" y=\"140.000000\" font-size=\"1.0rem\" font-weight=\"100\" text-anchor=\"middle\" >312</text>\n",
       "  <text x=\"45.412617\" y=\"60.000000\" font-size=\"1.0rem\" font-weight=\"100\" text-anchor=\"middle\" transform=\"rotate(-90,45.412617,60.000000)\">600000</text>\n",
       "</svg>\n",
       "        </td>\n",
       "    </tr>\n",
       "</table>"
      ],
      "text/plain": [
       "dask.array<array, shape=(600000, 312), dtype=float32, chunksize=(100000, 312), chunktype=numpy.ndarray>"
      ]
     },
     "execution_count": 25,
     "metadata": {},
     "output_type": "execute_result"
    }
   ],
   "source": [
    "qembeddings_da = da.from_array(file['embeddings'])\n",
    "qembeddings_da"
   ]
  },
  {
   "cell_type": "markdown",
   "id": "680d368b",
   "metadata": {},
   "source": [
    "$${\\displaystyle 1. {\\text{ Евклидово расстояние}}=d(p,q)=\\sqrt{(p_1-q_1)^2+(p_2-q_2)^2+\\dots+(p_n-q_n)^2} = \\sqrt{\\sum_{k=1}^n (p_k-q_k)^2}}$$"
   ]
  },
  {
   "cell_type": "code",
   "execution_count": 26,
   "id": "c2d7ae3e",
   "metadata": {},
   "outputs": [],
   "source": [
    "def nearest_question_euclid(i:int, count:int):\n",
    "    euclid_sums = np.sqrt((qembeddings_da[i]-qembeddings_da)**2).sum(axis=1)\n",
    "    euclid_n_smallest = euclid_sums.argtopk(-(count+1))[1:].compute()\n",
    "    return qtitles[i], list(map(lambda x: qtitles[x], euclid_n_smallest))"
   ]
  },
  {
   "cell_type": "code",
   "execution_count": 27,
   "id": "2680d5c9",
   "metadata": {},
   "outputs": [
    {
     "name": "stdout",
     "output_type": "stream",
     "text": [
      "Wall time: 916 ms\n"
     ]
    },
    {
     "data": {
      "text/plain": [
       "('Hue supervisor startup error hadoop working fine - Python packages in hue not working',\n",
       " ['Installing Python packages in command prompt not working well',\n",
       "  'List comprehensions work fine in Python shell but are ignored when running the script',\n",
       "  'setuptools installed package working in ipython but not from scripts',\n",
       "  \"Python setup.py script isn't installing modules correctly\",\n",
       "  \"Pydub of Python doesn't work-Probably ffmpeg installed wrongfully\"])"
      ]
     },
     "execution_count": 27,
     "metadata": {},
     "output_type": "execute_result"
    }
   ],
   "source": [
    "%%time\n",
    "nearest_question_euclid(2, 5)"
   ]
  },
  {
   "cell_type": "markdown",
   "id": "15ca8ade",
   "metadata": {},
   "source": [
    "$${\\displaystyle 2.{\\text{ Метрика }L_1 \\text{(манхэттенское расстояние)}}=d_1(\\textbf{x},\\textbf{y})=\\sum_{k=1}^{n}{|x_k - y_k|}, \\textbf{x}, \\textbf{y} \\in \\mathbb{R}^n}$$"
   ]
  },
  {
   "cell_type": "code",
   "execution_count": 28,
   "id": "96046b80",
   "metadata": {},
   "outputs": [],
   "source": [
    "def nearest_question_l1(i:int, count:int):\n",
    "    l1_sums = da.absolute(qembeddings_da[i]-qembeddings_da).sum(axis=1)\n",
    "    l1_n_smallest = l1_sums.argtopk(-(count+1))[1:].compute()\n",
    "    return qtitles[i], list(map(lambda x: qtitles[x], l1_n_smallest))"
   ]
  },
  {
   "cell_type": "code",
   "execution_count": 29,
   "id": "2b4c9838",
   "metadata": {
    "scrolled": true
   },
   "outputs": [
    {
     "name": "stdout",
     "output_type": "stream",
     "text": [
      "Wall time: 483 ms\n"
     ]
    },
    {
     "data": {
      "text/plain": [
       "('Hue supervisor startup error hadoop working fine - Python packages in hue not working',\n",
       " ['Installing Python packages in command prompt not working well',\n",
       "  'List comprehensions work fine in Python shell but are ignored when running the script',\n",
       "  'setuptools installed package working in ipython but not from scripts',\n",
       "  \"Python setup.py script isn't installing modules correctly\",\n",
       "  \"Pydub of Python doesn't work-Probably ffmpeg installed wrongfully\"])"
      ]
     },
     "execution_count": 29,
     "metadata": {},
     "output_type": "execute_result"
    }
   ],
   "source": [
    "%%time\n",
    "nearest_question_l1(2, 5)"
   ]
  },
  {
   "cell_type": "markdown",
   "id": "72b714f7",
   "metadata": {},
   "source": [
    "Видим, что в топ-5 наименьших расстояний (в случае Евклидовой метрики и в случае Метрики L1) найдено 4/5 совпадений"
   ]
  },
  {
   "cell_type": "markdown",
   "id": "a758c0db",
   "metadata": {},
   "source": [
    "__Задание 5__. В файлах `questions_with_answers_*.jsonl` содержатся вопросы, заданные на сайте stackoverflow, и ответы на них. Разбейте вопросы на 3 группы: вопросы, на которые дали меньше 5 ответов; вопросы, на которые дали больше 5 ответов, но меньше 15 ответов; и вопросы, на которые дали 15 ответов или более. Посчитайте количество вопросов в каждой из групп. Для обработки данных используйте `dask bag`."
   ]
  },
  {
   "cell_type": "code",
   "execution_count": 30,
   "id": "0349f409",
   "metadata": {},
   "outputs": [],
   "source": [
    "def json_load(line):    \n",
    "    line = str(line).replace('\\n','')\n",
    "    try:\n",
    "        ast.literal_eval(str(line))   # пробуем преобразовать строку в словарь\n",
    "    except (ValueError, SyntaxError):\n",
    "        return {'CountOfAnswers': 0} # считаем, что дано 0 ответов – правильнее None, но далее проблемы с расчётами\n",
    "    else:\n",
    "        line = ast.literal_eval(str(line))\n",
    "    line['CountOfAnswers'] = len(line['answers'])\n",
    "    line.pop('answers')\n",
    "    line.pop('Title')\n",
    "    line.pop('Body')\n",
    "    return (json.loads(re.sub(\"\\'\", '\"', str(line))))"
   ]
  },
  {
   "cell_type": "code",
   "execution_count": 31,
   "id": "84ece4a7",
   "metadata": {
    "scrolled": true
   },
   "outputs": [],
   "source": [
    "qwa = db.read_text('C:/Users/micha/Downloads/data/questions_with_answers/questions_with_answers_*.jsonl').map(json_load)"
   ]
  },
  {
   "cell_type": "code",
   "execution_count": 32,
   "id": "26582cfb",
   "metadata": {},
   "outputs": [],
   "source": [
    "lo_discussed = qwa.filter(lambda line: (line['CountOfAnswers']<5))\n",
    "mi_discussed = qwa.filter(lambda line: ((line['CountOfAnswers']>=5)&(line['CountOfAnswers']<15)))\n",
    "hi_discussed = qwa.filter(lambda line: (line['CountOfAnswers']>= 15))"
   ]
  },
  {
   "cell_type": "code",
   "execution_count": 33,
   "id": "0c810549",
   "metadata": {},
   "outputs": [
    {
     "name": "stdout",
     "output_type": "stream",
     "text": [
      "Wall time: 55 s\n"
     ]
    }
   ],
   "source": [
    "%%time\n",
    "low, mid, high = dask.compute(lo_discussed.count(), mi_discussed.count(), hi_discussed.count())"
   ]
  },
  {
   "cell_type": "code",
   "execution_count": 34,
   "id": "e8190801",
   "metadata": {},
   "outputs": [
    {
     "data": {
      "text/html": [
       "<div>\n",
       "<style scoped>\n",
       "    .dataframe tbody tr th:only-of-type {\n",
       "        vertical-align: middle;\n",
       "    }\n",
       "\n",
       "    .dataframe tbody tr th {\n",
       "        vertical-align: top;\n",
       "    }\n",
       "\n",
       "    .dataframe thead th {\n",
       "        text-align: right;\n",
       "    }\n",
       "</style>\n",
       "<table border=\"1\" class=\"dataframe\">\n",
       "  <thead>\n",
       "    <tr style=\"text-align: right;\">\n",
       "      <th></th>\n",
       "      <th>Количество вопросов</th>\n",
       "    </tr>\n",
       "  </thead>\n",
       "  <tbody>\n",
       "    <tr>\n",
       "      <th>Меньше 5 ответов</th>\n",
       "      <td>386162</td>\n",
       "    </tr>\n",
       "    <tr>\n",
       "      <th>От 5 до 15 ответов</th>\n",
       "      <td>13650</td>\n",
       "    </tr>\n",
       "    <tr>\n",
       "      <th>Больше 15 ответов</th>\n",
       "      <td>195</td>\n",
       "    </tr>\n",
       "  </tbody>\n",
       "</table>\n",
       "</div>"
      ],
      "text/plain": [
       "                    Количество вопросов\n",
       "Меньше 5 ответов                 386162\n",
       "От 5 до 15 ответов                13650\n",
       "Больше 15 ответов                   195"
      ]
     },
     "execution_count": 34,
     "metadata": {},
     "output_type": "execute_result"
    }
   ],
   "source": [
    "pd.DataFrame.from_dict(dict(zip(['Меньше 5 ответов', 'От 5 до 15 ответов', 'Больше 15 ответов'], [low, mid, high])),\n",
    "                       orient='index', columns=['Количество вопросов'])"
   ]
  },
  {
   "cell_type": "markdown",
   "id": "529eb8dd",
   "metadata": {},
   "source": [
    "__Задание 6__. В файле `questions.csv` содержатся вопросы, заданные на сайте stackoverflow. Посчитайте и выведите на экран, сколько вопросов оставил каждый из пользователей в 2008 году. Для обработки данных используйте `dask.dataframe`."
   ]
  },
  {
   "cell_type": "code",
   "execution_count": 35,
   "id": "bd2c37b9",
   "metadata": {},
   "outputs": [],
   "source": [
    "questions_ddf = dd.read_csv('C:/Users/micha/Downloads/data/questions.csv')"
   ]
  },
  {
   "cell_type": "code",
   "execution_count": 36,
   "id": "4c4f19e6",
   "metadata": {},
   "outputs": [
    {
     "data": {
      "text/html": [
       "<div><strong>Dask DataFrame Structure:</strong></div>\n",
       "<div>\n",
       "<style scoped>\n",
       "    .dataframe tbody tr th:only-of-type {\n",
       "        vertical-align: middle;\n",
       "    }\n",
       "\n",
       "    .dataframe tbody tr th {\n",
       "        vertical-align: top;\n",
       "    }\n",
       "\n",
       "    .dataframe thead th {\n",
       "        text-align: right;\n",
       "    }\n",
       "</style>\n",
       "<table border=\"1\" class=\"dataframe\">\n",
       "  <thead>\n",
       "    <tr style=\"text-align: right;\">\n",
       "      <th></th>\n",
       "      <th>Id</th>\n",
       "      <th>OwnerUserId</th>\n",
       "      <th>CreationDate</th>\n",
       "      <th>Score</th>\n",
       "      <th>Title</th>\n",
       "      <th>Body</th>\n",
       "    </tr>\n",
       "    <tr>\n",
       "      <th>npartitions=15</th>\n",
       "      <th></th>\n",
       "      <th></th>\n",
       "      <th></th>\n",
       "      <th></th>\n",
       "      <th></th>\n",
       "      <th></th>\n",
       "    </tr>\n",
       "  </thead>\n",
       "  <tbody>\n",
       "    <tr>\n",
       "      <th></th>\n",
       "      <td>int64</td>\n",
       "      <td>float64</td>\n",
       "      <td>object</td>\n",
       "      <td>int64</td>\n",
       "      <td>object</td>\n",
       "      <td>object</td>\n",
       "    </tr>\n",
       "    <tr>\n",
       "      <th></th>\n",
       "      <td>...</td>\n",
       "      <td>...</td>\n",
       "      <td>...</td>\n",
       "      <td>...</td>\n",
       "      <td>...</td>\n",
       "      <td>...</td>\n",
       "    </tr>\n",
       "    <tr>\n",
       "      <th>...</th>\n",
       "      <td>...</td>\n",
       "      <td>...</td>\n",
       "      <td>...</td>\n",
       "      <td>...</td>\n",
       "      <td>...</td>\n",
       "      <td>...</td>\n",
       "    </tr>\n",
       "    <tr>\n",
       "      <th></th>\n",
       "      <td>...</td>\n",
       "      <td>...</td>\n",
       "      <td>...</td>\n",
       "      <td>...</td>\n",
       "      <td>...</td>\n",
       "      <td>...</td>\n",
       "    </tr>\n",
       "    <tr>\n",
       "      <th></th>\n",
       "      <td>...</td>\n",
       "      <td>...</td>\n",
       "      <td>...</td>\n",
       "      <td>...</td>\n",
       "      <td>...</td>\n",
       "      <td>...</td>\n",
       "    </tr>\n",
       "  </tbody>\n",
       "</table>\n",
       "</div>\n",
       "<div>Dask Name: read-csv, 15 tasks</div>"
      ],
      "text/plain": [
       "Dask DataFrame Structure:\n",
       "                   Id OwnerUserId CreationDate  Score   Title    Body\n",
       "npartitions=15                                                       \n",
       "                int64     float64       object  int64  object  object\n",
       "                  ...         ...          ...    ...     ...     ...\n",
       "...               ...         ...          ...    ...     ...     ...\n",
       "                  ...         ...          ...    ...     ...     ...\n",
       "                  ...         ...          ...    ...     ...     ...\n",
       "Dask Name: read-csv, 15 tasks"
      ]
     },
     "execution_count": 36,
     "metadata": {},
     "output_type": "execute_result"
    }
   ],
   "source": [
    "questions_ddf"
   ]
  },
  {
   "cell_type": "code",
   "execution_count": 37,
   "id": "b11a86d2",
   "metadata": {},
   "outputs": [],
   "source": [
    "questions_ddf['CreationYear'] = dd.to_datetime(questions_ddf['CreationDate'], format='%Y-%m-%dT%H:%M:%SZ').dt.year"
   ]
  },
  {
   "cell_type": "code",
   "execution_count": 38,
   "id": "e958e4a9",
   "metadata": {},
   "outputs": [],
   "source": [
    "que_2008 = questions_ddf[questions_ddf['CreationYear']==2008].groupby('OwnerUserId').count()"
   ]
  },
  {
   "cell_type": "code",
   "execution_count": 39,
   "id": "44e65d27",
   "metadata": {},
   "outputs": [
    {
     "name": "stdout",
     "output_type": "stream",
     "text": [
      "Wall time: 9.13 s\n"
     ]
    },
    {
     "data": {
      "text/html": [
       "<div>\n",
       "<style scoped>\n",
       "    .dataframe tbody tr th:only-of-type {\n",
       "        vertical-align: middle;\n",
       "    }\n",
       "\n",
       "    .dataframe tbody tr th {\n",
       "        vertical-align: top;\n",
       "    }\n",
       "\n",
       "    .dataframe thead th {\n",
       "        text-align: right;\n",
       "    }\n",
       "</style>\n",
       "<table border=\"1\" class=\"dataframe\">\n",
       "  <thead>\n",
       "    <tr style=\"text-align: right;\">\n",
       "      <th></th>\n",
       "      <th>Id</th>\n",
       "      <th>CreationDate</th>\n",
       "      <th>Score</th>\n",
       "      <th>Title</th>\n",
       "      <th>Body</th>\n",
       "      <th>CreationYear</th>\n",
       "    </tr>\n",
       "    <tr>\n",
       "      <th>OwnerUserId</th>\n",
       "      <th></th>\n",
       "      <th></th>\n",
       "      <th></th>\n",
       "      <th></th>\n",
       "      <th></th>\n",
       "      <th></th>\n",
       "    </tr>\n",
       "  </thead>\n",
       "  <tbody>\n",
       "    <tr>\n",
       "      <th>30.0</th>\n",
       "      <td>1</td>\n",
       "      <td>1</td>\n",
       "      <td>1</td>\n",
       "      <td>1</td>\n",
       "      <td>1</td>\n",
       "      <td>1</td>\n",
       "    </tr>\n",
       "    <tr>\n",
       "      <th>38.0</th>\n",
       "      <td>1</td>\n",
       "      <td>1</td>\n",
       "      <td>1</td>\n",
       "      <td>1</td>\n",
       "      <td>1</td>\n",
       "      <td>1</td>\n",
       "    </tr>\n",
       "    <tr>\n",
       "      <th>59.0</th>\n",
       "      <td>1</td>\n",
       "      <td>1</td>\n",
       "      <td>1</td>\n",
       "      <td>1</td>\n",
       "      <td>1</td>\n",
       "      <td>1</td>\n",
       "    </tr>\n",
       "    <tr>\n",
       "      <th>61.0</th>\n",
       "      <td>1</td>\n",
       "      <td>1</td>\n",
       "      <td>1</td>\n",
       "      <td>1</td>\n",
       "      <td>1</td>\n",
       "      <td>1</td>\n",
       "    </tr>\n",
       "    <tr>\n",
       "      <th>64.0</th>\n",
       "      <td>1</td>\n",
       "      <td>1</td>\n",
       "      <td>1</td>\n",
       "      <td>1</td>\n",
       "      <td>1</td>\n",
       "      <td>1</td>\n",
       "    </tr>\n",
       "    <tr>\n",
       "      <th>...</th>\n",
       "      <td>...</td>\n",
       "      <td>...</td>\n",
       "      <td>...</td>\n",
       "      <td>...</td>\n",
       "      <td>...</td>\n",
       "      <td>...</td>\n",
       "    </tr>\n",
       "    <tr>\n",
       "      <th>2007483.0</th>\n",
       "      <td>2</td>\n",
       "      <td>2</td>\n",
       "      <td>2</td>\n",
       "      <td>2</td>\n",
       "      <td>2</td>\n",
       "      <td>2</td>\n",
       "    </tr>\n",
       "    <tr>\n",
       "      <th>2025531.0</th>\n",
       "      <td>1</td>\n",
       "      <td>1</td>\n",
       "      <td>1</td>\n",
       "      <td>1</td>\n",
       "      <td>1</td>\n",
       "      <td>1</td>\n",
       "    </tr>\n",
       "    <tr>\n",
       "      <th>2220518.0</th>\n",
       "      <td>12</td>\n",
       "      <td>12</td>\n",
       "      <td>12</td>\n",
       "      <td>12</td>\n",
       "      <td>12</td>\n",
       "      <td>12</td>\n",
       "    </tr>\n",
       "    <tr>\n",
       "      <th>2587612.0</th>\n",
       "      <td>1</td>\n",
       "      <td>1</td>\n",
       "      <td>1</td>\n",
       "      <td>1</td>\n",
       "      <td>1</td>\n",
       "      <td>1</td>\n",
       "    </tr>\n",
       "    <tr>\n",
       "      <th>3431280.0</th>\n",
       "      <td>2</td>\n",
       "      <td>2</td>\n",
       "      <td>2</td>\n",
       "      <td>2</td>\n",
       "      <td>2</td>\n",
       "      <td>2</td>\n",
       "    </tr>\n",
       "  </tbody>\n",
       "</table>\n",
       "<p>853 rows × 6 columns</p>\n",
       "</div>"
      ],
      "text/plain": [
       "             Id  CreationDate  Score  Title  Body  CreationYear\n",
       "OwnerUserId                                                    \n",
       "30.0          1             1      1      1     1             1\n",
       "38.0          1             1      1      1     1             1\n",
       "59.0          1             1      1      1     1             1\n",
       "61.0          1             1      1      1     1             1\n",
       "64.0          1             1      1      1     1             1\n",
       "...          ..           ...    ...    ...   ...           ...\n",
       "2007483.0     2             2      2      2     2             2\n",
       "2025531.0     1             1      1      1     1             1\n",
       "2220518.0    12            12     12     12    12            12\n",
       "2587612.0     1             1      1      1     1             1\n",
       "3431280.0     2             2      2      2     2             2\n",
       "\n",
       "[853 rows x 6 columns]"
      ]
     },
     "execution_count": 39,
     "metadata": {},
     "output_type": "execute_result"
    }
   ],
   "source": [
    "%%time\n",
    "que_2008.compute()"
   ]
  }
 ],
 "metadata": {
  "kernelspec": {
   "display_name": "Python 3 (ipykernel)",
   "language": "python",
   "name": "python3"
  },
  "language_info": {
   "codemirror_mode": {
    "name": "ipython",
    "version": 3
   },
   "file_extension": ".py",
   "mimetype": "text/x-python",
   "name": "python",
   "nbconvert_exporter": "python",
   "pygments_lexer": "ipython3",
   "version": "3.9.7"
  }
 },
 "nbformat": 4,
 "nbformat_minor": 5
}
