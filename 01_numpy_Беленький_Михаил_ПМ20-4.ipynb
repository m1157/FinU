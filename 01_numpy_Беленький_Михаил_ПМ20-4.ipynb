{
 "cells": [
  {
   "cell_type": "markdown",
   "metadata": {},
   "source": [
    "# Numpy"
   ]
  },
  {
   "cell_type": "markdown",
   "metadata": {},
   "source": [
    "Материалы:\n",
    "* Макрушин С.В. \"Лекция 1: Библиотека Numpy\"\n",
    "* https://numpy.org/doc/stable/user/index.html\n",
    "* https://numpy.org/doc/stable/reference/index.html\n",
    "* Уэс Маккини. Python и анализ данных"
   ]
  },
  {
   "cell_type": "markdown",
   "metadata": {},
   "source": [
    "## Задачи для совместного разбора"
   ]
  },
  {
   "cell_type": "code",
   "execution_count": 2,
   "metadata": {},
   "outputs": [],
   "source": [
    "import numpy as np\n",
    "import copy"
   ]
  },
  {
   "cell_type": "markdown",
   "metadata": {},
   "source": [
    "**1.** Сгенерировать двухмерный массив `arr` размерности (4, 7), состоящий из случайных действительных чисел, равномерно распределенных в диапазоне от 0 до 20. Нормализовать значения массива с помощью преобразования вида  $𝑎𝑥+𝑏$  так, что после нормализации максимальный элемент масcива будет равен 1.0, минимальный 0.0"
   ]
  },
  {
   "cell_type": "code",
   "execution_count": 3,
   "metadata": {},
   "outputs": [
    {
     "data": {
      "text/plain": [
       "array([[18.95498374, 14.08752753,  8.29790792, 12.58731632, 13.02556296,\n",
       "        12.90407125,  5.90667366],\n",
       "       [18.52738619,  2.13667669,  2.60500912, 14.72884112, 17.64945865,\n",
       "        17.88084935, 17.22954722],\n",
       "       [ 2.74428729, 19.16274051,  4.85502508, 13.2111938 , 11.65621133,\n",
       "         4.62691026,  9.01490725],\n",
       "       [12.12619771,  7.1113922 , 12.81638278, 10.25859263, 18.820141  ,\n",
       "         3.05756078, 10.79715781]])"
      ]
     },
     "execution_count": 3,
     "metadata": {},
     "output_type": "execute_result"
    }
   ],
   "source": [
    "massiv = np.random.uniform(0,20,(4,7))\n",
    "massiv "
   ]
  },
  {
   "cell_type": "code",
   "execution_count": 4,
   "metadata": {},
   "outputs": [
    {
     "data": {
      "text/plain": [
       "array([[0.98779772, 0.70191507, 0.36187056, 0.61380245, 0.6395422 ,\n",
       "        0.63240657, 0.22142505],\n",
       "       [0.96268343, 0.        , 0.02750679, 0.73958165, 0.91111969,\n",
       "        0.92471007, 0.88645683],\n",
       "       [0.03568709, 1.        , 0.15965806, 0.65044494, 0.55911541,\n",
       "        0.14626009, 0.40398243],\n",
       "       [0.58671935, 0.29218236, 0.62725632, 0.4770284 , 0.97987794,\n",
       "        0.05408673, 0.50866021]])"
      ]
     },
     "execution_count": 4,
     "metadata": {},
     "output_type": "execute_result"
    }
   ],
   "source": [
    "(massiv - massiv.min())/(massiv.max() - massiv.min())"
   ]
  },
  {
   "cell_type": "markdown",
   "metadata": {},
   "source": [
    "**2.** Создать матрицу 8 на 10 из случайных целых (используя модуль `numpy.random`) чисел из диапозона от 0 до 10 и найти в ней строку (ее индекс и вывести саму строку), в которой сумма значений минимальна."
   ]
  },
  {
   "cell_type": "code",
   "execution_count": 5,
   "metadata": {},
   "outputs": [
    {
     "data": {
      "text/plain": [
       "array([[7, 6, 8, 0, 6, 5, 6, 5, 5, 2],\n",
       "       [4, 0, 6, 3, 1, 7, 1, 0, 6, 2],\n",
       "       [4, 8, 4, 1, 6, 6, 4, 0, 7, 3],\n",
       "       [8, 1, 2, 8, 4, 6, 2, 3, 7, 9],\n",
       "       [9, 1, 4, 8, 5, 3, 0, 8, 4, 8],\n",
       "       [8, 5, 6, 1, 0, 6, 7, 1, 9, 6],\n",
       "       [1, 5, 0, 5, 6, 5, 9, 7, 7, 1],\n",
       "       [3, 6, 1, 3, 0, 7, 3, 0, 1, 1]])"
      ]
     },
     "execution_count": 5,
     "metadata": {},
     "output_type": "execute_result"
    }
   ],
   "source": [
    "arr = np.random.randint(0,10,(8,10))\n",
    "arr"
   ]
  },
  {
   "cell_type": "code",
   "execution_count": 6,
   "metadata": {},
   "outputs": [
    {
     "data": {
      "text/plain": [
       "array([4, 8, 5])"
      ]
     },
     "execution_count": 6,
     "metadata": {},
     "output_type": "execute_result"
    }
   ],
   "source": [
    "arr[4, 2:5]"
   ]
  },
  {
   "cell_type": "code",
   "execution_count": 7,
   "metadata": {},
   "outputs": [
    {
     "data": {
      "text/plain": [
       "array([50, 30, 43, 50, 50, 49, 46, 25])"
      ]
     },
     "execution_count": 7,
     "metadata": {},
     "output_type": "execute_result"
    }
   ],
   "source": [
    "arr.sum(axis=1)"
   ]
  },
  {
   "cell_type": "code",
   "execution_count": 8,
   "metadata": {},
   "outputs": [
    {
     "data": {
      "text/plain": [
       "(7, array([3, 6, 1, 3, 0, 7, 3, 0, 1, 1]))"
      ]
     },
     "execution_count": 8,
     "metadata": {},
     "output_type": "execute_result"
    }
   ],
   "source": [
    "sumbyrow = arr.sum(axis=1)\n",
    "min_index = sumbyrow.argmin()\n",
    "(min_index, arr[min_index])"
   ]
  },
  {
   "cell_type": "markdown",
   "metadata": {},
   "source": [
    "**3.** Найти евклидово расстояние между двумя одномерными векторами одинаковой размерности."
   ]
  },
  {
   "cell_type": "code",
   "execution_count": 9,
   "metadata": {},
   "outputs": [
    {
     "data": {
      "text/plain": [
       "3.7416573867739413"
      ]
     },
     "execution_count": 9,
     "metadata": {},
     "output_type": "execute_result"
    }
   ],
   "source": [
    "x = np.array([1,3,6])\n",
    "y = np.array([2,5,9])\n",
    "\n",
    "np.sqrt(np.power(x - y,2).sum())"
   ]
  },
  {
   "cell_type": "markdown",
   "metadata": {},
   "source": [
    "**4.** Решить матричное уравнение** $A*X*B=-C$ - найти матрицу `X`, где\n",
    "\n",
    "`A = [[-1, 2, 4], [-3, 1, 2], [-3, 0, 1]]`, \n",
    "\n",
    "`B=[[3, -1], [2, 1]]`, \n",
    "\n",
    "`C=[[7, 21], [11, 8], [8, 4]]`."
   ]
  },
  {
   "cell_type": "code",
   "execution_count": 10,
   "metadata": {},
   "outputs": [],
   "source": [
    "A = np.array([[-1, 2, 4], [-3, 1, 2], [-3, 0, 1]])\n",
    "B = np.array([[3, -1], [2, 1]])\n",
    "C = np.array([[7, 21], [11, 8], [8, 4]])"
   ]
  },
  {
   "cell_type": "code",
   "execution_count": 11,
   "metadata": {},
   "outputs": [
    {
     "data": {
      "text/plain": [
       "array([[ 1.00000000e+00,  1.11022302e-15],\n",
       "       [-2.00000000e+00,  1.00000000e+00],\n",
       "       [ 3.00000000e+00, -4.00000000e+00]])"
      ]
     },
     "execution_count": 11,
     "metadata": {},
     "output_type": "execute_result"
    }
   ],
   "source": [
    "X = np.linalg.inv(A) @ (-C) @ np.linalg.inv(B) \n",
    "X"
   ]
  },
  {
   "cell_type": "code",
   "execution_count": 12,
   "metadata": {},
   "outputs": [
    {
     "data": {
      "text/plain": [
       "array([[ 7., 21.],\n",
       "       [11.,  8.],\n",
       "       [ 8.,  4.]])"
      ]
     },
     "execution_count": 12,
     "metadata": {},
     "output_type": "execute_result"
    }
   ],
   "source": [
    "C = - (A @ X @ B)\n",
    "C"
   ]
  },
  {
   "cell_type": "markdown",
   "metadata": {},
   "source": [
    "## Лабораторная работа №1"
   ]
  },
  {
   "cell_type": "markdown",
   "metadata": {},
   "source": [
    "__При решении данных задач не подразумевается использования циклов или генераторов Python, если в задании не сказано обратного. Решение должно опираться на использования функционала библиотеки `numpy`.__"
   ]
  },
  {
   "cell_type": "markdown",
   "metadata": {},
   "source": [
    "**1.** Файл `minutes_n_ingredients.csv` содержит информацию об идентификаторе рецепта, времени его выполнения в минутах и количестве необходимых ингредиентов. Считайте данные из этого файла в виде массива `numpy` типа `int32`, используя `np.loadtxt`. Выведите на экран первые 5 строк массива."
   ]
  },
  {
   "cell_type": "code",
   "execution_count": 13,
   "metadata": {},
   "outputs": [],
   "source": [
    "data = np.loadtxt('minutes_n_ingredients.csv','int32',skiprows=1,delimiter=',')"
   ]
  },
  {
   "cell_type": "code",
   "execution_count": 14,
   "metadata": {},
   "outputs": [
    {
     "data": {
      "text/plain": [
       "array([[127244,     60,     16],\n",
       "       [ 23891,     25,      7],\n",
       "       [ 94746,     10,      6],\n",
       "       [ 67660,      5,      6],\n",
       "       [157911,     60,     14]])"
      ]
     },
     "execution_count": 14,
     "metadata": {},
     "output_type": "execute_result"
    }
   ],
   "source": [
    "data[0:5]"
   ]
  },
  {
   "cell_type": "markdown",
   "metadata": {},
   "source": [
    "**2.** Вычислите среднее значение, минимум, максимум и медиану по каждому из столбцов, кроме первого."
   ]
  },
  {
   "cell_type": "code",
   "execution_count": 15,
   "metadata": {},
   "outputs": [
    {
     "name": "stdout",
     "output_type": "stream",
     "text": [
      "Время использования рецепта:\n",
      "Среднее значение = 21601.00169, Минимум = 0, Максимум = 2147483647, Медиана = 40.0.\n",
      "\n",
      "Количество необходимых ингредиентов:\n",
      "Среднее значение = 9.05528, Минимум = 1, Максимум = 39, Медиана = 9.0.\n"
     ]
    }
   ],
   "source": [
    "data_mean = np.mean(data[:,1:],axis=0) # data[:,1:] – обращаемся ко 2 столбцу, axis=0 - строки, axis=1 - столбцы\n",
    "data_min = np.min(data[:,1:],axis=0)\n",
    "data_max = np.max(data[:,1:],axis=0)\n",
    "data_median = np.median(data[:,1:],axis=0)\n",
    "\n",
    "print(f'Время использования рецепта:\\n'\n",
    "      f'Среднее значение = {data_mean[0]}, Минимум = {data_min[0]}, Максимум = {data_max[0]}, Медиана = {data_median[0]}.\\n\\n'\n",
    "      f'Количество необходимых ингредиентов:\\n'\n",
    "      f'Среднее значение = {data_mean[1]}, Минимум = {data_min[1]}, Максимум = {data_max[1]}, Медиана = {data_median[1]}.')"
   ]
  },
  {
   "cell_type": "markdown",
   "metadata": {},
   "source": [
    "**3.** Выберите случайным образом и выведите информацию о 10 различных рецептах"
   ]
  },
  {
   "cell_type": "code",
   "execution_count": 16,
   "metadata": {},
   "outputs": [
    {
     "data": {
      "text/plain": [
       "array([[160779,     25,      6],\n",
       "       [ 70188,      5,     14],\n",
       "       [523799,      5,      4],\n",
       "       [262015,     35,     15],\n",
       "       [297600,     15,      6],\n",
       "       [  3061,     22,     11],\n",
       "       [111388,     40,     13],\n",
       "       [ 42987,      0,      4],\n",
       "       [ 96424,     50,     12],\n",
       "       [197237,     60,     16]])"
      ]
     },
     "execution_count": 16,
     "metadata": {},
     "output_type": "execute_result"
    }
   ],
   "source": [
    "data[np.random.choice(len(data), size=10, replace=False)]"
   ]
  },
  {
   "cell_type": "markdown",
   "metadata": {},
   "source": [
    "**4.** Создайте версию массива, содержащую информацию только о рецептах, состоящих не более чем из 5 ингредиентов."
   ]
  },
  {
   "cell_type": "code",
   "execution_count": 17,
   "metadata": {},
   "outputs": [
    {
     "data": {
      "text/plain": [
       "array([[446597,     15,      5],\n",
       "       [204134,      5,      3],\n",
       "       [ 25623,      6,      4],\n",
       "       ...,\n",
       "       [ 52088,     60,      5],\n",
       "       [128811,     15,      4],\n",
       "       [370915,      5,      4]])"
      ]
     },
     "execution_count": 17,
     "metadata": {},
     "output_type": "execute_result"
    }
   ],
   "source": [
    "data_less_then_5 = data[np.where(data[:,2] < 6)]\n",
    "data_less_then_5"
   ]
  },
  {
   "cell_type": "markdown",
   "metadata": {},
   "source": [
    "**5.** Выведите процент рецептов, кол-во ингредиентов в которых меньше среднего."
   ]
  },
  {
   "cell_type": "code",
   "execution_count": 18,
   "metadata": {},
   "outputs": [
    {
     "name": "stdout",
     "output_type": "stream",
     "text": [
      "58.8 %\n"
     ]
    }
   ],
   "source": [
    "part_ingr_less_mean = data[np.where(data[:,2] < np.mean(data[:,2]))].shape[0] / data.shape[0]\n",
    "print(np.round(part_ingr_less_mean*100, 1),'%')"
   ]
  },
  {
   "cell_type": "markdown",
   "metadata": {},
   "source": [
    "**6.** Вычислите значение $q_{0.75}$ третьего квартиля продолжительности выполнения рецепта. Замените в этом столбце значения, большие чем $q_{0.75}$ на величину $q_{0.75}$."
   ]
  },
  {
   "cell_type": "code",
   "execution_count": 19,
   "metadata": {},
   "outputs": [
    {
     "data": {
      "text/plain": [
       "65"
      ]
     },
     "execution_count": 19,
     "metadata": {},
     "output_type": "execute_result"
    }
   ],
   "source": [
    "#1 - с помощью numpy.clip()\n",
    "data_q75 = copy.deepcopy(data)\n",
    "data_q75[:,1] = np.clip(data[:,1], a_min=data[:,1].min(), a_max=np.quantile(data[:,1],0.75))\n",
    "data_q75[:,1].max()"
   ]
  },
  {
   "cell_type": "code",
   "execution_count": 20,
   "metadata": {},
   "outputs": [
    {
     "data": {
      "text/plain": [
       "65"
      ]
     },
     "execution_count": 20,
     "metadata": {},
     "output_type": "execute_result"
    }
   ],
   "source": [
    "#2 - с помощью индексации массива\n",
    "data_q75 = copy.deepcopy(data)\n",
    "data_q75[:,1][data_q75[:,1] > np.quantile(data_q75[:,1],0.75)] = np.quantile(data[:,1],0.75)\n",
    "data_q75[:,1].max() "
   ]
  },
  {
   "cell_type": "markdown",
   "metadata": {},
   "source": [
    "**7.** Посчитайте, для скольких рецептов исходного массива указана продолжительность, равная нулю. Модифицируйте исходный массив, заменив для таких строк значение в данном столбце на 1."
   ]
  },
  {
   "cell_type": "code",
   "execution_count": 21,
   "metadata": {},
   "outputs": [
    {
     "data": {
      "text/plain": [
       "479"
      ]
     },
     "execution_count": 21,
     "metadata": {},
     "output_type": "execute_result"
    }
   ],
   "source": [
    "data[np.where(data[:,1] == 0)].shape[0]"
   ]
  },
  {
   "cell_type": "code",
   "execution_count": 22,
   "metadata": {},
   "outputs": [
    {
     "data": {
      "text/plain": [
       "0"
      ]
     },
     "execution_count": 22,
     "metadata": {},
     "output_type": "execute_result"
    }
   ],
   "source": [
    "data[data[:,1] == 0] = 1\n",
    "(data[:,1] == 0).sum()"
   ]
  },
  {
   "cell_type": "markdown",
   "metadata": {},
   "source": [
    "**8.** Найдите множество возможных значений величины количества ингредиентов и количество вхождений каждого из уникальных значений в набор данных. Используя `numpy.isin`, выясните, какие числа из отрезка [1, 41] отсуствуют в данном множестве и выведите их на экран. "
   ]
  },
  {
   "cell_type": "code",
   "execution_count": 23,
   "metadata": {
    "scrolled": true
   },
   "outputs": [
    {
     "name": "stdout",
     "output_type": "stream",
     "text": [
      "[[    1   492]\n",
      " [    2   924]\n",
      " [    3  2884]\n",
      " [    4  5479]\n",
      " [    5  7874]\n",
      " [    6  9328]\n",
      " [    7 10579]\n",
      " [    8 10887]\n",
      " [    9 10542]\n",
      " [   10  9548]\n",
      " [   11  8262]\n",
      " [   12  6574]\n",
      " [   13  4985]\n",
      " [   14  3639]\n",
      " [   15  2583]\n",
      " [   16  1760]\n",
      " [   17  1237]\n",
      " [   18   787]\n",
      " [   19   566]\n",
      " [   20   376]\n",
      " [   21   214]\n",
      " [   22   161]\n",
      " [   23   105]\n",
      " [   24    68]\n",
      " [   25    50]\n",
      " [   26    28]\n",
      " [   27    16]\n",
      " [   28    16]\n",
      " [   29    12]\n",
      " [   30    12]\n",
      " [   31     3]\n",
      " [   32     1]\n",
      " [   33     2]\n",
      " [   34     1]\n",
      " [   35     3]\n",
      " [   37     1]\n",
      " [   39     1]]\n"
     ]
    }
   ],
   "source": [
    "unique, quantity = np.unique(data[:,2], return_counts=True)\n",
    "print(np.asarray((unique, quantity)).T)"
   ]
  },
  {
   "cell_type": "code",
   "execution_count": 24,
   "metadata": {},
   "outputs": [
    {
     "data": {
      "text/plain": [
       "array([ True,  True,  True,  True,  True,  True,  True,  True,  True,\n",
       "        True,  True,  True,  True,  True,  True,  True,  True,  True,\n",
       "        True,  True,  True,  True,  True,  True,  True,  True,  True,\n",
       "        True,  True,  True,  True,  True,  True,  True,  True, False,\n",
       "        True, False,  True, False, False])"
      ]
     },
     "execution_count": 24,
     "metadata": {},
     "output_type": "execute_result"
    }
   ],
   "source": [
    "a = np.isin(np.arange(1,42), unique)\n",
    "a"
   ]
  },
  {
   "cell_type": "code",
   "execution_count": 25,
   "metadata": {},
   "outputs": [
    {
     "data": {
      "text/plain": [
       "(array([35, 37, 39, 40], dtype=int64),)"
      ]
     },
     "execution_count": 25,
     "metadata": {},
     "output_type": "execute_result"
    }
   ],
   "source": [
    "np.where(a==False)"
   ]
  },
  {
   "cell_type": "code",
   "execution_count": 26,
   "metadata": {},
   "outputs": [
    {
     "data": {
      "text/plain": [
       "[35, 37, 39, 40]"
      ]
     },
     "execution_count": 26,
     "metadata": {},
     "output_type": "execute_result"
    }
   ],
   "source": [
    "not_in_interval = np.where(np.isin(np.arange(1,42), unique) == False)[0]\n",
    "not_in_interval.tolist()"
   ]
  },
  {
   "cell_type": "markdown",
   "metadata": {},
   "source": [
    "**9.** Для каждого рецепта посчитайте, сколько в среднем ингредиентов приходится на одну минуту рецепта. Найдите максимальное значение этой величины для всего датасета."
   ]
  },
  {
   "cell_type": "code",
   "execution_count": 27,
   "metadata": {},
   "outputs": [
    {
     "data": {
      "text/plain": [
       "array([0.26666667, 0.28      , 0.6       , ..., 0.23076923, 0.8       ,\n",
       "       0.1       ])"
      ]
     },
     "execution_count": 27,
     "metadata": {},
     "output_type": "execute_result"
    }
   ],
   "source": [
    "ingr_per_min = np.array(data[:,2]/data[:,1])\n",
    "ingr_per_min"
   ]
  },
  {
   "cell_type": "code",
   "execution_count": 28,
   "metadata": {},
   "outputs": [
    {
     "data": {
      "text/plain": [
       "(23.0, 77524)"
      ]
     },
     "execution_count": 28,
     "metadata": {},
     "output_type": "execute_result"
    }
   ],
   "source": [
    "np.max(ingr_per_min), np.argmax(ingr_per_min)"
   ]
  },
  {
   "cell_type": "markdown",
   "metadata": {},
   "source": [
    "**10.** Вычислите среднее количество ингредиентов для топ-100 рецептов с наибольшей продолжительностью"
   ]
  },
  {
   "cell_type": "code",
   "execution_count": 29,
   "metadata": {
    "scrolled": true
   },
   "outputs": [
    {
     "data": {
      "text/plain": [
       "array([[    116645,      10095,          6],\n",
       "       [    252450,      10100,          4],\n",
       "       [     89339,      10105,          8],\n",
       "       [    369728,      10110,          7],\n",
       "       [    417539,      10110,          6],\n",
       "       [    199925,      10140,          7],\n",
       "       [    258854,      10320,         13],\n",
       "       [     55411,      10320,          8],\n",
       "       [     57721,      10440,         12],\n",
       "       [    106876,      11520,          8],\n",
       "       [    116809,      11521,          3],\n",
       "       [    164029,      11550,         14],\n",
       "       [    298229,      11565,          8],\n",
       "       [     64793,      14405,          3],\n",
       "       [    230796,      14420,          8],\n",
       "       [    453387,      14420,          8],\n",
       "       [    269245,      14425,          5],\n",
       "       [    266032,      14430,          8],\n",
       "       [     26995,      14450,         17],\n",
       "       [    233539,      14460,         10],\n",
       "       [    197469,      14460,         13],\n",
       "       [    443929,      15880,          5],\n",
       "       [     30101,      15900,          5],\n",
       "       [     13904,      17310,          8],\n",
       "       [     72549,      18720,         13],\n",
       "       [     10004,      18725,          5],\n",
       "       [     17490,      20160,          6],\n",
       "       [     24478,      20160,          3],\n",
       "       [     81105,      20160,         13],\n",
       "       [    441587,      20160,          4],\n",
       "       [     72355,      20160,          2],\n",
       "       [    117582,      20160,          9],\n",
       "       [    251532,      20161,          6],\n",
       "       [    124818,      20163,          3],\n",
       "       [    246348,      20165,          6],\n",
       "       [    246355,      20165,          9],\n",
       "       [    291096,      20170,          5],\n",
       "       [    208298,      20175,         12],\n",
       "       [    246663,      20175,          7],\n",
       "       [    129227,      20175,         10],\n",
       "       [    406267,      20175,          9],\n",
       "       [    340621,      20190,          4],\n",
       "       [    121433,      20190,          4],\n",
       "       [     49738,      20190,          5],\n",
       "       [     46390,      20280,         11],\n",
       "       [    477929,      20340,         11],\n",
       "       [    179670,      20340,         12],\n",
       "       [    348132,      21600,         10],\n",
       "       [    401460,      21600,          4],\n",
       "       [    183432,      21690,          4],\n",
       "       [    315022,      23050,          3],\n",
       "       [    186746,      26100,          8],\n",
       "       [    104976,      28810,          6],\n",
       "       [    108917,      28810,          8],\n",
       "       [    310374,      30240,          6],\n",
       "       [    133994,      30255,          8],\n",
       "       [    187480,      30255,          2],\n",
       "       [     37202,      30270,          4],\n",
       "       [     90536,      30270,          6],\n",
       "       [    191140,      30270,          5],\n",
       "       [    144367,      34570,          5],\n",
       "       [    288653,      34570,          6],\n",
       "       [    137027,      34570,          4],\n",
       "       [    109063,      36015,          8],\n",
       "       [     64709,      40325,          3],\n",
       "       [    285910,      41775,          7],\n",
       "       [    346169,      43200,         17],\n",
       "       [     72203,      43200,          3],\n",
       "       [    326069,      43200,          3],\n",
       "       [    295914,      43200,          9],\n",
       "       [     40993,      43200,          5],\n",
       "       [    414465,      43202,          2],\n",
       "       [    200097,      43205,          3],\n",
       "       [    209590,      43230,          8],\n",
       "       [    254782,      43250,         15],\n",
       "       [    102098,      43380,          4],\n",
       "       [    344480,      43380,         22],\n",
       "       [     30845,      44645,          3],\n",
       "       [    246196,      44655,          4],\n",
       "       [     46288,      50405,          5],\n",
       "       [    101082,      60540,          7],\n",
       "       [    140344,      60555,          3],\n",
       "       [    255611,      64815,          3],\n",
       "       [     42247,      69120,          2],\n",
       "       [     93063,      86400,          2],\n",
       "       [    142936,      86400,          9],\n",
       "       [     34175,      86400,          3],\n",
       "       [     41403,      86400,          4],\n",
       "       [    105417,      86405,          2],\n",
       "       [     13264,     115230,          4],\n",
       "       [    236281,     129615,          5],\n",
       "       [    236274,     129615,          5],\n",
       "       [    184528,     129620,          3],\n",
       "       [    242032,     132495,          3],\n",
       "       [    236340,     146880,          5],\n",
       "       [     70551,     201610,          7],\n",
       "       [     98912,     216015,          4],\n",
       "       [    425681,     259205,          2],\n",
       "       [    216215,     259260,          7],\n",
       "       [    261647, 2147483647,          8]])"
      ]
     },
     "execution_count": 29,
     "metadata": {},
     "output_type": "execute_result"
    }
   ],
   "source": [
    "sorted_array = data[np.argsort(data[:,1])][-100 : ]\n",
    "sorted_array"
   ]
  },
  {
   "cell_type": "code",
   "execution_count": 30,
   "metadata": {},
   "outputs": [
    {
     "data": {
      "text/plain": [
       "6.61"
      ]
     },
     "execution_count": 30,
     "metadata": {},
     "output_type": "execute_result"
    }
   ],
   "source": [
    "np.mean(sorted_array[:,2])"
   ]
  },
  {
   "cell_type": "markdown",
   "metadata": {},
   "source": [
    "**11.** Назовем \"простым\" такой рецепт, длительность выполнения которого не больше 20 минут и кол-во ингредиентов в котором не больше 5. Создайте версию датасета с дополнительным столбцом, значениями которого являются 1, если рецепт простой, и 0 в противном случае. Выведите процент \"простых\" рецептов в датасете."
   ]
  },
  {
   "cell_type": "code",
   "execution_count": 31,
   "metadata": {},
   "outputs": [
    {
     "data": {
      "text/plain": [
       "array([[127244,     60,     16,      0],\n",
       "       [ 23891,     25,      7,      0],\n",
       "       [ 94746,     10,      6,      0],\n",
       "       ...,\n",
       "       [498432,     65,     15,      0],\n",
       "       [370915,      5,      4,      1],\n",
       "       [ 81993,    140,     14,      0]])"
      ]
     },
     "execution_count": 31,
     "metadata": {},
     "output_type": "execute_result"
    }
   ],
   "source": [
    "data_easy = np.append(copy.deepcopy(data), np.zeros((len(data),1), dtype=int) ,axis =1)\n",
    "data_easy[:,3][np.where((data_easy[:,1]<21) & (data_easy[:,2]<6))[0]] = 1\n",
    "\n",
    "data_easy"
   ]
  },
  {
   "cell_type": "code",
   "execution_count": 32,
   "metadata": {},
   "outputs": [
    {
     "data": {
      "text/plain": [
       "9943"
      ]
     },
     "execution_count": 32,
     "metadata": {},
     "output_type": "execute_result"
    }
   ],
   "source": [
    "(data_easy[:,3] == 1).sum()"
   ]
  },
  {
   "cell_type": "markdown",
   "metadata": {},
   "source": [
    "**12.** Разделим рецепты на группы по следующему правилу. Назовем рецепты короткими, если их продолжительность составляет менее 10 минут; стандартными, если их продолжительность составляет не менее 10, но менее 20 минут; и длинными, если их продолжительность составляет не менее 20 минут. Создайте трехмерный массив, где нулевая ось отвечает за номер группы (короткий, стандартный или длинный рецепт), первая ось - за сам рецепт и вторая ось - за характеристики рецепта. Выберите максимальное количество рецептов из каждой группы таким образом, чтобы было возможно сформировать трехмерный массив. Выведите форму полученного массива."
   ]
  },
  {
   "cell_type": "code",
   "execution_count": 33,
   "metadata": {},
   "outputs": [],
   "source": [
    "short_rec = data[np.where(data[:,1]<10)[0]]\n",
    "mid_rec = data[np.where((data[:,1]>=10) & (data[:,1]<20))[0]]\n",
    "long_rec = data[np.where(data[:,1]>=20)[0]]"
   ]
  },
  {
   "cell_type": "code",
   "execution_count": 34,
   "metadata": {},
   "outputs": [
    {
     "data": {
      "text/plain": [
       "7588"
      ]
     },
     "execution_count": 34,
     "metadata": {},
     "output_type": "execute_result"
    }
   ],
   "source": [
    "min_size = np.min([short_rec.shape[0], mid_rec.shape[0], long_rec.shape[0]])\n",
    "min_size"
   ]
  },
  {
   "cell_type": "code",
   "execution_count": 40,
   "metadata": {},
   "outputs": [
    {
     "data": {
      "text/plain": [
       "array([[[ 67660,      5,      6],\n",
       "        [366174,      7,      9],\n",
       "        [204134,      5,      3],\n",
       "        ...,\n",
       "        [420725,      5,      3],\n",
       "        [     1,      1,      1],\n",
       "        [370915,      5,      4]],\n",
       "\n",
       "       [[ 94746,     10,      6],\n",
       "        [ 33941,     18,      9],\n",
       "        [446597,     15,      5],\n",
       "        ...,\n",
       "        [  9831,     15,      7],\n",
       "        [335859,     12,     14],\n",
       "        [256812,     10,      3]],\n",
       "\n",
       "       [[127244,     60,     16],\n",
       "        [ 23891,     25,      7],\n",
       "        [157911,     60,     14],\n",
       "        ...,\n",
       "        [168901,     25,      7],\n",
       "        [392339,     35,     13],\n",
       "        [206732,     45,     10]]])"
      ]
     },
     "execution_count": 40,
     "metadata": {},
     "output_type": "execute_result"
    }
   ],
   "source": [
    "all_recipes = np.array([short_rec[:min_size],mid_rec[:min_size],long_rec[:min_size]])\n",
    "all_recipes"
   ]
  },
  {
   "cell_type": "code",
   "execution_count": 36,
   "metadata": {},
   "outputs": [
    {
     "data": {
      "text/plain": [
       "67660"
      ]
     },
     "execution_count": 36,
     "metadata": {},
     "output_type": "execute_result"
    }
   ],
   "source": [
    "all_recipes[0][0][0]"
   ]
  },
  {
   "cell_type": "markdown",
   "metadata": {},
   "source": [
    "**13.** Пусть в среднем одна минута работы повара стоит ресторану 5 ед., а средняя стоимость одного ингредиента составляет 10 ед. \n",
    "Создайте вектор-столбец `numpy`, содержащий данную информацию. Посчитайте среднюю стоимость приготовления для каждого из первых 10 рецептов в наборе данных."
   ]
  },
  {
   "cell_type": "code",
   "execution_count": 37,
   "metadata": {},
   "outputs": [
    {
     "data": {
      "text/plain": [
       "array([460, 195, 110, ..., 475,  65, 840])"
      ]
     },
     "execution_count": 37,
     "metadata": {},
     "output_type": "execute_result"
    }
   ],
   "source": [
    "chefs_job_price = np.array(data[:,1]*5)\n",
    "ingr_price = np.array(data[:,2]*10)\n",
    "total_price = chefs_job_price + ingr_price\n",
    "total_price"
   ]
  },
  {
   "cell_type": "code",
   "execution_count": 38,
   "metadata": {},
   "outputs": [
    {
     "data": {
      "text/plain": [
       "array([[127244,     60,     16,    460],\n",
       "       [ 23891,     25,      7,    195],\n",
       "       [ 94746,     10,      6,    110],\n",
       "       [ 67660,      5,      6,     85],\n",
       "       [157911,     60,     14,    440],\n",
       "       [152828,     40,      7,    270],\n",
       "       [ 33941,     18,      9,    180],\n",
       "       [446597,     15,      5,    125],\n",
       "       [366174,      7,      9,    125],\n",
       "       [ 74205,     20,      7,    170]])"
      ]
     },
     "execution_count": 38,
     "metadata": {},
     "output_type": "execute_result"
    }
   ],
   "source": [
    "data_and_price = np.append(data,total_price.reshape((len(total_price),1)),axis=1)\n",
    "data_and_price[0:10]"
   ]
  },
  {
   "cell_type": "code",
   "execution_count": 44,
   "metadata": {},
   "outputs": [
    {
     "data": {
      "text/plain": [
       "216.0"
      ]
     },
     "execution_count": 44,
     "metadata": {},
     "output_type": "execute_result"
    }
   ],
   "source": [
    "np.mean(data_and_price[:,3][:10])"
   ]
  }
 ],
 "metadata": {
  "kernelspec": {
   "display_name": "Python 3 (ipykernel)",
   "language": "python",
   "name": "python3"
  },
  "language_info": {
   "codemirror_mode": {
    "name": "ipython",
    "version": 3
   },
   "file_extension": ".py",
   "mimetype": "text/x-python",
   "name": "python",
   "nbconvert_exporter": "python",
   "pygments_lexer": "ipython3",
   "version": "3.9.7"
  }
 },
 "nbformat": 4,
 "nbformat_minor": 4
}
