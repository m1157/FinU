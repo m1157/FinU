{
  "nbformat": 4,
  "nbformat_minor": 0,
  "metadata": {
    "colab": {
      "provenance": []
    },
    "kernelspec": {
      "name": "python3",
      "display_name": "Python 3"
    },
    "language_info": {
      "name": "python"
    }
  },
  "cells": [
    {
      "cell_type": "markdown",
      "source": [
        "# Предварительная обработка данных"
      ],
      "metadata": {
        "id": "m7pbfx8DZcue"
      }
    },
    {
      "cell_type": "markdown",
      "source": [
        "Познакомиться с основными приемами предварительной обработки и очистки данных."
      ],
      "metadata": {
        "id": "9nTAOmfIZhCq"
      }
    },
    {
      "cell_type": "code",
      "execution_count": null,
      "metadata": {
        "id": "nKWt_xcAZI5u"
      },
      "outputs": [],
      "source": [
        "import pandas as pd "
      ]
    },
    {
      "cell_type": "code",
      "source": [
        "from google.colab import drive\n",
        "drive.mount('/content/drive')"
      ],
      "metadata": {
        "colab": {
          "base_uri": "https://localhost:8080/"
        },
        "id": "ZPSmBiXub6bE",
        "outputId": "ad9fb69b-db34-47cc-f48c-896d8893fe8a"
      },
      "execution_count": null,
      "outputs": [
        {
          "output_type": "stream",
          "name": "stdout",
          "text": [
            "Drive already mounted at /content/drive; to attempt to forcibly remount, call drive.mount(\"/content/drive\", force_remount=True).\n"
          ]
        }
      ]
    },
    {
      "cell_type": "markdown",
      "source": [
        "### Задания для выполнения\n",
        "1. Загрузите и прочитайте в pandas приложенный датасет. Обратите внимание, что датасет собран «криво», поэтому прежде чем он «правильно» загрузится (рис.1), необходимо его обработать."
      ],
      "metadata": {
        "id": "rzU8486GZmB3"
      }
    },
    {
      "cell_type": "code",
      "source": [
        "cars = pd.read_csv('/content/drive/MyDrive/Учёба/data/cars_sampled.csv')"
      ],
      "metadata": {
        "id": "vPtOvnZvaBEB"
      },
      "execution_count": null,
      "outputs": []
    },
    {
      "cell_type": "code",
      "source": [
        "cars.head(3)"
      ],
      "metadata": {
        "colab": {
          "base_uri": "https://localhost:8080/",
          "height": 259
        },
        "id": "7e1xfl1hcl5M",
        "outputId": "40e52485-2c7f-4980-938a-d2661d027c0c"
      },
      "execution_count": null,
      "outputs": [
        {
          "output_type": "execute_result",
          "data": {
            "text/plain": [
              "        dateCrawled                    name   seller offerType  price  \\\n",
              "0  30/03/2016 13:51            Zu_verkaufen  private     offer   4450   \n",
              "1     7/3/2016 9:54  Volvo_XC90_2.4D_Summum  private     offer  13299   \n",
              "2     1/4/2016 0:57       Volkswagen_Touran  private     offer   3200   \n",
              "\n",
              "    abtest vehicleType  yearOfRegistration gearbox  powerPS     model  \\\n",
              "0     test   limousine                2003  manual      150       3er   \n",
              "1  control         suv                2005  manual      163  xc_reihe   \n",
              "2     test         bus                2003  manual      101    touran   \n",
              "\n",
              "   kilometer  monthOfRegistration fuelType       brand notRepairedDamage  \\\n",
              "0     150000                    3   diesel         bmw               NaN   \n",
              "1     150000                    6   diesel       volvo                no   \n",
              "2     150000                   11   diesel  volkswagen               NaN   \n",
              "\n",
              "       dateCreated  postalCode          lastSeen  \n",
              "0  30/03/2016 0:00       20257     7/4/2016 4:44  \n",
              "1    7/3/2016 0:00       88045  26/03/2016 13:17  \n",
              "2  31/03/2016 0:00       27449     1/4/2016 8:40  "
            ],
            "text/html": [
              "\n",
              "  <div id=\"df-12351904-047c-4547-83b6-8bbfdf7f812f\">\n",
              "    <div class=\"colab-df-container\">\n",
              "      <div>\n",
              "<style scoped>\n",
              "    .dataframe tbody tr th:only-of-type {\n",
              "        vertical-align: middle;\n",
              "    }\n",
              "\n",
              "    .dataframe tbody tr th {\n",
              "        vertical-align: top;\n",
              "    }\n",
              "\n",
              "    .dataframe thead th {\n",
              "        text-align: right;\n",
              "    }\n",
              "</style>\n",
              "<table border=\"1\" class=\"dataframe\">\n",
              "  <thead>\n",
              "    <tr style=\"text-align: right;\">\n",
              "      <th></th>\n",
              "      <th>dateCrawled</th>\n",
              "      <th>name</th>\n",
              "      <th>seller</th>\n",
              "      <th>offerType</th>\n",
              "      <th>price</th>\n",
              "      <th>abtest</th>\n",
              "      <th>vehicleType</th>\n",
              "      <th>yearOfRegistration</th>\n",
              "      <th>gearbox</th>\n",
              "      <th>powerPS</th>\n",
              "      <th>model</th>\n",
              "      <th>kilometer</th>\n",
              "      <th>monthOfRegistration</th>\n",
              "      <th>fuelType</th>\n",
              "      <th>brand</th>\n",
              "      <th>notRepairedDamage</th>\n",
              "      <th>dateCreated</th>\n",
              "      <th>postalCode</th>\n",
              "      <th>lastSeen</th>\n",
              "    </tr>\n",
              "  </thead>\n",
              "  <tbody>\n",
              "    <tr>\n",
              "      <th>0</th>\n",
              "      <td>30/03/2016 13:51</td>\n",
              "      <td>Zu_verkaufen</td>\n",
              "      <td>private</td>\n",
              "      <td>offer</td>\n",
              "      <td>4450</td>\n",
              "      <td>test</td>\n",
              "      <td>limousine</td>\n",
              "      <td>2003</td>\n",
              "      <td>manual</td>\n",
              "      <td>150</td>\n",
              "      <td>3er</td>\n",
              "      <td>150000</td>\n",
              "      <td>3</td>\n",
              "      <td>diesel</td>\n",
              "      <td>bmw</td>\n",
              "      <td>NaN</td>\n",
              "      <td>30/03/2016 0:00</td>\n",
              "      <td>20257</td>\n",
              "      <td>7/4/2016 4:44</td>\n",
              "    </tr>\n",
              "    <tr>\n",
              "      <th>1</th>\n",
              "      <td>7/3/2016 9:54</td>\n",
              "      <td>Volvo_XC90_2.4D_Summum</td>\n",
              "      <td>private</td>\n",
              "      <td>offer</td>\n",
              "      <td>13299</td>\n",
              "      <td>control</td>\n",
              "      <td>suv</td>\n",
              "      <td>2005</td>\n",
              "      <td>manual</td>\n",
              "      <td>163</td>\n",
              "      <td>xc_reihe</td>\n",
              "      <td>150000</td>\n",
              "      <td>6</td>\n",
              "      <td>diesel</td>\n",
              "      <td>volvo</td>\n",
              "      <td>no</td>\n",
              "      <td>7/3/2016 0:00</td>\n",
              "      <td>88045</td>\n",
              "      <td>26/03/2016 13:17</td>\n",
              "    </tr>\n",
              "    <tr>\n",
              "      <th>2</th>\n",
              "      <td>1/4/2016 0:57</td>\n",
              "      <td>Volkswagen_Touran</td>\n",
              "      <td>private</td>\n",
              "      <td>offer</td>\n",
              "      <td>3200</td>\n",
              "      <td>test</td>\n",
              "      <td>bus</td>\n",
              "      <td>2003</td>\n",
              "      <td>manual</td>\n",
              "      <td>101</td>\n",
              "      <td>touran</td>\n",
              "      <td>150000</td>\n",
              "      <td>11</td>\n",
              "      <td>diesel</td>\n",
              "      <td>volkswagen</td>\n",
              "      <td>NaN</td>\n",
              "      <td>31/03/2016 0:00</td>\n",
              "      <td>27449</td>\n",
              "      <td>1/4/2016 8:40</td>\n",
              "    </tr>\n",
              "  </tbody>\n",
              "</table>\n",
              "</div>\n",
              "      <button class=\"colab-df-convert\" onclick=\"convertToInteractive('df-12351904-047c-4547-83b6-8bbfdf7f812f')\"\n",
              "              title=\"Convert this dataframe to an interactive table.\"\n",
              "              style=\"display:none;\">\n",
              "        \n",
              "  <svg xmlns=\"http://www.w3.org/2000/svg\" height=\"24px\"viewBox=\"0 0 24 24\"\n",
              "       width=\"24px\">\n",
              "    <path d=\"M0 0h24v24H0V0z\" fill=\"none\"/>\n",
              "    <path d=\"M18.56 5.44l.94 2.06.94-2.06 2.06-.94-2.06-.94-.94-2.06-.94 2.06-2.06.94zm-11 1L8.5 8.5l.94-2.06 2.06-.94-2.06-.94L8.5 2.5l-.94 2.06-2.06.94zm10 10l.94 2.06.94-2.06 2.06-.94-2.06-.94-.94-2.06-.94 2.06-2.06.94z\"/><path d=\"M17.41 7.96l-1.37-1.37c-.4-.4-.92-.59-1.43-.59-.52 0-1.04.2-1.43.59L10.3 9.45l-7.72 7.72c-.78.78-.78 2.05 0 2.83L4 21.41c.39.39.9.59 1.41.59.51 0 1.02-.2 1.41-.59l7.78-7.78 2.81-2.81c.8-.78.8-2.07 0-2.86zM5.41 20L4 18.59l7.72-7.72 1.47 1.35L5.41 20z\"/>\n",
              "  </svg>\n",
              "      </button>\n",
              "      \n",
              "  <style>\n",
              "    .colab-df-container {\n",
              "      display:flex;\n",
              "      flex-wrap:wrap;\n",
              "      gap: 12px;\n",
              "    }\n",
              "\n",
              "    .colab-df-convert {\n",
              "      background-color: #E8F0FE;\n",
              "      border: none;\n",
              "      border-radius: 50%;\n",
              "      cursor: pointer;\n",
              "      display: none;\n",
              "      fill: #1967D2;\n",
              "      height: 32px;\n",
              "      padding: 0 0 0 0;\n",
              "      width: 32px;\n",
              "    }\n",
              "\n",
              "    .colab-df-convert:hover {\n",
              "      background-color: #E2EBFA;\n",
              "      box-shadow: 0px 1px 2px rgba(60, 64, 67, 0.3), 0px 1px 3px 1px rgba(60, 64, 67, 0.15);\n",
              "      fill: #174EA6;\n",
              "    }\n",
              "\n",
              "    [theme=dark] .colab-df-convert {\n",
              "      background-color: #3B4455;\n",
              "      fill: #D2E3FC;\n",
              "    }\n",
              "\n",
              "    [theme=dark] .colab-df-convert:hover {\n",
              "      background-color: #434B5C;\n",
              "      box-shadow: 0px 1px 3px 1px rgba(0, 0, 0, 0.15);\n",
              "      filter: drop-shadow(0px 1px 2px rgba(0, 0, 0, 0.3));\n",
              "      fill: #FFFFFF;\n",
              "    }\n",
              "  </style>\n",
              "\n",
              "      <script>\n",
              "        const buttonEl =\n",
              "          document.querySelector('#df-12351904-047c-4547-83b6-8bbfdf7f812f button.colab-df-convert');\n",
              "        buttonEl.style.display =\n",
              "          google.colab.kernel.accessAllowed ? 'block' : 'none';\n",
              "\n",
              "        async function convertToInteractive(key) {\n",
              "          const element = document.querySelector('#df-12351904-047c-4547-83b6-8bbfdf7f812f');\n",
              "          const dataTable =\n",
              "            await google.colab.kernel.invokeFunction('convertToInteractive',\n",
              "                                                     [key], {});\n",
              "          if (!dataTable) return;\n",
              "\n",
              "          const docLinkHtml = 'Like what you see? Visit the ' +\n",
              "            '<a target=\"_blank\" href=https://colab.research.google.com/notebooks/data_table.ipynb>data table notebook</a>'\n",
              "            + ' to learn more about interactive tables.';\n",
              "          element.innerHTML = '';\n",
              "          dataTable['output_type'] = 'display_data';\n",
              "          await google.colab.output.renderOutput(dataTable, element);\n",
              "          const docLink = document.createElement('div');\n",
              "          docLink.innerHTML = docLinkHtml;\n",
              "          element.appendChild(docLink);\n",
              "        }\n",
              "      </script>\n",
              "    </div>\n",
              "  </div>\n",
              "  "
            ]
          },
          "metadata": {},
          "execution_count": 4
        }
      ]
    },
    {
      "cell_type": "markdown",
      "source": [
        "`dateCrawled`, `dateCreated`, `lastSeen` в формат даты + времени"
      ],
      "metadata": {
        "id": "6u9oN4vNdx3v"
      }
    },
    {
      "cell_type": "code",
      "source": [
        "cars['dateCrawled'] = pd.to_datetime(cars.dateCrawled) "
      ],
      "metadata": {
        "id": "BWOFnigqdOlr"
      },
      "execution_count": null,
      "outputs": []
    },
    {
      "cell_type": "code",
      "source": [
        "cars['dateCreated'] = pd.to_datetime(cars.dateCreated) "
      ],
      "metadata": {
        "id": "YHrCyjGYdrSm"
      },
      "execution_count": null,
      "outputs": []
    },
    {
      "cell_type": "code",
      "source": [
        "cars['lastSeen'] = pd.to_datetime(cars.lastSeen) "
      ],
      "metadata": {
        "id": "qODZsHbDeiZW"
      },
      "execution_count": null,
      "outputs": []
    },
    {
      "cell_type": "markdown",
      "source": [
        "\n",
        "2. Сделайте описательную статистику: размер, типы переменных, пустые значения, уникальные имена и т.д.\n"
      ],
      "metadata": {
        "id": "Nv5A9HdhfyCE"
      }
    },
    {
      "cell_type": "code",
      "source": [
        "cars.shape"
      ],
      "metadata": {
        "colab": {
          "base_uri": "https://localhost:8080/"
        },
        "id": "Ok5pdt-fhFX8",
        "outputId": "1dac8486-a2fc-4d64-fccb-1ffd2cf41333"
      },
      "execution_count": null,
      "outputs": [
        {
          "output_type": "execute_result",
          "data": {
            "text/plain": [
              "(50001, 19)"
            ]
          },
          "metadata": {},
          "execution_count": 8
        }
      ]
    },
    {
      "cell_type": "code",
      "source": [
        "cars.info()"
      ],
      "metadata": {
        "colab": {
          "base_uri": "https://localhost:8080/"
        },
        "id": "H-igz9KWcZNL",
        "outputId": "40d0116b-fcd6-419f-b8bd-4d4b62be5d4f"
      },
      "execution_count": null,
      "outputs": [
        {
          "output_type": "stream",
          "name": "stdout",
          "text": [
            "<class 'pandas.core.frame.DataFrame'>\n",
            "RangeIndex: 50001 entries, 0 to 50000\n",
            "Data columns (total 19 columns):\n",
            " #   Column               Non-Null Count  Dtype         \n",
            "---  ------               --------------  -----         \n",
            " 0   dateCrawled          50001 non-null  datetime64[ns]\n",
            " 1   name                 50001 non-null  object        \n",
            " 2   seller               50001 non-null  object        \n",
            " 3   offerType            50001 non-null  object        \n",
            " 4   price                50001 non-null  int64         \n",
            " 5   abtest               50001 non-null  object        \n",
            " 6   vehicleType          44813 non-null  object        \n",
            " 7   yearOfRegistration   50001 non-null  int64         \n",
            " 8   gearbox              47177 non-null  object        \n",
            " 9   powerPS              50001 non-null  int64         \n",
            " 10  model                47243 non-null  object        \n",
            " 11  kilometer            50001 non-null  int64         \n",
            " 12  monthOfRegistration  50001 non-null  int64         \n",
            " 13  fuelType             45498 non-null  object        \n",
            " 14  brand                50001 non-null  object        \n",
            " 15  notRepairedDamage    40285 non-null  object        \n",
            " 16  dateCreated          50001 non-null  datetime64[ns]\n",
            " 17  postalCode           50001 non-null  int64         \n",
            " 18  lastSeen             50001 non-null  datetime64[ns]\n",
            "dtypes: datetime64[ns](3), int64(6), object(10)\n",
            "memory usage: 7.2+ MB\n"
          ]
        }
      ]
    },
    {
      "cell_type": "code",
      "source": [
        "cars.isna().sum()"
      ],
      "metadata": {
        "colab": {
          "base_uri": "https://localhost:8080/"
        },
        "id": "dc7wCWsMfzUg",
        "outputId": "159dfd14-642b-454f-9b20-824b3c51002a"
      },
      "execution_count": null,
      "outputs": [
        {
          "output_type": "execute_result",
          "data": {
            "text/plain": [
              "dateCrawled               0\n",
              "name                      0\n",
              "seller                    0\n",
              "offerType                 0\n",
              "price                     0\n",
              "abtest                    0\n",
              "vehicleType            5188\n",
              "yearOfRegistration        0\n",
              "gearbox                2824\n",
              "powerPS                   0\n",
              "model                  2758\n",
              "kilometer                 0\n",
              "monthOfRegistration       0\n",
              "fuelType               4503\n",
              "brand                     0\n",
              "notRepairedDamage      9716\n",
              "dateCreated               0\n",
              "postalCode                0\n",
              "lastSeen                  0\n",
              "dtype: int64"
            ]
          },
          "metadata": {},
          "execution_count": 10
        }
      ]
    },
    {
      "cell_type": "markdown",
      "source": [
        "**Столбцы с пустыми значениями**:\n",
        "\n",
        "vehicleType            (5188),\n",
        "gearbox                (2824),\n",
        "model                  (2758),\n",
        "fuelType               (4503),\n",
        "notRepairedDamage      (9716)"
      ],
      "metadata": {
        "id": "fxioYS5th_NB"
      }
    },
    {
      "cell_type": "code",
      "source": [
        "cars.nunique()"
      ],
      "metadata": {
        "colab": {
          "base_uri": "https://localhost:8080/"
        },
        "id": "6F5SnkZFgSbF",
        "outputId": "b586ea85-6a47-4aa7-e39b-1b432842a6c0"
      },
      "execution_count": null,
      "outputs": [
        {
          "output_type": "execute_result",
          "data": {
            "text/plain": [
              "dateCrawled            12039\n",
              "name                   38766\n",
              "seller                     2\n",
              "offerType                  2\n",
              "price                   2393\n",
              "abtest                     2\n",
              "vehicleType                8\n",
              "yearOfRegistration        97\n",
              "gearbox                    2\n",
              "powerPS                  460\n",
              "model                    248\n",
              "kilometer                 13\n",
              "monthOfRegistration       13\n",
              "fuelType                   7\n",
              "brand                     40\n",
              "notRepairedDamage          2\n",
              "dateCreated               75\n",
              "postalCode              7018\n",
              "lastSeen               10413\n",
              "dtype: int64"
            ]
          },
          "metadata": {},
          "execution_count": 11
        }
      ]
    },
    {
      "cell_type": "markdown",
      "source": [
        "**Количество уникальных значений в столбцах**:\n",
        "\n",
        "dateCrawled            (12039),\n",
        "name                   (38766),\n",
        "seller                     (2),\n",
        "offerType                  (2),\n",
        "price                   (2393),\n",
        "abtest                     (2),\n",
        "vehicleType                (8),\n",
        "yearOfRegistration        (97),\n",
        "gearbox                    (2),\n",
        "powerPS                  (460),\n",
        "model                    (248),\n",
        "kilometer                 (13),\n",
        "monthOfRegistration       (13),\n",
        "fuelType                   (7),\n",
        "brand                     (40),\n",
        "notRepairedDamage          (2),\n",
        "dateCreated               (75),\n",
        "postalCode              (7018),\n",
        "lastSeen               (10413)"
      ],
      "metadata": {
        "id": "muhe43fzicc_"
      }
    },
    {
      "cell_type": "markdown",
      "source": [
        "3. Поработайте с типами переменных. Все числовые значения переведите в формат int."
      ],
      "metadata": {
        "id": "7vqd_ZNdfz9S"
      }
    },
    {
      "cell_type": "code",
      "source": [
        "cars[['price', 'yearOfRegistration', 'powerPS', 'kilometer', 'monthOfRegistration', 'postalCode']].head(3)"
      ],
      "metadata": {
        "colab": {
          "base_uri": "https://localhost:8080/",
          "height": 143
        },
        "id": "lIKtmXsPcgQc",
        "outputId": "0f647cde-f0f7-43be-e09e-29797881cfdc"
      },
      "execution_count": null,
      "outputs": [
        {
          "output_type": "execute_result",
          "data": {
            "text/plain": [
              "   price  yearOfRegistration  powerPS  kilometer  monthOfRegistration  \\\n",
              "0   4450                2003      150     150000                    3   \n",
              "1  13299                2005      163     150000                    6   \n",
              "2   3200                2003      101     150000                   11   \n",
              "\n",
              "   postalCode  \n",
              "0       20257  \n",
              "1       88045  \n",
              "2       27449  "
            ],
            "text/html": [
              "\n",
              "  <div id=\"df-b8f93c85-0406-4a24-8bbe-f662c05cf49c\">\n",
              "    <div class=\"colab-df-container\">\n",
              "      <div>\n",
              "<style scoped>\n",
              "    .dataframe tbody tr th:only-of-type {\n",
              "        vertical-align: middle;\n",
              "    }\n",
              "\n",
              "    .dataframe tbody tr th {\n",
              "        vertical-align: top;\n",
              "    }\n",
              "\n",
              "    .dataframe thead th {\n",
              "        text-align: right;\n",
              "    }\n",
              "</style>\n",
              "<table border=\"1\" class=\"dataframe\">\n",
              "  <thead>\n",
              "    <tr style=\"text-align: right;\">\n",
              "      <th></th>\n",
              "      <th>price</th>\n",
              "      <th>yearOfRegistration</th>\n",
              "      <th>powerPS</th>\n",
              "      <th>kilometer</th>\n",
              "      <th>monthOfRegistration</th>\n",
              "      <th>postalCode</th>\n",
              "    </tr>\n",
              "  </thead>\n",
              "  <tbody>\n",
              "    <tr>\n",
              "      <th>0</th>\n",
              "      <td>4450</td>\n",
              "      <td>2003</td>\n",
              "      <td>150</td>\n",
              "      <td>150000</td>\n",
              "      <td>3</td>\n",
              "      <td>20257</td>\n",
              "    </tr>\n",
              "    <tr>\n",
              "      <th>1</th>\n",
              "      <td>13299</td>\n",
              "      <td>2005</td>\n",
              "      <td>163</td>\n",
              "      <td>150000</td>\n",
              "      <td>6</td>\n",
              "      <td>88045</td>\n",
              "    </tr>\n",
              "    <tr>\n",
              "      <th>2</th>\n",
              "      <td>3200</td>\n",
              "      <td>2003</td>\n",
              "      <td>101</td>\n",
              "      <td>150000</td>\n",
              "      <td>11</td>\n",
              "      <td>27449</td>\n",
              "    </tr>\n",
              "  </tbody>\n",
              "</table>\n",
              "</div>\n",
              "      <button class=\"colab-df-convert\" onclick=\"convertToInteractive('df-b8f93c85-0406-4a24-8bbe-f662c05cf49c')\"\n",
              "              title=\"Convert this dataframe to an interactive table.\"\n",
              "              style=\"display:none;\">\n",
              "        \n",
              "  <svg xmlns=\"http://www.w3.org/2000/svg\" height=\"24px\"viewBox=\"0 0 24 24\"\n",
              "       width=\"24px\">\n",
              "    <path d=\"M0 0h24v24H0V0z\" fill=\"none\"/>\n",
              "    <path d=\"M18.56 5.44l.94 2.06.94-2.06 2.06-.94-2.06-.94-.94-2.06-.94 2.06-2.06.94zm-11 1L8.5 8.5l.94-2.06 2.06-.94-2.06-.94L8.5 2.5l-.94 2.06-2.06.94zm10 10l.94 2.06.94-2.06 2.06-.94-2.06-.94-.94-2.06-.94 2.06-2.06.94z\"/><path d=\"M17.41 7.96l-1.37-1.37c-.4-.4-.92-.59-1.43-.59-.52 0-1.04.2-1.43.59L10.3 9.45l-7.72 7.72c-.78.78-.78 2.05 0 2.83L4 21.41c.39.39.9.59 1.41.59.51 0 1.02-.2 1.41-.59l7.78-7.78 2.81-2.81c.8-.78.8-2.07 0-2.86zM5.41 20L4 18.59l7.72-7.72 1.47 1.35L5.41 20z\"/>\n",
              "  </svg>\n",
              "      </button>\n",
              "      \n",
              "  <style>\n",
              "    .colab-df-container {\n",
              "      display:flex;\n",
              "      flex-wrap:wrap;\n",
              "      gap: 12px;\n",
              "    }\n",
              "\n",
              "    .colab-df-convert {\n",
              "      background-color: #E8F0FE;\n",
              "      border: none;\n",
              "      border-radius: 50%;\n",
              "      cursor: pointer;\n",
              "      display: none;\n",
              "      fill: #1967D2;\n",
              "      height: 32px;\n",
              "      padding: 0 0 0 0;\n",
              "      width: 32px;\n",
              "    }\n",
              "\n",
              "    .colab-df-convert:hover {\n",
              "      background-color: #E2EBFA;\n",
              "      box-shadow: 0px 1px 2px rgba(60, 64, 67, 0.3), 0px 1px 3px 1px rgba(60, 64, 67, 0.15);\n",
              "      fill: #174EA6;\n",
              "    }\n",
              "\n",
              "    [theme=dark] .colab-df-convert {\n",
              "      background-color: #3B4455;\n",
              "      fill: #D2E3FC;\n",
              "    }\n",
              "\n",
              "    [theme=dark] .colab-df-convert:hover {\n",
              "      background-color: #434B5C;\n",
              "      box-shadow: 0px 1px 3px 1px rgba(0, 0, 0, 0.15);\n",
              "      filter: drop-shadow(0px 1px 2px rgba(0, 0, 0, 0.3));\n",
              "      fill: #FFFFFF;\n",
              "    }\n",
              "  </style>\n",
              "\n",
              "      <script>\n",
              "        const buttonEl =\n",
              "          document.querySelector('#df-b8f93c85-0406-4a24-8bbe-f662c05cf49c button.colab-df-convert');\n",
              "        buttonEl.style.display =\n",
              "          google.colab.kernel.accessAllowed ? 'block' : 'none';\n",
              "\n",
              "        async function convertToInteractive(key) {\n",
              "          const element = document.querySelector('#df-b8f93c85-0406-4a24-8bbe-f662c05cf49c');\n",
              "          const dataTable =\n",
              "            await google.colab.kernel.invokeFunction('convertToInteractive',\n",
              "                                                     [key], {});\n",
              "          if (!dataTable) return;\n",
              "\n",
              "          const docLinkHtml = 'Like what you see? Visit the ' +\n",
              "            '<a target=\"_blank\" href=https://colab.research.google.com/notebooks/data_table.ipynb>data table notebook</a>'\n",
              "            + ' to learn more about interactive tables.';\n",
              "          element.innerHTML = '';\n",
              "          dataTable['output_type'] = 'display_data';\n",
              "          await google.colab.output.renderOutput(dataTable, element);\n",
              "          const docLink = document.createElement('div');\n",
              "          docLink.innerHTML = docLinkHtml;\n",
              "          element.appendChild(docLink);\n",
              "        }\n",
              "      </script>\n",
              "    </div>\n",
              "  </div>\n",
              "  "
            ]
          },
          "metadata": {},
          "execution_count": 12
        }
      ]
    },
    {
      "cell_type": "code",
      "source": [
        "cars.info()"
      ],
      "metadata": {
        "id": "XsZq9TFimuDP",
        "colab": {
          "base_uri": "https://localhost:8080/"
        },
        "outputId": "c0f875c9-6371-4153-d752-1600a3cceb3a"
      },
      "execution_count": null,
      "outputs": [
        {
          "output_type": "stream",
          "name": "stdout",
          "text": [
            "<class 'pandas.core.frame.DataFrame'>\n",
            "RangeIndex: 50001 entries, 0 to 50000\n",
            "Data columns (total 19 columns):\n",
            " #   Column               Non-Null Count  Dtype         \n",
            "---  ------               --------------  -----         \n",
            " 0   dateCrawled          50001 non-null  datetime64[ns]\n",
            " 1   name                 50001 non-null  object        \n",
            " 2   seller               50001 non-null  object        \n",
            " 3   offerType            50001 non-null  object        \n",
            " 4   price                50001 non-null  int64         \n",
            " 5   abtest               50001 non-null  object        \n",
            " 6   vehicleType          44813 non-null  object        \n",
            " 7   yearOfRegistration   50001 non-null  int64         \n",
            " 8   gearbox              47177 non-null  object        \n",
            " 9   powerPS              50001 non-null  int64         \n",
            " 10  model                47243 non-null  object        \n",
            " 11  kilometer            50001 non-null  int64         \n",
            " 12  monthOfRegistration  50001 non-null  int64         \n",
            " 13  fuelType             45498 non-null  object        \n",
            " 14  brand                50001 non-null  object        \n",
            " 15  notRepairedDamage    40285 non-null  object        \n",
            " 16  dateCreated          50001 non-null  datetime64[ns]\n",
            " 17  postalCode           50001 non-null  int64         \n",
            " 18  lastSeen             50001 non-null  datetime64[ns]\n",
            "dtypes: datetime64[ns](3), int64(6), object(10)\n",
            "memory usage: 7.2+ MB\n"
          ]
        }
      ]
    },
    {
      "cell_type": "markdown",
      "source": [
        "4. Поработайте со столбцом price. Постройте гистограмму, найдите выбросы (ящиковая диаграмма), удалите аномальные значения, постарайтесь привести к нормальному распределению.\n"
      ],
      "metadata": {
        "id": "rcmkq3SXmugK"
      }
    },
    {
      "cell_type": "code",
      "source": [
        "import matplotlib.pyplot as plt\n",
        "import seaborn as sns\n",
        "import numpy as np"
      ],
      "metadata": {
        "id": "18VxjF8Kmveu"
      },
      "execution_count": null,
      "outputs": []
    },
    {
      "cell_type": "code",
      "source": [
        "plt.figure(figsize=(12, 4))\n",
        "plt.title(\"Price Distribution\",fontsize=16)\n",
        "sns.boxplot(cars.price,\n",
        "            width=0.4,\n",
        "            flierprops={\"marker\": \"x\"},\n",
        "            medianprops={\"color\": \"#09E85E\"},\n",
        "            color='#2AFC98')\n",
        "plt.show()"
      ],
      "metadata": {
        "colab": {
          "base_uri": "https://localhost:8080/",
          "height": 353
        },
        "id": "OQ7ymu6pc5MT",
        "outputId": "a46fae6b-8ca0-47bb-d22f-61f317e646e1"
      },
      "execution_count": null,
      "outputs": [
        {
          "output_type": "stream",
          "name": "stderr",
          "text": [
            "/usr/local/lib/python3.7/dist-packages/seaborn/_decorators.py:43: FutureWarning: Pass the following variable as a keyword arg: x. From version 0.12, the only valid positional argument will be `data`, and passing other arguments without an explicit keyword will result in an error or misinterpretation.\n",
            "  FutureWarning\n"
          ]
        },
        {
          "output_type": "display_data",
          "data": {
            "text/plain": [
              "<Figure size 864x288 with 1 Axes>"
            ],
            "image/png": "[encoded data removed]"
          },
          "metadata": {
            "needs_background": "light"
          }
        }
      ]
    },
    {
      "cell_type": "code",
      "source": [
        "cars.price.describe()"
      ],
      "metadata": {
        "colab": {
          "base_uri": "https://localhost:8080/"
        },
        "id": "-jhSaruUdmKQ",
        "outputId": "fc6965e5-bc55-4a4f-a6c1-69c62aedd97c"
      },
      "execution_count": null,
      "outputs": [
        {
          "output_type": "execute_result",
          "data": {
            "text/plain": [
              "count    5.000100e+04\n",
              "mean     6.559865e+03\n",
              "std      8.581847e+04\n",
              "min      0.000000e+00\n",
              "25%      1.150000e+03\n",
              "50%      2.950000e+03\n",
              "75%      7.190000e+03\n",
              "max      1.234568e+07\n",
              "Name: price, dtype: float64"
            ]
          },
          "metadata": {},
          "execution_count": 16
        }
      ]
    },
    {
      "cell_type": "code",
      "source": [
        "IQR = cars.price.quantile(0.75)-cars.price.quantile(0.25)\n",
        "(cars.price.quantile(0.25) - IQR*1.5, cars.price.quantile(0.75) + IQR*1.5)"
      ],
      "metadata": {
        "colab": {
          "base_uri": "https://localhost:8080/"
        },
        "id": "bmHCcLK-d3mb",
        "outputId": "702c783d-47d4-4ce6-8067-4f57d21d0f04"
      },
      "execution_count": null,
      "outputs": [
        {
          "output_type": "execute_result",
          "data": {
            "text/plain": [
              "(-7910.0, 16250.0)"
            ]
          },
          "metadata": {},
          "execution_count": 17
        }
      ]
    },
    {
      "cell_type": "code",
      "source": [
        "cars = cars.loc[cars.price<=cars.price.quantile(0.75) + IQR*1.5]"
      ],
      "metadata": {
        "id": "Ki731gWPkQku"
      },
      "execution_count": null,
      "outputs": []
    },
    {
      "cell_type": "code",
      "source": [
        "cars.price.describe()"
      ],
      "metadata": {
        "colab": {
          "base_uri": "https://localhost:8080/"
        },
        "id": "w7Kbh5WHzi1Q",
        "outputId": "39041cb1-b826-43e5-fcc0-8955ce7c25d6"
      },
      "execution_count": null,
      "outputs": [
        {
          "output_type": "execute_result",
          "data": {
            "text/plain": [
              "count    46244.000000\n",
              "mean      3986.167395\n",
              "std       3849.316237\n",
              "min          0.000000\n",
              "25%       1000.000000\n",
              "50%       2590.000000\n",
              "75%       5900.000000\n",
              "max      16250.000000\n",
              "Name: price, dtype: float64"
            ]
          },
          "metadata": {},
          "execution_count": 20
        }
      ]
    },
    {
      "cell_type": "code",
      "source": [
        "cars.reset_index(inplace=True)"
      ],
      "metadata": {
        "id": "nFz53nFQxlW5"
      },
      "execution_count": null,
      "outputs": []
    },
    {
      "cell_type": "code",
      "source": [
        "plt.figure(figsize=(12, 4))\n",
        "plt.title('Price Distribution',fontsize=16)\n",
        "sns.boxplot(cars.price,\n",
        "            width=0.4,\n",
        "            fliersize=0.4,\n",
        "            flierprops={\"marker\": \"x\"},\n",
        "            medianprops={\"color\": \"#581F18\"},\n",
        "            color='#F0A202')\n",
        "plt.annotate(f'{len(cars.price[cars.price<=cars.price.quantile(0.75) + IQR*1.5])}/{len(cars.price)} значений входят в нормальное распределение',\n",
        "             xy=(8000,0.25), color='#F0A202')\n",
        "plt.show()"
      ],
      "metadata": {
        "colab": {
          "base_uri": "https://localhost:8080/",
          "height": 353
        },
        "id": "gt6TwAOkdwjr",
        "outputId": "f8e08312-d26d-47c3-fd7f-b66d0b97ca23"
      },
      "execution_count": null,
      "outputs": [
        {
          "output_type": "stream",
          "name": "stderr",
          "text": [
            "/usr/local/lib/python3.7/dist-packages/seaborn/_decorators.py:43: FutureWarning: Pass the following variable as a keyword arg: x. From version 0.12, the only valid positional argument will be `data`, and passing other arguments without an explicit keyword will result in an error or misinterpretation.\n",
            "  FutureWarning\n"
          ]
        },
        {
          "output_type": "display_data",
          "data": {
            "text/plain": [
              "<Figure size 864x288 with 1 Axes>"
            ],
            "image/png": "[encoded data removed]"
          },
          "metadata": {
            "needs_background": "light"
          }
        }
      ]
    },
    {
      "cell_type": "markdown",
      "source": [
        "5. Аналогично поработайте и с другими «важными для целевой функции price» параметрами (powerPS, yearOfRegistration, kilometer и т.д). «Важность» докажите через коэффициент корреляции. Сделайте визуализацию."
      ],
      "metadata": {
        "id": "uVEyC0PFPDDM"
      }
    },
    {
      "cell_type": "code",
      "source": [
        "plt.figure(figsize=(10, 8))\n",
        "sns.heatmap(cars.corr(), \n",
        "            linewidths=.5, \n",
        "            annot=True, \n",
        "            fmt='.2', \n",
        "            annot_kws={'fontsize':13}, \n",
        "            cmap='RdPu')\n",
        "plt.show()"
      ],
      "metadata": {
        "id": "PKQHqmasPGQa",
        "colab": {
          "base_uri": "https://localhost:8080/",
          "height": 581
        },
        "outputId": "ca635c9a-df15-4d0f-c96b-e25003196ee6"
      },
      "execution_count": null,
      "outputs": [
        {
          "output_type": "display_data",
          "data": {
            "text/plain": [
              "<Figure size 720x576 with 2 Axes>"
            ],
            "image/png": "[encoded data removed]"
          },
          "metadata": {
            "needs_background": "light"
          }
        }
      ]
    },
    {
      "cell_type": "code",
      "source": [
        "plt.figure(figsize=(12, 4))\n",
        "plt.title(\"powerPS Distribution\",fontsize=16)\n",
        "sns.boxplot(cars.powerPS,\n",
        "            width=0.4,\n",
        "            flierprops={\"marker\": \"x\"},\n",
        "            medianprops={\"color\": \"#09E85E\"},\n",
        "            color='#2AFC98')\n",
        "plt.show()"
      ],
      "metadata": {
        "colab": {
          "base_uri": "https://localhost:8080/",
          "height": 353
        },
        "id": "ZnSBm_Jyllba",
        "outputId": "c0757a30-a006-4c71-f94c-5ca2e9965b37"
      },
      "execution_count": null,
      "outputs": [
        {
          "output_type": "stream",
          "name": "stderr",
          "text": [
            "/usr/local/lib/python3.7/dist-packages/seaborn/_decorators.py:43: FutureWarning: Pass the following variable as a keyword arg: x. From version 0.12, the only valid positional argument will be `data`, and passing other arguments without an explicit keyword will result in an error or misinterpretation.\n",
            "  FutureWarning\n"
          ]
        },
        {
          "output_type": "display_data",
          "data": {
            "text/plain": [
              "<Figure size 864x288 with 1 Axes>"
            ],
            "image/png": "[encoded data removed]"
          },
          "metadata": {
            "needs_background": "light"
          }
        }
      ]
    },
    {
      "cell_type": "code",
      "source": [
        "IQR = cars.powerPS.quantile(0.75)-cars.powerPS.quantile(0.25)\n",
        "'Значений, не входящих в нормальное распределение: '+str(len(cars.powerPS[cars.powerPS>cars.powerPS.quantile(0.75) + IQR*1.5]))"
      ],
      "metadata": {
        "colab": {
          "base_uri": "https://localhost:8080/",
          "height": 36
        },
        "id": "7sVhEYZZmBcw",
        "outputId": "e10bff03-52f8-4ac2-c617-27fab9f3e63a"
      },
      "execution_count": null,
      "outputs": [
        {
          "output_type": "execute_result",
          "data": {
            "text/plain": [
              "'Значений, не входящих в нормальное распределение: 972'"
            ],
            "application/vnd.google.colaboratory.intrinsic+json": {
              "type": "string"
            }
          },
          "metadata": {},
          "execution_count": 24
        }
      ]
    },
    {
      "cell_type": "code",
      "source": [
        "cars = cars.loc[cars.powerPS<=cars.powerPS.quantile(0.75) + IQR*1.5]"
      ],
      "metadata": {
        "id": "OqsyzbOmyudK"
      },
      "execution_count": null,
      "outputs": []
    },
    {
      "cell_type": "code",
      "source": [
        "cars.reset_index(inplace=True)"
      ],
      "metadata": {
        "id": "LsUjCuSAyQqP"
      },
      "execution_count": null,
      "outputs": []
    },
    {
      "cell_type": "code",
      "source": [
        "plt.figure(figsize=(12, 4))\n",
        "plt.title('Price Distribution',fontsize=16)\n",
        "sns.boxplot(cars.powerPS,\n",
        "            width=0.4,\n",
        "            fliersize=0.4,\n",
        "            flierprops={\"marker\": \"x\"},\n",
        "            medianprops={\"color\": \"#581F18\"},\n",
        "            color='#F0A202')\n",
        "plt.annotate(f'{len(cars.powerPS[cars.powerPS<=cars.powerPS.quantile(0.75)+(cars.powerPS.quantile(0.75)-cars.powerPS.quantile(0.25))*1.5])}/{len(cars.powerPS)} значений входят в нормальное распределение',\n",
        "             xy=(120,0.35), color='#F0A202')\n",
        "plt.show()"
      ],
      "metadata": {
        "colab": {
          "base_uri": "https://localhost:8080/",
          "height": 353
        },
        "id": "wllkSIHjmMNP",
        "outputId": "1637f160-5fd6-490b-d327-690a22e3547c"
      },
      "execution_count": null,
      "outputs": [
        {
          "output_type": "stream",
          "name": "stderr",
          "text": [
            "/usr/local/lib/python3.7/dist-packages/seaborn/_decorators.py:43: FutureWarning: Pass the following variable as a keyword arg: x. From version 0.12, the only valid positional argument will be `data`, and passing other arguments without an explicit keyword will result in an error or misinterpretation.\n",
            "  FutureWarning\n"
          ]
        },
        {
          "output_type": "display_data",
          "data": {
            "text/plain": [
              "<Figure size 864x288 with 1 Axes>"
            ],
            "image/png": "[encoded data removed]"
          },
          "metadata": {
            "needs_background": "light"
          }
        }
      ]
    },
    {
      "cell_type": "code",
      "source": [
        "cars.powerPS.describe()"
      ],
      "metadata": {
        "colab": {
          "base_uri": "https://localhost:8080/"
        },
        "id": "6uSYuG0unSfp",
        "outputId": "167ef595-0fba-467a-f6dd-93fb6eea8fd2"
      },
      "execution_count": null,
      "outputs": [
        {
          "output_type": "execute_result",
          "data": {
            "text/plain": [
              "count    45272.000000\n",
              "mean       100.367821\n",
              "std         55.922012\n",
              "min          0.000000\n",
              "25%         65.000000\n",
              "50%        102.000000\n",
              "75%        140.000000\n",
              "max        248.000000\n",
              "Name: powerPS, dtype: float64"
            ]
          },
          "metadata": {},
          "execution_count": 28
        }
      ]
    },
    {
      "cell_type": "markdown",
      "source": [
        "6. Постройте ящиковые диаграммы зависимости gearbox, fuelType, vehicleType, notRepairedDamage от price. Сделайте выводы. Можно ли убрать значения с малой частотой? Повлияет ли это на дальнейшее исследование?"
      ],
      "metadata": {
        "id": "xV6ld1yiPGtR"
      }
    },
    {
      "cell_type": "code",
      "source": [
        "sns.histplot(cars.price)"
      ],
      "metadata": {
        "colab": {
          "base_uri": "https://localhost:8080/",
          "height": 297
        },
        "id": "XPaYqmRVw4MN",
        "outputId": "689ea8d1-9046-463e-87b4-180cbedd8bb3"
      },
      "execution_count": null,
      "outputs": [
        {
          "output_type": "execute_result",
          "data": {
            "text/plain": [
              "<matplotlib.axes._subplots.AxesSubplot at 0x7f4ceeab5990>"
            ]
          },
          "metadata": {},
          "execution_count": 29
        },
        {
          "output_type": "display_data",
          "data": {
            "text/plain": [
              "<Figure size 432x288 with 1 Axes>"
            ],
            "image/png": "[encoded data removed]"
          },
          "metadata": {
            "needs_background": "light"
          }
        }
      ]
    },
    {
      "cell_type": "code",
      "source": [
        "cars[['price','gearbox', 'fuelType', 'vehicleType', 'notRepairedDamage']].head(3)"
      ],
      "metadata": {
        "id": "enco9RO1PIlI",
        "colab": {
          "base_uri": "https://localhost:8080/",
          "height": 143
        },
        "outputId": "9e12e098-8540-481e-8a30-a9834e71d4a1"
      },
      "execution_count": null,
      "outputs": [
        {
          "output_type": "execute_result",
          "data": {
            "text/plain": [
              "   price gearbox fuelType vehicleType notRepairedDamage\n",
              "0   4450  manual   diesel   limousine               NaN\n",
              "1  13299  manual   diesel         suv                no\n",
              "2   3200  manual   diesel         bus               NaN"
            ],
            "text/html": [
              "\n",
              "  <div id=\"df-5384c4e3-7786-47f0-8cf4-cb64b981b8df\">\n",
              "    <div class=\"colab-df-container\">\n",
              "      <div>\n",
              "<style scoped>\n",
              "    .dataframe tbody tr th:only-of-type {\n",
              "        vertical-align: middle;\n",
              "    }\n",
              "\n",
              "    .dataframe tbody tr th {\n",
              "        vertical-align: top;\n",
              "    }\n",
              "\n",
              "    .dataframe thead th {\n",
              "        text-align: right;\n",
              "    }\n",
              "</style>\n",
              "<table border=\"1\" class=\"dataframe\">\n",
              "  <thead>\n",
              "    <tr style=\"text-align: right;\">\n",
              "      <th></th>\n",
              "      <th>price</th>\n",
              "      <th>gearbox</th>\n",
              "      <th>fuelType</th>\n",
              "      <th>vehicleType</th>\n",
              "      <th>notRepairedDamage</th>\n",
              "    </tr>\n",
              "  </thead>\n",
              "  <tbody>\n",
              "    <tr>\n",
              "      <th>0</th>\n",
              "      <td>4450</td>\n",
              "      <td>manual</td>\n",
              "      <td>diesel</td>\n",
              "      <td>limousine</td>\n",
              "      <td>NaN</td>\n",
              "    </tr>\n",
              "    <tr>\n",
              "      <th>1</th>\n",
              "      <td>13299</td>\n",
              "      <td>manual</td>\n",
              "      <td>diesel</td>\n",
              "      <td>suv</td>\n",
              "      <td>no</td>\n",
              "    </tr>\n",
              "    <tr>\n",
              "      <th>2</th>\n",
              "      <td>3200</td>\n",
              "      <td>manual</td>\n",
              "      <td>diesel</td>\n",
              "      <td>bus</td>\n",
              "      <td>NaN</td>\n",
              "    </tr>\n",
              "  </tbody>\n",
              "</table>\n",
              "</div>\n",
              "      <button class=\"colab-df-convert\" onclick=\"convertToInteractive('df-5384c4e3-7786-47f0-8cf4-cb64b981b8df')\"\n",
              "              title=\"Convert this dataframe to an interactive table.\"\n",
              "              style=\"display:none;\">\n",
              "        \n",
              "  <svg xmlns=\"http://www.w3.org/2000/svg\" height=\"24px\"viewBox=\"0 0 24 24\"\n",
              "       width=\"24px\">\n",
              "    <path d=\"M0 0h24v24H0V0z\" fill=\"none\"/>\n",
              "    <path d=\"M18.56 5.44l.94 2.06.94-2.06 2.06-.94-2.06-.94-.94-2.06-.94 2.06-2.06.94zm-11 1L8.5 8.5l.94-2.06 2.06-.94-2.06-.94L8.5 2.5l-.94 2.06-2.06.94zm10 10l.94 2.06.94-2.06 2.06-.94-2.06-.94-.94-2.06-.94 2.06-2.06.94z\"/><path d=\"M17.41 7.96l-1.37-1.37c-.4-.4-.92-.59-1.43-.59-.52 0-1.04.2-1.43.59L10.3 9.45l-7.72 7.72c-.78.78-.78 2.05 0 2.83L4 21.41c.39.39.9.59 1.41.59.51 0 1.02-.2 1.41-.59l7.78-7.78 2.81-2.81c.8-.78.8-2.07 0-2.86zM5.41 20L4 18.59l7.72-7.72 1.47 1.35L5.41 20z\"/>\n",
              "  </svg>\n",
              "      </button>\n",
              "      \n",
              "  <style>\n",
              "    .colab-df-container {\n",
              "      display:flex;\n",
              "      flex-wrap:wrap;\n",
              "      gap: 12px;\n",
              "    }\n",
              "\n",
              "    .colab-df-convert {\n",
              "      background-color: #E8F0FE;\n",
              "      border: none;\n",
              "      border-radius: 50%;\n",
              "      cursor: pointer;\n",
              "      display: none;\n",
              "      fill: #1967D2;\n",
              "      height: 32px;\n",
              "      padding: 0 0 0 0;\n",
              "      width: 32px;\n",
              "    }\n",
              "\n",
              "    .colab-df-convert:hover {\n",
              "      background-color: #E2EBFA;\n",
              "      box-shadow: 0px 1px 2px rgba(60, 64, 67, 0.3), 0px 1px 3px 1px rgba(60, 64, 67, 0.15);\n",
              "      fill: #174EA6;\n",
              "    }\n",
              "\n",
              "    [theme=dark] .colab-df-convert {\n",
              "      background-color: #3B4455;\n",
              "      fill: #D2E3FC;\n",
              "    }\n",
              "\n",
              "    [theme=dark] .colab-df-convert:hover {\n",
              "      background-color: #434B5C;\n",
              "      box-shadow: 0px 1px 3px 1px rgba(0, 0, 0, 0.15);\n",
              "      filter: drop-shadow(0px 1px 2px rgba(0, 0, 0, 0.3));\n",
              "      fill: #FFFFFF;\n",
              "    }\n",
              "  </style>\n",
              "\n",
              "      <script>\n",
              "        const buttonEl =\n",
              "          document.querySelector('#df-5384c4e3-7786-47f0-8cf4-cb64b981b8df button.colab-df-convert');\n",
              "        buttonEl.style.display =\n",
              "          google.colab.kernel.accessAllowed ? 'block' : 'none';\n",
              "\n",
              "        async function convertToInteractive(key) {\n",
              "          const element = document.querySelector('#df-5384c4e3-7786-47f0-8cf4-cb64b981b8df');\n",
              "          const dataTable =\n",
              "            await google.colab.kernel.invokeFunction('convertToInteractive',\n",
              "                                                     [key], {});\n",
              "          if (!dataTable) return;\n",
              "\n",
              "          const docLinkHtml = 'Like what you see? Visit the ' +\n",
              "            '<a target=\"_blank\" href=https://colab.research.google.com/notebooks/data_table.ipynb>data table notebook</a>'\n",
              "            + ' to learn more about interactive tables.';\n",
              "          element.innerHTML = '';\n",
              "          dataTable['output_type'] = 'display_data';\n",
              "          await google.colab.output.renderOutput(dataTable, element);\n",
              "          const docLink = document.createElement('div');\n",
              "          docLink.innerHTML = docLinkHtml;\n",
              "          element.appendChild(docLink);\n",
              "        }\n",
              "      </script>\n",
              "    </div>\n",
              "  </div>\n",
              "  "
            ]
          },
          "metadata": {},
          "execution_count": 30
        }
      ]
    },
    {
      "cell_type": "code",
      "source": [
        "fig, axes = plt.subplots(2, 2, figsize=(16, 9))\n",
        "sns.boxplot(x=cars.price, y=cars.gearbox, palette='Set2', width=0.6, flierprops={\"marker\": \"x\"}, ax=axes[0][0])\n",
        "sns.boxplot(x=cars.price, y=cars.fuelType, palette='Set2', width=0.6, flierprops={\"marker\": \"x\"}, ax=axes[0][1])\n",
        "sns.boxplot(x=cars.price, y=cars.vehicleType, palette='Set2', width=0.6, flierprops={\"marker\": \"x\"}, ax=axes[1][0])\n",
        "sns.boxplot(x=cars.price, y=cars.notRepairedDamage, palette='Set2', width=0.6, flierprops={\"marker\": \"x\"}, ax=axes[1][1])\n",
        "plt.show()"
      ],
      "metadata": {
        "colab": {
          "base_uri": "https://localhost:8080/",
          "height": 551
        },
        "id": "KzJ_c87gsP-b",
        "outputId": "2c38cf0d-249c-451c-d2f7-53244f807e74"
      },
      "execution_count": null,
      "outputs": [
        {
          "output_type": "display_data",
          "data": {
            "text/plain": [
              "<Figure size 1152x648 with 4 Axes>"
            ],
            "image/png": "[encoded data removed]"
          },
          "metadata": {
            "needs_background": "light"
          }
        }
      ]
    },
    {
      "cell_type": "markdown",
      "source": [
        "$\\text{1. На автоматическую коробку передач в среднем цена выше, чем на ручную, а также, для РКП выбросов гораздо больше}$\n",
        "$\\text{2. Равноменее всего расположена цена на автомобили с гибридным типом топлива, наибольшее среднее значение цен на электрокары.}$\n",
        "$\\text{Больше всего выбросов цен на авто с бензин в качестве топлива.}$\n",
        "$\\text{3. Равноменее всего расположена цена на внедорожники, на них же наибольшее среднее значение цен. Больше всего аномальных цен для маленьких автомобилей}$\n",
        "$\\text{4. На автомобили без неремонтируемых повреждений в среднем цена выше, чем на ручную, для авто с неремонтируемыми повреждениями выбросов гораздо больше}$"
      ],
      "metadata": {
        "id": "NL17aJOK0dAE"
      }
    },
    {
      "cell_type": "code",
      "source": [
        "cars[['price','fuelType']].groupby(by=\"fuelType\").count().T.apply(lambda x: round(x/(len(cars.fuelType) - cars.fuelType.isna().sum()),4)*100)"
      ],
      "metadata": {
        "colab": {
          "base_uri": "https://localhost:8080/",
          "height": 81
        },
        "id": "Boc2M2nry-1F",
        "outputId": "91784e70-4983-45b9-b5d8-b0d095f201e6"
      },
      "execution_count": null,
      "outputs": [
        {
          "output_type": "execute_result",
          "data": {
            "text/plain": [
              "fuelType  cng  diesel  electro  hybrid   lpg  other  petrol\n",
              "price     0.2   30.04     0.03    0.06  1.65   0.06   67.96"
            ],
            "text/html": [
              "\n",
              "  <div id=\"df-efb35d6e-6213-4fbd-ac05-9db7e8542a94\">\n",
              "    <div class=\"colab-df-container\">\n",
              "      <div>\n",
              "<style scoped>\n",
              "    .dataframe tbody tr th:only-of-type {\n",
              "        vertical-align: middle;\n",
              "    }\n",
              "\n",
              "    .dataframe tbody tr th {\n",
              "        vertical-align: top;\n",
              "    }\n",
              "\n",
              "    .dataframe thead th {\n",
              "        text-align: right;\n",
              "    }\n",
              "</style>\n",
              "<table border=\"1\" class=\"dataframe\">\n",
              "  <thead>\n",
              "    <tr style=\"text-align: right;\">\n",
              "      <th>fuelType</th>\n",
              "      <th>cng</th>\n",
              "      <th>diesel</th>\n",
              "      <th>electro</th>\n",
              "      <th>hybrid</th>\n",
              "      <th>lpg</th>\n",
              "      <th>other</th>\n",
              "      <th>petrol</th>\n",
              "    </tr>\n",
              "  </thead>\n",
              "  <tbody>\n",
              "    <tr>\n",
              "      <th>price</th>\n",
              "      <td>0.2</td>\n",
              "      <td>30.04</td>\n",
              "      <td>0.03</td>\n",
              "      <td>0.06</td>\n",
              "      <td>1.65</td>\n",
              "      <td>0.06</td>\n",
              "      <td>67.96</td>\n",
              "    </tr>\n",
              "  </tbody>\n",
              "</table>\n",
              "</div>\n",
              "      <button class=\"colab-df-convert\" onclick=\"convertToInteractive('df-efb35d6e-6213-4fbd-ac05-9db7e8542a94')\"\n",
              "              title=\"Convert this dataframe to an interactive table.\"\n",
              "              style=\"display:none;\">\n",
              "        \n",
              "  <svg xmlns=\"http://www.w3.org/2000/svg\" height=\"24px\"viewBox=\"0 0 24 24\"\n",
              "       width=\"24px\">\n",
              "    <path d=\"M0 0h24v24H0V0z\" fill=\"none\"/>\n",
              "    <path d=\"M18.56 5.44l.94 2.06.94-2.06 2.06-.94-2.06-.94-.94-2.06-.94 2.06-2.06.94zm-11 1L8.5 8.5l.94-2.06 2.06-.94-2.06-.94L8.5 2.5l-.94 2.06-2.06.94zm10 10l.94 2.06.94-2.06 2.06-.94-2.06-.94-.94-2.06-.94 2.06-2.06.94z\"/><path d=\"M17.41 7.96l-1.37-1.37c-.4-.4-.92-.59-1.43-.59-.52 0-1.04.2-1.43.59L10.3 9.45l-7.72 7.72c-.78.78-.78 2.05 0 2.83L4 21.41c.39.39.9.59 1.41.59.51 0 1.02-.2 1.41-.59l7.78-7.78 2.81-2.81c.8-.78.8-2.07 0-2.86zM5.41 20L4 18.59l7.72-7.72 1.47 1.35L5.41 20z\"/>\n",
              "  </svg>\n",
              "      </button>\n",
              "      \n",
              "  <style>\n",
              "    .colab-df-container {\n",
              "      display:flex;\n",
              "      flex-wrap:wrap;\n",
              "      gap: 12px;\n",
              "    }\n",
              "\n",
              "    .colab-df-convert {\n",
              "      background-color: #E8F0FE;\n",
              "      border: none;\n",
              "      border-radius: 50%;\n",
              "      cursor: pointer;\n",
              "      display: none;\n",
              "      fill: #1967D2;\n",
              "      height: 32px;\n",
              "      padding: 0 0 0 0;\n",
              "      width: 32px;\n",
              "    }\n",
              "\n",
              "    .colab-df-convert:hover {\n",
              "      background-color: #E2EBFA;\n",
              "      box-shadow: 0px 1px 2px rgba(60, 64, 67, 0.3), 0px 1px 3px 1px rgba(60, 64, 67, 0.15);\n",
              "      fill: #174EA6;\n",
              "    }\n",
              "\n",
              "    [theme=dark] .colab-df-convert {\n",
              "      background-color: #3B4455;\n",
              "      fill: #D2E3FC;\n",
              "    }\n",
              "\n",
              "    [theme=dark] .colab-df-convert:hover {\n",
              "      background-color: #434B5C;\n",
              "      box-shadow: 0px 1px 3px 1px rgba(0, 0, 0, 0.15);\n",
              "      filter: drop-shadow(0px 1px 2px rgba(0, 0, 0, 0.3));\n",
              "      fill: #FFFFFF;\n",
              "    }\n",
              "  </style>\n",
              "\n",
              "      <script>\n",
              "        const buttonEl =\n",
              "          document.querySelector('#df-efb35d6e-6213-4fbd-ac05-9db7e8542a94 button.colab-df-convert');\n",
              "        buttonEl.style.display =\n",
              "          google.colab.kernel.accessAllowed ? 'block' : 'none';\n",
              "\n",
              "        async function convertToInteractive(key) {\n",
              "          const element = document.querySelector('#df-efb35d6e-6213-4fbd-ac05-9db7e8542a94');\n",
              "          const dataTable =\n",
              "            await google.colab.kernel.invokeFunction('convertToInteractive',\n",
              "                                                     [key], {});\n",
              "          if (!dataTable) return;\n",
              "\n",
              "          const docLinkHtml = 'Like what you see? Visit the ' +\n",
              "            '<a target=\"_blank\" href=https://colab.research.google.com/notebooks/data_table.ipynb>data table notebook</a>'\n",
              "            + ' to learn more about interactive tables.';\n",
              "          element.innerHTML = '';\n",
              "          dataTable['output_type'] = 'display_data';\n",
              "          await google.colab.output.renderOutput(dataTable, element);\n",
              "          const docLink = document.createElement('div');\n",
              "          docLink.innerHTML = docLinkHtml;\n",
              "          element.appendChild(docLink);\n",
              "        }\n",
              "      </script>\n",
              "    </div>\n",
              "  </div>\n",
              "  "
            ]
          },
          "metadata": {},
          "execution_count": 32
        }
      ]
    },
    {
      "cell_type": "code",
      "source": [
        "cars[['price','vehicleType']].groupby(by=\"vehicleType\").count().T.apply(lambda x: round(x/(len(cars.vehicleType) - cars.vehicleType.isna().sum()),4)*100)"
      ],
      "metadata": {
        "colab": {
          "base_uri": "https://localhost:8080/",
          "height": 81
        },
        "id": "PxvhtHF7zCOv",
        "outputId": "b20f4746-bbf3-460a-8b9c-e78b06bf3341"
      },
      "execution_count": null,
      "outputs": [
        {
          "output_type": "execute_result",
          "data": {
            "text/plain": [
              "vehicleType  bus  cabrio  coupe  limousine  others  small car  station wagon  \\\n",
              "price        9.1    6.13   4.58      28.82    1.05      26.49          20.44   \n",
              "\n",
              "vehicleType   suv  \n",
              "price        3.38  "
            ],
            "text/html": [
              "\n",
              "  <div id=\"df-f0f779ff-1a08-4ca7-a004-dd1c013128ef\">\n",
              "    <div class=\"colab-df-container\">\n",
              "      <div>\n",
              "<style scoped>\n",
              "    .dataframe tbody tr th:only-of-type {\n",
              "        vertical-align: middle;\n",
              "    }\n",
              "\n",
              "    .dataframe tbody tr th {\n",
              "        vertical-align: top;\n",
              "    }\n",
              "\n",
              "    .dataframe thead th {\n",
              "        text-align: right;\n",
              "    }\n",
              "</style>\n",
              "<table border=\"1\" class=\"dataframe\">\n",
              "  <thead>\n",
              "    <tr style=\"text-align: right;\">\n",
              "      <th>vehicleType</th>\n",
              "      <th>bus</th>\n",
              "      <th>cabrio</th>\n",
              "      <th>coupe</th>\n",
              "      <th>limousine</th>\n",
              "      <th>others</th>\n",
              "      <th>small car</th>\n",
              "      <th>station wagon</th>\n",
              "      <th>suv</th>\n",
              "    </tr>\n",
              "  </thead>\n",
              "  <tbody>\n",
              "    <tr>\n",
              "      <th>price</th>\n",
              "      <td>9.1</td>\n",
              "      <td>6.13</td>\n",
              "      <td>4.58</td>\n",
              "      <td>28.82</td>\n",
              "      <td>1.05</td>\n",
              "      <td>26.49</td>\n",
              "      <td>20.44</td>\n",
              "      <td>3.38</td>\n",
              "    </tr>\n",
              "  </tbody>\n",
              "</table>\n",
              "</div>\n",
              "      <button class=\"colab-df-convert\" onclick=\"convertToInteractive('df-f0f779ff-1a08-4ca7-a004-dd1c013128ef')\"\n",
              "              title=\"Convert this dataframe to an interactive table.\"\n",
              "              style=\"display:none;\">\n",
              "        \n",
              "  <svg xmlns=\"http://www.w3.org/2000/svg\" height=\"24px\"viewBox=\"0 0 24 24\"\n",
              "       width=\"24px\">\n",
              "    <path d=\"M0 0h24v24H0V0z\" fill=\"none\"/>\n",
              "    <path d=\"M18.56 5.44l.94 2.06.94-2.06 2.06-.94-2.06-.94-.94-2.06-.94 2.06-2.06.94zm-11 1L8.5 8.5l.94-2.06 2.06-.94-2.06-.94L8.5 2.5l-.94 2.06-2.06.94zm10 10l.94 2.06.94-2.06 2.06-.94-2.06-.94-.94-2.06-.94 2.06-2.06.94z\"/><path d=\"M17.41 7.96l-1.37-1.37c-.4-.4-.92-.59-1.43-.59-.52 0-1.04.2-1.43.59L10.3 9.45l-7.72 7.72c-.78.78-.78 2.05 0 2.83L4 21.41c.39.39.9.59 1.41.59.51 0 1.02-.2 1.41-.59l7.78-7.78 2.81-2.81c.8-.78.8-2.07 0-2.86zM5.41 20L4 18.59l7.72-7.72 1.47 1.35L5.41 20z\"/>\n",
              "  </svg>\n",
              "      </button>\n",
              "      \n",
              "  <style>\n",
              "    .colab-df-container {\n",
              "      display:flex;\n",
              "      flex-wrap:wrap;\n",
              "      gap: 12px;\n",
              "    }\n",
              "\n",
              "    .colab-df-convert {\n",
              "      background-color: #E8F0FE;\n",
              "      border: none;\n",
              "      border-radius: 50%;\n",
              "      cursor: pointer;\n",
              "      display: none;\n",
              "      fill: #1967D2;\n",
              "      height: 32px;\n",
              "      padding: 0 0 0 0;\n",
              "      width: 32px;\n",
              "    }\n",
              "\n",
              "    .colab-df-convert:hover {\n",
              "      background-color: #E2EBFA;\n",
              "      box-shadow: 0px 1px 2px rgba(60, 64, 67, 0.3), 0px 1px 3px 1px rgba(60, 64, 67, 0.15);\n",
              "      fill: #174EA6;\n",
              "    }\n",
              "\n",
              "    [theme=dark] .colab-df-convert {\n",
              "      background-color: #3B4455;\n",
              "      fill: #D2E3FC;\n",
              "    }\n",
              "\n",
              "    [theme=dark] .colab-df-convert:hover {\n",
              "      background-color: #434B5C;\n",
              "      box-shadow: 0px 1px 3px 1px rgba(0, 0, 0, 0.15);\n",
              "      filter: drop-shadow(0px 1px 2px rgba(0, 0, 0, 0.3));\n",
              "      fill: #FFFFFF;\n",
              "    }\n",
              "  </style>\n",
              "\n",
              "      <script>\n",
              "        const buttonEl =\n",
              "          document.querySelector('#df-f0f779ff-1a08-4ca7-a004-dd1c013128ef button.colab-df-convert');\n",
              "        buttonEl.style.display =\n",
              "          google.colab.kernel.accessAllowed ? 'block' : 'none';\n",
              "\n",
              "        async function convertToInteractive(key) {\n",
              "          const element = document.querySelector('#df-f0f779ff-1a08-4ca7-a004-dd1c013128ef');\n",
              "          const dataTable =\n",
              "            await google.colab.kernel.invokeFunction('convertToInteractive',\n",
              "                                                     [key], {});\n",
              "          if (!dataTable) return;\n",
              "\n",
              "          const docLinkHtml = 'Like what you see? Visit the ' +\n",
              "            '<a target=\"_blank\" href=https://colab.research.google.com/notebooks/data_table.ipynb>data table notebook</a>'\n",
              "            + ' to learn more about interactive tables.';\n",
              "          element.innerHTML = '';\n",
              "          dataTable['output_type'] = 'display_data';\n",
              "          await google.colab.output.renderOutput(dataTable, element);\n",
              "          const docLink = document.createElement('div');\n",
              "          docLink.innerHTML = docLinkHtml;\n",
              "          element.appendChild(docLink);\n",
              "        }\n",
              "      </script>\n",
              "    </div>\n",
              "  </div>\n",
              "  "
            ]
          },
          "metadata": {},
          "execution_count": 33
        }
      ]
    },
    {
      "cell_type": "markdown",
      "source": [
        "7. Найдите пропуски. Удалите столбцы, которые содержат большое количество пропусков. В остальных случаях постарайтесь восстановить пропущенные значения."
      ],
      "metadata": {
        "id": "yzOGr-YiPJDf"
      }
    },
    {
      "cell_type": "code",
      "source": [
        "frequency_isna = pd.DataFrame(cars.isna().sum().apply(lambda x: round(x/len(cars)*100,2)), columns=['frequency'])\n",
        "frequency_isna[frequency_isna.frequency>0]"
      ],
      "metadata": {
        "id": "HPnyaEUWPKib",
        "colab": {
          "base_uri": "https://localhost:8080/",
          "height": 206
        },
        "outputId": "eab492a6-fb91-4ffe-e4b0-1e81a0897c7a"
      },
      "execution_count": null,
      "outputs": [
        {
          "output_type": "execute_result",
          "data": {
            "text/plain": [
              "                   frequency\n",
              "vehicleType            11.16\n",
              "gearbox                 6.03\n",
              "model                   5.54\n",
              "fuelType                9.54\n",
              "notRepairedDamage      20.68"
            ],
            "text/html": [
              "\n",
              "  <div id=\"df-c8d8d533-8641-4eea-8eb1-b986f3768cbe\">\n",
              "    <div class=\"colab-df-container\">\n",
              "      <div>\n",
              "<style scoped>\n",
              "    .dataframe tbody tr th:only-of-type {\n",
              "        vertical-align: middle;\n",
              "    }\n",
              "\n",
              "    .dataframe tbody tr th {\n",
              "        vertical-align: top;\n",
              "    }\n",
              "\n",
              "    .dataframe thead th {\n",
              "        text-align: right;\n",
              "    }\n",
              "</style>\n",
              "<table border=\"1\" class=\"dataframe\">\n",
              "  <thead>\n",
              "    <tr style=\"text-align: right;\">\n",
              "      <th></th>\n",
              "      <th>frequency</th>\n",
              "    </tr>\n",
              "  </thead>\n",
              "  <tbody>\n",
              "    <tr>\n",
              "      <th>vehicleType</th>\n",
              "      <td>11.16</td>\n",
              "    </tr>\n",
              "    <tr>\n",
              "      <th>gearbox</th>\n",
              "      <td>6.03</td>\n",
              "    </tr>\n",
              "    <tr>\n",
              "      <th>model</th>\n",
              "      <td>5.54</td>\n",
              "    </tr>\n",
              "    <tr>\n",
              "      <th>fuelType</th>\n",
              "      <td>9.54</td>\n",
              "    </tr>\n",
              "    <tr>\n",
              "      <th>notRepairedDamage</th>\n",
              "      <td>20.68</td>\n",
              "    </tr>\n",
              "  </tbody>\n",
              "</table>\n",
              "</div>\n",
              "      <button class=\"colab-df-convert\" onclick=\"convertToInteractive('df-c8d8d533-8641-4eea-8eb1-b986f3768cbe')\"\n",
              "              title=\"Convert this dataframe to an interactive table.\"\n",
              "              style=\"display:none;\">\n",
              "        \n",
              "  <svg xmlns=\"http://www.w3.org/2000/svg\" height=\"24px\"viewBox=\"0 0 24 24\"\n",
              "       width=\"24px\">\n",
              "    <path d=\"M0 0h24v24H0V0z\" fill=\"none\"/>\n",
              "    <path d=\"M18.56 5.44l.94 2.06.94-2.06 2.06-.94-2.06-.94-.94-2.06-.94 2.06-2.06.94zm-11 1L8.5 8.5l.94-2.06 2.06-.94-2.06-.94L8.5 2.5l-.94 2.06-2.06.94zm10 10l.94 2.06.94-2.06 2.06-.94-2.06-.94-.94-2.06-.94 2.06-2.06.94z\"/><path d=\"M17.41 7.96l-1.37-1.37c-.4-.4-.92-.59-1.43-.59-.52 0-1.04.2-1.43.59L10.3 9.45l-7.72 7.72c-.78.78-.78 2.05 0 2.83L4 21.41c.39.39.9.59 1.41.59.51 0 1.02-.2 1.41-.59l7.78-7.78 2.81-2.81c.8-.78.8-2.07 0-2.86zM5.41 20L4 18.59l7.72-7.72 1.47 1.35L5.41 20z\"/>\n",
              "  </svg>\n",
              "      </button>\n",
              "      \n",
              "  <style>\n",
              "    .colab-df-container {\n",
              "      display:flex;\n",
              "      flex-wrap:wrap;\n",
              "      gap: 12px;\n",
              "    }\n",
              "\n",
              "    .colab-df-convert {\n",
              "      background-color: #E8F0FE;\n",
              "      border: none;\n",
              "      border-radius: 50%;\n",
              "      cursor: pointer;\n",
              "      display: none;\n",
              "      fill: #1967D2;\n",
              "      height: 32px;\n",
              "      padding: 0 0 0 0;\n",
              "      width: 32px;\n",
              "    }\n",
              "\n",
              "    .colab-df-convert:hover {\n",
              "      background-color: #E2EBFA;\n",
              "      box-shadow: 0px 1px 2px rgba(60, 64, 67, 0.3), 0px 1px 3px 1px rgba(60, 64, 67, 0.15);\n",
              "      fill: #174EA6;\n",
              "    }\n",
              "\n",
              "    [theme=dark] .colab-df-convert {\n",
              "      background-color: #3B4455;\n",
              "      fill: #D2E3FC;\n",
              "    }\n",
              "\n",
              "    [theme=dark] .colab-df-convert:hover {\n",
              "      background-color: #434B5C;\n",
              "      box-shadow: 0px 1px 3px 1px rgba(0, 0, 0, 0.15);\n",
              "      filter: drop-shadow(0px 1px 2px rgba(0, 0, 0, 0.3));\n",
              "      fill: #FFFFFF;\n",
              "    }\n",
              "  </style>\n",
              "\n",
              "      <script>\n",
              "        const buttonEl =\n",
              "          document.querySelector('#df-c8d8d533-8641-4eea-8eb1-b986f3768cbe button.colab-df-convert');\n",
              "        buttonEl.style.display =\n",
              "          google.colab.kernel.accessAllowed ? 'block' : 'none';\n",
              "\n",
              "        async function convertToInteractive(key) {\n",
              "          const element = document.querySelector('#df-c8d8d533-8641-4eea-8eb1-b986f3768cbe');\n",
              "          const dataTable =\n",
              "            await google.colab.kernel.invokeFunction('convertToInteractive',\n",
              "                                                     [key], {});\n",
              "          if (!dataTable) return;\n",
              "\n",
              "          const docLinkHtml = 'Like what you see? Visit the ' +\n",
              "            '<a target=\"_blank\" href=https://colab.research.google.com/notebooks/data_table.ipynb>data table notebook</a>'\n",
              "            + ' to learn more about interactive tables.';\n",
              "          element.innerHTML = '';\n",
              "          dataTable['output_type'] = 'display_data';\n",
              "          await google.colab.output.renderOutput(dataTable, element);\n",
              "          const docLink = document.createElement('div');\n",
              "          docLink.innerHTML = docLinkHtml;\n",
              "          element.appendChild(docLink);\n",
              "        }\n",
              "      </script>\n",
              "    </div>\n",
              "  </div>\n",
              "  "
            ]
          },
          "metadata": {},
          "execution_count": 34
        }
      ]
    },
    {
      "cell_type": "code",
      "source": [
        "cars.drop(columns=['vehicleType','notRepairedDamage'], inplace=True)"
      ],
      "metadata": {
        "colab": {
          "base_uri": "https://localhost:8080/"
        },
        "id": "l8hTGMSy9G7w",
        "outputId": "3b13bf88-b1b0-4fda-bef8-03e7d5996dc5"
      },
      "execution_count": null,
      "outputs": [
        {
          "output_type": "stream",
          "name": "stderr",
          "text": [
            "/usr/local/lib/python3.7/dist-packages/pandas/core/frame.py:4913: SettingWithCopyWarning: \n",
            "A value is trying to be set on a copy of a slice from a DataFrame\n",
            "\n",
            "See the caveats in the documentation: https://pandas.pydata.org/pandas-docs/stable/user_guide/indexing.html#returning-a-view-versus-a-copy\n",
            "  errors=errors,\n"
          ]
        }
      ]
    },
    {
      "cell_type": "code",
      "source": [
        "cars.gearbox.fillna(cars.gearbox.mode().values[0], inplace=True)\n",
        "cars.gearbox.isna().sum()"
      ],
      "metadata": {
        "colab": {
          "base_uri": "https://localhost:8080/"
        },
        "id": "hL1HJ3VE9YWw",
        "outputId": "25d82948-3296-4f62-eb36-0d9b889b691d"
      },
      "execution_count": null,
      "outputs": [
        {
          "output_type": "stream",
          "name": "stderr",
          "text": [
            "/usr/local/lib/python3.7/dist-packages/pandas/core/generic.py:6392: SettingWithCopyWarning: \n",
            "A value is trying to be set on a copy of a slice from a DataFrame\n",
            "\n",
            "See the caveats in the documentation: https://pandas.pydata.org/pandas-docs/stable/user_guide/indexing.html#returning-a-view-versus-a-copy\n",
            "  return self._update_inplace(result)\n"
          ]
        },
        {
          "output_type": "execute_result",
          "data": {
            "text/plain": [
              "0"
            ]
          },
          "metadata": {},
          "execution_count": 36
        }
      ]
    },
    {
      "cell_type": "code",
      "source": [
        "cars.model.fillna(cars.model.mode().values[0], inplace=True)\n",
        "cars.model.isna().sum()"
      ],
      "metadata": {
        "colab": {
          "base_uri": "https://localhost:8080/"
        },
        "id": "IizGwpPu9ncI",
        "outputId": "3e10cc0f-9b6a-4422-cbf1-76297cbac0f4"
      },
      "execution_count": null,
      "outputs": [
        {
          "output_type": "execute_result",
          "data": {
            "text/plain": [
              "0"
            ]
          },
          "metadata": {},
          "execution_count": 37
        }
      ]
    },
    {
      "cell_type": "code",
      "source": [
        "cars.fuelType.fillna(cars.fuelType.mode().values[0], inplace=True)\n",
        "cars.fuelType.isna().sum()"
      ],
      "metadata": {
        "colab": {
          "base_uri": "https://localhost:8080/"
        },
        "id": "yA9wbdlH-C7d",
        "outputId": "7ed9eb56-e775-4906-de50-dadf132e43bc"
      },
      "execution_count": null,
      "outputs": [
        {
          "output_type": "execute_result",
          "data": {
            "text/plain": [
              "0"
            ]
          },
          "metadata": {},
          "execution_count": 38
        }
      ]
    },
    {
      "cell_type": "code",
      "source": [
        "cars.isna().sum().sum()"
      ],
      "metadata": {
        "colab": {
          "base_uri": "https://localhost:8080/"
        },
        "id": "NoRzJSC2-HA2",
        "outputId": "bdd480fe-a9e6-4bed-f7ba-06d1edcee0fa"
      },
      "execution_count": null,
      "outputs": [
        {
          "output_type": "execute_result",
          "data": {
            "text/plain": [
              "0"
            ]
          },
          "metadata": {},
          "execution_count": 39
        }
      ]
    },
    {
      "cell_type": "markdown",
      "source": [
        "8. Сохраните полученный датасет и выведете его."
      ],
      "metadata": {
        "id": "VG06Dm6wPLaZ"
      }
    },
    {
      "cell_type": "code",
      "source": [
        "cars.head()"
      ],
      "metadata": {
        "id": "QL3pU2MzPNAE",
        "colab": {
          "base_uri": "https://localhost:8080/",
          "height": 444
        },
        "outputId": "70e359b5-0159-4fd7-f76f-b3aaab66f947"
      },
      "execution_count": null,
      "outputs": [
        {
          "output_type": "execute_result",
          "data": {
            "text/plain": [
              "          dateCrawled                                      name   seller  \\\n",
              "0 2016-03-30 13:51:00                              Zu_verkaufen  private   \n",
              "1 2016-07-03 09:54:00                    Volvo_XC90_2.4D_Summum  private   \n",
              "2 2016-01-04 00:57:00                         Volkswagen_Touran  private   \n",
              "3 2016-03-19 17:50:00              Seat_Ibiza_1.4_16V_Reference  private   \n",
              "5 2016-02-04 12:51:00  VW_Passat_35i_Facelift_Limousine_TÜV_Neu  private   \n",
              "\n",
              "  offerType  price   abtest  yearOfRegistration gearbox  powerPS     model  \\\n",
              "0     offer   4450     test                2003  manual      150       3er   \n",
              "1     offer  13299  control                2005  manual      163  xc_reihe   \n",
              "2     offer   3200     test                2003  manual      101    touran   \n",
              "3     offer   4500  control                2006  manual       86     ibiza   \n",
              "5     offer    988     test                1995  manual       90    passat   \n",
              "\n",
              "   kilometer  monthOfRegistration fuelType       brand dateCreated  \\\n",
              "0     150000                    3   diesel         bmw  2016-03-30   \n",
              "1     150000                    6   diesel       volvo  2016-07-03   \n",
              "2     150000                   11   diesel  volkswagen  2016-03-31   \n",
              "3      60000                   12   petrol        seat  2016-03-19   \n",
              "5     150000                    2   petrol  volkswagen  2016-02-04   \n",
              "\n",
              "   postalCode            lastSeen  \n",
              "0       20257 2016-07-04 04:44:00  \n",
              "1       88045 2016-03-26 13:17:00  \n",
              "2       27449 2016-01-04 08:40:00  \n",
              "3       34537 2016-07-04 04:44:00  \n",
              "5       26826 2016-02-04 12:51:00  "
            ],
            "text/html": [
              "\n",
              "  <div id=\"df-df3d346f-0728-4037-8f78-23d251408bf4\">\n",
              "    <div class=\"colab-df-container\">\n",
              "      <div>\n",
              "<style scoped>\n",
              "    .dataframe tbody tr th:only-of-type {\n",
              "        vertical-align: middle;\n",
              "    }\n",
              "\n",
              "    .dataframe tbody tr th {\n",
              "        vertical-align: top;\n",
              "    }\n",
              "\n",
              "    .dataframe thead th {\n",
              "        text-align: right;\n",
              "    }\n",
              "</style>\n",
              "<table border=\"1\" class=\"dataframe\">\n",
              "  <thead>\n",
              "    <tr style=\"text-align: right;\">\n",
              "      <th></th>\n",
              "      <th>dateCrawled</th>\n",
              "      <th>name</th>\n",
              "      <th>seller</th>\n",
              "      <th>offerType</th>\n",
              "      <th>price</th>\n",
              "      <th>abtest</th>\n",
              "      <th>yearOfRegistration</th>\n",
              "      <th>gearbox</th>\n",
              "      <th>powerPS</th>\n",
              "      <th>model</th>\n",
              "      <th>kilometer</th>\n",
              "      <th>monthOfRegistration</th>\n",
              "      <th>fuelType</th>\n",
              "      <th>brand</th>\n",
              "      <th>dateCreated</th>\n",
              "      <th>postalCode</th>\n",
              "      <th>lastSeen</th>\n",
              "    </tr>\n",
              "  </thead>\n",
              "  <tbody>\n",
              "    <tr>\n",
              "      <th>0</th>\n",
              "      <td>2016-03-30 13:51:00</td>\n",
              "      <td>Zu_verkaufen</td>\n",
              "      <td>private</td>\n",
              "      <td>offer</td>\n",
              "      <td>4450</td>\n",
              "      <td>test</td>\n",
              "      <td>2003</td>\n",
              "      <td>manual</td>\n",
              "      <td>150</td>\n",
              "      <td>3er</td>\n",
              "      <td>150000</td>\n",
              "      <td>3</td>\n",
              "      <td>diesel</td>\n",
              "      <td>bmw</td>\n",
              "      <td>2016-03-30</td>\n",
              "      <td>20257</td>\n",
              "      <td>2016-07-04 04:44:00</td>\n",
              "    </tr>\n",
              "    <tr>\n",
              "      <th>1</th>\n",
              "      <td>2016-07-03 09:54:00</td>\n",
              "      <td>Volvo_XC90_2.4D_Summum</td>\n",
              "      <td>private</td>\n",
              "      <td>offer</td>\n",
              "      <td>13299</td>\n",
              "      <td>control</td>\n",
              "      <td>2005</td>\n",
              "      <td>manual</td>\n",
              "      <td>163</td>\n",
              "      <td>xc_reihe</td>\n",
              "      <td>150000</td>\n",
              "      <td>6</td>\n",
              "      <td>diesel</td>\n",
              "      <td>volvo</td>\n",
              "      <td>2016-07-03</td>\n",
              "      <td>88045</td>\n",
              "      <td>2016-03-26 13:17:00</td>\n",
              "    </tr>\n",
              "    <tr>\n",
              "      <th>2</th>\n",
              "      <td>2016-01-04 00:57:00</td>\n",
              "      <td>Volkswagen_Touran</td>\n",
              "      <td>private</td>\n",
              "      <td>offer</td>\n",
              "      <td>3200</td>\n",
              "      <td>test</td>\n",
              "      <td>2003</td>\n",
              "      <td>manual</td>\n",
              "      <td>101</td>\n",
              "      <td>touran</td>\n",
              "      <td>150000</td>\n",
              "      <td>11</td>\n",
              "      <td>diesel</td>\n",
              "      <td>volkswagen</td>\n",
              "      <td>2016-03-31</td>\n",
              "      <td>27449</td>\n",
              "      <td>2016-01-04 08:40:00</td>\n",
              "    </tr>\n",
              "    <tr>\n",
              "      <th>3</th>\n",
              "      <td>2016-03-19 17:50:00</td>\n",
              "      <td>Seat_Ibiza_1.4_16V_Reference</td>\n",
              "      <td>private</td>\n",
              "      <td>offer</td>\n",
              "      <td>4500</td>\n",
              "      <td>control</td>\n",
              "      <td>2006</td>\n",
              "      <td>manual</td>\n",
              "      <td>86</td>\n",
              "      <td>ibiza</td>\n",
              "      <td>60000</td>\n",
              "      <td>12</td>\n",
              "      <td>petrol</td>\n",
              "      <td>seat</td>\n",
              "      <td>2016-03-19</td>\n",
              "      <td>34537</td>\n",
              "      <td>2016-07-04 04:44:00</td>\n",
              "    </tr>\n",
              "    <tr>\n",
              "      <th>5</th>\n",
              "      <td>2016-02-04 12:51:00</td>\n",
              "      <td>VW_Passat_35i_Facelift_Limousine_TÜV_Neu</td>\n",
              "      <td>private</td>\n",
              "      <td>offer</td>\n",
              "      <td>988</td>\n",
              "      <td>test</td>\n",
              "      <td>1995</td>\n",
              "      <td>manual</td>\n",
              "      <td>90</td>\n",
              "      <td>passat</td>\n",
              "      <td>150000</td>\n",
              "      <td>2</td>\n",
              "      <td>petrol</td>\n",
              "      <td>volkswagen</td>\n",
              "      <td>2016-02-04</td>\n",
              "      <td>26826</td>\n",
              "      <td>2016-02-04 12:51:00</td>\n",
              "    </tr>\n",
              "  </tbody>\n",
              "</table>\n",
              "</div>\n",
              "      <button class=\"colab-df-convert\" onclick=\"convertToInteractive('df-df3d346f-0728-4037-8f78-23d251408bf4')\"\n",
              "              title=\"Convert this dataframe to an interactive table.\"\n",
              "              style=\"display:none;\">\n",
              "        \n",
              "  <svg xmlns=\"http://www.w3.org/2000/svg\" height=\"24px\"viewBox=\"0 0 24 24\"\n",
              "       width=\"24px\">\n",
              "    <path d=\"M0 0h24v24H0V0z\" fill=\"none\"/>\n",
              "    <path d=\"M18.56 5.44l.94 2.06.94-2.06 2.06-.94-2.06-.94-.94-2.06-.94 2.06-2.06.94zm-11 1L8.5 8.5l.94-2.06 2.06-.94-2.06-.94L8.5 2.5l-.94 2.06-2.06.94zm10 10l.94 2.06.94-2.06 2.06-.94-2.06-.94-.94-2.06-.94 2.06-2.06.94z\"/><path d=\"M17.41 7.96l-1.37-1.37c-.4-.4-.92-.59-1.43-.59-.52 0-1.04.2-1.43.59L10.3 9.45l-7.72 7.72c-.78.78-.78 2.05 0 2.83L4 21.41c.39.39.9.59 1.41.59.51 0 1.02-.2 1.41-.59l7.78-7.78 2.81-2.81c.8-.78.8-2.07 0-2.86zM5.41 20L4 18.59l7.72-7.72 1.47 1.35L5.41 20z\"/>\n",
              "  </svg>\n",
              "      </button>\n",
              "      \n",
              "  <style>\n",
              "    .colab-df-container {\n",
              "      display:flex;\n",
              "      flex-wrap:wrap;\n",
              "      gap: 12px;\n",
              "    }\n",
              "\n",
              "    .colab-df-convert {\n",
              "      background-color: #E8F0FE;\n",
              "      border: none;\n",
              "      border-radius: 50%;\n",
              "      cursor: pointer;\n",
              "      display: none;\n",
              "      fill: #1967D2;\n",
              "      height: 32px;\n",
              "      padding: 0 0 0 0;\n",
              "      width: 32px;\n",
              "    }\n",
              "\n",
              "    .colab-df-convert:hover {\n",
              "      background-color: #E2EBFA;\n",
              "      box-shadow: 0px 1px 2px rgba(60, 64, 67, 0.3), 0px 1px 3px 1px rgba(60, 64, 67, 0.15);\n",
              "      fill: #174EA6;\n",
              "    }\n",
              "\n",
              "    [theme=dark] .colab-df-convert {\n",
              "      background-color: #3B4455;\n",
              "      fill: #D2E3FC;\n",
              "    }\n",
              "\n",
              "    [theme=dark] .colab-df-convert:hover {\n",
              "      background-color: #434B5C;\n",
              "      box-shadow: 0px 1px 3px 1px rgba(0, 0, 0, 0.15);\n",
              "      filter: drop-shadow(0px 1px 2px rgba(0, 0, 0, 0.3));\n",
              "      fill: #FFFFFF;\n",
              "    }\n",
              "  </style>\n",
              "\n",
              "      <script>\n",
              "        const buttonEl =\n",
              "          document.querySelector('#df-df3d346f-0728-4037-8f78-23d251408bf4 button.colab-df-convert');\n",
              "        buttonEl.style.display =\n",
              "          google.colab.kernel.accessAllowed ? 'block' : 'none';\n",
              "\n",
              "        async function convertToInteractive(key) {\n",
              "          const element = document.querySelector('#df-df3d346f-0728-4037-8f78-23d251408bf4');\n",
              "          const dataTable =\n",
              "            await google.colab.kernel.invokeFunction('convertToInteractive',\n",
              "                                                     [key], {});\n",
              "          if (!dataTable) return;\n",
              "\n",
              "          const docLinkHtml = 'Like what you see? Visit the ' +\n",
              "            '<a target=\"_blank\" href=https://colab.research.google.com/notebooks/data_table.ipynb>data table notebook</a>'\n",
              "            + ' to learn more about interactive tables.';\n",
              "          element.innerHTML = '';\n",
              "          dataTable['output_type'] = 'display_data';\n",
              "          await google.colab.output.renderOutput(dataTable, element);\n",
              "          const docLink = document.createElement('div');\n",
              "          docLink.innerHTML = docLinkHtml;\n",
              "          element.appendChild(docLink);\n",
              "        }\n",
              "      </script>\n",
              "    </div>\n",
              "  </div>\n",
              "  "
            ]
          },
          "metadata": {},
          "execution_count": 40
        }
      ]
    },
    {
      "cell_type": "markdown",
      "source": [
        "9. Постройте модель регрессии для цены автомобиля. Обучите ее на данных, полученных из исходного датасета с применением разных методов заполнения пропущенных значений. Сделайте вывод об эффективности разных методов."
      ],
      "metadata": {
        "id": "7VF9YspAeFH2"
      }
    },
    {
      "cell_type": "code",
      "source": [
        "from sklearn.linear_model import LinearRegression"
      ],
      "metadata": {
        "id": "yOLJtUI1eG2_"
      },
      "execution_count": null,
      "outputs": []
    },
    {
      "cell_type": "code",
      "source": [
        "cars_raw = pd.read_csv('/content/drive/MyDrive/Учёба/data/cars_sampled.csv')"
      ],
      "metadata": {
        "id": "j6E9VTPfelzd"
      },
      "execution_count": null,
      "outputs": []
    },
    {
      "cell_type": "code",
      "source": [
        "X = cars[['seller','offerType','abtest','yearOfRegistration', 'gearbox', 'powerPS', 'kilometer', 'monthOfRegistration', 'fuelType', 'brand']]\n",
        "Y = cars.price"
      ],
      "metadata": {
        "id": "eeWSm2p_nNbR"
      },
      "execution_count": null,
      "outputs": []
    },
    {
      "cell_type": "code",
      "source": [
        "def fillna(par):\n",
        "   cars_raw[par] = cars_raw[par].fillna(cars_raw[par].mode)"
      ],
      "metadata": {
        "id": "6wnqhgYFfEDs"
      },
      "execution_count": null,
      "outputs": []
    },
    {
      "cell_type": "code",
      "source": [
        "[fillna(x) for x in np.array(['vehicleType', 'gearbox', 'model', 'fuelType', 'notRepairedDamage'])]"
      ],
      "metadata": {
        "colab": {
          "base_uri": "https://localhost:8080/"
        },
        "id": "3Pp11tz0gtOr",
        "outputId": "45b26dbc-c36a-45b1-f837-fa40f1796fa8"
      },
      "execution_count": null,
      "outputs": [
        {
          "output_type": "execute_result",
          "data": {
            "text/plain": [
              "[None, None, None, None, None]"
            ]
          },
          "metadata": {},
          "execution_count": 43
        }
      ]
    },
    {
      "cell_type": "code",
      "source": [
        "X = pd.get_dummies(X)"
      ],
      "metadata": {
        "id": "J2DwB1ggescI"
      },
      "execution_count": null,
      "outputs": []
    },
    {
      "cell_type": "code",
      "source": [
        "from sklearn.model_selection import train_test_split\n",
        "\n",
        "X_train, X_test, Y_train, Y_test = train_test_split(X, Y, test_size=0.3, random_state=100)"
      ],
      "metadata": {
        "id": "N_kde8E9qcDS"
      },
      "execution_count": null,
      "outputs": []
    },
    {
      "cell_type": "code",
      "source": [
        "model_1 = LinearRegression()\n",
        "model_1.fit(X_train, Y_train)"
      ],
      "metadata": {
        "colab": {
          "base_uri": "https://localhost:8080/"
        },
        "id": "9HTG3HFginvQ",
        "outputId": "35e49eb1-46a8-4f24-b2aa-6d54a3a1bd22"
      },
      "execution_count": null,
      "outputs": [
        {
          "output_type": "execute_result",
          "data": {
            "text/plain": [
              "LinearRegression()"
            ]
          },
          "metadata": {},
          "execution_count": 47
        }
      ]
    },
    {
      "cell_type": "code",
      "source": [
        "Y_pred = model_1.predict(X_test)"
      ],
      "metadata": {
        "id": "ssUQ19l8oap3"
      },
      "execution_count": null,
      "outputs": []
    },
    {
      "cell_type": "code",
      "source": [
        "model_1.intercept_, model_1.coef_"
      ],
      "metadata": {
        "colab": {
          "base_uri": "https://localhost:8080/"
        },
        "id": "P2zvOB6ct5Lw",
        "outputId": "1dd63ee0-8a7f-4659-f018-69676338fce7"
      },
      "execution_count": null,
      "outputs": [
        {
          "output_type": "execute_result",
          "data": {
            "text/plain": [
              "(6875.470238876767,\n",
              " array([ 2.38839076e-01,  2.52107472e+01, -4.00340750e-02,  3.76233340e+01,\n",
              "         2.52669645e+02, -2.52669645e+02,  1.24459853e+02, -1.24459853e+02,\n",
              "         8.44291539e-01, -8.44291539e-01,  2.89736886e+02, -2.89736886e+02,\n",
              "         8.02070376e+02,  8.30835280e+02, -5.62244367e+02,  2.94711833e+03,\n",
              "        -1.47069526e+03, -1.13579702e+03, -1.41128733e+03, -9.98691074e+02,\n",
              "         6.27199404e+02,  6.92382172e+02,  1.87034323e+02, -3.62770465e+02,\n",
              "        -4.45483893e+02,  7.05620270e+02, -1.22824419e+03, -6.10261859e+02,\n",
              "        -4.43659297e+02, -6.07927516e+02, -1.59705828e+01,  4.45809144e+02,\n",
              "        -2.87435074e+02,  7.24146869e+02, -3.92793402e+02, -1.58453985e+03,\n",
              "        -4.14771389e+02,  2.83881091e+03, -2.33587116e+02,  3.13802791e+02,\n",
              "         3.45759226e+03, -8.15766962e+02,  1.88308175e+02, -6.26145845e+02,\n",
              "        -5.40658060e+02,  2.74831484e+03, -6.71980616e+02, -1.84518479e+03,\n",
              "        -1.02714360e+02,  2.02907455e+02,  1.14191925e+03, -6.19896647e+02,\n",
              "        -8.13909312e+02,  7.36865786e+01,  3.40492137e+02,  4.46184224e+02,\n",
              "        -1.72586464e+03,  4.58465190e+02, -2.04419053e+02]))"
            ]
          },
          "metadata": {},
          "execution_count": 49
        }
      ]
    },
    {
      "cell_type": "code",
      "source": [
        "list(zip([model_1.score(X_test, Y_test),\n",
        "np.mean(abs(Y_pred-Y_test)),\n",
        "np.sqrt(np.mean((Y_pred-Y_test)**2)),\n",
        "np.mean(abs(Y_pred-Y_test))/np.mean(abs(Y_test-np.mean(Y_test))),\n",
        "np.mean((Y_pred-Y_test)**2)/np.mean((Y_test-np.mean(Y_test))**2)],['R^2','MAE', 'RMSE','RAE','RSE']))"
      ],
      "metadata": {
        "colab": {
          "base_uri": "https://localhost:8080/"
        },
        "id": "YxrbUES-uAJz",
        "outputId": "114734ef-7337-4a7e-ea8b-e9c3e70a0772"
      },
      "execution_count": null,
      "outputs": [
        {
          "output_type": "execute_result",
          "data": {
            "text/plain": [
              "[(0.4300040033605501, 'R^2'),\n",
              " (2097.7213598794356, 'MAE'),\n",
              " (2825.6154886056156, 'RMSE'),\n",
              " (0.7082794165427836, 'RAE'),\n",
              " (0.5699959966394499, 'RSE')]"
            ]
          },
          "metadata": {},
          "execution_count": 50
        }
      ]
    }
  ]
}