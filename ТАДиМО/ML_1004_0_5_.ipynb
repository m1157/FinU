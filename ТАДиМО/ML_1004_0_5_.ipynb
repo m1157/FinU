{
  "nbformat": 4,
  "nbformat_minor": 0,
  "metadata": {
    "colab": {
      "provenance": []
    },
    "kernelspec": {
      "name": "python3",
      "display_name": "Python 3"
    },
    "language_info": {
      "name": "python"
    }
  },
  "cells": [
    {
      "cell_type": "markdown",
      "source": [
        "# Множественная линейная регрессия на чистых данных"
      ],
      "metadata": {
        "id": "UiPIAs27RMJl"
      }
    },
    {
      "cell_type": "markdown",
      "source": [
        "### Задания для выполнения\n",
        "\n",
        "1. Ваша задача - построить предиктивную модель предсказания целевой переменной в зависимости от значения нескольких факторов (признаков).\n",
        "2. Загрузите датасет из приложения. Вам понадобится два файла - отдельно с признаками (помечен `x`) и значениями целевой переменной (помечен `y`). Файлы не содержат заголовков столбцов и строк.\n",
        "3. Сделайте количественное описание датасета: количество точек данных, признаков, статистику по каждому признаку.\n",
        "4. Разделите все наблюдения на обучающую и тестовую выборки в соотношении 80-20.\n",
        "Для целевой и каждого из признаков постройте парную регрессионную модель. \n",
        "5. Визуализируйте линию регрессии и исходные данные на графике. При помощи коэффициентов оцените силу связи.\n",
        "6. Постройте модель множественной линейной регрессии целевой переменной от всех показателей. Оцените качество регрессии, сделайте вывод.\n",
        "\n"
      ],
      "metadata": {
        "id": "1vHW7HsvRRIr"
      }
    },
    {
      "cell_type": "markdown",
      "source": [
        "### Методические указания\n",
        "1. Отчет по лабораторной работе сдается в виде файла интерактивного ноутбука Jupyter notebook и должен включать весь программный код, реализующий задания лабораторной работы, подробные пояснения, обоснования и выводы там, где это требуется в виде текстовых ячеек.\n",
        "2. Для сведения статистических данных можно воспользоваться средствами библиотек sklearn, numpy и pandas, либо табличным редактором Microsoft Excel. В любом случае, к отчету по лабораторной работе следует приложить как исходные данные без обработки, так и итоговый датасет, использующийся при обучении.\n",
        "3. Для диагностики обучения регрессионных моделей рекомендуется строить кривые обучения. Используйте пример из документации sklearn как образец.\n",
        "4. Для оценки качества построенной регрессии можно использовать целый ряд показателей. Одним из самых простых и универсальных является коэффициент детерминации (R2-score). Как использовать его читайте в официальной документации sklearn."
      ],
      "metadata": {
        "id": "NYxiyHWMRfD9"
      }
    },
    {
      "cell_type": "markdown",
      "source": [
        "Приведем пример создания модели парной линейной регрессии средствами библиотеки scikit learn:\n"
      ],
      "metadata": {
        "id": "1GK1K2bDR36H"
      }
    },
    {
      "cell_type": "code",
      "source": [
        "import numpy as np\n",
        "import pandas as pd\n",
        "\n",
        "from sklearn import linear_model\n",
        "from sklearn.metrics import r2_score\n",
        "\n",
        "import matplotlib.pyplot as plt\n",
        "import seaborn as sns"
      ],
      "metadata": {
        "id": "5W7O6U7HRNS4"
      },
      "execution_count": null,
      "outputs": []
    },
    {
      "cell_type": "code",
      "source": [
        "sns.set_style('darkgrid')"
      ],
      "metadata": {
        "id": "RqJwE8alD9Uk"
      },
      "execution_count": null,
      "outputs": []
    },
    {
      "cell_type": "markdown",
      "source": [
        "Импорт таблицы\n"
      ],
      "metadata": {
        "id": "r7xzmGfqR_Cb"
      }
    },
    {
      "cell_type": "code",
      "source": [
        "X = pd.read_csv('/content/drive/MyDrive/Учёба/data/31_x.csv',names=['x1','x2','x3','x4'])\n",
        "Y = pd.read_csv('/content/drive/MyDrive/Учёба/data/31_y.csv',names=['y'])"
      ],
      "metadata": {
        "id": "MDfCN8ikSBfo"
      },
      "execution_count": null,
      "outputs": []
    },
    {
      "cell_type": "markdown",
      "source": [
        "494"
      ],
      "metadata": {
        "id": "C8ryd_faV4VN"
      }
    },
    {
      "cell_type": "code",
      "source": [
        "X.describe()"
      ],
      "metadata": {
        "colab": {
          "base_uri": "https://localhost:8080/",
          "height": 300
        },
        "id": "5-uKTYzlV7fq",
        "outputId": "fffeb538-0c2a-4a2a-a88c-924afb0cfb50"
      },
      "execution_count": null,
      "outputs": [
        {
          "output_type": "execute_result",
          "data": {
            "text/plain": [
              "               x1          x2          x3          x4\n",
              "count  495.000000  495.000000  495.000000  495.000000\n",
              "mean    -0.004560    0.060528    0.061930    0.016027\n",
              "std      0.925465    1.048155    1.060839    1.046299\n",
              "min     -2.607613   -2.824730   -3.017320   -3.417505\n",
              "25%     -0.600787   -0.718748   -0.726036   -0.691999\n",
              "50%     -0.031647    0.035703    0.005394    0.045603\n",
              "75%      0.669919    0.793574    0.774342    0.744176\n",
              "max      3.029453    3.164677    3.158047    3.013836"
            ],
            "text/html": [
              "\n",
              "  <div id=\"df-3d9049e4-bef5-4007-a760-7cecfc2db765\">\n",
              "    <div class=\"colab-df-container\">\n",
              "      <div>\n",
              "<style scoped>\n",
              "    .dataframe tbody tr th:only-of-type {\n",
              "        vertical-align: middle;\n",
              "    }\n",
              "\n",
              "    .dataframe tbody tr th {\n",
              "        vertical-align: top;\n",
              "    }\n",
              "\n",
              "    .dataframe thead th {\n",
              "        text-align: right;\n",
              "    }\n",
              "</style>\n",
              "<table border=\"1\" class=\"dataframe\">\n",
              "  <thead>\n",
              "    <tr style=\"text-align: right;\">\n",
              "      <th></th>\n",
              "      <th>x1</th>\n",
              "      <th>x2</th>\n",
              "      <th>x3</th>\n",
              "      <th>x4</th>\n",
              "    </tr>\n",
              "  </thead>\n",
              "  <tbody>\n",
              "    <tr>\n",
              "      <th>count</th>\n",
              "      <td>495.000000</td>\n",
              "      <td>495.000000</td>\n",
              "      <td>495.000000</td>\n",
              "      <td>495.000000</td>\n",
              "    </tr>\n",
              "    <tr>\n",
              "      <th>mean</th>\n",
              "      <td>-0.004560</td>\n",
              "      <td>0.060528</td>\n",
              "      <td>0.061930</td>\n",
              "      <td>0.016027</td>\n",
              "    </tr>\n",
              "    <tr>\n",
              "      <th>std</th>\n",
              "      <td>0.925465</td>\n",
              "      <td>1.048155</td>\n",
              "      <td>1.060839</td>\n",
              "      <td>1.046299</td>\n",
              "    </tr>\n",
              "    <tr>\n",
              "      <th>min</th>\n",
              "      <td>-2.607613</td>\n",
              "      <td>-2.824730</td>\n",
              "      <td>-3.017320</td>\n",
              "      <td>-3.417505</td>\n",
              "    </tr>\n",
              "    <tr>\n",
              "      <th>25%</th>\n",
              "      <td>-0.600787</td>\n",
              "      <td>-0.718748</td>\n",
              "      <td>-0.726036</td>\n",
              "      <td>-0.691999</td>\n",
              "    </tr>\n",
              "    <tr>\n",
              "      <th>50%</th>\n",
              "      <td>-0.031647</td>\n",
              "      <td>0.035703</td>\n",
              "      <td>0.005394</td>\n",
              "      <td>0.045603</td>\n",
              "    </tr>\n",
              "    <tr>\n",
              "      <th>75%</th>\n",
              "      <td>0.669919</td>\n",
              "      <td>0.793574</td>\n",
              "      <td>0.774342</td>\n",
              "      <td>0.744176</td>\n",
              "    </tr>\n",
              "    <tr>\n",
              "      <th>max</th>\n",
              "      <td>3.029453</td>\n",
              "      <td>3.164677</td>\n",
              "      <td>3.158047</td>\n",
              "      <td>3.013836</td>\n",
              "    </tr>\n",
              "  </tbody>\n",
              "</table>\n",
              "</div>\n",
              "      <button class=\"colab-df-convert\" onclick=\"convertToInteractive('df-3d9049e4-bef5-4007-a760-7cecfc2db765')\"\n",
              "              title=\"Convert this dataframe to an interactive table.\"\n",
              "              style=\"display:none;\">\n",
              "        \n",
              "  <svg xmlns=\"http://www.w3.org/2000/svg\" height=\"24px\"viewBox=\"0 0 24 24\"\n",
              "       width=\"24px\">\n",
              "    <path d=\"M0 0h24v24H0V0z\" fill=\"none\"/>\n",
              "    <path d=\"M18.56 5.44l.94 2.06.94-2.06 2.06-.94-2.06-.94-.94-2.06-.94 2.06-2.06.94zm-11 1L8.5 8.5l.94-2.06 2.06-.94-2.06-.94L8.5 2.5l-.94 2.06-2.06.94zm10 10l.94 2.06.94-2.06 2.06-.94-2.06-.94-.94-2.06-.94 2.06-2.06.94z\"/><path d=\"M17.41 7.96l-1.37-1.37c-.4-.4-.92-.59-1.43-.59-.52 0-1.04.2-1.43.59L10.3 9.45l-7.72 7.72c-.78.78-.78 2.05 0 2.83L4 21.41c.39.39.9.59 1.41.59.51 0 1.02-.2 1.41-.59l7.78-7.78 2.81-2.81c.8-.78.8-2.07 0-2.86zM5.41 20L4 18.59l7.72-7.72 1.47 1.35L5.41 20z\"/>\n",
              "  </svg>\n",
              "      </button>\n",
              "      \n",
              "  <style>\n",
              "    .colab-df-container {\n",
              "      display:flex;\n",
              "      flex-wrap:wrap;\n",
              "      gap: 12px;\n",
              "    }\n",
              "\n",
              "    .colab-df-convert {\n",
              "      background-color: #E8F0FE;\n",
              "      border: none;\n",
              "      border-radius: 50%;\n",
              "      cursor: pointer;\n",
              "      display: none;\n",
              "      fill: #1967D2;\n",
              "      height: 32px;\n",
              "      padding: 0 0 0 0;\n",
              "      width: 32px;\n",
              "    }\n",
              "\n",
              "    .colab-df-convert:hover {\n",
              "      background-color: #E2EBFA;\n",
              "      box-shadow: 0px 1px 2px rgba(60, 64, 67, 0.3), 0px 1px 3px 1px rgba(60, 64, 67, 0.15);\n",
              "      fill: #174EA6;\n",
              "    }\n",
              "\n",
              "    [theme=dark] .colab-df-convert {\n",
              "      background-color: #3B4455;\n",
              "      fill: #D2E3FC;\n",
              "    }\n",
              "\n",
              "    [theme=dark] .colab-df-convert:hover {\n",
              "      background-color: #434B5C;\n",
              "      box-shadow: 0px 1px 3px 1px rgba(0, 0, 0, 0.15);\n",
              "      filter: drop-shadow(0px 1px 2px rgba(0, 0, 0, 0.3));\n",
              "      fill: #FFFFFF;\n",
              "    }\n",
              "  </style>\n",
              "\n",
              "      <script>\n",
              "        const buttonEl =\n",
              "          document.querySelector('#df-3d9049e4-bef5-4007-a760-7cecfc2db765 button.colab-df-convert');\n",
              "        buttonEl.style.display =\n",
              "          google.colab.kernel.accessAllowed ? 'block' : 'none';\n",
              "\n",
              "        async function convertToInteractive(key) {\n",
              "          const element = document.querySelector('#df-3d9049e4-bef5-4007-a760-7cecfc2db765');\n",
              "          const dataTable =\n",
              "            await google.colab.kernel.invokeFunction('convertToInteractive',\n",
              "                                                     [key], {});\n",
              "          if (!dataTable) return;\n",
              "\n",
              "          const docLinkHtml = 'Like what you see? Visit the ' +\n",
              "            '<a target=\"_blank\" href=https://colab.research.google.com/notebooks/data_table.ipynb>data table notebook</a>'\n",
              "            + ' to learn more about interactive tables.';\n",
              "          element.innerHTML = '';\n",
              "          dataTable['output_type'] = 'display_data';\n",
              "          await google.colab.output.renderOutput(dataTable, element);\n",
              "          const docLink = document.createElement('div');\n",
              "          docLink.innerHTML = docLinkHtml;\n",
              "          element.appendChild(docLink);\n",
              "        }\n",
              "      </script>\n",
              "    </div>\n",
              "  </div>\n",
              "  "
            ]
          },
          "metadata": {},
          "execution_count": 4
        }
      ]
    },
    {
      "cell_type": "code",
      "source": [
        "Y.describe()"
      ],
      "metadata": {
        "colab": {
          "base_uri": "https://localhost:8080/",
          "height": 300
        },
        "id": "cNED4zfIXWNG",
        "outputId": "3550598b-3b57-4f0a-8eb9-4f5f785f5a97"
      },
      "execution_count": null,
      "outputs": [
        {
          "output_type": "execute_result",
          "data": {
            "text/plain": [
              "                y\n",
              "count  495.000000\n",
              "mean     7.499311\n",
              "std     93.583821\n",
              "min   -294.231674\n",
              "25%    -55.430544\n",
              "50%     10.510431\n",
              "75%     69.092113\n",
              "max    245.590853"
            ],
            "text/html": [
              "\n",
              "  <div id=\"df-6e7c5649-f3b0-4e4f-8c33-6fa174ce8313\">\n",
              "    <div class=\"colab-df-container\">\n",
              "      <div>\n",
              "<style scoped>\n",
              "    .dataframe tbody tr th:only-of-type {\n",
              "        vertical-align: middle;\n",
              "    }\n",
              "\n",
              "    .dataframe tbody tr th {\n",
              "        vertical-align: top;\n",
              "    }\n",
              "\n",
              "    .dataframe thead th {\n",
              "        text-align: right;\n",
              "    }\n",
              "</style>\n",
              "<table border=\"1\" class=\"dataframe\">\n",
              "  <thead>\n",
              "    <tr style=\"text-align: right;\">\n",
              "      <th></th>\n",
              "      <th>y</th>\n",
              "    </tr>\n",
              "  </thead>\n",
              "  <tbody>\n",
              "    <tr>\n",
              "      <th>count</th>\n",
              "      <td>495.000000</td>\n",
              "    </tr>\n",
              "    <tr>\n",
              "      <th>mean</th>\n",
              "      <td>7.499311</td>\n",
              "    </tr>\n",
              "    <tr>\n",
              "      <th>std</th>\n",
              "      <td>93.583821</td>\n",
              "    </tr>\n",
              "    <tr>\n",
              "      <th>min</th>\n",
              "      <td>-294.231674</td>\n",
              "    </tr>\n",
              "    <tr>\n",
              "      <th>25%</th>\n",
              "      <td>-55.430544</td>\n",
              "    </tr>\n",
              "    <tr>\n",
              "      <th>50%</th>\n",
              "      <td>10.510431</td>\n",
              "    </tr>\n",
              "    <tr>\n",
              "      <th>75%</th>\n",
              "      <td>69.092113</td>\n",
              "    </tr>\n",
              "    <tr>\n",
              "      <th>max</th>\n",
              "      <td>245.590853</td>\n",
              "    </tr>\n",
              "  </tbody>\n",
              "</table>\n",
              "</div>\n",
              "      <button class=\"colab-df-convert\" onclick=\"convertToInteractive('df-6e7c5649-f3b0-4e4f-8c33-6fa174ce8313')\"\n",
              "              title=\"Convert this dataframe to an interactive table.\"\n",
              "              style=\"display:none;\">\n",
              "        \n",
              "  <svg xmlns=\"http://www.w3.org/2000/svg\" height=\"24px\"viewBox=\"0 0 24 24\"\n",
              "       width=\"24px\">\n",
              "    <path d=\"M0 0h24v24H0V0z\" fill=\"none\"/>\n",
              "    <path d=\"M18.56 5.44l.94 2.06.94-2.06 2.06-.94-2.06-.94-.94-2.06-.94 2.06-2.06.94zm-11 1L8.5 8.5l.94-2.06 2.06-.94-2.06-.94L8.5 2.5l-.94 2.06-2.06.94zm10 10l.94 2.06.94-2.06 2.06-.94-2.06-.94-.94-2.06-.94 2.06-2.06.94z\"/><path d=\"M17.41 7.96l-1.37-1.37c-.4-.4-.92-.59-1.43-.59-.52 0-1.04.2-1.43.59L10.3 9.45l-7.72 7.72c-.78.78-.78 2.05 0 2.83L4 21.41c.39.39.9.59 1.41.59.51 0 1.02-.2 1.41-.59l7.78-7.78 2.81-2.81c.8-.78.8-2.07 0-2.86zM5.41 20L4 18.59l7.72-7.72 1.47 1.35L5.41 20z\"/>\n",
              "  </svg>\n",
              "      </button>\n",
              "      \n",
              "  <style>\n",
              "    .colab-df-container {\n",
              "      display:flex;\n",
              "      flex-wrap:wrap;\n",
              "      gap: 12px;\n",
              "    }\n",
              "\n",
              "    .colab-df-convert {\n",
              "      background-color: #E8F0FE;\n",
              "      border: none;\n",
              "      border-radius: 50%;\n",
              "      cursor: pointer;\n",
              "      display: none;\n",
              "      fill: #1967D2;\n",
              "      height: 32px;\n",
              "      padding: 0 0 0 0;\n",
              "      width: 32px;\n",
              "    }\n",
              "\n",
              "    .colab-df-convert:hover {\n",
              "      background-color: #E2EBFA;\n",
              "      box-shadow: 0px 1px 2px rgba(60, 64, 67, 0.3), 0px 1px 3px 1px rgba(60, 64, 67, 0.15);\n",
              "      fill: #174EA6;\n",
              "    }\n",
              "\n",
              "    [theme=dark] .colab-df-convert {\n",
              "      background-color: #3B4455;\n",
              "      fill: #D2E3FC;\n",
              "    }\n",
              "\n",
              "    [theme=dark] .colab-df-convert:hover {\n",
              "      background-color: #434B5C;\n",
              "      box-shadow: 0px 1px 3px 1px rgba(0, 0, 0, 0.15);\n",
              "      filter: drop-shadow(0px 1px 2px rgba(0, 0, 0, 0.3));\n",
              "      fill: #FFFFFF;\n",
              "    }\n",
              "  </style>\n",
              "\n",
              "      <script>\n",
              "        const buttonEl =\n",
              "          document.querySelector('#df-6e7c5649-f3b0-4e4f-8c33-6fa174ce8313 button.colab-df-convert');\n",
              "        buttonEl.style.display =\n",
              "          google.colab.kernel.accessAllowed ? 'block' : 'none';\n",
              "\n",
              "        async function convertToInteractive(key) {\n",
              "          const element = document.querySelector('#df-6e7c5649-f3b0-4e4f-8c33-6fa174ce8313');\n",
              "          const dataTable =\n",
              "            await google.colab.kernel.invokeFunction('convertToInteractive',\n",
              "                                                     [key], {});\n",
              "          if (!dataTable) return;\n",
              "\n",
              "          const docLinkHtml = 'Like what you see? Visit the ' +\n",
              "            '<a target=\"_blank\" href=https://colab.research.google.com/notebooks/data_table.ipynb>data table notebook</a>'\n",
              "            + ' to learn more about interactive tables.';\n",
              "          element.innerHTML = '';\n",
              "          dataTable['output_type'] = 'display_data';\n",
              "          await google.colab.output.renderOutput(dataTable, element);\n",
              "          const docLink = document.createElement('div');\n",
              "          docLink.innerHTML = docLinkHtml;\n",
              "          element.appendChild(docLink);\n",
              "        }\n",
              "      </script>\n",
              "    </div>\n",
              "  </div>\n",
              "  "
            ]
          },
          "metadata": {},
          "execution_count": 5
        }
      ]
    },
    {
      "cell_type": "code",
      "source": [
        "index_list = np.arange(0,len(X['x1']))\n",
        "np.random.shuffle(index_list)\n",
        "train_index = index_list[:int(len(X['x1'])*0.8)]\n",
        "test_index =  index_list[int(len(X['x1'])*0.8):]"
      ],
      "metadata": {
        "id": "QUH6KhyQH2t9"
      },
      "execution_count": null,
      "outputs": []
    },
    {
      "cell_type": "code",
      "source": [
        "x1_train = X.iloc[train_index]['x1'].values.reshape(-1,1)\n",
        "x2_train = X.iloc[train_index]['x2'].values.reshape(-1,1)\n",
        "x3_train = X.iloc[train_index]['x3'].values.reshape(-1,1)\n",
        "x4_train = X.iloc[train_index]['x4'].values.reshape(-1,1)\n",
        "y_train = Y.iloc[train_index]['y'].values.reshape(-1,1)"
      ],
      "metadata": {
        "id": "EZDzokawL4nN"
      },
      "execution_count": null,
      "outputs": []
    },
    {
      "cell_type": "code",
      "source": [
        "x1_test = X.iloc[test_index]['x1'].values.reshape(-1,1)\n",
        "x2_test = X.iloc[test_index]['x2'].values.reshape(-1,1)\n",
        "x3_test = X.iloc[test_index]['x3'].values.reshape(-1,1)\n",
        "x4_test = X.iloc[test_index]['x4'].values.reshape(-1,1)\n",
        "y_test = Y.iloc[test_index]['y'].values.reshape(-1,1)"
      ],
      "metadata": {
        "id": "zXeLJ4Jg3ei9"
      },
      "execution_count": null,
      "outputs": []
    },
    {
      "cell_type": "markdown",
      "source": [
        "Создаем пустую модель:\n"
      ],
      "metadata": {
        "id": "4d8ZIahmSDyh"
      }
    },
    {
      "cell_type": "code",
      "source": [
        "model = linear_model.LinearRegression()"
      ],
      "metadata": {
        "id": "ew5WTbW1RCHY"
      },
      "execution_count": null,
      "outputs": []
    },
    {
      "cell_type": "markdown",
      "source": [
        "Обучение машины с помощью метода fit(X, Y) - расчет параметров для указанных данных:\n",
        "\n"
      ],
      "metadata": {
        "id": "Cce8OnTtSHMN"
      }
    },
    {
      "cell_type": "markdown",
      "source": [
        "$$\\hat{y}(w,x)=w_0+w_1x_1 - \\text{модель парной регрессии}$$"
      ],
      "metadata": {
        "id": "nUElAHMp8tgP"
      }
    },
    {
      "cell_type": "markdown",
      "source": [
        "## $$x_1$$"
      ],
      "metadata": {
        "id": "H6T0QiNhA_Qf"
      }
    },
    {
      "cell_type": "code",
      "source": [
        "model.fit(x1_train, y_train)"
      ],
      "metadata": {
        "colab": {
          "base_uri": "https://localhost:8080/"
        },
        "id": "9ZOxBYoCSHXg",
        "outputId": "e3bbf3df-6a3a-464e-b4f9-cb8eb00095c1"
      },
      "execution_count": null,
      "outputs": [
        {
          "output_type": "execute_result",
          "data": {
            "text/plain": [
              "LinearRegression()"
            ]
          },
          "metadata": {},
          "execution_count": 10
        }
      ]
    },
    {
      "cell_type": "code",
      "source": [
        "model.intercept_, model.coef_"
      ],
      "metadata": {
        "colab": {
          "base_uri": "https://localhost:8080/"
        },
        "id": "BxDQ_7bi8TzW",
        "outputId": "d24d030d-419a-4687-c7a3-6ff1566e7a34"
      },
      "execution_count": null,
      "outputs": [
        {
          "output_type": "execute_result",
          "data": {
            "text/plain": [
              "(array([8.06130198]), array([[2.75135847]]))"
            ]
          },
          "metadata": {},
          "execution_count": 11
        }
      ]
    },
    {
      "cell_type": "markdown",
      "source": [
        "$$\\hat{y}_1=6.41+4.35x_1$$"
      ],
      "metadata": {
        "id": "MsLJqMCd9L_L"
      }
    },
    {
      "cell_type": "code",
      "source": [
        "predicted = model.predict(x1_test)"
      ],
      "metadata": {
        "id": "WPRjhFpc_OvM"
      },
      "execution_count": null,
      "outputs": []
    },
    {
      "cell_type": "code",
      "source": [
        "plt.figure(figsize=(10, 8))\n",
        "sns.scatterplot(x=x1_train.reshape((1, -1))[0], y=y_train.reshape((1, -1))[0], color ='#EE2677', alpha =0.5)\n",
        "sns.lineplot(x=x1_test.reshape((1, -1))[0], y=predicted.reshape((1, -1))[0], color ='#0496FF', alpha =0.7, lw = 4)\n",
        "plt.show()"
      ],
      "metadata": {
        "colab": {
          "base_uri": "https://localhost:8080/",
          "height": 483
        },
        "id": "laHLjE8CBfwt",
        "outputId": "647707b1-aed8-41cd-ecd8-408c6910c5ad"
      },
      "execution_count": null,
      "outputs": [
        {
          "output_type": "display_data",
          "data": {
            "text/plain": [
              "<Figure size 720x576 with 1 Axes>"
            ],
            "image/png": "[encoded data removed]"
          },
          "metadata": {}
        }
      ]
    },
    {
      "cell_type": "code",
      "source": [
        "model.score(x1_test, y_test)"
      ],
      "metadata": {
        "colab": {
          "base_uri": "https://localhost:8080/"
        },
        "id": "yU-NKWYJEups",
        "outputId": "147ae39d-3b97-42cf-99a4-2cadbd192b34"
      },
      "execution_count": null,
      "outputs": [
        {
          "output_type": "execute_result",
          "data": {
            "text/plain": [
              "0.0033139541626012736"
            ]
          },
          "metadata": {},
          "execution_count": 14
        }
      ]
    },
    {
      "cell_type": "code",
      "source": [
        "score_df = pd.DataFrame([model.intercept_[0],\n",
        "                         model.coef_[0].tolist()[0],\n",
        "                         '-',\n",
        "                         '-',\n",
        "                         '-',\n",
        "                         model.score(x1_test, y_test),\n",
        "                         np.mean(abs(predicted-y_test)),\n",
        "                         np.sqrt(np.mean((predicted-y_test)**2)),\n",
        "                         np.mean(abs(predicted-y_test))/np.mean(abs(y_test-np.mean(y_test))),\n",
        "                         np.mean((predicted-y_test)**2)/np.mean((y_test-np.mean(y_test))**2)],\n",
        "                         index=['b0','b1','b2','b3','b4','R^2','MAE', 'RMSE','RAE','RSE'],columns=['y, x1'])"
      ],
      "metadata": {
        "id": "ebDWG6MYF240"
      },
      "execution_count": null,
      "outputs": []
    },
    {
      "cell_type": "code",
      "source": [
        "score_df"
      ],
      "metadata": {
        "colab": {
          "base_uri": "https://localhost:8080/",
          "height": 363
        },
        "id": "MaWLo2LGG8kf",
        "outputId": "e95c23cd-bb57-4b9a-a8ec-9d2856348aba"
      },
      "execution_count": null,
      "outputs": [
        {
          "output_type": "execute_result",
          "data": {
            "text/plain": [
              "          y, x1\n",
              "b0     8.061302\n",
              "b1     2.751358\n",
              "b2            -\n",
              "b3            -\n",
              "b4            -\n",
              "R^2    0.003314\n",
              "MAE   74.264037\n",
              "RMSE   89.94364\n",
              "RAE    0.997762\n",
              "RSE    0.996686"
            ],
            "text/html": [
              "\n",
              "  <div id=\"df-c5c5f033-7e4d-4aa0-95ea-a2dfab4520bb\">\n",
              "    <div class=\"colab-df-container\">\n",
              "      <div>\n",
              "<style scoped>\n",
              "    .dataframe tbody tr th:only-of-type {\n",
              "        vertical-align: middle;\n",
              "    }\n",
              "\n",
              "    .dataframe tbody tr th {\n",
              "        vertical-align: top;\n",
              "    }\n",
              "\n",
              "    .dataframe thead th {\n",
              "        text-align: right;\n",
              "    }\n",
              "</style>\n",
              "<table border=\"1\" class=\"dataframe\">\n",
              "  <thead>\n",
              "    <tr style=\"text-align: right;\">\n",
              "      <th></th>\n",
              "      <th>y, x1</th>\n",
              "    </tr>\n",
              "  </thead>\n",
              "  <tbody>\n",
              "    <tr>\n",
              "      <th>b0</th>\n",
              "      <td>8.061302</td>\n",
              "    </tr>\n",
              "    <tr>\n",
              "      <th>b1</th>\n",
              "      <td>2.751358</td>\n",
              "    </tr>\n",
              "    <tr>\n",
              "      <th>b2</th>\n",
              "      <td>-</td>\n",
              "    </tr>\n",
              "    <tr>\n",
              "      <th>b3</th>\n",
              "      <td>-</td>\n",
              "    </tr>\n",
              "    <tr>\n",
              "      <th>b4</th>\n",
              "      <td>-</td>\n",
              "    </tr>\n",
              "    <tr>\n",
              "      <th>R^2</th>\n",
              "      <td>0.003314</td>\n",
              "    </tr>\n",
              "    <tr>\n",
              "      <th>MAE</th>\n",
              "      <td>74.264037</td>\n",
              "    </tr>\n",
              "    <tr>\n",
              "      <th>RMSE</th>\n",
              "      <td>89.94364</td>\n",
              "    </tr>\n",
              "    <tr>\n",
              "      <th>RAE</th>\n",
              "      <td>0.997762</td>\n",
              "    </tr>\n",
              "    <tr>\n",
              "      <th>RSE</th>\n",
              "      <td>0.996686</td>\n",
              "    </tr>\n",
              "  </tbody>\n",
              "</table>\n",
              "</div>\n",
              "      <button class=\"colab-df-convert\" onclick=\"convertToInteractive('df-c5c5f033-7e4d-4aa0-95ea-a2dfab4520bb')\"\n",
              "              title=\"Convert this dataframe to an interactive table.\"\n",
              "              style=\"display:none;\">\n",
              "        \n",
              "  <svg xmlns=\"http://www.w3.org/2000/svg\" height=\"24px\"viewBox=\"0 0 24 24\"\n",
              "       width=\"24px\">\n",
              "    <path d=\"M0 0h24v24H0V0z\" fill=\"none\"/>\n",
              "    <path d=\"M18.56 5.44l.94 2.06.94-2.06 2.06-.94-2.06-.94-.94-2.06-.94 2.06-2.06.94zm-11 1L8.5 8.5l.94-2.06 2.06-.94-2.06-.94L8.5 2.5l-.94 2.06-2.06.94zm10 10l.94 2.06.94-2.06 2.06-.94-2.06-.94-.94-2.06-.94 2.06-2.06.94z\"/><path d=\"M17.41 7.96l-1.37-1.37c-.4-.4-.92-.59-1.43-.59-.52 0-1.04.2-1.43.59L10.3 9.45l-7.72 7.72c-.78.78-.78 2.05 0 2.83L4 21.41c.39.39.9.59 1.41.59.51 0 1.02-.2 1.41-.59l7.78-7.78 2.81-2.81c.8-.78.8-2.07 0-2.86zM5.41 20L4 18.59l7.72-7.72 1.47 1.35L5.41 20z\"/>\n",
              "  </svg>\n",
              "      </button>\n",
              "      \n",
              "  <style>\n",
              "    .colab-df-container {\n",
              "      display:flex;\n",
              "      flex-wrap:wrap;\n",
              "      gap: 12px;\n",
              "    }\n",
              "\n",
              "    .colab-df-convert {\n",
              "      background-color: #E8F0FE;\n",
              "      border: none;\n",
              "      border-radius: 50%;\n",
              "      cursor: pointer;\n",
              "      display: none;\n",
              "      fill: #1967D2;\n",
              "      height: 32px;\n",
              "      padding: 0 0 0 0;\n",
              "      width: 32px;\n",
              "    }\n",
              "\n",
              "    .colab-df-convert:hover {\n",
              "      background-color: #E2EBFA;\n",
              "      box-shadow: 0px 1px 2px rgba(60, 64, 67, 0.3), 0px 1px 3px 1px rgba(60, 64, 67, 0.15);\n",
              "      fill: #174EA6;\n",
              "    }\n",
              "\n",
              "    [theme=dark] .colab-df-convert {\n",
              "      background-color: #3B4455;\n",
              "      fill: #D2E3FC;\n",
              "    }\n",
              "\n",
              "    [theme=dark] .colab-df-convert:hover {\n",
              "      background-color: #434B5C;\n",
              "      box-shadow: 0px 1px 3px 1px rgba(0, 0, 0, 0.15);\n",
              "      filter: drop-shadow(0px 1px 2px rgba(0, 0, 0, 0.3));\n",
              "      fill: #FFFFFF;\n",
              "    }\n",
              "  </style>\n",
              "\n",
              "      <script>\n",
              "        const buttonEl =\n",
              "          document.querySelector('#df-c5c5f033-7e4d-4aa0-95ea-a2dfab4520bb button.colab-df-convert');\n",
              "        buttonEl.style.display =\n",
              "          google.colab.kernel.accessAllowed ? 'block' : 'none';\n",
              "\n",
              "        async function convertToInteractive(key) {\n",
              "          const element = document.querySelector('#df-c5c5f033-7e4d-4aa0-95ea-a2dfab4520bb');\n",
              "          const dataTable =\n",
              "            await google.colab.kernel.invokeFunction('convertToInteractive',\n",
              "                                                     [key], {});\n",
              "          if (!dataTable) return;\n",
              "\n",
              "          const docLinkHtml = 'Like what you see? Visit the ' +\n",
              "            '<a target=\"_blank\" href=https://colab.research.google.com/notebooks/data_table.ipynb>data table notebook</a>'\n",
              "            + ' to learn more about interactive tables.';\n",
              "          element.innerHTML = '';\n",
              "          dataTable['output_type'] = 'display_data';\n",
              "          await google.colab.output.renderOutput(dataTable, element);\n",
              "          const docLink = document.createElement('div');\n",
              "          docLink.innerHTML = docLinkHtml;\n",
              "          element.appendChild(docLink);\n",
              "        }\n",
              "      </script>\n",
              "    </div>\n",
              "  </div>\n",
              "  "
            ]
          },
          "metadata": {},
          "execution_count": 16
        }
      ]
    },
    {
      "cell_type": "markdown",
      "source": [
        "## $$x_2$$"
      ],
      "metadata": {
        "id": "co7QlxObBIya"
      }
    },
    {
      "cell_type": "code",
      "source": [
        "model.fit(x2_train.reshape(-1,1), y_train.reshape(-1,1))"
      ],
      "metadata": {
        "colab": {
          "base_uri": "https://localhost:8080/"
        },
        "id": "yrq_w0Ow8BNU",
        "outputId": "4b472979-21c7-42b8-a82e-8cb6f018c2b5"
      },
      "execution_count": null,
      "outputs": [
        {
          "output_type": "execute_result",
          "data": {
            "text/plain": [
              "LinearRegression()"
            ]
          },
          "metadata": {},
          "execution_count": 17
        }
      ]
    },
    {
      "cell_type": "code",
      "source": [
        "model.intercept_, model.coef_"
      ],
      "metadata": {
        "colab": {
          "base_uri": "https://localhost:8080/"
        },
        "id": "KZ6bnyg_-G3i",
        "outputId": "920b3ffa-7c7a-4da6-83bc-470e336cca27"
      },
      "execution_count": null,
      "outputs": [
        {
          "output_type": "execute_result",
          "data": {
            "text/plain": [
              "(array([5.88385853]), array([[52.84137689]]))"
            ]
          },
          "metadata": {},
          "execution_count": 18
        }
      ]
    },
    {
      "cell_type": "markdown",
      "source": [
        "$$\\hat{y}_2=3.72+50.61x_2$$"
      ],
      "metadata": {
        "id": "Ev6W6fYE99wP"
      }
    },
    {
      "cell_type": "code",
      "source": [
        "predicted = model.predict(x2_test)"
      ],
      "metadata": {
        "id": "rjqlXQCEHUkg"
      },
      "execution_count": null,
      "outputs": []
    },
    {
      "cell_type": "code",
      "source": [
        "plt.figure(figsize=(10, 8))\n",
        "sns.scatterplot(x=x2_train.reshape((1, -1))[0], y=y_train.reshape((1, -1))[0], color ='#EE2677', alpha =0.5)\n",
        "sns.lineplot(x=x2_test.reshape((1, -1))[0], y=predicted.reshape((1, -1))[0], color ='#0496FF', alpha =0.7, lw = 4)\n",
        "plt.show()"
      ],
      "metadata": {
        "colab": {
          "base_uri": "https://localhost:8080/",
          "height": 483
        },
        "outputId": "858212dd-316e-4926-f494-5204a6ae5348",
        "id": "o3gx9duLHUkh"
      },
      "execution_count": null,
      "outputs": [
        {
          "output_type": "display_data",
          "data": {
            "text/plain": [
              "<Figure size 720x576 with 1 Axes>"
            ],
            "image/png": "[encoded data removed]"
          },
          "metadata": {}
        }
      ]
    },
    {
      "cell_type": "code",
      "source": [
        "model.score(x2_test, y_test)"
      ],
      "metadata": {
        "colab": {
          "base_uri": "https://localhost:8080/"
        },
        "outputId": "3a813862-bc94-456d-d069-209e72f672d0",
        "id": "7bAncm7mHUkh"
      },
      "execution_count": null,
      "outputs": [
        {
          "output_type": "execute_result",
          "data": {
            "text/plain": [
              "0.3974163593863955"
            ]
          },
          "metadata": {},
          "execution_count": 21
        }
      ]
    },
    {
      "cell_type": "code",
      "source": [
        "score_df['y, x2'] = [model.intercept_[0],\n",
        "                     model.coef_[0].tolist()[0],\n",
        "                     '-',\n",
        "                     '-',\n",
        "                     '-',\n",
        "                     model.score(x2_test, y_test),\n",
        "                     np.mean(abs(predicted-y_test)),\n",
        "                     np.sqrt(np.mean((predicted-y_test)**2)),\n",
        "                     np.mean(abs(predicted-y_test))/np.mean(abs(y_test-np.mean(y_test))),\n",
        "                     np.mean((predicted-y_test)**2)/np.mean((y_test-np.mean(y_test))**2)]\n",
        "score_df"
      ],
      "metadata": {
        "colab": {
          "base_uri": "https://localhost:8080/",
          "height": 363
        },
        "id": "H8zApBjAHtkr",
        "outputId": "35dfe363-3ff3-4e9c-cbe1-bef3ad0a0aef"
      },
      "execution_count": null,
      "outputs": [
        {
          "output_type": "execute_result",
          "data": {
            "text/plain": [
              "          y, x1      y, x2\n",
              "b0     8.061302   5.883859\n",
              "b1     2.751358  52.841377\n",
              "b2            -          -\n",
              "b3            -          -\n",
              "b4            -          -\n",
              "R^2    0.003314   0.397416\n",
              "MAE   74.264037  56.080112\n",
              "RMSE   89.94364  69.935863\n",
              "RAE    0.997762   0.753455\n",
              "RSE    0.996686   0.602584"
            ],
            "text/html": [
              "\n",
              "  <div id=\"df-3d48ce01-04a3-45d6-b829-2ce14d00d4e4\">\n",
              "    <div class=\"colab-df-container\">\n",
              "      <div>\n",
              "<style scoped>\n",
              "    .dataframe tbody tr th:only-of-type {\n",
              "        vertical-align: middle;\n",
              "    }\n",
              "\n",
              "    .dataframe tbody tr th {\n",
              "        vertical-align: top;\n",
              "    }\n",
              "\n",
              "    .dataframe thead th {\n",
              "        text-align: right;\n",
              "    }\n",
              "</style>\n",
              "<table border=\"1\" class=\"dataframe\">\n",
              "  <thead>\n",
              "    <tr style=\"text-align: right;\">\n",
              "      <th></th>\n",
              "      <th>y, x1</th>\n",
              "      <th>y, x2</th>\n",
              "    </tr>\n",
              "  </thead>\n",
              "  <tbody>\n",
              "    <tr>\n",
              "      <th>b0</th>\n",
              "      <td>8.061302</td>\n",
              "      <td>5.883859</td>\n",
              "    </tr>\n",
              "    <tr>\n",
              "      <th>b1</th>\n",
              "      <td>2.751358</td>\n",
              "      <td>52.841377</td>\n",
              "    </tr>\n",
              "    <tr>\n",
              "      <th>b2</th>\n",
              "      <td>-</td>\n",
              "      <td>-</td>\n",
              "    </tr>\n",
              "    <tr>\n",
              "      <th>b3</th>\n",
              "      <td>-</td>\n",
              "      <td>-</td>\n",
              "    </tr>\n",
              "    <tr>\n",
              "      <th>b4</th>\n",
              "      <td>-</td>\n",
              "      <td>-</td>\n",
              "    </tr>\n",
              "    <tr>\n",
              "      <th>R^2</th>\n",
              "      <td>0.003314</td>\n",
              "      <td>0.397416</td>\n",
              "    </tr>\n",
              "    <tr>\n",
              "      <th>MAE</th>\n",
              "      <td>74.264037</td>\n",
              "      <td>56.080112</td>\n",
              "    </tr>\n",
              "    <tr>\n",
              "      <th>RMSE</th>\n",
              "      <td>89.94364</td>\n",
              "      <td>69.935863</td>\n",
              "    </tr>\n",
              "    <tr>\n",
              "      <th>RAE</th>\n",
              "      <td>0.997762</td>\n",
              "      <td>0.753455</td>\n",
              "    </tr>\n",
              "    <tr>\n",
              "      <th>RSE</th>\n",
              "      <td>0.996686</td>\n",
              "      <td>0.602584</td>\n",
              "    </tr>\n",
              "  </tbody>\n",
              "</table>\n",
              "</div>\n",
              "      <button class=\"colab-df-convert\" onclick=\"convertToInteractive('df-3d48ce01-04a3-45d6-b829-2ce14d00d4e4')\"\n",
              "              title=\"Convert this dataframe to an interactive table.\"\n",
              "              style=\"display:none;\">\n",
              "        \n",
              "  <svg xmlns=\"http://www.w3.org/2000/svg\" height=\"24px\"viewBox=\"0 0 24 24\"\n",
              "       width=\"24px\">\n",
              "    <path d=\"M0 0h24v24H0V0z\" fill=\"none\"/>\n",
              "    <path d=\"M18.56 5.44l.94 2.06.94-2.06 2.06-.94-2.06-.94-.94-2.06-.94 2.06-2.06.94zm-11 1L8.5 8.5l.94-2.06 2.06-.94-2.06-.94L8.5 2.5l-.94 2.06-2.06.94zm10 10l.94 2.06.94-2.06 2.06-.94-2.06-.94-.94-2.06-.94 2.06-2.06.94z\"/><path d=\"M17.41 7.96l-1.37-1.37c-.4-.4-.92-.59-1.43-.59-.52 0-1.04.2-1.43.59L10.3 9.45l-7.72 7.72c-.78.78-.78 2.05 0 2.83L4 21.41c.39.39.9.59 1.41.59.51 0 1.02-.2 1.41-.59l7.78-7.78 2.81-2.81c.8-.78.8-2.07 0-2.86zM5.41 20L4 18.59l7.72-7.72 1.47 1.35L5.41 20z\"/>\n",
              "  </svg>\n",
              "      </button>\n",
              "      \n",
              "  <style>\n",
              "    .colab-df-container {\n",
              "      display:flex;\n",
              "      flex-wrap:wrap;\n",
              "      gap: 12px;\n",
              "    }\n",
              "\n",
              "    .colab-df-convert {\n",
              "      background-color: #E8F0FE;\n",
              "      border: none;\n",
              "      border-radius: 50%;\n",
              "      cursor: pointer;\n",
              "      display: none;\n",
              "      fill: #1967D2;\n",
              "      height: 32px;\n",
              "      padding: 0 0 0 0;\n",
              "      width: 32px;\n",
              "    }\n",
              "\n",
              "    .colab-df-convert:hover {\n",
              "      background-color: #E2EBFA;\n",
              "      box-shadow: 0px 1px 2px rgba(60, 64, 67, 0.3), 0px 1px 3px 1px rgba(60, 64, 67, 0.15);\n",
              "      fill: #174EA6;\n",
              "    }\n",
              "\n",
              "    [theme=dark] .colab-df-convert {\n",
              "      background-color: #3B4455;\n",
              "      fill: #D2E3FC;\n",
              "    }\n",
              "\n",
              "    [theme=dark] .colab-df-convert:hover {\n",
              "      background-color: #434B5C;\n",
              "      box-shadow: 0px 1px 3px 1px rgba(0, 0, 0, 0.15);\n",
              "      filter: drop-shadow(0px 1px 2px rgba(0, 0, 0, 0.3));\n",
              "      fill: #FFFFFF;\n",
              "    }\n",
              "  </style>\n",
              "\n",
              "      <script>\n",
              "        const buttonEl =\n",
              "          document.querySelector('#df-3d48ce01-04a3-45d6-b829-2ce14d00d4e4 button.colab-df-convert');\n",
              "        buttonEl.style.display =\n",
              "          google.colab.kernel.accessAllowed ? 'block' : 'none';\n",
              "\n",
              "        async function convertToInteractive(key) {\n",
              "          const element = document.querySelector('#df-3d48ce01-04a3-45d6-b829-2ce14d00d4e4');\n",
              "          const dataTable =\n",
              "            await google.colab.kernel.invokeFunction('convertToInteractive',\n",
              "                                                     [key], {});\n",
              "          if (!dataTable) return;\n",
              "\n",
              "          const docLinkHtml = 'Like what you see? Visit the ' +\n",
              "            '<a target=\"_blank\" href=https://colab.research.google.com/notebooks/data_table.ipynb>data table notebook</a>'\n",
              "            + ' to learn more about interactive tables.';\n",
              "          element.innerHTML = '';\n",
              "          dataTable['output_type'] = 'display_data';\n",
              "          await google.colab.output.renderOutput(dataTable, element);\n",
              "          const docLink = document.createElement('div');\n",
              "          docLink.innerHTML = docLinkHtml;\n",
              "          element.appendChild(docLink);\n",
              "        }\n",
              "      </script>\n",
              "    </div>\n",
              "  </div>\n",
              "  "
            ]
          },
          "metadata": {},
          "execution_count": 22
        }
      ]
    },
    {
      "cell_type": "markdown",
      "source": [
        "## $$x_3$$"
      ],
      "metadata": {
        "id": "ZeZJ3nldBKaC"
      }
    },
    {
      "cell_type": "code",
      "source": [
        "model.fit(x3_train.reshape(-1,1), y_train.reshape(-1,1))"
      ],
      "metadata": {
        "colab": {
          "base_uri": "https://localhost:8080/"
        },
        "id": "v_B6kR508BJn",
        "outputId": "a0dc984f-5685-439c-aed8-4444a4b33ee5"
      },
      "execution_count": null,
      "outputs": [
        {
          "output_type": "execute_result",
          "data": {
            "text/plain": [
              "LinearRegression()"
            ]
          },
          "metadata": {},
          "execution_count": 23
        }
      ]
    },
    {
      "cell_type": "code",
      "source": [
        "model.intercept_, model.coef_"
      ],
      "metadata": {
        "colab": {
          "base_uri": "https://localhost:8080/"
        },
        "id": "A7fe14xC-P-T",
        "outputId": "30fe9266-ebd4-4f78-ebae-8137a5b0239c"
      },
      "execution_count": null,
      "outputs": [
        {
          "output_type": "execute_result",
          "data": {
            "text/plain": [
              "(array([2.58554919]), array([[68.01309401]]))"
            ]
          },
          "metadata": {},
          "execution_count": 24
        }
      ]
    },
    {
      "cell_type": "markdown",
      "source": [
        "$$\\hat{y}_3=3.40+71.27x_3$$"
      ],
      "metadata": {
        "id": "okySNmzb-Wgk"
      }
    },
    {
      "cell_type": "code",
      "source": [
        "predicted = model.predict(x3_test)"
      ],
      "metadata": {
        "id": "ivBqikEmItnZ"
      },
      "execution_count": null,
      "outputs": []
    },
    {
      "cell_type": "code",
      "source": [
        "plt.figure(figsize=(10, 8))\n",
        "sns.scatterplot(x=x3_train.reshape((1, -1))[0], y=y_train.reshape((1, -1))[0], color ='#EE2677', alpha =0.5)\n",
        "sns.lineplot(x=x3_test.reshape((1, -1))[0], y=predicted.reshape((1, -1))[0], color ='#0496FF', alpha =0.7, lw = 4)\n",
        "plt.show()"
      ],
      "metadata": {
        "colab": {
          "base_uri": "https://localhost:8080/",
          "height": 483
        },
        "outputId": "813279f4-a12c-45d5-c34a-aec0ad162a4f",
        "id": "qJWcVKpkItnf"
      },
      "execution_count": null,
      "outputs": [
        {
          "output_type": "display_data",
          "data": {
            "text/plain": [
              "<Figure size 720x576 with 1 Axes>"
            ],
            "image/png": "[encoded data removed]"
          },
          "metadata": {}
        }
      ]
    },
    {
      "cell_type": "code",
      "source": [
        "model.score(x3_test, y_test)"
      ],
      "metadata": {
        "colab": {
          "base_uri": "https://localhost:8080/"
        },
        "outputId": "5e597b5d-0414-4537-8130-52c7568dbf29",
        "id": "yEvHih5IItnf"
      },
      "execution_count": null,
      "outputs": [
        {
          "output_type": "execute_result",
          "data": {
            "text/plain": [
              "0.6402464623659541"
            ]
          },
          "metadata": {},
          "execution_count": 27
        }
      ]
    },
    {
      "cell_type": "code",
      "source": [
        "score_df['y, x3'] = [model.intercept_[0],\n",
        "                     model.coef_[0].tolist()[0],\n",
        "                     '-',\n",
        "                     '-',\n",
        "                     '-',\n",
        "                     model.score(x3_test, y_test),\n",
        "                     np.mean(abs(predicted-y_test)),\n",
        "                     np.sqrt(np.mean((predicted-y_test)**2)),\n",
        "                     np.mean(abs(predicted-y_test))/np.mean(abs(y_test-np.mean(y_test))),\n",
        "                     np.mean((predicted-y_test)**2)/np.mean((y_test-np.mean(y_test))**2)]\n",
        "score_df"
      ],
      "metadata": {
        "colab": {
          "base_uri": "https://localhost:8080/",
          "height": 363
        },
        "outputId": "4ca827df-b92b-4e9c-eac5-8e5c23587fe2",
        "id": "qmg9Kzc3Itnf"
      },
      "execution_count": null,
      "outputs": [
        {
          "output_type": "execute_result",
          "data": {
            "text/plain": [
              "          y, x1      y, x2      y, x3\n",
              "b0     8.061302   5.883859   2.585549\n",
              "b1     2.751358  52.841377  68.013094\n",
              "b2            -          -          -\n",
              "b3            -          -          -\n",
              "b4            -          -          -\n",
              "R^2    0.003314   0.397416   0.640246\n",
              "MAE   74.264037  56.080112  43.153683\n",
              "RMSE   89.94364  69.935863  54.037321\n",
              "RAE    0.997762   0.753455   0.579784\n",
              "RSE    0.996686   0.602584   0.359754"
            ],
            "text/html": [
              "\n",
              "  <div id=\"df-dc0dd119-93f4-406c-bf4a-e8918b326443\">\n",
              "    <div class=\"colab-df-container\">\n",
              "      <div>\n",
              "<style scoped>\n",
              "    .dataframe tbody tr th:only-of-type {\n",
              "        vertical-align: middle;\n",
              "    }\n",
              "\n",
              "    .dataframe tbody tr th {\n",
              "        vertical-align: top;\n",
              "    }\n",
              "\n",
              "    .dataframe thead th {\n",
              "        text-align: right;\n",
              "    }\n",
              "</style>\n",
              "<table border=\"1\" class=\"dataframe\">\n",
              "  <thead>\n",
              "    <tr style=\"text-align: right;\">\n",
              "      <th></th>\n",
              "      <th>y, x1</th>\n",
              "      <th>y, x2</th>\n",
              "      <th>y, x3</th>\n",
              "    </tr>\n",
              "  </thead>\n",
              "  <tbody>\n",
              "    <tr>\n",
              "      <th>b0</th>\n",
              "      <td>8.061302</td>\n",
              "      <td>5.883859</td>\n",
              "      <td>2.585549</td>\n",
              "    </tr>\n",
              "    <tr>\n",
              "      <th>b1</th>\n",
              "      <td>2.751358</td>\n",
              "      <td>52.841377</td>\n",
              "      <td>68.013094</td>\n",
              "    </tr>\n",
              "    <tr>\n",
              "      <th>b2</th>\n",
              "      <td>-</td>\n",
              "      <td>-</td>\n",
              "      <td>-</td>\n",
              "    </tr>\n",
              "    <tr>\n",
              "      <th>b3</th>\n",
              "      <td>-</td>\n",
              "      <td>-</td>\n",
              "      <td>-</td>\n",
              "    </tr>\n",
              "    <tr>\n",
              "      <th>b4</th>\n",
              "      <td>-</td>\n",
              "      <td>-</td>\n",
              "      <td>-</td>\n",
              "    </tr>\n",
              "    <tr>\n",
              "      <th>R^2</th>\n",
              "      <td>0.003314</td>\n",
              "      <td>0.397416</td>\n",
              "      <td>0.640246</td>\n",
              "    </tr>\n",
              "    <tr>\n",
              "      <th>MAE</th>\n",
              "      <td>74.264037</td>\n",
              "      <td>56.080112</td>\n",
              "      <td>43.153683</td>\n",
              "    </tr>\n",
              "    <tr>\n",
              "      <th>RMSE</th>\n",
              "      <td>89.94364</td>\n",
              "      <td>69.935863</td>\n",
              "      <td>54.037321</td>\n",
              "    </tr>\n",
              "    <tr>\n",
              "      <th>RAE</th>\n",
              "      <td>0.997762</td>\n",
              "      <td>0.753455</td>\n",
              "      <td>0.579784</td>\n",
              "    </tr>\n",
              "    <tr>\n",
              "      <th>RSE</th>\n",
              "      <td>0.996686</td>\n",
              "      <td>0.602584</td>\n",
              "      <td>0.359754</td>\n",
              "    </tr>\n",
              "  </tbody>\n",
              "</table>\n",
              "</div>\n",
              "      <button class=\"colab-df-convert\" onclick=\"convertToInteractive('df-dc0dd119-93f4-406c-bf4a-e8918b326443')\"\n",
              "              title=\"Convert this dataframe to an interactive table.\"\n",
              "              style=\"display:none;\">\n",
              "        \n",
              "  <svg xmlns=\"http://www.w3.org/2000/svg\" height=\"24px\"viewBox=\"0 0 24 24\"\n",
              "       width=\"24px\">\n",
              "    <path d=\"M0 0h24v24H0V0z\" fill=\"none\"/>\n",
              "    <path d=\"M18.56 5.44l.94 2.06.94-2.06 2.06-.94-2.06-.94-.94-2.06-.94 2.06-2.06.94zm-11 1L8.5 8.5l.94-2.06 2.06-.94-2.06-.94L8.5 2.5l-.94 2.06-2.06.94zm10 10l.94 2.06.94-2.06 2.06-.94-2.06-.94-.94-2.06-.94 2.06-2.06.94z\"/><path d=\"M17.41 7.96l-1.37-1.37c-.4-.4-.92-.59-1.43-.59-.52 0-1.04.2-1.43.59L10.3 9.45l-7.72 7.72c-.78.78-.78 2.05 0 2.83L4 21.41c.39.39.9.59 1.41.59.51 0 1.02-.2 1.41-.59l7.78-7.78 2.81-2.81c.8-.78.8-2.07 0-2.86zM5.41 20L4 18.59l7.72-7.72 1.47 1.35L5.41 20z\"/>\n",
              "  </svg>\n",
              "      </button>\n",
              "      \n",
              "  <style>\n",
              "    .colab-df-container {\n",
              "      display:flex;\n",
              "      flex-wrap:wrap;\n",
              "      gap: 12px;\n",
              "    }\n",
              "\n",
              "    .colab-df-convert {\n",
              "      background-color: #E8F0FE;\n",
              "      border: none;\n",
              "      border-radius: 50%;\n",
              "      cursor: pointer;\n",
              "      display: none;\n",
              "      fill: #1967D2;\n",
              "      height: 32px;\n",
              "      padding: 0 0 0 0;\n",
              "      width: 32px;\n",
              "    }\n",
              "\n",
              "    .colab-df-convert:hover {\n",
              "      background-color: #E2EBFA;\n",
              "      box-shadow: 0px 1px 2px rgba(60, 64, 67, 0.3), 0px 1px 3px 1px rgba(60, 64, 67, 0.15);\n",
              "      fill: #174EA6;\n",
              "    }\n",
              "\n",
              "    [theme=dark] .colab-df-convert {\n",
              "      background-color: #3B4455;\n",
              "      fill: #D2E3FC;\n",
              "    }\n",
              "\n",
              "    [theme=dark] .colab-df-convert:hover {\n",
              "      background-color: #434B5C;\n",
              "      box-shadow: 0px 1px 3px 1px rgba(0, 0, 0, 0.15);\n",
              "      filter: drop-shadow(0px 1px 2px rgba(0, 0, 0, 0.3));\n",
              "      fill: #FFFFFF;\n",
              "    }\n",
              "  </style>\n",
              "\n",
              "      <script>\n",
              "        const buttonEl =\n",
              "          document.querySelector('#df-dc0dd119-93f4-406c-bf4a-e8918b326443 button.colab-df-convert');\n",
              "        buttonEl.style.display =\n",
              "          google.colab.kernel.accessAllowed ? 'block' : 'none';\n",
              "\n",
              "        async function convertToInteractive(key) {\n",
              "          const element = document.querySelector('#df-dc0dd119-93f4-406c-bf4a-e8918b326443');\n",
              "          const dataTable =\n",
              "            await google.colab.kernel.invokeFunction('convertToInteractive',\n",
              "                                                     [key], {});\n",
              "          if (!dataTable) return;\n",
              "\n",
              "          const docLinkHtml = 'Like what you see? Visit the ' +\n",
              "            '<a target=\"_blank\" href=https://colab.research.google.com/notebooks/data_table.ipynb>data table notebook</a>'\n",
              "            + ' to learn more about interactive tables.';\n",
              "          element.innerHTML = '';\n",
              "          dataTable['output_type'] = 'display_data';\n",
              "          await google.colab.output.renderOutput(dataTable, element);\n",
              "          const docLink = document.createElement('div');\n",
              "          docLink.innerHTML = docLinkHtml;\n",
              "          element.appendChild(docLink);\n",
              "        }\n",
              "      </script>\n",
              "    </div>\n",
              "  </div>\n",
              "  "
            ]
          },
          "metadata": {},
          "execution_count": 28
        }
      ]
    },
    {
      "cell_type": "markdown",
      "source": [
        "## $$x_4$$"
      ],
      "metadata": {
        "id": "OkrbW7vnBLqr"
      }
    },
    {
      "cell_type": "code",
      "source": [
        "model.fit(x4_train.reshape(-1,1), y_train.reshape(-1,1))"
      ],
      "metadata": {
        "colab": {
          "base_uri": "https://localhost:8080/"
        },
        "id": "Tk7YSehe8A__",
        "outputId": "d22cb911-6db4-40dd-e1df-bfbcf88e1c24"
      },
      "execution_count": null,
      "outputs": [
        {
          "output_type": "execute_result",
          "data": {
            "text/plain": [
              "LinearRegression()"
            ]
          },
          "metadata": {},
          "execution_count": 29
        }
      ]
    },
    {
      "cell_type": "code",
      "source": [
        "model.intercept_, model.coef_"
      ],
      "metadata": {
        "colab": {
          "base_uri": "https://localhost:8080/"
        },
        "id": "WXRHibzy-knq",
        "outputId": "e206c9df-b7e7-47b6-b2b2-9fa7af4552b0"
      },
      "execution_count": null,
      "outputs": [
        {
          "output_type": "execute_result",
          "data": {
            "text/plain": [
              "(array([8.38217804]), array([[-6.0391457]]))"
            ]
          },
          "metadata": {},
          "execution_count": 30
        }
      ]
    },
    {
      "cell_type": "markdown",
      "source": [
        "$$\\hat{y}_4=7.42-3.85x_4$$"
      ],
      "metadata": {
        "id": "u7MQz6GD98Th"
      }
    },
    {
      "cell_type": "code",
      "source": [
        "predicted = model.predict(x4_test)"
      ],
      "metadata": {
        "id": "KaNPaOIdJETw"
      },
      "execution_count": null,
      "outputs": []
    },
    {
      "cell_type": "code",
      "source": [
        "plt.figure(figsize=(10, 8))\n",
        "sns.scatterplot(x=x4_train.reshape((1, -1))[0], y=y_train.reshape((1, -1))[0], color ='#EE2677', alpha =0.5)\n",
        "sns.lineplot(x=x4_test.reshape((1, -1))[0], y=predicted.reshape((1, -1))[0], color ='#0496FF', alpha =0.7, lw = 4)\n",
        "plt.show()"
      ],
      "metadata": {
        "colab": {
          "base_uri": "https://localhost:8080/",
          "height": 483
        },
        "outputId": "05fb35cf-a44d-4d0d-ef86-6cdec3be5ded",
        "id": "DcU8frkBJETx"
      },
      "execution_count": null,
      "outputs": [
        {
          "output_type": "display_data",
          "data": {
            "text/plain": [
              "<Figure size 720x576 with 1 Axes>"
            ],
            "image/png": "[encoded data removed]"
          },
          "metadata": {}
        }
      ]
    },
    {
      "cell_type": "code",
      "source": [
        "model.score(x4_test, y_test)"
      ],
      "metadata": {
        "colab": {
          "base_uri": "https://localhost:8080/"
        },
        "outputId": "bd2c9fdc-f7f8-44df-dc55-a9dbe48cb756",
        "id": "oWkKtWQ4JETx"
      },
      "execution_count": null,
      "outputs": [
        {
          "output_type": "execute_result",
          "data": {
            "text/plain": [
              "-0.021763521725996604"
            ]
          },
          "metadata": {},
          "execution_count": 33
        }
      ]
    },
    {
      "cell_type": "code",
      "source": [
        "score_df['y, x4'] = [model.intercept_[0],\n",
        "                     model.coef_[0].tolist()[0],\n",
        "                     '-',\n",
        "                     '-',\n",
        "                     '-',\n",
        "                     model.score(x4_test, y_test),\n",
        "                     np.mean(abs(predicted-y_test)),\n",
        "                     np.sqrt(np.mean((predicted-y_test)**2)),\n",
        "                     np.mean(abs(predicted-y_test))/np.mean(abs(y_test-np.mean(y_test))),\n",
        "                     np.mean((predicted-y_test)**2)/np.mean((y_test-np.mean(y_test))**2)]\n",
        "score_df"
      ],
      "metadata": {
        "colab": {
          "base_uri": "https://localhost:8080/",
          "height": 363
        },
        "outputId": "a67342d9-8bb0-40c4-b820-a9dc89b9512a",
        "id": "llieFb7QJETx"
      },
      "execution_count": null,
      "outputs": [
        {
          "output_type": "execute_result",
          "data": {
            "text/plain": [
              "          y, x1      y, x2      y, x3      y, x4\n",
              "b0     8.061302   5.883859   2.585549   8.382178\n",
              "b1     2.751358  52.841377  68.013094  -6.039146\n",
              "b2            -          -          -          -\n",
              "b3            -          -          -          -\n",
              "b4            -          -          -          -\n",
              "R^2    0.003314   0.397416   0.640246  -0.021764\n",
              "MAE   74.264037  56.080112  43.153683  75.082449\n",
              "RMSE   89.94364  69.935863  54.037321   91.06814\n",
              "RAE    0.997762   0.753455   0.579784   1.008758\n",
              "RSE    0.996686   0.602584   0.359754   1.021764"
            ],
            "text/html": [
              "\n",
              "  <div id=\"df-caa4279e-21ca-404a-804a-0425ab8aa7e3\">\n",
              "    <div class=\"colab-df-container\">\n",
              "      <div>\n",
              "<style scoped>\n",
              "    .dataframe tbody tr th:only-of-type {\n",
              "        vertical-align: middle;\n",
              "    }\n",
              "\n",
              "    .dataframe tbody tr th {\n",
              "        vertical-align: top;\n",
              "    }\n",
              "\n",
              "    .dataframe thead th {\n",
              "        text-align: right;\n",
              "    }\n",
              "</style>\n",
              "<table border=\"1\" class=\"dataframe\">\n",
              "  <thead>\n",
              "    <tr style=\"text-align: right;\">\n",
              "      <th></th>\n",
              "      <th>y, x1</th>\n",
              "      <th>y, x2</th>\n",
              "      <th>y, x3</th>\n",
              "      <th>y, x4</th>\n",
              "    </tr>\n",
              "  </thead>\n",
              "  <tbody>\n",
              "    <tr>\n",
              "      <th>b0</th>\n",
              "      <td>8.061302</td>\n",
              "      <td>5.883859</td>\n",
              "      <td>2.585549</td>\n",
              "      <td>8.382178</td>\n",
              "    </tr>\n",
              "    <tr>\n",
              "      <th>b1</th>\n",
              "      <td>2.751358</td>\n",
              "      <td>52.841377</td>\n",
              "      <td>68.013094</td>\n",
              "      <td>-6.039146</td>\n",
              "    </tr>\n",
              "    <tr>\n",
              "      <th>b2</th>\n",
              "      <td>-</td>\n",
              "      <td>-</td>\n",
              "      <td>-</td>\n",
              "      <td>-</td>\n",
              "    </tr>\n",
              "    <tr>\n",
              "      <th>b3</th>\n",
              "      <td>-</td>\n",
              "      <td>-</td>\n",
              "      <td>-</td>\n",
              "      <td>-</td>\n",
              "    </tr>\n",
              "    <tr>\n",
              "      <th>b4</th>\n",
              "      <td>-</td>\n",
              "      <td>-</td>\n",
              "      <td>-</td>\n",
              "      <td>-</td>\n",
              "    </tr>\n",
              "    <tr>\n",
              "      <th>R^2</th>\n",
              "      <td>0.003314</td>\n",
              "      <td>0.397416</td>\n",
              "      <td>0.640246</td>\n",
              "      <td>-0.021764</td>\n",
              "    </tr>\n",
              "    <tr>\n",
              "      <th>MAE</th>\n",
              "      <td>74.264037</td>\n",
              "      <td>56.080112</td>\n",
              "      <td>43.153683</td>\n",
              "      <td>75.082449</td>\n",
              "    </tr>\n",
              "    <tr>\n",
              "      <th>RMSE</th>\n",
              "      <td>89.94364</td>\n",
              "      <td>69.935863</td>\n",
              "      <td>54.037321</td>\n",
              "      <td>91.06814</td>\n",
              "    </tr>\n",
              "    <tr>\n",
              "      <th>RAE</th>\n",
              "      <td>0.997762</td>\n",
              "      <td>0.753455</td>\n",
              "      <td>0.579784</td>\n",
              "      <td>1.008758</td>\n",
              "    </tr>\n",
              "    <tr>\n",
              "      <th>RSE</th>\n",
              "      <td>0.996686</td>\n",
              "      <td>0.602584</td>\n",
              "      <td>0.359754</td>\n",
              "      <td>1.021764</td>\n",
              "    </tr>\n",
              "  </tbody>\n",
              "</table>\n",
              "</div>\n",
              "      <button class=\"colab-df-convert\" onclick=\"convertToInteractive('df-caa4279e-21ca-404a-804a-0425ab8aa7e3')\"\n",
              "              title=\"Convert this dataframe to an interactive table.\"\n",
              "              style=\"display:none;\">\n",
              "        \n",
              "  <svg xmlns=\"http://www.w3.org/2000/svg\" height=\"24px\"viewBox=\"0 0 24 24\"\n",
              "       width=\"24px\">\n",
              "    <path d=\"M0 0h24v24H0V0z\" fill=\"none\"/>\n",
              "    <path d=\"M18.56 5.44l.94 2.06.94-2.06 2.06-.94-2.06-.94-.94-2.06-.94 2.06-2.06.94zm-11 1L8.5 8.5l.94-2.06 2.06-.94-2.06-.94L8.5 2.5l-.94 2.06-2.06.94zm10 10l.94 2.06.94-2.06 2.06-.94-2.06-.94-.94-2.06-.94 2.06-2.06.94z\"/><path d=\"M17.41 7.96l-1.37-1.37c-.4-.4-.92-.59-1.43-.59-.52 0-1.04.2-1.43.59L10.3 9.45l-7.72 7.72c-.78.78-.78 2.05 0 2.83L4 21.41c.39.39.9.59 1.41.59.51 0 1.02-.2 1.41-.59l7.78-7.78 2.81-2.81c.8-.78.8-2.07 0-2.86zM5.41 20L4 18.59l7.72-7.72 1.47 1.35L5.41 20z\"/>\n",
              "  </svg>\n",
              "      </button>\n",
              "      \n",
              "  <style>\n",
              "    .colab-df-container {\n",
              "      display:flex;\n",
              "      flex-wrap:wrap;\n",
              "      gap: 12px;\n",
              "    }\n",
              "\n",
              "    .colab-df-convert {\n",
              "      background-color: #E8F0FE;\n",
              "      border: none;\n",
              "      border-radius: 50%;\n",
              "      cursor: pointer;\n",
              "      display: none;\n",
              "      fill: #1967D2;\n",
              "      height: 32px;\n",
              "      padding: 0 0 0 0;\n",
              "      width: 32px;\n",
              "    }\n",
              "\n",
              "    .colab-df-convert:hover {\n",
              "      background-color: #E2EBFA;\n",
              "      box-shadow: 0px 1px 2px rgba(60, 64, 67, 0.3), 0px 1px 3px 1px rgba(60, 64, 67, 0.15);\n",
              "      fill: #174EA6;\n",
              "    }\n",
              "\n",
              "    [theme=dark] .colab-df-convert {\n",
              "      background-color: #3B4455;\n",
              "      fill: #D2E3FC;\n",
              "    }\n",
              "\n",
              "    [theme=dark] .colab-df-convert:hover {\n",
              "      background-color: #434B5C;\n",
              "      box-shadow: 0px 1px 3px 1px rgba(0, 0, 0, 0.15);\n",
              "      filter: drop-shadow(0px 1px 2px rgba(0, 0, 0, 0.3));\n",
              "      fill: #FFFFFF;\n",
              "    }\n",
              "  </style>\n",
              "\n",
              "      <script>\n",
              "        const buttonEl =\n",
              "          document.querySelector('#df-caa4279e-21ca-404a-804a-0425ab8aa7e3 button.colab-df-convert');\n",
              "        buttonEl.style.display =\n",
              "          google.colab.kernel.accessAllowed ? 'block' : 'none';\n",
              "\n",
              "        async function convertToInteractive(key) {\n",
              "          const element = document.querySelector('#df-caa4279e-21ca-404a-804a-0425ab8aa7e3');\n",
              "          const dataTable =\n",
              "            await google.colab.kernel.invokeFunction('convertToInteractive',\n",
              "                                                     [key], {});\n",
              "          if (!dataTable) return;\n",
              "\n",
              "          const docLinkHtml = 'Like what you see? Visit the ' +\n",
              "            '<a target=\"_blank\" href=https://colab.research.google.com/notebooks/data_table.ipynb>data table notebook</a>'\n",
              "            + ' to learn more about interactive tables.';\n",
              "          element.innerHTML = '';\n",
              "          dataTable['output_type'] = 'display_data';\n",
              "          await google.colab.output.renderOutput(dataTable, element);\n",
              "          const docLink = document.createElement('div');\n",
              "          docLink.innerHTML = docLinkHtml;\n",
              "          element.appendChild(docLink);\n",
              "        }\n",
              "      </script>\n",
              "    </div>\n",
              "  </div>\n",
              "  "
            ]
          },
          "metadata": {},
          "execution_count": 34
        }
      ]
    },
    {
      "cell_type": "markdown",
      "source": [
        "# Множественная регрессия"
      ],
      "metadata": {
        "id": "6MP7oHcXJFEF"
      }
    },
    {
      "cell_type": "code",
      "source": [
        "X.values"
      ],
      "metadata": {
        "colab": {
          "base_uri": "https://localhost:8080/"
        },
        "id": "ub2nWwrLOXlQ",
        "outputId": "1547cb0c-7d18-486f-dc55-0df58279e83c"
      },
      "execution_count": null,
      "outputs": [
        {
          "output_type": "execute_result",
          "data": {
            "text/plain": [
              "array([[-1.29100786, -1.05102348,  0.78143646,  2.47617333],\n",
              "       [-1.62817474,  0.5617408 ,  0.88148748,  0.86612139],\n",
              "       [ 0.97653375,  1.04592469, -0.01547509, -0.37656417],\n",
              "       ...,\n",
              "       [-0.63468329, -0.89716934,  1.30030102, -0.50695639],\n",
              "       [-0.60702624,  0.957809  , -1.67408218,  0.49291176],\n",
              "       [-0.17149524, -2.7831023 ,  0.19534766, -0.75036019]])"
            ]
          },
          "metadata": {},
          "execution_count": 35
        }
      ]
    },
    {
      "cell_type": "code",
      "source": [
        "from sklearn.model_selection import train_test_split\n",
        "# Split the dataset: 80% vs 20% \n",
        "X_train, X_test, y_train, y_test = train_test_split(X.values, Y.values, test_size=0.2, random_state=313)"
      ],
      "metadata": {
        "id": "tISuaz-d7l59"
      },
      "execution_count": null,
      "outputs": []
    },
    {
      "cell_type": "code",
      "source": [
        "model = linear_model.LinearRegression()"
      ],
      "metadata": {
        "id": "H57pBdhNO-C3"
      },
      "execution_count": null,
      "outputs": []
    },
    {
      "cell_type": "code",
      "source": [
        "model.fit(X_train,y_train)"
      ],
      "metadata": {
        "colab": {
          "base_uri": "https://localhost:8080/"
        },
        "id": "ctFkOfdMO1OO",
        "outputId": "ab40ac28-30a9-4019-b9dd-71f2b30fb922"
      },
      "execution_count": null,
      "outputs": [
        {
          "output_type": "execute_result",
          "data": {
            "text/plain": [
              "LinearRegression()"
            ]
          },
          "metadata": {},
          "execution_count": 38
        }
      ]
    },
    {
      "cell_type": "code",
      "source": [
        "model.intercept_, model.coef_"
      ],
      "metadata": {
        "colab": {
          "base_uri": "https://localhost:8080/"
        },
        "id": "D_CdUBfiPMlT",
        "outputId": "542f46ef-c2dc-4fea-bf0d-6d34b660952d"
      },
      "execution_count": null,
      "outputs": [
        {
          "output_type": "execute_result",
          "data": {
            "text/plain": [
              "(array([-0.21546294]),\n",
              " array([[-0.65212075, 54.40312108, 69.91523726,  4.33970203]]))"
            ]
          },
          "metadata": {},
          "execution_count": 39
        }
      ]
    },
    {
      "cell_type": "markdown",
      "source": [
        "$$\\hat{y}=-0.22-0.65x_1+54.40x_2+69.92x_3+4.34x_4$$"
      ],
      "metadata": {
        "id": "2Y7p9grtPQ3l"
      }
    },
    {
      "cell_type": "code",
      "source": [
        "predicted = model.predict(X_test)"
      ],
      "metadata": {
        "id": "NrtG3uDOPkv-"
      },
      "execution_count": null,
      "outputs": []
    },
    {
      "cell_type": "code",
      "source": [
        "model.score(X_test, y_test)"
      ],
      "metadata": {
        "colab": {
          "base_uri": "https://localhost:8080/"
        },
        "id": "jST9Z0__QVQf",
        "outputId": "455493f1-5399-40ae-99d1-6a4f6660afb5"
      },
      "execution_count": null,
      "outputs": [
        {
          "output_type": "execute_result",
          "data": {
            "text/plain": [
              "0.9905458234563498"
            ]
          },
          "metadata": {},
          "execution_count": 41
        }
      ]
    },
    {
      "cell_type": "markdown",
      "source": [
        "![image.png](data:image/png;base64,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)"
      ],
      "metadata": {
        "id": "APksoq4MRTHv"
      }
    },
    {
      "cell_type": "code",
      "source": [
        "score_df['y, X'] = [model.intercept_[0],\n",
        "                    model.coef_[0].tolist()[0],\n",
        "                    model.coef_[0].tolist()[1],\n",
        "                    model.coef_[0].tolist()[2],\n",
        "                    model.coef_[0].tolist()[3],\n",
        "                    model.score(X_test, y_test),\n",
        "                    np.mean(abs(predicted-y_test)),\n",
        "                    np.sqrt(np.mean((predicted-y_test)**2)),\n",
        "                    np.mean(abs(predicted-y_test))/np.mean(abs(y_test-np.mean(y_test))),\n",
        "                    np.mean((predicted-y_test)**2)/np.mean((y_test-np.mean(y_test))**2)]\n",
        "score_df"
      ],
      "metadata": {
        "colab": {
          "base_uri": "https://localhost:8080/",
          "height": 363
        },
        "id": "yjCGfVF5RZTu",
        "outputId": "691de762-ef9f-46ec-ff6d-c32e30b13de5"
      },
      "execution_count": null,
      "outputs": [
        {
          "output_type": "execute_result",
          "data": {
            "text/plain": [
              "          y, x1      y, x2      y, x3      y, x4       y, X\n",
              "b0     8.061302   5.883859   2.585549   8.382178  -0.215463\n",
              "b1     2.751358  52.841377  68.013094  -6.039146  -0.652121\n",
              "b2            -          -          -          -  54.403121\n",
              "b3            -          -          -          -  69.915237\n",
              "b4            -          -          -          -   4.339702\n",
              "R^2    0.003314   0.397416   0.640246  -0.021764   0.990546\n",
              "MAE   74.264037  56.080112  43.153683  75.082449   7.091187\n",
              "RMSE   89.94364  69.935863  54.037321   91.06814   8.770553\n",
              "RAE    0.997762   0.753455   0.579784   1.008758   0.098495\n",
              "RSE    0.996686   0.602584   0.359754   1.021764   0.009454"
            ],
            "text/html": [
              "\n",
              "  <div id=\"df-f8c628da-3a2a-4a52-934b-3cf0e1b36fbf\">\n",
              "    <div class=\"colab-df-container\">\n",
              "      <div>\n",
              "<style scoped>\n",
              "    .dataframe tbody tr th:only-of-type {\n",
              "        vertical-align: middle;\n",
              "    }\n",
              "\n",
              "    .dataframe tbody tr th {\n",
              "        vertical-align: top;\n",
              "    }\n",
              "\n",
              "    .dataframe thead th {\n",
              "        text-align: right;\n",
              "    }\n",
              "</style>\n",
              "<table border=\"1\" class=\"dataframe\">\n",
              "  <thead>\n",
              "    <tr style=\"text-align: right;\">\n",
              "      <th></th>\n",
              "      <th>y, x1</th>\n",
              "      <th>y, x2</th>\n",
              "      <th>y, x3</th>\n",
              "      <th>y, x4</th>\n",
              "      <th>y, X</th>\n",
              "    </tr>\n",
              "  </thead>\n",
              "  <tbody>\n",
              "    <tr>\n",
              "      <th>b0</th>\n",
              "      <td>8.061302</td>\n",
              "      <td>5.883859</td>\n",
              "      <td>2.585549</td>\n",
              "      <td>8.382178</td>\n",
              "      <td>-0.215463</td>\n",
              "    </tr>\n",
              "    <tr>\n",
              "      <th>b1</th>\n",
              "      <td>2.751358</td>\n",
              "      <td>52.841377</td>\n",
              "      <td>68.013094</td>\n",
              "      <td>-6.039146</td>\n",
              "      <td>-0.652121</td>\n",
              "    </tr>\n",
              "    <tr>\n",
              "      <th>b2</th>\n",
              "      <td>-</td>\n",
              "      <td>-</td>\n",
              "      <td>-</td>\n",
              "      <td>-</td>\n",
              "      <td>54.403121</td>\n",
              "    </tr>\n",
              "    <tr>\n",
              "      <th>b3</th>\n",
              "      <td>-</td>\n",
              "      <td>-</td>\n",
              "      <td>-</td>\n",
              "      <td>-</td>\n",
              "      <td>69.915237</td>\n",
              "    </tr>\n",
              "    <tr>\n",
              "      <th>b4</th>\n",
              "      <td>-</td>\n",
              "      <td>-</td>\n",
              "      <td>-</td>\n",
              "      <td>-</td>\n",
              "      <td>4.339702</td>\n",
              "    </tr>\n",
              "    <tr>\n",
              "      <th>R^2</th>\n",
              "      <td>0.003314</td>\n",
              "      <td>0.397416</td>\n",
              "      <td>0.640246</td>\n",
              "      <td>-0.021764</td>\n",
              "      <td>0.990546</td>\n",
              "    </tr>\n",
              "    <tr>\n",
              "      <th>MAE</th>\n",
              "      <td>74.264037</td>\n",
              "      <td>56.080112</td>\n",
              "      <td>43.153683</td>\n",
              "      <td>75.082449</td>\n",
              "      <td>7.091187</td>\n",
              "    </tr>\n",
              "    <tr>\n",
              "      <th>RMSE</th>\n",
              "      <td>89.94364</td>\n",
              "      <td>69.935863</td>\n",
              "      <td>54.037321</td>\n",
              "      <td>91.06814</td>\n",
              "      <td>8.770553</td>\n",
              "    </tr>\n",
              "    <tr>\n",
              "      <th>RAE</th>\n",
              "      <td>0.997762</td>\n",
              "      <td>0.753455</td>\n",
              "      <td>0.579784</td>\n",
              "      <td>1.008758</td>\n",
              "      <td>0.098495</td>\n",
              "    </tr>\n",
              "    <tr>\n",
              "      <th>RSE</th>\n",
              "      <td>0.996686</td>\n",
              "      <td>0.602584</td>\n",
              "      <td>0.359754</td>\n",
              "      <td>1.021764</td>\n",
              "      <td>0.009454</td>\n",
              "    </tr>\n",
              "  </tbody>\n",
              "</table>\n",
              "</div>\n",
              "      <button class=\"colab-df-convert\" onclick=\"convertToInteractive('df-f8c628da-3a2a-4a52-934b-3cf0e1b36fbf')\"\n",
              "              title=\"Convert this dataframe to an interactive table.\"\n",
              "              style=\"display:none;\">\n",
              "        \n",
              "  <svg xmlns=\"http://www.w3.org/2000/svg\" height=\"24px\"viewBox=\"0 0 24 24\"\n",
              "       width=\"24px\">\n",
              "    <path d=\"M0 0h24v24H0V0z\" fill=\"none\"/>\n",
              "    <path d=\"M18.56 5.44l.94 2.06.94-2.06 2.06-.94-2.06-.94-.94-2.06-.94 2.06-2.06.94zm-11 1L8.5 8.5l.94-2.06 2.06-.94-2.06-.94L8.5 2.5l-.94 2.06-2.06.94zm10 10l.94 2.06.94-2.06 2.06-.94-2.06-.94-.94-2.06-.94 2.06-2.06.94z\"/><path d=\"M17.41 7.96l-1.37-1.37c-.4-.4-.92-.59-1.43-.59-.52 0-1.04.2-1.43.59L10.3 9.45l-7.72 7.72c-.78.78-.78 2.05 0 2.83L4 21.41c.39.39.9.59 1.41.59.51 0 1.02-.2 1.41-.59l7.78-7.78 2.81-2.81c.8-.78.8-2.07 0-2.86zM5.41 20L4 18.59l7.72-7.72 1.47 1.35L5.41 20z\"/>\n",
              "  </svg>\n",
              "      </button>\n",
              "      \n",
              "  <style>\n",
              "    .colab-df-container {\n",
              "      display:flex;\n",
              "      flex-wrap:wrap;\n",
              "      gap: 12px;\n",
              "    }\n",
              "\n",
              "    .colab-df-convert {\n",
              "      background-color: #E8F0FE;\n",
              "      border: none;\n",
              "      border-radius: 50%;\n",
              "      cursor: pointer;\n",
              "      display: none;\n",
              "      fill: #1967D2;\n",
              "      height: 32px;\n",
              "      padding: 0 0 0 0;\n",
              "      width: 32px;\n",
              "    }\n",
              "\n",
              "    .colab-df-convert:hover {\n",
              "      background-color: #E2EBFA;\n",
              "      box-shadow: 0px 1px 2px rgba(60, 64, 67, 0.3), 0px 1px 3px 1px rgba(60, 64, 67, 0.15);\n",
              "      fill: #174EA6;\n",
              "    }\n",
              "\n",
              "    [theme=dark] .colab-df-convert {\n",
              "      background-color: #3B4455;\n",
              "      fill: #D2E3FC;\n",
              "    }\n",
              "\n",
              "    [theme=dark] .colab-df-convert:hover {\n",
              "      background-color: #434B5C;\n",
              "      box-shadow: 0px 1px 3px 1px rgba(0, 0, 0, 0.15);\n",
              "      filter: drop-shadow(0px 1px 2px rgba(0, 0, 0, 0.3));\n",
              "      fill: #FFFFFF;\n",
              "    }\n",
              "  </style>\n",
              "\n",
              "      <script>\n",
              "        const buttonEl =\n",
              "          document.querySelector('#df-f8c628da-3a2a-4a52-934b-3cf0e1b36fbf button.colab-df-convert');\n",
              "        buttonEl.style.display =\n",
              "          google.colab.kernel.accessAllowed ? 'block' : 'none';\n",
              "\n",
              "        async function convertToInteractive(key) {\n",
              "          const element = document.querySelector('#df-f8c628da-3a2a-4a52-934b-3cf0e1b36fbf');\n",
              "          const dataTable =\n",
              "            await google.colab.kernel.invokeFunction('convertToInteractive',\n",
              "                                                     [key], {});\n",
              "          if (!dataTable) return;\n",
              "\n",
              "          const docLinkHtml = 'Like what you see? Visit the ' +\n",
              "            '<a target=\"_blank\" href=https://colab.research.google.com/notebooks/data_table.ipynb>data table notebook</a>'\n",
              "            + ' to learn more about interactive tables.';\n",
              "          element.innerHTML = '';\n",
              "          dataTable['output_type'] = 'display_data';\n",
              "          await google.colab.output.renderOutput(dataTable, element);\n",
              "          const docLink = document.createElement('div');\n",
              "          docLink.innerHTML = docLinkHtml;\n",
              "          element.appendChild(docLink);\n",
              "        }\n",
              "      </script>\n",
              "    </div>\n",
              "  </div>\n",
              "  "
            ]
          },
          "metadata": {},
          "execution_count": 42
        }
      ]
    },
    {
      "cell_type": "code",
      "source": [
        "pd.DataFrame(abs(y_test - predicted)).describe()"
      ],
      "metadata": {
        "colab": {
          "base_uri": "https://localhost:8080/",
          "height": 300
        },
        "id": "6u2vTLNqTfkF",
        "outputId": "e54a480e-30fc-4033-d1fe-e12ae21b191b"
      },
      "execution_count": null,
      "outputs": [
        {
          "output_type": "execute_result",
          "data": {
            "text/plain": [
              "               0\n",
              "count  99.000000\n",
              "mean    7.091187\n",
              "std     5.187435\n",
              "min     0.292894\n",
              "25%     3.337641\n",
              "50%     5.940231\n",
              "75%     9.891513\n",
              "max    23.236802"
            ],
            "text/html": [
              "\n",
              "  <div id=\"df-bb94a9e2-338a-4c2e-8bf2-622955543030\">\n",
              "    <div class=\"colab-df-container\">\n",
              "      <div>\n",
              "<style scoped>\n",
              "    .dataframe tbody tr th:only-of-type {\n",
              "        vertical-align: middle;\n",
              "    }\n",
              "\n",
              "    .dataframe tbody tr th {\n",
              "        vertical-align: top;\n",
              "    }\n",
              "\n",
              "    .dataframe thead th {\n",
              "        text-align: right;\n",
              "    }\n",
              "</style>\n",
              "<table border=\"1\" class=\"dataframe\">\n",
              "  <thead>\n",
              "    <tr style=\"text-align: right;\">\n",
              "      <th></th>\n",
              "      <th>0</th>\n",
              "    </tr>\n",
              "  </thead>\n",
              "  <tbody>\n",
              "    <tr>\n",
              "      <th>count</th>\n",
              "      <td>99.000000</td>\n",
              "    </tr>\n",
              "    <tr>\n",
              "      <th>mean</th>\n",
              "      <td>7.091187</td>\n",
              "    </tr>\n",
              "    <tr>\n",
              "      <th>std</th>\n",
              "      <td>5.187435</td>\n",
              "    </tr>\n",
              "    <tr>\n",
              "      <th>min</th>\n",
              "      <td>0.292894</td>\n",
              "    </tr>\n",
              "    <tr>\n",
              "      <th>25%</th>\n",
              "      <td>3.337641</td>\n",
              "    </tr>\n",
              "    <tr>\n",
              "      <th>50%</th>\n",
              "      <td>5.940231</td>\n",
              "    </tr>\n",
              "    <tr>\n",
              "      <th>75%</th>\n",
              "      <td>9.891513</td>\n",
              "    </tr>\n",
              "    <tr>\n",
              "      <th>max</th>\n",
              "      <td>23.236802</td>\n",
              "    </tr>\n",
              "  </tbody>\n",
              "</table>\n",
              "</div>\n",
              "      <button class=\"colab-df-convert\" onclick=\"convertToInteractive('df-bb94a9e2-338a-4c2e-8bf2-622955543030')\"\n",
              "              title=\"Convert this dataframe to an interactive table.\"\n",
              "              style=\"display:none;\">\n",
              "        \n",
              "  <svg xmlns=\"http://www.w3.org/2000/svg\" height=\"24px\"viewBox=\"0 0 24 24\"\n",
              "       width=\"24px\">\n",
              "    <path d=\"M0 0h24v24H0V0z\" fill=\"none\"/>\n",
              "    <path d=\"M18.56 5.44l.94 2.06.94-2.06 2.06-.94-2.06-.94-.94-2.06-.94 2.06-2.06.94zm-11 1L8.5 8.5l.94-2.06 2.06-.94-2.06-.94L8.5 2.5l-.94 2.06-2.06.94zm10 10l.94 2.06.94-2.06 2.06-.94-2.06-.94-.94-2.06-.94 2.06-2.06.94z\"/><path d=\"M17.41 7.96l-1.37-1.37c-.4-.4-.92-.59-1.43-.59-.52 0-1.04.2-1.43.59L10.3 9.45l-7.72 7.72c-.78.78-.78 2.05 0 2.83L4 21.41c.39.39.9.59 1.41.59.51 0 1.02-.2 1.41-.59l7.78-7.78 2.81-2.81c.8-.78.8-2.07 0-2.86zM5.41 20L4 18.59l7.72-7.72 1.47 1.35L5.41 20z\"/>\n",
              "  </svg>\n",
              "      </button>\n",
              "      \n",
              "  <style>\n",
              "    .colab-df-container {\n",
              "      display:flex;\n",
              "      flex-wrap:wrap;\n",
              "      gap: 12px;\n",
              "    }\n",
              "\n",
              "    .colab-df-convert {\n",
              "      background-color: #E8F0FE;\n",
              "      border: none;\n",
              "      border-radius: 50%;\n",
              "      cursor: pointer;\n",
              "      display: none;\n",
              "      fill: #1967D2;\n",
              "      height: 32px;\n",
              "      padding: 0 0 0 0;\n",
              "      width: 32px;\n",
              "    }\n",
              "\n",
              "    .colab-df-convert:hover {\n",
              "      background-color: #E2EBFA;\n",
              "      box-shadow: 0px 1px 2px rgba(60, 64, 67, 0.3), 0px 1px 3px 1px rgba(60, 64, 67, 0.15);\n",
              "      fill: #174EA6;\n",
              "    }\n",
              "\n",
              "    [theme=dark] .colab-df-convert {\n",
              "      background-color: #3B4455;\n",
              "      fill: #D2E3FC;\n",
              "    }\n",
              "\n",
              "    [theme=dark] .colab-df-convert:hover {\n",
              "      background-color: #434B5C;\n",
              "      box-shadow: 0px 1px 3px 1px rgba(0, 0, 0, 0.15);\n",
              "      filter: drop-shadow(0px 1px 2px rgba(0, 0, 0, 0.3));\n",
              "      fill: #FFFFFF;\n",
              "    }\n",
              "  </style>\n",
              "\n",
              "      <script>\n",
              "        const buttonEl =\n",
              "          document.querySelector('#df-bb94a9e2-338a-4c2e-8bf2-622955543030 button.colab-df-convert');\n",
              "        buttonEl.style.display =\n",
              "          google.colab.kernel.accessAllowed ? 'block' : 'none';\n",
              "\n",
              "        async function convertToInteractive(key) {\n",
              "          const element = document.querySelector('#df-bb94a9e2-338a-4c2e-8bf2-622955543030');\n",
              "          const dataTable =\n",
              "            await google.colab.kernel.invokeFunction('convertToInteractive',\n",
              "                                                     [key], {});\n",
              "          if (!dataTable) return;\n",
              "\n",
              "          const docLinkHtml = 'Like what you see? Visit the ' +\n",
              "            '<a target=\"_blank\" href=https://colab.research.google.com/notebooks/data_table.ipynb>data table notebook</a>'\n",
              "            + ' to learn more about interactive tables.';\n",
              "          element.innerHTML = '';\n",
              "          dataTable['output_type'] = 'display_data';\n",
              "          await google.colab.output.renderOutput(dataTable, element);\n",
              "          const docLink = document.createElement('div');\n",
              "          docLink.innerHTML = docLinkHtml;\n",
              "          element.appendChild(docLink);\n",
              "        }\n",
              "      </script>\n",
              "    </div>\n",
              "  </div>\n",
              "  "
            ]
          },
          "metadata": {},
          "execution_count": 43
        }
      ]
    },
    {
      "cell_type": "code",
      "source": [
        "plt.figure(figsize=(10, 8))\n",
        "sns.scatterplot(x=np.linspace(-1,1,99),y=y_test.reshape(1,-1)[0], color='#0496FF')\n",
        "sns.scatterplot(x=np.linspace(-1,1,99),y=predicted.reshape(1,-1)[0], color ='#EE2677')\n",
        "plt.show()"
      ],
      "metadata": {
        "colab": {
          "base_uri": "https://localhost:8080/",
          "height": 483
        },
        "id": "p-g2j_3jUioQ",
        "outputId": "299b7ced-8450-4207-9508-c51a5a2bc756"
      },
      "execution_count": null,
      "outputs": [
        {
          "output_type": "display_data",
          "data": {
            "text/plain": [
              "<Figure size 720x576 with 1 Axes>"
            ],
            "image/png": "[encoded data removed]"
          },
          "metadata": {}
        }
      ]
    },
    {
      "cell_type": "markdown",
      "source": [
        "# Дополнительные задания\n",
        "1. Для целевой переменной и каждого из признаков постройте полиномиальную регрессию второго, третьего и десятого порядков. Сделайте вывод о значимости регрессии.\n",
        "2. Постройте сводную таблицу показателей точности всех построенных моделей по тестовой и обучающей выборке. Сделайте вывод, какие модели переобученнные, какие - недообученные.\n",
        "3. Используйте другие метрики качества регрессионной модели в дополнение к коэффициенту детерминации.\n",
        "4. (*) Замерьте время обучения на разных объемах данных и количестве признаков. Сделайте вывод о зависимости скорости обучения от объема обучающей выборки."
      ],
      "metadata": {
        "id": "SAwmL5AtXP6s"
      }
    },
    {
      "cell_type": "code",
      "source": [
        "from sklearn.preprocessing import PolynomialFeatures"
      ],
      "metadata": {
        "id": "hD7XIZw2Poba"
      },
      "execution_count": null,
      "outputs": []
    },
    {
      "cell_type": "markdown",
      "source": [
        "## $$x_1$$"
      ],
      "metadata": {
        "id": "hcX5Ulk_6Uf1"
      }
    },
    {
      "cell_type": "code",
      "source": [
        "from sklearn.pipeline import make_pipeline\n",
        "from sklearn.linear_model import LinearRegression\n",
        "from sklearn.model_selection import train_test_split"
      ],
      "metadata": {
        "id": "VsBgfxp-DsKq"
      },
      "execution_count": null,
      "outputs": []
    },
    {
      "cell_type": "code",
      "source": [
        "X_train, X_test, y_train, y_test = train_test_split(X['x1'].values, Y.values, test_size=0.2, random_state=133)\n",
        "\n",
        "X_seq_train = np.linspace(X_train.min(),X_train.max(),300).reshape(-1,1)\n",
        "X_seq_test = np.linspace(X_test.min(),X_test.max(),300).reshape(-1,1)\n",
        "\n",
        "polyreg_2=make_pipeline(PolynomialFeatures(2),LinearRegression())\n",
        "polyreg_2.fit(X_train.reshape(-1,1),y_train)\n",
        "\n",
        "polyreg_3=make_pipeline(PolynomialFeatures(3),LinearRegression())\n",
        "polyreg_3.fit(X_train.reshape(-1,1),y_train)\n",
        "\n",
        "polyreg_10=make_pipeline(PolynomialFeatures(10),LinearRegression())\n",
        "polyreg_10.fit(X_train.reshape(-1,1),y_train)"
      ],
      "metadata": {
        "colab": {
          "base_uri": "https://localhost:8080/"
        },
        "id": "8-Ztmc41vWr3",
        "outputId": "6cfbbb8f-0886-4e91-df48-916f90c53192"
      },
      "execution_count": null,
      "outputs": [
        {
          "output_type": "execute_result",
          "data": {
            "text/plain": [
              "Pipeline(steps=[('polynomialfeatures', PolynomialFeatures(degree=10)),\n",
              "                ('linearregression', LinearRegression())])"
            ]
          },
          "metadata": {},
          "execution_count": 47
        }
      ]
    },
    {
      "cell_type": "code",
      "source": [
        "fig, (ax1, ax2) = plt.subplots(1, 2, figsize=(18, 8))\n",
        "\n",
        "ax1.scatter(X_train, y_train, color='#0496FF', alpha = 0.4)\n",
        "ax1.plot(X_seq_train, polyreg_2.predict(X_seq_train), color=\"#F374AE\", lw = 4, linestyle = 'solid', label='2 degree')\n",
        "ax1.plot(X_seq_train, polyreg_3.predict(X_seq_train), color=\"#E31471\", lw = 5, linestyle = 'dotted', label='3 degree')\n",
        "ax1.plot(X_seq_train, polyreg_10.predict(X_seq_train), color=\"#7A0B3D\", lw = 3, linestyle = 'dashed', label='10 degree')\n",
        "ax1.set_title(\"Polynomial regression on x1 with train data\")\n",
        "ax1.legend()\n",
        "\n",
        "ax2.scatter(X_test, y_test, color='#0496FF', alpha = 0.4)\n",
        "ax2.plot(X_seq_test, polyreg_2.predict(X_seq_test), color=\"#F374AE\", lw = 4, linestyle = 'solid', label='2 degree')\n",
        "ax2.plot(X_seq_test, polyreg_3.predict(X_seq_test), color=\"#E31471\", lw = 5, linestyle = 'dotted', label='3 degree')\n",
        "ax2.plot(X_seq_test, polyreg_10.predict(X_seq_test), color=\"#7A0B3D\", lw = 3, linestyle = 'dashed', label='10 degree')\n",
        "ax2.set_title(\"Polynomial regression on x1 with test data\")\n",
        "ax2.legend()"
      ],
      "metadata": {
        "colab": {
          "base_uri": "https://localhost:8080/",
          "height": 516
        },
        "id": "M7uqIeqQ49ib",
        "outputId": "8bd3a1da-53f7-467f-8927-1d2269879ded"
      },
      "execution_count": null,
      "outputs": [
        {
          "output_type": "execute_result",
          "data": {
            "text/plain": [
              "<matplotlib.legend.Legend at 0x7f81741f4dd0>"
            ]
          },
          "metadata": {},
          "execution_count": 48
        },
        {
          "output_type": "display_data",
          "data": {
            "text/plain": [
              "<Figure size 1296x576 with 2 Axes>"
            ],
            "image/png": "[encoded data removed]"
          },
          "metadata": {}
        }
      ]
    },
    {
      "cell_type": "code",
      "source": [
        "polyscore_df = pd.DataFrame([[2,\n",
        "                              polyreg_2.score(X_train.reshape(-1,1), y_train),\n",
        "                              polyreg_2.score(X_test.reshape(-1,1), y_test)],\n",
        "                             [3,\n",
        "                              polyreg_3.score(X_train.reshape(-1,1), y_train),\n",
        "                              polyreg_3.score(X_test.reshape(-1,1), y_test)],\n",
        "                             [10,\n",
        "                              polyreg_10.score(X_train.reshape(-1,1), y_train),\n",
        "                              polyreg_10.score(X_test.reshape(-1,1), y_test)]],\n",
        "                            columns=['Degree','R^2 train','R^2 test'], index=['x1','x1','x1',])\n",
        "\n",
        "polyscore_df"
      ],
      "metadata": {
        "colab": {
          "base_uri": "https://localhost:8080/",
          "height": 143
        },
        "id": "4lUjA82h_I-P",
        "outputId": "33e5f426-3515-4f75-97cf-aa0e8d412c5b"
      },
      "execution_count": null,
      "outputs": [
        {
          "output_type": "execute_result",
          "data": {
            "text/plain": [
              "    Degree  R^2 train  R^2 test\n",
              "x1       2   0.009353 -0.016972\n",
              "x1       3   0.009369 -0.016783\n",
              "x1      10   0.024333 -0.018364"
            ],
            "text/html": [
              "\n",
              "  <div id=\"df-963bd729-902e-4ad9-9628-eab406198ba6\">\n",
              "    <div class=\"colab-df-container\">\n",
              "      <div>\n",
              "<style scoped>\n",
              "    .dataframe tbody tr th:only-of-type {\n",
              "        vertical-align: middle;\n",
              "    }\n",
              "\n",
              "    .dataframe tbody tr th {\n",
              "        vertical-align: top;\n",
              "    }\n",
              "\n",
              "    .dataframe thead th {\n",
              "        text-align: right;\n",
              "    }\n",
              "</style>\n",
              "<table border=\"1\" class=\"dataframe\">\n",
              "  <thead>\n",
              "    <tr style=\"text-align: right;\">\n",
              "      <th></th>\n",
              "      <th>Degree</th>\n",
              "      <th>R^2 train</th>\n",
              "      <th>R^2 test</th>\n",
              "    </tr>\n",
              "  </thead>\n",
              "  <tbody>\n",
              "    <tr>\n",
              "      <th>x1</th>\n",
              "      <td>2</td>\n",
              "      <td>0.009353</td>\n",
              "      <td>-0.016972</td>\n",
              "    </tr>\n",
              "    <tr>\n",
              "      <th>x1</th>\n",
              "      <td>3</td>\n",
              "      <td>0.009369</td>\n",
              "      <td>-0.016783</td>\n",
              "    </tr>\n",
              "    <tr>\n",
              "      <th>x1</th>\n",
              "      <td>10</td>\n",
              "      <td>0.024333</td>\n",
              "      <td>-0.018364</td>\n",
              "    </tr>\n",
              "  </tbody>\n",
              "</table>\n",
              "</div>\n",
              "      <button class=\"colab-df-convert\" onclick=\"convertToInteractive('df-963bd729-902e-4ad9-9628-eab406198ba6')\"\n",
              "              title=\"Convert this dataframe to an interactive table.\"\n",
              "              style=\"display:none;\">\n",
              "        \n",
              "  <svg xmlns=\"http://www.w3.org/2000/svg\" height=\"24px\"viewBox=\"0 0 24 24\"\n",
              "       width=\"24px\">\n",
              "    <path d=\"M0 0h24v24H0V0z\" fill=\"none\"/>\n",
              "    <path d=\"M18.56 5.44l.94 2.06.94-2.06 2.06-.94-2.06-.94-.94-2.06-.94 2.06-2.06.94zm-11 1L8.5 8.5l.94-2.06 2.06-.94-2.06-.94L8.5 2.5l-.94 2.06-2.06.94zm10 10l.94 2.06.94-2.06 2.06-.94-2.06-.94-.94-2.06-.94 2.06-2.06.94z\"/><path d=\"M17.41 7.96l-1.37-1.37c-.4-.4-.92-.59-1.43-.59-.52 0-1.04.2-1.43.59L10.3 9.45l-7.72 7.72c-.78.78-.78 2.05 0 2.83L4 21.41c.39.39.9.59 1.41.59.51 0 1.02-.2 1.41-.59l7.78-7.78 2.81-2.81c.8-.78.8-2.07 0-2.86zM5.41 20L4 18.59l7.72-7.72 1.47 1.35L5.41 20z\"/>\n",
              "  </svg>\n",
              "      </button>\n",
              "      \n",
              "  <style>\n",
              "    .colab-df-container {\n",
              "      display:flex;\n",
              "      flex-wrap:wrap;\n",
              "      gap: 12px;\n",
              "    }\n",
              "\n",
              "    .colab-df-convert {\n",
              "      background-color: #E8F0FE;\n",
              "      border: none;\n",
              "      border-radius: 50%;\n",
              "      cursor: pointer;\n",
              "      display: none;\n",
              "      fill: #1967D2;\n",
              "      height: 32px;\n",
              "      padding: 0 0 0 0;\n",
              "      width: 32px;\n",
              "    }\n",
              "\n",
              "    .colab-df-convert:hover {\n",
              "      background-color: #E2EBFA;\n",
              "      box-shadow: 0px 1px 2px rgba(60, 64, 67, 0.3), 0px 1px 3px 1px rgba(60, 64, 67, 0.15);\n",
              "      fill: #174EA6;\n",
              "    }\n",
              "\n",
              "    [theme=dark] .colab-df-convert {\n",
              "      background-color: #3B4455;\n",
              "      fill: #D2E3FC;\n",
              "    }\n",
              "\n",
              "    [theme=dark] .colab-df-convert:hover {\n",
              "      background-color: #434B5C;\n",
              "      box-shadow: 0px 1px 3px 1px rgba(0, 0, 0, 0.15);\n",
              "      filter: drop-shadow(0px 1px 2px rgba(0, 0, 0, 0.3));\n",
              "      fill: #FFFFFF;\n",
              "    }\n",
              "  </style>\n",
              "\n",
              "      <script>\n",
              "        const buttonEl =\n",
              "          document.querySelector('#df-963bd729-902e-4ad9-9628-eab406198ba6 button.colab-df-convert');\n",
              "        buttonEl.style.display =\n",
              "          google.colab.kernel.accessAllowed ? 'block' : 'none';\n",
              "\n",
              "        async function convertToInteractive(key) {\n",
              "          const element = document.querySelector('#df-963bd729-902e-4ad9-9628-eab406198ba6');\n",
              "          const dataTable =\n",
              "            await google.colab.kernel.invokeFunction('convertToInteractive',\n",
              "                                                     [key], {});\n",
              "          if (!dataTable) return;\n",
              "\n",
              "          const docLinkHtml = 'Like what you see? Visit the ' +\n",
              "            '<a target=\"_blank\" href=https://colab.research.google.com/notebooks/data_table.ipynb>data table notebook</a>'\n",
              "            + ' to learn more about interactive tables.';\n",
              "          element.innerHTML = '';\n",
              "          dataTable['output_type'] = 'display_data';\n",
              "          await google.colab.output.renderOutput(dataTable, element);\n",
              "          const docLink = document.createElement('div');\n",
              "          docLink.innerHTML = docLinkHtml;\n",
              "          element.appendChild(docLink);\n",
              "        }\n",
              "      </script>\n",
              "    </div>\n",
              "  </div>\n",
              "  "
            ]
          },
          "metadata": {},
          "execution_count": 49
        }
      ]
    },
    {
      "cell_type": "markdown",
      "source": [
        "## $$x_2$$"
      ],
      "metadata": {
        "id": "FTerUScd9s0a"
      }
    },
    {
      "cell_type": "code",
      "source": [
        "X_train, X_test, y_train, y_test = train_test_split(X['x2'].values, Y.values, test_size=0.2, random_state=133)\n",
        "\n",
        "X_seq_train = np.linspace(X_train.min(),X_train.max(),300).reshape(-1,1)\n",
        "X_seq_test = np.linspace(X_test.min(),X_test.max(),300).reshape(-1,1)\n",
        "\n",
        "polyreg_2=make_pipeline(PolynomialFeatures(2),LinearRegression())\n",
        "polyreg_2.fit(X_train.reshape(-1,1),y_train)\n",
        "\n",
        "polyreg_3=make_pipeline(PolynomialFeatures(3),LinearRegression())\n",
        "polyreg_3.fit(X_train.reshape(-1,1),y_train)\n",
        "\n",
        "polyreg_10=make_pipeline(PolynomialFeatures(10),LinearRegression())\n",
        "polyreg_10.fit(X_train.reshape(-1,1),y_train)"
      ],
      "metadata": {
        "colab": {
          "base_uri": "https://localhost:8080/"
        },
        "outputId": "7205843b-2d86-4a75-b33d-ffe4d30f311d",
        "id": "LC597c8-9s0c"
      },
      "execution_count": null,
      "outputs": [
        {
          "output_type": "execute_result",
          "data": {
            "text/plain": [
              "Pipeline(steps=[('polynomialfeatures', PolynomialFeatures(degree=10)),\n",
              "                ('linearregression', LinearRegression())])"
            ]
          },
          "metadata": {},
          "execution_count": 50
        }
      ]
    },
    {
      "cell_type": "code",
      "source": [
        "fig, (ax1, ax2) = plt.subplots(1, 2, figsize=(18, 8))\n",
        "\n",
        "# plt.figure(figsize=(10, 8))\n",
        "ax1.scatter(X_train, y_train, color='#0496FF', alpha = 0.4)\n",
        "ax1.plot(X_seq_train, polyreg_2.predict(X_seq_train), color=\"#F374AE\", lw = 4, linestyle = 'solid', label='2 degree')\n",
        "ax1.plot(X_seq_train, polyreg_3.predict(X_seq_train), color=\"#E31471\", lw = 5, linestyle = 'dotted', label='3 degree')\n",
        "ax1.plot(X_seq_train, polyreg_10.predict(X_seq_train), color=\"#7A0B3D\", lw = 3, linestyle = 'dashed', label='10 degree')\n",
        "ax1.set_title(\"Polynomial regression on x2 with train data\")\n",
        "ax1.legend()\n",
        "\n",
        "ax2.scatter(X_test, y_test, color='#0496FF', alpha = 0.4)\n",
        "ax2.plot(X_seq_test, polyreg_2.predict(X_seq_test), color=\"#F374AE\", lw = 4, linestyle = 'solid', label='2 degree')\n",
        "ax2.plot(X_seq_test, polyreg_3.predict(X_seq_test), color=\"#E31471\", lw = 5, linestyle = 'dotted', label='3 degree')\n",
        "ax2.plot(X_seq_test, polyreg_10.predict(X_seq_test), color=\"#7A0B3D\", lw = 3, linestyle = 'dashed', label='10 degree')\n",
        "ax2.set_title(\"Polynomial regression on x2 with test data\")\n",
        "ax2.legend()"
      ],
      "metadata": {
        "colab": {
          "base_uri": "https://localhost:8080/",
          "height": 516
        },
        "id": "-44jwqIX93tT",
        "outputId": "06fe36d5-d05a-4105-80df-cd8c9fcead34"
      },
      "execution_count": null,
      "outputs": [
        {
          "output_type": "execute_result",
          "data": {
            "text/plain": [
              "<matplotlib.legend.Legend at 0x7f81728ad910>"
            ]
          },
          "metadata": {},
          "execution_count": 51
        },
        {
          "output_type": "display_data",
          "data": {
            "text/plain": [
              "<Figure size 1296x576 with 2 Axes>"
            ],
            "image/png": "[encoded data removed]"
          },
          "metadata": {}
        }
      ]
    },
    {
      "cell_type": "code",
      "source": [
        "polyscore_df = polyscore_df.append(pd.DataFrame([[2, polyreg_2.score(X_train.reshape(-1,1), y_train),\n",
        "                                                  polyreg_2.score(X_test.reshape(-1,1), y_test)],\n",
        "                                                  [3, polyreg_3.score(X_train.reshape(-1,1), y_train), \n",
        "                                                  polyreg_3.score(X_test.reshape(-1,1), y_test)],\n",
        "                                                  [10, polyreg_10.score(X_train.reshape(-1,1), y_train),\n",
        "                                                  polyreg_10.score(X_test.reshape(-1,1), y_test)]], \n",
        "                                                columns=['Degree','R^2 train','R^2 test'], index=['x2', 'x2', 'x2']))\n",
        "\n",
        "polyscore_df"
      ],
      "metadata": {
        "colab": {
          "base_uri": "https://localhost:8080/",
          "height": 237
        },
        "id": "22wBEpWq97lq",
        "outputId": "dc5d3fa7-7f93-484c-d4b9-508c166e95e2"
      },
      "execution_count": null,
      "outputs": [
        {
          "output_type": "execute_result",
          "data": {
            "text/plain": [
              "    Degree  R^2 train  R^2 test\n",
              "x1       2   0.009353 -0.016972\n",
              "x1       3   0.009369 -0.016783\n",
              "x1      10   0.024333 -0.018364\n",
              "x2       2   0.330315  0.463348\n",
              "x2       3   0.330825  0.460006\n",
              "x2      10   0.342427 -8.610301"
            ],
            "text/html": [
              "\n",
              "  <div id=\"df-6d59386a-fd9f-487c-9045-5f21b0da64ba\">\n",
              "    <div class=\"colab-df-container\">\n",
              "      <div>\n",
              "<style scoped>\n",
              "    .dataframe tbody tr th:only-of-type {\n",
              "        vertical-align: middle;\n",
              "    }\n",
              "\n",
              "    .dataframe tbody tr th {\n",
              "        vertical-align: top;\n",
              "    }\n",
              "\n",
              "    .dataframe thead th {\n",
              "        text-align: right;\n",
              "    }\n",
              "</style>\n",
              "<table border=\"1\" class=\"dataframe\">\n",
              "  <thead>\n",
              "    <tr style=\"text-align: right;\">\n",
              "      <th></th>\n",
              "      <th>Degree</th>\n",
              "      <th>R^2 train</th>\n",
              "      <th>R^2 test</th>\n",
              "    </tr>\n",
              "  </thead>\n",
              "  <tbody>\n",
              "    <tr>\n",
              "      <th>x1</th>\n",
              "      <td>2</td>\n",
              "      <td>0.009353</td>\n",
              "      <td>-0.016972</td>\n",
              "    </tr>\n",
              "    <tr>\n",
              "      <th>x1</th>\n",
              "      <td>3</td>\n",
              "      <td>0.009369</td>\n",
              "      <td>-0.016783</td>\n",
              "    </tr>\n",
              "    <tr>\n",
              "      <th>x1</th>\n",
              "      <td>10</td>\n",
              "      <td>0.024333</td>\n",
              "      <td>-0.018364</td>\n",
              "    </tr>\n",
              "    <tr>\n",
              "      <th>x2</th>\n",
              "      <td>2</td>\n",
              "      <td>0.330315</td>\n",
              "      <td>0.463348</td>\n",
              "    </tr>\n",
              "    <tr>\n",
              "      <th>x2</th>\n",
              "      <td>3</td>\n",
              "      <td>0.330825</td>\n",
              "      <td>0.460006</td>\n",
              "    </tr>\n",
              "    <tr>\n",
              "      <th>x2</th>\n",
              "      <td>10</td>\n",
              "      <td>0.342427</td>\n",
              "      <td>-8.610301</td>\n",
              "    </tr>\n",
              "  </tbody>\n",
              "</table>\n",
              "</div>\n",
              "      <button class=\"colab-df-convert\" onclick=\"convertToInteractive('df-6d59386a-fd9f-487c-9045-5f21b0da64ba')\"\n",
              "              title=\"Convert this dataframe to an interactive table.\"\n",
              "              style=\"display:none;\">\n",
              "        \n",
              "  <svg xmlns=\"http://www.w3.org/2000/svg\" height=\"24px\"viewBox=\"0 0 24 24\"\n",
              "       width=\"24px\">\n",
              "    <path d=\"M0 0h24v24H0V0z\" fill=\"none\"/>\n",
              "    <path d=\"M18.56 5.44l.94 2.06.94-2.06 2.06-.94-2.06-.94-.94-2.06-.94 2.06-2.06.94zm-11 1L8.5 8.5l.94-2.06 2.06-.94-2.06-.94L8.5 2.5l-.94 2.06-2.06.94zm10 10l.94 2.06.94-2.06 2.06-.94-2.06-.94-.94-2.06-.94 2.06-2.06.94z\"/><path d=\"M17.41 7.96l-1.37-1.37c-.4-.4-.92-.59-1.43-.59-.52 0-1.04.2-1.43.59L10.3 9.45l-7.72 7.72c-.78.78-.78 2.05 0 2.83L4 21.41c.39.39.9.59 1.41.59.51 0 1.02-.2 1.41-.59l7.78-7.78 2.81-2.81c.8-.78.8-2.07 0-2.86zM5.41 20L4 18.59l7.72-7.72 1.47 1.35L5.41 20z\"/>\n",
              "  </svg>\n",
              "      </button>\n",
              "      \n",
              "  <style>\n",
              "    .colab-df-container {\n",
              "      display:flex;\n",
              "      flex-wrap:wrap;\n",
              "      gap: 12px;\n",
              "    }\n",
              "\n",
              "    .colab-df-convert {\n",
              "      background-color: #E8F0FE;\n",
              "      border: none;\n",
              "      border-radius: 50%;\n",
              "      cursor: pointer;\n",
              "      display: none;\n",
              "      fill: #1967D2;\n",
              "      height: 32px;\n",
              "      padding: 0 0 0 0;\n",
              "      width: 32px;\n",
              "    }\n",
              "\n",
              "    .colab-df-convert:hover {\n",
              "      background-color: #E2EBFA;\n",
              "      box-shadow: 0px 1px 2px rgba(60, 64, 67, 0.3), 0px 1px 3px 1px rgba(60, 64, 67, 0.15);\n",
              "      fill: #174EA6;\n",
              "    }\n",
              "\n",
              "    [theme=dark] .colab-df-convert {\n",
              "      background-color: #3B4455;\n",
              "      fill: #D2E3FC;\n",
              "    }\n",
              "\n",
              "    [theme=dark] .colab-df-convert:hover {\n",
              "      background-color: #434B5C;\n",
              "      box-shadow: 0px 1px 3px 1px rgba(0, 0, 0, 0.15);\n",
              "      filter: drop-shadow(0px 1px 2px rgba(0, 0, 0, 0.3));\n",
              "      fill: #FFFFFF;\n",
              "    }\n",
              "  </style>\n",
              "\n",
              "      <script>\n",
              "        const buttonEl =\n",
              "          document.querySelector('#df-6d59386a-fd9f-487c-9045-5f21b0da64ba button.colab-df-convert');\n",
              "        buttonEl.style.display =\n",
              "          google.colab.kernel.accessAllowed ? 'block' : 'none';\n",
              "\n",
              "        async function convertToInteractive(key) {\n",
              "          const element = document.querySelector('#df-6d59386a-fd9f-487c-9045-5f21b0da64ba');\n",
              "          const dataTable =\n",
              "            await google.colab.kernel.invokeFunction('convertToInteractive',\n",
              "                                                     [key], {});\n",
              "          if (!dataTable) return;\n",
              "\n",
              "          const docLinkHtml = 'Like what you see? Visit the ' +\n",
              "            '<a target=\"_blank\" href=https://colab.research.google.com/notebooks/data_table.ipynb>data table notebook</a>'\n",
              "            + ' to learn more about interactive tables.';\n",
              "          element.innerHTML = '';\n",
              "          dataTable['output_type'] = 'display_data';\n",
              "          await google.colab.output.renderOutput(dataTable, element);\n",
              "          const docLink = document.createElement('div');\n",
              "          docLink.innerHTML = docLinkHtml;\n",
              "          element.appendChild(docLink);\n",
              "        }\n",
              "      </script>\n",
              "    </div>\n",
              "  </div>\n",
              "  "
            ]
          },
          "metadata": {},
          "execution_count": 52
        }
      ]
    },
    {
      "cell_type": "markdown",
      "source": [
        "## $$x_3$$"
      ],
      "metadata": {
        "id": "SH090IoA-CLJ"
      }
    },
    {
      "cell_type": "code",
      "source": [
        "X_train, X_test, y_train, y_test = train_test_split(X['x3'].values, Y.values, test_size=0.2, random_state=133)\n",
        "\n",
        "X_seq_train = np.linspace(X_train.min(),X_train.max(),300).reshape(-1,1)\n",
        "X_seq_test = np.linspace(X_test.min(),X_test.max(),300).reshape(-1,1)\n",
        "\n",
        "polyreg_2=make_pipeline(PolynomialFeatures(2),LinearRegression())\n",
        "polyreg_2.fit(X_train.reshape(-1,1),y_train)\n",
        "\n",
        "polyreg_3=make_pipeline(PolynomialFeatures(3),LinearRegression())\n",
        "polyreg_3.fit(X_train.reshape(-1,1),y_train)\n",
        "\n",
        "polyreg_10=make_pipeline(PolynomialFeatures(10),LinearRegression())\n",
        "polyreg_10.fit(X_train.reshape(-1,1),y_train)"
      ],
      "metadata": {
        "colab": {
          "base_uri": "https://localhost:8080/"
        },
        "outputId": "e84b3ebd-35fe-4ae4-82f6-a7f14ee580e7",
        "id": "BlSiZfeFEm9u"
      },
      "execution_count": null,
      "outputs": [
        {
          "output_type": "execute_result",
          "data": {
            "text/plain": [
              "Pipeline(steps=[('polynomialfeatures', PolynomialFeatures(degree=10)),\n",
              "                ('linearregression', LinearRegression())])"
            ]
          },
          "metadata": {},
          "execution_count": 53
        }
      ]
    },
    {
      "cell_type": "code",
      "source": [
        "fig, (ax1, ax2) = plt.subplots(1, 2, figsize=(18, 8))\n",
        "\n",
        "# plt.figure(figsize=(10, 8))\n",
        "ax1.scatter(X_train, y_train, color='#0496FF', alpha = 0.4)\n",
        "ax1.plot(X_seq_train, polyreg_2.predict(X_seq_train), color=\"#F374AE\", lw = 4, linestyle = 'solid', label='2 degree')\n",
        "ax1.plot(X_seq_train, polyreg_3.predict(X_seq_train), color=\"#E31471\", lw = 5, linestyle = 'dotted', label='3 degree')\n",
        "ax1.plot(X_seq_train, polyreg_10.predict(X_seq_train), color=\"#7A0B3D\", lw = 3, linestyle = 'dashed', label='10 degree')\n",
        "ax1.set_title(\"Polynomial regression on x3 with train data\")\n",
        "ax1.legend()\n",
        "\n",
        "ax2.scatter(X_test, y_test, color='#0496FF', alpha = 0.4)\n",
        "ax2.plot(X_seq_test, polyreg_2.predict(X_seq_test), color=\"#F374AE\", lw = 4, linestyle = 'solid', label='2 degree')\n",
        "ax2.plot(X_seq_test, polyreg_3.predict(X_seq_test), color=\"#E31471\", lw = 5, linestyle = 'dotted', label='3 degree')\n",
        "ax2.plot(X_seq_test, polyreg_10.predict(X_seq_test), color=\"#7A0B3D\", lw = 3, linestyle = 'dashed', label='10 degree')\n",
        "ax2.set_title(\"Polynomial regression on x3 with test data\")\n",
        "ax2.legend()"
      ],
      "metadata": {
        "colab": {
          "base_uri": "https://localhost:8080/",
          "height": 516
        },
        "outputId": "c47c612d-5c89-4702-9599-23a1bf62bd1b",
        "id": "RQlKAgtJEm9v"
      },
      "execution_count": null,
      "outputs": [
        {
          "output_type": "execute_result",
          "data": {
            "text/plain": [
              "<matplotlib.legend.Legend at 0x7f81740bba90>"
            ]
          },
          "metadata": {},
          "execution_count": 54
        },
        {
          "output_type": "display_data",
          "data": {
            "text/plain": [
              "<Figure size 1296x576 with 2 Axes>"
            ],
            "image/png": "[encoded data removed]"
          },
          "metadata": {}
        }
      ]
    },
    {
      "cell_type": "code",
      "source": [
        "polyscore_df = polyscore_df.append(pd.DataFrame([[2, polyreg_2.score(X_train.reshape(-1,1), y_train),\n",
        "                                                  polyreg_2.score(X_test.reshape(-1,1), y_test)],\n",
        "                                                  [3, polyreg_3.score(X_train.reshape(-1,1), y_train), \n",
        "                                                  polyreg_3.score(X_test.reshape(-1,1), y_test)],\n",
        "                                                  [10, polyreg_10.score(X_train.reshape(-1,1), y_train),\n",
        "                                                  polyreg_10.score(X_test.reshape(-1,1), y_test)]], \n",
        "                                                columns=['Degree','R^2 train','R^2 test'], index=['x3', 'x3', 'x3']))\n",
        "\n",
        "polyscore_df"
      ],
      "metadata": {
        "colab": {
          "base_uri": "https://localhost:8080/",
          "height": 332
        },
        "outputId": "9eba4bcf-bb86-43b8-bf7b-a1bc4a0b0b8a",
        "id": "beQ2r6PCEm9v"
      },
      "execution_count": null,
      "outputs": [
        {
          "output_type": "execute_result",
          "data": {
            "text/plain": [
              "    Degree  R^2 train  R^2 test\n",
              "x1       2   0.009353 -0.016972\n",
              "x1       3   0.009369 -0.016783\n",
              "x1      10   0.024333 -0.018364\n",
              "x2       2   0.330315  0.463348\n",
              "x2       3   0.330825  0.460006\n",
              "x2      10   0.342427 -8.610301\n",
              "x3       2   0.615257  0.613285\n",
              "x3       3   0.615758  0.612634\n",
              "x3      10   0.622619  0.605706"
            ],
            "text/html": [
              "\n",
              "  <div id=\"df-d2ec8bf9-6d5f-4fe6-9fbe-5e4d8d28a6cd\">\n",
              "    <div class=\"colab-df-container\">\n",
              "      <div>\n",
              "<style scoped>\n",
              "    .dataframe tbody tr th:only-of-type {\n",
              "        vertical-align: middle;\n",
              "    }\n",
              "\n",
              "    .dataframe tbody tr th {\n",
              "        vertical-align: top;\n",
              "    }\n",
              "\n",
              "    .dataframe thead th {\n",
              "        text-align: right;\n",
              "    }\n",
              "</style>\n",
              "<table border=\"1\" class=\"dataframe\">\n",
              "  <thead>\n",
              "    <tr style=\"text-align: right;\">\n",
              "      <th></th>\n",
              "      <th>Degree</th>\n",
              "      <th>R^2 train</th>\n",
              "      <th>R^2 test</th>\n",
              "    </tr>\n",
              "  </thead>\n",
              "  <tbody>\n",
              "    <tr>\n",
              "      <th>x1</th>\n",
              "      <td>2</td>\n",
              "      <td>0.009353</td>\n",
              "      <td>-0.016972</td>\n",
              "    </tr>\n",
              "    <tr>\n",
              "      <th>x1</th>\n",
              "      <td>3</td>\n",
              "      <td>0.009369</td>\n",
              "      <td>-0.016783</td>\n",
              "    </tr>\n",
              "    <tr>\n",
              "      <th>x1</th>\n",
              "      <td>10</td>\n",
              "      <td>0.024333</td>\n",
              "      <td>-0.018364</td>\n",
              "    </tr>\n",
              "    <tr>\n",
              "      <th>x2</th>\n",
              "      <td>2</td>\n",
              "      <td>0.330315</td>\n",
              "      <td>0.463348</td>\n",
              "    </tr>\n",
              "    <tr>\n",
              "      <th>x2</th>\n",
              "      <td>3</td>\n",
              "      <td>0.330825</td>\n",
              "      <td>0.460006</td>\n",
              "    </tr>\n",
              "    <tr>\n",
              "      <th>x2</th>\n",
              "      <td>10</td>\n",
              "      <td>0.342427</td>\n",
              "      <td>-8.610301</td>\n",
              "    </tr>\n",
              "    <tr>\n",
              "      <th>x3</th>\n",
              "      <td>2</td>\n",
              "      <td>0.615257</td>\n",
              "      <td>0.613285</td>\n",
              "    </tr>\n",
              "    <tr>\n",
              "      <th>x3</th>\n",
              "      <td>3</td>\n",
              "      <td>0.615758</td>\n",
              "      <td>0.612634</td>\n",
              "    </tr>\n",
              "    <tr>\n",
              "      <th>x3</th>\n",
              "      <td>10</td>\n",
              "      <td>0.622619</td>\n",
              "      <td>0.605706</td>\n",
              "    </tr>\n",
              "  </tbody>\n",
              "</table>\n",
              "</div>\n",
              "      <button class=\"colab-df-convert\" onclick=\"convertToInteractive('df-d2ec8bf9-6d5f-4fe6-9fbe-5e4d8d28a6cd')\"\n",
              "              title=\"Convert this dataframe to an interactive table.\"\n",
              "              style=\"display:none;\">\n",
              "        \n",
              "  <svg xmlns=\"http://www.w3.org/2000/svg\" height=\"24px\"viewBox=\"0 0 24 24\"\n",
              "       width=\"24px\">\n",
              "    <path d=\"M0 0h24v24H0V0z\" fill=\"none\"/>\n",
              "    <path d=\"M18.56 5.44l.94 2.06.94-2.06 2.06-.94-2.06-.94-.94-2.06-.94 2.06-2.06.94zm-11 1L8.5 8.5l.94-2.06 2.06-.94-2.06-.94L8.5 2.5l-.94 2.06-2.06.94zm10 10l.94 2.06.94-2.06 2.06-.94-2.06-.94-.94-2.06-.94 2.06-2.06.94z\"/><path d=\"M17.41 7.96l-1.37-1.37c-.4-.4-.92-.59-1.43-.59-.52 0-1.04.2-1.43.59L10.3 9.45l-7.72 7.72c-.78.78-.78 2.05 0 2.83L4 21.41c.39.39.9.59 1.41.59.51 0 1.02-.2 1.41-.59l7.78-7.78 2.81-2.81c.8-.78.8-2.07 0-2.86zM5.41 20L4 18.59l7.72-7.72 1.47 1.35L5.41 20z\"/>\n",
              "  </svg>\n",
              "      </button>\n",
              "      \n",
              "  <style>\n",
              "    .colab-df-container {\n",
              "      display:flex;\n",
              "      flex-wrap:wrap;\n",
              "      gap: 12px;\n",
              "    }\n",
              "\n",
              "    .colab-df-convert {\n",
              "      background-color: #E8F0FE;\n",
              "      border: none;\n",
              "      border-radius: 50%;\n",
              "      cursor: pointer;\n",
              "      display: none;\n",
              "      fill: #1967D2;\n",
              "      height: 32px;\n",
              "      padding: 0 0 0 0;\n",
              "      width: 32px;\n",
              "    }\n",
              "\n",
              "    .colab-df-convert:hover {\n",
              "      background-color: #E2EBFA;\n",
              "      box-shadow: 0px 1px 2px rgba(60, 64, 67, 0.3), 0px 1px 3px 1px rgba(60, 64, 67, 0.15);\n",
              "      fill: #174EA6;\n",
              "    }\n",
              "\n",
              "    [theme=dark] .colab-df-convert {\n",
              "      background-color: #3B4455;\n",
              "      fill: #D2E3FC;\n",
              "    }\n",
              "\n",
              "    [theme=dark] .colab-df-convert:hover {\n",
              "      background-color: #434B5C;\n",
              "      box-shadow: 0px 1px 3px 1px rgba(0, 0, 0, 0.15);\n",
              "      filter: drop-shadow(0px 1px 2px rgba(0, 0, 0, 0.3));\n",
              "      fill: #FFFFFF;\n",
              "    }\n",
              "  </style>\n",
              "\n",
              "      <script>\n",
              "        const buttonEl =\n",
              "          document.querySelector('#df-d2ec8bf9-6d5f-4fe6-9fbe-5e4d8d28a6cd button.colab-df-convert');\n",
              "        buttonEl.style.display =\n",
              "          google.colab.kernel.accessAllowed ? 'block' : 'none';\n",
              "\n",
              "        async function convertToInteractive(key) {\n",
              "          const element = document.querySelector('#df-d2ec8bf9-6d5f-4fe6-9fbe-5e4d8d28a6cd');\n",
              "          const dataTable =\n",
              "            await google.colab.kernel.invokeFunction('convertToInteractive',\n",
              "                                                     [key], {});\n",
              "          if (!dataTable) return;\n",
              "\n",
              "          const docLinkHtml = 'Like what you see? Visit the ' +\n",
              "            '<a target=\"_blank\" href=https://colab.research.google.com/notebooks/data_table.ipynb>data table notebook</a>'\n",
              "            + ' to learn more about interactive tables.';\n",
              "          element.innerHTML = '';\n",
              "          dataTable['output_type'] = 'display_data';\n",
              "          await google.colab.output.renderOutput(dataTable, element);\n",
              "          const docLink = document.createElement('div');\n",
              "          docLink.innerHTML = docLinkHtml;\n",
              "          element.appendChild(docLink);\n",
              "        }\n",
              "      </script>\n",
              "    </div>\n",
              "  </div>\n",
              "  "
            ]
          },
          "metadata": {},
          "execution_count": 55
        }
      ]
    },
    {
      "cell_type": "markdown",
      "source": [
        "## $$x_4$$"
      ],
      "metadata": {
        "id": "O9WNyscZ-UOz"
      }
    },
    {
      "cell_type": "code",
      "source": [
        "X_train, X_test, y_train, y_test = train_test_split(X['x4'].values, Y.values, test_size=0.2, random_state=133)\n",
        "\n",
        "X_seq_train = np.linspace(X_train.min(),X_train.max(),300).reshape(-1,1)\n",
        "X_seq_test = np.linspace(X_test.min(),X_test.max(),300).reshape(-1,1)\n",
        "\n",
        "polyreg_2=make_pipeline(PolynomialFeatures(2),LinearRegression())\n",
        "polyreg_2.fit(X_train.reshape(-1,1),y_train)\n",
        "\n",
        "polyreg_3=make_pipeline(PolynomialFeatures(3),LinearRegression())\n",
        "polyreg_3.fit(X_train.reshape(-1,1),y_train)\n",
        "\n",
        "polyreg_10=make_pipeline(PolynomialFeatures(10),LinearRegression())\n",
        "polyreg_10.fit(X_train.reshape(-1,1),y_train)"
      ],
      "metadata": {
        "colab": {
          "base_uri": "https://localhost:8080/"
        },
        "outputId": "f3722f79-874f-4043-ef2a-7d5c8fa9891a",
        "id": "bjTj9dNhE_az"
      },
      "execution_count": null,
      "outputs": [
        {
          "output_type": "execute_result",
          "data": {
            "text/plain": [
              "Pipeline(steps=[('polynomialfeatures', PolynomialFeatures(degree=10)),\n",
              "                ('linearregression', LinearRegression())])"
            ]
          },
          "metadata": {},
          "execution_count": 56
        }
      ]
    },
    {
      "cell_type": "code",
      "source": [
        "fig, (ax1, ax2) = plt.subplots(1, 2, figsize=(18, 8))\n",
        "\n",
        "# plt.figure(figsize=(10, 8))\n",
        "ax1.scatter(X_train, y_train, color='#0496FF', alpha = 0.4)\n",
        "ax1.plot(X_seq_train, polyreg_2.predict(X_seq_train), color=\"#F374AE\", lw = 4, linestyle = 'solid', label='2 degree')\n",
        "ax1.plot(X_seq_train, polyreg_3.predict(X_seq_train), color=\"#E31471\", lw = 5, linestyle = 'dotted', label='3 degree')\n",
        "ax1.plot(X_seq_train, polyreg_10.predict(X_seq_train), color=\"#7A0B3D\", lw = 3, linestyle = 'dashed', label='10 degree')\n",
        "ax1.set_title(\"Polynomial regression on x4 with train data\")\n",
        "ax1.legend()\n",
        "\n",
        "ax2.scatter(X_test, y_test, color='#0496FF', alpha = 0.4)\n",
        "ax2.plot(X_seq_test, polyreg_2.predict(X_seq_test), color=\"#F374AE\", lw = 4, linestyle = 'solid', label='2 degree')\n",
        "ax2.plot(X_seq_test, polyreg_3.predict(X_seq_test), color=\"#E31471\", lw = 5, linestyle = 'dotted', label='3 degree')\n",
        "ax2.plot(X_seq_test, polyreg_10.predict(X_seq_test), color=\"#7A0B3D\", lw = 3, linestyle = 'dashed', label='10 degree')\n",
        "ax2.set_title(\"Polynomial regression on x4 with test data\")\n",
        "ax2.legend()"
      ],
      "metadata": {
        "colab": {
          "base_uri": "https://localhost:8080/",
          "height": 516
        },
        "outputId": "232eb8ba-ca6e-4579-965c-06400cb5e81c",
        "id": "Bzys12atE_bF"
      },
      "execution_count": null,
      "outputs": [
        {
          "output_type": "execute_result",
          "data": {
            "text/plain": [
              "<matplotlib.legend.Legend at 0x7f81744185d0>"
            ]
          },
          "metadata": {},
          "execution_count": 57
        },
        {
          "output_type": "display_data",
          "data": {
            "text/plain": [
              "<Figure size 1296x576 with 2 Axes>"
            ],
            "image/png": "[encoded data removed]"
          },
          "metadata": {}
        }
      ]
    },
    {
      "cell_type": "code",
      "source": [
        "polyscore_df = polyscore_df.append(pd.DataFrame([[2, polyreg_2.score(X_train.reshape(-1,1), y_train),\n",
        "                                                  polyreg_2.score(X_test.reshape(-1,1), y_test)],\n",
        "                                                  [3, polyreg_3.score(X_train.reshape(-1,1), y_train), \n",
        "                                                  polyreg_3.score(X_test.reshape(-1,1), y_test)],\n",
        "                                                  [10, polyreg_10.score(X_train.reshape(-1,1), y_train),\n",
        "                                                  polyreg_10.score(X_test.reshape(-1,1), y_test)]], \n",
        "                                                columns=['Degree','R^2 train','R^2 test'], index=['x4', 'x4', 'x4']))"
      ],
      "metadata": {
        "id": "E4K3OhvFE_bG"
      },
      "execution_count": null,
      "outputs": []
    },
    {
      "cell_type": "code",
      "source": [
        "polyscore_df = polyscore_df.reset_index()\n",
        "polyscore_df = polyscore_df.set_index(['index','Degree'])\n",
        "polyscore_df"
      ],
      "metadata": {
        "colab": {
          "base_uri": "https://localhost:8080/",
          "height": 457
        },
        "id": "AaZrhuDQGapJ",
        "outputId": "b469277e-f136-4743-9856-c658677902f6"
      },
      "execution_count": null,
      "outputs": [
        {
          "output_type": "execute_result",
          "data": {
            "text/plain": [
              "              R^2 train  R^2 test\n",
              "index Degree                     \n",
              "x1    2        0.009353 -0.016972\n",
              "      3        0.009369 -0.016783\n",
              "      10       0.024333 -0.018364\n",
              "x2    2        0.330315  0.463348\n",
              "      3        0.330825  0.460006\n",
              "      10       0.342427 -8.610301\n",
              "x3    2        0.615257  0.613285\n",
              "      3        0.615758  0.612634\n",
              "      10       0.622619  0.605706\n",
              "x4    2        0.000764 -0.003707\n",
              "      3        0.001628  0.003093\n",
              "      10       0.026898 -0.032698"
            ],
            "text/html": [
              "\n",
              "  <div id=\"df-07324677-4e67-407d-9dcd-bc8c6d00ec7a\">\n",
              "    <div class=\"colab-df-container\">\n",
              "      <div>\n",
              "<style scoped>\n",
              "    .dataframe tbody tr th:only-of-type {\n",
              "        vertical-align: middle;\n",
              "    }\n",
              "\n",
              "    .dataframe tbody tr th {\n",
              "        vertical-align: top;\n",
              "    }\n",
              "\n",
              "    .dataframe thead th {\n",
              "        text-align: right;\n",
              "    }\n",
              "</style>\n",
              "<table border=\"1\" class=\"dataframe\">\n",
              "  <thead>\n",
              "    <tr style=\"text-align: right;\">\n",
              "      <th></th>\n",
              "      <th></th>\n",
              "      <th>R^2 train</th>\n",
              "      <th>R^2 test</th>\n",
              "    </tr>\n",
              "    <tr>\n",
              "      <th>index</th>\n",
              "      <th>Degree</th>\n",
              "      <th></th>\n",
              "      <th></th>\n",
              "    </tr>\n",
              "  </thead>\n",
              "  <tbody>\n",
              "    <tr>\n",
              "      <th rowspan=\"3\" valign=\"top\">x1</th>\n",
              "      <th>2</th>\n",
              "      <td>0.009353</td>\n",
              "      <td>-0.016972</td>\n",
              "    </tr>\n",
              "    <tr>\n",
              "      <th>3</th>\n",
              "      <td>0.009369</td>\n",
              "      <td>-0.016783</td>\n",
              "    </tr>\n",
              "    <tr>\n",
              "      <th>10</th>\n",
              "      <td>0.024333</td>\n",
              "      <td>-0.018364</td>\n",
              "    </tr>\n",
              "    <tr>\n",
              "      <th rowspan=\"3\" valign=\"top\">x2</th>\n",
              "      <th>2</th>\n",
              "      <td>0.330315</td>\n",
              "      <td>0.463348</td>\n",
              "    </tr>\n",
              "    <tr>\n",
              "      <th>3</th>\n",
              "      <td>0.330825</td>\n",
              "      <td>0.460006</td>\n",
              "    </tr>\n",
              "    <tr>\n",
              "      <th>10</th>\n",
              "      <td>0.342427</td>\n",
              "      <td>-8.610301</td>\n",
              "    </tr>\n",
              "    <tr>\n",
              "      <th rowspan=\"3\" valign=\"top\">x3</th>\n",
              "      <th>2</th>\n",
              "      <td>0.615257</td>\n",
              "      <td>0.613285</td>\n",
              "    </tr>\n",
              "    <tr>\n",
              "      <th>3</th>\n",
              "      <td>0.615758</td>\n",
              "      <td>0.612634</td>\n",
              "    </tr>\n",
              "    <tr>\n",
              "      <th>10</th>\n",
              "      <td>0.622619</td>\n",
              "      <td>0.605706</td>\n",
              "    </tr>\n",
              "    <tr>\n",
              "      <th rowspan=\"3\" valign=\"top\">x4</th>\n",
              "      <th>2</th>\n",
              "      <td>0.000764</td>\n",
              "      <td>-0.003707</td>\n",
              "    </tr>\n",
              "    <tr>\n",
              "      <th>3</th>\n",
              "      <td>0.001628</td>\n",
              "      <td>0.003093</td>\n",
              "    </tr>\n",
              "    <tr>\n",
              "      <th>10</th>\n",
              "      <td>0.026898</td>\n",
              "      <td>-0.032698</td>\n",
              "    </tr>\n",
              "  </tbody>\n",
              "</table>\n",
              "</div>\n",
              "      <button class=\"colab-df-convert\" onclick=\"convertToInteractive('df-07324677-4e67-407d-9dcd-bc8c6d00ec7a')\"\n",
              "              title=\"Convert this dataframe to an interactive table.\"\n",
              "              style=\"display:none;\">\n",
              "        \n",
              "  <svg xmlns=\"http://www.w3.org/2000/svg\" height=\"24px\"viewBox=\"0 0 24 24\"\n",
              "       width=\"24px\">\n",
              "    <path d=\"M0 0h24v24H0V0z\" fill=\"none\"/>\n",
              "    <path d=\"M18.56 5.44l.94 2.06.94-2.06 2.06-.94-2.06-.94-.94-2.06-.94 2.06-2.06.94zm-11 1L8.5 8.5l.94-2.06 2.06-.94-2.06-.94L8.5 2.5l-.94 2.06-2.06.94zm10 10l.94 2.06.94-2.06 2.06-.94-2.06-.94-.94-2.06-.94 2.06-2.06.94z\"/><path d=\"M17.41 7.96l-1.37-1.37c-.4-.4-.92-.59-1.43-.59-.52 0-1.04.2-1.43.59L10.3 9.45l-7.72 7.72c-.78.78-.78 2.05 0 2.83L4 21.41c.39.39.9.59 1.41.59.51 0 1.02-.2 1.41-.59l7.78-7.78 2.81-2.81c.8-.78.8-2.07 0-2.86zM5.41 20L4 18.59l7.72-7.72 1.47 1.35L5.41 20z\"/>\n",
              "  </svg>\n",
              "      </button>\n",
              "      \n",
              "  <style>\n",
              "    .colab-df-container {\n",
              "      display:flex;\n",
              "      flex-wrap:wrap;\n",
              "      gap: 12px;\n",
              "    }\n",
              "\n",
              "    .colab-df-convert {\n",
              "      background-color: #E8F0FE;\n",
              "      border: none;\n",
              "      border-radius: 50%;\n",
              "      cursor: pointer;\n",
              "      display: none;\n",
              "      fill: #1967D2;\n",
              "      height: 32px;\n",
              "      padding: 0 0 0 0;\n",
              "      width: 32px;\n",
              "    }\n",
              "\n",
              "    .colab-df-convert:hover {\n",
              "      background-color: #E2EBFA;\n",
              "      box-shadow: 0px 1px 2px rgba(60, 64, 67, 0.3), 0px 1px 3px 1px rgba(60, 64, 67, 0.15);\n",
              "      fill: #174EA6;\n",
              "    }\n",
              "\n",
              "    [theme=dark] .colab-df-convert {\n",
              "      background-color: #3B4455;\n",
              "      fill: #D2E3FC;\n",
              "    }\n",
              "\n",
              "    [theme=dark] .colab-df-convert:hover {\n",
              "      background-color: #434B5C;\n",
              "      box-shadow: 0px 1px 3px 1px rgba(0, 0, 0, 0.15);\n",
              "      filter: drop-shadow(0px 1px 2px rgba(0, 0, 0, 0.3));\n",
              "      fill: #FFFFFF;\n",
              "    }\n",
              "  </style>\n",
              "\n",
              "      <script>\n",
              "        const buttonEl =\n",
              "          document.querySelector('#df-07324677-4e67-407d-9dcd-bc8c6d00ec7a button.colab-df-convert');\n",
              "        buttonEl.style.display =\n",
              "          google.colab.kernel.accessAllowed ? 'block' : 'none';\n",
              "\n",
              "        async function convertToInteractive(key) {\n",
              "          const element = document.querySelector('#df-07324677-4e67-407d-9dcd-bc8c6d00ec7a');\n",
              "          const dataTable =\n",
              "            await google.colab.kernel.invokeFunction('convertToInteractive',\n",
              "                                                     [key], {});\n",
              "          if (!dataTable) return;\n",
              "\n",
              "          const docLinkHtml = 'Like what you see? Visit the ' +\n",
              "            '<a target=\"_blank\" href=https://colab.research.google.com/notebooks/data_table.ipynb>data table notebook</a>'\n",
              "            + ' to learn more about interactive tables.';\n",
              "          element.innerHTML = '';\n",
              "          dataTable['output_type'] = 'display_data';\n",
              "          await google.colab.output.renderOutput(dataTable, element);\n",
              "          const docLink = document.createElement('div');\n",
              "          docLink.innerHTML = docLinkHtml;\n",
              "          element.appendChild(docLink);\n",
              "        }\n",
              "      </script>\n",
              "    </div>\n",
              "  </div>\n",
              "  "
            ]
          },
          "metadata": {},
          "execution_count": 59
        }
      ]
    },
    {
      "cell_type": "code",
      "source": [
        "fig = plt.figure(figsize=(9,6))\n",
        "sns.heatmap(polyscore_df, cmap='coolwarm_r')"
      ],
      "metadata": {
        "colab": {
          "base_uri": "https://localhost:8080/",
          "height": 391
        },
        "id": "RUh_kkPhFkS4",
        "outputId": "5c3c6dcf-dea3-485b-d6c2-1767f373ecf1"
      },
      "execution_count": null,
      "outputs": [
        {
          "output_type": "execute_result",
          "data": {
            "text/plain": [
              "<matplotlib.axes._subplots.AxesSubplot at 0x7f8183c5a6d0>"
            ]
          },
          "metadata": {},
          "execution_count": 60
        },
        {
          "output_type": "display_data",
          "data": {
            "text/plain": [
              "<Figure size 648x432 with 2 Axes>"
            ],
            "image/png": "[encoded data removed]"
          },
          "metadata": {}
        }
      ]
    }
  ]
}