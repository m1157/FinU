{
  "cells": [
    {
      "cell_type": "markdown",
      "metadata": {
        "id": "Rt2rq7OEDN7s"
      },
      "source": [
        "<h1 align='center'>Numpy - многомерные массивы данных</h1>"
      ]
    },
    {
      "cell_type": "markdown",
      "metadata": {
        "id": "rWG1sQGhDN70"
      },
      "source": [
        "[Cсылка](https://disk.yandex.ru/d/IE8K3D5e7q4fEw) на файлы лабораторной"
      ]
    },
    {
      "cell_type": "code",
      "execution_count": null,
      "metadata": {
        "id": "VwC1mIUNDN71"
      },
      "outputs": [],
      "source": [
        "# комменарий\n",
        "%matplotlib inline \n",
        "#команда об интерактивном использовании matplotlib\n",
        "import matplotlib.pyplot as plt #импорт функций подмодуля pyplot об интерактивном \n",
        "#использовании matplotlib"
      ]
    },
    {
      "cell_type": "markdown",
      "metadata": {
        "id": "CTyR8XOdDN8D"
      },
      "source": [
        "## Введение"
      ]
    },
    {
      "cell_type": "markdown",
      "metadata": {
        "id": "QV4sH0d6DN8E"
      },
      "source": [
        "Пакет `numpy` (модуль) используется почти во всех численных вычислениях с использованием Python. Это пакет, который обеспечивает высокопроизводительные векторные, матричные и многомерные структуры данных для Python. Он реализован на C и Fortran, поэтому, когда вычисления векторизуются (формулируются векторами и матрицами), производительность очень хорошая.\n",
        "Чтобы использовать `numpy`, вам нужно импортировать модуль, используя, например,:"
      ]
    },
    {
      "cell_type": "code",
      "execution_count": null,
      "metadata": {
        "id": "7oDe-uDTDN8F"
      },
      "outputs": [],
      "source": [
        "from numpy import * #при этом отсутсвует необходимость использования numpy.array\n",
        "#import numpy as np - позволяет сократить имя объекта используя np.array"
      ]
    },
    {
      "cell_type": "markdown",
      "metadata": {
        "id": "q0-5Qt3gDN8G"
      },
      "source": [
        "В пакете `numpy` терминологией, используемой для векторов, матриц и многомерных наборов данных, является *array*.\n"
      ]
    },
    {
      "cell_type": "markdown",
      "metadata": {
        "id": "zhnAglaiDN8H"
      },
      "source": [
        "## Создание `numpy` *arrays*"
      ]
    },
    {
      "cell_type": "markdown",
      "metadata": {
        "id": "H0B7cIfwDN8J"
      },
      "source": [
        "Существует несколько способов инициализации новых массивов numpy, например из\n",
        "\n",
        "* список Python или кортежи\n",
        "* использование функций, предназначенных для генерации массивов numpy, таких как `arange`, `linspace` и т. д.\n",
        "* чтение данных из файлов"
      ]
    },
    {
      "cell_type": "markdown",
      "metadata": {
        "id": "jcvBXn0bDN8K"
      },
      "source": [
        "### Создание из списка (*list*)"
      ]
    },
    {
      "cell_type": "markdown",
      "metadata": {
        "id": "RWgynzQADN8L"
      },
      "source": [
        "Например, для создания новых векторных и матричных массивов из списков Python мы можем использовать `numpy.array`."
      ]
    },
    {
      "cell_type": "code",
      "execution_count": null,
      "metadata": {
        "id": "1OoD3m_fDN8M",
        "outputId": "a01cbfc3-dea7-4b19-f999-dea5998020ab",
        "colab": {
          "base_uri": "https://localhost:8080/"
        }
      },
      "outputs": [
        {
          "output_type": "execute_result",
          "data": {
            "text/plain": [
              "array([1, 2, 3, 4])"
            ]
          },
          "metadata": {},
          "execution_count": 3
        }
      ],
      "source": [
        "# вектор: аргумент функции array список (list) Python\n",
        "v = array([1,2,3,4])\n",
        "\n",
        "v"
      ]
    },
    {
      "cell_type": "code",
      "execution_count": null,
      "metadata": {
        "id": "8G1JlzVKDN8N",
        "outputId": "d8eda2ec-0527-4acf-891e-3c61205cee66",
        "colab": {
          "base_uri": "https://localhost:8080/"
        }
      },
      "outputs": [
        {
          "output_type": "execute_result",
          "data": {
            "text/plain": [
              "array([[1, 2],\n",
              "       [3, 4]])"
            ]
          },
          "metadata": {},
          "execution_count": 4
        }
      ],
      "source": [
        "# матрица: аргумент функции array вложенный список (nestled list) Python\n",
        "M = array([[1, 2], [3, 4]])\n",
        "M"
      ]
    },
    {
      "cell_type": "markdown",
      "metadata": {
        "id": "STkhDoujDN8O"
      },
      "source": [
        " `v` и `M` -- объекты общего типа `ndarray`, который создает модуль `numpy`."
      ]
    },
    {
      "cell_type": "code",
      "execution_count": null,
      "metadata": {
        "id": "oVu-_DDDDN8O",
        "outputId": "d25d1130-2219-47eb-85d6-8ce5d1c075bc",
        "colab": {
          "base_uri": "https://localhost:8080/"
        }
      },
      "outputs": [
        {
          "output_type": "execute_result",
          "data": {
            "text/plain": [
              "(numpy.ndarray, numpy.ndarray)"
            ]
          },
          "metadata": {},
          "execution_count": 5
        }
      ],
      "source": [
        "type(v), type(M)"
      ]
    },
    {
      "cell_type": "markdown",
      "metadata": {
        "id": "a5G9EFogDN8P"
      },
      "source": [
        "Разница между `v` и `M` заключается только в их форме. Мы можем получить информацию о форме массива с помощью `ndarray.shape` свойства."
      ]
    },
    {
      "cell_type": "code",
      "execution_count": null,
      "metadata": {
        "id": "-tg8sqZUDN8P",
        "outputId": "66fe6620-8dbf-473a-c7a8-89256231cc0d",
        "colab": {
          "base_uri": "https://localhost:8080/"
        }
      },
      "outputs": [
        {
          "output_type": "execute_result",
          "data": {
            "text/plain": [
              "(4,)"
            ]
          },
          "metadata": {},
          "execution_count": 6
        }
      ],
      "source": [
        "v.shape"
      ]
    },
    {
      "cell_type": "code",
      "execution_count": null,
      "metadata": {
        "id": "O19gMrggDN8Q",
        "outputId": "e3ba77b2-b3a9-4788-9eae-0eecc6e4e7f7",
        "colab": {
          "base_uri": "https://localhost:8080/"
        }
      },
      "outputs": [
        {
          "output_type": "execute_result",
          "data": {
            "text/plain": [
              "(2, 2)"
            ]
          },
          "metadata": {},
          "execution_count": 7
        }
      ],
      "source": [
        "M.shape"
      ]
    },
    {
      "cell_type": "markdown",
      "metadata": {
        "id": "nvs0dn-zDN8Q"
      },
      "source": [
        "Количество элементов в массиве доступно через свойство `ndarray.size`:"
      ]
    },
    {
      "cell_type": "code",
      "execution_count": null,
      "metadata": {
        "id": "If4DpnY4DN8R",
        "outputId": "82af43e1-8764-4986-cc31-f7c6a63c2166",
        "colab": {
          "base_uri": "https://localhost:8080/"
        }
      },
      "outputs": [
        {
          "output_type": "execute_result",
          "data": {
            "text/plain": [
              "4"
            ]
          },
          "metadata": {},
          "execution_count": 8
        }
      ],
      "source": [
        "M.size"
      ]
    },
    {
      "cell_type": "markdown",
      "metadata": {
        "id": "9mrQ5yzFDN8R"
      },
      "source": [
        "Так же можно использовать функции `numpy.shape` и `numpy.size`. Использование дублирующих методы функций характерно для Python как языка поддерживающего как объектно-ориентированную так и функциональную парадигмы программирования."
      ]
    },
    {
      "cell_type": "code",
      "execution_count": null,
      "metadata": {
        "id": "JklElZiLDN8R",
        "outputId": "f21b8e6e-322e-4dc7-fac8-951bef3ae915",
        "colab": {
          "base_uri": "https://localhost:8080/"
        }
      },
      "outputs": [
        {
          "output_type": "execute_result",
          "data": {
            "text/plain": [
              "(2, 2)"
            ]
          },
          "metadata": {},
          "execution_count": 9
        }
      ],
      "source": [
        "shape(M)"
      ]
    },
    {
      "cell_type": "code",
      "execution_count": null,
      "metadata": {
        "id": "uSF8EzltDN8S",
        "outputId": "f86d40a7-cc43-4884-c75f-c3be34be8be3",
        "colab": {
          "base_uri": "https://localhost:8080/"
        }
      },
      "outputs": [
        {
          "output_type": "execute_result",
          "data": {
            "text/plain": [
              "4"
            ]
          },
          "metadata": {},
          "execution_count": 10
        }
      ],
      "source": [
        "size(M)"
      ]
    },
    {
      "cell_type": "markdown",
      "metadata": {
        "id": "EMmMLZ5aDN8S"
      },
      "source": [
        "До сих пор `numpy.ndarray` ужасно похож на список Python (или вложенный список). Почему бы просто не использовать списки Python для вычислений вместо создания нового типа массива?\n",
        "\n",
        "Есть несколько причин:\n",
        "\n",
        "* Списки Python очень общие. Они могут содержать любой вид объекта. Они динамически типизируются. Они не поддерживают математические функции, такие как матричное и точечное умножение и т. д. Реализация таких функций для списков Python была бы не очень эффективной из-за динамической типизации.\n",
        "* Массивы Numpy **статически типизированы** и **однородны**. Тип элементов определяется при создании массива.\n",
        "* Массивы Numpy эффективны для работы с памятью.\n",
        "* Из-за статической типизации быстро реализуются математические функции, такие как умножение и сложение массивов `numpy`, функции могут быть реализованы на компилируемом языке (используется C и Fortran).\n",
        "\n",
        "Используя свойство `dtype` (тип данных) `ndarray`, мы можем увидеть, какой тип имеют данные массива:"
      ]
    },
    {
      "cell_type": "code",
      "execution_count": null,
      "metadata": {
        "id": "12-o7p5bDN8T",
        "outputId": "39fcc265-2f66-44e4-b746-d724553d3b14",
        "colab": {
          "base_uri": "https://localhost:8080/"
        }
      },
      "outputs": [
        {
          "output_type": "execute_result",
          "data": {
            "text/plain": [
              "dtype('int64')"
            ]
          },
          "metadata": {},
          "execution_count": 11
        }
      ],
      "source": [
        "M.dtype"
      ]
    },
    {
      "cell_type": "markdown",
      "metadata": {
        "id": "7EtNtUm6DN8T"
      },
      "source": [
        "Обратите внимание, что при не совпадении типов при присвоении будет выдана ошибка, что есть следствие статической типизации `ndarray`:"
      ]
    },
    {
      "cell_type": "code",
      "execution_count": null,
      "metadata": {
        "id": "HyVZVA3wDN8T"
      },
      "outputs": [],
      "source": [
        "# M[0,0] = \"hello\""
      ]
    },
    {
      "cell_type": "markdown",
      "metadata": {
        "id": "53lZe3luDN8U"
      },
      "source": [
        "Если мы хотим, мы можем явно определить тип данных массива при его создании, используя аргумент ключевого слова `dtype`:"
      ]
    },
    {
      "cell_type": "code",
      "execution_count": null,
      "metadata": {
        "id": "-B6116KlDN8U",
        "outputId": "9a46d898-d41d-4396-a878-2ec8d8ae7690",
        "colab": {
          "base_uri": "https://localhost:8080/"
        }
      },
      "outputs": [
        {
          "output_type": "execute_result",
          "data": {
            "text/plain": [
              "array([[1.+0.j, 2.+0.j],\n",
              "       [3.+0.j, 4.+0.j]])"
            ]
          },
          "metadata": {},
          "execution_count": 13
        }
      ],
      "source": [
        "M = array([[1, 2], [3, 4]], dtype=complex)\n",
        "\n",
        "M"
      ]
    },
    {
      "cell_type": "markdown",
      "metadata": {
        "id": "KWZklt6dDN8V"
      },
      "source": [
        "Общие типы данных, которые можно использовать с `dtype`: `int`, `float`, `complex`, `bool`, `object` и т. д.\n",
        "\n",
        "Мы также можем явно определить битовый размер типов данных, например: `int64`, `int16`, `float128`, `complex128`."
      ]
    },
    {
      "cell_type": "markdown",
      "metadata": {
        "id": "ulRhDPy1DN8V"
      },
      "source": [
        "### Задание 1\n",
        "Создайте матрицу таблицы умножения с использованием списков"
      ]
    },
    {
      "cell_type": "code",
      "source": [
        "line_1 = arange(1, 11)\n",
        "line_1 * line_1.reshape(10,1)"
      ],
      "metadata": {
        "colab": {
          "base_uri": "https://localhost:8080/"
        },
        "id": "vwnvFg_nFlNd",
        "outputId": "e4b523e1-0ce5-41cd-8158-3574ba792969"
      },
      "execution_count": null,
      "outputs": [
        {
          "output_type": "execute_result",
          "data": {
            "text/plain": [
              "array([[  1,   2,   3,   4,   5,   6,   7,   8,   9,  10],\n",
              "       [  2,   4,   6,   8,  10,  12,  14,  16,  18,  20],\n",
              "       [  3,   6,   9,  12,  15,  18,  21,  24,  27,  30],\n",
              "       [  4,   8,  12,  16,  20,  24,  28,  32,  36,  40],\n",
              "       [  5,  10,  15,  20,  25,  30,  35,  40,  45,  50],\n",
              "       [  6,  12,  18,  24,  30,  36,  42,  48,  54,  60],\n",
              "       [  7,  14,  21,  28,  35,  42,  49,  56,  63,  70],\n",
              "       [  8,  16,  24,  32,  40,  48,  56,  64,  72,  80],\n",
              "       [  9,  18,  27,  36,  45,  54,  63,  72,  81,  90],\n",
              "       [ 10,  20,  30,  40,  50,  60,  70,  80,  90, 100]])"
            ]
          },
          "metadata": {},
          "execution_count": 14
        }
      ]
    },
    {
      "cell_type": "markdown",
      "metadata": {
        "id": "cJvuiBw6DN8V"
      },
      "source": [
        "### Функции генерирующие массивы."
      ]
    },
    {
      "cell_type": "markdown",
      "metadata": {
        "id": "WBT7RhQJDN8V"
      },
      "source": [
        "Для больших массивов нецелесообразно инициализировать данные вручную, используя явные списки Python. Вместо этого мы можем использовать одну из многих функций в `numpy`, которые генерируют массивы различных форм. Некоторые из наиболее распространенных являются:"
      ]
    },
    {
      "cell_type": "markdown",
      "metadata": {
        "id": "eulHLbGYDN8V"
      },
      "source": [
        "#### Функция arange"
      ]
    },
    {
      "cell_type": "code",
      "execution_count": null,
      "metadata": {
        "id": "ooUrZ7wvDN8W",
        "outputId": "f7c57b49-c4f9-4256-880a-19342de49c6a",
        "colab": {
          "base_uri": "https://localhost:8080/"
        }
      },
      "outputs": [
        {
          "output_type": "execute_result",
          "data": {
            "text/plain": [
              "array([10,  9,  8,  7,  6])"
            ]
          },
          "metadata": {},
          "execution_count": 15
        }
      ],
      "source": [
        "# массив целых от 0 до 10\n",
        "\n",
        "x = arange(10, 5, -1) # аргументы: начало, конец, шаг\n",
        "x"
      ]
    },
    {
      "cell_type": "code",
      "execution_count": null,
      "metadata": {
        "id": "UE7JIX1uDN8W",
        "outputId": "5b3a686a-9b54-416b-c58e-b2322f2eaa0b",
        "colab": {
          "base_uri": "https://localhost:8080/"
        }
      },
      "outputs": [
        {
          "output_type": "execute_result",
          "data": {
            "text/plain": [
              "array([-1.00000000e+00, -9.00000000e-01, -8.00000000e-01, -7.00000000e-01,\n",
              "       -6.00000000e-01, -5.00000000e-01, -4.00000000e-01, -3.00000000e-01,\n",
              "       -2.00000000e-01, -1.00000000e-01, -2.22044605e-16,  1.00000000e-01,\n",
              "        2.00000000e-01,  3.00000000e-01,  4.00000000e-01,  5.00000000e-01,\n",
              "        6.00000000e-01,  7.00000000e-01,  8.00000000e-01,  9.00000000e-01])"
            ]
          },
          "metadata": {},
          "execution_count": 16
        }
      ],
      "source": [
        "x = arange(-1, 1, 0.1)\n",
        "\n",
        "x"
      ]
    },
    {
      "cell_type": "markdown",
      "metadata": {
        "id": "bqEc4B5MDN8X"
      },
      "source": [
        "#### Функции linspace и logspace"
      ]
    },
    {
      "cell_type": "code",
      "execution_count": null,
      "metadata": {
        "id": "yuAhzkkvDN8X",
        "outputId": "650e1839-8ae2-41d7-b907-b1e6506ab00e",
        "colab": {
          "base_uri": "https://localhost:8080/"
        }
      },
      "outputs": [
        {
          "output_type": "execute_result",
          "data": {
            "text/plain": [
              "array([ 5. ,  5.5,  6. ,  6.5,  7. ,  7.5,  8. ,  8.5,  9. ,  9.5, 10. ])"
            ]
          },
          "metadata": {},
          "execution_count": 17
        }
      ],
      "source": [
        "# использование linspace, оба конечных значения включены\n",
        "linspace(5, 10, 11)"
      ]
    },
    {
      "cell_type": "code",
      "execution_count": null,
      "metadata": {
        "id": "hl7vuIeIDN8X",
        "outputId": "6903f48c-787e-45a0-ad32-a8ffea45fcc1",
        "colab": {
          "base_uri": "https://localhost:8080/"
        }
      },
      "outputs": [
        {
          "output_type": "execute_result",
          "data": {
            "text/plain": [
              "array([1.e+00, 1.e+01, 1.e+02, 1.e+03, 1.e+04, 1.e+05, 1.e+06, 1.e+07,\n",
              "       1.e+08, 1.e+09, 1.e+10])"
            ]
          },
          "metadata": {},
          "execution_count": 18
        }
      ],
      "source": [
        "logspace(0, 10, 11, base=10) # создание равномерной последовальности в логарифмической шкале"
      ]
    },
    {
      "cell_type": "markdown",
      "metadata": {
        "id": "mtZyqcCKDN8X"
      },
      "source": [
        "#### Функция mgrid"
      ]
    },
    {
      "cell_type": "code",
      "execution_count": null,
      "metadata": {
        "id": "XYcq11zODN8Y"
      },
      "outputs": [],
      "source": [
        "x, y = mgrid[0:5, 0:5] #создает сетку равномерно расположенных значений подобно meshgrid в MATLAB"
      ]
    },
    {
      "cell_type": "code",
      "execution_count": null,
      "metadata": {
        "id": "r8AgNs4MDN8Y",
        "outputId": "250d6abd-7c42-4381-b92c-a9dc6fe5ca0a",
        "colab": {
          "base_uri": "https://localhost:8080/"
        }
      },
      "outputs": [
        {
          "output_type": "execute_result",
          "data": {
            "text/plain": [
              "array([[0, 0, 0, 0, 0],\n",
              "       [1, 1, 1, 1, 1],\n",
              "       [2, 2, 2, 2, 2],\n",
              "       [3, 3, 3, 3, 3],\n",
              "       [4, 4, 4, 4, 4]])"
            ]
          },
          "metadata": {},
          "execution_count": 20
        }
      ],
      "source": [
        "x"
      ]
    },
    {
      "cell_type": "code",
      "execution_count": null,
      "metadata": {
        "id": "rJYnmY_rDN8Y",
        "outputId": "42b2f686-ac2f-4a37-bc0d-9892dc891673",
        "colab": {
          "base_uri": "https://localhost:8080/"
        }
      },
      "outputs": [
        {
          "output_type": "execute_result",
          "data": {
            "text/plain": [
              "array([[0, 1, 2, 3, 4],\n",
              "       [0, 1, 2, 3, 4],\n",
              "       [0, 1, 2, 3, 4],\n",
              "       [0, 1, 2, 3, 4],\n",
              "       [0, 1, 2, 3, 4]])"
            ]
          },
          "metadata": {},
          "execution_count": 21
        }
      ],
      "source": [
        "y"
      ]
    },
    {
      "cell_type": "markdown",
      "metadata": {
        "id": "jsTiv3X9DN8Y"
      },
      "source": [
        "#### Создание случайных данных средствами random"
      ]
    },
    {
      "cell_type": "code",
      "execution_count": null,
      "metadata": {
        "id": "_wIkP2nlDN8Z"
      },
      "outputs": [],
      "source": [
        "from numpy import random"
      ]
    },
    {
      "cell_type": "code",
      "execution_count": null,
      "metadata": {
        "id": "VqRYwLIQDN8Z",
        "outputId": "1f4bd3a6-1908-40b6-855f-4738783426c0",
        "colab": {
          "base_uri": "https://localhost:8080/"
        }
      },
      "outputs": [
        {
          "output_type": "execute_result",
          "data": {
            "text/plain": [
              "array([[0.1586381 , 0.89748174, 0.28100437, 0.26238741, 0.35175498],\n",
              "       [0.35779404, 0.49181611, 0.2929678 , 0.16161015, 0.68503233],\n",
              "       [0.12944351, 0.87688977, 0.86243294, 0.96122595, 0.66646171],\n",
              "       [0.80456847, 0.91867691, 0.11191513, 0.85742635, 0.17364364],\n",
              "       [0.71702159, 0.17066736, 0.24741715, 0.22851137, 0.40990734]])"
            ]
          },
          "metadata": {},
          "execution_count": 23
        }
      ],
      "source": [
        "# случайные данные с равномерным распределением в отрезке [0,1]\n",
        "random.rand(5,5)"
      ]
    },
    {
      "cell_type": "code",
      "execution_count": null,
      "metadata": {
        "id": "86zx_rIgDN8Z",
        "outputId": "284e3e88-71ba-48e6-bb4f-5ed7fef7a39c",
        "colab": {
          "base_uri": "https://localhost:8080/"
        }
      },
      "outputs": [
        {
          "output_type": "execute_result",
          "data": {
            "text/plain": [
              "array([[-2.00409879, -0.38325869,  0.01652535,  0.46148179,  0.0938871 ],\n",
              "       [-0.27008829,  0.65599892, -0.76153215,  0.19111534, -0.40307091],\n",
              "       [ 0.44423204, -0.32741345, -0.14533729, -1.06695096, -0.99791446],\n",
              "       [-1.42614903,  0.13376268, -1.12084017, -2.28547069,  0.27187986],\n",
              "       [-0.54830214,  0.55178594, -0.54169087,  1.14180253,  0.21990795]])"
            ]
          },
          "metadata": {},
          "execution_count": 24
        }
      ],
      "source": [
        "# случайные данные с нормальным распределением\n",
        "random.randn(5,5)"
      ]
    },
    {
      "cell_type": "markdown",
      "metadata": {
        "id": "QcVXql6_DN8Z"
      },
      "source": [
        "#### Создание квадратных матриц функцией diag"
      ]
    },
    {
      "cell_type": "code",
      "execution_count": null,
      "metadata": {
        "id": "mjfXgcaWDN8a",
        "outputId": "6b969f09-ef66-4093-8e79-19f076795f7b",
        "colab": {
          "base_uri": "https://localhost:8080/"
        }
      },
      "outputs": [
        {
          "output_type": "execute_result",
          "data": {
            "text/plain": [
              "array([[1, 0, 0],\n",
              "       [0, 2, 0],\n",
              "       [0, 0, 3]])"
            ]
          },
          "metadata": {},
          "execution_count": 25
        }
      ],
      "source": [
        "# матрица с диагональю\n",
        "diag([1,2,3])"
      ]
    },
    {
      "cell_type": "code",
      "execution_count": null,
      "metadata": {
        "id": "F2xwEqkEDN8a",
        "outputId": "483107ce-9c39-49f1-e47a-753491ea3559",
        "colab": {
          "base_uri": "https://localhost:8080/"
        }
      },
      "outputs": [
        {
          "output_type": "execute_result",
          "data": {
            "text/plain": [
              "array([[0, 1, 0, 0],\n",
              "       [0, 0, 2, 0],\n",
              "       [0, 0, 0, 3],\n",
              "       [0, 0, 0, 0]])"
            ]
          },
          "metadata": {},
          "execution_count": 26
        }
      ],
      "source": [
        "# матрица со сдвинутой диагональю\n",
        "diag([1,2,3], k=1) "
      ]
    },
    {
      "cell_type": "markdown",
      "metadata": {
        "id": "FRLVQ609DN8a"
      },
      "source": [
        "#### Матрицы или спецмассивы zeros и ones"
      ]
    },
    {
      "cell_type": "code",
      "execution_count": null,
      "metadata": {
        "id": "pY0SBurQDN8a",
        "outputId": "8a3aee0b-37fa-4d13-edbe-6509cd60038d",
        "colab": {
          "base_uri": "https://localhost:8080/"
        }
      },
      "outputs": [
        {
          "output_type": "execute_result",
          "data": {
            "text/plain": [
              "array([[0., 0., 0.],\n",
              "       [0., 0., 0.],\n",
              "       [0., 0., 0.]])"
            ]
          },
          "metadata": {},
          "execution_count": 27
        }
      ],
      "source": [
        "zeros((3,3))"
      ]
    },
    {
      "cell_type": "code",
      "execution_count": null,
      "metadata": {
        "id": "UkvsVsyRDN8b",
        "outputId": "01543b26-3e91-428c-e8c6-9bc1be454156",
        "colab": {
          "base_uri": "https://localhost:8080/"
        }
      },
      "outputs": [
        {
          "output_type": "execute_result",
          "data": {
            "text/plain": [
              "array([[1., 1., 1.],\n",
              "       [1., 1., 1.],\n",
              "       [1., 1., 1.]])"
            ]
          },
          "metadata": {},
          "execution_count": 28
        }
      ],
      "source": [
        "ones((3,3))"
      ]
    },
    {
      "cell_type": "markdown",
      "metadata": {
        "id": "Om4ODUFHDN8b"
      },
      "source": [
        "### Задание 2\n",
        "Создайте функцию, которая принимает как аргументы целое число N и первый элемент (вещественное число el1), и разность (вещественное число d) и создает матрицу, по диагонали которой распологаются первые N членов арифметической прогрессии. "
      ]
    },
    {
      "cell_type": "code",
      "source": [
        "def f(N=int, el1=float, d=float):\n",
        "  return diag(arange(el1,el1+d*N,d))\n",
        "f(6,10.5,40.7)"
      ],
      "metadata": {
        "colab": {
          "base_uri": "https://localhost:8080/"
        },
        "id": "K5Gfem6aKP21",
        "outputId": "f36b53b4-893e-41d8-ae2b-b63d5878c839"
      },
      "execution_count": null,
      "outputs": [
        {
          "output_type": "execute_result",
          "data": {
            "text/plain": [
              "array([[ 10.5,   0. ,   0. ,   0. ,   0. ,   0. ],\n",
              "       [  0. ,  51.2,   0. ,   0. ,   0. ,   0. ],\n",
              "       [  0. ,   0. ,  91.9,   0. ,   0. ,   0. ],\n",
              "       [  0. ,   0. ,   0. , 132.6,   0. ,   0. ],\n",
              "       [  0. ,   0. ,   0. ,   0. , 173.3,   0. ],\n",
              "       [  0. ,   0. ,   0. ,   0. ,   0. , 214. ]])"
            ]
          },
          "metadata": {},
          "execution_count": 205
        }
      ]
    },
    {
      "cell_type": "markdown",
      "metadata": {
        "id": "XPkj9rcGDN8b"
      },
      "source": [
        "## Запись и чтение в файл"
      ]
    },
    {
      "cell_type": "markdown",
      "metadata": {
        "id": "Vf2uQUXPDN8b"
      },
      "source": [
        "### Файлы данных Comma-separated values (CSV)"
      ]
    },
    {
      "cell_type": "markdown",
      "metadata": {
        "id": "xwGI29cbDN8b"
      },
      "source": [
        "Очень распространенным форматом файлов данных являются значения, разделенные запятыми (CSV), или связанные с ними форматы, такие как TSV (значения, разделенные табуляциями). Для чтения данных из таких файлов в массивы Numpy мы можем использовать функцию `numpy.genfromtxt`. Например:"
      ]
    },
    {
      "cell_type": "code",
      "execution_count": null,
      "metadata": {
        "id": "cE7UaKw6DN8c"
      },
      "outputs": [],
      "source": [
        "data = genfromtxt('stockholm_td_adj.dat.txt')"
      ]
    },
    {
      "cell_type": "code",
      "execution_count": null,
      "metadata": {
        "id": "uOWUAJXzDN8c",
        "outputId": "9d02011c-23bd-4ca8-a0e1-0ae6c253a46d",
        "colab": {
          "base_uri": "https://localhost:8080/"
        }
      },
      "outputs": [
        {
          "output_type": "execute_result",
          "data": {
            "text/plain": [
              "(77431, 7)"
            ]
          },
          "metadata": {},
          "execution_count": 31
        }
      ],
      "source": [
        "data.shape"
      ]
    },
    {
      "cell_type": "code",
      "execution_count": null,
      "metadata": {
        "id": "OqVqUjXgDN8c",
        "outputId": "53a23b24-b71b-48dd-82c8-4be6fc408d98",
        "colab": {
          "base_uri": "https://localhost:8080/"
        }
      },
      "outputs": [
        {
          "output_type": "display_data",
          "data": {
            "text/plain": [
              "<Figure size 1008x288 with 1 Axes>"
            ],
            "image/png": "[encoded data removed]"
          },
          "metadata": {
            "needs_background": "light"
          }
        }
      ],
      "source": [
        "fig, ax = plt.subplots(figsize=(14,4))\n",
        "x=linspace(1,32,31)\n",
        "y=array([data[i,5] for i in range(data.shape[0]) if (data[i,0]==1950)*(data[i,1]==5)])\n",
        "ax.plot(x,y)\n",
        "ax.axis('tight')\n",
        "ax.set_title('tempeatures in Stockholm')\n",
        "ax.set_xlabel('year')\n",
        "ax.set_ylabel('temperature (C)');\n"
      ]
    },
    {
      "cell_type": "markdown",
      "metadata": {
        "id": "Q3H1ZLwhDN8c"
      },
      "source": [
        "Используя `numpy.savetxt` можно записать Numpy массив в файл CSV формате:"
      ]
    },
    {
      "cell_type": "code",
      "execution_count": null,
      "metadata": {
        "id": "XgL587f8DN8d",
        "outputId": "60720871-6cdd-4b0a-ca45-7870d0f1aa9c",
        "colab": {
          "base_uri": "https://localhost:8080/"
        }
      },
      "outputs": [
        {
          "output_type": "execute_result",
          "data": {
            "text/plain": [
              "array([[0.97824064, 0.66935971, 0.33700877],\n",
              "       [0.27737367, 0.33251847, 0.81720957],\n",
              "       [0.05368899, 0.97052537, 0.31014345]])"
            ]
          },
          "metadata": {},
          "execution_count": 33
        }
      ],
      "source": [
        "M = random.rand(3,3)\n",
        "\n",
        "M"
      ]
    },
    {
      "cell_type": "code",
      "execution_count": null,
      "metadata": {
        "id": "BU5GaQ3cDN8d"
      },
      "outputs": [],
      "source": [
        "savetxt(\"random-matrix.csv\", M)"
      ]
    },
    {
      "cell_type": "code",
      "execution_count": null,
      "metadata": {
        "id": "mONpGMu0DN8d",
        "outputId": "bdd536a9-e2a8-4bce-a0f2-bde357d28308",
        "colab": {
          "base_uri": "https://localhost:8080/"
        }
      },
      "outputs": [
        {
          "output_type": "execute_result",
          "data": {
            "text/plain": [
              "array([[0.97824, 0.66936, 0.33701],\n",
              "       [0.27737, 0.33252, 0.81721],\n",
              "       [0.05369, 0.97053, 0.31014]])"
            ]
          },
          "metadata": {},
          "execution_count": 35
        }
      ],
      "source": [
        "savetxt(\"random-matrix.csv\", M, fmt='%.5f') # fmt определяет формат данных\n",
        "rand_data = genfromtxt('random-matrix.csv')\n",
        "rand_data"
      ]
    },
    {
      "cell_type": "markdown",
      "metadata": {
        "id": "pF3X2MKtDN8d"
      },
      "source": [
        "### Формат файлов Numpy"
      ]
    },
    {
      "cell_type": "markdown",
      "metadata": {
        "id": "PmCfMJ5lDN8d"
      },
      "source": [
        "Полезно при хранении и считывании данных массива numpy. Используйте функции `numpy.save` и `numpy.load`:"
      ]
    },
    {
      "cell_type": "code",
      "execution_count": null,
      "metadata": {
        "id": "ECZB2grLDN8e"
      },
      "outputs": [],
      "source": [
        "save(\"random-matrix.npy\", M)"
      ]
    },
    {
      "cell_type": "code",
      "execution_count": null,
      "metadata": {
        "id": "il5s43jbDN8e",
        "outputId": "69a56b2c-b3a6-48e1-bd2d-5a5b37663007",
        "colab": {
          "base_uri": "https://localhost:8080/"
        }
      },
      "outputs": [
        {
          "output_type": "execute_result",
          "data": {
            "text/plain": [
              "array([[0.97824064, 0.66935971, 0.33700877],\n",
              "       [0.27737367, 0.33251847, 0.81720957],\n",
              "       [0.05368899, 0.97052537, 0.31014345]])"
            ]
          },
          "metadata": {},
          "execution_count": 37
        }
      ],
      "source": [
        "load(\"random-matrix.npy\")"
      ]
    },
    {
      "cell_type": "markdown",
      "metadata": {
        "id": "8c5q-fRiDN8e"
      },
      "source": [
        "### Задание 3\n",
        "Из данных по температуре в Стокгольме выбрать данные относящиеся к октябрю 1970 года и записать их в бинарный и текстовый файлы oct70.bin и oct70.txt. Затем прочитайте их импортировав в тетрадь ноутбука и сравните."
      ]
    },
    {
      "cell_type": "code",
      "source": [
        "dataoct170 = data[(data[:,0]==1970)&(data[:,1]==10)]\n",
        "dataoct170[0:5]"
      ],
      "metadata": {
        "colab": {
          "base_uri": "https://localhost:8080/"
        },
        "id": "tfdscBnObRmO",
        "outputId": "6ed1f401-b338-4b1a-8064-b9646b9a1786"
      },
      "execution_count": null,
      "outputs": [
        {
          "output_type": "execute_result",
          "data": {
            "text/plain": [
              "array([[1.97e+03, 1.00e+01, 1.00e+00, 1.07e+01, 1.04e+01, 1.04e+01,\n",
              "        1.00e+00],\n",
              "       [1.97e+03, 1.00e+01, 2.00e+00, 9.30e+00, 9.00e+00, 9.00e+00,\n",
              "        1.00e+00],\n",
              "       [1.97e+03, 1.00e+01, 3.00e+00, 8.10e+00, 7.80e+00, 7.80e+00,\n",
              "        1.00e+00],\n",
              "       [1.97e+03, 1.00e+01, 4.00e+00, 6.90e+00, 6.60e+00, 6.60e+00,\n",
              "        1.00e+00],\n",
              "       [1.97e+03, 1.00e+01, 5.00e+00, 8.20e+00, 7.90e+00, 7.90e+00,\n",
              "        1.00e+00]])"
            ]
          },
          "metadata": {},
          "execution_count": 38
        }
      ]
    },
    {
      "cell_type": "code",
      "source": [
        "# savetxt(\"oct70.bin\",dataoct170)\n",
        "dataoct170.tofile(file = 'dataoct170.bin')"
      ],
      "metadata": {
        "id": "f6rgxyfOgFuY"
      },
      "execution_count": null,
      "outputs": []
    },
    {
      "cell_type": "code",
      "source": [
        "genfromtxt('oct70.bin')[0:5]"
      ],
      "metadata": {
        "colab": {
          "base_uri": "https://localhost:8080/"
        },
        "id": "_ewmWR29hEcv",
        "outputId": "b462c253-b4e1-464f-fd81-65f097380b51"
      },
      "execution_count": null,
      "outputs": [
        {
          "output_type": "execute_result",
          "data": {
            "text/plain": [
              "array([[1.97e+03, 1.00e+01, 1.00e+00, 1.07e+01, 1.04e+01, 1.04e+01,\n",
              "        1.00e+00],\n",
              "       [1.97e+03, 1.00e+01, 2.00e+00, 9.30e+00, 9.00e+00, 9.00e+00,\n",
              "        1.00e+00],\n",
              "       [1.97e+03, 1.00e+01, 3.00e+00, 8.10e+00, 7.80e+00, 7.80e+00,\n",
              "        1.00e+00],\n",
              "       [1.97e+03, 1.00e+01, 4.00e+00, 6.90e+00, 6.60e+00, 6.60e+00,\n",
              "        1.00e+00],\n",
              "       [1.97e+03, 1.00e+01, 5.00e+00, 8.20e+00, 7.90e+00, 7.90e+00,\n",
              "        1.00e+00]])"
            ]
          },
          "metadata": {},
          "execution_count": 40
        }
      ]
    },
    {
      "cell_type": "code",
      "source": [
        "savetxt(\"oct70.txt\",dataoct170)"
      ],
      "metadata": {
        "id": "nXgUEERthBIZ"
      },
      "execution_count": null,
      "outputs": []
    },
    {
      "cell_type": "code",
      "source": [
        "genfromtxt('oct70.txt')[0:5]"
      ],
      "metadata": {
        "colab": {
          "base_uri": "https://localhost:8080/"
        },
        "id": "iEV19lSbhNvP",
        "outputId": "1ca835d0-09e9-490e-866a-7706a876367d"
      },
      "execution_count": null,
      "outputs": [
        {
          "output_type": "execute_result",
          "data": {
            "text/plain": [
              "array([[1.97e+03, 1.00e+01, 1.00e+00, 1.07e+01, 1.04e+01, 1.04e+01,\n",
              "        1.00e+00],\n",
              "       [1.97e+03, 1.00e+01, 2.00e+00, 9.30e+00, 9.00e+00, 9.00e+00,\n",
              "        1.00e+00],\n",
              "       [1.97e+03, 1.00e+01, 3.00e+00, 8.10e+00, 7.80e+00, 7.80e+00,\n",
              "        1.00e+00],\n",
              "       [1.97e+03, 1.00e+01, 4.00e+00, 6.90e+00, 6.60e+00, 6.60e+00,\n",
              "        1.00e+00],\n",
              "       [1.97e+03, 1.00e+01, 5.00e+00, 8.20e+00, 7.90e+00, 7.90e+00,\n",
              "        1.00e+00]])"
            ]
          },
          "metadata": {},
          "execution_count": 42
        }
      ]
    },
    {
      "cell_type": "markdown",
      "metadata": {
        "id": "HIA_BjjJDN8e"
      },
      "source": [
        "## Дополнительные свойства `numpy` *arrays*"
      ]
    },
    {
      "cell_type": "code",
      "execution_count": null,
      "metadata": {
        "id": "7y8jIvnBDN8e",
        "outputId": "29571e43-e92c-4bb7-a520-ff563ca50bc3",
        "colab": {
          "base_uri": "https://localhost:8080/"
        }
      },
      "outputs": [
        {
          "output_type": "execute_result",
          "data": {
            "text/plain": [
              "8"
            ]
          },
          "metadata": {},
          "execution_count": 43
        }
      ],
      "source": [
        "M.itemsize # размер элемента в байтах"
      ]
    },
    {
      "cell_type": "code",
      "execution_count": null,
      "metadata": {
        "id": "A3wYVhSIDN8f",
        "outputId": "e688f1e3-e2da-44db-a743-a55371df2682",
        "colab": {
          "base_uri": "https://localhost:8080/"
        }
      },
      "outputs": [
        {
          "output_type": "execute_result",
          "data": {
            "text/plain": [
              "72"
            ]
          },
          "metadata": {},
          "execution_count": 44
        }
      ],
      "source": [
        "M.nbytes # кол-во байт"
      ]
    },
    {
      "cell_type": "code",
      "execution_count": null,
      "metadata": {
        "id": "UpvFkEhoDN8f",
        "outputId": "aaf36cb9-2fe9-40b8-d067-7b65d82831f4",
        "colab": {
          "base_uri": "https://localhost:8080/"
        }
      },
      "outputs": [
        {
          "output_type": "execute_result",
          "data": {
            "text/plain": [
              "2"
            ]
          },
          "metadata": {},
          "execution_count": 45
        }
      ],
      "source": [
        "M.ndim # размерность"
      ]
    },
    {
      "cell_type": "markdown",
      "metadata": {
        "id": "1mklg3VdDN8f"
      },
      "source": [
        "## Преобразование массивов"
      ]
    },
    {
      "cell_type": "markdown",
      "metadata": {
        "id": "ne0JCoxODN8f"
      },
      "source": [
        "### Использование индексов"
      ]
    },
    {
      "cell_type": "markdown",
      "metadata": {
        "id": "DRlcb7paDN8f"
      },
      "source": [
        "Доступ к элементам через индекс:"
      ]
    },
    {
      "cell_type": "code",
      "execution_count": null,
      "metadata": {
        "id": "ZgNluuGbDN8g",
        "outputId": "079e3d9f-149e-4f9b-fccf-c718abd97262",
        "colab": {
          "base_uri": "https://localhost:8080/"
        }
      },
      "outputs": [
        {
          "output_type": "execute_result",
          "data": {
            "text/plain": [
              "1"
            ]
          },
          "metadata": {},
          "execution_count": 46
        }
      ],
      "source": [
        "# v -- вектор, размерность 1, испльзуем 1 индекс\n",
        "v[0]"
      ]
    },
    {
      "cell_type": "code",
      "execution_count": null,
      "metadata": {
        "id": "GjT93WGWDN8g",
        "outputId": "d2ef681c-348d-4d68-bdc9-f3b2966f0267",
        "colab": {
          "base_uri": "https://localhost:8080/"
        }
      },
      "outputs": [
        {
          "output_type": "execute_result",
          "data": {
            "text/plain": [
              "0.3325184724326664"
            ]
          },
          "metadata": {},
          "execution_count": 47
        }
      ],
      "source": [
        "# M -- матрица, 2-х мерный объект, используем 2 индекса \n",
        "M[1,1]"
      ]
    },
    {
      "cell_type": "markdown",
      "metadata": {
        "id": "OaDvKqsCDN8g"
      },
      "source": [
        "Если мы опустим один из индексов, то получим объект пониженной размерности. В случае двумерной матрицы, получим вектор. "
      ]
    },
    {
      "cell_type": "code",
      "execution_count": null,
      "metadata": {
        "id": "Bpp-oPBoDN8g",
        "outputId": "c189c966-2878-4ef9-be5c-b7a1646738c5",
        "colab": {
          "base_uri": "https://localhost:8080/"
        }
      },
      "outputs": [
        {
          "output_type": "execute_result",
          "data": {
            "text/plain": [
              "array([[0.97824064, 0.66935971, 0.33700877],\n",
              "       [0.27737367, 0.33251847, 0.81720957],\n",
              "       [0.05368899, 0.97052537, 0.31014345]])"
            ]
          },
          "metadata": {},
          "execution_count": 48
        }
      ],
      "source": [
        "M"
      ]
    },
    {
      "cell_type": "code",
      "execution_count": null,
      "metadata": {
        "id": "AHsxJKbKDN8g",
        "outputId": "427e03c5-dde1-4b76-9dcb-804ee94342e8",
        "colab": {
          "base_uri": "https://localhost:8080/"
        }
      },
      "outputs": [
        {
          "output_type": "execute_result",
          "data": {
            "text/plain": [
              "array([0.27737367, 0.33251847, 0.81720957])"
            ]
          },
          "metadata": {},
          "execution_count": 49
        }
      ],
      "source": [
        "M[1]"
      ]
    },
    {
      "cell_type": "markdown",
      "metadata": {
        "id": "qGeCXFL0DN8h"
      },
      "source": [
        "Такой же эффект получится при использовании `:` на месте индекса:"
      ]
    },
    {
      "cell_type": "code",
      "execution_count": null,
      "metadata": {
        "id": "wtYEo89eDN8h",
        "outputId": "bbc2ed45-7b4f-4b48-a93e-9ab4c4760a33",
        "colab": {
          "base_uri": "https://localhost:8080/"
        }
      },
      "outputs": [
        {
          "output_type": "execute_result",
          "data": {
            "text/plain": [
              "array([0.27737367, 0.33251847, 0.81720957])"
            ]
          },
          "metadata": {},
          "execution_count": 50
        }
      ],
      "source": [
        "M[1,:] # строка (row) 1"
      ]
    },
    {
      "cell_type": "code",
      "execution_count": null,
      "metadata": {
        "id": "FFwYJ4tVDN8h",
        "outputId": "cab86a5f-366e-47d1-c404-06c245ec0828",
        "colab": {
          "base_uri": "https://localhost:8080/"
        }
      },
      "outputs": [
        {
          "output_type": "execute_result",
          "data": {
            "text/plain": [
              "array([0.66935971, 0.33251847, 0.97052537])"
            ]
          },
          "metadata": {},
          "execution_count": 51
        }
      ],
      "source": [
        "M[:,1] # столбец (column) 1"
      ]
    },
    {
      "cell_type": "markdown",
      "metadata": {
        "id": "UEmtYCFrDN8h"
      },
      "source": [
        "Мы можем присваивать новые значения элементам массива с помощью индексации:"
      ]
    },
    {
      "cell_type": "code",
      "execution_count": null,
      "metadata": {
        "id": "iBlC4so2DN8i"
      },
      "outputs": [],
      "source": [
        "M[0,0] = 1"
      ]
    },
    {
      "cell_type": "code",
      "execution_count": null,
      "metadata": {
        "id": "OI8H1uL8DN8i",
        "outputId": "4ac5ccf2-35cf-4034-bbb5-3a8c801f0f65",
        "colab": {
          "base_uri": "https://localhost:8080/"
        }
      },
      "outputs": [
        {
          "output_type": "execute_result",
          "data": {
            "text/plain": [
              "array([[1.        , 0.66935971, 0.33700877],\n",
              "       [0.27737367, 0.33251847, 0.81720957],\n",
              "       [0.05368899, 0.97052537, 0.31014345]])"
            ]
          },
          "metadata": {},
          "execution_count": 53
        }
      ],
      "source": [
        "M"
      ]
    },
    {
      "cell_type": "code",
      "execution_count": null,
      "metadata": {
        "id": "37LjPfPRDN8j"
      },
      "outputs": [],
      "source": [
        "# также работает для строк и столбцов\n",
        "M[1,:] = 0\n",
        "M[:,2] = -1"
      ]
    },
    {
      "cell_type": "code",
      "execution_count": null,
      "metadata": {
        "id": "U0GJspkfDN8j",
        "outputId": "8edf7df4-aef2-4dd4-f320-0e15b92aea1a",
        "colab": {
          "base_uri": "https://localhost:8080/"
        }
      },
      "outputs": [
        {
          "output_type": "execute_result",
          "data": {
            "text/plain": [
              "array([[ 1.        ,  0.66935971, -1.        ],\n",
              "       [ 0.        ,  0.        , -1.        ],\n",
              "       [ 0.05368899,  0.97052537, -1.        ]])"
            ]
          },
          "metadata": {},
          "execution_count": 55
        }
      ],
      "source": [
        "M"
      ]
    },
    {
      "cell_type": "markdown",
      "metadata": {
        "id": "_32NfeO-DN8j"
      },
      "source": [
        "### Срезы (*slice*) по индексам"
      ]
    },
    {
      "cell_type": "markdown",
      "metadata": {
        "id": "HJ0uJmmwDN8k"
      },
      "source": [
        "Срезы по индексам техническое название `M[нижний индекс:верхний индекс:шаг]` предназначенные для извлечения части массива:"
      ]
    },
    {
      "cell_type": "code",
      "execution_count": null,
      "metadata": {
        "id": "InoFerF5DN8k",
        "outputId": "4c2a8f0e-2ecd-48fe-c5eb-11114f310082",
        "colab": {
          "base_uri": "https://localhost:8080/"
        }
      },
      "outputs": [
        {
          "output_type": "execute_result",
          "data": {
            "text/plain": [
              "array([1, 2, 3, 4, 5])"
            ]
          },
          "metadata": {},
          "execution_count": 56
        }
      ],
      "source": [
        "A = array([1,2,3,4,5])\n",
        "A"
      ]
    },
    {
      "cell_type": "code",
      "execution_count": null,
      "metadata": {
        "id": "31Ew0sRCDN8k",
        "outputId": "fdedb9b3-fb34-4257-a569-60fa6aeade29",
        "colab": {
          "base_uri": "https://localhost:8080/"
        }
      },
      "outputs": [
        {
          "output_type": "execute_result",
          "data": {
            "text/plain": [
              "array([2, 3])"
            ]
          },
          "metadata": {},
          "execution_count": 57
        }
      ],
      "source": [
        "A[1:3]"
      ]
    },
    {
      "cell_type": "markdown",
      "metadata": {
        "id": "diSgwgrCDN8l"
      },
      "source": [
        "Срезы массива являются *изменяемыми (mutable)*: если им присвоено новое значение, то исходный массив, из которого был извлечен срез, изменяется:"
      ]
    },
    {
      "cell_type": "code",
      "execution_count": null,
      "metadata": {
        "id": "Y8d3hqg8DN8l",
        "outputId": "bb851856-9607-4211-d380-a4e7ef75e0c6",
        "colab": {
          "base_uri": "https://localhost:8080/"
        }
      },
      "outputs": [
        {
          "output_type": "execute_result",
          "data": {
            "text/plain": [
              "array([ 1, -2, -3,  4,  5])"
            ]
          },
          "metadata": {},
          "execution_count": 58
        }
      ],
      "source": [
        "A[1:3] = [-2,-3]\n",
        "\n",
        "A"
      ]
    },
    {
      "cell_type": "markdown",
      "metadata": {
        "id": "vWSjyx2yDN8l"
      },
      "source": [
        "Можно не указывать любой из трех параметров среза`M[нижний индекс:верхний индекс:шаг]`:"
      ]
    },
    {
      "cell_type": "code",
      "execution_count": null,
      "metadata": {
        "id": "j1VA2AGoDN8l",
        "outputId": "4b666130-eadc-47d5-8509-e612f16012c4",
        "colab": {
          "base_uri": "https://localhost:8080/"
        }
      },
      "outputs": [
        {
          "output_type": "execute_result",
          "data": {
            "text/plain": [
              "array([ 1, -2, -3,  4,  5])"
            ]
          },
          "metadata": {},
          "execution_count": 59
        }
      ],
      "source": [
        "A[::] # нижний, верхний индексы и шаг (=1) принимают значения по умолчанию"
      ]
    },
    {
      "cell_type": "code",
      "execution_count": null,
      "metadata": {
        "id": "qAEoorFPDN8l",
        "outputId": "a2bd3f9c-f94e-4fc9-80b6-1d2f80dc1ade",
        "colab": {
          "base_uri": "https://localhost:8080/"
        }
      },
      "outputs": [
        {
          "output_type": "execute_result",
          "data": {
            "text/plain": [
              "array([ 1, -3,  5])"
            ]
          },
          "metadata": {},
          "execution_count": 60
        }
      ],
      "source": [
        "A[::2] # шаг равен 2, нижний и верхний индексы принимают значения начала и конца массива"
      ]
    },
    {
      "cell_type": "code",
      "execution_count": null,
      "metadata": {
        "id": "Tn666sYaDN8m",
        "outputId": "c8fa19c6-b0e8-4b38-cbef-87b07f2a5ac4",
        "colab": {
          "base_uri": "https://localhost:8080/"
        }
      },
      "outputs": [
        {
          "output_type": "execute_result",
          "data": {
            "text/plain": [
              "array([ 1, -2, -3])"
            ]
          },
          "metadata": {},
          "execution_count": 61
        }
      ],
      "source": [
        "A[:3] # первые три элемента"
      ]
    },
    {
      "cell_type": "code",
      "execution_count": null,
      "metadata": {
        "id": "ii7ZOmnFDN8m",
        "outputId": "fba8f883-9735-4b99-a7c9-0335b24a688d",
        "colab": {
          "base_uri": "https://localhost:8080/"
        }
      },
      "outputs": [
        {
          "output_type": "execute_result",
          "data": {
            "text/plain": [
              "array([4, 5])"
            ]
          },
          "metadata": {},
          "execution_count": 62
        }
      ],
      "source": [
        "A[3:] # элементы с индекса 3"
      ]
    },
    {
      "cell_type": "markdown",
      "metadata": {
        "id": "mggDHeE1DN8m"
      },
      "source": [
        "Отрицательные индексы отсчитываются с конца массива (положительные - с начала):"
      ]
    },
    {
      "cell_type": "code",
      "execution_count": null,
      "metadata": {
        "id": "yJa1tyD4DN8m"
      },
      "outputs": [],
      "source": [
        "A = array([1,2,3,4,5])"
      ]
    },
    {
      "cell_type": "code",
      "execution_count": null,
      "metadata": {
        "id": "YPmJvWyVDN8n",
        "outputId": "ec8ba350-70b9-4514-d93b-8a0aca480d33",
        "colab": {
          "base_uri": "https://localhost:8080/"
        }
      },
      "outputs": [
        {
          "output_type": "execute_result",
          "data": {
            "text/plain": [
              "5"
            ]
          },
          "metadata": {},
          "execution_count": 64
        }
      ],
      "source": [
        "A[-1] # последний элемент массива"
      ]
    },
    {
      "cell_type": "code",
      "execution_count": null,
      "metadata": {
        "id": "NMxmUJBCDN8n",
        "outputId": "25c4eeef-95f2-41f1-c026-be7596a72d69",
        "colab": {
          "base_uri": "https://localhost:8080/"
        }
      },
      "outputs": [
        {
          "output_type": "execute_result",
          "data": {
            "text/plain": [
              "array([3, 4, 5])"
            ]
          },
          "metadata": {},
          "execution_count": 65
        }
      ],
      "source": [
        "A[-3:] # последние 3 элемента"
      ]
    },
    {
      "cell_type": "markdown",
      "metadata": {
        "id": "oOMW4oOSDN8n"
      },
      "source": [
        "Индексный срез работает точно так же для многомерных массивов:"
      ]
    },
    {
      "cell_type": "code",
      "execution_count": null,
      "metadata": {
        "id": "-yVPHgYXDN8n",
        "outputId": "4933b61c-36fe-4dd4-ff7f-2cc31745d348",
        "colab": {
          "base_uri": "https://localhost:8080/"
        }
      },
      "outputs": [
        {
          "output_type": "execute_result",
          "data": {
            "text/plain": [
              "array([[ 0,  1,  2,  3,  4],\n",
              "       [10, 11, 12, 13, 14],\n",
              "       [20, 21, 22, 23, 24],\n",
              "       [30, 31, 32, 33, 34],\n",
              "       [40, 41, 42, 43, 44]])"
            ]
          },
          "metadata": {},
          "execution_count": 66
        }
      ],
      "source": [
        "A = array([[n+m*10 for n in range(5)] for m in range(5)])\n",
        "\n",
        "A"
      ]
    },
    {
      "cell_type": "code",
      "execution_count": null,
      "metadata": {
        "id": "LWFjEhYFDN8n",
        "outputId": "850815b6-5bf9-4c0a-f637-fb2b5366083b",
        "colab": {
          "base_uri": "https://localhost:8080/"
        }
      },
      "outputs": [
        {
          "output_type": "execute_result",
          "data": {
            "text/plain": [
              "array([[11, 12, 13],\n",
              "       [21, 22, 23],\n",
              "       [31, 32, 33]])"
            ]
          },
          "metadata": {},
          "execution_count": 67
        }
      ],
      "source": [
        "# часть массива\n",
        "A[1:4, 1:4]"
      ]
    },
    {
      "cell_type": "code",
      "execution_count": null,
      "metadata": {
        "id": "-2_dNYMKDN8o",
        "outputId": "2b32a5d5-4d1a-4382-bbc1-ca3baa247e38",
        "colab": {
          "base_uri": "https://localhost:8080/"
        }
      },
      "outputs": [
        {
          "output_type": "execute_result",
          "data": {
            "text/plain": [
              "array([[ 0,  2,  4],\n",
              "       [20, 22, 24],\n",
              "       [40, 42, 44]])"
            ]
          },
          "metadata": {},
          "execution_count": 68
        }
      ],
      "source": [
        "# пошаговое извлечение\n",
        "A[::2, ::2]"
      ]
    },
    {
      "cell_type": "markdown",
      "metadata": {
        "id": "zCi3z0pkDN8o"
      },
      "source": [
        "### Задание 4\n",
        "Используя срезы извлеките нечетные элементы матрицы А. "
      ]
    },
    {
      "cell_type": "code",
      "source": [
        "A"
      ],
      "metadata": {
        "colab": {
          "base_uri": "https://localhost:8080/"
        },
        "id": "H_fszkyckeAg",
        "outputId": "28c5d39f-5400-480c-cdf2-383ec8273a63"
      },
      "execution_count": null,
      "outputs": [
        {
          "output_type": "execute_result",
          "data": {
            "text/plain": [
              "array([[ 0,  1,  2,  3,  4],\n",
              "       [10, 11, 12, 13, 14],\n",
              "       [20, 21, 22, 23, 24],\n",
              "       [30, 31, 32, 33, 34],\n",
              "       [40, 41, 42, 43, 44]])"
            ]
          },
          "metadata": {},
          "execution_count": 69
        }
      ]
    },
    {
      "cell_type": "code",
      "source": [
        "A[::2,::2]"
      ],
      "metadata": {
        "colab": {
          "base_uri": "https://localhost:8080/"
        },
        "id": "Q78F4070jPH3",
        "outputId": "bd054584-ebef-4eaa-e9c4-dd90ca8b5325"
      },
      "execution_count": null,
      "outputs": [
        {
          "output_type": "execute_result",
          "data": {
            "text/plain": [
              "array([[ 0,  2,  4],\n",
              "       [20, 22, 24],\n",
              "       [40, 42, 44]])"
            ]
          },
          "metadata": {},
          "execution_count": 70
        }
      ]
    },
    {
      "cell_type": "markdown",
      "metadata": {
        "id": "noxH447PDN8o"
      },
      "source": [
        "### Необычное индексирование"
      ]
    },
    {
      "cell_type": "markdown",
      "metadata": {
        "id": "y2rmTEVlDN8o"
      },
      "source": [
        "О необычном индексировании говорят, когда массив или список используется в качестве индекса: "
      ]
    },
    {
      "cell_type": "code",
      "execution_count": null,
      "metadata": {
        "id": "S-UlgffdDN8p",
        "outputId": "f6110735-7564-4cba-8c39-6bfad563fdaa",
        "colab": {
          "base_uri": "https://localhost:8080/"
        }
      },
      "outputs": [
        {
          "output_type": "execute_result",
          "data": {
            "text/plain": [
              "array([[10, 11, 12, 13, 14],\n",
              "       [20, 21, 22, 23, 24],\n",
              "       [30, 31, 32, 33, 34]])"
            ]
          },
          "metadata": {},
          "execution_count": 71
        }
      ],
      "source": [
        "row_indices = [1, 2, 3]\n",
        "A[row_indices]"
      ]
    },
    {
      "cell_type": "code",
      "execution_count": null,
      "metadata": {
        "id": "7uAxDR8RDN8p",
        "outputId": "8e4612ee-6450-42ff-8976-f135062533a4",
        "colab": {
          "base_uri": "https://localhost:8080/"
        }
      },
      "outputs": [
        {
          "output_type": "execute_result",
          "data": {
            "text/plain": [
              "array([[ 1,  2,  4],\n",
              "       [11, 12, 14],\n",
              "       [21, 22, 24],\n",
              "       [31, 32, 34],\n",
              "       [41, 42, 44]])"
            ]
          },
          "metadata": {},
          "execution_count": 72
        }
      ],
      "source": [
        "col_indices = [1, 2, -1] # вспомним, что -1 это последний элемент\n",
        "A[:,col_indices]"
      ]
    },
    {
      "cell_type": "markdown",
      "metadata": {
        "id": "2zw5et9bDN8p"
      },
      "source": [
        "Можно также использовать индексные маски: Если индексная маска представляет собой массив Numpy типа данных `bool`, то элемент выбирается (True) или нет (False) в зависимости от значения индексной маски в позиции каждого элемента:"
      ]
    },
    {
      "cell_type": "code",
      "execution_count": null,
      "metadata": {
        "id": "LstnaZbQDN8p",
        "outputId": "262a60fd-494d-4f4b-c4e7-1b53dba55a65",
        "colab": {
          "base_uri": "https://localhost:8080/"
        }
      },
      "outputs": [
        {
          "output_type": "execute_result",
          "data": {
            "text/plain": [
              "array([0, 1, 2, 3, 4])"
            ]
          },
          "metadata": {},
          "execution_count": 73
        }
      ],
      "source": [
        "B = array([n for n in range(5)])\n",
        "B"
      ]
    },
    {
      "cell_type": "code",
      "execution_count": null,
      "metadata": {
        "id": "6_AinuR6DN8q",
        "outputId": "bdf0bec4-1285-412f-abb0-1bf48600f6b0",
        "colab": {
          "base_uri": "https://localhost:8080/"
        }
      },
      "outputs": [
        {
          "output_type": "execute_result",
          "data": {
            "text/plain": [
              "array([0, 2])"
            ]
          },
          "metadata": {},
          "execution_count": 74
        }
      ],
      "source": [
        "row_mask = array([True, False, True, False, False])\n",
        "B[row_mask]"
      ]
    },
    {
      "cell_type": "code",
      "execution_count": null,
      "metadata": {
        "id": "ZTF6bs8vDN8q",
        "outputId": "e1e9c5ac-0848-434f-b5ce-35e8162e5f03",
        "colab": {
          "base_uri": "https://localhost:8080/"
        }
      },
      "outputs": [
        {
          "output_type": "execute_result",
          "data": {
            "text/plain": [
              "array([0, 2])"
            ]
          },
          "metadata": {},
          "execution_count": 75
        }
      ],
      "source": [
        "# тот же результат\n",
        "row_mask = array([1,0,1,0,0], dtype=bool)\n",
        "B[row_mask]"
      ]
    },
    {
      "cell_type": "markdown",
      "metadata": {
        "id": "yirg25-KDN8q"
      },
      "source": [
        "Эта функция очень полезна для условного выбора элементов из массива, используя, например, операторы сравнения:"
      ]
    },
    {
      "cell_type": "code",
      "execution_count": null,
      "metadata": {
        "id": "mO8eTPKSDN8q",
        "outputId": "5acfb129-61ec-4fb1-aa0a-15d5c0bd66aa",
        "colab": {
          "base_uri": "https://localhost:8080/"
        }
      },
      "outputs": [
        {
          "output_type": "execute_result",
          "data": {
            "text/plain": [
              "array([0. , 0.5, 1. , 1.5, 2. , 2.5, 3. , 3.5, 4. , 4.5, 5. , 5.5, 6. ,\n",
              "       6.5, 7. , 7.5, 8. , 8.5, 9. , 9.5])"
            ]
          },
          "metadata": {},
          "execution_count": 76
        }
      ],
      "source": [
        "x = arange(0, 10, 0.5)\n",
        "x"
      ]
    },
    {
      "cell_type": "code",
      "execution_count": null,
      "metadata": {
        "id": "11Ks4ddhDN8q",
        "outputId": "66b172e4-b165-4720-ae6e-0dfc4b98aa9a",
        "colab": {
          "base_uri": "https://localhost:8080/"
        }
      },
      "outputs": [
        {
          "output_type": "execute_result",
          "data": {
            "text/plain": [
              "array([False, False, False, False, False, False, False, False, False,\n",
              "       False, False,  True,  True,  True,  True, False, False, False,\n",
              "       False, False])"
            ]
          },
          "metadata": {},
          "execution_count": 77
        }
      ],
      "source": [
        "mask = (5 < x) * (x < 7.5)\n",
        "\n",
        "mask"
      ]
    },
    {
      "cell_type": "code",
      "execution_count": null,
      "metadata": {
        "id": "bGn56r8yDN8r",
        "outputId": "b9530f94-8913-4ee3-ea02-85cd308a5e3b",
        "colab": {
          "base_uri": "https://localhost:8080/"
        }
      },
      "outputs": [
        {
          "output_type": "execute_result",
          "data": {
            "text/plain": [
              "array([5.5, 6. , 6.5, 7. ])"
            ]
          },
          "metadata": {},
          "execution_count": 78
        }
      ],
      "source": [
        "x[mask]"
      ]
    },
    {
      "cell_type": "markdown",
      "metadata": {
        "id": "LF-Bhz9LDN8r"
      },
      "source": [
        "### Задание 5\n",
        "Используйте массив из задания 1 (таблицу умножения) извлеките из него при помощи маски все числа кратные 3. "
      ]
    },
    {
      "cell_type": "code",
      "source": [
        "N = 11 # элементов умножения"
      ],
      "metadata": {
        "id": "dkGfM2eroUh2"
      },
      "execution_count": null,
      "outputs": []
    },
    {
      "cell_type": "code",
      "source": [
        "multable = arange(1, N) * arange(1, N).reshape(N-1,1)\n",
        "multable"
      ],
      "metadata": {
        "colab": {
          "base_uri": "https://localhost:8080/"
        },
        "id": "1hITzzsPl4yW",
        "outputId": "85066bd4-8711-4cc9-d514-04b4873db268"
      },
      "execution_count": null,
      "outputs": [
        {
          "output_type": "execute_result",
          "data": {
            "text/plain": [
              "array([[  1,   2,   3,   4,   5,   6,   7,   8,   9,  10],\n",
              "       [  2,   4,   6,   8,  10,  12,  14,  16,  18,  20],\n",
              "       [  3,   6,   9,  12,  15,  18,  21,  24,  27,  30],\n",
              "       [  4,   8,  12,  16,  20,  24,  28,  32,  36,  40],\n",
              "       [  5,  10,  15,  20,  25,  30,  35,  40,  45,  50],\n",
              "       [  6,  12,  18,  24,  30,  36,  42,  48,  54,  60],\n",
              "       [  7,  14,  21,  28,  35,  42,  49,  56,  63,  70],\n",
              "       [  8,  16,  24,  32,  40,  48,  56,  64,  72,  80],\n",
              "       [  9,  18,  27,  36,  45,  54,  63,  72,  81,  90],\n",
              "       [ 10,  20,  30,  40,  50,  60,  70,  80,  90, 100]])"
            ]
          },
          "metadata": {},
          "execution_count": 80
        }
      ]
    },
    {
      "cell_type": "code",
      "source": [
        "mask_range = (multable % 3 == 0)"
      ],
      "metadata": {
        "id": "EREYcnGJeXqG"
      },
      "execution_count": null,
      "outputs": []
    },
    {
      "cell_type": "code",
      "source": [
        "multable[mask_range]"
      ],
      "metadata": {
        "colab": {
          "base_uri": "https://localhost:8080/"
        },
        "id": "Xsw1iMFcm7w_",
        "outputId": "248f5a59-8e2b-4d88-db57-c7e5580b0c2b"
      },
      "execution_count": null,
      "outputs": [
        {
          "output_type": "execute_result",
          "data": {
            "text/plain": [
              "array([ 3,  6,  9,  6, 12, 18,  3,  6,  9, 12, 15, 18, 21, 24, 27, 30, 12,\n",
              "       24, 36, 15, 30, 45,  6, 12, 18, 24, 30, 36, 42, 48, 54, 60, 21, 42,\n",
              "       63, 24, 48, 72,  9, 18, 27, 36, 45, 54, 63, 72, 81, 90, 30, 60, 90])"
            ]
          },
          "metadata": {},
          "execution_count": 82
        }
      ]
    },
    {
      "cell_type": "markdown",
      "metadata": {
        "id": "SPct5zP6DN8r"
      },
      "source": [
        "## Функции для извлечения данных из массивов и создания массивов"
      ]
    },
    {
      "cell_type": "markdown",
      "metadata": {
        "id": "Uggkk_0dDN8r"
      },
      "source": [
        "### Функция where"
      ]
    },
    {
      "cell_type": "markdown",
      "metadata": {
        "id": "fRvAcD9YDN8s"
      },
      "source": [
        "Индексную маску можно превратить в список индексов, используя `where`:"
      ]
    },
    {
      "cell_type": "code",
      "execution_count": null,
      "metadata": {
        "id": "yuzud07mDN8s",
        "outputId": "b5377fc1-9445-4279-d453-339b6020e938",
        "colab": {
          "base_uri": "https://localhost:8080/"
        }
      },
      "outputs": [
        {
          "output_type": "execute_result",
          "data": {
            "text/plain": [
              "(array([11, 12, 13, 14]),)"
            ]
          },
          "metadata": {},
          "execution_count": 83
        }
      ],
      "source": [
        "indices = where(mask)\n",
        "\n",
        "indices"
      ]
    },
    {
      "cell_type": "code",
      "execution_count": null,
      "metadata": {
        "id": "DEMASQTyDN8s",
        "outputId": "b00e7cd7-bcbe-4a70-e454-0f6f58638958",
        "colab": {
          "base_uri": "https://localhost:8080/"
        }
      },
      "outputs": [
        {
          "output_type": "execute_result",
          "data": {
            "text/plain": [
              "array([5.5, 6. , 6.5, 7. ])"
            ]
          },
          "metadata": {},
          "execution_count": 84
        }
      ],
      "source": [
        "x[indices] # действие этого списка эквивалентно маске, т.е. x[mask]"
      ]
    },
    {
      "cell_type": "markdown",
      "metadata": {
        "id": "8d4nVUuGDN8t"
      },
      "source": [
        "### Функция diag"
      ]
    },
    {
      "cell_type": "markdown",
      "metadata": {
        "id": "fY_zY_IoDN8t"
      },
      "source": [
        "При помощи функции diag можно извлекать диагональные элементы с главной и смещенных диагоналей:"
      ]
    },
    {
      "cell_type": "code",
      "execution_count": null,
      "metadata": {
        "id": "fFNq4C2EDN8t",
        "outputId": "8f0991e6-ba30-4d6e-8c0a-f39cb95b8128",
        "colab": {
          "base_uri": "https://localhost:8080/"
        }
      },
      "outputs": [
        {
          "output_type": "execute_result",
          "data": {
            "text/plain": [
              "array([ 0, 11, 22, 33, 44])"
            ]
          },
          "metadata": {},
          "execution_count": 85
        }
      ],
      "source": [
        "diag(A)"
      ]
    },
    {
      "cell_type": "code",
      "execution_count": null,
      "metadata": {
        "id": "NDuRTz8nDN8u",
        "outputId": "1f4c0e7a-d088-4456-b587-1a798a30d7cf",
        "colab": {
          "base_uri": "https://localhost:8080/"
        }
      },
      "outputs": [
        {
          "output_type": "execute_result",
          "data": {
            "text/plain": [
              "array([10, 21, 32, 43])"
            ]
          },
          "metadata": {},
          "execution_count": 86
        }
      ],
      "source": [
        "diag(A, -1)"
      ]
    },
    {
      "cell_type": "markdown",
      "metadata": {
        "id": "DxwUtI9dDN8u"
      },
      "source": [
        "### Функция take"
      ]
    },
    {
      "cell_type": "markdown",
      "metadata": {
        "id": "3mEGtHgqDN8v"
      },
      "source": [
        "Функция `take` подобна описанной выше необычной индексации:"
      ]
    },
    {
      "cell_type": "code",
      "execution_count": null,
      "metadata": {
        "id": "mCS6iw7hDN8v",
        "outputId": "4d42eecf-9e98-457c-8e94-524a566ca22b",
        "colab": {
          "base_uri": "https://localhost:8080/"
        }
      },
      "outputs": [
        {
          "output_type": "execute_result",
          "data": {
            "text/plain": [
              "array([-3, -2, -1,  0,  1,  2])"
            ]
          },
          "metadata": {},
          "execution_count": 87
        }
      ],
      "source": [
        "v2 = arange(-3,3)\n",
        "v2"
      ]
    },
    {
      "cell_type": "code",
      "execution_count": null,
      "metadata": {
        "id": "cSHz4B-oDN8v",
        "outputId": "500421ff-af0b-4c28-cd7e-3b9737a15f8d",
        "colab": {
          "base_uri": "https://localhost:8080/"
        }
      },
      "outputs": [
        {
          "output_type": "execute_result",
          "data": {
            "text/plain": [
              "array([-2,  0,  2])"
            ]
          },
          "metadata": {},
          "execution_count": 88
        }
      ],
      "source": [
        "row_indices = [1, 3, 5]\n",
        "v2[row_indices] # необычная индексация"
      ]
    },
    {
      "cell_type": "code",
      "execution_count": null,
      "metadata": {
        "id": "Cy67GZIFDN8w",
        "outputId": "64204621-4c1a-4c26-f65d-a6f3a9c13837",
        "colab": {
          "base_uri": "https://localhost:8080/"
        }
      },
      "outputs": [
        {
          "output_type": "execute_result",
          "data": {
            "text/plain": [
              "array([-2,  0,  2])"
            ]
          },
          "metadata": {},
          "execution_count": 89
        }
      ],
      "source": [
        "v2.take(row_indices)"
      ]
    },
    {
      "cell_type": "markdown",
      "metadata": {
        "id": "LFCiPwRJDN8w"
      },
      "source": [
        "Но функция `take` так же работает на списках и других объектах:"
      ]
    },
    {
      "cell_type": "code",
      "execution_count": null,
      "metadata": {
        "id": "ElGkhC0ZDN8w",
        "outputId": "acdfbcf7-fc22-419d-fa97-6b728f6e1b7c",
        "colab": {
          "base_uri": "https://localhost:8080/"
        }
      },
      "outputs": [
        {
          "output_type": "execute_result",
          "data": {
            "text/plain": [
              "array([-2,  0,  2])"
            ]
          },
          "metadata": {},
          "execution_count": 90
        }
      ],
      "source": [
        "take([-3, -2, -1,  0,  1,  2], row_indices)"
      ]
    },
    {
      "cell_type": "markdown",
      "metadata": {
        "id": "TAlB-tf6DN8w"
      },
      "source": [
        "### Функция choose"
      ]
    },
    {
      "cell_type": "markdown",
      "metadata": {
        "id": "EZM7UESsDN8x"
      },
      "source": [
        "Создает массив собирая элементы из нескольких массивов:"
      ]
    },
    {
      "cell_type": "code",
      "execution_count": null,
      "metadata": {
        "id": "asfZJQ1ZDN8x",
        "outputId": "c3b492c9-9707-4538-c2b2-b52b08f4ba64",
        "colab": {
          "base_uri": "https://localhost:8080/"
        }
      },
      "outputs": [
        {
          "output_type": "execute_result",
          "data": {
            "text/plain": [
              "array([ 6, -3,  8, -5])"
            ]
          },
          "metadata": {},
          "execution_count": 91
        }
      ],
      "source": [
        "which = [1, 0, 1, 0]\n",
        "choices = [[-2,-3,-4,-5], [6,7,8,9]]\n",
        "\n",
        "choose(which, choices)"
      ]
    },
    {
      "cell_type": "markdown",
      "metadata": {
        "id": "XIzTqRDiDN8x"
      },
      "source": [
        "### Задание 7\n",
        "Разбить массив таблицы умножения из задания 1 на два массива содержащие четные и нечетные значения, а затем собрать его в исходное состояние используя choose()"
      ]
    },
    {
      "cell_type": "code",
      "source": [
        "multable = arange(1, N) * arange(1, N).reshape(N-1,1)\n",
        "multable"
      ],
      "metadata": {
        "colab": {
          "base_uri": "https://localhost:8080/"
        },
        "id": "YA0ucmWGou8n",
        "outputId": "f97b124a-fa20-4e49-c9cd-1a40f6b02253"
      },
      "execution_count": null,
      "outputs": [
        {
          "output_type": "execute_result",
          "data": {
            "text/plain": [
              "array([[  1,   2,   3,   4,   5,   6,   7,   8,   9,  10],\n",
              "       [  2,   4,   6,   8,  10,  12,  14,  16,  18,  20],\n",
              "       [  3,   6,   9,  12,  15,  18,  21,  24,  27,  30],\n",
              "       [  4,   8,  12,  16,  20,  24,  28,  32,  36,  40],\n",
              "       [  5,  10,  15,  20,  25,  30,  35,  40,  45,  50],\n",
              "       [  6,  12,  18,  24,  30,  36,  42,  48,  54,  60],\n",
              "       [  7,  14,  21,  28,  35,  42,  49,  56,  63,  70],\n",
              "       [  8,  16,  24,  32,  40,  48,  56,  64,  72,  80],\n",
              "       [  9,  18,  27,  36,  45,  54,  63,  72,  81,  90],\n",
              "       [ 10,  20,  30,  40,  50,  60,  70,  80,  90, 100]])"
            ]
          },
          "metadata": {},
          "execution_count": 92
        }
      ]
    },
    {
      "cell_type": "code",
      "source": [
        "odd_multable = multable[multable[:,:]%2==1]\n",
        "odd_multable"
      ],
      "metadata": {
        "colab": {
          "base_uri": "https://localhost:8080/"
        },
        "id": "Z-TqvtXOoxff",
        "outputId": "48fe169c-8f33-40e0-d5cd-346e2822f16e"
      },
      "execution_count": null,
      "outputs": [
        {
          "output_type": "execute_result",
          "data": {
            "text/plain": [
              "array([ 1,  3,  5,  7,  9,  3,  9, 15, 21, 27,  5, 15, 25, 35, 45,  7, 21,\n",
              "       35, 49, 63,  9, 27, 45, 63, 81])"
            ]
          },
          "metadata": {},
          "execution_count": 93
        }
      ]
    },
    {
      "cell_type": "code",
      "source": [
        "even_multable = multable[multable[:,:]%2==0]\n",
        "even_multable"
      ],
      "metadata": {
        "colab": {
          "base_uri": "https://localhost:8080/"
        },
        "id": "ycAS46pgqYe3",
        "outputId": "7aad285b-3aa4-4f87-de1f-19f72116f080"
      },
      "execution_count": null,
      "outputs": [
        {
          "output_type": "execute_result",
          "data": {
            "text/plain": [
              "array([  2,   4,   6,   8,  10,   2,   4,   6,   8,  10,  12,  14,  16,\n",
              "        18,  20,   6,  12,  18,  24,  30,   4,   8,  12,  16,  20,  24,\n",
              "        28,  32,  36,  40,  10,  20,  30,  40,  50,   6,  12,  18,  24,\n",
              "        30,  36,  42,  48,  54,  60,  14,  28,  42,  56,  70,   8,  16,\n",
              "        24,  32,  40,  48,  56,  64,  72,  80,  18,  36,  54,  72,  90,\n",
              "        10,  20,  30,  40,  50,  60,  70,  80,  90, 100])"
            ]
          },
          "metadata": {},
          "execution_count": 94
        }
      ]
    },
    {
      "cell_type": "code",
      "source": [
        "# for i in range(len(multable)//2):\n",
        "  # for j in range(5):\n",
        "    # all_multable.append(odd_multable[j])\n",
        "    # all_multable.append(even_multable[j])\n",
        "    # all_multable.append(odd_multable[j+1:j+5])\n",
        "# all_multable"
      ],
      "metadata": {
        "colab": {
          "base_uri": "https://localhost:8080/",
          "height": 235
        },
        "id": "VO2YTlPBqDtd",
        "outputId": "ce14c4bb-295c-4d32-e4aa-3c07bd177a64"
      },
      "execution_count": null,
      "outputs": [
        {
          "output_type": "error",
          "ename": "NameError",
          "evalue": "ignored",
          "traceback": [
            "\u001b[0;31m---------------------------------------------------------------------------\u001b[0m",
            "\u001b[0;31mNameError\u001b[0m                                 Traceback (most recent call last)",
            "\u001b[0;32m<ipython-input-95-a02b83682451>\u001b[0m in \u001b[0;36m<module>\u001b[0;34m\u001b[0m\n\u001b[1;32m      1\u001b[0m \u001b[0;32mfor\u001b[0m \u001b[0mi\u001b[0m \u001b[0;32min\u001b[0m \u001b[0mrange\u001b[0m\u001b[0;34m(\u001b[0m\u001b[0mlen\u001b[0m\u001b[0;34m(\u001b[0m\u001b[0mmultable\u001b[0m\u001b[0;34m)\u001b[0m\u001b[0;34m//\u001b[0m\u001b[0;36m2\u001b[0m\u001b[0;34m)\u001b[0m\u001b[0;34m:\u001b[0m\u001b[0;34m\u001b[0m\u001b[0;34m\u001b[0m\u001b[0m\n\u001b[1;32m      2\u001b[0m   \u001b[0;32mfor\u001b[0m \u001b[0mj\u001b[0m \u001b[0;32min\u001b[0m \u001b[0mrange\u001b[0m\u001b[0;34m(\u001b[0m\u001b[0;36m5\u001b[0m\u001b[0;34m)\u001b[0m\u001b[0;34m:\u001b[0m\u001b[0;34m\u001b[0m\u001b[0;34m\u001b[0m\u001b[0m\n\u001b[0;32m----> 3\u001b[0;31m     \u001b[0mall_multable\u001b[0m\u001b[0;34m.\u001b[0m\u001b[0mappend\u001b[0m\u001b[0;34m(\u001b[0m\u001b[0modd_multable\u001b[0m\u001b[0;34m[\u001b[0m\u001b[0mj\u001b[0m\u001b[0;34m]\u001b[0m\u001b[0;34m)\u001b[0m\u001b[0;34m\u001b[0m\u001b[0;34m\u001b[0m\u001b[0m\n\u001b[0m\u001b[1;32m      4\u001b[0m     \u001b[0mall_multable\u001b[0m\u001b[0;34m.\u001b[0m\u001b[0mappend\u001b[0m\u001b[0;34m(\u001b[0m\u001b[0meven_multable\u001b[0m\u001b[0;34m[\u001b[0m\u001b[0mj\u001b[0m\u001b[0;34m]\u001b[0m\u001b[0;34m)\u001b[0m\u001b[0;34m\u001b[0m\u001b[0;34m\u001b[0m\u001b[0m\n\u001b[1;32m      5\u001b[0m     \u001b[0mall_multable\u001b[0m\u001b[0;34m.\u001b[0m\u001b[0mappend\u001b[0m\u001b[0;34m(\u001b[0m\u001b[0modd_multable\u001b[0m\u001b[0;34m[\u001b[0m\u001b[0mj\u001b[0m\u001b[0;34m+\u001b[0m\u001b[0;36m1\u001b[0m\u001b[0;34m:\u001b[0m\u001b[0mj\u001b[0m\u001b[0;34m+\u001b[0m\u001b[0;36m5\u001b[0m\u001b[0;34m]\u001b[0m\u001b[0;34m)\u001b[0m\u001b[0;34m\u001b[0m\u001b[0;34m\u001b[0m\u001b[0m\n",
            "\u001b[0;31mNameError\u001b[0m: name 'all_multable' is not defined"
          ]
        }
      ]
    },
    {
      "cell_type": "code",
      "source": [
        "choice = [0, 0, 0, 0, 0, 1, 1, 1, 1, 1, 1, 1, 1, 1, 1]\n",
        "all_multable = [odd_multable[:15], even_multable[:15]]\n",
        "\n",
        "choose(choice, all_multable)"
      ],
      "metadata": {
        "colab": {
          "base_uri": "https://localhost:8080/"
        },
        "id": "s_HCiFI-rO9O",
        "outputId": "d5e6d694-0fc4-4d18-bc31-8787c945bf95"
      },
      "execution_count": null,
      "outputs": [
        {
          "output_type": "execute_result",
          "data": {
            "text/plain": [
              "array([ 1,  3,  5,  7,  9,  2,  4,  6,  8, 10, 12, 14, 16, 18, 20])"
            ]
          },
          "metadata": {},
          "execution_count": 97
        }
      ]
    },
    {
      "cell_type": "markdown",
      "metadata": {
        "id": "BmBYvkabDN8x"
      },
      "source": [
        "## Линейная алгебра"
      ]
    },
    {
      "cell_type": "markdown",
      "metadata": {
        "id": "SIiNZIdzDN8x"
      },
      "source": [
        "Векторизация кода-это ключ к написанию эффективных численных вычислений с помощью Python / Numpy. Это означает, что максимально возможная часть программы должна быть сформулирована в терминах матричных и векторных операций, таких как матричного умножения."
      ]
    },
    {
      "cell_type": "markdown",
      "metadata": {
        "id": "nfyES3Z1DN8y"
      },
      "source": [
        "### Операции между числами и векторами"
      ]
    },
    {
      "cell_type": "markdown",
      "metadata": {
        "id": "f-zJYNuwDN8y"
      },
      "source": [
        "Мы можем использовать обычные арифметические операторы для умножения, сложения, вычитания и деления массивов со скалярами или обычными числами."
      ]
    },
    {
      "cell_type": "code",
      "execution_count": null,
      "metadata": {
        "id": "f4UZ5XyBDN8y"
      },
      "outputs": [],
      "source": [
        "v1 = arange(0, 5)"
      ]
    },
    {
      "cell_type": "code",
      "execution_count": null,
      "metadata": {
        "id": "jzUEFobBDN8y",
        "outputId": "2e904627-4f16-45e4-9bd9-20c78db63676",
        "colab": {
          "base_uri": "https://localhost:8080/"
        }
      },
      "outputs": [
        {
          "output_type": "execute_result",
          "data": {
            "text/plain": [
              "array([0, 2, 4, 6, 8])"
            ]
          },
          "metadata": {},
          "execution_count": 99
        }
      ],
      "source": [
        "v1 * 2"
      ]
    },
    {
      "cell_type": "code",
      "execution_count": null,
      "metadata": {
        "id": "QmsfWGcNDN8y",
        "outputId": "fad61737-5f75-452a-c307-e4afd9b3b9e1",
        "colab": {
          "base_uri": "https://localhost:8080/"
        }
      },
      "outputs": [
        {
          "output_type": "execute_result",
          "data": {
            "text/plain": [
              "array([2, 3, 4, 5, 6])"
            ]
          },
          "metadata": {},
          "execution_count": 100
        }
      ],
      "source": [
        "v1 + 2"
      ]
    },
    {
      "cell_type": "code",
      "execution_count": null,
      "metadata": {
        "id": "2MyqU3tNDN8z",
        "outputId": "a1bd523f-ad31-4396-d714-667af8ab5c01",
        "colab": {
          "base_uri": "https://localhost:8080/"
        }
      },
      "outputs": [
        {
          "output_type": "execute_result",
          "data": {
            "text/plain": [
              "(array([[ 0,  2,  4,  6,  8],\n",
              "        [20, 22, 24, 26, 28],\n",
              "        [40, 42, 44, 46, 48],\n",
              "        [60, 62, 64, 66, 68],\n",
              "        [80, 82, 84, 86, 88]]), array([[ 2,  3,  4,  5,  6],\n",
              "        [12, 13, 14, 15, 16],\n",
              "        [22, 23, 24, 25, 26],\n",
              "        [32, 33, 34, 35, 36],\n",
              "        [42, 43, 44, 45, 46]]))"
            ]
          },
          "metadata": {},
          "execution_count": 101
        }
      ],
      "source": [
        "A * 2, A + 2"
      ]
    },
    {
      "cell_type": "markdown",
      "metadata": {
        "id": "d-2mwAqXDN8z"
      },
      "source": [
        "### Поэлементные операции между массивами"
      ]
    },
    {
      "cell_type": "markdown",
      "metadata": {
        "id": "LDqOoyiRDN8z"
      },
      "source": [
        "Когда мы складываем, вычитаем, умножаем и делим массивы друг с другом, поведение по умолчанию-это операции **по элементам**, т.е. между элементами с совпадающими индексами:"
      ]
    },
    {
      "cell_type": "code",
      "execution_count": null,
      "metadata": {
        "id": "Es5uAXIXDN80",
        "outputId": "3ff5da05-41ef-46c4-e0ac-26b25ad51c19",
        "colab": {
          "base_uri": "https://localhost:8080/"
        }
      },
      "outputs": [
        {
          "output_type": "execute_result",
          "data": {
            "text/plain": [
              "array([[   0,    1,    4,    9,   16],\n",
              "       [ 100,  121,  144,  169,  196],\n",
              "       [ 400,  441,  484,  529,  576],\n",
              "       [ 900,  961, 1024, 1089, 1156],\n",
              "       [1600, 1681, 1764, 1849, 1936]])"
            ]
          },
          "metadata": {},
          "execution_count": 102
        }
      ],
      "source": [
        "A * A # поэлементное умножение"
      ]
    },
    {
      "cell_type": "code",
      "execution_count": null,
      "metadata": {
        "id": "4fXdcwGCDN80",
        "outputId": "11df70d6-a7b2-4e5f-a822-2a39b72a2b94",
        "colab": {
          "base_uri": "https://localhost:8080/"
        }
      },
      "outputs": [
        {
          "output_type": "execute_result",
          "data": {
            "text/plain": [
              "array([ 0,  1,  4,  9, 16])"
            ]
          },
          "metadata": {},
          "execution_count": 103
        }
      ],
      "source": [
        "v1 * v1"
      ]
    },
    {
      "cell_type": "markdown",
      "metadata": {
        "id": "8AsD1dhVDN81"
      },
      "source": [
        "Если мы умножим массивы с совместимыми размерами, то получим элементарное умножение каждой строки:"
      ]
    },
    {
      "cell_type": "code",
      "execution_count": null,
      "metadata": {
        "id": "NVzGoX-gDN81",
        "outputId": "3af71591-f3fb-4ded-c6a7-aa18eb606b88",
        "colab": {
          "base_uri": "https://localhost:8080/"
        }
      },
      "outputs": [
        {
          "output_type": "execute_result",
          "data": {
            "text/plain": [
              "((5, 5), (5,))"
            ]
          },
          "metadata": {},
          "execution_count": 104
        }
      ],
      "source": [
        "A.shape, v1.shape"
      ]
    },
    {
      "cell_type": "code",
      "execution_count": null,
      "metadata": {
        "id": "H-h2nxUIDN81",
        "outputId": "5d8f079c-ce9f-484c-fe79-d84531bde807",
        "colab": {
          "base_uri": "https://localhost:8080/"
        }
      },
      "outputs": [
        {
          "output_type": "execute_result",
          "data": {
            "text/plain": [
              "array([[  0,   1,   4,   9,  16],\n",
              "       [  0,  11,  24,  39,  56],\n",
              "       [  0,  21,  44,  69,  96],\n",
              "       [  0,  31,  64,  99, 136],\n",
              "       [  0,  41,  84, 129, 176]])"
            ]
          },
          "metadata": {},
          "execution_count": 105
        }
      ],
      "source": [
        "A * v1"
      ]
    },
    {
      "cell_type": "markdown",
      "metadata": {
        "id": "Vu1DthibDN81"
      },
      "source": [
        "### Алгебра матриц"
      ]
    },
    {
      "cell_type": "markdown",
      "metadata": {
        "id": "z0NB6EfBDN82"
      },
      "source": [
        "А как насчет умножения матриц? Есть два пути. Мы можем либо использовать функцию `dot`, которая применяет умножение матрица-матрица, матрица-вектор или скалярное векторное к своим двум аргументам:"
      ]
    },
    {
      "cell_type": "code",
      "execution_count": null,
      "metadata": {
        "id": "Frrb8M9bDN82",
        "outputId": "1d5b07e2-85ba-4819-93bf-32caa74edf61",
        "colab": {
          "base_uri": "https://localhost:8080/"
        }
      },
      "outputs": [
        {
          "output_type": "execute_result",
          "data": {
            "text/plain": [
              "array([[ 300,  310,  320,  330,  340],\n",
              "       [1300, 1360, 1420, 1480, 1540],\n",
              "       [2300, 2410, 2520, 2630, 2740],\n",
              "       [3300, 3460, 3620, 3780, 3940],\n",
              "       [4300, 4510, 4720, 4930, 5140]])"
            ]
          },
          "metadata": {},
          "execution_count": 106
        }
      ],
      "source": [
        "dot(A, A)"
      ]
    },
    {
      "cell_type": "code",
      "execution_count": null,
      "metadata": {
        "id": "raTmfjorDN82",
        "outputId": "333f713d-8c0f-41c4-834b-c03fc2feffb2",
        "colab": {
          "base_uri": "https://localhost:8080/"
        }
      },
      "outputs": [
        {
          "output_type": "execute_result",
          "data": {
            "text/plain": [
              "array([ 30, 130, 230, 330, 430])"
            ]
          },
          "metadata": {},
          "execution_count": 107
        }
      ],
      "source": [
        "dot(A, v1)"
      ]
    },
    {
      "cell_type": "code",
      "execution_count": null,
      "metadata": {
        "id": "AS0eCTxZDN82",
        "outputId": "5537509a-2b44-4741-9890-1bfcf6dfd2c1",
        "colab": {
          "base_uri": "https://localhost:8080/"
        }
      },
      "outputs": [
        {
          "output_type": "execute_result",
          "data": {
            "text/plain": [
              "30"
            ]
          },
          "metadata": {},
          "execution_count": 108
        }
      ],
      "source": [
        "dot(v1, v1)"
      ]
    },
    {
      "cell_type": "markdown",
      "metadata": {
        "id": "ABjDzSDUDN82"
      },
      "source": [
        "В качестве альтернативы мы можем привести объекты типа массива к типу `matrix`. Это изменяет поведение стандартных арифметических операторов `+, -, *` для использования алгебры матриц."
      ]
    },
    {
      "cell_type": "code",
      "execution_count": null,
      "metadata": {
        "id": "mvA50mpZDN83"
      },
      "outputs": [],
      "source": [
        "M = matrix(A)\n",
        "v = matrix(v1).T # транспонирует массив в вектор столбец"
      ]
    },
    {
      "cell_type": "code",
      "execution_count": null,
      "metadata": {
        "id": "XcgIzY6QDN83",
        "outputId": "27274c98-6511-4282-ec2c-bd6770bea6eb",
        "colab": {
          "base_uri": "https://localhost:8080/"
        }
      },
      "outputs": [
        {
          "output_type": "execute_result",
          "data": {
            "text/plain": [
              "matrix([[0],\n",
              "        [1],\n",
              "        [2],\n",
              "        [3],\n",
              "        [4]])"
            ]
          },
          "metadata": {},
          "execution_count": 110
        }
      ],
      "source": [
        "v"
      ]
    },
    {
      "cell_type": "code",
      "execution_count": null,
      "metadata": {
        "id": "kTSheGsrDN83",
        "outputId": "766f5027-11ef-448f-cf16-84b7dcbc9337",
        "colab": {
          "base_uri": "https://localhost:8080/"
        }
      },
      "outputs": [
        {
          "output_type": "execute_result",
          "data": {
            "text/plain": [
              "matrix([[ 300,  310,  320,  330,  340],\n",
              "        [1300, 1360, 1420, 1480, 1540],\n",
              "        [2300, 2410, 2520, 2630, 2740],\n",
              "        [3300, 3460, 3620, 3780, 3940],\n",
              "        [4300, 4510, 4720, 4930, 5140]])"
            ]
          },
          "metadata": {},
          "execution_count": 111
        }
      ],
      "source": [
        "M * M"
      ]
    },
    {
      "cell_type": "code",
      "execution_count": null,
      "metadata": {
        "id": "PzybSkdkDN83",
        "outputId": "29160b78-43e7-4b78-88f6-904af9e2d843",
        "colab": {
          "base_uri": "https://localhost:8080/"
        }
      },
      "outputs": [
        {
          "output_type": "execute_result",
          "data": {
            "text/plain": [
              "matrix([[ 30],\n",
              "        [130],\n",
              "        [230],\n",
              "        [330],\n",
              "        [430]])"
            ]
          },
          "metadata": {},
          "execution_count": 112
        }
      ],
      "source": [
        "M * v"
      ]
    },
    {
      "cell_type": "code",
      "execution_count": null,
      "metadata": {
        "id": "GIfZsglfDN83",
        "outputId": "7b48eab3-aaee-4f81-e40a-bf1d85df7009",
        "colab": {
          "base_uri": "https://localhost:8080/"
        }
      },
      "outputs": [
        {
          "output_type": "execute_result",
          "data": {
            "text/plain": [
              "matrix([[30]])"
            ]
          },
          "metadata": {},
          "execution_count": 113
        }
      ],
      "source": [
        "# скалярное произведение\n",
        "v.T * v"
      ]
    },
    {
      "cell_type": "code",
      "execution_count": null,
      "metadata": {
        "id": "-WFwjtsWDN84",
        "outputId": "dd66358e-27c1-4723-cda0-d42a5f4ffd76",
        "colab": {
          "base_uri": "https://localhost:8080/"
        }
      },
      "outputs": [
        {
          "output_type": "execute_result",
          "data": {
            "text/plain": [
              "matrix([[ 30],\n",
              "        [131],\n",
              "        [232],\n",
              "        [333],\n",
              "        [434]])"
            ]
          },
          "metadata": {},
          "execution_count": 114
        }
      ],
      "source": [
        "# с объектами типа matrix работают все операции\n",
        "v + M*v"
      ]
    },
    {
      "cell_type": "markdown",
      "metadata": {
        "id": "GsR-iJSIDN84"
      },
      "source": [
        "Если использовать операции `+, -, *` с несовместимыми объектами будет выброс исключения или ошибки"
      ]
    },
    {
      "cell_type": "code",
      "execution_count": null,
      "metadata": {
        "id": "Nkk7kleBDN84"
      },
      "outputs": [],
      "source": [
        "v = matrix([1,2,3,4,5]).T"
      ]
    },
    {
      "cell_type": "code",
      "execution_count": null,
      "metadata": {
        "id": "qhV5SXv8DN84",
        "outputId": "ec36a5b1-29a3-4f9d-dc5d-aa9cc4fd3d3a",
        "colab": {
          "base_uri": "https://localhost:8080/"
        }
      },
      "outputs": [
        {
          "output_type": "execute_result",
          "data": {
            "text/plain": [
              "((5, 5), (5, 1))"
            ]
          },
          "metadata": {},
          "execution_count": 116
        }
      ],
      "source": [
        "shape(M), shape(v)"
      ]
    },
    {
      "cell_type": "code",
      "execution_count": null,
      "metadata": {
        "id": "68NTyuBgDN85",
        "outputId": "170f3e53-8bd9-455a-d006-ca21dac7f427",
        "colab": {
          "base_uri": "https://localhost:8080/"
        }
      },
      "outputs": [
        {
          "output_type": "execute_result",
          "data": {
            "text/plain": [
              "matrix([[ 40],\n",
              "        [190],\n",
              "        [340],\n",
              "        [490],\n",
              "        [640]])"
            ]
          },
          "metadata": {},
          "execution_count": 117
        }
      ],
      "source": [
        "M * v"
      ]
    },
    {
      "cell_type": "markdown",
      "metadata": {
        "id": "mq5cWY1gDN85"
      },
      "source": [
        "Посмотрите также другие подобные функции: `inner`, `outer`, `cross`, `kron`, `tensordot`. Попробуйте набрать `help(kron)`."
      ]
    },
    {
      "cell_type": "markdown",
      "metadata": {
        "id": "6VDe4oESDN85"
      },
      "source": [
        "### Преобразования массив/матрица"
      ]
    },
    {
      "cell_type": "markdown",
      "metadata": {
        "id": "ados6m64DN85"
      },
      "source": [
        "Выше мы уже использовали `.T` для транспонирования матричного объекта `v`. Мы также могли бы использовать функцию `transpose` для выполнения того же самого.\n",
        "\n",
        "Другими математическими функциями, преобразующими матричные объекты, являются:"
      ]
    },
    {
      "cell_type": "code",
      "execution_count": null,
      "metadata": {
        "id": "EZHW6gU8DN85",
        "outputId": "93663b9a-1679-4212-84c1-4095c8fac97c",
        "colab": {
          "base_uri": "https://localhost:8080/"
        }
      },
      "outputs": [
        {
          "output_type": "execute_result",
          "data": {
            "text/plain": [
              "matrix([[0.+1.j, 0.+2.j],\n",
              "        [0.+3.j, 0.+4.j]])"
            ]
          },
          "metadata": {},
          "execution_count": 118
        }
      ],
      "source": [
        "C = matrix([[1j, 2j], [3j, 4j]])\n",
        "C"
      ]
    },
    {
      "cell_type": "code",
      "execution_count": null,
      "metadata": {
        "id": "VowqiiBYDN86",
        "outputId": "ad9d446e-3a9a-4736-ab35-37263e262e4c",
        "colab": {
          "base_uri": "https://localhost:8080/"
        }
      },
      "outputs": [
        {
          "output_type": "execute_result",
          "data": {
            "text/plain": [
              "matrix([[0.-1.j, 0.-2.j],\n",
              "        [0.-3.j, 0.-4.j]])"
            ]
          },
          "metadata": {},
          "execution_count": 119
        }
      ],
      "source": [
        "conjugate(C)"
      ]
    },
    {
      "cell_type": "markdown",
      "metadata": {
        "id": "oQywwP34DN86"
      },
      "source": [
        "Эрмитово сопряжение: `transpose + conjugate`"
      ]
    },
    {
      "cell_type": "code",
      "execution_count": null,
      "metadata": {
        "id": "KJlSicrZDN86",
        "outputId": "3355daf3-fa5c-43f3-937e-38e6d18a3e55",
        "colab": {
          "base_uri": "https://localhost:8080/"
        }
      },
      "outputs": [
        {
          "output_type": "execute_result",
          "data": {
            "text/plain": [
              "matrix([[0.-1.j, 0.-3.j],\n",
              "        [0.-2.j, 0.-4.j]])"
            ]
          },
          "metadata": {},
          "execution_count": 120
        }
      ],
      "source": [
        "C.H"
      ]
    },
    {
      "cell_type": "markdown",
      "metadata": {
        "id": "IrkISQIFDN86"
      },
      "source": [
        "Можно извлекать действительную и мнимую часть комплексного объекта, используя `real` и `imag`:"
      ]
    },
    {
      "cell_type": "code",
      "execution_count": null,
      "metadata": {
        "id": "AF3YzhkkDN86",
        "outputId": "bd4c23c1-2d50-4c50-e46b-f3b059fad4b9",
        "colab": {
          "base_uri": "https://localhost:8080/"
        }
      },
      "outputs": [
        {
          "output_type": "execute_result",
          "data": {
            "text/plain": [
              "matrix([[0., 0.],\n",
              "        [0., 0.]])"
            ]
          },
          "metadata": {},
          "execution_count": 121
        }
      ],
      "source": [
        "real(C) # то же, что и: C.real"
      ]
    },
    {
      "cell_type": "code",
      "execution_count": null,
      "metadata": {
        "id": "EDGL7drqDN87",
        "outputId": "1b9cf607-9cb5-464c-ef56-a20ff27d962e",
        "colab": {
          "base_uri": "https://localhost:8080/"
        }
      },
      "outputs": [
        {
          "output_type": "execute_result",
          "data": {
            "text/plain": [
              "matrix([[1., 2.],\n",
              "        [3., 4.]])"
            ]
          },
          "metadata": {},
          "execution_count": 122
        }
      ],
      "source": [
        "imag(C) # то же, что и: C.imag"
      ]
    },
    {
      "cell_type": "markdown",
      "metadata": {
        "id": "vc7aVCZRDN87"
      },
      "source": [
        "Или комплексный аргумент(угол) и модуль"
      ]
    },
    {
      "cell_type": "code",
      "execution_count": null,
      "metadata": {
        "id": "oNqK5NVGDN87",
        "outputId": "8fadd509-8d5a-465e-9421-f6bc5207e1d1",
        "colab": {
          "base_uri": "https://localhost:8080/"
        }
      },
      "outputs": [
        {
          "output_type": "execute_result",
          "data": {
            "text/plain": [
              "matrix([[0.78539816, 1.10714872],\n",
              "        [1.24904577, 1.32581766]])"
            ]
          },
          "metadata": {},
          "execution_count": 123
        }
      ],
      "source": [
        "angle(C+1) # для пользователей MATLAB, angle используется вместо arg"
      ]
    },
    {
      "cell_type": "code",
      "execution_count": null,
      "metadata": {
        "id": "K4V5MBH2DN87",
        "outputId": "64c50292-a8d0-4550-bf55-8f4f1958c3b7",
        "colab": {
          "base_uri": "https://localhost:8080/"
        }
      },
      "outputs": [
        {
          "output_type": "execute_result",
          "data": {
            "text/plain": [
              "matrix([[1., 2.],\n",
              "        [3., 4.]])"
            ]
          },
          "metadata": {},
          "execution_count": 124
        }
      ],
      "source": [
        "abs(C)"
      ]
    },
    {
      "cell_type": "markdown",
      "metadata": {
        "id": "yPttlj1sDN87"
      },
      "source": [
        "### Задание 8\n",
        "Даны вектора v1(0,1,2,3,4) v2(5,6,7,8,9) найти угол между ними, учитывая что косинус угла между векторами можно найти как отношения их скалярного произведения к их длинам."
      ]
    },
    {
      "cell_type": "code",
      "source": [
        "v1 = arange(0,5)\n",
        "v2 = arange(5,10)\n",
        "v1, v2"
      ],
      "metadata": {
        "colab": {
          "base_uri": "https://localhost:8080/"
        },
        "id": "Vp0suxSsX8SG",
        "outputId": "f3da342f-2cbd-4b8e-b11b-c716362b7ccc"
      },
      "execution_count": null,
      "outputs": [
        {
          "output_type": "execute_result",
          "data": {
            "text/plain": [
              "(array([0, 1, 2, 3, 4]), array([5, 6, 7, 8, 9]))"
            ]
          },
          "metadata": {},
          "execution_count": 125
        }
      ]
    },
    {
      "cell_type": "code",
      "source": [
        "dot(v1, v2)/(linalg.norm(v1) * linalg.norm(v2))"
      ],
      "metadata": {
        "colab": {
          "base_uri": "https://localhost:8080/"
        },
        "id": "cmcp7aizfuUA",
        "outputId": "39a17a25-9865-4355-a7d8-1ca9fc5602c4"
      },
      "execution_count": null,
      "outputs": [
        {
          "output_type": "execute_result",
          "data": {
            "text/plain": [
              "0.9146591207600472"
            ]
          },
          "metadata": {},
          "execution_count": 126
        }
      ]
    },
    {
      "cell_type": "code",
      "source": [
        "arccos((dot(v1,v2)/(linalg.norm(v1)*linalg.norm(v2))))"
      ],
      "metadata": {
        "colab": {
          "base_uri": "https://localhost:8080/"
        },
        "id": "egI_T5guaE5X",
        "outputId": "2e1bbe82-3d32-4d95-9961-7bea15ca3751"
      },
      "execution_count": null,
      "outputs": [
        {
          "output_type": "execute_result",
          "data": {
            "text/plain": [
              "0.41613250096978566"
            ]
          },
          "metadata": {},
          "execution_count": 127
        }
      ]
    },
    {
      "cell_type": "code",
      "source": [
        "arccos((dot(v1,v2)/(linalg.norm(v1)*linalg.norm(v2)))) * 360/2/pi"
      ],
      "metadata": {
        "colab": {
          "base_uri": "https://localhost:8080/"
        },
        "id": "QuNCc8U9gvr_",
        "outputId": "6bbf4f76-08fa-47ec-cc49-cbe382a55de5"
      },
      "execution_count": null,
      "outputs": [
        {
          "output_type": "execute_result",
          "data": {
            "text/plain": [
              "23.842636023792352"
            ]
          },
          "metadata": {},
          "execution_count": 128
        }
      ]
    },
    {
      "cell_type": "markdown",
      "metadata": {
        "id": "qtH8Z6hzDN88"
      },
      "source": [
        "### Вычисления над матрицами"
      ]
    },
    {
      "cell_type": "markdown",
      "metadata": {
        "id": "5PrMdsEHDN88"
      },
      "source": [
        "#### Функция Inv - инверсия"
      ]
    },
    {
      "cell_type": "code",
      "execution_count": null,
      "metadata": {
        "id": "YpPF2XMNDN88",
        "outputId": "6c19c258-ca82-48f5-8f24-d5467ab86300",
        "colab": {
          "base_uri": "https://localhost:8080/"
        }
      },
      "outputs": [
        {
          "output_type": "execute_result",
          "data": {
            "text/plain": [
              "matrix([[0.+2.j , 0.-1.j ],\n",
              "        [0.-1.5j, 0.+0.5j]])"
            ]
          },
          "metadata": {},
          "execution_count": 129
        }
      ],
      "source": [
        "linalg.inv(C) # эквивалентно C.I "
      ]
    },
    {
      "cell_type": "code",
      "execution_count": null,
      "metadata": {
        "id": "LGg8U_0JDN88",
        "outputId": "1c42eecf-6bed-4acd-f2c7-4db45ba999f8",
        "colab": {
          "base_uri": "https://localhost:8080/"
        }
      },
      "outputs": [
        {
          "output_type": "execute_result",
          "data": {
            "text/plain": [
              "matrix([[1.00000000e+00+0.j, 0.00000000e+00+0.j],\n",
              "        [1.11022302e-16+0.j, 1.00000000e+00+0.j]])"
            ]
          },
          "metadata": {},
          "execution_count": 130
        }
      ],
      "source": [
        "C.I * C"
      ]
    },
    {
      "cell_type": "markdown",
      "metadata": {
        "id": "vxikqfwUDN88"
      },
      "source": [
        "#### Функция det - детерминант"
      ]
    },
    {
      "cell_type": "code",
      "execution_count": null,
      "metadata": {
        "id": "UgjoeIA4DN89",
        "outputId": "f26f5bf6-fb5b-45ad-fb3d-ca36c13b54ed",
        "colab": {
          "base_uri": "https://localhost:8080/"
        }
      },
      "outputs": [
        {
          "output_type": "execute_result",
          "data": {
            "text/plain": [
              "(2.0000000000000004+0j)"
            ]
          },
          "metadata": {},
          "execution_count": 131
        }
      ],
      "source": [
        "linalg.det(C)"
      ]
    },
    {
      "cell_type": "code",
      "execution_count": null,
      "metadata": {
        "id": "rfZwziW2DN89",
        "outputId": "ffde5e44-221d-480a-8369-5f3b89116c6b",
        "colab": {
          "base_uri": "https://localhost:8080/"
        }
      },
      "outputs": [
        {
          "output_type": "execute_result",
          "data": {
            "text/plain": [
              "(0.49999999999999967+0j)"
            ]
          },
          "metadata": {},
          "execution_count": 132
        }
      ],
      "source": [
        "linalg.det(C.I)"
      ]
    },
    {
      "cell_type": "markdown",
      "metadata": {
        "id": "JEASa2_bDN89"
      },
      "source": [
        "### Задача 9\n",
        "Создайте две матрицы размером (5,5). Одна матрица содержит 5 в шахматном порядке как в задаче домашнего задания, другая имеет треугольную форму содержающую 5 на основной диагонали и в позициях выше ее, а ниже все 0. Посчитайте их детерминант и найдите обратные матрицы. Если для матрицы не у дается найти обратную, видимо этому мешает нулевое значение детерминанта."
      ]
    },
    {
      "cell_type": "code",
      "source": [
        "import copy"
      ],
      "metadata": {
        "id": "v4HUbNlmmTgS"
      },
      "execution_count": null,
      "outputs": []
    },
    {
      "cell_type": "code",
      "source": [
        "matrix_9 = full(25,5).reshape(5,5)"
      ],
      "metadata": {
        "id": "QcGtT_GsiGFQ"
      },
      "execution_count": null,
      "outputs": []
    },
    {
      "cell_type": "code",
      "source": [
        "matrix_9_1 = copy.deepcopy(matrix_9) \n",
        "matrix_9_1[::2,::2]=0\n",
        "matrix_9_1[1::2,1::2]=0\n",
        "\n",
        "matrix_9_1"
      ],
      "metadata": {
        "colab": {
          "base_uri": "https://localhost:8080/"
        },
        "id": "2hLHda6yihfy",
        "outputId": "2842fee6-8198-4bc6-febd-1934e7c913c0"
      },
      "execution_count": null,
      "outputs": [
        {
          "output_type": "execute_result",
          "data": {
            "text/plain": [
              "array([[0, 5, 0, 5, 0],\n",
              "       [5, 0, 5, 0, 5],\n",
              "       [0, 5, 0, 5, 0],\n",
              "       [5, 0, 5, 0, 5],\n",
              "       [0, 5, 0, 5, 0]])"
            ]
          },
          "metadata": {},
          "execution_count": 135
        }
      ]
    },
    {
      "cell_type": "code",
      "source": [
        "matrix_9_2 = triu(matrix_9,0)\n",
        "matrix_9_2 "
      ],
      "metadata": {
        "colab": {
          "base_uri": "https://localhost:8080/"
        },
        "id": "xZpFpxzTjyjg",
        "outputId": "7a2165b8-a621-4527-bd26-24c214e069dc"
      },
      "execution_count": null,
      "outputs": [
        {
          "output_type": "execute_result",
          "data": {
            "text/plain": [
              "array([[5, 5, 5, 5, 5],\n",
              "       [0, 5, 5, 5, 5],\n",
              "       [0, 0, 5, 5, 5],\n",
              "       [0, 0, 0, 5, 5],\n",
              "       [0, 0, 0, 0, 5]])"
            ]
          },
          "metadata": {},
          "execution_count": 136
        }
      ]
    },
    {
      "cell_type": "code",
      "source": [
        "linalg.det(matrix_9_1),linalg.det(matrix_9_2)"
      ],
      "metadata": {
        "colab": {
          "base_uri": "https://localhost:8080/"
        },
        "id": "xLSHQ7Vnm9n6",
        "outputId": "65046e7c-70ac-4f84-ff29-a6d980ff65c7"
      },
      "execution_count": null,
      "outputs": [
        {
          "output_type": "execute_result",
          "data": {
            "text/plain": [
              "(0.0, 3124.999999999999)"
            ]
          },
          "metadata": {},
          "execution_count": 137
        }
      ]
    },
    {
      "cell_type": "code",
      "source": [
        "linalg.inv(matrix_9_2)"
      ],
      "metadata": {
        "colab": {
          "base_uri": "https://localhost:8080/"
        },
        "id": "-klm0jaMnVlO",
        "outputId": "20a64694-2915-4cf3-d5cd-93c28ef104c7"
      },
      "execution_count": null,
      "outputs": [
        {
          "output_type": "execute_result",
          "data": {
            "text/plain": [
              "array([[ 0.2, -0.2,  0. ,  0. ,  0. ],\n",
              "       [ 0. ,  0.2, -0.2,  0. ,  0. ],\n",
              "       [ 0. ,  0. ,  0.2, -0.2,  0. ],\n",
              "       [ 0. ,  0. ,  0. ,  0.2, -0.2],\n",
              "       [ 0. ,  0. ,  0. ,  0. ,  0.2]])"
            ]
          },
          "metadata": {},
          "execution_count": 138
        }
      ]
    },
    {
      "cell_type": "markdown",
      "metadata": {
        "id": "-bTvDhwiDN89"
      },
      "source": [
        "### Обработка данных"
      ]
    },
    {
      "cell_type": "markdown",
      "metadata": {
        "id": "nc8yEuygDN8-"
      },
      "source": [
        "Часто бывает полезно хранить наборы данных в массивах Numpy. Numpy предоставляет ряд функций для вычисления статистики наборов данных в массивах.\n",
        "\n",
        "Например, давайте рассчитаем некоторые свойства из набора данных температуры Стокгольма, использованного выше."
      ]
    },
    {
      "cell_type": "code",
      "execution_count": null,
      "metadata": {
        "id": "eQI7GXbPDN8_",
        "outputId": "10504dad-d52c-47f6-b4c9-816ed83affd0",
        "colab": {
          "base_uri": "https://localhost:8080/"
        }
      },
      "outputs": [
        {
          "output_type": "execute_result",
          "data": {
            "text/plain": [
              "(77431, 7)"
            ]
          },
          "metadata": {},
          "execution_count": 139
        }
      ],
      "source": [
        "# напоминаем в переменной data храняться данные температуры в Стокгольме\n",
        "data.shape"
      ]
    },
    {
      "cell_type": "markdown",
      "metadata": {
        "id": "PxNpRawGDN9A"
      },
      "source": [
        "#### Функция mean"
      ]
    },
    {
      "cell_type": "code",
      "execution_count": null,
      "metadata": {
        "id": "402d-cUrDN9A",
        "outputId": "2874153a-03d6-438c-8268-fe31da8dd5a3",
        "colab": {
          "base_uri": "https://localhost:8080/"
        }
      },
      "outputs": [
        {
          "output_type": "execute_result",
          "data": {
            "text/plain": [
              "6.197109684751585"
            ]
          },
          "metadata": {},
          "execution_count": 140
        }
      ],
      "source": [
        "# the temperature data is in column 3\n",
        "mean(data[:,3])"
      ]
    },
    {
      "cell_type": "markdown",
      "metadata": {
        "id": "HQx1NR26DN9A"
      },
      "source": [
        "Средняя дневная температура в Стокгольме за последние 200 лет 6.2 C."
      ]
    },
    {
      "cell_type": "markdown",
      "metadata": {
        "id": "8bVdSYUrDN9B"
      },
      "source": [
        "#### Функции стандартного отклонения и дисперсии"
      ]
    },
    {
      "cell_type": "code",
      "execution_count": null,
      "metadata": {
        "id": "Ky3na7d2DN9B",
        "outputId": "62204ebf-8c15-4e25-ef85-2263ce95db3b",
        "colab": {
          "base_uri": "https://localhost:8080/"
        }
      },
      "outputs": [
        {
          "output_type": "execute_result",
          "data": {
            "text/plain": [
              "(8.282271621340573, 68.59602320966341)"
            ]
          },
          "metadata": {},
          "execution_count": 141
        }
      ],
      "source": [
        "std(data[:,3]), var(data[:,3])"
      ]
    },
    {
      "cell_type": "code",
      "execution_count": null,
      "metadata": {
        "id": "YCkzVjaGDN9B"
      },
      "outputs": [],
      "source": []
    },
    {
      "cell_type": "markdown",
      "metadata": {
        "id": "576V7P4eDN9B"
      },
      "source": [
        "#### Функции min и max"
      ]
    },
    {
      "cell_type": "code",
      "execution_count": null,
      "metadata": {
        "id": "CH7Z2zokDN9C",
        "outputId": "57e60ecd-a5d8-44c1-92fa-e974aa08ea16",
        "colab": {
          "base_uri": "https://localhost:8080/"
        }
      },
      "outputs": [
        {
          "output_type": "execute_result",
          "data": {
            "text/plain": [
              "-25.8"
            ]
          },
          "metadata": {},
          "execution_count": 142
        }
      ],
      "source": [
        "# минимальная температура\n",
        "data[:,3].min()"
      ]
    },
    {
      "cell_type": "code",
      "execution_count": null,
      "metadata": {
        "id": "3XIxTjjCDN9C",
        "outputId": "af3dafd8-1a9b-4492-b87c-db0e2703436e",
        "colab": {
          "base_uri": "https://localhost:8080/"
        }
      },
      "outputs": [
        {
          "output_type": "execute_result",
          "data": {
            "text/plain": [
              "28.3"
            ]
          },
          "metadata": {},
          "execution_count": 143
        }
      ],
      "source": [
        "# максимальная температура\n",
        "data[:,3].max()"
      ]
    },
    {
      "cell_type": "markdown",
      "metadata": {
        "id": "WJJdcNZtDN9C"
      },
      "source": [
        "#### Функции sum, prod и trace"
      ]
    },
    {
      "cell_type": "code",
      "execution_count": null,
      "metadata": {
        "id": "CK5QZ-BnDN9C",
        "outputId": "f9516b54-254c-4ab8-b05b-1dfbf3a57220",
        "colab": {
          "base_uri": "https://localhost:8080/"
        }
      },
      "outputs": [
        {
          "output_type": "execute_result",
          "data": {
            "text/plain": [
              "array([0, 1, 2, 3, 4, 5, 6, 7, 8, 9])"
            ]
          },
          "metadata": {},
          "execution_count": 144
        }
      ],
      "source": [
        "d = arange(0, 10)\n",
        "d"
      ]
    },
    {
      "cell_type": "code",
      "execution_count": null,
      "metadata": {
        "id": "udlrw6bSDN9D",
        "outputId": "49ed53fb-a27e-4037-a132-655a1bec8f9b",
        "colab": {
          "base_uri": "https://localhost:8080/"
        }
      },
      "outputs": [
        {
          "output_type": "execute_result",
          "data": {
            "text/plain": [
              "45"
            ]
          },
          "metadata": {},
          "execution_count": 145
        }
      ],
      "source": [
        "# сумма всех элементов\n",
        "sum(d)"
      ]
    },
    {
      "cell_type": "code",
      "execution_count": null,
      "metadata": {
        "id": "PctlGJ1lDN9D",
        "outputId": "c447bc78-05a3-41f1-be09-0a16dbf0a2d7",
        "colab": {
          "base_uri": "https://localhost:8080/"
        }
      },
      "outputs": [
        {
          "output_type": "execute_result",
          "data": {
            "text/plain": [
              "3628800"
            ]
          },
          "metadata": {},
          "execution_count": 146
        }
      ],
      "source": [
        "# произведение всех элементов\n",
        "prod(d+1)"
      ]
    },
    {
      "cell_type": "code",
      "execution_count": null,
      "metadata": {
        "id": "TZ4bcYSPDN9D",
        "outputId": "e82a76f8-9a17-4c96-baa2-9ddb945dbd96",
        "colab": {
          "base_uri": "https://localhost:8080/"
        }
      },
      "outputs": [
        {
          "output_type": "execute_result",
          "data": {
            "text/plain": [
              "array([ 0,  1,  3,  6, 10, 15, 21, 28, 36, 45])"
            ]
          },
          "metadata": {},
          "execution_count": 147
        }
      ],
      "source": [
        "# совокупная сумма\n",
        "cumsum(d)"
      ]
    },
    {
      "cell_type": "code",
      "execution_count": null,
      "metadata": {
        "id": "_Iu4knKzDN9D",
        "outputId": "cf6aa4b4-9320-4b2b-8860-2e727a34de35",
        "colab": {
          "base_uri": "https://localhost:8080/"
        }
      },
      "outputs": [
        {
          "output_type": "execute_result",
          "data": {
            "text/plain": [
              "array([      1,       2,       6,      24,     120,     720,    5040,\n",
              "         40320,  362880, 3628800])"
            ]
          },
          "metadata": {},
          "execution_count": 148
        }
      ],
      "source": [
        "# совокупное произведение\n",
        "cumprod(d+1)"
      ]
    },
    {
      "cell_type": "code",
      "execution_count": null,
      "metadata": {
        "id": "uwm-3ii6DN9D",
        "outputId": "6ee565e2-7e9b-4854-b249-17da6911e49f",
        "colab": {
          "base_uri": "https://localhost:8080/"
        }
      },
      "outputs": [
        {
          "output_type": "execute_result",
          "data": {
            "text/plain": [
              "110"
            ]
          },
          "metadata": {},
          "execution_count": 149
        }
      ],
      "source": [
        "# тоже что и: diag(A).sum()\n",
        "trace(A)"
      ]
    },
    {
      "cell_type": "markdown",
      "metadata": {
        "id": "wOCDP_YPDN9E"
      },
      "source": [
        "### Вычисления на подмножествах массива"
      ]
    },
    {
      "cell_type": "markdown",
      "metadata": {
        "id": "WhlD54LoDN9E"
      },
      "source": [
        "Можно выполнять вычисления на подмножествах используя индексирование, необычное индексирование и другие методы извлечения данных из массива.\n",
        "\n",
        "Рассмотрим данные массива температур в Стокгольме:"
      ]
    },
    {
      "cell_type": "markdown",
      "metadata": {
        "id": "DofIzK3iDN9E"
      },
      "source": [
        "Формат данных: год, месяц, день, дневная средняя температура, самая низкая, самая высокая, местность.\n",
        "\n",
        "Если необходимо извлечь среднюю температуру в какой-то конкретный месяц, например февраль, тогда нужно создать маску индексов и использовать ее для извлечения данных только за этот месяц:"
      ]
    },
    {
      "cell_type": "code",
      "execution_count": null,
      "metadata": {
        "id": "xgze7IgSDN9E",
        "outputId": "80bc05fe-4f78-4aa2-bbb4-62ec0dd2b4a2",
        "colab": {
          "base_uri": "https://localhost:8080/"
        }
      },
      "outputs": [
        {
          "output_type": "execute_result",
          "data": {
            "text/plain": [
              "array([ 1.,  2.,  3.,  4.,  5.,  6.,  7.,  8.,  9., 10., 11., 12.])"
            ]
          },
          "metadata": {},
          "execution_count": 150
        }
      ],
      "source": [
        "unique(data[:,1]) # столбик месяцев от 1 до 12"
      ]
    },
    {
      "cell_type": "code",
      "execution_count": null,
      "metadata": {
        "id": "j_gvLbfQDN9E"
      },
      "outputs": [],
      "source": [
        "mask_feb = data[:,1] == 2"
      ]
    },
    {
      "cell_type": "code",
      "execution_count": null,
      "metadata": {
        "id": "S3I7dLhDDN9E",
        "outputId": "cc550400-d393-4429-a587-d085dd69fc1d",
        "colab": {
          "base_uri": "https://localhost:8080/"
        }
      },
      "outputs": [
        {
          "output_type": "execute_result",
          "data": {
            "text/plain": [
              "-3.212109570736596"
            ]
          },
          "metadata": {},
          "execution_count": 152
        }
      ],
      "source": [
        "# температурные данные в столбике 3\n",
        "mean(data[mask_feb,3])"
      ]
    },
    {
      "cell_type": "markdown",
      "metadata": {
        "id": "9etsJsckDN9F"
      },
      "source": [
        "С этими интструментами открываются широкие возможности для обработки данных. Например, чтобы извлечь среднюю температуру за месяц по всем месяцам достаточно несколько строк кода:"
      ]
    },
    {
      "cell_type": "code",
      "execution_count": null,
      "metadata": {
        "id": "EhjC4RyyDN9F",
        "outputId": "6cab1235-9697-4ec6-ee8e-0c71bd40a1c1",
        "colab": {
          "base_uri": "https://localhost:8080/",
          "height": 279
        }
      },
      "outputs": [
        {
          "output_type": "display_data",
          "data": {
            "text/plain": [
              "<Figure size 432x288 with 1 Axes>"
            ],
            "image/png": "[encoded data removed]"
          },
          "metadata": {
            "needs_background": "light"
          }
        }
      ],
      "source": [
        "months = arange(1,13)\n",
        "monthly_mean = [mean(data[data[:,1] == month, 3]) for month in months]\n",
        "\n",
        "fig, ax = plt.subplots()\n",
        "ax.bar(months, monthly_mean)\n",
        "ax.set_xlabel(\"Month\")\n",
        "ax.set_ylabel(\"Monthly avg. temp.\");"
      ]
    },
    {
      "cell_type": "markdown",
      "metadata": {
        "id": "OcytYgAlDN9F"
      },
      "source": [
        "### Вычисления с данными высокой размерности"
      ]
    },
    {
      "cell_type": "markdown",
      "metadata": {
        "id": "OcNZmMlQDN9F"
      },
      "source": [
        "Когда функции, такие как `min`, `max` и т. д. применяются к многомерным массивам, иногда полезно применять расчет ко всему массиву, а иногда только на основе строки или столбца. Используя аргумент `axis`, мы можем указать, как должны вести себя эти функции:"
      ]
    },
    {
      "cell_type": "code",
      "execution_count": null,
      "metadata": {
        "id": "jZhqbeC9DN9G",
        "outputId": "02db157a-9939-4852-ab77-bb7621202b4e",
        "colab": {
          "base_uri": "https://localhost:8080/"
        }
      },
      "outputs": [
        {
          "output_type": "execute_result",
          "data": {
            "text/plain": [
              "array([[0.38814408, 0.20469009, 0.52123804],\n",
              "       [0.63832775, 0.44911502, 0.2058818 ],\n",
              "       [0.63929475, 0.57923859, 0.64982996]])"
            ]
          },
          "metadata": {},
          "execution_count": 154
        }
      ],
      "source": [
        "m = random.rand(3,3)\n",
        "m"
      ]
    },
    {
      "cell_type": "code",
      "execution_count": null,
      "metadata": {
        "id": "pr-19rFKDN9G",
        "outputId": "7606a4ab-c49f-473e-fa8e-f2237290843b",
        "colab": {
          "base_uri": "https://localhost:8080/"
        }
      },
      "outputs": [
        {
          "output_type": "execute_result",
          "data": {
            "text/plain": [
              "0.6498299601398116"
            ]
          },
          "metadata": {},
          "execution_count": 155
        }
      ],
      "source": [
        "# максимум по массиву\n",
        "m.max()"
      ]
    },
    {
      "cell_type": "code",
      "execution_count": null,
      "metadata": {
        "id": "grxODO2zDN9G",
        "outputId": "27d4e605-5773-4d90-dafe-a349685241c9",
        "colab": {
          "base_uri": "https://localhost:8080/"
        }
      },
      "outputs": [
        {
          "output_type": "execute_result",
          "data": {
            "text/plain": [
              "array([0.63929475, 0.57923859, 0.64982996])"
            ]
          },
          "metadata": {},
          "execution_count": 156
        }
      ],
      "source": [
        "# максимумы по каждому столбцу\n",
        "m.max(axis=0)"
      ]
    },
    {
      "cell_type": "code",
      "execution_count": null,
      "metadata": {
        "id": "PRONk5AYDN9G",
        "outputId": "c75539bd-8a7b-41be-eba8-28796a688c62",
        "colab": {
          "base_uri": "https://localhost:8080/"
        }
      },
      "outputs": [
        {
          "output_type": "execute_result",
          "data": {
            "text/plain": [
              "array([0.52123804, 0.63832775, 0.64982996])"
            ]
          },
          "metadata": {},
          "execution_count": 157
        }
      ],
      "source": [
        "# максимумы по каждой строке\n",
        "m.max(axis=1)"
      ]
    },
    {
      "cell_type": "markdown",
      "metadata": {
        "id": "kUmTyPViDN9G"
      },
      "source": [
        "Многие другие функции и методы в классах `array` и `matrix` принимают один и тот же (необязательный) аргумент ключевого слова `axis`."
      ]
    },
    {
      "cell_type": "markdown",
      "metadata": {
        "id": "-plXoPJdDN9H"
      },
      "source": [
        "## Преобразования формы, размера и соединение массивов"
      ]
    },
    {
      "cell_type": "markdown",
      "metadata": {
        "id": "bJjMm1E4DN9H"
      },
      "source": [
        "Форма массива Numpy может быть изменена без копирования базовых данных, что делает его быстрой операцией даже для больших массивов."
      ]
    },
    {
      "cell_type": "code",
      "execution_count": null,
      "metadata": {
        "id": "DIda3I2xDN9H",
        "outputId": "d679cafa-3f29-46a3-ce42-e283ad594a05",
        "colab": {
          "base_uri": "https://localhost:8080/"
        }
      },
      "outputs": [
        {
          "output_type": "execute_result",
          "data": {
            "text/plain": [
              "array([[ 0,  1,  2,  3,  4],\n",
              "       [10, 11, 12, 13, 14],\n",
              "       [20, 21, 22, 23, 24],\n",
              "       [30, 31, 32, 33, 34],\n",
              "       [40, 41, 42, 43, 44]])"
            ]
          },
          "metadata": {},
          "execution_count": 158
        }
      ],
      "source": [
        "A"
      ]
    },
    {
      "cell_type": "code",
      "execution_count": null,
      "metadata": {
        "id": "gCbJTm5GDN9H"
      },
      "outputs": [],
      "source": [
        "n, m = A.shape"
      ]
    },
    {
      "cell_type": "code",
      "execution_count": null,
      "metadata": {
        "id": "1giIZ9KXDN9H",
        "outputId": "8bc3637c-3443-4f23-a9d4-994410ce02c3",
        "colab": {
          "base_uri": "https://localhost:8080/"
        }
      },
      "outputs": [
        {
          "output_type": "execute_result",
          "data": {
            "text/plain": [
              "array([[ 0,  1,  2,  3,  4, 10, 11, 12, 13, 14, 20, 21, 22, 23, 24, 30,\n",
              "        31, 32, 33, 34, 40, 41, 42, 43, 44]])"
            ]
          },
          "metadata": {},
          "execution_count": 160
        }
      ],
      "source": [
        "B = A.reshape((1,n*m))\n",
        "B"
      ]
    },
    {
      "cell_type": "code",
      "execution_count": null,
      "metadata": {
        "id": "atx1JpMFDN9H",
        "outputId": "65c5f9e8-195a-43f8-a57c-a44d755d49db",
        "colab": {
          "base_uri": "https://localhost:8080/"
        }
      },
      "outputs": [
        {
          "output_type": "execute_result",
          "data": {
            "text/plain": [
              "array([[ 5,  5,  5,  5,  5, 10, 11, 12, 13, 14, 20, 21, 22, 23, 24, 30,\n",
              "        31, 32, 33, 34, 40, 41, 42, 43, 44]])"
            ]
          },
          "metadata": {},
          "execution_count": 161
        }
      ],
      "source": [
        "B[0,0:5] = 5 # изменим массив\n",
        "\n",
        "B"
      ]
    },
    {
      "cell_type": "code",
      "execution_count": null,
      "metadata": {
        "id": "uw6Jv50rDN9I",
        "outputId": "abb73575-aeb6-40f0-d690-d49c1ca6db43",
        "colab": {
          "base_uri": "https://localhost:8080/"
        }
      },
      "outputs": [
        {
          "output_type": "execute_result",
          "data": {
            "text/plain": [
              "array([[ 5,  5,  5,  5,  5],\n",
              "       [10, 11, 12, 13, 14],\n",
              "       [20, 21, 22, 23, 24],\n",
              "       [30, 31, 32, 33, 34],\n",
              "       [40, 41, 42, 43, 44]])"
            ]
          },
          "metadata": {},
          "execution_count": 162
        }
      ],
      "source": [
        "A # и оригинальные данные тоже изменятся. A и B это ссылки на одни и теже данные"
      ]
    },
    {
      "cell_type": "markdown",
      "metadata": {
        "id": "pIYt2cECDN9I"
      },
      "source": [
        "Мы также можем использовать функцию `flatten`, чтобы превратить массив более высоких измерений в вектор. Но эта функция создает копию данных."
      ]
    },
    {
      "cell_type": "code",
      "execution_count": null,
      "metadata": {
        "id": "Tm-YWechDN9I",
        "outputId": "3ab9ead5-e7df-4cc9-c43f-b71830cd0d0f",
        "colab": {
          "base_uri": "https://localhost:8080/"
        }
      },
      "outputs": [
        {
          "output_type": "execute_result",
          "data": {
            "text/plain": [
              "array([ 5,  5,  5,  5,  5, 10, 11, 12, 13, 14, 20, 21, 22, 23, 24, 30, 31,\n",
              "       32, 33, 34, 40, 41, 42, 43, 44])"
            ]
          },
          "metadata": {},
          "execution_count": 163
        }
      ],
      "source": [
        "B = A.flatten()\n",
        "\n",
        "B"
      ]
    },
    {
      "cell_type": "code",
      "execution_count": null,
      "metadata": {
        "id": "sEZzAOh-DN9I",
        "outputId": "8f804b0d-2323-4a00-d645-9db4310e3afd",
        "colab": {
          "base_uri": "https://localhost:8080/"
        }
      },
      "outputs": [
        {
          "output_type": "execute_result",
          "data": {
            "text/plain": [
              "array([10, 10, 10, 10, 10, 10, 11, 12, 13, 14, 20, 21, 22, 23, 24, 30, 31,\n",
              "       32, 33, 34, 40, 41, 42, 43, 44])"
            ]
          },
          "metadata": {},
          "execution_count": 164
        }
      ],
      "source": [
        "B[0:5] = 10\n",
        "\n",
        "B"
      ]
    },
    {
      "cell_type": "code",
      "execution_count": null,
      "metadata": {
        "id": "MNj-UDDGDN9I",
        "outputId": "216855c5-3206-4209-a22e-abf78ed9d9bd",
        "colab": {
          "base_uri": "https://localhost:8080/"
        }
      },
      "outputs": [
        {
          "output_type": "execute_result",
          "data": {
            "text/plain": [
              "array([[ 5,  5,  5,  5,  5],\n",
              "       [10, 11, 12, 13, 14],\n",
              "       [20, 21, 22, 23, 24],\n",
              "       [30, 31, 32, 33, 34],\n",
              "       [40, 41, 42, 43, 44]])"
            ]
          },
          "metadata": {},
          "execution_count": 165
        }
      ],
      "source": [
        "A # теперь A неизменилась, поскольку данные B это копия A, теперь B не ссылается на те же данные."
      ]
    },
    {
      "cell_type": "markdown",
      "metadata": {
        "id": "DSHrQvMXDN9I"
      },
      "source": [
        "## Дополнение новых размерностей: newaxis"
      ]
    },
    {
      "cell_type": "markdown",
      "metadata": {
        "id": "s9KkJegvDN9J"
      },
      "source": [
        "С `newaxis`, можно добавить новые размерности в массив. Например, превратить вектор в матрицу:"
      ]
    },
    {
      "cell_type": "code",
      "execution_count": null,
      "metadata": {
        "id": "4kvsEijrDN9J"
      },
      "outputs": [],
      "source": [
        "v = array([1,2,3])"
      ]
    },
    {
      "cell_type": "code",
      "execution_count": null,
      "metadata": {
        "id": "yRSGc0e6DN9J",
        "outputId": "195371a4-7ccc-4f05-8ba6-8056e1f51052",
        "colab": {
          "base_uri": "https://localhost:8080/"
        }
      },
      "outputs": [
        {
          "output_type": "execute_result",
          "data": {
            "text/plain": [
              "(3,)"
            ]
          },
          "metadata": {},
          "execution_count": 167
        }
      ],
      "source": [
        "shape(v)"
      ]
    },
    {
      "cell_type": "code",
      "execution_count": null,
      "metadata": {
        "id": "_hHgrpesDN9J",
        "outputId": "348dba32-b927-4215-cd90-05ca1cde317c",
        "colab": {
          "base_uri": "https://localhost:8080/"
        }
      },
      "outputs": [
        {
          "output_type": "execute_result",
          "data": {
            "text/plain": [
              "array([[1],\n",
              "       [2],\n",
              "       [3]])"
            ]
          },
          "metadata": {},
          "execution_count": 168
        }
      ],
      "source": [
        "# создание столбца матрицы из вектора v\n",
        "v[:, newaxis]"
      ]
    },
    {
      "cell_type": "code",
      "execution_count": null,
      "metadata": {
        "id": "RI76kt5CDN9J",
        "outputId": "d264f3e5-d995-457b-d57c-f5c80d5e9b9a",
        "colab": {
          "base_uri": "https://localhost:8080/"
        }
      },
      "outputs": [
        {
          "output_type": "execute_result",
          "data": {
            "text/plain": [
              "(3, 1)"
            ]
          },
          "metadata": {},
          "execution_count": 169
        }
      ],
      "source": [
        "# столбец матрицы\n",
        "v[:,newaxis].shape"
      ]
    },
    {
      "cell_type": "code",
      "execution_count": null,
      "metadata": {
        "id": "hO7oYby5DN9K",
        "outputId": "21091d7e-35dd-4544-f111-b7ace421ca00",
        "colab": {
          "base_uri": "https://localhost:8080/"
        }
      },
      "outputs": [
        {
          "output_type": "execute_result",
          "data": {
            "text/plain": [
              "(1, 3)"
            ]
          },
          "metadata": {},
          "execution_count": 170
        }
      ],
      "source": [
        "# строка матрицы\n",
        "v[newaxis,:].shape"
      ]
    },
    {
      "cell_type": "markdown",
      "metadata": {
        "id": "wjX_UEXNDN9K"
      },
      "source": [
        "## Соединение и повторение массивов"
      ]
    },
    {
      "cell_type": "markdown",
      "metadata": {
        "id": "fyQ6AvuvDN9K"
      },
      "source": [
        "Используя функции `repeat`, `tile`, `vstack`, `hstack` и `concatenate` мы можем создать больше векторов и матриц из более мелких:"
      ]
    },
    {
      "cell_type": "markdown",
      "metadata": {
        "id": "zmbZbfBQDN9K"
      },
      "source": [
        "### `tile` и `repeat`"
      ]
    },
    {
      "cell_type": "code",
      "execution_count": null,
      "metadata": {
        "id": "XCG81CudDN9K"
      },
      "outputs": [],
      "source": [
        "a = array([[1, 2], [3, 4]])"
      ]
    },
    {
      "cell_type": "code",
      "execution_count": null,
      "metadata": {
        "id": "bKqVcWq6DN9K",
        "outputId": "682590a1-9d47-4bbe-a1c0-cb396e3c7908",
        "colab": {
          "base_uri": "https://localhost:8080/"
        }
      },
      "outputs": [
        {
          "output_type": "execute_result",
          "data": {
            "text/plain": [
              "array([1, 1, 1, 2, 2, 2, 3, 3, 3, 4, 4, 4])"
            ]
          },
          "metadata": {},
          "execution_count": 172
        }
      ],
      "source": [
        "# повторить каждый элемент 3 раза\n",
        "repeat(a, 3)"
      ]
    },
    {
      "cell_type": "code",
      "execution_count": null,
      "metadata": {
        "id": "BSWOsbSbDN9L",
        "outputId": "bc7da3af-7bf3-41ad-8a33-f871600453bd",
        "colab": {
          "base_uri": "https://localhost:8080/"
        }
      },
      "outputs": [
        {
          "output_type": "execute_result",
          "data": {
            "text/plain": [
              "array([[1, 2, 1, 2, 1, 2],\n",
              "       [3, 4, 3, 4, 3, 4]])"
            ]
          },
          "metadata": {},
          "execution_count": 173
        }
      ],
      "source": [
        "# повторить матрицу 3 раза \n",
        "tile(a, 3)"
      ]
    },
    {
      "cell_type": "markdown",
      "metadata": {
        "id": "GJdp-VlzDN9L"
      },
      "source": [
        "### `concatenate`"
      ]
    },
    {
      "cell_type": "code",
      "execution_count": null,
      "metadata": {
        "id": "SU_KXjeZDN9L"
      },
      "outputs": [],
      "source": [
        "b = array([[5, 6]])"
      ]
    },
    {
      "cell_type": "code",
      "execution_count": null,
      "metadata": {
        "id": "PPTnb-3SDN9L",
        "outputId": "3c8feb04-e3c9-4f2b-ea66-fcd295bd9c32",
        "colab": {
          "base_uri": "https://localhost:8080/"
        }
      },
      "outputs": [
        {
          "output_type": "execute_result",
          "data": {
            "text/plain": [
              "array([[1, 2],\n",
              "       [3, 4],\n",
              "       [5, 6]])"
            ]
          },
          "metadata": {},
          "execution_count": 175
        }
      ],
      "source": [
        "concatenate((a, b), axis=0)"
      ]
    },
    {
      "cell_type": "code",
      "execution_count": null,
      "metadata": {
        "id": "SHVyZRDqDN9L",
        "outputId": "d0f54069-1ca0-49d0-9f22-e63be6f4aac8",
        "colab": {
          "base_uri": "https://localhost:8080/"
        }
      },
      "outputs": [
        {
          "output_type": "execute_result",
          "data": {
            "text/plain": [
              "array([[1, 2, 5],\n",
              "       [3, 4, 6]])"
            ]
          },
          "metadata": {},
          "execution_count": 176
        }
      ],
      "source": [
        "concatenate((a, b.T), axis=1)"
      ]
    },
    {
      "cell_type": "markdown",
      "metadata": {
        "id": "5OEmo_k2DN9L"
      },
      "source": [
        "### `hstack` и `vstack`"
      ]
    },
    {
      "cell_type": "code",
      "execution_count": null,
      "metadata": {
        "id": "P_1f3xU_DN9M",
        "outputId": "5d187567-2f40-454a-a1e8-2ab9fdcfa936",
        "colab": {
          "base_uri": "https://localhost:8080/"
        }
      },
      "outputs": [
        {
          "output_type": "execute_result",
          "data": {
            "text/plain": [
              "array([[1, 2],\n",
              "       [3, 4],\n",
              "       [5, 6]])"
            ]
          },
          "metadata": {},
          "execution_count": 177
        }
      ],
      "source": [
        "vstack((a,b))"
      ]
    },
    {
      "cell_type": "code",
      "execution_count": null,
      "metadata": {
        "id": "g7Pa5g56DN9M",
        "outputId": "d83be048-70ea-4091-aaae-43c9f7ceaa6a",
        "colab": {
          "base_uri": "https://localhost:8080/"
        }
      },
      "outputs": [
        {
          "output_type": "execute_result",
          "data": {
            "text/plain": [
              "array([[1, 2, 5],\n",
              "       [3, 4, 6]])"
            ]
          },
          "metadata": {},
          "execution_count": 178
        }
      ],
      "source": [
        "hstack((a,b.T))"
      ]
    },
    {
      "cell_type": "markdown",
      "metadata": {
        "id": "lhp3-iSKDN9M"
      },
      "source": [
        "## Копия и \"глубокая копия\""
      ]
    },
    {
      "cell_type": "markdown",
      "metadata": {
        "id": "ShZrP86ODN9M"
      },
      "source": [
        "Для достижения высокой производительности назначения в Python обычно не копируют базовые объекты. Это важно, например, когда объекты передаются между функциями, чтобы избежать чрезмерного объема копирования памяти, когда это не является необходимым (технический термин: пропуск по ссылке)."
      ]
    },
    {
      "cell_type": "code",
      "execution_count": null,
      "metadata": {
        "id": "1YtosJRGDN9M",
        "outputId": "f014b0e4-8837-44b4-80fe-3be9ba88a6e4",
        "colab": {
          "base_uri": "https://localhost:8080/"
        }
      },
      "outputs": [
        {
          "output_type": "execute_result",
          "data": {
            "text/plain": [
              "array([[1, 2],\n",
              "       [3, 4]])"
            ]
          },
          "metadata": {},
          "execution_count": 179
        }
      ],
      "source": [
        "A = array([[1, 2], [3, 4]])\n",
        "\n",
        "A"
      ]
    },
    {
      "cell_type": "code",
      "execution_count": null,
      "metadata": {
        "id": "OFhFkMX_DN9M"
      },
      "outputs": [],
      "source": [
        "# теперь В ссылается натеже данные, что и А \n",
        "B = A "
      ]
    },
    {
      "cell_type": "code",
      "execution_count": null,
      "metadata": {
        "id": "SiU5XerXDN9N",
        "outputId": "7852ffc7-2f09-438a-945f-48497e1dd164",
        "colab": {
          "base_uri": "https://localhost:8080/"
        }
      },
      "outputs": [
        {
          "output_type": "execute_result",
          "data": {
            "text/plain": [
              "array([[10,  2],\n",
              "       [ 3,  4]])"
            ]
          },
          "metadata": {},
          "execution_count": 181
        }
      ],
      "source": [
        "# изменения B отражаются в A\n",
        "B[0,0] = 10\n",
        "\n",
        "B"
      ]
    },
    {
      "cell_type": "code",
      "execution_count": null,
      "metadata": {
        "id": "60nJaOsgDN9N",
        "outputId": "c5718f90-2b72-45d8-d429-4e680b8840e1",
        "colab": {
          "base_uri": "https://localhost:8080/"
        }
      },
      "outputs": [
        {
          "output_type": "execute_result",
          "data": {
            "text/plain": [
              "array([[10,  2],\n",
              "       [ 3,  4]])"
            ]
          },
          "metadata": {},
          "execution_count": 182
        }
      ],
      "source": [
        "A"
      ]
    },
    {
      "cell_type": "markdown",
      "metadata": {
        "id": "FPzhLLXBDN9N"
      },
      "source": [
        "Если мы хотим избежать такого поведения, чтобы при получении нового полностью независимого объекта `B`, скопированного из `A`, нам нужно было сделать так называемое \"глубокое копирование\" с помощью функции `copy`:"
      ]
    },
    {
      "cell_type": "code",
      "execution_count": null,
      "metadata": {
        "id": "RxPPCZd2DN9N"
      },
      "outputs": [],
      "source": [
        "B = copy.copy(A)"
      ]
    },
    {
      "cell_type": "code",
      "execution_count": null,
      "metadata": {
        "id": "Fn5U6YxrDN9N",
        "outputId": "96f32cbf-ceae-4b28-a4e9-5c7346072969",
        "colab": {
          "base_uri": "https://localhost:8080/"
        }
      },
      "outputs": [
        {
          "output_type": "execute_result",
          "data": {
            "text/plain": [
              "array([[10,  2],\n",
              "       [ 3,  4]])"
            ]
          },
          "metadata": {},
          "execution_count": 184
        }
      ],
      "source": [
        "# теперь при изменении В, А не меняется\n",
        "\n",
        "B"
      ]
    },
    {
      "cell_type": "code",
      "execution_count": null,
      "metadata": {
        "id": "qAzKnaJbDN9O",
        "outputId": "628aa68b-fccc-4774-cfe8-dbbfa9c36b28",
        "colab": {
          "base_uri": "https://localhost:8080/"
        }
      },
      "outputs": [
        {
          "output_type": "execute_result",
          "data": {
            "text/plain": [
              "array([[10,  2],\n",
              "       [ 3,  4]])"
            ]
          },
          "metadata": {},
          "execution_count": 185
        }
      ],
      "source": [
        "A"
      ]
    },
    {
      "cell_type": "markdown",
      "metadata": {
        "id": "r_PdI-A_DN9O"
      },
      "source": [
        "## Иттерация на элементах массива"
      ]
    },
    {
      "cell_type": "markdown",
      "metadata": {
        "id": "nDWnn2x5DN9O"
      },
      "source": [
        "Как правило, мы хотим избежать повторения элементов массивов всякий раз, когда это возможно (любой ценой). Причина в том, что в интерпретируемом языке, таком как Python (или MATLAB), итерации действительно медленны по сравнению с векторизованными операциями.\n",
        "\n",
        "Однако, иногда итерации неизбежны. Для таких случаев цикл Python `for` является наиболее удобным способом перебора массива:"
      ]
    },
    {
      "cell_type": "code",
      "execution_count": null,
      "metadata": {
        "id": "kGOjLv9cDN9O",
        "outputId": "46e26666-6c42-4bdf-f45e-1d43294a84bd",
        "colab": {
          "base_uri": "https://localhost:8080/"
        }
      },
      "outputs": [
        {
          "output_type": "stream",
          "name": "stdout",
          "text": [
            "1\n",
            "2\n",
            "3\n",
            "4\n"
          ]
        }
      ],
      "source": [
        "v = array([1,2,3,4])\n",
        "\n",
        "for element in v:\n",
        "    print(element)"
      ]
    },
    {
      "cell_type": "code",
      "execution_count": null,
      "metadata": {
        "id": "ufjS85myDN9O",
        "outputId": "44fff6f6-1507-4d98-b757-350dc66ab5e6",
        "colab": {
          "base_uri": "https://localhost:8080/"
        }
      },
      "outputs": [
        {
          "output_type": "stream",
          "name": "stdout",
          "text": [
            "row [1 2]\n",
            "1\n",
            "2\n",
            "row [3 4]\n",
            "3\n",
            "4\n"
          ]
        }
      ],
      "source": [
        "M = array([[1,2], [3,4]])\n",
        "\n",
        "for row in M:\n",
        "    print(\"row\", row)\n",
        "    \n",
        "    for element in row:\n",
        "        print(element)"
      ]
    },
    {
      "cell_type": "markdown",
      "metadata": {
        "id": "nCEr-y1WDN9O"
      },
      "source": [
        "Когда нам нужно перебирать каждый элемент массива и изменять его элементы, удобно использовать функцию `enumerate` для получения как элемента, так и его индекса в цикле `for` :"
      ]
    },
    {
      "cell_type": "code",
      "execution_count": null,
      "metadata": {
        "id": "2lw0MDlbDN9P",
        "outputId": "00b5e627-7c92-4fa9-b857-a2dadea6e0a2",
        "colab": {
          "base_uri": "https://localhost:8080/"
        }
      },
      "outputs": [
        {
          "output_type": "stream",
          "name": "stdout",
          "text": [
            "row_idx 0 row [1 2]\n",
            "col_idx 0 element 1\n",
            "col_idx 1 element 2\n",
            "row_idx 1 row [3 4]\n",
            "col_idx 0 element 3\n",
            "col_idx 1 element 4\n"
          ]
        }
      ],
      "source": [
        "for row_idx, row in enumerate(M):\n",
        "    print(\"row_idx\", row_idx, \"row\", row)\n",
        "    \n",
        "    for col_idx, element in enumerate(row):\n",
        "        print(\"col_idx\", col_idx, \"element\", element)\n",
        "       \n",
        "        # обновляет матрицу M: возводя ее элементы в квадрат\n",
        "        M[row_idx, col_idx] = element ** 2"
      ]
    },
    {
      "cell_type": "code",
      "execution_count": null,
      "metadata": {
        "id": "JvFg1ZemDN9P",
        "outputId": "24357543-8db2-416b-8c7d-a660fdad9244",
        "colab": {
          "base_uri": "https://localhost:8080/"
        }
      },
      "outputs": [
        {
          "output_type": "execute_result",
          "data": {
            "text/plain": [
              "array([[ 1,  4],\n",
              "       [ 9, 16]])"
            ]
          },
          "metadata": {},
          "execution_count": 189
        }
      ],
      "source": [
        "# каждый элемент в M возведен в квадрат\n",
        "M"
      ]
    },
    {
      "cell_type": "markdown",
      "metadata": {
        "id": "Hfjd8VRCDN9P"
      },
      "source": [
        "## Векторные функции"
      ]
    },
    {
      "cell_type": "markdown",
      "metadata": {
        "id": "yB8hraVbDN9P"
      },
      "source": [
        "Как уже упоминалось несколько раз, чтобы получить хорошую производительность, мы должны стараться избегать циклического перебора элементов в наших векторах и матрицах, а вместо этого использовать векторизованные алгоритмы. Первый шаг в преобразовании скалярного алгоритма в векторизованный алгоритм заключается в том, чтобы убедиться, что функции, которые мы пишем, работают с векторными входными данными."
      ]
    },
    {
      "cell_type": "code",
      "execution_count": null,
      "metadata": {
        "id": "zxKM1-w6DN9P"
      },
      "outputs": [],
      "source": [
        "def Theta(x):\n",
        "    \"\"\"\n",
        "    Скалярная реализация функции порога Хевисайда.\n",
        "    \"\"\"\n",
        "    if x >= 0:\n",
        "        return 1\n",
        "    else:\n",
        "        return 0"
      ]
    },
    {
      "cell_type": "code",
      "execution_count": null,
      "metadata": {
        "id": "VBuFy6_9DN9Q"
      },
      "outputs": [],
      "source": [
        "# Theta(array([-3,-2,-1,0,1,2,3]))"
      ]
    },
    {
      "cell_type": "markdown",
      "metadata": {
        "id": "pSDPQoKMDN9Q"
      },
      "source": [
        "Хорошо, это не сработало, потому что мы не написали функцию `Theta`, чтобы она могла обрабатывать векторный ввод...\n",
        "\n",
        "Чтобы получить векторизованную версию теты, мы можем использовать функцию Numpy `vectorize`. Во многих случаях он может автоматически векторизовать функцию:"
      ]
    },
    {
      "cell_type": "code",
      "execution_count": null,
      "metadata": {
        "id": "PiP2LwFrDN9Q"
      },
      "outputs": [],
      "source": [
        "Theta_vec = vectorize(Theta)"
      ]
    },
    {
      "cell_type": "code",
      "execution_count": null,
      "metadata": {
        "id": "SSNDpH-WDN9Q",
        "colab": {
          "base_uri": "https://localhost:8080/"
        },
        "outputId": "2acdd30e-9ff2-4f9f-f68f-6e35c6e52d45"
      },
      "outputs": [
        {
          "output_type": "execute_result",
          "data": {
            "text/plain": [
              "array([0, 0, 0, 1, 1, 1, 1])"
            ]
          },
          "metadata": {},
          "execution_count": 194
        }
      ],
      "source": [
        "Theta_vec(array([-3,-2,-1,0,1,2,3]))"
      ]
    },
    {
      "cell_type": "markdown",
      "metadata": {
        "id": "i1oLDEzNDN9Q"
      },
      "source": [
        "Мы также можем реализовать функцию для приема векторного ввода с самого начала (требует больше усилий, но может дать лучшую производительность):"
      ]
    },
    {
      "cell_type": "code",
      "execution_count": null,
      "metadata": {
        "id": "fvbeQOOODN9Q"
      },
      "outputs": [],
      "source": [
        "def Theta(x):\n",
        "    \"\"\"\n",
        "    Vector-aware implemenation of the Heaviside step function.\n",
        "    \"\"\"\n",
        "    return 1 * (x >= 0)"
      ]
    },
    {
      "cell_type": "code",
      "execution_count": null,
      "metadata": {
        "id": "nZ_CtqTgDN9R",
        "colab": {
          "base_uri": "https://localhost:8080/"
        },
        "outputId": "9a50d5e3-5c76-4f63-cdc7-c4b4ec8b7b4f"
      },
      "outputs": [
        {
          "output_type": "execute_result",
          "data": {
            "text/plain": [
              "array([0, 0, 0, 1, 1, 1, 1])"
            ]
          },
          "metadata": {},
          "execution_count": 196
        }
      ],
      "source": [
        "Theta(array([-3,-2,-1,0,1,2,3]))"
      ]
    },
    {
      "cell_type": "code",
      "execution_count": null,
      "metadata": {
        "id": "IEfgNPv7DN9R",
        "colab": {
          "base_uri": "https://localhost:8080/"
        },
        "outputId": "63a87f98-aaeb-459f-d6e3-b9d278ff6522"
      },
      "outputs": [
        {
          "output_type": "execute_result",
          "data": {
            "text/plain": [
              "(0, 1)"
            ]
          },
          "metadata": {},
          "execution_count": 197
        }
      ],
      "source": [
        "# still works for scalars as well\n",
        "Theta(-1.2), Theta(2.6)"
      ]
    },
    {
      "cell_type": "markdown",
      "metadata": {
        "id": "bkXk9w2GDN9R"
      },
      "source": [
        "## Использование массива в условии"
      ]
    },
    {
      "cell_type": "markdown",
      "metadata": {
        "id": "6wOpdoX6DN9R"
      },
      "source": [
        "При использовании массивов в условиях, например, `if` операторы и другие логические выражения, нужно использовать `any` или `all`, что требует, чтобы любой или все элементы в массиве равнялись `True`:"
      ]
    },
    {
      "cell_type": "code",
      "execution_count": null,
      "metadata": {
        "id": "3othSqPyDN9R",
        "colab": {
          "base_uri": "https://localhost:8080/"
        },
        "outputId": "ec604f10-0e49-45a7-b4f0-c96c15531b9b"
      },
      "outputs": [
        {
          "output_type": "execute_result",
          "data": {
            "text/plain": [
              "array([[ 1,  4],\n",
              "       [ 9, 16]])"
            ]
          },
          "metadata": {},
          "execution_count": 198
        }
      ],
      "source": [
        "M"
      ]
    },
    {
      "cell_type": "code",
      "execution_count": null,
      "metadata": {
        "id": "9py94UVXDN9S",
        "colab": {
          "base_uri": "https://localhost:8080/"
        },
        "outputId": "4ac89d50-189c-465b-8c6b-0f91dd36bf2f"
      },
      "outputs": [
        {
          "output_type": "stream",
          "name": "stdout",
          "text": [
            "at least one element in M is larger than 5\n"
          ]
        }
      ],
      "source": [
        "if (M > 5).any():\n",
        "    print(\"at least one element in M is larger than 5\")\n",
        "else:\n",
        "    print(\"no element in M is larger than 5\")"
      ]
    },
    {
      "cell_type": "code",
      "execution_count": null,
      "metadata": {
        "id": "A-N90Mx3DN9S",
        "colab": {
          "base_uri": "https://localhost:8080/"
        },
        "outputId": "5cc10327-d330-43d1-feb3-a5c757254ca0"
      },
      "outputs": [
        {
          "output_type": "stream",
          "name": "stdout",
          "text": [
            "all elements in M are not larger than 5\n"
          ]
        }
      ],
      "source": [
        "if (M > 5).all():\n",
        "    print(\"all elements in M are larger than 5\")\n",
        "else:\n",
        "    print(\"all elements in M are not larger than 5\")"
      ]
    },
    {
      "cell_type": "markdown",
      "metadata": {
        "id": "FNnpZlIFDN9S"
      },
      "source": [
        "## Подбор типа"
      ]
    },
    {
      "cell_type": "markdown",
      "metadata": {
        "id": "bGpNSDnGDN9S"
      },
      "source": [
        "Поскольку массивы Numpy статически типизированы, тип массива не изменяется после его создания. Но мы можем явно привести массив некоторого типа к другому, используя функции `astype` (см. также аналогичную функцию `asarray`). Это всегда создает новый массив нового типа:"
      ]
    },
    {
      "cell_type": "code",
      "execution_count": null,
      "metadata": {
        "id": "NpOXzd1oDN9S",
        "colab": {
          "base_uri": "https://localhost:8080/"
        },
        "outputId": "b180c71b-06b7-4e7f-d6fa-4d7256ba911b"
      },
      "outputs": [
        {
          "output_type": "execute_result",
          "data": {
            "text/plain": [
              "dtype('int64')"
            ]
          },
          "metadata": {},
          "execution_count": 201
        }
      ],
      "source": [
        "M.dtype"
      ]
    },
    {
      "cell_type": "code",
      "execution_count": null,
      "metadata": {
        "id": "Zd6qZ-QgDN9T",
        "colab": {
          "base_uri": "https://localhost:8080/"
        },
        "outputId": "ec5d6d33-151b-4c5a-c300-975f114d67cd"
      },
      "outputs": [
        {
          "output_type": "execute_result",
          "data": {
            "text/plain": [
              "array([[ 1.,  4.],\n",
              "       [ 9., 16.]])"
            ]
          },
          "metadata": {},
          "execution_count": 202
        }
      ],
      "source": [
        "M2 = M.astype(float)\n",
        "\n",
        "M2"
      ]
    },
    {
      "cell_type": "code",
      "execution_count": null,
      "metadata": {
        "id": "eDf8ywDsDN9T",
        "colab": {
          "base_uri": "https://localhost:8080/"
        },
        "outputId": "124f39c5-f9a7-4b55-a306-d479d8ea80ad"
      },
      "outputs": [
        {
          "output_type": "execute_result",
          "data": {
            "text/plain": [
              "dtype('float64')"
            ]
          },
          "metadata": {},
          "execution_count": 203
        }
      ],
      "source": [
        "M2.dtype"
      ]
    },
    {
      "cell_type": "code",
      "execution_count": null,
      "metadata": {
        "id": "IUqyZaoYDN9T",
        "colab": {
          "base_uri": "https://localhost:8080/"
        },
        "outputId": "b4b279f2-688b-4de1-e741-a88546e6742e"
      },
      "outputs": [
        {
          "output_type": "execute_result",
          "data": {
            "text/plain": [
              "array([[ True,  True],\n",
              "       [ True,  True]])"
            ]
          },
          "metadata": {},
          "execution_count": 204
        }
      ],
      "source": [
        "M3 = M.astype(bool)\n",
        "\n",
        "M3"
      ]
    },
    {
      "cell_type": "markdown",
      "metadata": {
        "id": "QoSRzv7mDN9T"
      },
      "source": [
        "## Дальнейшее изучение"
      ]
    },
    {
      "cell_type": "markdown",
      "metadata": {
        "id": "QZkc--uxDN9T"
      },
      "source": [
        "* http://numpy.scipy.org\n",
        "* [Tentative NumPy Tutorial](http://scipy.org/Tentative_NumPy_Tutorial)\n",
        "* [A Numpy guide for MATLAB users](http://scipy.org/NumPy_for_Matlab_Users).\n",
        "* Этот [материал](http://github.com/jrjohansson/scientific-python-lectures) создан на основе книг [J.R. Johansson](http://jrjohansson.github.io)."
      ]
    }
  ],
  "metadata": {
    "kernelspec": {
      "display_name": "Python 3 (ipykernel)",
      "language": "python",
      "name": "python3"
    },
    "language_info": {
      "codemirror_mode": {
        "name": "ipython",
        "version": 3
      },
      "file_extension": ".py",
      "mimetype": "text/x-python",
      "name": "python",
      "nbconvert_exporter": "python",
      "pygments_lexer": "ipython3",
      "version": "3.8.0"
    },
    "nbTranslate": {
      "displayLangs": [
        "*"
      ],
      "hotkey": "alt-t",
      "langInMainMenu": true,
      "sourceLang": "en",
      "targetLang": "fr",
      "useGoogleTranslate": true
    },
    "colab": {
      "provenance": []
    }
  },
  "nbformat": 4,
  "nbformat_minor": 0
}