{
 "cells": [
  {
   "cell_type": "code",
   "execution_count": 2,
   "metadata": {},
   "outputs": [],
   "source": [
    "from scipy.special import *\n",
    "from scipy.stats import *\n",
    "import numpy as np \n",
    "import math\n",
    "import scipy as sp"
   ]
  },
  {
   "cell_type": "markdown",
   "metadata": {},
   "source": [
    "<img src=\"431.png\"/>"
   ]
  },
  {
   "cell_type": "code",
   "execution_count": 4,
   "metadata": {},
   "outputs": [],
   "source": [
    "l = 10\n",
    "r = 99\n",
    "\n",
    "sample = []\n",
    "for value in range(l, r):\n",
    "    d = 2\n",
    "    while value % d != 0:\n",
    "        d += 1\n",
    "    if d == value:\n",
    "        sample.append(value)"
   ]
  },
  {
   "cell_type": "markdown",
   "metadata": {},
   "source": [
    "### Среднее геометрическое"
   ]
  },
  {
   "cell_type": "markdown",
   "metadata": {},
   "source": [
    "$$G(x_{1},x_{2},\\ldots ,x_{n})={\\sqrt[ {n}]{x_{1}x_{2}\\cdots x_{n}}}=\\left(\\prod _{{i=1}}^{n}x_{i}\\right)^{{1/n}}$$"
   ]
  },
  {
   "cell_type": "code",
   "execution_count": 7,
   "metadata": {},
   "outputs": [
    {
     "data": {
      "text/plain": [
       "41.781014648871"
      ]
     },
     "execution_count": 7,
     "metadata": {},
     "output_type": "execute_result"
    }
   ],
   "source": [
    "mlt_sample = 1\n",
    "l = len(sample)\n",
    "for i in range(l):\n",
    "    mlt_sample *= sample[i]\n",
    "G = (mlt_sample)**(1/l)\n",
    "G"
   ]
  },
  {
   "cell_type": "markdown",
   "metadata": {},
   "source": [
    "### Среднее гармоническое"
   ]
  },
  {
   "cell_type": "markdown",
   "metadata": {},
   "source": [
    "$${\\displaystyle H(x_{1},\\ldots ,x_{n})={\\frac {n}{{\\frac {1}{x_{1}}}+{\\frac {1}{x_{2}}}+\\cdots +{\\frac {1}{x_{n}}}}}={\\frac {1}{{\\frac {1}{n}}\\sum \\limits _{i=1}^{n}{\\frac {1}{x_{i}}}}}}$$"
   ]
  },
  {
   "cell_type": "code",
   "execution_count": 8,
   "metadata": {},
   "outputs": [
    {
     "data": {
      "text/plain": [
       "33.51277429915806"
      ]
     },
     "execution_count": 8,
     "metadata": {},
     "output_type": "execute_result"
    }
   ],
   "source": [
    "har_sum = 0\n",
    "l = len(sample)\n",
    "for i in range(l):\n",
    "    har_sum += (1/sample[i])\n",
    "H = l/har_sum\n",
    "H"
   ]
  },
  {
   "cell_type": "markdown",
   "metadata": {},
   "source": [
    "### Среднее степенное (а = 3)"
   ]
  },
  {
   "cell_type": "markdown",
   "metadata": {},
   "source": [
    "$${\\displaystyle A_{d}(x_{1},\\ldots ,x_{n})={\\sqrt[{d}]{\\frac {\\sum \\limits _{i=1}^{n}x_{i}^{d}}{n}}}.}$$"
   ]
  },
  {
   "cell_type": "code",
   "execution_count": 9,
   "metadata": {},
   "outputs": [
    {
     "data": {
      "text/plain": [
       "60.697103107111786"
      ]
     },
     "execution_count": 9,
     "metadata": {},
     "output_type": "execute_result"
    }
   ],
   "source": [
    "a = 3\n",
    "power_sum = 0\n",
    "l = len(sample)\n",
    "for i in range(l):\n",
    "    power_sum += sample[i]**a\n",
    "A = (power_sum / l)**(1/3)\n",
    "A"
   ]
  }
 ],
 "metadata": {
  "kernelspec": {
   "display_name": "Python 3",
   "language": "python",
   "name": "python3"
  },
  "language_info": {
   "codemirror_mode": {
    "name": "ipython",
    "version": 3
   },
   "file_extension": ".py",
   "mimetype": "text/x-python",
   "name": "python",
   "nbconvert_exporter": "python",
   "pygments_lexer": "ipython3",
   "version": "3.8.3"
  }
 },
 "nbformat": 4,
 "nbformat_minor": 4
}
