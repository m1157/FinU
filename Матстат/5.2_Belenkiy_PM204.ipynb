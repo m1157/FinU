{
 "cells": [
  {
   "cell_type": "code",
   "execution_count": 2,
   "metadata": {},
   "outputs": [],
   "source": [
    "import numpy as np "
   ]
  },
  {
   "cell_type": "markdown",
   "metadata": {},
   "source": [
    "<img src=\"52.png\"/>"
   ]
  },
  {
   "cell_type": "code",
   "execution_count": 3,
   "metadata": {},
   "outputs": [],
   "source": [
    "teachers = 8\n",
    "k = [i for i in range(2,6)]\n",
    "X_k = [16, 16, 24, 40]"
   ]
  },
  {
   "cell_type": "markdown",
   "metadata": {},
   "source": [
    "#### Объём генеральной совокупности"
   ]
  },
  {
   "cell_type": "code",
   "execution_count": 4,
   "metadata": {},
   "outputs": [
    {
     "data": {
      "text/plain": [
       "96"
      ]
     },
     "execution_count": 4,
     "metadata": {},
     "output_type": "execute_result"
    }
   ],
   "source": [
    "N = sum(X_k)\n",
    "N"
   ]
  },
  {
   "cell_type": "code",
   "execution_count": 5,
   "metadata": {},
   "outputs": [
    {
     "name": "stdout",
     "output_type": "stream",
     "text": [
      "2   16\n",
      "3   16\n",
      "4   24\n",
      "5   40\n"
     ]
    }
   ],
   "source": [
    "distr = dict(zip(k, X_k))\n",
    "for value in distr:\n",
    "    print(value,' ',distr[value])"
   ]
  },
  {
   "cell_type": "markdown",
   "metadata": {},
   "source": [
    "#### Генеральное среднее"
   ]
  },
  {
   "cell_type": "markdown",
   "metadata": {},
   "source": [
    "<img src=\"512.gif\"/>"
   ]
  },
  {
   "cell_type": "code",
   "execution_count": 6,
   "metadata": {},
   "outputs": [
    {
     "data": {
      "text/plain": [
       "3.917"
      ]
     },
     "execution_count": 6,
     "metadata": {},
     "output_type": "execute_result"
    }
   ],
   "source": [
    "x_0 = 0\n",
    "for value in distr:\n",
    "    x_0 += (value) * distr[value]\n",
    "gen_mean = np.round(x_0 / N,3)\n",
    "gen_mean"
   ]
  },
  {
   "cell_type": "markdown",
   "metadata": {},
   "source": [
    "#### Генеральная дисперсия"
   ]
  },
  {
   "cell_type": "markdown",
   "metadata": {},
   "source": [
    "<img src=\"521.png\"/>"
   ]
  },
  {
   "cell_type": "code",
   "execution_count": 7,
   "metadata": {},
   "outputs": [
    {
     "data": {
      "text/plain": [
       "0.0914"
      ]
     },
     "execution_count": 7,
     "metadata": {},
     "output_type": "execute_result"
    }
   ],
   "source": [
    "D = 0\n",
    "for value in distr:\n",
    "    D += (value)**2 * distr[value]\n",
    "gen_var = np.round(((D/N - gen_mean**2)/(N/teachers)) * ((N - (N/teachers)) / (N - 1)),5)\n",
    "gen_var"
   ]
  },
  {
   "cell_type": "code",
   "execution_count": 19,
   "metadata": {},
   "outputs": [
    {
     "name": "stdout",
     "output_type": "stream",
     "text": [
      " E(X_mean) = 3.91806\n",
      " Var = 0.09246\n"
     ]
    }
   ],
   "source": [
    "N = 100000\n",
    "\n",
    "list_rand = []\n",
    "for i in range(N):\n",
    "    X_k = [2]*16 + [3]*16 + [4]*24 + [5]*40\n",
    "    list_rand.append(np.mean(np.random.choice(X_k, 12, replace = False)))\n",
    "\n",
    "print(f' E(X_mean) = {round(np.mean(list_rand),5)}')\n",
    "print(f' Var = {round(np.var(list_rand),5)}')"
   ]
  }
 ],
 "metadata": {
  "kernelspec": {
   "display_name": "Python 3",
   "language": "python",
   "name": "python3"
  },
  "language_info": {
   "codemirror_mode": {
    "name": "ipython",
    "version": 3
   },
   "file_extension": ".py",
   "mimetype": "text/x-python",
   "name": "python",
   "nbconvert_exporter": "python",
   "pygments_lexer": "ipython3",
   "version": "3.8.3"
  }
 },
 "nbformat": 4,
 "nbformat_minor": 5
}
