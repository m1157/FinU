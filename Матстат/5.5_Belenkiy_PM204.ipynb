{
 "cells": [
  {
   "cell_type": "code",
   "execution_count": 1,
   "metadata": {},
   "outputs": [],
   "source": [
    "import numpy as np \n",
    "from collections import Counter\n",
    "import matplotlib.pyplot as plt\n",
    "import matplotlib.patches as pat\n",
    "import random as rnd"
   ]
  },
  {
   "cell_type": "markdown",
   "metadata": {},
   "source": [
    "<img src=\"55.png\"/>"
   ]
  },
  {
   "cell_type": "code",
   "execution_count": 76,
   "metadata": {},
   "outputs": [],
   "source": [
    "elements = 8\n",
    "\n",
    "x_300 = [17, 19, 18]\n",
    "x_600 = [13, 14, 19]\n",
    "X_k = [x_300, x_600]\n",
    "X_k_names = ['x_300', 'x_600']\n",
    "X_values = [300, 600]\n",
    "\n",
    "y_3 = [17, 13]\n",
    "y_5 = [19, 14]\n",
    "y_8 = [18, 19]\n",
    "Y_k = [y_3, y_5, y_8]\n",
    "Y_k_names = ['y_3', 'y_5', 'y_8']\n",
    "Y_values = [3, 5, 8]"
   ]
  },
  {
   "cell_type": "markdown",
   "metadata": {},
   "source": [
    "#### Объём генеральной совокупности"
   ]
  },
  {
   "cell_type": "code",
   "execution_count": 52,
   "metadata": {},
   "outputs": [
    {
     "data": {
      "text/plain": [
       "(100, 100)"
      ]
     },
     "execution_count": 52,
     "metadata": {},
     "output_type": "execute_result"
    }
   ],
   "source": [
    "N_x = N_y = 17 + 19 + 18 + 13 + 14 + 19\n",
    "N_x,N_y"
   ]
  },
  {
   "cell_type": "markdown",
   "metadata": {},
   "source": [
    "#### Найдём распределение частот признака X(k)"
   ]
  },
  {
   "cell_type": "code",
   "execution_count": 152,
   "metadata": {},
   "outputs": [
    {
     "name": "stdout",
     "output_type": "stream",
     "text": [
      "x_300  -  54\n",
      "x_600  -  46\n"
     ]
    }
   ],
   "source": [
    "x_list = []\n",
    "x_empty = 0\n",
    "for i in range(2):\n",
    "    x_empty = 0\n",
    "    for j in range(3):\n",
    "        x_empty += X_k[i][j]\n",
    "    x_list.append(x_empty)\n",
    "distr_X = dict(zip(X_k_names,x_list))\n",
    "\n",
    "for value in distr_X:\n",
    "    print(value , ' - ',distr_X[value])"
   ]
  },
  {
   "cell_type": "code",
   "execution_count": 153,
   "metadata": {},
   "outputs": [
    {
     "name": "stdout",
     "output_type": "stream",
     "text": [
      "y_3  -  30\n",
      "y_5  -  33\n",
      "y_8  -  37\n"
     ]
    }
   ],
   "source": [
    "y_list = []\n",
    "y_empty = 0\n",
    "for i in range(3):\n",
    "    y_empty = 0\n",
    "    for j in range(2):\n",
    "        y_empty += Y_k[i][j]\n",
    "    y_list.append(y_empty)\n",
    "distr_Y = dict(zip(Y_k_names,y_list))\n",
    "\n",
    "for value in distr_Y:\n",
    "    print(value , ' - ',distr_Y[value])"
   ]
  },
  {
   "cell_type": "markdown",
   "metadata": {},
   "source": [
    "#### Генеральное среднее"
   ]
  },
  {
   "cell_type": "code",
   "execution_count": 154,
   "metadata": {},
   "outputs": [
    {
     "name": "stdout",
     "output_type": "stream",
     "text": [
      "54 16200\n",
      "46 43800\n"
     ]
    },
    {
     "data": {
      "text/plain": [
       "438.0"
      ]
     },
     "execution_count": 154,
     "metadata": {},
     "output_type": "execute_result"
    }
   ],
   "source": [
    "x_0 = 0\n",
    "for value in distr_X:\n",
    "    x_0 += distr_X[value] * int((str(value))[2:])\n",
    "    print(distr_X[value], x_0)\n",
    "x_0 = x_0 / N_x\n",
    "x_0"
   ]
  },
  {
   "cell_type": "code",
   "execution_count": 156,
   "metadata": {},
   "outputs": [
    {
     "name": "stdout",
     "output_type": "stream",
     "text": [
      "30 90\n",
      "33 255\n",
      "37 551\n"
     ]
    },
    {
     "data": {
      "text/plain": [
       "5.51"
      ]
     },
     "execution_count": 156,
     "metadata": {},
     "output_type": "execute_result"
    }
   ],
   "source": [
    "y_0 = 0\n",
    "for value in distr_Y:\n",
    "    y_0 += distr_Y[value] * int((str(value))[2:])\n",
    "    print(distr_Y[value], y_0)\n",
    "y_0 = y_0 / N_y\n",
    "y_0"
   ]
  },
  {
   "cell_type": "markdown",
   "metadata": {},
   "source": [
    "#### Ковариация"
   ]
  },
  {
   "cell_type": "code",
   "execution_count": 175,
   "metadata": {},
   "outputs": [
    {
     "data": {
      "text/plain": [
       "22.61999999999989"
      ]
     },
     "execution_count": 175,
     "metadata": {},
     "output_type": "execute_result"
    }
   ],
   "source": [
    "cov = 0\n",
    "itog = [0 * i for i in range(len(X_values))]\n",
    "\n",
    "for j in range(len(X_values)):    \n",
    "    for i in range(len(Y_values)):\n",
    "        itog[j] += Y_values[i] * Y_k[i][j]\n",
    "    itog[j] = itog[j] * X_values[j]/N_x  \n",
    "\n",
    "cov = itog[0]  + itog[1]  - x_0*y_0\n",
    "cov"
   ]
  }
 ],
 "metadata": {
  "kernelspec": {
   "display_name": "Python 3",
   "language": "python",
   "name": "python3"
  },
  "language_info": {
   "codemirror_mode": {
    "name": "ipython",
    "version": 3
   },
   "file_extension": ".py",
   "mimetype": "text/x-python",
   "name": "python",
   "nbconvert_exporter": "python",
   "pygments_lexer": "ipython3",
   "version": "3.8.3"
  }
 },
 "nbformat": 4,
 "nbformat_minor": 4
}
