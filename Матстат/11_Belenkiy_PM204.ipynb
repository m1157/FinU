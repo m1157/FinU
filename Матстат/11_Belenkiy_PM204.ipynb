{
 "cells": [
  {
   "cell_type": "markdown",
   "id": "12b24a85",
   "metadata": {},
   "source": [
    "<img src = '110.png'>"
   ]
  },
  {
   "cell_type": "code",
   "execution_count": 1,
   "id": "e9ef4e65",
   "metadata": {},
   "outputs": [],
   "source": [
    "import numpy as np\n",
    "import scipy.stats as stats\n",
    "import pandas as pd\n",
    "from sympy.interactive import init_printing\n",
    "init_printing(perm_cyclic=False, pretty_print=True)"
   ]
  },
  {
   "cell_type": "markdown",
   "id": "1b2551d2",
   "metadata": {},
   "source": [
    "<img src = '111.png'>"
   ]
  },
  {
   "cell_type": "code",
   "execution_count": 2,
   "id": "8c66498f",
   "metadata": {},
   "outputs": [],
   "source": [
    "alpha = 0.05\n",
    "general_var_x = 2.7**2\n",
    "general_var_y = 17.2**2\n",
    "delta = -0.01"
   ]
  },
  {
   "cell_type": "code",
   "execution_count": 3,
   "id": "8254d7c2",
   "metadata": {},
   "outputs": [],
   "source": [
    "data_11_1 = pd.read_csv(r'C:\\Users\\micha\\YandexDisk\\УЧЕБНЫЕ МАТЕРИАЛЫ\\II\\МатСтат\\Семинары\\Семинар 11\\sample_11_1_XY.csv',\n",
    "                        header=None, delimiter=';', decimal=',')"
   ]
  },
  {
   "cell_type": "code",
   "execution_count": 4,
   "id": "80163313",
   "metadata": {},
   "outputs": [
    {
     "data": {
      "text/html": [
       "<div>\n",
       "<style scoped>\n",
       "    .dataframe tbody tr th:only-of-type {\n",
       "        vertical-align: middle;\n",
       "    }\n",
       "\n",
       "    .dataframe tbody tr th {\n",
       "        vertical-align: top;\n",
       "    }\n",
       "\n",
       "    .dataframe thead th {\n",
       "        text-align: right;\n",
       "    }\n",
       "</style>\n",
       "<table border=\"1\" class=\"dataframe\">\n",
       "  <thead>\n",
       "    <tr style=\"text-align: right;\">\n",
       "      <th></th>\n",
       "      <th>0</th>\n",
       "      <th>1</th>\n",
       "    </tr>\n",
       "  </thead>\n",
       "  <tbody>\n",
       "    <tr>\n",
       "      <th>0</th>\n",
       "      <td>4.850518</td>\n",
       "      <td>-17.844697</td>\n",
       "    </tr>\n",
       "    <tr>\n",
       "      <th>1</th>\n",
       "      <td>2.973374</td>\n",
       "      <td>9.241012</td>\n",
       "    </tr>\n",
       "    <tr>\n",
       "      <th>2</th>\n",
       "      <td>1.739160</td>\n",
       "      <td>-13.196742</td>\n",
       "    </tr>\n",
       "    <tr>\n",
       "      <th>3</th>\n",
       "      <td>2.947097</td>\n",
       "      <td>10.705654</td>\n",
       "    </tr>\n",
       "    <tr>\n",
       "      <th>4</th>\n",
       "      <td>5.801976</td>\n",
       "      <td>33.152683</td>\n",
       "    </tr>\n",
       "    <tr>\n",
       "      <th>...</th>\n",
       "      <td>...</td>\n",
       "      <td>...</td>\n",
       "    </tr>\n",
       "    <tr>\n",
       "      <th>295</th>\n",
       "      <td>10.270175</td>\n",
       "      <td>NaN</td>\n",
       "    </tr>\n",
       "    <tr>\n",
       "      <th>296</th>\n",
       "      <td>6.372963</td>\n",
       "      <td>NaN</td>\n",
       "    </tr>\n",
       "    <tr>\n",
       "      <th>297</th>\n",
       "      <td>2.287030</td>\n",
       "      <td>NaN</td>\n",
       "    </tr>\n",
       "    <tr>\n",
       "      <th>298</th>\n",
       "      <td>3.688255</td>\n",
       "      <td>NaN</td>\n",
       "    </tr>\n",
       "    <tr>\n",
       "      <th>299</th>\n",
       "      <td>4.910002</td>\n",
       "      <td>NaN</td>\n",
       "    </tr>\n",
       "  </tbody>\n",
       "</table>\n",
       "<p>300 rows × 2 columns</p>\n",
       "</div>"
      ],
      "text/plain": [
       "             0          1\n",
       "0     4.850518 -17.844697\n",
       "1     2.973374   9.241012\n",
       "2     1.739160 -13.196742\n",
       "3     2.947097  10.705654\n",
       "4     5.801976  33.152683\n",
       "..         ...        ...\n",
       "295  10.270175        NaN\n",
       "296   6.372963        NaN\n",
       "297   2.287030        NaN\n",
       "298   3.688255        NaN\n",
       "299   4.910002        NaN\n",
       "\n",
       "[300 rows x 2 columns]"
      ]
     },
     "execution_count": 4,
     "metadata": {},
     "output_type": "execute_result"
    }
   ],
   "source": [
    "data_11_1"
   ]
  },
  {
   "cell_type": "code",
   "execution_count": 5,
   "id": "ac415e4b",
   "metadata": {},
   "outputs": [],
   "source": [
    "X_11_1_data = data_11_1[0].tolist()\n",
    "n_x = len(X_11_1_data)"
   ]
  },
  {
   "cell_type": "code",
   "execution_count": 6,
   "id": "e6f021d3",
   "metadata": {},
   "outputs": [],
   "source": [
    "Y_11_1 = data_11_1[1].tolist()\n",
    "Y_11_1_data = [value for value in Y_11_1 if str(value) != 'nan']\n",
    "m_y = len(Y_11_1_data)"
   ]
  },
  {
   "cell_type": "markdown",
   "id": "8a9198f6",
   "metadata": {},
   "source": [
    "<img src = '1112.png'>"
   ]
  },
  {
   "cell_type": "code",
   "execution_count": 7,
   "id": "dc637711",
   "metadata": {},
   "outputs": [],
   "source": [
    "X_mean = sum(X_11_1_data)/n_x\n",
    "Y_mean = sum(Y_11_1_data)/m_y"
   ]
  },
  {
   "cell_type": "code",
   "execution_count": 8,
   "id": "506eec72",
   "metadata": {},
   "outputs": [
    {
     "data": {
      "image/png": "[encoded data removed]",
      "text/latex": [
       "$\\displaystyle -0.7452574454846027$"
      ],
      "text/plain": [
       "-0.7452574454846027"
      ]
     },
     "execution_count": 8,
     "metadata": {},
     "output_type": "execute_result"
    }
   ],
   "source": [
    "Z = (X_mean - Y_mean)/(general_var_x/n_x + general_var_y/m_y)**(1/2)\n",
    "Z"
   ]
  },
  {
   "cell_type": "markdown",
   "id": "9a6534b0",
   "metadata": {},
   "source": [
    "<img src = '1113.png'>"
   ]
  },
  {
   "cell_type": "markdown",
   "id": "f04824da",
   "metadata": {},
   "source": [
    "## В нашем случае  $$\\large {H_{1}: \\mu_{X}<\\mu_{Y}}$$"
   ]
  },
  {
   "cell_type": "code",
   "execution_count": 9,
   "id": "d0a66331",
   "metadata": {},
   "outputs": [
    {
     "data": {
      "image/png": "[encoded data removed]",
      "text/latex": [
       "$\\displaystyle 1.6448536269514729$"
      ],
      "text/plain": [
       "1.6448536269514729"
      ]
     },
     "execution_count": 9,
     "metadata": {},
     "output_type": "execute_result"
    }
   ],
   "source": [
    "z_alpha = stats.norm.isf(alpha)\n",
    "z_alpha"
   ]
  },
  {
   "cell_type": "code",
   "execution_count": 10,
   "id": "27188522",
   "metadata": {},
   "outputs": [
    {
     "data": {
      "text/plain": [
       "True"
      ]
     },
     "execution_count": 10,
     "metadata": {},
     "output_type": "execute_result"
    }
   ],
   "source": [
    "X_mean - Y_mean > -z_alpha * (general_var_x/n_x + general_var_y/m_y)**(1/2)"
   ]
  },
  {
   "cell_type": "code",
   "execution_count": 11,
   "id": "0caae688",
   "metadata": {},
   "outputs": [
    {
     "data": {
      "image/png": "[encoded data removed]",
      "text/latex": [
       "$\\displaystyle -2.016874954783379$"
      ],
      "text/plain": [
       "-2.016874954783379"
      ]
     },
     "execution_count": 11,
     "metadata": {},
     "output_type": "execute_result"
    }
   ],
   "source": [
    "-z_alpha * (general_var_x/n_x + general_var_y/m_y)**(1/2)"
   ]
  },
  {
   "cell_type": "markdown",
   "id": "07edf73d",
   "metadata": {},
   "source": [
    "<img src = '1115.png'>"
   ]
  },
  {
   "cell_type": "markdown",
   "id": "cd75df50",
   "metadata": {},
   "source": [
    "<img src = '1114.png'>"
   ]
  },
  {
   "cell_type": "code",
   "execution_count": 12,
   "id": "f09920c7",
   "metadata": {},
   "outputs": [
    {
     "data": {
      "image/png": "[encoded data removed]",
      "text/latex": [
       "$\\displaystyle 0.2280580506353811$"
      ],
      "text/plain": [
       "0.2280580506353811"
      ]
     },
     "execution_count": 12,
     "metadata": {},
     "output_type": "execute_result"
    }
   ],
   "source": [
    "pv_z = (1 - stats.norm.cdf(abs(Z)))\n",
    "pv_z"
   ]
  },
  {
   "cell_type": "markdown",
   "id": "fcb5c515",
   "metadata": {},
   "source": [
    "<img src = '1116.png'>"
   ]
  },
  {
   "cell_type": "code",
   "execution_count": 13,
   "id": "a50c2270",
   "metadata": {},
   "outputs": [
    {
     "data": {
      "image/png": "[encoded data removed]",
      "text/latex": [
       "$\\displaystyle 0.9491532242583798$"
      ],
      "text/plain": [
       "0.9491532242583798"
      ]
     },
     "execution_count": 13,
     "metadata": {},
     "output_type": "execute_result"
    }
   ],
   "source": [
    "beta = 0.5 + stats.norm.cdf(z_alpha + delta*((n_x * m_y)**(1/2))/((m_y*general_var_x + n_x*general_var_y)**(1/2))) - 0.5\n",
    "beta"
   ]
  },
  {
   "cell_type": "markdown",
   "id": "72058bcd",
   "metadata": {},
   "source": [
    "<img src = '112.png'>"
   ]
  },
  {
   "cell_type": "code",
   "execution_count": 78,
   "id": "6c1c4f19",
   "metadata": {},
   "outputs": [],
   "source": [
    "alpha = 0.04"
   ]
  },
  {
   "cell_type": "code",
   "execution_count": 79,
   "id": "51b1b729",
   "metadata": {},
   "outputs": [],
   "source": [
    "data_11_2 = pd.read_csv(r'C:\\Users\\micha\\YandexDisk\\УЧЕБНЫЕ МАТЕРИАЛЫ\\II\\МатСтат\\Семинары\\Семинар 11\\sample_11_2_XY.csv',\n",
    "                        header=None, delimiter=';', decimal=',')"
   ]
  },
  {
   "cell_type": "code",
   "execution_count": 80,
   "id": "e219c283",
   "metadata": {},
   "outputs": [
    {
     "data": {
      "text/html": [
       "<div>\n",
       "<style scoped>\n",
       "    .dataframe tbody tr th:only-of-type {\n",
       "        vertical-align: middle;\n",
       "    }\n",
       "\n",
       "    .dataframe tbody tr th {\n",
       "        vertical-align: top;\n",
       "    }\n",
       "\n",
       "    .dataframe thead th {\n",
       "        text-align: right;\n",
       "    }\n",
       "</style>\n",
       "<table border=\"1\" class=\"dataframe\">\n",
       "  <thead>\n",
       "    <tr style=\"text-align: right;\">\n",
       "      <th></th>\n",
       "      <th>0</th>\n",
       "      <th>1</th>\n",
       "    </tr>\n",
       "  </thead>\n",
       "  <tbody>\n",
       "    <tr>\n",
       "      <th>0</th>\n",
       "      <td>-5.373397</td>\n",
       "      <td>-4.846481</td>\n",
       "    </tr>\n",
       "    <tr>\n",
       "      <th>1</th>\n",
       "      <td>-24.545615</td>\n",
       "      <td>-0.820939</td>\n",
       "    </tr>\n",
       "    <tr>\n",
       "      <th>2</th>\n",
       "      <td>-0.802851</td>\n",
       "      <td>22.656087</td>\n",
       "    </tr>\n",
       "    <tr>\n",
       "      <th>3</th>\n",
       "      <td>4.265231</td>\n",
       "      <td>9.088802</td>\n",
       "    </tr>\n",
       "    <tr>\n",
       "      <th>4</th>\n",
       "      <td>2.094642</td>\n",
       "      <td>4.045747</td>\n",
       "    </tr>\n",
       "    <tr>\n",
       "      <th>5</th>\n",
       "      <td>2.996778</td>\n",
       "      <td>1.863085</td>\n",
       "    </tr>\n",
       "    <tr>\n",
       "      <th>6</th>\n",
       "      <td>-9.620434</td>\n",
       "      <td>5.841623</td>\n",
       "    </tr>\n",
       "    <tr>\n",
       "      <th>7</th>\n",
       "      <td>NaN</td>\n",
       "      <td>16.223898</td>\n",
       "    </tr>\n",
       "    <tr>\n",
       "      <th>8</th>\n",
       "      <td>NaN</td>\n",
       "      <td>2.084858</td>\n",
       "    </tr>\n",
       "  </tbody>\n",
       "</table>\n",
       "</div>"
      ],
      "text/plain": [
       "           0          1\n",
       "0  -5.373397  -4.846481\n",
       "1 -24.545615  -0.820939\n",
       "2  -0.802851  22.656087\n",
       "3   4.265231   9.088802\n",
       "4   2.094642   4.045747\n",
       "5   2.996778   1.863085\n",
       "6  -9.620434   5.841623\n",
       "7        NaN  16.223898\n",
       "8        NaN   2.084858"
      ]
     },
     "execution_count": 80,
     "metadata": {},
     "output_type": "execute_result"
    }
   ],
   "source": [
    "data_11_2"
   ]
  },
  {
   "cell_type": "code",
   "execution_count": 81,
   "id": "c07eb539",
   "metadata": {},
   "outputs": [],
   "source": [
    "X_11_2 = data_11_2[0].tolist()\n",
    "X_11_2_data = [value for value in X_11_2 if str(value) != 'nan']\n",
    "n_x = len(X_11_2_data)"
   ]
  },
  {
   "cell_type": "code",
   "execution_count": 82,
   "id": "fcd43177",
   "metadata": {},
   "outputs": [],
   "source": [
    "Y_11_2_data = data_11_2[1].tolist()\n",
    "m_y = len(Y_11_2_data)"
   ]
  },
  {
   "cell_type": "markdown",
   "id": "cfa24d89",
   "metadata": {},
   "source": [
    "<img src = '1121.png'>"
   ]
  },
  {
   "cell_type": "markdown",
   "id": "a97a2985",
   "metadata": {},
   "source": [
    "<img src = '1122.png'>"
   ]
  },
  {
   "cell_type": "code",
   "execution_count": 83,
   "id": "34c6b304",
   "metadata": {},
   "outputs": [
    {
     "data": {
      "image/png": "[encoded data removed]",
      "text/latex": [
       "$\\displaystyle \\left( -4.426520775142857, \\  6.237409052666667\\right)$"
      ],
      "text/plain": [
       "(-4.426520775142857, 6.237409052666667)"
      ]
     },
     "execution_count": 83,
     "metadata": {},
     "output_type": "execute_result"
    }
   ],
   "source": [
    "X_mean = sum(X_11_2_data)/n_x\n",
    "Y_mean = sum(Y_11_2_data)/m_y\n",
    "X_mean, Y_mean"
   ]
  },
  {
   "cell_type": "code",
   "execution_count": 84,
   "id": "84d30798",
   "metadata": {},
   "outputs": [
    {
     "data": {
      "image/png": "[encoded data removed]",
      "text/latex": [
       "$\\displaystyle 103.15995374395847$"
      ],
      "text/plain": [
       "103.15995374395847"
      ]
     },
     "execution_count": 84,
     "metadata": {},
     "output_type": "execute_result"
    }
   ],
   "source": [
    "sx_2 = 0\n",
    "for value in range(len(X_11_2_data)):\n",
    "    sx_2 += (X_11_2_data[value]-X_mean)**2\n",
    "sx_2 = sx_2/(n_x - 1)\n",
    "sx_2"
   ]
  },
  {
   "cell_type": "code",
   "execution_count": 85,
   "id": "c3e0a38a",
   "metadata": {},
   "outputs": [
    {
     "data": {
      "image/png": "[encoded data removed]",
      "text/latex": [
       "$\\displaystyle 73.93058790066861$"
      ],
      "text/plain": [
       "73.93058790066861"
      ]
     },
     "execution_count": 85,
     "metadata": {},
     "output_type": "execute_result"
    }
   ],
   "source": [
    "sy_2 = 0\n",
    "for value in range(len(Y_11_2_data)):\n",
    "    sy_2 += (Y_11_2_data[value]-Y_mean)**2\n",
    "sy_2 = sy_2/(m_y - 1)\n",
    "sy_2"
   ]
  },
  {
   "cell_type": "code",
   "execution_count": 86,
   "id": "b92f996e",
   "metadata": {},
   "outputs": [
    {
     "data": {
      "image/png": "[encoded data removed]",
      "text/latex": [
       "$\\displaystyle 86.45745897636426$"
      ],
      "text/plain": [
       "86.45745897636426"
      ]
     },
     "execution_count": 86,
     "metadata": {},
     "output_type": "execute_result"
    }
   ],
   "source": [
    "s_var = (n_x-1)/(n_x + m_y - 2)*sx_2 + (m_y-1)/(n_x + m_y - 2)*sy_2 \n",
    "s_var"
   ]
  },
  {
   "cell_type": "code",
   "execution_count": 87,
   "id": "f127e445",
   "metadata": {},
   "outputs": [
    {
     "data": {
      "image/png": "[encoded data removed]",
      "text/latex": [
       "$\\displaystyle 9.298250318009528$"
      ],
      "text/plain": [
       "9.298250318009528"
      ]
     },
     "execution_count": 87,
     "metadata": {},
     "output_type": "execute_result"
    }
   ],
   "source": [
    "np.sqrt(s_var)"
   ]
  },
  {
   "cell_type": "markdown",
   "id": "b7c9ad5a",
   "metadata": {},
   "source": [
    "<img src = '1123.png'>"
   ]
  },
  {
   "cell_type": "code",
   "execution_count": 88,
   "id": "5a9c33dd",
   "metadata": {},
   "outputs": [
    {
     "data": {
      "image/png": "[encoded data removed]",
      "text/latex": [
       "$\\displaystyle -2.2757593115433266$"
      ],
      "text/plain": [
       "-2.2757593115433266"
      ]
     },
     "execution_count": 88,
     "metadata": {},
     "output_type": "execute_result"
    }
   ],
   "source": [
    "T = (X_mean - Y_mean)/(np.sqrt(s_var)*np.sqrt(1/n_x + 1/m_y))\n",
    "T"
   ]
  },
  {
   "cell_type": "markdown",
   "id": "ff13ed9f",
   "metadata": {},
   "source": [
    "## В нашем случае  $$\\large {H_{1}: \\mu_{X} \\neq \\mu_{Y}}$$"
   ]
  },
  {
   "cell_type": "markdown",
   "id": "e05088c1",
   "metadata": {},
   "source": [
    "<img src = '1124.png'>"
   ]
  },
  {
   "cell_type": "code",
   "execution_count": 89,
   "id": "ecdfb0ee",
   "metadata": {},
   "outputs": [
    {
     "data": {
      "text/plain": [
       "True"
      ]
     },
     "execution_count": 89,
     "metadata": {},
     "output_type": "execute_result"
    }
   ],
   "source": [
    "abs(X_mean - Y_mean) > s_var * np.sqrt(1/n_x + 1/m_y) * stats.t(n_x + m_y - 2).ppf(alpha/2)"
   ]
  },
  {
   "cell_type": "code",
   "execution_count": 90,
   "id": "d09db13b",
   "metadata": {},
   "outputs": [
    {
     "data": {
      "image/png": "[encoded data removed]",
      "text/latex": [
       "$\\displaystyle 2.263781279009663$"
      ],
      "text/plain": [
       "2.263781279009663"
      ]
     },
     "execution_count": 90,
     "metadata": {},
     "output_type": "execute_result"
    }
   ],
   "source": [
    "stats.t(n_x + m_y - 2).isf(alpha/2)"
   ]
  },
  {
   "cell_type": "markdown",
   "id": "f89b7739",
   "metadata": {},
   "source": [
    "<img src = '1125.png'>"
   ]
  },
  {
   "cell_type": "code",
   "execution_count": 91,
   "id": "095d3ff4",
   "metadata": {},
   "outputs": [
    {
     "data": {
      "image/png": "[encoded data removed]",
      "text/latex": [
       "$\\displaystyle 0.03910471219606815$"
      ],
      "text/plain": [
       "0.03910471219606815"
      ]
     },
     "execution_count": 91,
     "metadata": {},
     "output_type": "execute_result"
    }
   ],
   "source": [
    "pv_z = 2*(1-stats.t(n_x+m_y-2).cdf(abs(T)))\n",
    "pv_z"
   ]
  },
  {
   "cell_type": "markdown",
   "id": "e05be9f7",
   "metadata": {},
   "source": [
    "<img src = '113.png'>"
   ]
  },
  {
   "cell_type": "code",
   "execution_count": 92,
   "id": "d2fea126",
   "metadata": {},
   "outputs": [],
   "source": [
    "alpha = 0.05"
   ]
  },
  {
   "cell_type": "code",
   "execution_count": 93,
   "id": "193f6e76",
   "metadata": {},
   "outputs": [],
   "source": [
    "data_11_3 = pd.read_csv(r'C:\\Users\\micha\\YandexDisk\\УЧЕБНЫЕ МАТЕРИАЛЫ\\II\\МатСтат\\Семинары\\Семинар 11\\sample_11_3_XY.csv',\n",
    "                        header=None, delimiter=';', decimal=',')"
   ]
  },
  {
   "cell_type": "code",
   "execution_count": 94,
   "id": "79a66729",
   "metadata": {},
   "outputs": [
    {
     "data": {
      "text/html": [
       "<div>\n",
       "<style scoped>\n",
       "    .dataframe tbody tr th:only-of-type {\n",
       "        vertical-align: middle;\n",
       "    }\n",
       "\n",
       "    .dataframe tbody tr th {\n",
       "        vertical-align: top;\n",
       "    }\n",
       "\n",
       "    .dataframe thead th {\n",
       "        text-align: right;\n",
       "    }\n",
       "</style>\n",
       "<table border=\"1\" class=\"dataframe\">\n",
       "  <thead>\n",
       "    <tr style=\"text-align: right;\">\n",
       "      <th></th>\n",
       "      <th>0</th>\n",
       "      <th>1</th>\n",
       "    </tr>\n",
       "  </thead>\n",
       "  <tbody>\n",
       "    <tr>\n",
       "      <th>0</th>\n",
       "      <td>-15.150226</td>\n",
       "      <td>13.885537</td>\n",
       "    </tr>\n",
       "    <tr>\n",
       "      <th>1</th>\n",
       "      <td>-3.400070</td>\n",
       "      <td>10.702753</td>\n",
       "    </tr>\n",
       "    <tr>\n",
       "      <th>2</th>\n",
       "      <td>-8.550064</td>\n",
       "      <td>8.670199</td>\n",
       "    </tr>\n",
       "    <tr>\n",
       "      <th>3</th>\n",
       "      <td>-19.216233</td>\n",
       "      <td>7.589839</td>\n",
       "    </tr>\n",
       "    <tr>\n",
       "      <th>4</th>\n",
       "      <td>5.648119</td>\n",
       "      <td>7.774256</td>\n",
       "    </tr>\n",
       "    <tr>\n",
       "      <th>5</th>\n",
       "      <td>-14.615840</td>\n",
       "      <td>14.438547</td>\n",
       "    </tr>\n",
       "    <tr>\n",
       "      <th>6</th>\n",
       "      <td>-17.619797</td>\n",
       "      <td>8.280315</td>\n",
       "    </tr>\n",
       "    <tr>\n",
       "      <th>7</th>\n",
       "      <td>16.491683</td>\n",
       "      <td>11.390809</td>\n",
       "    </tr>\n",
       "    <tr>\n",
       "      <th>8</th>\n",
       "      <td>3.990775</td>\n",
       "      <td>16.392433</td>\n",
       "    </tr>\n",
       "    <tr>\n",
       "      <th>9</th>\n",
       "      <td>-12.973780</td>\n",
       "      <td>16.863755</td>\n",
       "    </tr>\n",
       "    <tr>\n",
       "      <th>10</th>\n",
       "      <td>-4.454214</td>\n",
       "      <td>12.307029</td>\n",
       "    </tr>\n",
       "    <tr>\n",
       "      <th>11</th>\n",
       "      <td>NaN</td>\n",
       "      <td>16.167436</td>\n",
       "    </tr>\n",
       "    <tr>\n",
       "      <th>12</th>\n",
       "      <td>NaN</td>\n",
       "      <td>9.445915</td>\n",
       "    </tr>\n",
       "    <tr>\n",
       "      <th>13</th>\n",
       "      <td>NaN</td>\n",
       "      <td>10.459070</td>\n",
       "    </tr>\n",
       "    <tr>\n",
       "      <th>14</th>\n",
       "      <td>NaN</td>\n",
       "      <td>11.532470</td>\n",
       "    </tr>\n",
       "  </tbody>\n",
       "</table>\n",
       "</div>"
      ],
      "text/plain": [
       "            0          1\n",
       "0  -15.150226  13.885537\n",
       "1   -3.400070  10.702753\n",
       "2   -8.550064   8.670199\n",
       "3  -19.216233   7.589839\n",
       "4    5.648119   7.774256\n",
       "5  -14.615840  14.438547\n",
       "6  -17.619797   8.280315\n",
       "7   16.491683  11.390809\n",
       "8    3.990775  16.392433\n",
       "9  -12.973780  16.863755\n",
       "10  -4.454214  12.307029\n",
       "11        NaN  16.167436\n",
       "12        NaN   9.445915\n",
       "13        NaN  10.459070\n",
       "14        NaN  11.532470"
      ]
     },
     "execution_count": 94,
     "metadata": {},
     "output_type": "execute_result"
    }
   ],
   "source": [
    "data_11_3"
   ]
  },
  {
   "cell_type": "code",
   "execution_count": 100,
   "id": "48e1357c",
   "metadata": {},
   "outputs": [],
   "source": [
    "X_11_3 = data_11_3[0].tolist()\n",
    "X_11_3_data = [value for value in X_11_3 if str(value) != 'nan']\n",
    "n_x = len(X_11_3_data)"
   ]
  },
  {
   "cell_type": "code",
   "execution_count": 99,
   "id": "8479c002",
   "metadata": {},
   "outputs": [],
   "source": [
    "Y_11_3_data = data_11_3[1].tolist()\n",
    "m_y = len(Y_11_3_data)"
   ]
  },
  {
   "cell_type": "code",
   "execution_count": 32,
   "id": "47a8cb63",
   "metadata": {},
   "outputs": [
    {
     "data": {
      "image/png": "[encoded data removed]",
      "text/latex": [
       "$\\displaystyle \\left( 11, \\  15\\right)$"
      ],
      "text/plain": [
       "(11, 15)"
      ]
     },
     "execution_count": 32,
     "metadata": {},
     "output_type": "execute_result"
    }
   ],
   "source": [
    "n_x, m_y"
   ]
  },
  {
   "cell_type": "markdown",
   "id": "b4b52366",
   "metadata": {},
   "source": [
    "<img src = '1131.png'>"
   ]
  },
  {
   "cell_type": "code",
   "execution_count": 101,
   "id": "d7f35fc6",
   "metadata": {},
   "outputs": [
    {
     "data": {
      "image/png": "[encoded data removed]",
      "text/latex": [
       "$\\displaystyle \\left( -6.349967884818182, \\  11.726690827133334\\right)$"
      ],
      "text/plain": [
       "(-6.349967884818182, 11.726690827133334)"
      ]
     },
     "execution_count": 101,
     "metadata": {},
     "output_type": "execute_result"
    }
   ],
   "source": [
    "X_mean = sum(X_11_3_data)/n_x\n",
    "Y_mean = sum(Y_11_3_data)/m_y\n",
    "X_mean, Y_mean "
   ]
  },
  {
   "cell_type": "markdown",
   "id": "dcad3b32",
   "metadata": {},
   "source": [
    "<img src = '1132.png'>"
   ]
  },
  {
   "cell_type": "code",
   "execution_count": 109,
   "id": "e15b9fc2",
   "metadata": {},
   "outputs": [
    {
     "data": {
      "image/png": "[encoded data removed]",
      "text/latex": [
       "$\\displaystyle 127.19561699080494$"
      ],
      "text/plain": [
       "127.19561699080494"
      ]
     },
     "execution_count": 109,
     "metadata": {},
     "output_type": "execute_result"
    }
   ],
   "source": [
    "sx_2 = 0\n",
    "for value in range(len(X_11_3_data)):\n",
    "    sx_2 += (X_11_3_data[value]-X_mean)**2\n",
    "sx_2 = sx_2/(n_x - 1)\n",
    "sx_2"
   ]
  },
  {
   "cell_type": "code",
   "execution_count": 110,
   "id": "767d1692",
   "metadata": {},
   "outputs": [
    {
     "data": {
      "image/png": "[encoded data removed]",
      "text/latex": [
       "$\\displaystyle 127.19561699080494$"
      ],
      "text/plain": [
       "127.19561699080494"
      ]
     },
     "execution_count": 110,
     "metadata": {},
     "output_type": "execute_result"
    }
   ],
   "source": [
    "np.var(X_11_3_data, ddof=1)"
   ]
  },
  {
   "cell_type": "code",
   "execution_count": 111,
   "id": "910eaff3",
   "metadata": {},
   "outputs": [
    {
     "data": {
      "image/png": "[encoded data removed]",
      "text/latex": [
       "$\\displaystyle 10.156649522199595$"
      ],
      "text/plain": [
       "10.156649522199595"
      ]
     },
     "execution_count": 111,
     "metadata": {},
     "output_type": "execute_result"
    }
   ],
   "source": [
    "sy_2 = 0\n",
    "for value in range(len(Y_11_3_data)):\n",
    "    sy_2 += (Y_11_3_data[value]-Y_mean)**2\n",
    "sy_2 = sy_2/(m_y - 1)\n",
    "sy_2"
   ]
  },
  {
   "cell_type": "code",
   "execution_count": 112,
   "id": "45b88d86",
   "metadata": {},
   "outputs": [
    {
     "data": {
      "image/png": "[encoded data removed]",
      "text/latex": [
       "$\\displaystyle 10.156649522199595$"
      ],
      "text/plain": [
       "10.156649522199595"
      ]
     },
     "execution_count": 112,
     "metadata": {},
     "output_type": "execute_result"
    }
   ],
   "source": [
    "np.var(Y_11_3_data, ddof=1)"
   ]
  },
  {
   "cell_type": "code",
   "execution_count": 113,
   "id": "5c4bb4b0",
   "metadata": {},
   "outputs": [
    {
     "data": {
      "image/png": "[encoded data removed]",
      "text/latex": [
       "$\\displaystyle 12.240347876401634$"
      ],
      "text/plain": [
       "12.240347876401634"
      ]
     },
     "execution_count": 113,
     "metadata": {},
     "output_type": "execute_result"
    }
   ],
   "source": [
    "s_w_var = sx_2/n_x + sy_2/m_y \n",
    "s_w_var"
   ]
  },
  {
   "cell_type": "markdown",
   "id": "9cc102c3",
   "metadata": {},
   "source": [
    "<img src = '1133.png'>"
   ]
  },
  {
   "cell_type": "code",
   "execution_count": 114,
   "id": "d358e856",
   "metadata": {},
   "outputs": [
    {
     "data": {
      "image/png": "[encoded data removed]",
      "text/latex": [
       "$\\displaystyle -5.166795565736609$"
      ],
      "text/plain": [
       "-5.166795565736609"
      ]
     },
     "execution_count": 114,
     "metadata": {},
     "output_type": "execute_result"
    }
   ],
   "source": [
    "Tw = (X_mean - Y_mean)/(np.sqrt(s_w_var))\n",
    "Tw"
   ]
  },
  {
   "cell_type": "markdown",
   "id": "6defd438",
   "metadata": {},
   "source": [
    "<img src = '1134.png'>"
   ]
  },
  {
   "cell_type": "code",
   "execution_count": 115,
   "id": "2ccea0e3",
   "metadata": {},
   "outputs": [
    {
     "data": {
      "image/png": "[encoded data removed]",
      "text/latex": [
       "$\\displaystyle 11.178054125463598$"
      ],
      "text/plain": [
       "11.178054125463598"
      ]
     },
     "execution_count": 115,
     "metadata": {},
     "output_type": "execute_result"
    }
   ],
   "source": [
    "f_hat = (s_w_var)**2/(sx_2**2/((n_x**2) * (n_x - 1)) + sy_2**2/((m_y**2) * (m_y - 1)))\n",
    "f_hat"
   ]
  },
  {
   "cell_type": "markdown",
   "id": "db3630be",
   "metadata": {},
   "source": [
    "<img src = '1135.png'>"
   ]
  },
  {
   "cell_type": "code",
   "execution_count": 39,
   "id": "cc29602e",
   "metadata": {},
   "outputs": [
    {
     "data": {
      "text/plain": [
       "True"
      ]
     },
     "execution_count": 39,
     "metadata": {},
     "output_type": "execute_result"
    }
   ],
   "source": [
    "abs(X_mean - Y_mean) > np.sqrt(s_w_var)*stats.t(f).ppf(alpha/2)"
   ]
  },
  {
   "cell_type": "code",
   "execution_count": 119,
   "id": "90ead494",
   "metadata": {},
   "outputs": [
    {
     "data": {
      "image/png": "[encoded data removed]",
      "text/latex": [
       "$\\displaystyle 2.1967152607030003$"
      ],
      "text/plain": [
       "2.1967152607030003"
      ]
     },
     "execution_count": 119,
     "metadata": {},
     "output_type": "execute_result"
    }
   ],
   "source": [
    "stats.t(f_hat).ppf(1-alpha/2)"
   ]
  },
  {
   "cell_type": "code",
   "execution_count": 120,
   "id": "aef8b7c2",
   "metadata": {},
   "outputs": [
    {
     "data": {
      "image/png": "[encoded data removed]",
      "text/latex": [
       "$\\displaystyle 2.1967152607030003$"
      ],
      "text/plain": [
       "2.1967152607030003"
      ]
     },
     "execution_count": 120,
     "metadata": {},
     "output_type": "execute_result"
    }
   ],
   "source": [
    "stats.t(f_hat).isf(alpha/2)"
   ]
  },
  {
   "cell_type": "code",
   "execution_count": 146,
   "id": "446733a5",
   "metadata": {},
   "outputs": [],
   "source": [
    "from scipy.stats import ttest_ind"
   ]
  },
  {
   "cell_type": "markdown",
   "id": "f7be4454",
   "metadata": {},
   "source": [
    "<img src = '1136.png'>"
   ]
  },
  {
   "cell_type": "code",
   "execution_count": 121,
   "id": "37407175",
   "metadata": {},
   "outputs": [
    {
     "data": {
      "image/png": "[encoded data removed]",
      "text/latex": [
       "$\\displaystyle 0.0002944430949933796$"
      ],
      "text/plain": [
       "0.0002944430949933796"
      ]
     },
     "execution_count": 121,
     "metadata": {},
     "output_type": "execute_result"
    }
   ],
   "source": [
    "pv_z = 2*(1 - stats.t(f_hat).cdf(abs(Tw)))\n",
    "pv_z"
   ]
  },
  {
   "cell_type": "code",
   "execution_count": 122,
   "id": "fa210408",
   "metadata": {},
   "outputs": [
    {
     "data": {
      "image/png": "[encoded data removed]",
      "text/latex": [
       "$\\displaystyle 0.00029444309499353444$"
      ],
      "text/plain": [
       "0.00029444309499353444"
      ]
     },
     "execution_count": 122,
     "metadata": {},
     "output_type": "execute_result"
    }
   ],
   "source": [
    "2*stats.t(f_hat).sf(abs(Tw))"
   ]
  },
  {
   "cell_type": "markdown",
   "id": "89747863",
   "metadata": {},
   "source": [
    "<img src = '114.png'>"
   ]
  },
  {
   "cell_type": "code",
   "execution_count": 126,
   "id": "c9247e7f",
   "metadata": {},
   "outputs": [],
   "source": [
    "alpha = 0.01"
   ]
  },
  {
   "cell_type": "code",
   "execution_count": 124,
   "id": "f9825877",
   "metadata": {},
   "outputs": [],
   "source": [
    "data_11_4 = pd.read_csv(r'C:\\Users\\micha\\YandexDisk\\УЧЕБНЫЕ МАТЕРИАЛЫ\\II\\МатСтат\\Семинары\\Семинар 11\\sample_11_4_XY.csv',\n",
    "                        header=None, delimiter=';', decimal=',')"
   ]
  },
  {
   "cell_type": "code",
   "execution_count": 125,
   "id": "c7081900",
   "metadata": {},
   "outputs": [
    {
     "data": {
      "text/html": [
       "<div>\n",
       "<style scoped>\n",
       "    .dataframe tbody tr th:only-of-type {\n",
       "        vertical-align: middle;\n",
       "    }\n",
       "\n",
       "    .dataframe tbody tr th {\n",
       "        vertical-align: top;\n",
       "    }\n",
       "\n",
       "    .dataframe thead th {\n",
       "        text-align: right;\n",
       "    }\n",
       "</style>\n",
       "<table border=\"1\" class=\"dataframe\">\n",
       "  <thead>\n",
       "    <tr style=\"text-align: right;\">\n",
       "      <th></th>\n",
       "      <th>0</th>\n",
       "      <th>1</th>\n",
       "    </tr>\n",
       "  </thead>\n",
       "  <tbody>\n",
       "    <tr>\n",
       "      <th>0</th>\n",
       "      <td>16.148154</td>\n",
       "      <td>23.311749</td>\n",
       "    </tr>\n",
       "    <tr>\n",
       "      <th>1</th>\n",
       "      <td>15.239861</td>\n",
       "      <td>24.208777</td>\n",
       "    </tr>\n",
       "    <tr>\n",
       "      <th>2</th>\n",
       "      <td>15.984268</td>\n",
       "      <td>24.136966</td>\n",
       "    </tr>\n",
       "    <tr>\n",
       "      <th>3</th>\n",
       "      <td>46.691057</td>\n",
       "      <td>28.808292</td>\n",
       "    </tr>\n",
       "    <tr>\n",
       "      <th>4</th>\n",
       "      <td>23.747293</td>\n",
       "      <td>28.068633</td>\n",
       "    </tr>\n",
       "    <tr>\n",
       "      <th>5</th>\n",
       "      <td>28.360236</td>\n",
       "      <td>17.817507</td>\n",
       "    </tr>\n",
       "    <tr>\n",
       "      <th>6</th>\n",
       "      <td>12.756945</td>\n",
       "      <td>28.074726</td>\n",
       "    </tr>\n",
       "    <tr>\n",
       "      <th>7</th>\n",
       "      <td>29.688829</td>\n",
       "      <td>23.536918</td>\n",
       "    </tr>\n",
       "    <tr>\n",
       "      <th>8</th>\n",
       "      <td>37.301532</td>\n",
       "      <td>22.982604</td>\n",
       "    </tr>\n",
       "    <tr>\n",
       "      <th>9</th>\n",
       "      <td>25.947037</td>\n",
       "      <td>NaN</td>\n",
       "    </tr>\n",
       "    <tr>\n",
       "      <th>10</th>\n",
       "      <td>19.965224</td>\n",
       "      <td>NaN</td>\n",
       "    </tr>\n",
       "    <tr>\n",
       "      <th>11</th>\n",
       "      <td>24.745643</td>\n",
       "      <td>NaN</td>\n",
       "    </tr>\n",
       "    <tr>\n",
       "      <th>12</th>\n",
       "      <td>38.514422</td>\n",
       "      <td>NaN</td>\n",
       "    </tr>\n",
       "    <tr>\n",
       "      <th>13</th>\n",
       "      <td>27.674434</td>\n",
       "      <td>NaN</td>\n",
       "    </tr>\n",
       "    <tr>\n",
       "      <th>14</th>\n",
       "      <td>23.859235</td>\n",
       "      <td>NaN</td>\n",
       "    </tr>\n",
       "    <tr>\n",
       "      <th>15</th>\n",
       "      <td>30.226973</td>\n",
       "      <td>NaN</td>\n",
       "    </tr>\n",
       "    <tr>\n",
       "      <th>16</th>\n",
       "      <td>27.005075</td>\n",
       "      <td>NaN</td>\n",
       "    </tr>\n",
       "  </tbody>\n",
       "</table>\n",
       "</div>"
      ],
      "text/plain": [
       "            0          1\n",
       "0   16.148154  23.311749\n",
       "1   15.239861  24.208777\n",
       "2   15.984268  24.136966\n",
       "3   46.691057  28.808292\n",
       "4   23.747293  28.068633\n",
       "5   28.360236  17.817507\n",
       "6   12.756945  28.074726\n",
       "7   29.688829  23.536918\n",
       "8   37.301532  22.982604\n",
       "9   25.947037        NaN\n",
       "10  19.965224        NaN\n",
       "11  24.745643        NaN\n",
       "12  38.514422        NaN\n",
       "13  27.674434        NaN\n",
       "14  23.859235        NaN\n",
       "15  30.226973        NaN\n",
       "16  27.005075        NaN"
      ]
     },
     "execution_count": 125,
     "metadata": {},
     "output_type": "execute_result"
    }
   ],
   "source": [
    "data_11_4"
   ]
  },
  {
   "cell_type": "code",
   "execution_count": 127,
   "id": "2be034d2",
   "metadata": {},
   "outputs": [],
   "source": [
    "X_11_4_data = data_11_4[0].tolist()\n",
    "n_x = len(X_11_4_data)"
   ]
  },
  {
   "cell_type": "code",
   "execution_count": 128,
   "id": "1cbccc06",
   "metadata": {},
   "outputs": [],
   "source": [
    "Y_11_4_data = data_11_4[1].tolist()\n",
    "Y_11_4_data = [value for value in Y_11_4_data if str(value) != 'nan']\n",
    "m_y = len(Y_11_4_data)"
   ]
  },
  {
   "cell_type": "code",
   "execution_count": 129,
   "id": "da1c9c83",
   "metadata": {},
   "outputs": [
    {
     "data": {
      "image/png": "[encoded data removed]",
      "text/latex": [
       "$\\displaystyle \\left( 17, \\  9\\right)$"
      ],
      "text/plain": [
       "(17, 9)"
      ]
     },
     "execution_count": 129,
     "metadata": {},
     "output_type": "execute_result"
    }
   ],
   "source": [
    "n_x, m_y"
   ]
  },
  {
   "cell_type": "markdown",
   "id": "2de86160",
   "metadata": {},
   "source": [
    "<img src = '1131.png'>"
   ]
  },
  {
   "cell_type": "code",
   "execution_count": 130,
   "id": "5961154d",
   "metadata": {},
   "outputs": [],
   "source": [
    "X_mean = sum(X_11_4_data)/n_x\n",
    "Y_mean = sum(Y_11_4_data)/m_y"
   ]
  },
  {
   "cell_type": "markdown",
   "id": "7e5763b9",
   "metadata": {},
   "source": [
    "<img src = '1132.png'>"
   ]
  },
  {
   "cell_type": "code",
   "execution_count": 131,
   "id": "29eefcd0",
   "metadata": {},
   "outputs": [],
   "source": [
    "sx_2 = 0\n",
    "for value in range(len(X_11_4_data)):\n",
    "    sx_2 += (X_11_4_data[value]-X_mean)**2\n",
    "sx_2 = sx_2/(n_x - 1)"
   ]
  },
  {
   "cell_type": "code",
   "execution_count": 132,
   "id": "a29472ce",
   "metadata": {},
   "outputs": [],
   "source": [
    "sy_2 = 0\n",
    "for value in range(len(Y_11_4_data)):\n",
    "    sy_2 += (Y_11_4_data[value]-Y_mean)**2\n",
    "sy_2 = sy_2/(m_y - 1)"
   ]
  },
  {
   "cell_type": "code",
   "execution_count": 133,
   "id": "7687ba9e",
   "metadata": {},
   "outputs": [
    {
     "data": {
      "image/png": "[encoded data removed]",
      "text/latex": [
       "$\\displaystyle 6.039609273884488$"
      ],
      "text/plain": [
       "6.039609273884488"
      ]
     },
     "execution_count": 133,
     "metadata": {},
     "output_type": "execute_result"
    }
   ],
   "source": [
    "s_w_var = sx_2/n_x + sy_2/m_y \n",
    "s_w_var"
   ]
  },
  {
   "cell_type": "markdown",
   "id": "baeba1a9",
   "metadata": {},
   "source": [
    "<img src = '1133.png'>"
   ]
  },
  {
   "cell_type": "code",
   "execution_count": 134,
   "id": "7abbcdf1",
   "metadata": {},
   "outputs": [
    {
     "data": {
      "image/png": "[encoded data removed]",
      "text/latex": [
       "$\\displaystyle 0.6346186667119256$"
      ],
      "text/plain": [
       "0.6346186667119256"
      ]
     },
     "execution_count": 134,
     "metadata": {},
     "output_type": "execute_result"
    }
   ],
   "source": [
    "Tw = (X_mean - Y_mean)/(np.sqrt(s_w_var))\n",
    "Tw"
   ]
  },
  {
   "cell_type": "markdown",
   "id": "0c94ed91",
   "metadata": {},
   "source": [
    "<img src = '1134.png'>"
   ]
  },
  {
   "cell_type": "code",
   "execution_count": 143,
   "id": "7ef33a15",
   "metadata": {},
   "outputs": [
    {
     "data": {
      "image/png": "[encoded data removed]",
      "text/latex": [
       "$\\displaystyle 22.58120255174043$"
      ],
      "text/plain": [
       "22.58120255174043"
      ]
     },
     "execution_count": 143,
     "metadata": {},
     "output_type": "execute_result"
    }
   ],
   "source": [
    "f = (s_w_var)**2/(sx_2**2/((n_x**2) * (n_x - 1)) + sy_2**2/((m_y**2) * (m_y - 1)))\n",
    "f"
   ]
  },
  {
   "cell_type": "markdown",
   "id": "a3407b53",
   "metadata": {},
   "source": [
    "<img src = '1135.png'>"
   ]
  },
  {
   "cell_type": "code",
   "execution_count": 144,
   "id": "45c04f7f",
   "metadata": {},
   "outputs": [
    {
     "data": {
      "text/plain": [
       "True"
      ]
     },
     "execution_count": 144,
     "metadata": {},
     "output_type": "execute_result"
    }
   ],
   "source": [
    "abs(X_mean - Y_mean) > np.sqrt(s_w_var)*stats.t(f).ppf(alpha/2)"
   ]
  },
  {
   "cell_type": "code",
   "execution_count": 145,
   "id": "6ed332da",
   "metadata": {},
   "outputs": [
    {
     "data": {
      "image/png": "[encoded data removed]",
      "text/latex": [
       "$\\displaystyle 2.8119854038261805$"
      ],
      "text/plain": [
       "2.8119854038261805"
      ]
     },
     "execution_count": 145,
     "metadata": {},
     "output_type": "execute_result"
    }
   ],
   "source": [
    "stats.t(f).isf(alpha/2)"
   ]
  },
  {
   "cell_type": "markdown",
   "id": "24b39c63",
   "metadata": {},
   "source": [
    "<img src = '1136.png'>"
   ]
  },
  {
   "cell_type": "code",
   "execution_count": 141,
   "id": "67254b3d",
   "metadata": {},
   "outputs": [
    {
     "data": {
      "image/png": "[encoded data removed]",
      "text/latex": [
       "$\\displaystyle 0.5320548423253371$"
      ],
      "text/plain": [
       "0.5320548423253371"
      ]
     },
     "execution_count": 141,
     "metadata": {},
     "output_type": "execute_result"
    }
   ],
   "source": [
    "pv_z = 2*(1 - stats.t(f).cdf(abs(Tw)))\n",
    "pv_z"
   ]
  },
  {
   "cell_type": "code",
   "execution_count": 142,
   "id": "3fb9361b",
   "metadata": {},
   "outputs": [
    {
     "data": {
      "image/png": "[encoded data removed]",
      "text/latex": [
       "$\\displaystyle 0.5320548423253371$"
      ],
      "text/plain": [
       "0.5320548423253371"
      ]
     },
     "execution_count": 142,
     "metadata": {},
     "output_type": "execute_result"
    }
   ],
   "source": [
    "2*stats.t(f).sf(abs(Tw))"
   ]
  },
  {
   "cell_type": "code",
   "execution_count": 148,
   "id": "fa797254",
   "metadata": {},
   "outputs": [
    {
     "data": {
      "text/plain": [
       "Ttest_indResult(statistic=0.6346186667119241, pvalue=0.532054842325338)"
      ]
     },
     "execution_count": 148,
     "metadata": {},
     "output_type": "execute_result"
    }
   ],
   "source": [
    "ttest_ind(X_11_4_data,Y_11_4_data,equal_var = False)"
   ]
  }
 ],
 "metadata": {
  "kernelspec": {
   "display_name": "Python 3 (ipykernel)",
   "language": "python",
   "name": "python3"
  },
  "language_info": {
   "codemirror_mode": {
    "name": "ipython",
    "version": 3
   },
   "file_extension": ".py",
   "mimetype": "text/x-python",
   "name": "python",
   "nbconvert_exporter": "python",
   "pygments_lexer": "ipython3",
   "version": "3.9.7"
  }
 },
 "nbformat": 4,
 "nbformat_minor": 5
}
