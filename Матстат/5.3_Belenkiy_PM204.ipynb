{
 "cells": [
  {
   "cell_type": "code",
   "execution_count": 3,
   "metadata": {},
   "outputs": [],
   "source": [
    "import numpy as np \n",
    "from collections import Counter"
   ]
  },
  {
   "cell_type": "markdown",
   "metadata": {},
   "source": [
    "<img src=\"53.png\"/>"
   ]
  },
  {
   "cell_type": "code",
   "execution_count": 4,
   "metadata": {},
   "outputs": [],
   "source": [
    "combinations = 19\n",
    "k = [i for i in range(1,7)]\n",
    "X_k = [1/6] * 6\n",
    "X_k_forexample = ['1/6'] * 6"
   ]
  },
  {
   "cell_type": "markdown",
   "metadata": {},
   "source": [
    "#### Объём генеральной совокупности"
   ]
  },
  {
   "cell_type": "code",
   "execution_count": 6,
   "metadata": {},
   "outputs": [
    {
     "data": {
      "text/plain": [
       "36"
      ]
     },
     "execution_count": 6,
     "metadata": {},
     "output_type": "execute_result"
    }
   ],
   "source": [
    "N = len(X_k)**2\n",
    "N"
   ]
  },
  {
   "cell_type": "markdown",
   "metadata": {},
   "source": [
    "#### Распределение вероятностей на синей и красной костях"
   ]
  },
  {
   "cell_type": "code",
   "execution_count": 19,
   "metadata": {},
   "outputs": [
    {
     "name": "stdout",
     "output_type": "stream",
     "text": [
      "1   1/6\n",
      "2   1/6\n",
      "3   1/6\n",
      "4   1/6\n",
      "5   1/6\n",
      "6   1/6\n"
     ]
    }
   ],
   "source": [
    "distr = dict(zip(k, X_k))\n",
    "distr_ex = dict(zip(k,X_k_forexample))\n",
    "for value in distr:\n",
    "    print(value,' ', distr_ex[value])"
   ]
  },
  {
   "cell_type": "markdown",
   "metadata": {},
   "source": [
    "#### Генеральное среднее для синей и красной костей (т.к. ф.р. совпадают)"
   ]
  },
  {
   "cell_type": "code",
   "execution_count": 24,
   "metadata": {},
   "outputs": [
    {
     "data": {
      "text/plain": [
       "(3.5, 3.5)"
      ]
     },
     "execution_count": 24,
     "metadata": {},
     "output_type": "execute_result"
    }
   ],
   "source": [
    "gen_mean_red = 0\n",
    "for value in distr:\n",
    "    gen_mean_red += (value) * distr[value]\n",
    "gen_mean = np.round(gen_mean_red / N,3)\n",
    "gen_mean_blue = gen_mean_red\n",
    "gen_mean_blue, gen_mean_red"
   ]
  },
  {
   "cell_type": "markdown",
   "metadata": {},
   "source": [
    "#### Генеральная дисперсия для синей и красной костей (т.к. ф.р. совпадают)"
   ]
  },
  {
   "cell_type": "code",
   "execution_count": 34,
   "metadata": {},
   "outputs": [
    {
     "data": {
      "text/plain": [
       "(2.917, 2.917)"
      ]
     },
     "execution_count": 34,
     "metadata": {},
     "output_type": "execute_result"
    }
   ],
   "source": [
    "gen_D_red = 0\n",
    "for value in distr:\n",
    "    gen_D_red += (value)**2 * distr[value]\n",
    "gen_var_red = gen_var_blue = np.round((gen_D_red - (gen_mean_red)**2),3)\n",
    "gen_var_red, gen_var_blue"
   ]
  },
  {
   "cell_type": "markdown",
   "metadata": {},
   "source": [
    "#### Так как это независимые с.в. => E суммы = Сумма E[i], Var суммы = Сумма Var[i]"
   ]
  },
  {
   "cell_type": "markdown",
   "metadata": {},
   "source": [
    "#### Математическое ожидание среднего значения среднего арифметического сумм"
   ]
  },
  {
   "cell_type": "code",
   "execution_count": 37,
   "metadata": {},
   "outputs": [
    {
     "data": {
      "text/plain": [
       "7.0"
      ]
     },
     "execution_count": 37,
     "metadata": {},
     "output_type": "execute_result"
    }
   ],
   "source": [
    "E = gen_mean_blue + gen_mean_red\n",
    "E"
   ]
  },
  {
   "cell_type": "markdown",
   "metadata": {},
   "source": [
    "#### Дисперсия среднего значения среднего арифметического сумм (в случае бесповторной выборки)"
   ]
  },
  {
   "cell_type": "code",
   "execution_count": 50,
   "metadata": {},
   "outputs": [
    {
     "data": {
      "text/plain": [
       "0.14914"
      ]
     },
     "execution_count": 50,
     "metadata": {},
     "output_type": "execute_result"
    }
   ],
   "source": [
    "D = 0\n",
    "sum_of_gen_var = gen_var_red+gen_var_blue\n",
    "for value in distr:\n",
    "    D += (value)**2 * distr[value]\n",
    "gen_var = round(((sum_of_gen_var)/(combinations) * ((N*N - combinations) / (N*N - 1))),5)\n",
    "gen_var"
   ]
  },
  {
   "cell_type": "code",
   "execution_count": 8,
   "metadata": {},
   "outputs": [
    {
     "name": "stdout",
     "output_type": "stream",
     "text": [
      " E(X_mean) = 7.00012\n",
      " Var = 0.14913\n"
     ]
    }
   ],
   "source": [
    "N = 100000\n",
    "result = []\n",
    "for i in range(N):\n",
    "    list_rand = []\n",
    "    X_k = [i for i in range(1,7)]\n",
    "    Y_k = [i for i in range(1,7)]\n",
    "    while len(list_rand) < 19:\n",
    "        x = np.random.choice(X_k)\n",
    "        y = np.random.choice(Y_k)\n",
    "        if [x,y] in list_rand:\n",
    "            continue\n",
    "        else:\n",
    "            list_rand.append([x,y])\n",
    "    for j in range(len(list_rand)):\n",
    "        list_rand[j] = list_rand[j][0] + list_rand[j][1]\n",
    "    result.append(np.mean(list_rand))\n",
    "\n",
    "print(f' E(X_mean) = {round(np.mean(result),5)}')\n",
    "print(f' Var = {round(np.var(result),5)}')"
   ]
  }
 ],
 "metadata": {
  "kernelspec": {
   "display_name": "Python 3",
   "language": "python",
   "name": "python3"
  },
  "language_info": {
   "codemirror_mode": {
    "name": "ipython",
    "version": 3
   },
   "file_extension": ".py",
   "mimetype": "text/x-python",
   "name": "python",
   "nbconvert_exporter": "python",
   "pygments_lexer": "ipython3",
   "version": "3.8.3"
  }
 },
 "nbformat": 4,
 "nbformat_minor": 5
}
