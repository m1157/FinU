{
 "cells": [
  {
   "cell_type": "code",
   "execution_count": 1,
   "metadata": {},
   "outputs": [],
   "source": [
    "from numpy import log as ln\n",
    "import math"
   ]
  },
  {
   "cell_type": "markdown",
   "metadata": {},
   "source": [
    "### Функция распределения Парето:"
   ]
  },
  {
   "cell_type": "markdown",
   "metadata": {},
   "source": [
    "$${\\displaystyle F_{X}(x)=P(X<x)=1-\\left({\\frac {x_{\\text{m}}}{x}}\\right)^{\\alpha},\\ \\forall x\\geqslant x_{\\text{m}},}$$"
   ]
  },
  {
   "cell_type": "markdown",
   "metadata": {},
   "source": [
    "### Плотность вероятности Парето:"
   ]
  },
  {
   "cell_type": "markdown",
   "metadata": {},
   "source": [
    "$${\\displaystyle f_{X}(x)={\\begin{cases}{\\dfrac {\\alpha x_{m}^{\\alpha}}{x^{\\alpha+1}}},&x\\geqslant x_{m},\\\\[1ex]0,&x<x_{m}.\\end{cases}}}$$"
   ]
  },
  {
   "cell_type": "markdown",
   "metadata": {},
   "source": [
    "### Выборка:"
   ]
  },
  {
   "cell_type": "markdown",
   "metadata": {},
   "source": [
    "$$X_1,X_2,\\ldots,X_n \\text{ - выборка из } \\mathscr{L} \\sim {\\mathrm  {Pareto}}\\left(\\alpha, x_{0}\\right)$$"
   ]
  },
  {
   "cell_type": "code",
   "execution_count": 2,
   "metadata": {},
   "outputs": [],
   "source": [
    "sample = [83.2815, 104.63, 83.1186, 111.476, 101.831, 100.394, 89.323,\n",
    "85.3818, 90.3476, 84.1289, 87.4451, 108.611, 132.519, 90.0881,\n",
    "87.3489, 105.337, 96.964, 116.006, 100.085, 133.389, 94.9692,\n",
    "99.8888, 92.845, 109.135, 85.9152, 121.705, 91.3636, 89.9281,\n",
    "92.9651, 103.216, 94.1352, 95.0041, 104.767, 91.208, 86.3214,\n",
    "83.7228, 90.8703, 90.4818, 91.9118, 84.8324, 83.9389, 84.3708,\n",
    "83.0473, 87.761, 96.4316, 110.628, 114.663, 83.5763, 83.0532,\n",
    "87.0971, 91.6392, 91.2448, 117.774, 97.9921, 90.0336, 99.9724,\n",
    "85.436, 85.2572, 115.316, 127.525, 100.954, 86.8765, 88.6299, 106.63,\n",
    "99.6983, 85.4192, 89.0741, 84.069, 102.123, 83.9079, 92.5971,\n",
    "126.253, 89.2391, 108.734, 102.473, 94.6964, 83.1918, 90.7754,\n",
    "86.5664, 83.4165, 90.6296, 84.7861, 94.6691, 93.8493, 103.769,\n",
    "85.5955, 91.7116, 149.638, 83.5054, 99.4439, 94.912, 98.1184,\n",
    "90.4149, 88.071, 88.8998, 85.9226, 130.269, 128.387, 103.424, 119.973]"
   ]
  },
  {
   "cell_type": "code",
   "execution_count": 3,
   "metadata": {},
   "outputs": [],
   "source": [
    "n = len(sample)\n",
    "x_0 = 83\n",
    "m = 0"
   ]
  },
  {
   "cell_type": "markdown",
   "metadata": {},
   "source": [
    "<img src = '86.jpg'>"
   ]
  },
  {
   "cell_type": "markdown",
   "metadata": {},
   "source": [
    "$${\\hat \\alpha_{омп}}= {\\frac n {{\\sum \\limits _{{i=1}}^{n}lnx_{i}}-nlnx_{0}}}$$"
   ]
  },
  {
   "cell_type": "code",
   "execution_count": 4,
   "metadata": {},
   "outputs": [],
   "source": [
    "for value in sample:\n",
    "    m += ln(value)\n",
    "k = n*ln(x_0)"
   ]
  },
  {
   "cell_type": "code",
   "execution_count": 5,
   "metadata": {},
   "outputs": [
    {
     "data": {
      "text/plain": [
       "6.830544174746566"
      ]
     },
     "execution_count": 5,
     "metadata": {},
     "output_type": "execute_result"
    }
   ],
   "source": [
    "lambda_omp = n/(m-k)\n",
    "lambda_omp"
   ]
  },
  {
   "cell_type": "markdown",
   "metadata": {},
   "source": [
    "$${\\hat \\alpha_{омп}}= 6{,}830544$$"
   ]
  }
 ],
 "metadata": {
  "kernelspec": {
   "display_name": "Python 3",
   "language": "python",
   "name": "python3"
  },
  "language_info": {
   "codemirror_mode": {
    "name": "ipython",
    "version": 3
   },
   "file_extension": ".py",
   "mimetype": "text/x-python",
   "name": "python",
   "nbconvert_exporter": "python",
   "pygments_lexer": "ipython3",
   "version": "3.8.3"
  }
 },
 "nbformat": 4,
 "nbformat_minor": 5
}
